{
 "cells": [
  {
   "cell_type": "markdown",
   "metadata": {
    "collapsed": true,
    "pycharm": {
     "name": "#%% md\n"
    }
   },
   "source": [
    "# autoencoder를 활용하여 Fashion MNIST Dataset의 Denosing 실험"
   ]
  },
  {
   "cell_type": "code",
   "execution_count": 61,
   "metadata": {
    "pycharm": {
     "name": "#%%\n"
    }
   },
   "outputs": [],
   "source": [
    "import torch\n",
    "import torchvision\n",
    "import torch.nn.functional as F\n",
    "from torch import nn, optim\n",
    "from torchvision import transforms, datasets\n",
    "from torch.utils.data import DataLoader"
   ]
  },
  {
   "cell_type": "code",
   "execution_count": 110,
   "metadata": {
    "pycharm": {
     "name": "#%%\n"
    }
   },
   "outputs": [],
   "source": [
    "def load_dataset(batch_size=64, is_train=True):\n",
    "    # For Debugging\n",
    "    torch.manual_seed(42)\n",
    "    noise_set = datasets.FashionMNIST(\n",
    "        root      = './dataset',\n",
    "        train     = True,\n",
    "        download  = True,\n",
    "        transform = transforms.Compose([\n",
    "            transforms.ToTensor(),\n",
    "        ])\n",
    "    )\n",
    "\n",
    "    _noise_loader = DataLoader(\n",
    "        dataset     = noise_set,\n",
    "        batch_size  = batch_size,\n",
    "        shuffle     = True,\n",
    "        num_workers = 2\n",
    "    )\n",
    "\n",
    "    return _noise_loader\n",
    "\n",
    "data_loader = load_dataset()"
   ]
  },
  {
   "cell_type": "markdown",
   "metadata": {
    "pycharm": {
     "name": "#%% md\n"
    }
   },
   "source": [
    "## 모델 정의"
   ]
  },
  {
   "cell_type": "code",
   "execution_count": 111,
   "metadata": {
    "pycharm": {
     "name": "#%%\n"
    }
   },
   "outputs": [],
   "source": [
    "class Autoencoder(nn.Module):\n",
    "    def __init__(self):\n",
    "        super(Autoencoder, self).__init__()\n",
    "\n",
    "        self.encoder = nn.Sequential(\n",
    "            nn.Linear(28*28, 128),\n",
    "            nn.ReLU(),\n",
    "            nn.Linear(128, 64),\n",
    "            nn.ReLU(),\n",
    "            nn.Linear(64, 32),\n",
    "            nn.ReLU(),\n",
    "            nn.Linear(32, 10),   # 입력의 특징을 3차원으로 압축합니다\n",
    "        )\n",
    "        self.decoder = nn.Sequential(\n",
    "            nn.Linear(10, 32),\n",
    "            nn.ReLU(),\n",
    "            nn.Linear(32, 64),\n",
    "            nn.ReLU(),\n",
    "            nn.Linear(64, 128),\n",
    "            nn.ReLU(),\n",
    "            nn.Linear(128, 28*28),\n",
    "            nn.Sigmoid(),       # 픽셀당 0과 1 사이로 값을 출력합니다\n",
    "        )\n",
    "\n",
    "    def forward(self, x):\n",
    "        encoded = self.encoder(x)\n",
    "        decoded = self.decoder(encoded)\n",
    "        return decoded"
   ]
  },
  {
   "cell_type": "markdown",
   "metadata": {
    "pycharm": {
     "name": "#%% md\n"
    }
   },
   "source": [
    "## 모델 학습"
   ]
  },
  {
   "cell_type": "code",
   "execution_count": 121,
   "metadata": {
    "pycharm": {
     "name": "#%%\n"
    }
   },
   "outputs": [],
   "source": [
    "import torch.optim as optim\n",
    "import torch.nn as nn\n",
    "import time\n",
    "import copy"
   ]
  },
  {
   "cell_type": "code",
   "execution_count": 122,
   "metadata": {
    "pycharm": {
     "name": "#%%\n"
    }
   },
   "outputs": [],
   "source": [
    "def AddGaussianNoise(tensor, std=0.1, mean=0):\n",
    "    return tensor + torch.randn(tensor.size()) * std + mean"
   ]
  },
  {
   "cell_type": "code",
   "execution_count": 123,
   "metadata": {
    "pycharm": {
     "name": "#%%\n"
    }
   },
   "outputs": [],
   "source": [
    "NUM_OF_EPOCH = 20\n",
    "\n",
    "device = torch.device(\"cuda:0\" if torch.cuda.is_available() else \"cpu\")\n",
    "\n",
    "model = Autoencoder()\n",
    "model.to(device)\n",
    "\n",
    "optimizer = optim.Adam(model.parameters(), lr=0.005) # 기울기 업데이트 -> how to?\n",
    "criterion = nn.MSELoss()# y_hat과 y의 차이를 구함\n",
    "\n",
    "best_model_weights = copy.deepcopy(model.state_dict())\n",
    "best_loss = float(\"inf\")"
   ]
  },
  {
   "cell_type": "code",
   "execution_count": 124,
   "metadata": {
    "pycharm": {
     "name": "#%%\n"
    }
   },
   "outputs": [
    {
     "name": "stdout",
     "output_type": "stream",
     "text": [
      "Epoch 1/20: train Loss: 0.0340\n",
      "Epoch 2/20: train Loss: 0.0227\n",
      "Epoch 3/20: train Loss: 0.0209\n",
      "Epoch 4/20: train Loss: 0.0197\n",
      "Epoch 5/20: train Loss: 0.0187\n",
      "Epoch 6/20: train Loss: 0.0180\n",
      "Epoch 7/20: train Loss: 0.0173\n",
      "Epoch 8/20: train Loss: 0.0169\n",
      "Epoch 9/20: train Loss: 0.0167\n",
      "Epoch 10/20: train Loss: 0.0166\n",
      "Epoch 11/20: train Loss: 0.0164\n",
      "Epoch 12/20: train Loss: 0.0163\n",
      "Epoch 13/20: train Loss: 0.0162\n",
      "Epoch 14/20: train Loss: 0.0161\n",
      "Epoch 15/20: train Loss: 0.0161\n",
      "Epoch 16/20: train Loss: 0.0159\n",
      "Epoch 17/20: train Loss: 0.0158\n",
      "Epoch 18/20: train Loss: 0.0157\n",
      "Epoch 19/20: train Loss: 0.0157\n",
      "Epoch 20/20: train Loss: 0.0155\n"
     ]
    }
   ],
   "source": [
    "for epoch in range(NUM_OF_EPOCH):\n",
    "    model.train()\n",
    "\n",
    "    running_loss = 0.0\n",
    "\n",
    "    for image, _ in data_loader:\n",
    "        inputs = AddGaussianNoise(image).view(-1, 28*28).to(device)\n",
    "        answer = image.view(-1, 28*28).to(device)\n",
    "        optimizer.zero_grad() # 이전에 구했던 기울기를 0으로 초기화 함\n",
    "\n",
    "        outputs = model(inputs) # 네트워크를 통과시킴 => computational graph가 만들어짐\n",
    "        loss = criterion(outputs, answer)\n",
    "\n",
    "        # back-propagation\n",
    "        loss.backward()\n",
    "        optimizer.step()\n",
    "\n",
    "        running_loss += float(loss.item() * inputs.size(0))\n",
    "\n",
    "    epoch_loss = running_loss / len(data_loader.dataset)\n",
    "\n",
    "    print('Epoch {}/{}: {} Loss: {:.4f}'.format(epoch + 1, NUM_OF_EPOCH,\"train\", epoch_loss))\n",
    "\n",
    "    if epoch_loss < best_loss:\n",
    "        best_loss = epoch_loss\n",
    "        best_model_weights = copy.deepcopy(model.state_dict())"
   ]
  },
  {
   "cell_type": "code",
   "execution_count": 125,
   "metadata": {
    "pycharm": {
     "name": "#%%\n"
    }
   },
   "outputs": [],
   "source": [
    "# save model weight\n",
    "torch.save(best_model_weights, './weights/best_weights.pth')"
   ]
  },
  {
   "cell_type": "markdown",
   "metadata": {
    "pycharm": {
     "name": "#%% md\n"
    }
   },
   "source": [
    "### 학습이 잘 되었는지 시각화"
   ]
  },
  {
   "cell_type": "code",
   "execution_count": 126,
   "metadata": {
    "pycharm": {
     "name": "#%%\n"
    }
   },
   "outputs": [],
   "source": [
    "import matplotlib.pyplot as plt"
   ]
  },
  {
   "cell_type": "code",
   "execution_count": 129,
   "metadata": {
    "pycharm": {
     "name": "#%%\n"
    }
   },
   "outputs": [],
   "source": [
    "# testing\n",
    "with torch.no_grad():\n",
    "    test_data = data_loader.dataset[0][0].view(-1, 28*28)\n",
    "    test_noise = AddGaussianNoise(test_data).to(device)\n",
    "    test_output = model(test_noise)\n"
   ]
  },
  {
   "cell_type": "code",
   "execution_count": 131,
   "metadata": {
    "pycharm": {
     "name": "#%%\n"
    }
   },
   "outputs": [
    {
     "data": {
      "text/plain": [
       "<matplotlib.image.AxesImage at 0x7fe6828ecdf0>"
      ]
     },
     "execution_count": 131,
     "metadata": {},
     "output_type": "execute_result"
    },
    {
     "data": {
      "image/png": "[encoded data removed]",
      "text/plain": [
       "<Figure size 1080x1080 with 3 Axes>"
      ]
     },
     "metadata": {
      "needs_background": "light"
     },
     "output_type": "display_data"
    }
   ],
   "source": [
    "# 시각화\n",
    "test_data = test_data.view(28,28).to(\"cpu\")\n",
    "test_noise = test_noise.view(28,28).to(\"cpu\")\n",
    "test_output = test_output.view(28,28).to(\"cpu\")\n",
    "\n",
    "f, a = plt.subplots(1, 3, figsize=(15, 15))\n",
    "a[0].set_title('origin')\n",
    "a[1].set_title('noise')\n",
    "a[2].set_title('output')\n",
    "a[0].imshow(test_data, cmap='gray')\n",
    "a[1].imshow(test_noise, cmap='gray')\n",
    "a[2].imshow(test_output.detach(), cmap='gray')"
   ]
  }
 ],
 "metadata": {
  "kernelspec": {
   "display_name": "Python 3 (ipykernel)",
   "language": "python",
   "name": "python3"
  },
  "language_info": {
   "codemirror_mode": {
    "name": "ipython",
    "version": 3
   },
   "file_extension": ".py",
   "mimetype": "text/x-python",
   "name": "python",
   "nbconvert_exporter": "python",
   "pygments_lexer": "ipython3",
   "version": "3.8.10"
  }
 },
 "nbformat": 4,
 "nbformat_minor": 1
}
