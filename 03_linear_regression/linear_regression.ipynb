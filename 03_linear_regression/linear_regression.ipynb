{
 "cells": [
  {
   "cell_type": "markdown",
   "metadata": {
    "collapsed": true,
    "pycharm": {
     "name": "#%% md\n"
    }
   },
   "source": [
    "# 선형 회귀를 이용한 StackOverflow의 질문 수 예측"
   ]
  },
  {
   "cell_type": "markdown",
   "source": [
    "Dataset : MLTollsStackOverflow.csv (2009년 ~ 2019년 까지의 월별 stackoverflow 질문 수 데이터)\n",
    "\n",
    "출처 : https://www.kaggle.com/aishu200023/stackindex"
   ],
   "metadata": {
    "collapsed": false,
    "pycharm": {
     "name": "#%% md\n"
    }
   }
  },
  {
   "cell_type": "markdown",
   "source": [
    "### 연구 배경\n",
    "StackOverflow는 컴퓨터 공학 전공자들이 애용하는 대표적인 사이트 중 하나로 프로그래밍을 하기위한 지식 또는 에러, 심지어는 코드에 대한 직접적인 질문도 올라오는 사이트 중 하나입니다.\n",
    "이곳에 올라오는 질문 수를 통해 얼마나 컴퓨터공학 또는 프로그램밍에 대한 사람들의 관심이 높아져 왔는지를 확인할 수 있다고 생각하여 본 프로젝트를 준비해 보았습니다."
   ],
   "metadata": {
    "collapsed": false,
    "pycharm": {
     "name": "#%% md\n"
    }
   }
  },
  {
   "cell_type": "code",
   "execution_count": 44,
   "outputs": [],
   "source": [
    "import numpy as np\n",
    "import pandas as pd\n",
    "import time\n",
    "import datetime"
   ],
   "metadata": {
    "collapsed": false,
    "pycharm": {
     "name": "#%%\n"
    }
   }
  },
  {
   "cell_type": "code",
   "execution_count": 64,
   "outputs": [
    {
     "data": {
      "text/plain": "    month  nltk  spacy  stanford-nlp  python   r  numpy  scipy  matlab  \\\n0  09-Jan     0      0             0     631   8      6      2      19   \n1  09-Feb     1      0             0     633   9      7      3      27   \n2  09-Mar     0      0             0     766   4      4      2      24   \n3  09-Apr     0      0             0     768  12      6      3      32   \n4  09-May     1      0             0    1003   2      7      2      42   \n\n   machine-learning  ...  Plato  Sympy  Flair  stanford-nlp.1  pyqt  Nolearn  \\\n0                 8  ...      0      1      0               0     5        0   \n1                 4  ...      0      0      0               0     5        0   \n2                 3  ...      0      0      0               0     7        0   \n3                10  ...      0      0      0               0    11        0   \n4                 7  ...      0      0      0               0    10        0   \n\n   Lasagne  OCR  Apache-spark-mlib  azure-virtual-machine  \n0        0    5                  0                      0  \n1        0   11                  0                      0  \n2        0    2                  0                      0  \n3        0    5                  0                      0  \n4        0    3                  0                      0  \n\n[5 rows x 82 columns]",
      "text/html": "<div>\n<style scoped>\n    .dataframe tbody tr th:only-of-type {\n        vertical-align: middle;\n    }\n\n    .dataframe tbody tr th {\n        vertical-align: top;\n    }\n\n    .dataframe thead th {\n        text-align: right;\n    }\n</style>\n<table border=\"1\" class=\"dataframe\">\n  <thead>\n    <tr style=\"text-align: right;\">\n      <th></th>\n      <th>month</th>\n      <th>nltk</th>\n      <th>spacy</th>\n      <th>stanford-nlp</th>\n      <th>python</th>\n      <th>r</th>\n      <th>numpy</th>\n      <th>scipy</th>\n      <th>matlab</th>\n      <th>machine-learning</th>\n      <th>...</th>\n      <th>Plato</th>\n      <th>Sympy</th>\n      <th>Flair</th>\n      <th>stanford-nlp.1</th>\n      <th>pyqt</th>\n      <th>Nolearn</th>\n      <th>Lasagne</th>\n      <th>OCR</th>\n      <th>Apache-spark-mlib</th>\n      <th>azure-virtual-machine</th>\n    </tr>\n  </thead>\n  <tbody>\n    <tr>\n      <th>0</th>\n      <td>09-Jan</td>\n      <td>0</td>\n      <td>0</td>\n      <td>0</td>\n      <td>631</td>\n      <td>8</td>\n      <td>6</td>\n      <td>2</td>\n      <td>19</td>\n      <td>8</td>\n      <td>...</td>\n      <td>0</td>\n      <td>1</td>\n      <td>0</td>\n      <td>0</td>\n      <td>5</td>\n      <td>0</td>\n      <td>0</td>\n      <td>5</td>\n      <td>0</td>\n      <td>0</td>\n    </tr>\n    <tr>\n      <th>1</th>\n      <td>09-Feb</td>\n      <td>1</td>\n      <td>0</td>\n      <td>0</td>\n      <td>633</td>\n      <td>9</td>\n      <td>7</td>\n      <td>3</td>\n      <td>27</td>\n      <td>4</td>\n      <td>...</td>\n      <td>0</td>\n      <td>0</td>\n      <td>0</td>\n      <td>0</td>\n      <td>5</td>\n      <td>0</td>\n      <td>0</td>\n      <td>11</td>\n      <td>0</td>\n      <td>0</td>\n    </tr>\n    <tr>\n      <th>2</th>\n      <td>09-Mar</td>\n      <td>0</td>\n      <td>0</td>\n      <td>0</td>\n      <td>766</td>\n      <td>4</td>\n      <td>4</td>\n      <td>2</td>\n      <td>24</td>\n      <td>3</td>\n      <td>...</td>\n      <td>0</td>\n      <td>0</td>\n      <td>0</td>\n      <td>0</td>\n      <td>7</td>\n      <td>0</td>\n      <td>0</td>\n      <td>2</td>\n      <td>0</td>\n      <td>0</td>\n    </tr>\n    <tr>\n      <th>3</th>\n      <td>09-Apr</td>\n      <td>0</td>\n      <td>0</td>\n      <td>0</td>\n      <td>768</td>\n      <td>12</td>\n      <td>6</td>\n      <td>3</td>\n      <td>32</td>\n      <td>10</td>\n      <td>...</td>\n      <td>0</td>\n      <td>0</td>\n      <td>0</td>\n      <td>0</td>\n      <td>11</td>\n      <td>0</td>\n      <td>0</td>\n      <td>5</td>\n      <td>0</td>\n      <td>0</td>\n    </tr>\n    <tr>\n      <th>4</th>\n      <td>09-May</td>\n      <td>1</td>\n      <td>0</td>\n      <td>0</td>\n      <td>1003</td>\n      <td>2</td>\n      <td>7</td>\n      <td>2</td>\n      <td>42</td>\n      <td>7</td>\n      <td>...</td>\n      <td>0</td>\n      <td>0</td>\n      <td>0</td>\n      <td>0</td>\n      <td>10</td>\n      <td>0</td>\n      <td>0</td>\n      <td>3</td>\n      <td>0</td>\n      <td>0</td>\n    </tr>\n  </tbody>\n</table>\n<p>5 rows × 82 columns</p>\n</div>"
     },
     "execution_count": 64,
     "metadata": {},
     "output_type": "execute_result"
    }
   ],
   "source": [
    "# data load\n",
    "df = pd.read_csv(\"MLTollsStackOverflow.csv\")\n",
    "df.head()"
   ],
   "metadata": {
    "collapsed": false,
    "pycharm": {
     "name": "#%%\n"
    }
   }
  },
  {
   "cell_type": "code",
   "execution_count": 63,
   "outputs": [
    {
     "data": {
      "text/plain": "    month  month_timestamp  questions\n0  09-Jan     1.230736e+09      832.0\n1  09-Feb     1.233414e+09      893.0\n2  09-Mar     1.235833e+09     1001.0\n3  09-Apr     1.238512e+09     1053.0\n4  09-May     1.241104e+09     1323.0",
      "text/html": "<div>\n<style scoped>\n    .dataframe tbody tr th:only-of-type {\n        vertical-align: middle;\n    }\n\n    .dataframe tbody tr th {\n        vertical-align: top;\n    }\n\n    .dataframe thead th {\n        text-align: right;\n    }\n</style>\n<table border=\"1\" class=\"dataframe\">\n  <thead>\n    <tr style=\"text-align: right;\">\n      <th></th>\n      <th>month</th>\n      <th>month_timestamp</th>\n      <th>questions</th>\n    </tr>\n  </thead>\n  <tbody>\n    <tr>\n      <th>0</th>\n      <td>09-Jan</td>\n      <td>1.230736e+09</td>\n      <td>832.0</td>\n    </tr>\n    <tr>\n      <th>1</th>\n      <td>09-Feb</td>\n      <td>1.233414e+09</td>\n      <td>893.0</td>\n    </tr>\n    <tr>\n      <th>2</th>\n      <td>09-Mar</td>\n      <td>1.235833e+09</td>\n      <td>1001.0</td>\n    </tr>\n    <tr>\n      <th>3</th>\n      <td>09-Apr</td>\n      <td>1.238512e+09</td>\n      <td>1053.0</td>\n    </tr>\n    <tr>\n      <th>4</th>\n      <td>09-May</td>\n      <td>1.241104e+09</td>\n      <td>1323.0</td>\n    </tr>\n  </tbody>\n</table>\n</div>"
     },
     "execution_count": 63,
     "metadata": {},
     "output_type": "execute_result"
    }
   ],
   "source": [
    "# 데이터 전처리\n",
    "def process_month(date: str):\n",
    "    # 선형회귀를 하기 위해서 timestamp data가 필요함\n",
    "    month = [\"Jan\", \"Feb\", \"Mar\", \"Apr\", \"May\", \"Jun\", \"Jul\", \"Aug\", \"Sep\", \"Oct\", \"Nov\", \"Dec\"]\n",
    "    for idx, m_str in enumerate(month):\n",
    "        date = date.replace(m_str, str(idx+1))\n",
    "    return time.mktime(datetime.datetime.strptime(date, \"%y-%m\").timetuple())\n",
    "\n",
    "month = df[\"month\"]\n",
    "month_timestamp = df['month'].apply(process_month)\n",
    "questions = df.iloc[:,1:].sum(axis=1) # 질문들의 수를 다 더해준다.\n",
    "processed_df = pd.concat([month, month_timestamp, questions], axis=1, keys=[\"month\", \"month_timestamp\", \"questions\"])\n",
    "processed_df.head()"
   ],
   "metadata": {
    "collapsed": false,
    "pycharm": {
     "name": "#%%\n"
    }
   }
  },
  {
   "cell_type": "code",
   "execution_count": 51,
   "outputs": [
    {
     "data": {
      "text/plain": "<AxesSubplot:xlabel='month'>"
     },
     "execution_count": 51,
     "metadata": {},
     "output_type": "execute_result"
    },
    {
     "data": {
      "text/plain": "<Figure size 432x288 with 1 Axes>",
      "image/png": "[encoded data removed]"
     },
     "metadata": {
      "needs_background": "light"
     },
     "output_type": "display_data"
    }
   ],
   "source": [
    "# 월별 질문 수 그래프\n",
    "processed_df.plot(x=\"month\", y=\"questions\")"
   ],
   "metadata": {
    "collapsed": false,
    "pycharm": {
     "name": "#%%\n"
    }
   }
  },
  {
   "cell_type": "markdown",
   "source": [],
   "metadata": {
    "collapsed": false,
    "pycharm": {
     "name": "#%% md\n"
    }
   }
  },
  {
   "cell_type": "code",
   "execution_count": 37,
   "outputs": [],
   "source": [
    "from sklearn.linear_model import LinearRegression\n",
    "from sklearn.model_selection import train_test_split"
   ],
   "metadata": {
    "collapsed": false,
    "pycharm": {
     "name": "#%%\n"
    }
   }
  },
  {
   "cell_type": "code",
   "execution_count": 60,
   "outputs": [
    {
     "name": "stdout",
     "output_type": "stream",
     "text": [
      "train set shape : (99, 1) (99,)\n",
      "validation set shape : (33, 1) (33,)\n"
     ]
    }
   ],
   "source": [
    "# 데이터 셋 만들기\n",
    "x_train, x_valid, y_train, y_valid = train_test_split(processed_df.drop([\"questions\", \"month\"], axis=1), processed_df.questions)\n",
    "\n",
    "\n",
    "print(\"train set shape :\", x_train.shape, y_train.shape)\n",
    "print(\"validation set shape :\", x_valid.shape, y_valid.shape)"
   ],
   "metadata": {
    "collapsed": false,
    "pycharm": {
     "name": "#%%\n"
    }
   }
  },
  {
   "cell_type": "code",
   "execution_count": 61,
   "outputs": [
    {
     "name": "stdout",
     "output_type": "stream",
     "text": [
      "train set score : 0.969911134555689\n",
      "validation set score : 0.9755388372818012\n",
      "coef:  [0.00014005] -175573.60941646266\n"
     ]
    }
   ],
   "source": [
    "lr = LinearRegression().fit(x_train, y_train)\n",
    "print('train set score :', lr.score(x_train, y_train))\n",
    "print(\"validation set score :\", lr.score(x_valid, y_valid))\n",
    "print('coef: ',lr.coef_, lr.intercept_)"
   ],
   "metadata": {
    "collapsed": false,
    "pycharm": {
     "name": "#%%\n"
    }
   }
  },
  {
   "cell_type": "markdown",
   "source": [
    "# 결과 확인"
   ],
   "metadata": {
    "collapsed": false,
    "pycharm": {
     "name": "#%% md\n"
    }
   }
  },
  {
   "cell_type": "code",
   "execution_count": 62,
   "outputs": [
    {
     "data": {
      "text/plain": "<Figure size 432x288 with 1 Axes>",
      "image/png": "[encoded data removed]"
     },
     "metadata": {
      "needs_background": "light"
     },
     "output_type": "display_data"
    }
   ],
   "source": [
    "from matplotlib import pyplot as plt\n",
    "# 예측\n",
    "y_pred = lr.predict(x_valid)\n",
    "\n",
    "plt.plot(x_valid, y_valid, \"b.\",label=\"실제값\")\n",
    "plt.plot(x_valid, y_pred, \"r.\",label=\"예측값\")\n",
    "plt.xlabel('Timestamp', fontsize=14)\n",
    "plt.ylabel('Num of questions', fontsize=14)\n",
    "plt.show()"
   ],
   "metadata": {
    "collapsed": false,
    "pycharm": {
     "name": "#%%\n"
    }
   }
  }
 ],
 "metadata": {
  "kernelspec": {
   "display_name": "Python 3",
   "language": "python",
   "name": "python3"
  },
  "language_info": {
   "codemirror_mode": {
    "name": "ipython",
    "version": 2
   },
   "file_extension": ".py",
   "mimetype": "text/x-python",
   "name": "python",
   "nbconvert_exporter": "python",
   "pygments_lexer": "ipython2",
   "version": "2.7.6"
  }
 },
 "nbformat": 4,
 "nbformat_minor": 0
}