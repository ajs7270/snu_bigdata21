{
 "cells": [
  {
   "cell_type": "markdown",
   "metadata": {
    "collapsed": true,
    "pycharm": {
     "name": "#%% md\n"
    }
   },
   "source": [
    "# boltzmann_machine을 활용하여 Fashion MNIST generation 실험"
   ]
  },
  {
   "cell_type": "code",
   "execution_count": 164,
   "metadata": {
    "pycharm": {
     "name": "#%%\n"
    }
   },
   "outputs": [],
   "source": [
    "import torch\n",
    "from torch import nn\n",
    "from torchvision import transforms, datasets\n",
    "from torch.utils.data import DataLoader\n",
    "import torch.nn.functional as F\n",
    "from torch.autograd import Variable"
   ]
  },
  {
   "cell_type": "code",
   "execution_count": 165,
   "metadata": {
    "pycharm": {
     "name": "#%%\n"
    }
   },
   "outputs": [],
   "source": [
    "def load_dataset(batch_size=64, is_train=True):\n",
    "    # For Debugging\n",
    "    torch.manual_seed(42)\n",
    "    _data_set = datasets.FashionMNIST(\n",
    "        root      = './dataset',\n",
    "        train     = True,\n",
    "        download  = True,\n",
    "        transform = transforms.Compose([\n",
    "            transforms.ToTensor(),\n",
    "        ])\n",
    "    )\n",
    "\n",
    "    _data_loader = DataLoader(\n",
    "        dataset     = _data_set,\n",
    "        batch_size  = batch_size,\n",
    "        shuffle     = True,\n",
    "        num_workers = 2\n",
    "    )\n",
    "\n",
    "    return _data_loader\n",
    "\n",
    "data_loader = load_dataset()"
   ]
  },
  {
   "cell_type": "markdown",
   "metadata": {
    "pycharm": {
     "name": "#%% md\n"
    }
   },
   "source": [
    "## 모델 정의"
   ]
  },
  {
   "cell_type": "code",
   "execution_count": 212,
   "metadata": {
    "pycharm": {
     "name": "#%%\n"
    }
   },
   "outputs": [],
   "source": [
    "class RBM(nn.Module):\n",
    "    def __init__(self,\n",
    "                 n_vis=784,\n",
    "                 n_hin=500,\n",
    "                 k=5):\n",
    "        super(RBM, self).__init__()\n",
    "        self.W = nn.Parameter(torch.randn(n_hin,n_vis)*1e-2)\n",
    "        self.v_bias = nn.Parameter(torch.zeros(n_vis))\n",
    "        self.h_bias = nn.Parameter(torch.zeros(n_hin))\n",
    "        self.k = k\n",
    "\n",
    "    def sample_from_p(self,p):\n",
    "        return F.relu(torch.sign(p - p.clone().uniform_()))\n",
    "\n",
    "    def v_to_h(self,v):\n",
    "        p_h = F.sigmoid(F.linear(v,self.W,self.h_bias))\n",
    "        sample_h = self.sample_from_p(p_h)\n",
    "        return p_h,sample_h\n",
    "\n",
    "    def h_to_v(self,h):\n",
    "        p_v = F.sigmoid(F.linear(h,self.W.t(),self.v_bias))\n",
    "        sample_v = self.sample_from_p(p_v)\n",
    "        return p_v,sample_v\n",
    "\n",
    "    def forward(self,v):\n",
    "        pre_h1,h1 = self.v_to_h(v)\n",
    "\n",
    "        h_ = h1\n",
    "        for _ in range(self.k):\n",
    "            pre_v_,v_ = self.h_to_v(h_)\n",
    "            pre_h_,h_ = self.v_to_h(v_)\n",
    "\n",
    "        return v,v_\n",
    "\n",
    "    def free_energy(self,v):\n",
    "        vbias_term = v.mv(self.v_bias)\n",
    "        wx_b = F.linear(v,self.W,self.h_bias)\n",
    "        hidden_term = wx_b.exp().add(1).log().sum(1)\n",
    "        return (-hidden_term - vbias_term).mean()"
   ]
  },
  {
   "cell_type": "markdown",
   "metadata": {
    "pycharm": {
     "name": "#%% md\n"
    }
   },
   "source": [
    "## 모델 학습"
   ]
  },
  {
   "cell_type": "code",
   "execution_count": 208,
   "metadata": {
    "pycharm": {
     "name": "#%%\n"
    }
   },
   "outputs": [],
   "source": [
    "import torch.optim as optim\n",
    "import torch.nn as nn\n",
    "import time\n",
    "import copy"
   ]
  },
  {
   "cell_type": "code",
   "execution_count": 209,
   "metadata": {
    "pycharm": {
     "name": "#%%\n"
    }
   },
   "outputs": [],
   "source": [
    "def AddGaussianNoise(tensor, std=0.1, mean=0):\n",
    "    return tensor + torch.randn(tensor.size()) * std + mean"
   ]
  },
  {
   "cell_type": "code",
   "execution_count": 210,
   "metadata": {
    "pycharm": {
     "name": "#%%\n"
    }
   },
   "outputs": [],
   "source": [
    "NUM_OF_EPOCH = 20\n",
    "\n",
    "device = torch.device(\"cuda:0\" if torch.cuda.is_available() else \"cpu\")\n",
    "\n",
    "model = RBM(k=5)\n",
    "model.to(device)\n",
    "\n",
    "optimizer = optim.Adam(model.parameters(), lr=0.005) # 기울기 업데이트 -> how to?\n",
    "criterion = nn.MSELoss()# y_hat과 y의 차이를 구함\n",
    "\n",
    "best_model_weights = copy.deepcopy(model.state_dict())\n",
    "best_loss = float(\"inf\")"
   ]
  },
  {
   "cell_type": "code",
   "execution_count": 211,
   "outputs": [
    {
     "name": "stdout",
     "output_type": "stream",
     "text": [
      "Epoch 1/20: train Loss: -3.0894\n",
      "Epoch 2/20: train Loss: 4.0526\n",
      "Epoch 3/20: train Loss: 4.2523\n",
      "Epoch 4/20: train Loss: 3.8173\n",
      "Epoch 5/20: train Loss: 3.6194\n",
      "Epoch 6/20: train Loss: 3.6231\n",
      "Epoch 7/20: train Loss: 3.6118\n",
      "Epoch 8/20: train Loss: 3.6338\n",
      "Epoch 9/20: train Loss: 3.5848\n",
      "Epoch 10/20: train Loss: 3.6662\n",
      "Epoch 11/20: train Loss: 3.7042\n",
      "Epoch 12/20: train Loss: 3.7779\n",
      "Epoch 13/20: train Loss: 3.7854\n",
      "Epoch 14/20: train Loss: 3.8718\n",
      "Epoch 15/20: train Loss: 3.9204\n",
      "Epoch 16/20: train Loss: 3.9545\n",
      "Epoch 17/20: train Loss: 4.0012\n",
      "Epoch 18/20: train Loss: 4.0017\n",
      "Epoch 19/20: train Loss: 4.0413\n",
      "Epoch 20/20: train Loss: 4.0410\n"
     ]
    }
   ],
   "source": [
    "for epoch in range(NUM_OF_EPOCH):\n",
    "    model.train()\n",
    "\n",
    "    running_loss = 0.0\n",
    "\n",
    "    for _inputs, _ in data_loader:\n",
    "        inputs = _inputs.view(-1, 28*28).to(device)\n",
    "        sample_inputs = inputs.bernoulli()\n",
    "        optimizer.zero_grad() # 이전에 구했던 기울기를 0으로 초기화 함\n",
    "\n",
    "        v, v1 = model(inputs) # 네트워크를 통과시킴 => computational graph가 만들어짐\n",
    "        loss = model.free_energy(v) - model.free_energy(v1)\n",
    "\n",
    "        # back-propagation\n",
    "        loss.backward()\n",
    "        optimizer.step()\n",
    "\n",
    "        running_loss += float(loss.item() * inputs.size(0))\n",
    "\n",
    "    epoch_loss = running_loss / len(data_loader.dataset)\n",
    "\n",
    "    print('Epoch {}/{}: {} Loss: {:.4f}'.format(epoch + 1, NUM_OF_EPOCH,\"train\", epoch_loss))\n",
    "\n",
    "    if epoch_loss < best_loss:\n",
    "        best_loss = epoch_loss\n",
    "        best_model_weights = copy.deepcopy(model.state_dict())"
   ],
   "metadata": {
    "collapsed": false,
    "pycharm": {
     "name": "#%%\n"
    }
   }
  },
  {
   "cell_type": "code",
   "execution_count": 213,
   "metadata": {
    "pycharm": {
     "name": "#%%\n"
    }
   },
   "outputs": [],
   "source": [
    "# save model weight\n",
    "torch.save(best_model_weights, './weights/best_weights.pth')"
   ]
  },
  {
   "cell_type": "markdown",
   "metadata": {
    "pycharm": {
     "name": "#%% md\n"
    }
   },
   "source": [
    "### 학습이 잘 되었는지 시각화"
   ]
  },
  {
   "cell_type": "code",
   "execution_count": 214,
   "metadata": {
    "pycharm": {
     "name": "#%%\n"
    }
   },
   "outputs": [],
   "source": [
    "import matplotlib.pyplot as plt"
   ]
  },
  {
   "cell_type": "code",
   "execution_count": 215,
   "outputs": [
    {
     "data": {
      "text/plain": "RBM()"
     },
     "execution_count": 215,
     "metadata": {},
     "output_type": "execute_result"
    }
   ],
   "source": [
    "weight_path = './weights/best_weights.pth'\n",
    "\n",
    "#device = torch.device(\"cuda:0\" if torch.cuda.is_available() else \"cpu\")\n",
    "\n",
    "# 모델 구성후 학습된 파라미터 로드\n",
    "model = RBM(k=5)\n",
    "model.load_state_dict(torch.load(weight_path))\n",
    "model.to(device)"
   ],
   "metadata": {
    "collapsed": false,
    "pycharm": {
     "name": "#%%\n"
    }
   }
  },
  {
   "cell_type": "code",
   "execution_count": 216,
   "metadata": {
    "pycharm": {
     "name": "#%%\n"
    }
   },
   "outputs": [],
   "source": [
    "# testing\n",
    "with torch.no_grad():\n",
    "    model.eval()\n",
    "    test_data = data_loader.dataset[1][0].view(-1, 28*28).to(device)\n",
    "    origin, generate = model(test_data)"
   ]
  },
  {
   "cell_type": "code",
   "execution_count": 217,
   "metadata": {
    "pycharm": {
     "name": "#%%\n"
    }
   },
   "outputs": [
    {
     "data": {
      "text/plain": "<matplotlib.image.AxesImage at 0x7f6b69a11cd0>"
     },
     "execution_count": 217,
     "metadata": {},
     "output_type": "execute_result"
    },
    {
     "data": {
      "text/plain": "<Figure size 1080x1080 with 2 Axes>",
      "image/png": "[encoded data removed]"
     },
     "metadata": {
      "needs_background": "light"
     },
     "output_type": "display_data"
    }
   ],
   "source": [
    "# 시각화\n",
    "test_data = origin.view(28,28).to(\"cpu\")\n",
    "test_generate = generate.view(28,28).to(\"cpu\")\n",
    "\n",
    "f, a = plt.subplots(1, 2, figsize=(15, 15))\n",
    "a[0].set_title('origin')\n",
    "a[1].set_title('noise')\n",
    "\n",
    "a[0].imshow(test_data, cmap='gray')\n",
    "a[1].imshow(test_generate, cmap='gray')"
   ]
  }
 ],
 "metadata": {
  "kernelspec": {
   "display_name": "Python 3 (ipykernel)",
   "language": "python",
   "name": "python3"
  },
  "language_info": {
   "codemirror_mode": {
    "name": "ipython",
    "version": 3
   },
   "file_extension": ".py",
   "mimetype": "text/x-python",
   "name": "python",
   "nbconvert_exporter": "python",
   "pygments_lexer": "ipython3",
   "version": "3.8.10"
  }
 },
 "nbformat": 4,
 "nbformat_minor": 1
}