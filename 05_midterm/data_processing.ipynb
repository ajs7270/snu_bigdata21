{
 "cells": [
  {
   "cell_type": "markdown",
   "id": "fa18ddb0-7456-4acc-ab81-2b4fb76710dc",
   "metadata": {},
   "source": [
    "# Data Pre-processing"
   ]
  },
  {
   "cell_type": "markdown",
   "id": "3928e7c9-cc41-45fa-b289-a8debcc8aa94",
   "metadata": {},
   "source": [
    "## 1. Importing Raw Data"
   ]
  },
  {
   "cell_type": "code",
   "execution_count": 1,
   "id": "6ecbc194-5d3d-4a9a-80b5-2766643caad6",
   "metadata": {},
   "outputs": [],
   "source": [
    "import pandas as pd\n",
    "import numpy as np"
   ]
  },
  {
   "cell_type": "markdown",
   "source": [],
   "metadata": {
    "collapsed": false
   }
  },
  {
   "cell_type": "code",
   "execution_count": 2,
   "id": "3ba2350f-2cf2-42ee-9f66-d45f87af5b32",
   "metadata": {},
   "outputs": [],
   "source": [
    "# 기본 골자 + 맨 앞 Column 세팅용\n",
    "def df_index(index_name):\n",
    "    #불필요한 상부의 데이터 행 삭제. 때문에 연도가 표시된 행의 첫 세 셀이 비어있음(각각 Unnamed: 0, 1, 2) \n",
    "    #excel 수 배열을 python 수 배열로 바꾸는 코드: print(*range(start, end, 1), sep=', ')\n",
    "    index = pd.read_excel('data/index/{}.xls'.format(index_name), skiprows = [0, 1, 2, 3, 4])\n",
    "    index['Unnamed: 2'] = index['Unnamed: 2'] + index['Unnamed: 0'] #Name을 KIS+Name으로 교체\n",
    "    index.set_index('Unnamed: 2', inplace=True) #KIS+Name을 기본 index로 사용(다 빈 셀 때문에...)\n",
    "    index = index[['2010/Annual', '2011/Annual', '2012/Annual', '2013/Annual','2014/Annual', '2015/Annual', '2016/Annual', '2017/Annual', '2018/Annual', '2019/Annual', '2020/Annual']] #year/Annual 형식\n",
    "    index.columns=['2010', '2011', '2012', '2013', '2014', '2015', '2016', '2017', '2018', '2019', '2020']\n",
    "    index = pd.DataFrame(index.drop('NameKIS').stack(dropna=False)) #두번째 행의 붕 뜬 Name과 Kis 삭제 + 결측치 처리\n",
    "    index.columns=[index_name] #제목에 맞춘 열 생성\n",
    "    index.reset_index(inplace=True) #기본 인덱스 리셋\n",
    "    index.rename(columns = {'Unnamed: 2' : '기업명'}, inplace = True) #메인이 될 인덱스명 설정\n",
    "    index.rename(columns = {'level_1' : '년도'}, inplace = True)\n",
    "    return index\n",
    "\n",
    "# year/Annual\n",
    "def df_index1(index_name):\n",
    "    index = pd.read_excel('data/index/{}.xls'.format(index_name), skiprows = [0, 1, 2, 3, 4])\n",
    "    index['Unnamed: 2'] = index['Unnamed: 2'] + index['Unnamed: 0'] \n",
    "    index.set_index('Unnamed: 2', inplace=True) \n",
    "    index = index[['2010/Annual', '2011/Annual', '2012/Annual', '2013/Annual','2014/Annual', '2015/Annual', '2016/Annual', '2017/Annual', '2018/Annual', '2019/Annual', '2020/Annual']] #year/Annual 형식\n",
    "    index.columns=['2010', '2011', '2012', '2013', '2014', '2015', '2016', '2017', '2018', '2019', '2020']\n",
    "    index = pd.DataFrame(index.drop('NameKIS').stack(dropna=False)) \n",
    "    index.columns=[index_name] \n",
    "    index.reset_index(inplace=True) \n",
    "    return index\n",
    "\n",
    "# year\n",
    "def df_index2(index_name):\n",
    "    index = pd.read_excel('data/index/{}.xls'.format(index_name), skiprows = [0, 1, 2, 3, 4])\n",
    "    index['Unnamed: 2'] = index['Unnamed: 2'] + index['Unnamed: 0']\n",
    "    index.set_index('Unnamed: 2', inplace=True)\n",
    "    index = index[['2010', '2011', '2012', '2013', '2014', '2015', '2016', '2017', '2018', '2019', '2020']] #year 형식\n",
    "    index = pd.DataFrame(index.drop('NameKIS').stack(dropna=False))\n",
    "    index.columns=[index_name]\n",
    "    index.reset_index(inplace=True)\n",
    "    return index"
   ]
  },
  {
   "cell_type": "code",
   "execution_count": 3,
   "id": "1c3fc995-6343-481a-8316-72765c75ac20",
   "metadata": {},
   "outputs": [],
   "source": [
    "매출액 = df_index('매출액') #매출액만 맨 앞에 기업명-년도로 잡고, 나머지는 임시 default column명으로 설정\n",
    "\n",
    "당기순이익 = df_index1('당기순이익')\n",
    "매출액영업이익률 = df_index1('매출액영업이익률')\n",
    "매출채권회전율 = df_index1('매출채권회전율')\n",
    "부채비율 = df_index1('부채비율')\n",
    "영업활동현금흐름 = df_index1('영업활동현금흐름')\n",
    "유동비율 = df_index1('유동비율')\n",
    "자기자본순이익률 = df_index1('자기자본순이익률')\n",
    "자산총계 = df_index1('자산총계')\n",
    "재고자산회전율 = df_index1('재고자산회전율')\n",
    "종업원수 = df_index1('종업원수')\n",
    "종업원수증가율 = df_index1('종업원수증가율')\n",
    "영업활동현금흐름이자보상비율 = df_index1('영업활동현금흐름이자보상비율')\n",
    "감가상각율 = df_index1('감가상각율')\n",
    "금융비용_매출액비율 = df_index1('금융비용_매출액비율')\n",
    "오류수정및회계정책변경 = df_index1('오류수정및회계정책변경')\n",
    "유동자산 = df_index1('유동자산')\n",
    "유형자산 = df_index1('유형자산')\n",
    "총자산증가율 = df_index1('총자산증가율')\n",
    "매출액증가율 = df_index1('매출액증가율')\n",
    "판매비와관리비 = df_index1('판매비와관리비')\n",
    "장기매출채권대손충당금 = df_index1('장기매출채권대손충당금')\n",
    "매출채권 = df_index1('매출채권')\n",
    "매출채권대손충당금 = df_index1('매출채권대손충당금')\n",
    "장기매출채권 = df_index1('장기매출채권')\n",
    "ROA = df_index1('ROA')\n",
    "\n",
    "감사법인 = df_index2('감사법인')\n",
    "감사의견 = df_index2('감사의견')\n",
    "신용평점 = df_index2('신용평점')"
   ]
  },
  {
   "cell_type": "code",
   "execution_count": 4,
   "id": "05d0833b-17fe-401d-9220-826712a3d1f4",
   "metadata": {},
   "outputs": [
    {
     "data": {
      "text/plain": "                        기업명    년도          매출액           Unnamed: 2 level_1  \\\n0             청우화학(주)000083  2010   5005091000        청우화학(주)000083    2010   \n1             청우화학(주)000083  2011   5547721000        청우화학(주)000083    2011   \n2             청우화학(주)000083  2012   6387805000        청우화학(주)000083    2012   \n3             청우화학(주)000083  2013   6353868000        청우화학(주)000083    2013   \n4             청우화학(주)000083  2014   6897317000        청우화학(주)000083    2014   \n...                     ...   ...          ...                  ...     ...   \n318687  (주)메디라인액티브코리아Y32604  2016  15311754000  (주)메디라인액티브코리아Y32604    2016   \n318688  (주)메디라인액티브코리아Y32604  2017  18627175000  (주)메디라인액티브코리아Y32604    2017   \n318689  (주)메디라인액티브코리아Y32604  2018  22755938000  (주)메디라인액티브코리아Y32604    2018   \n318690  (주)메디라인액티브코리아Y32604  2019  27419993000  (주)메디라인액티브코리아Y32604    2019   \n318691  (주)메디라인액티브코리아Y32604  2020  28979475000  (주)메디라인액티브코리아Y32604    2020   \n\n             당기순이익           Unnamed: 2 level_1 매출액영업이익률           Unnamed: 2  \\\n0              NaN        청우화학(주)000083    2010     3.06        청우화학(주)000083   \n1              NaN        청우화학(주)000083    2011     3.72        청우화학(주)000083   \n2              NaN        청우화학(주)000083    2012     4.97        청우화학(주)000083   \n3              NaN        청우화학(주)000083    2013    13.01        청우화학(주)000083   \n4              NaN        청우화학(주)000083    2014    15.21        청우화학(주)000083   \n...            ...                  ...     ...      ...                  ...   \n318687         NaN  (주)메디라인액티브코리아Y32604    2016     9.46  (주)메디라인액티브코리아Y32604   \n318688         NaN  (주)메디라인액티브코리아Y32604    2017    10.29  (주)메디라인액티브코리아Y32604   \n318689         NaN  (주)메디라인액티브코리아Y32604    2018        9  (주)메디라인액티브코리아Y32604   \n318690  1712602000  (주)메디라인액티브코리아Y32604    2019     8.22  (주)메디라인액티브코리아Y32604   \n318691  1728057000  (주)메디라인액티브코리아Y32604    2020     6.94  (주)메디라인액티브코리아Y32604   \n\n        ...    ROA           Unnamed: 2 level_1    감사법인           Unnamed: 2  \\\n0       ...   5.78        청우화학(주)000083    2010     NaN        청우화학(주)000083   \n1       ...   6.87        청우화학(주)000083    2011     NaN        청우화학(주)000083   \n2       ...   9.57        청우화학(주)000083    2012     NaN        청우화학(주)000083   \n3       ...  20.61        청우화학(주)000083    2013     NaN        청우화학(주)000083   \n4       ...  20.95        청우화학(주)000083    2014     NaN        청우화학(주)000083   \n...     ...    ...                  ...     ...     ...                  ...   \n318687  ...  20.41  (주)메디라인액티브코리아Y32604    2016     NaN  (주)메디라인액티브코리아Y32604   \n318688  ...   5.94  (주)메디라인액티브코리아Y32604    2017     NaN  (주)메디라인액티브코리아Y32604   \n318689  ...  17.67  (주)메디라인액티브코리아Y32604    2018     NaN  (주)메디라인액티브코리아Y32604   \n318690  ...   15.8  (주)메디라인액티브코리아Y32604    2019     NaN  (주)메디라인액티브코리아Y32604   \n318691  ...  12.22  (주)메디라인액티브코리아Y32604    2020  한울회계법인  (주)메디라인액티브코리아Y32604   \n\n       level_1        감사의견           Unnamed: 2 level_1 신용평점  \n0         2010         NaN        청우화학(주)000083    2010    5  \n1         2011         NaN        청우화학(주)000083    2011    4  \n2         2012         NaN        청우화학(주)000083    2012    4  \n3         2013         NaN        청우화학(주)000083    2013    3  \n4         2014         NaN        청우화학(주)000083    2014    3  \n...        ...         ...                  ...     ...  ...  \n318687    2016         NaN  (주)메디라인액티브코리아Y32604    2016    5  \n318688    2017         NaN  (주)메디라인액티브코리아Y32604    2017    6  \n318689    2018         NaN  (주)메디라인액티브코리아Y32604    2018    5  \n318690    2019        감사미필  (주)메디라인액티브코리아Y32604    2019    5  \n318691    2020  한정(감사범위제한)  (주)메디라인액티브코리아Y32604    2020    4  \n\n[318692 rows x 87 columns]",
      "text/html": "<div>\n<style scoped>\n    .dataframe tbody tr th:only-of-type {\n        vertical-align: middle;\n    }\n\n    .dataframe tbody tr th {\n        vertical-align: top;\n    }\n\n    .dataframe thead th {\n        text-align: right;\n    }\n</style>\n<table border=\"1\" class=\"dataframe\">\n  <thead>\n    <tr style=\"text-align: right;\">\n      <th></th>\n      <th>기업명</th>\n      <th>년도</th>\n      <th>매출액</th>\n      <th>Unnamed: 2</th>\n      <th>level_1</th>\n      <th>당기순이익</th>\n      <th>Unnamed: 2</th>\n      <th>level_1</th>\n      <th>매출액영업이익률</th>\n      <th>Unnamed: 2</th>\n      <th>...</th>\n      <th>ROA</th>\n      <th>Unnamed: 2</th>\n      <th>level_1</th>\n      <th>감사법인</th>\n      <th>Unnamed: 2</th>\n      <th>level_1</th>\n      <th>감사의견</th>\n      <th>Unnamed: 2</th>\n      <th>level_1</th>\n      <th>신용평점</th>\n    </tr>\n  </thead>\n  <tbody>\n    <tr>\n      <th>0</th>\n      <td>청우화학(주)000083</td>\n      <td>2010</td>\n      <td>5005091000</td>\n      <td>청우화학(주)000083</td>\n      <td>2010</td>\n      <td>NaN</td>\n      <td>청우화학(주)000083</td>\n      <td>2010</td>\n      <td>3.06</td>\n      <td>청우화학(주)000083</td>\n      <td>...</td>\n      <td>5.78</td>\n      <td>청우화학(주)000083</td>\n      <td>2010</td>\n      <td>NaN</td>\n      <td>청우화학(주)000083</td>\n      <td>2010</td>\n      <td>NaN</td>\n      <td>청우화학(주)000083</td>\n      <td>2010</td>\n      <td>5</td>\n    </tr>\n    <tr>\n      <th>1</th>\n      <td>청우화학(주)000083</td>\n      <td>2011</td>\n      <td>5547721000</td>\n      <td>청우화학(주)000083</td>\n      <td>2011</td>\n      <td>NaN</td>\n      <td>청우화학(주)000083</td>\n      <td>2011</td>\n      <td>3.72</td>\n      <td>청우화학(주)000083</td>\n      <td>...</td>\n      <td>6.87</td>\n      <td>청우화학(주)000083</td>\n      <td>2011</td>\n      <td>NaN</td>\n      <td>청우화학(주)000083</td>\n      <td>2011</td>\n      <td>NaN</td>\n      <td>청우화학(주)000083</td>\n      <td>2011</td>\n      <td>4</td>\n    </tr>\n    <tr>\n      <th>2</th>\n      <td>청우화학(주)000083</td>\n      <td>2012</td>\n      <td>6387805000</td>\n      <td>청우화학(주)000083</td>\n      <td>2012</td>\n      <td>NaN</td>\n      <td>청우화학(주)000083</td>\n      <td>2012</td>\n      <td>4.97</td>\n      <td>청우화학(주)000083</td>\n      <td>...</td>\n      <td>9.57</td>\n      <td>청우화학(주)000083</td>\n      <td>2012</td>\n      <td>NaN</td>\n      <td>청우화학(주)000083</td>\n      <td>2012</td>\n      <td>NaN</td>\n      <td>청우화학(주)000083</td>\n      <td>2012</td>\n      <td>4</td>\n    </tr>\n    <tr>\n      <th>3</th>\n      <td>청우화학(주)000083</td>\n      <td>2013</td>\n      <td>6353868000</td>\n      <td>청우화학(주)000083</td>\n      <td>2013</td>\n      <td>NaN</td>\n      <td>청우화학(주)000083</td>\n      <td>2013</td>\n      <td>13.01</td>\n      <td>청우화학(주)000083</td>\n      <td>...</td>\n      <td>20.61</td>\n      <td>청우화학(주)000083</td>\n      <td>2013</td>\n      <td>NaN</td>\n      <td>청우화학(주)000083</td>\n      <td>2013</td>\n      <td>NaN</td>\n      <td>청우화학(주)000083</td>\n      <td>2013</td>\n      <td>3</td>\n    </tr>\n    <tr>\n      <th>4</th>\n      <td>청우화학(주)000083</td>\n      <td>2014</td>\n      <td>6897317000</td>\n      <td>청우화학(주)000083</td>\n      <td>2014</td>\n      <td>NaN</td>\n      <td>청우화학(주)000083</td>\n      <td>2014</td>\n      <td>15.21</td>\n      <td>청우화학(주)000083</td>\n      <td>...</td>\n      <td>20.95</td>\n      <td>청우화학(주)000083</td>\n      <td>2014</td>\n      <td>NaN</td>\n      <td>청우화학(주)000083</td>\n      <td>2014</td>\n      <td>NaN</td>\n      <td>청우화학(주)000083</td>\n      <td>2014</td>\n      <td>3</td>\n    </tr>\n    <tr>\n      <th>...</th>\n      <td>...</td>\n      <td>...</td>\n      <td>...</td>\n      <td>...</td>\n      <td>...</td>\n      <td>...</td>\n      <td>...</td>\n      <td>...</td>\n      <td>...</td>\n      <td>...</td>\n      <td>...</td>\n      <td>...</td>\n      <td>...</td>\n      <td>...</td>\n      <td>...</td>\n      <td>...</td>\n      <td>...</td>\n      <td>...</td>\n      <td>...</td>\n      <td>...</td>\n      <td>...</td>\n    </tr>\n    <tr>\n      <th>318687</th>\n      <td>(주)메디라인액티브코리아Y32604</td>\n      <td>2016</td>\n      <td>15311754000</td>\n      <td>(주)메디라인액티브코리아Y32604</td>\n      <td>2016</td>\n      <td>NaN</td>\n      <td>(주)메디라인액티브코리아Y32604</td>\n      <td>2016</td>\n      <td>9.46</td>\n      <td>(주)메디라인액티브코리아Y32604</td>\n      <td>...</td>\n      <td>20.41</td>\n      <td>(주)메디라인액티브코리아Y32604</td>\n      <td>2016</td>\n      <td>NaN</td>\n      <td>(주)메디라인액티브코리아Y32604</td>\n      <td>2016</td>\n      <td>NaN</td>\n      <td>(주)메디라인액티브코리아Y32604</td>\n      <td>2016</td>\n      <td>5</td>\n    </tr>\n    <tr>\n      <th>318688</th>\n      <td>(주)메디라인액티브코리아Y32604</td>\n      <td>2017</td>\n      <td>18627175000</td>\n      <td>(주)메디라인액티브코리아Y32604</td>\n      <td>2017</td>\n      <td>NaN</td>\n      <td>(주)메디라인액티브코리아Y32604</td>\n      <td>2017</td>\n      <td>10.29</td>\n      <td>(주)메디라인액티브코리아Y32604</td>\n      <td>...</td>\n      <td>5.94</td>\n      <td>(주)메디라인액티브코리아Y32604</td>\n      <td>2017</td>\n      <td>NaN</td>\n      <td>(주)메디라인액티브코리아Y32604</td>\n      <td>2017</td>\n      <td>NaN</td>\n      <td>(주)메디라인액티브코리아Y32604</td>\n      <td>2017</td>\n      <td>6</td>\n    </tr>\n    <tr>\n      <th>318689</th>\n      <td>(주)메디라인액티브코리아Y32604</td>\n      <td>2018</td>\n      <td>22755938000</td>\n      <td>(주)메디라인액티브코리아Y32604</td>\n      <td>2018</td>\n      <td>NaN</td>\n      <td>(주)메디라인액티브코리아Y32604</td>\n      <td>2018</td>\n      <td>9</td>\n      <td>(주)메디라인액티브코리아Y32604</td>\n      <td>...</td>\n      <td>17.67</td>\n      <td>(주)메디라인액티브코리아Y32604</td>\n      <td>2018</td>\n      <td>NaN</td>\n      <td>(주)메디라인액티브코리아Y32604</td>\n      <td>2018</td>\n      <td>NaN</td>\n      <td>(주)메디라인액티브코리아Y32604</td>\n      <td>2018</td>\n      <td>5</td>\n    </tr>\n    <tr>\n      <th>318690</th>\n      <td>(주)메디라인액티브코리아Y32604</td>\n      <td>2019</td>\n      <td>27419993000</td>\n      <td>(주)메디라인액티브코리아Y32604</td>\n      <td>2019</td>\n      <td>1712602000</td>\n      <td>(주)메디라인액티브코리아Y32604</td>\n      <td>2019</td>\n      <td>8.22</td>\n      <td>(주)메디라인액티브코리아Y32604</td>\n      <td>...</td>\n      <td>15.8</td>\n      <td>(주)메디라인액티브코리아Y32604</td>\n      <td>2019</td>\n      <td>NaN</td>\n      <td>(주)메디라인액티브코리아Y32604</td>\n      <td>2019</td>\n      <td>감사미필</td>\n      <td>(주)메디라인액티브코리아Y32604</td>\n      <td>2019</td>\n      <td>5</td>\n    </tr>\n    <tr>\n      <th>318691</th>\n      <td>(주)메디라인액티브코리아Y32604</td>\n      <td>2020</td>\n      <td>28979475000</td>\n      <td>(주)메디라인액티브코리아Y32604</td>\n      <td>2020</td>\n      <td>1728057000</td>\n      <td>(주)메디라인액티브코리아Y32604</td>\n      <td>2020</td>\n      <td>6.94</td>\n      <td>(주)메디라인액티브코리아Y32604</td>\n      <td>...</td>\n      <td>12.22</td>\n      <td>(주)메디라인액티브코리아Y32604</td>\n      <td>2020</td>\n      <td>한울회계법인</td>\n      <td>(주)메디라인액티브코리아Y32604</td>\n      <td>2020</td>\n      <td>한정(감사범위제한)</td>\n      <td>(주)메디라인액티브코리아Y32604</td>\n      <td>2020</td>\n      <td>4</td>\n    </tr>\n  </tbody>\n</table>\n<p>318692 rows × 87 columns</p>\n</div>"
     },
     "execution_count": 4,
     "metadata": {},
     "output_type": "execute_result"
    }
   ],
   "source": [
    "data = pd.concat([매출액, 당기순이익, 매출액영업이익률, 매출채권회전율, 부채비율, #리스트 합치기\n",
    "                영업활동현금흐름, 유동비율, 자기자본순이익률, 자산총계, 재고자산회전율, 영업활동현금흐름이자보상비율, \n",
    "                종업원수, 종업원수증가율, 감가상각율, 금융비용_매출액비율, 오류수정및회계정책변경, 유동자산, 유형자산, \n",
    "                총자산증가율, 매출액증가율, 판매비와관리비, 장기매출채권대손충당금, 매출채권, 매출채권대손충당금,\n",
    "                장기매출채권, ROA, 감사법인, 감사의견, 신용평점], axis = 1)\n",
    "data"
   ]
  },
  {
   "cell_type": "code",
   "execution_count": 5,
   "id": "b503ed7c-6b74-4434-a6dd-23ba1a982d54",
   "metadata": {},
   "outputs": [
    {
     "data": {
      "text/plain": "                        기업명    년도          매출액       당기순이익 매출액영업이익률 매출채권회전율  \\\n0             청우화학(주)000083  2010   5005091000         NaN     3.06    4.06   \n1             청우화학(주)000083  2011   5547721000         NaN     3.72    4.77   \n2             청우화학(주)000083  2012   6387805000         NaN     4.97    5.53   \n3             청우화학(주)000083  2013   6353868000         NaN    13.01    4.92   \n4             청우화학(주)000083  2014   6897317000         NaN    15.21    4.71   \n...                     ...   ...          ...         ...      ...     ...   \n318687  (주)메디라인액티브코리아Y32604  2016  15311754000         NaN     9.46     6.9   \n318688  (주)메디라인액티브코리아Y32604  2017  18627175000         NaN    10.29    5.28   \n318689  (주)메디라인액티브코리아Y32604  2018  22755938000         NaN        9    5.47   \n318690  (주)메디라인액티브코리아Y32604  2019  27419993000  1712602000     8.22    5.51   \n318691  (주)메디라인액티브코리아Y32604  2020  28979475000  1728057000     6.94    4.81   \n\n          부채비율    영업활동현금흐름    유동비율 자기자본순이익률  ... 매출액증가율     판매비와관리비  \\\n0        88.63         NaN  154.57    11.39  ...   4.22   473794000   \n1        73.44         NaN  179.11     12.4  ...  10.84   531046000   \n2        65.12         NaN  203.14    16.18  ...  15.14   791606000   \n3        53.64         NaN  240.93    32.69  ...  -0.53   685558000   \n4        54.85         NaN   156.8    32.34  ...   8.55   663762000   \n...        ...         ...     ...      ...  ...    ...         ...   \n318687  329.38         NaN  135.24    90.42  ...  51.54  1884831000   \n318688  285.79         NaN  178.41    24.04  ...  21.65  2679740000   \n318689  235.55         NaN  219.69    63.15  ...  22.17  3671922000   \n318690   204.8   433804000  178.89    50.14  ...   20.5  5063362000   \n318691  201.65  1880193000  254.43    37.02  ...   5.69  5613370000   \n\n       장기매출채권대손충당금        매출채권 매출채권대손충당금     장기매출채권    ROA    감사법인  \\\n0              NaN  1131665000  11431000  191252000   5.78     NaN   \n1              NaN  1169129000  11809000  178238000   6.87     NaN   \n2              NaN  1118903000  11302000    3623000   9.57     NaN   \n3              NaN  1437747000  14523000        NaN  20.61     NaN   \n4              NaN  1460703000  14755000        NaN  20.95     NaN   \n...            ...         ...       ...        ...    ...     ...   \n318687         NaN  2732633000  27602000        NaN  20.41     NaN   \n318688         NaN  4249821000  42927000        NaN   5.94     NaN   \n318689         NaN  3992972000  40333000        NaN  17.67     NaN   \n318690         NaN  5910729000       NaN        NaN   15.8     NaN   \n318691         NaN  6149909000       NaN        NaN  12.22  한울회계법인   \n\n              감사의견 신용평점  \n0              NaN    5  \n1              NaN    4  \n2              NaN    4  \n3              NaN    3  \n4              NaN    3  \n...            ...  ...  \n318687         NaN    5  \n318688         NaN    6  \n318689         NaN    5  \n318690        감사미필    5  \n318691  한정(감사범위제한)    4  \n\n[318692 rows x 31 columns]",
      "text/html": "<div>\n<style scoped>\n    .dataframe tbody tr th:only-of-type {\n        vertical-align: middle;\n    }\n\n    .dataframe tbody tr th {\n        vertical-align: top;\n    }\n\n    .dataframe thead th {\n        text-align: right;\n    }\n</style>\n<table border=\"1\" class=\"dataframe\">\n  <thead>\n    <tr style=\"text-align: right;\">\n      <th></th>\n      <th>기업명</th>\n      <th>년도</th>\n      <th>매출액</th>\n      <th>당기순이익</th>\n      <th>매출액영업이익률</th>\n      <th>매출채권회전율</th>\n      <th>부채비율</th>\n      <th>영업활동현금흐름</th>\n      <th>유동비율</th>\n      <th>자기자본순이익률</th>\n      <th>...</th>\n      <th>매출액증가율</th>\n      <th>판매비와관리비</th>\n      <th>장기매출채권대손충당금</th>\n      <th>매출채권</th>\n      <th>매출채권대손충당금</th>\n      <th>장기매출채권</th>\n      <th>ROA</th>\n      <th>감사법인</th>\n      <th>감사의견</th>\n      <th>신용평점</th>\n    </tr>\n  </thead>\n  <tbody>\n    <tr>\n      <th>0</th>\n      <td>청우화학(주)000083</td>\n      <td>2010</td>\n      <td>5005091000</td>\n      <td>NaN</td>\n      <td>3.06</td>\n      <td>4.06</td>\n      <td>88.63</td>\n      <td>NaN</td>\n      <td>154.57</td>\n      <td>11.39</td>\n      <td>...</td>\n      <td>4.22</td>\n      <td>473794000</td>\n      <td>NaN</td>\n      <td>1131665000</td>\n      <td>11431000</td>\n      <td>191252000</td>\n      <td>5.78</td>\n      <td>NaN</td>\n      <td>NaN</td>\n      <td>5</td>\n    </tr>\n    <tr>\n      <th>1</th>\n      <td>청우화학(주)000083</td>\n      <td>2011</td>\n      <td>5547721000</td>\n      <td>NaN</td>\n      <td>3.72</td>\n      <td>4.77</td>\n      <td>73.44</td>\n      <td>NaN</td>\n      <td>179.11</td>\n      <td>12.4</td>\n      <td>...</td>\n      <td>10.84</td>\n      <td>531046000</td>\n      <td>NaN</td>\n      <td>1169129000</td>\n      <td>11809000</td>\n      <td>178238000</td>\n      <td>6.87</td>\n      <td>NaN</td>\n      <td>NaN</td>\n      <td>4</td>\n    </tr>\n    <tr>\n      <th>2</th>\n      <td>청우화학(주)000083</td>\n      <td>2012</td>\n      <td>6387805000</td>\n      <td>NaN</td>\n      <td>4.97</td>\n      <td>5.53</td>\n      <td>65.12</td>\n      <td>NaN</td>\n      <td>203.14</td>\n      <td>16.18</td>\n      <td>...</td>\n      <td>15.14</td>\n      <td>791606000</td>\n      <td>NaN</td>\n      <td>1118903000</td>\n      <td>11302000</td>\n      <td>3623000</td>\n      <td>9.57</td>\n      <td>NaN</td>\n      <td>NaN</td>\n      <td>4</td>\n    </tr>\n    <tr>\n      <th>3</th>\n      <td>청우화학(주)000083</td>\n      <td>2013</td>\n      <td>6353868000</td>\n      <td>NaN</td>\n      <td>13.01</td>\n      <td>4.92</td>\n      <td>53.64</td>\n      <td>NaN</td>\n      <td>240.93</td>\n      <td>32.69</td>\n      <td>...</td>\n      <td>-0.53</td>\n      <td>685558000</td>\n      <td>NaN</td>\n      <td>1437747000</td>\n      <td>14523000</td>\n      <td>NaN</td>\n      <td>20.61</td>\n      <td>NaN</td>\n      <td>NaN</td>\n      <td>3</td>\n    </tr>\n    <tr>\n      <th>4</th>\n      <td>청우화학(주)000083</td>\n      <td>2014</td>\n      <td>6897317000</td>\n      <td>NaN</td>\n      <td>15.21</td>\n      <td>4.71</td>\n      <td>54.85</td>\n      <td>NaN</td>\n      <td>156.8</td>\n      <td>32.34</td>\n      <td>...</td>\n      <td>8.55</td>\n      <td>663762000</td>\n      <td>NaN</td>\n      <td>1460703000</td>\n      <td>14755000</td>\n      <td>NaN</td>\n      <td>20.95</td>\n      <td>NaN</td>\n      <td>NaN</td>\n      <td>3</td>\n    </tr>\n    <tr>\n      <th>...</th>\n      <td>...</td>\n      <td>...</td>\n      <td>...</td>\n      <td>...</td>\n      <td>...</td>\n      <td>...</td>\n      <td>...</td>\n      <td>...</td>\n      <td>...</td>\n      <td>...</td>\n      <td>...</td>\n      <td>...</td>\n      <td>...</td>\n      <td>...</td>\n      <td>...</td>\n      <td>...</td>\n      <td>...</td>\n      <td>...</td>\n      <td>...</td>\n      <td>...</td>\n      <td>...</td>\n    </tr>\n    <tr>\n      <th>318687</th>\n      <td>(주)메디라인액티브코리아Y32604</td>\n      <td>2016</td>\n      <td>15311754000</td>\n      <td>NaN</td>\n      <td>9.46</td>\n      <td>6.9</td>\n      <td>329.38</td>\n      <td>NaN</td>\n      <td>135.24</td>\n      <td>90.42</td>\n      <td>...</td>\n      <td>51.54</td>\n      <td>1884831000</td>\n      <td>NaN</td>\n      <td>2732633000</td>\n      <td>27602000</td>\n      <td>NaN</td>\n      <td>20.41</td>\n      <td>NaN</td>\n      <td>NaN</td>\n      <td>5</td>\n    </tr>\n    <tr>\n      <th>318688</th>\n      <td>(주)메디라인액티브코리아Y32604</td>\n      <td>2017</td>\n      <td>18627175000</td>\n      <td>NaN</td>\n      <td>10.29</td>\n      <td>5.28</td>\n      <td>285.79</td>\n      <td>NaN</td>\n      <td>178.41</td>\n      <td>24.04</td>\n      <td>...</td>\n      <td>21.65</td>\n      <td>2679740000</td>\n      <td>NaN</td>\n      <td>4249821000</td>\n      <td>42927000</td>\n      <td>NaN</td>\n      <td>5.94</td>\n      <td>NaN</td>\n      <td>NaN</td>\n      <td>6</td>\n    </tr>\n    <tr>\n      <th>318689</th>\n      <td>(주)메디라인액티브코리아Y32604</td>\n      <td>2018</td>\n      <td>22755938000</td>\n      <td>NaN</td>\n      <td>9</td>\n      <td>5.47</td>\n      <td>235.55</td>\n      <td>NaN</td>\n      <td>219.69</td>\n      <td>63.15</td>\n      <td>...</td>\n      <td>22.17</td>\n      <td>3671922000</td>\n      <td>NaN</td>\n      <td>3992972000</td>\n      <td>40333000</td>\n      <td>NaN</td>\n      <td>17.67</td>\n      <td>NaN</td>\n      <td>NaN</td>\n      <td>5</td>\n    </tr>\n    <tr>\n      <th>318690</th>\n      <td>(주)메디라인액티브코리아Y32604</td>\n      <td>2019</td>\n      <td>27419993000</td>\n      <td>1712602000</td>\n      <td>8.22</td>\n      <td>5.51</td>\n      <td>204.8</td>\n      <td>433804000</td>\n      <td>178.89</td>\n      <td>50.14</td>\n      <td>...</td>\n      <td>20.5</td>\n      <td>5063362000</td>\n      <td>NaN</td>\n      <td>5910729000</td>\n      <td>NaN</td>\n      <td>NaN</td>\n      <td>15.8</td>\n      <td>NaN</td>\n      <td>감사미필</td>\n      <td>5</td>\n    </tr>\n    <tr>\n      <th>318691</th>\n      <td>(주)메디라인액티브코리아Y32604</td>\n      <td>2020</td>\n      <td>28979475000</td>\n      <td>1728057000</td>\n      <td>6.94</td>\n      <td>4.81</td>\n      <td>201.65</td>\n      <td>1880193000</td>\n      <td>254.43</td>\n      <td>37.02</td>\n      <td>...</td>\n      <td>5.69</td>\n      <td>5613370000</td>\n      <td>NaN</td>\n      <td>6149909000</td>\n      <td>NaN</td>\n      <td>NaN</td>\n      <td>12.22</td>\n      <td>한울회계법인</td>\n      <td>한정(감사범위제한)</td>\n      <td>4</td>\n    </tr>\n  </tbody>\n</table>\n<p>318692 rows × 31 columns</p>\n</div>"
     },
     "execution_count": 5,
     "metadata": {},
     "output_type": "execute_result"
    }
   ],
   "source": [
    "data.drop(['level_1'], axis = 1, inplace = True) #합치는 과정에서 중간의 겹치는 열 삭제\n",
    "data.drop(['Unnamed: 2'], axis = 1, inplace = True)\n",
    "data"
   ]
  },
  {
   "cell_type": "markdown",
   "id": "c856c194-ed13-448c-958e-8467de0edb03",
   "metadata": {},
   "source": [
    "### 변동 함수 설정"
   ]
  },
  {
   "cell_type": "markdown",
   "id": "70ac01e5-dc03-40b9-8fe1-1008aa70e652",
   "metadata": {},
   "source": [
    "##### 당기: 현재의 회계연도\n",
    "##### 전기: 직전년의 회계년도"
   ]
  },
  {
   "cell_type": "markdown",
   "id": "61502058-6297-4577-bee8-a3e396c4a6e2",
   "metadata": {},
   "source": [
    "#### (당기-전기)/전기"
   ]
  },
  {
   "cell_type": "code",
   "execution_count": 6,
   "id": "8b4abbaf-16f6-4ca1-8cd5-867661870f6f",
   "metadata": {},
   "outputs": [],
   "source": [
    "def fluctuation_1(df):\n",
    "    변동_idx = df.copy()\n",
    "    변동_idx = 변동_idx.loc[:, '2010':'2020'] # main index\n",
    "    for i in range(len(df.columns)-1):\n",
    "        변동_idx[df.columns[i+1]] =\\\n",
    "        (df[df.columns[i+1]]-df[df.columns[i]])/df[df.columns[i]]\n",
    "    return 변동_idx"
   ]
  },
  {
   "cell_type": "markdown",
   "id": "1b49f231-a4bf-42d4-9032-d3e833453513",
   "metadata": {},
   "source": [
    "#### 당기/전기"
   ]
  },
  {
   "cell_type": "code",
   "execution_count": 7,
   "id": "7d02d624-0f7c-4bee-8f55-a58f3cb2473c",
   "metadata": {},
   "outputs": [],
   "source": [
    "def fluctuation_2(df):\n",
    "    변동_idx = df.copy()\n",
    "    변동_idx = 변동_idx.loc[:, '2010':'2020']\n",
    "    for i in range(len(df.columns)-1):\n",
    "        변동_idx[df.columns[i+1]] =\\\n",
    "        df[df.columns[i+1]]/df[df.columns[i]]\n",
    "    return 변동_idx"
   ]
  },
  {
   "cell_type": "markdown",
   "id": "57151707-3870-4ff4-adb3-2500e73c6f51",
   "metadata": {},
   "source": [
    "#### 당기-전기"
   ]
  },
  {
   "cell_type": "code",
   "execution_count": 8,
   "id": "faf6cde0-ff5e-4187-989f-dd52ee55eafa",
   "metadata": {},
   "outputs": [],
   "source": [
    "def fluctuation_3(df):\n",
    "    변동_idx = df.copy()\n",
    "    변동_idx = 변동_idx.loc[:, '2010':'2020']\n",
    "    for i in range(len(df.columns)-1):\n",
    "        변동_idx[df.columns[i+1]] =\\\n",
    "        df[df.columns[i+1]]-df[df.columns[i]]\n",
    "    return 변동_idx"
   ]
  },
  {
   "cell_type": "markdown",
   "id": "bc9ac8d0-bf22-4d35-91da-65e447154e2d",
   "metadata": {
    "tags": []
   },
   "source": [
    "## 2. Setting Values"
   ]
  },
  {
   "cell_type": "markdown",
   "id": "0eb14ecf-cf6e-40ab-b097-804956c76acb",
   "metadata": {},
   "source": [
    "### 1) 주요왜곡표시 지표"
   ]
  },
  {
   "cell_type": "markdown",
   "id": "97547f99-847f-4835-809d-eab1c4462e6c",
   "metadata": {},
   "source": [
    "#### 매출채권회전율변동(ARTOpc)"
   ]
  },
  {
   "cell_type": "code",
   "execution_count": 9,
   "id": "3dffe580-c4d6-4c94-af01-ec0d8c2e22f2",
   "metadata": {},
   "outputs": [
    {
     "data": {
      "text/plain": "년도                       2010      2011      2012      2013      2014  \\\n기업명                                                                     \n(유)가든주류244534            8.54  0.345433 -0.372498 -0.217753 -0.145390   \n(유)건향개발I57907             NaN       NaN  0.476190       NaN       NaN   \n(유)국제에이엠씨M00154           NaN       NaN       NaN       NaN       NaN   \n(유)그랜드유니버셜트레이딩코리아I83725   NaN       NaN       NaN       NaN       NaN   \n(유)그룹세브코리아609692          NaN       NaN       NaN       NaN       NaN   \n...                       ...       ...       ...       ...       ...   \n히로세코리아(주)450090          7.55 -0.018543 -0.021592  0.017931  0.025745   \n히스보험중개(주)197675           NaN       NaN       NaN       NaN       NaN   \n히타치금속한국(주)041866         4.04  0.042079  0.016627 -0.105140 -0.190601   \n히타치하이테크코리아(주)380165      7.10 -0.053521 -0.087798  0.314845 -0.052109   \n힐티코리아(주)389471           4.83  0.078675  0.107486  0.100520  0.182677   \n\n년도                           2015      2016      2017      2018      2019  \\\n기업명                                                                         \n(유)가든주류244534            0.275934  0.339837 -0.297330  0.067358  0.224919   \n(유)건향개발I57907            6.992941  1.131292 -0.451381 -0.706949 -0.469072   \n(유)국제에이엠씨M00154               NaN  4.528571 -0.387597 -0.333333       NaN   \n(유)그랜드유니버셜트레이딩코리아I83725       NaN       NaN       NaN  0.251670 -0.225979   \n(유)그룹세브코리아609692              NaN       NaN       NaN       NaN       NaN   \n...                           ...       ...       ...       ...       ...   \n히로세코리아(주)450090         -0.221929  0.000000  0.106961  0.073620 -0.041429   \n히스보험중개(주)197675               NaN       NaN       NaN       NaN       NaN   \n히타치금속한국(주)041866         0.154839  0.636872  0.134812  0.066165 -0.101551   \n히타치하이테크코리아(주)380165     -0.091623 -0.034582 -0.083582  0.337134  0.181486   \n힐티코리아(주)389471           0.009321 -0.005277  0.025199 -0.027167  0.013298   \n\n년도                           2020  \n기업명                                \n(유)가든주류244534           -0.216645  \n(유)건향개발I57907           -0.011327  \n(유)국제에이엠씨M00154               NaN  \n(유)그랜드유니버셜트레이딩코리아I83725  0.243678  \n(유)그룹세브코리아609692         0.040816  \n...                           ...  \n히로세코리아(주)450090          0.175857  \n히스보험중개(주)197675               NaN  \n히타치금속한국(주)041866         0.078493  \n히타치하이테크코리아(주)380165      0.009278  \n힐티코리아(주)389471          -0.001312  \n\n[28972 rows x 11 columns]",
      "text/html": "<div>\n<style scoped>\n    .dataframe tbody tr th:only-of-type {\n        vertical-align: middle;\n    }\n\n    .dataframe tbody tr th {\n        vertical-align: top;\n    }\n\n    .dataframe thead th {\n        text-align: right;\n    }\n</style>\n<table border=\"1\" class=\"dataframe\">\n  <thead>\n    <tr style=\"text-align: right;\">\n      <th>년도</th>\n      <th>2010</th>\n      <th>2011</th>\n      <th>2012</th>\n      <th>2013</th>\n      <th>2014</th>\n      <th>2015</th>\n      <th>2016</th>\n      <th>2017</th>\n      <th>2018</th>\n      <th>2019</th>\n      <th>2020</th>\n    </tr>\n    <tr>\n      <th>기업명</th>\n      <th></th>\n      <th></th>\n      <th></th>\n      <th></th>\n      <th></th>\n      <th></th>\n      <th></th>\n      <th></th>\n      <th></th>\n      <th></th>\n      <th></th>\n    </tr>\n  </thead>\n  <tbody>\n    <tr>\n      <th>(유)가든주류244534</th>\n      <td>8.54</td>\n      <td>0.345433</td>\n      <td>-0.372498</td>\n      <td>-0.217753</td>\n      <td>-0.145390</td>\n      <td>0.275934</td>\n      <td>0.339837</td>\n      <td>-0.297330</td>\n      <td>0.067358</td>\n      <td>0.224919</td>\n      <td>-0.216645</td>\n    </tr>\n    <tr>\n      <th>(유)건향개발I57907</th>\n      <td>NaN</td>\n      <td>NaN</td>\n      <td>0.476190</td>\n      <td>NaN</td>\n      <td>NaN</td>\n      <td>6.992941</td>\n      <td>1.131292</td>\n      <td>-0.451381</td>\n      <td>-0.706949</td>\n      <td>-0.469072</td>\n      <td>-0.011327</td>\n    </tr>\n    <tr>\n      <th>(유)국제에이엠씨M00154</th>\n      <td>NaN</td>\n      <td>NaN</td>\n      <td>NaN</td>\n      <td>NaN</td>\n      <td>NaN</td>\n      <td>NaN</td>\n      <td>4.528571</td>\n      <td>-0.387597</td>\n      <td>-0.333333</td>\n      <td>NaN</td>\n      <td>NaN</td>\n    </tr>\n    <tr>\n      <th>(유)그랜드유니버셜트레이딩코리아I83725</th>\n      <td>NaN</td>\n      <td>NaN</td>\n      <td>NaN</td>\n      <td>NaN</td>\n      <td>NaN</td>\n      <td>NaN</td>\n      <td>NaN</td>\n      <td>NaN</td>\n      <td>0.251670</td>\n      <td>-0.225979</td>\n      <td>0.243678</td>\n    </tr>\n    <tr>\n      <th>(유)그룹세브코리아609692</th>\n      <td>NaN</td>\n      <td>NaN</td>\n      <td>NaN</td>\n      <td>NaN</td>\n      <td>NaN</td>\n      <td>NaN</td>\n      <td>NaN</td>\n      <td>NaN</td>\n      <td>NaN</td>\n      <td>NaN</td>\n      <td>0.040816</td>\n    </tr>\n    <tr>\n      <th>...</th>\n      <td>...</td>\n      <td>...</td>\n      <td>...</td>\n      <td>...</td>\n      <td>...</td>\n      <td>...</td>\n      <td>...</td>\n      <td>...</td>\n      <td>...</td>\n      <td>...</td>\n      <td>...</td>\n    </tr>\n    <tr>\n      <th>히로세코리아(주)450090</th>\n      <td>7.55</td>\n      <td>-0.018543</td>\n      <td>-0.021592</td>\n      <td>0.017931</td>\n      <td>0.025745</td>\n      <td>-0.221929</td>\n      <td>0.000000</td>\n      <td>0.106961</td>\n      <td>0.073620</td>\n      <td>-0.041429</td>\n      <td>0.175857</td>\n    </tr>\n    <tr>\n      <th>히스보험중개(주)197675</th>\n      <td>NaN</td>\n      <td>NaN</td>\n      <td>NaN</td>\n      <td>NaN</td>\n      <td>NaN</td>\n      <td>NaN</td>\n      <td>NaN</td>\n      <td>NaN</td>\n      <td>NaN</td>\n      <td>NaN</td>\n      <td>NaN</td>\n    </tr>\n    <tr>\n      <th>히타치금속한국(주)041866</th>\n      <td>4.04</td>\n      <td>0.042079</td>\n      <td>0.016627</td>\n      <td>-0.105140</td>\n      <td>-0.190601</td>\n      <td>0.154839</td>\n      <td>0.636872</td>\n      <td>0.134812</td>\n      <td>0.066165</td>\n      <td>-0.101551</td>\n      <td>0.078493</td>\n    </tr>\n    <tr>\n      <th>히타치하이테크코리아(주)380165</th>\n      <td>7.10</td>\n      <td>-0.053521</td>\n      <td>-0.087798</td>\n      <td>0.314845</td>\n      <td>-0.052109</td>\n      <td>-0.091623</td>\n      <td>-0.034582</td>\n      <td>-0.083582</td>\n      <td>0.337134</td>\n      <td>0.181486</td>\n      <td>0.009278</td>\n    </tr>\n    <tr>\n      <th>힐티코리아(주)389471</th>\n      <td>4.83</td>\n      <td>0.078675</td>\n      <td>0.107486</td>\n      <td>0.100520</td>\n      <td>0.182677</td>\n      <td>0.009321</td>\n      <td>-0.005277</td>\n      <td>0.025199</td>\n      <td>-0.027167</td>\n      <td>0.013298</td>\n      <td>-0.001312</td>\n    </tr>\n  </tbody>\n</table>\n<p>28972 rows × 11 columns</p>\n</div>"
     },
     "execution_count": 9,
     "metadata": {},
     "output_type": "execute_result"
    }
   ],
   "source": [
    "data.매출채권회전율 = pd.to_numeric(data.매출채권회전율) #숫자형으로 바꾸기\n",
    "매출채권회전율_idx = data.pivot_table(columns='년도', index = '기업명', values='매출채권회전율', aggfunc='mean', dropna=False) #년도 열 데이터를 행 데이터로 만들기, NaN 포함\n",
    "매출채권회전율_변동_idx = fluctuation_1(매출채권회전율_idx)\n",
    "매출채권회전율_변동_idx"
   ]
  },
  {
   "cell_type": "markdown",
   "id": "d877ec99-ab2f-48dd-91e8-fbba2ab6bd8b",
   "metadata": {},
   "source": [
    "#### 재고자산회전율변동(APTOpc)"
   ]
  },
  {
   "cell_type": "code",
   "execution_count": 10,
   "id": "7129b48b-4e9e-4415-bd8d-e8e669b21dab",
   "metadata": {},
   "outputs": [
    {
     "data": {
      "text/plain": "년도                        2010      2011      2012      2013      2014  \\\n기업명                                                                      \n(유)가든주류244534            13.29 -0.102333 -0.041911  0.363080  0.345956   \n(유)건향개발I57907              NaN       NaN       NaN       NaN       NaN   \n(유)국제에이엠씨M00154            NaN       NaN       NaN       NaN       NaN   \n(유)그랜드유니버셜트레이딩코리아I83725    NaN       NaN       NaN       NaN       NaN   \n(유)그룹세브코리아609692           NaN       NaN       NaN       NaN       NaN   \n...                        ...       ...       ...       ...       ...   \n히로세코리아(주)450090          18.11 -0.247929 -0.019824  0.358052  0.244346   \n히스보험중개(주)197675            NaN       NaN       NaN       NaN       NaN   \n히타치금속한국(주)041866          4.44 -0.094595 -0.027363  0.227621 -0.035417   \n히타치하이테크코리아(주)380165      19.62  0.594292 -0.147379  0.208474  0.133106   \n힐티코리아(주)389471            6.34 -0.072555  0.022109  0.006656  0.142149   \n\n년도                           2015      2016      2017      2018      2019  \\\n기업명                                                                         \n(유)가든주류244534            0.228422 -0.198370 -0.062470  0.013430 -0.015800   \n(유)건향개발I57907                 NaN -0.862079 -0.187572  2.679380  1.632373   \n(유)국제에이엠씨M00154               NaN       NaN       NaN       NaN       NaN   \n(유)그랜드유니버셜트레이딩코리아I83725       NaN       NaN       NaN  0.507400 -0.040673   \n(유)그룹세브코리아609692              NaN       NaN       NaN       NaN       NaN   \n...                           ...       ...       ...       ...       ...   \n히로세코리아(주)450090         -0.144504  0.023834  0.022773 -0.255319 -0.124917   \n히스보험중개(주)197675               NaN       NaN       NaN       NaN       NaN   \n히타치금속한국(주)041866         0.328294  0.430894  0.082955 -0.049318 -0.066225   \n히타치하이테크코리아(주)380165     -0.077492 -0.064411  0.050127  0.163142 -0.441558   \n힐티코리아(주)389471          -0.086831 -0.003170 -0.007949 -0.088141  0.079086   \n\n년도                           2020  \n기업명                                \n(유)가든주류244534           -0.009839  \n(유)건향개발I57907            0.079725  \n(유)국제에이엠씨M00154               NaN  \n(유)그랜드유니버셜트레이딩코리아I83725 -0.057018  \n(유)그룹세브코리아609692         0.052117  \n...                           ...  \n히로세코리아(주)450090          0.109339  \n히스보험중개(주)197675               NaN  \n히타치금속한국(주)041866         0.314421  \n히타치하이테크코리아(주)380165     -0.533953  \n힐티코리아(주)389471          -0.024430  \n\n[28972 rows x 11 columns]",
      "text/html": "<div>\n<style scoped>\n    .dataframe tbody tr th:only-of-type {\n        vertical-align: middle;\n    }\n\n    .dataframe tbody tr th {\n        vertical-align: top;\n    }\n\n    .dataframe thead th {\n        text-align: right;\n    }\n</style>\n<table border=\"1\" class=\"dataframe\">\n  <thead>\n    <tr style=\"text-align: right;\">\n      <th>년도</th>\n      <th>2010</th>\n      <th>2011</th>\n      <th>2012</th>\n      <th>2013</th>\n      <th>2014</th>\n      <th>2015</th>\n      <th>2016</th>\n      <th>2017</th>\n      <th>2018</th>\n      <th>2019</th>\n      <th>2020</th>\n    </tr>\n    <tr>\n      <th>기업명</th>\n      <th></th>\n      <th></th>\n      <th></th>\n      <th></th>\n      <th></th>\n      <th></th>\n      <th></th>\n      <th></th>\n      <th></th>\n      <th></th>\n      <th></th>\n    </tr>\n  </thead>\n  <tbody>\n    <tr>\n      <th>(유)가든주류244534</th>\n      <td>13.29</td>\n      <td>-0.102333</td>\n      <td>-0.041911</td>\n      <td>0.363080</td>\n      <td>0.345956</td>\n      <td>0.228422</td>\n      <td>-0.198370</td>\n      <td>-0.062470</td>\n      <td>0.013430</td>\n      <td>-0.015800</td>\n      <td>-0.009839</td>\n    </tr>\n    <tr>\n      <th>(유)건향개발I57907</th>\n      <td>NaN</td>\n      <td>NaN</td>\n      <td>NaN</td>\n      <td>NaN</td>\n      <td>NaN</td>\n      <td>NaN</td>\n      <td>-0.862079</td>\n      <td>-0.187572</td>\n      <td>2.679380</td>\n      <td>1.632373</td>\n      <td>0.079725</td>\n    </tr>\n    <tr>\n      <th>(유)국제에이엠씨M00154</th>\n      <td>NaN</td>\n      <td>NaN</td>\n      <td>NaN</td>\n      <td>NaN</td>\n      <td>NaN</td>\n      <td>NaN</td>\n      <td>NaN</td>\n      <td>NaN</td>\n      <td>NaN</td>\n      <td>NaN</td>\n      <td>NaN</td>\n    </tr>\n    <tr>\n      <th>(유)그랜드유니버셜트레이딩코리아I83725</th>\n      <td>NaN</td>\n      <td>NaN</td>\n      <td>NaN</td>\n      <td>NaN</td>\n      <td>NaN</td>\n      <td>NaN</td>\n      <td>NaN</td>\n      <td>NaN</td>\n      <td>0.507400</td>\n      <td>-0.040673</td>\n      <td>-0.057018</td>\n    </tr>\n    <tr>\n      <th>(유)그룹세브코리아609692</th>\n      <td>NaN</td>\n      <td>NaN</td>\n      <td>NaN</td>\n      <td>NaN</td>\n      <td>NaN</td>\n      <td>NaN</td>\n      <td>NaN</td>\n      <td>NaN</td>\n      <td>NaN</td>\n      <td>NaN</td>\n      <td>0.052117</td>\n    </tr>\n    <tr>\n      <th>...</th>\n      <td>...</td>\n      <td>...</td>\n      <td>...</td>\n      <td>...</td>\n      <td>...</td>\n      <td>...</td>\n      <td>...</td>\n      <td>...</td>\n      <td>...</td>\n      <td>...</td>\n      <td>...</td>\n    </tr>\n    <tr>\n      <th>히로세코리아(주)450090</th>\n      <td>18.11</td>\n      <td>-0.247929</td>\n      <td>-0.019824</td>\n      <td>0.358052</td>\n      <td>0.244346</td>\n      <td>-0.144504</td>\n      <td>0.023834</td>\n      <td>0.022773</td>\n      <td>-0.255319</td>\n      <td>-0.124917</td>\n      <td>0.109339</td>\n    </tr>\n    <tr>\n      <th>히스보험중개(주)197675</th>\n      <td>NaN</td>\n      <td>NaN</td>\n      <td>NaN</td>\n      <td>NaN</td>\n      <td>NaN</td>\n      <td>NaN</td>\n      <td>NaN</td>\n      <td>NaN</td>\n      <td>NaN</td>\n      <td>NaN</td>\n      <td>NaN</td>\n    </tr>\n    <tr>\n      <th>히타치금속한국(주)041866</th>\n      <td>4.44</td>\n      <td>-0.094595</td>\n      <td>-0.027363</td>\n      <td>0.227621</td>\n      <td>-0.035417</td>\n      <td>0.328294</td>\n      <td>0.430894</td>\n      <td>0.082955</td>\n      <td>-0.049318</td>\n      <td>-0.066225</td>\n      <td>0.314421</td>\n    </tr>\n    <tr>\n      <th>히타치하이테크코리아(주)380165</th>\n      <td>19.62</td>\n      <td>0.594292</td>\n      <td>-0.147379</td>\n      <td>0.208474</td>\n      <td>0.133106</td>\n      <td>-0.077492</td>\n      <td>-0.064411</td>\n      <td>0.050127</td>\n      <td>0.163142</td>\n      <td>-0.441558</td>\n      <td>-0.533953</td>\n    </tr>\n    <tr>\n      <th>힐티코리아(주)389471</th>\n      <td>6.34</td>\n      <td>-0.072555</td>\n      <td>0.022109</td>\n      <td>0.006656</td>\n      <td>0.142149</td>\n      <td>-0.086831</td>\n      <td>-0.003170</td>\n      <td>-0.007949</td>\n      <td>-0.088141</td>\n      <td>0.079086</td>\n      <td>-0.024430</td>\n    </tr>\n  </tbody>\n</table>\n<p>28972 rows × 11 columns</p>\n</div>"
     },
     "execution_count": 10,
     "metadata": {},
     "output_type": "execute_result"
    }
   ],
   "source": [
    "data.재고자산회전율 = pd.to_numeric(data.재고자산회전율)\n",
    "재고자산회전율_idx = data.pivot_table(columns='년도', index = '기업명', values='재고자산회전율', aggfunc='mean', dropna=False)\n",
    "재고자산회전율_변동_idx = fluctuation_1(재고자산회전율_idx)\n",
    "재고자산회전율_변동_idx"
   ]
  },
  {
   "cell_type": "markdown",
   "id": "e87b47d2-714e-42f6-b577-f409a91616ef",
   "metadata": {},
   "source": [
    "#### 대손충당금율변동(ABDpc)"
   ]
  },
  {
   "cell_type": "code",
   "execution_count": 11,
   "id": "0466a016-b6c5-426d-a687-48d1c1d7f156",
   "metadata": {},
   "outputs": [],
   "source": [
    "data.장기매출채권대손충당금 = data.장기매출채권대손충당금.fillna(0) #결측값 0으로 채우기\n",
    "data.매출채권대손충당금 = data.매출채권대손충당금.fillna(0)\n",
    "data['대손충당금'] = data.장기매출채권대손충당금 + data.매출채권대손충당금 #Pandas는 새 열이 변수명으로 생성되는 것을 금지하고 있어서"
   ]
  },
  {
   "cell_type": "code",
   "execution_count": 12,
   "id": "798d37d4-545e-48b1-9794-831f2c9c7284",
   "metadata": {},
   "outputs": [],
   "source": [
    "data.장기매출채권 = data.장기매출채권.fillna(0)\n",
    "data.매출채권 = data.매출채권.fillna(0)\n",
    "data['매출채권'] = data.장기매출채권 + data.매출채권"
   ]
  },
  {
   "cell_type": "code",
   "execution_count": 13,
   "id": "8f77a9ff-af03-4cd6-9494-96c360192e5b",
   "metadata": {},
   "outputs": [],
   "source": [
    "data['대손충당금율'] = data.대손충당금 / data.매출채권"
   ]
  },
  {
   "cell_type": "code",
   "execution_count": 14,
   "id": "afb85f1a-4b36-482a-ad97-d9886725990a",
   "metadata": {},
   "outputs": [
    {
     "data": {
      "text/plain": "년도                           2010      2011      2012      2013      2014  \\\n기업명                                                                         \n(유)가든주류244534            0.000000       NaN       NaN  0.827051  0.916581   \n(유)건향개발I57907                 NaN       NaN       NaN       NaN       NaN   \n(유)국제에이엠씨M00154               NaN       NaN       NaN       NaN       NaN   \n(유)그랜드유니버셜트레이딩코리아I83725       NaN       NaN       NaN       NaN       NaN   \n(유)그룹세브코리아609692              NaN       NaN       NaN       NaN       NaN   \n...                           ...       ...       ...       ...       ...   \n히로세코리아(주)450090          0.010180  1.003404  1.136997  0.957066  0.981577   \n히스보험중개(주)197675               NaN       NaN       NaN       NaN       NaN   \n히타치금속한국(주)041866         0.013304  0.951623  0.976347  0.834490  1.439756   \n히타치하이테크코리아(주)380165      0.010101  0.999999  1.000009  1.000000  0.000000   \n힐티코리아(주)389471           0.416739  0.700740  1.236349  0.757197  0.959512   \n\n년도                           2015      2016      2017      2018      2019  \\\n기업명                                                                         \n(유)가든주류244534            1.809184  0.822296  0.559265  1.472923  0.826488   \n(유)건향개발I57907                 NaN       NaN       NaN       NaN       NaN   \n(유)국제에이엠씨M00154               NaN       NaN       NaN       NaN       NaN   \n(유)그랜드유니버셜트레이딩코리아I83725       NaN       NaN       NaN  0.983976  0.798750   \n(유)그룹세브코리아609692              NaN       NaN       NaN       NaN       NaN   \n...                           ...       ...       ...       ...       ...   \n히로세코리아(주)450090          1.192805  0.856061  1.006253  1.010593  0.000000   \n히스보험중개(주)197675               NaN       NaN       NaN       NaN       NaN   \n히타치금속한국(주)041866         0.881383  1.134861  0.645624  0.963669  1.302758   \n히타치하이테크코리아(주)380165           NaN       NaN       NaN       NaN       NaN   \n힐티코리아(주)389471           0.729622  0.969011  0.812777  0.865167  1.046623   \n\n년도                           2020  \n기업명                                \n(유)가든주류244534            0.000000  \n(유)건향개발I57907                 NaN  \n(유)국제에이엠씨M00154               NaN  \n(유)그랜드유니버셜트레이딩코리아I83725  0.773256  \n(유)그룹세브코리아609692         1.292898  \n...                           ...  \n히로세코리아(주)450090               NaN  \n히스보험중개(주)197675               NaN  \n히타치금속한국(주)041866         0.250961  \n히타치하이테크코리아(주)380165           NaN  \n힐티코리아(주)389471           0.985369  \n\n[28972 rows x 11 columns]",
      "text/html": "<div>\n<style scoped>\n    .dataframe tbody tr th:only-of-type {\n        vertical-align: middle;\n    }\n\n    .dataframe tbody tr th {\n        vertical-align: top;\n    }\n\n    .dataframe thead th {\n        text-align: right;\n    }\n</style>\n<table border=\"1\" class=\"dataframe\">\n  <thead>\n    <tr style=\"text-align: right;\">\n      <th>년도</th>\n      <th>2010</th>\n      <th>2011</th>\n      <th>2012</th>\n      <th>2013</th>\n      <th>2014</th>\n      <th>2015</th>\n      <th>2016</th>\n      <th>2017</th>\n      <th>2018</th>\n      <th>2019</th>\n      <th>2020</th>\n    </tr>\n    <tr>\n      <th>기업명</th>\n      <th></th>\n      <th></th>\n      <th></th>\n      <th></th>\n      <th></th>\n      <th></th>\n      <th></th>\n      <th></th>\n      <th></th>\n      <th></th>\n      <th></th>\n    </tr>\n  </thead>\n  <tbody>\n    <tr>\n      <th>(유)가든주류244534</th>\n      <td>0.000000</td>\n      <td>NaN</td>\n      <td>NaN</td>\n      <td>0.827051</td>\n      <td>0.916581</td>\n      <td>1.809184</td>\n      <td>0.822296</td>\n      <td>0.559265</td>\n      <td>1.472923</td>\n      <td>0.826488</td>\n      <td>0.000000</td>\n    </tr>\n    <tr>\n      <th>(유)건향개발I57907</th>\n      <td>NaN</td>\n      <td>NaN</td>\n      <td>NaN</td>\n      <td>NaN</td>\n      <td>NaN</td>\n      <td>NaN</td>\n      <td>NaN</td>\n      <td>NaN</td>\n      <td>NaN</td>\n      <td>NaN</td>\n      <td>NaN</td>\n    </tr>\n    <tr>\n      <th>(유)국제에이엠씨M00154</th>\n      <td>NaN</td>\n      <td>NaN</td>\n      <td>NaN</td>\n      <td>NaN</td>\n      <td>NaN</td>\n      <td>NaN</td>\n      <td>NaN</td>\n      <td>NaN</td>\n      <td>NaN</td>\n      <td>NaN</td>\n      <td>NaN</td>\n    </tr>\n    <tr>\n      <th>(유)그랜드유니버셜트레이딩코리아I83725</th>\n      <td>NaN</td>\n      <td>NaN</td>\n      <td>NaN</td>\n      <td>NaN</td>\n      <td>NaN</td>\n      <td>NaN</td>\n      <td>NaN</td>\n      <td>NaN</td>\n      <td>0.983976</td>\n      <td>0.798750</td>\n      <td>0.773256</td>\n    </tr>\n    <tr>\n      <th>(유)그룹세브코리아609692</th>\n      <td>NaN</td>\n      <td>NaN</td>\n      <td>NaN</td>\n      <td>NaN</td>\n      <td>NaN</td>\n      <td>NaN</td>\n      <td>NaN</td>\n      <td>NaN</td>\n      <td>NaN</td>\n      <td>NaN</td>\n      <td>1.292898</td>\n    </tr>\n    <tr>\n      <th>...</th>\n      <td>...</td>\n      <td>...</td>\n      <td>...</td>\n      <td>...</td>\n      <td>...</td>\n      <td>...</td>\n      <td>...</td>\n      <td>...</td>\n      <td>...</td>\n      <td>...</td>\n      <td>...</td>\n    </tr>\n    <tr>\n      <th>히로세코리아(주)450090</th>\n      <td>0.010180</td>\n      <td>1.003404</td>\n      <td>1.136997</td>\n      <td>0.957066</td>\n      <td>0.981577</td>\n      <td>1.192805</td>\n      <td>0.856061</td>\n      <td>1.006253</td>\n      <td>1.010593</td>\n      <td>0.000000</td>\n      <td>NaN</td>\n    </tr>\n    <tr>\n      <th>히스보험중개(주)197675</th>\n      <td>NaN</td>\n      <td>NaN</td>\n      <td>NaN</td>\n      <td>NaN</td>\n      <td>NaN</td>\n      <td>NaN</td>\n      <td>NaN</td>\n      <td>NaN</td>\n      <td>NaN</td>\n      <td>NaN</td>\n      <td>NaN</td>\n    </tr>\n    <tr>\n      <th>히타치금속한국(주)041866</th>\n      <td>0.013304</td>\n      <td>0.951623</td>\n      <td>0.976347</td>\n      <td>0.834490</td>\n      <td>1.439756</td>\n      <td>0.881383</td>\n      <td>1.134861</td>\n      <td>0.645624</td>\n      <td>0.963669</td>\n      <td>1.302758</td>\n      <td>0.250961</td>\n    </tr>\n    <tr>\n      <th>히타치하이테크코리아(주)380165</th>\n      <td>0.010101</td>\n      <td>0.999999</td>\n      <td>1.000009</td>\n      <td>1.000000</td>\n      <td>0.000000</td>\n      <td>NaN</td>\n      <td>NaN</td>\n      <td>NaN</td>\n      <td>NaN</td>\n      <td>NaN</td>\n      <td>NaN</td>\n    </tr>\n    <tr>\n      <th>힐티코리아(주)389471</th>\n      <td>0.416739</td>\n      <td>0.700740</td>\n      <td>1.236349</td>\n      <td>0.757197</td>\n      <td>0.959512</td>\n      <td>0.729622</td>\n      <td>0.969011</td>\n      <td>0.812777</td>\n      <td>0.865167</td>\n      <td>1.046623</td>\n      <td>0.985369</td>\n    </tr>\n  </tbody>\n</table>\n<p>28972 rows × 11 columns</p>\n</div>"
     },
     "execution_count": 14,
     "metadata": {},
     "output_type": "execute_result"
    }
   ],
   "source": [
    "data.대손충당금율 = pd.to_numeric(data.대손충당금율)\n",
    "대손충당금율_idx = data.pivot_table(columns='년도', index = '기업명', values='대손충당금율', aggfunc='mean', dropna=False)\n",
    "대손충당금율_변동_idx = fluctuation_2(대손충당금율_idx)\n",
    "대손충당금율_변동_idx = 대손충당금율_변동_idx.replace([np.inf, -np.inf], np.nan) #inf를 NaN으로 처리\n",
    "대손충당금율_변동_idx"
   ]
  },
  {
   "cell_type": "markdown",
   "id": "4b70db5c-e9a8-49ca-a0a6-de8fd125c4cb",
   "metadata": {},
   "source": [
    "### 2) 안정성 지표"
   ]
  },
  {
   "cell_type": "markdown",
   "id": "9417cfd6-9d7a-47d7-b195-d32f4bc6b49c",
   "metadata": {},
   "source": [
    "#### 유동비율변동(CR)"
   ]
  },
  {
   "cell_type": "code",
   "execution_count": 15,
   "id": "d1961462-7400-45a4-a3c3-ef26c1926526",
   "metadata": {
    "tags": []
   },
   "outputs": [
    {
     "data": {
      "text/plain": "년도                         2010    2011    2012    2013    2014    2015  \\\n기업명                                                                       \n(유)가든주류244534             86.77  121.20  190.48  203.10  246.89  225.38   \n(유)건향개발I57907               NaN  369.56  204.75  378.77  419.42  155.67   \n(유)국제에이엠씨M00154             NaN     NaN     NaN     NaN   41.15    9.92   \n(유)그랜드유니버셜트레이딩코리아I83725     NaN     NaN     NaN  107.19     NaN     NaN   \n(유)그룹세브코리아609692            NaN     NaN     NaN     NaN     NaN     NaN   \n...                         ...     ...     ...     ...     ...     ...   \n히로세코리아(주)450090          282.04  339.66  266.09  203.43  291.97  453.49   \n히스보험중개(주)197675          310.80  184.52  281.94  225.02  206.32  217.42   \n히타치금속한국(주)041866         175.92  169.03  129.29  196.06  199.42  339.75   \n히타치하이테크코리아(주)380165      272.87  287.04  398.77  545.52  602.35  448.34   \n힐티코리아(주)389471           250.36  296.65  238.61  228.28  254.88  242.31   \n\n년도                         2016    2017    2018    2019    2020  \n기업명                                                              \n(유)가든주류244534            276.91  252.81  225.99  243.06  128.39  \n(유)건향개발I57907            153.89  153.29  110.07  128.86  133.70  \n(유)국제에이엠씨M00154           66.90   59.01   51.22   50.78   40.55  \n(유)그랜드유니버셜트레이딩코리아I83725     NaN   79.56   62.24   66.64   86.43  \n(유)그룹세브코리아609692            NaN     NaN     NaN  158.78  155.57  \n...                         ...     ...     ...     ...     ...  \n히로세코리아(주)450090          438.02  566.60  868.13  665.84  459.14  \n히스보험중개(주)197675          182.01  240.75  180.12  214.59  238.86  \n히타치금속한국(주)041866         275.96  224.33  217.66  234.41  230.40  \n히타치하이테크코리아(주)380165      324.15  360.84  322.67  269.07  347.36  \n힐티코리아(주)389471           292.61  275.74  297.24  296.69  226.73  \n\n[28972 rows x 11 columns]",
      "text/html": "<div>\n<style scoped>\n    .dataframe tbody tr th:only-of-type {\n        vertical-align: middle;\n    }\n\n    .dataframe tbody tr th {\n        vertical-align: top;\n    }\n\n    .dataframe thead th {\n        text-align: right;\n    }\n</style>\n<table border=\"1\" class=\"dataframe\">\n  <thead>\n    <tr style=\"text-align: right;\">\n      <th>년도</th>\n      <th>2010</th>\n      <th>2011</th>\n      <th>2012</th>\n      <th>2013</th>\n      <th>2014</th>\n      <th>2015</th>\n      <th>2016</th>\n      <th>2017</th>\n      <th>2018</th>\n      <th>2019</th>\n      <th>2020</th>\n    </tr>\n    <tr>\n      <th>기업명</th>\n      <th></th>\n      <th></th>\n      <th></th>\n      <th></th>\n      <th></th>\n      <th></th>\n      <th></th>\n      <th></th>\n      <th></th>\n      <th></th>\n      <th></th>\n    </tr>\n  </thead>\n  <tbody>\n    <tr>\n      <th>(유)가든주류244534</th>\n      <td>86.77</td>\n      <td>121.20</td>\n      <td>190.48</td>\n      <td>203.10</td>\n      <td>246.89</td>\n      <td>225.38</td>\n      <td>276.91</td>\n      <td>252.81</td>\n      <td>225.99</td>\n      <td>243.06</td>\n      <td>128.39</td>\n    </tr>\n    <tr>\n      <th>(유)건향개발I57907</th>\n      <td>NaN</td>\n      <td>369.56</td>\n      <td>204.75</td>\n      <td>378.77</td>\n      <td>419.42</td>\n      <td>155.67</td>\n      <td>153.89</td>\n      <td>153.29</td>\n      <td>110.07</td>\n      <td>128.86</td>\n      <td>133.70</td>\n    </tr>\n    <tr>\n      <th>(유)국제에이엠씨M00154</th>\n      <td>NaN</td>\n      <td>NaN</td>\n      <td>NaN</td>\n      <td>NaN</td>\n      <td>41.15</td>\n      <td>9.92</td>\n      <td>66.90</td>\n      <td>59.01</td>\n      <td>51.22</td>\n      <td>50.78</td>\n      <td>40.55</td>\n    </tr>\n    <tr>\n      <th>(유)그랜드유니버셜트레이딩코리아I83725</th>\n      <td>NaN</td>\n      <td>NaN</td>\n      <td>NaN</td>\n      <td>107.19</td>\n      <td>NaN</td>\n      <td>NaN</td>\n      <td>NaN</td>\n      <td>79.56</td>\n      <td>62.24</td>\n      <td>66.64</td>\n      <td>86.43</td>\n    </tr>\n    <tr>\n      <th>(유)그룹세브코리아609692</th>\n      <td>NaN</td>\n      <td>NaN</td>\n      <td>NaN</td>\n      <td>NaN</td>\n      <td>NaN</td>\n      <td>NaN</td>\n      <td>NaN</td>\n      <td>NaN</td>\n      <td>NaN</td>\n      <td>158.78</td>\n      <td>155.57</td>\n    </tr>\n    <tr>\n      <th>...</th>\n      <td>...</td>\n      <td>...</td>\n      <td>...</td>\n      <td>...</td>\n      <td>...</td>\n      <td>...</td>\n      <td>...</td>\n      <td>...</td>\n      <td>...</td>\n      <td>...</td>\n      <td>...</td>\n    </tr>\n    <tr>\n      <th>히로세코리아(주)450090</th>\n      <td>282.04</td>\n      <td>339.66</td>\n      <td>266.09</td>\n      <td>203.43</td>\n      <td>291.97</td>\n      <td>453.49</td>\n      <td>438.02</td>\n      <td>566.60</td>\n      <td>868.13</td>\n      <td>665.84</td>\n      <td>459.14</td>\n    </tr>\n    <tr>\n      <th>히스보험중개(주)197675</th>\n      <td>310.80</td>\n      <td>184.52</td>\n      <td>281.94</td>\n      <td>225.02</td>\n      <td>206.32</td>\n      <td>217.42</td>\n      <td>182.01</td>\n      <td>240.75</td>\n      <td>180.12</td>\n      <td>214.59</td>\n      <td>238.86</td>\n    </tr>\n    <tr>\n      <th>히타치금속한국(주)041866</th>\n      <td>175.92</td>\n      <td>169.03</td>\n      <td>129.29</td>\n      <td>196.06</td>\n      <td>199.42</td>\n      <td>339.75</td>\n      <td>275.96</td>\n      <td>224.33</td>\n      <td>217.66</td>\n      <td>234.41</td>\n      <td>230.40</td>\n    </tr>\n    <tr>\n      <th>히타치하이테크코리아(주)380165</th>\n      <td>272.87</td>\n      <td>287.04</td>\n      <td>398.77</td>\n      <td>545.52</td>\n      <td>602.35</td>\n      <td>448.34</td>\n      <td>324.15</td>\n      <td>360.84</td>\n      <td>322.67</td>\n      <td>269.07</td>\n      <td>347.36</td>\n    </tr>\n    <tr>\n      <th>힐티코리아(주)389471</th>\n      <td>250.36</td>\n      <td>296.65</td>\n      <td>238.61</td>\n      <td>228.28</td>\n      <td>254.88</td>\n      <td>242.31</td>\n      <td>292.61</td>\n      <td>275.74</td>\n      <td>297.24</td>\n      <td>296.69</td>\n      <td>226.73</td>\n    </tr>\n  </tbody>\n</table>\n<p>28972 rows × 11 columns</p>\n</div>"
     },
     "execution_count": 15,
     "metadata": {},
     "output_type": "execute_result"
    }
   ],
   "source": [
    "data.유동비율 = pd.to_numeric(data.유동비율)\n",
    "유동비율_idx = data.pivot_table(columns='년도', index = '기업명', values='유동비율', aggfunc='mean', dropna=False)\n",
    "유동비율_idx"
   ]
  },
  {
   "cell_type": "markdown",
   "id": "f2e8e4ae-2034-4606-a3a8-f912c1e84d10",
   "metadata": {},
   "source": [
    "#### 유동비율변동(CRpc)"
   ]
  },
  {
   "cell_type": "code",
   "execution_count": 16,
   "id": "0b9c2ca7-cd89-4d59-a4b0-334733605059",
   "metadata": {
    "tags": []
   },
   "outputs": [
    {
     "data": {
      "text/plain": "년도                         2010      2011      2012      2013      2014  \\\n기업명                                                                       \n(유)가든주류244534             86.77  1.396796  1.571617  1.066254  1.215608   \n(유)건향개발I57907               NaN       NaN  0.554037  1.849915  1.107321   \n(유)국제에이엠씨M00154             NaN       NaN       NaN       NaN       NaN   \n(유)그랜드유니버셜트레이딩코리아I83725     NaN       NaN       NaN       NaN       NaN   \n(유)그룹세브코리아609692            NaN       NaN       NaN       NaN       NaN   \n...                         ...       ...       ...       ...       ...   \n히로세코리아(주)450090          282.04  1.204297  0.783401  0.764516  1.435236   \n히스보험중개(주)197675          310.80  0.593694  1.527964  0.798113  0.916896   \n히타치금속한국(주)041866         175.92  0.960834  0.764894  1.516436  1.017138   \n히타치하이테크코리아(주)380165      272.87  1.051929  1.389249  1.368007  1.104176   \n힐티코리아(주)389471           250.36  1.184894  0.804349  0.956708  1.116524   \n\n년도                           2015      2016      2017      2018      2019  \\\n기업명                                                                         \n(유)가든주류244534            0.912876  1.228636  0.912968  0.893912  1.075534   \n(유)건향개발I57907            0.371155  0.988566  0.996101  0.718051  1.170710   \n(유)국제에이엠씨M00154          0.241069  6.743952  0.882063  0.867988  0.991410   \n(유)그랜드유니버셜트레이딩코리아I83725       NaN       NaN       NaN  0.782303  1.070694   \n(유)그룹세브코리아609692              NaN       NaN       NaN       NaN       NaN   \n...                           ...       ...       ...       ...       ...   \n히로세코리아(주)450090          1.553208  0.965887  1.293548  1.532174  0.766982   \n히스보험중개(주)197675          1.053800  0.837135  1.322730  0.748162  1.191372   \n히타치금속한국(주)041866         1.703691  0.812244  0.812908  0.970267  1.076955   \n히타치하이테크코리아(주)380165      0.744318  0.723000  1.113188  0.894219  0.833886   \n힐티코리아(주)389471           0.950683  1.207585  0.942346  1.077972  0.998150   \n\n년도                           2020  \n기업명                                \n(유)가든주류244534            0.528223  \n(유)건향개발I57907            1.037560  \n(유)국제에이엠씨M00154          0.798543  \n(유)그랜드유니버셜트레이딩코리아I83725  1.296969  \n(유)그룹세브코리아609692         0.979783  \n...                           ...  \n히로세코리아(주)450090          0.689565  \n히스보험중개(주)197675          1.113099  \n히타치금속한국(주)041866         0.982893  \n히타치하이테크코리아(주)380165      1.290965  \n힐티코리아(주)389471           0.764198  \n\n[28972 rows x 11 columns]",
      "text/html": "<div>\n<style scoped>\n    .dataframe tbody tr th:only-of-type {\n        vertical-align: middle;\n    }\n\n    .dataframe tbody tr th {\n        vertical-align: top;\n    }\n\n    .dataframe thead th {\n        text-align: right;\n    }\n</style>\n<table border=\"1\" class=\"dataframe\">\n  <thead>\n    <tr style=\"text-align: right;\">\n      <th>년도</th>\n      <th>2010</th>\n      <th>2011</th>\n      <th>2012</th>\n      <th>2013</th>\n      <th>2014</th>\n      <th>2015</th>\n      <th>2016</th>\n      <th>2017</th>\n      <th>2018</th>\n      <th>2019</th>\n      <th>2020</th>\n    </tr>\n    <tr>\n      <th>기업명</th>\n      <th></th>\n      <th></th>\n      <th></th>\n      <th></th>\n      <th></th>\n      <th></th>\n      <th></th>\n      <th></th>\n      <th></th>\n      <th></th>\n      <th></th>\n    </tr>\n  </thead>\n  <tbody>\n    <tr>\n      <th>(유)가든주류244534</th>\n      <td>86.77</td>\n      <td>1.396796</td>\n      <td>1.571617</td>\n      <td>1.066254</td>\n      <td>1.215608</td>\n      <td>0.912876</td>\n      <td>1.228636</td>\n      <td>0.912968</td>\n      <td>0.893912</td>\n      <td>1.075534</td>\n      <td>0.528223</td>\n    </tr>\n    <tr>\n      <th>(유)건향개발I57907</th>\n      <td>NaN</td>\n      <td>NaN</td>\n      <td>0.554037</td>\n      <td>1.849915</td>\n      <td>1.107321</td>\n      <td>0.371155</td>\n      <td>0.988566</td>\n      <td>0.996101</td>\n      <td>0.718051</td>\n      <td>1.170710</td>\n      <td>1.037560</td>\n    </tr>\n    <tr>\n      <th>(유)국제에이엠씨M00154</th>\n      <td>NaN</td>\n      <td>NaN</td>\n      <td>NaN</td>\n      <td>NaN</td>\n      <td>NaN</td>\n      <td>0.241069</td>\n      <td>6.743952</td>\n      <td>0.882063</td>\n      <td>0.867988</td>\n      <td>0.991410</td>\n      <td>0.798543</td>\n    </tr>\n    <tr>\n      <th>(유)그랜드유니버셜트레이딩코리아I83725</th>\n      <td>NaN</td>\n      <td>NaN</td>\n      <td>NaN</td>\n      <td>NaN</td>\n      <td>NaN</td>\n      <td>NaN</td>\n      <td>NaN</td>\n      <td>NaN</td>\n      <td>0.782303</td>\n      <td>1.070694</td>\n      <td>1.296969</td>\n    </tr>\n    <tr>\n      <th>(유)그룹세브코리아609692</th>\n      <td>NaN</td>\n      <td>NaN</td>\n      <td>NaN</td>\n      <td>NaN</td>\n      <td>NaN</td>\n      <td>NaN</td>\n      <td>NaN</td>\n      <td>NaN</td>\n      <td>NaN</td>\n      <td>NaN</td>\n      <td>0.979783</td>\n    </tr>\n    <tr>\n      <th>...</th>\n      <td>...</td>\n      <td>...</td>\n      <td>...</td>\n      <td>...</td>\n      <td>...</td>\n      <td>...</td>\n      <td>...</td>\n      <td>...</td>\n      <td>...</td>\n      <td>...</td>\n      <td>...</td>\n    </tr>\n    <tr>\n      <th>히로세코리아(주)450090</th>\n      <td>282.04</td>\n      <td>1.204297</td>\n      <td>0.783401</td>\n      <td>0.764516</td>\n      <td>1.435236</td>\n      <td>1.553208</td>\n      <td>0.965887</td>\n      <td>1.293548</td>\n      <td>1.532174</td>\n      <td>0.766982</td>\n      <td>0.689565</td>\n    </tr>\n    <tr>\n      <th>히스보험중개(주)197675</th>\n      <td>310.80</td>\n      <td>0.593694</td>\n      <td>1.527964</td>\n      <td>0.798113</td>\n      <td>0.916896</td>\n      <td>1.053800</td>\n      <td>0.837135</td>\n      <td>1.322730</td>\n      <td>0.748162</td>\n      <td>1.191372</td>\n      <td>1.113099</td>\n    </tr>\n    <tr>\n      <th>히타치금속한국(주)041866</th>\n      <td>175.92</td>\n      <td>0.960834</td>\n      <td>0.764894</td>\n      <td>1.516436</td>\n      <td>1.017138</td>\n      <td>1.703691</td>\n      <td>0.812244</td>\n      <td>0.812908</td>\n      <td>0.970267</td>\n      <td>1.076955</td>\n      <td>0.982893</td>\n    </tr>\n    <tr>\n      <th>히타치하이테크코리아(주)380165</th>\n      <td>272.87</td>\n      <td>1.051929</td>\n      <td>1.389249</td>\n      <td>1.368007</td>\n      <td>1.104176</td>\n      <td>0.744318</td>\n      <td>0.723000</td>\n      <td>1.113188</td>\n      <td>0.894219</td>\n      <td>0.833886</td>\n      <td>1.290965</td>\n    </tr>\n    <tr>\n      <th>힐티코리아(주)389471</th>\n      <td>250.36</td>\n      <td>1.184894</td>\n      <td>0.804349</td>\n      <td>0.956708</td>\n      <td>1.116524</td>\n      <td>0.950683</td>\n      <td>1.207585</td>\n      <td>0.942346</td>\n      <td>1.077972</td>\n      <td>0.998150</td>\n      <td>0.764198</td>\n    </tr>\n  </tbody>\n</table>\n<p>28972 rows × 11 columns</p>\n</div>"
     },
     "execution_count": 16,
     "metadata": {},
     "output_type": "execute_result"
    }
   ],
   "source": [
    "유동비율_변동_idx = fluctuation_2(유동비율_idx)\n",
    "유동비율_변동_idx"
   ]
  },
  {
   "cell_type": "markdown",
   "id": "a586a191-00c7-4b46-bece-7992c6ecc58e",
   "metadata": {},
   "source": [
    "#### 부채비율(DR)"
   ]
  },
  {
   "cell_type": "code",
   "execution_count": 17,
   "id": "3f3475a9-0cb4-47e1-92ba-8cd99c7aaf37",
   "metadata": {
    "tags": []
   },
   "outputs": [
    {
     "data": {
      "text/plain": "년도                         2010    2011    2012    2013    2014    2015  \\\n기업명                                                                       \n(유)가든주류244534            268.28  305.10  218.57  186.48  152.21  139.19   \n(유)건향개발I57907               NaN   36.95   73.95   31.27   34.31   88.27   \n(유)국제에이엠씨M00154             NaN     NaN     NaN     NaN  424.85  102.11   \n(유)그랜드유니버셜트레이딩코리아I83725     NaN     NaN     NaN  984.06     NaN     NaN   \n(유)그룹세브코리아609692            NaN     NaN     NaN     NaN     NaN     NaN   \n...                         ...     ...     ...     ...     ...     ...   \n히로세코리아(주)450090           20.21   18.46   23.68   28.11   22.15   13.38   \n히스보험중개(주)197675           38.12   61.22   34.04   55.57   59.85   50.95   \n히타치금속한국(주)041866          87.12   90.61   97.35   81.63   55.54   31.76   \n히타치하이테크코리아(주)380165       70.92   57.47   41.00   32.63   29.80   46.23   \n힐티코리아(주)389471            60.36   50.56   62.16   63.36   52.24   59.56   \n\n년도                         2016    2017    2018    2019    2020  \n기업명                                                              \n(유)가든주류244534            148.61  172.15  191.31  178.34  361.81  \n(유)건향개발I57907            104.64  148.72  391.98  197.85  136.43  \n(유)국제에이엠씨M00154          265.17  295.21  230.90   66.77   63.56  \n(유)그랜드유니버셜트레이딩코리아I83725     NaN     NaN     NaN     NaN     NaN  \n(유)그룹세브코리아609692            NaN     NaN     NaN  147.02  154.35  \n...                         ...     ...     ...     ...     ...  \n히로세코리아(주)450090           12.24   12.06    8.03    9.92   10.22  \n히스보험중개(주)197675           70.34   40.51   68.77   61.31   46.21  \n히타치금속한국(주)041866          41.67   58.12   63.04   58.57   59.69  \n히타치하이테크코리아(주)380165       75.56   36.61   42.23   50.39   35.19  \n힐티코리아(주)389471            46.20   54.51   45.13   54.34   78.89  \n\n[28972 rows x 11 columns]",
      "text/html": "<div>\n<style scoped>\n    .dataframe tbody tr th:only-of-type {\n        vertical-align: middle;\n    }\n\n    .dataframe tbody tr th {\n        vertical-align: top;\n    }\n\n    .dataframe thead th {\n        text-align: right;\n    }\n</style>\n<table border=\"1\" class=\"dataframe\">\n  <thead>\n    <tr style=\"text-align: right;\">\n      <th>년도</th>\n      <th>2010</th>\n      <th>2011</th>\n      <th>2012</th>\n      <th>2013</th>\n      <th>2014</th>\n      <th>2015</th>\n      <th>2016</th>\n      <th>2017</th>\n      <th>2018</th>\n      <th>2019</th>\n      <th>2020</th>\n    </tr>\n    <tr>\n      <th>기업명</th>\n      <th></th>\n      <th></th>\n      <th></th>\n      <th></th>\n      <th></th>\n      <th></th>\n      <th></th>\n      <th></th>\n      <th></th>\n      <th></th>\n      <th></th>\n    </tr>\n  </thead>\n  <tbody>\n    <tr>\n      <th>(유)가든주류244534</th>\n      <td>268.28</td>\n      <td>305.10</td>\n      <td>218.57</td>\n      <td>186.48</td>\n      <td>152.21</td>\n      <td>139.19</td>\n      <td>148.61</td>\n      <td>172.15</td>\n      <td>191.31</td>\n      <td>178.34</td>\n      <td>361.81</td>\n    </tr>\n    <tr>\n      <th>(유)건향개발I57907</th>\n      <td>NaN</td>\n      <td>36.95</td>\n      <td>73.95</td>\n      <td>31.27</td>\n      <td>34.31</td>\n      <td>88.27</td>\n      <td>104.64</td>\n      <td>148.72</td>\n      <td>391.98</td>\n      <td>197.85</td>\n      <td>136.43</td>\n    </tr>\n    <tr>\n      <th>(유)국제에이엠씨M00154</th>\n      <td>NaN</td>\n      <td>NaN</td>\n      <td>NaN</td>\n      <td>NaN</td>\n      <td>424.85</td>\n      <td>102.11</td>\n      <td>265.17</td>\n      <td>295.21</td>\n      <td>230.90</td>\n      <td>66.77</td>\n      <td>63.56</td>\n    </tr>\n    <tr>\n      <th>(유)그랜드유니버셜트레이딩코리아I83725</th>\n      <td>NaN</td>\n      <td>NaN</td>\n      <td>NaN</td>\n      <td>984.06</td>\n      <td>NaN</td>\n      <td>NaN</td>\n      <td>NaN</td>\n      <td>NaN</td>\n      <td>NaN</td>\n      <td>NaN</td>\n      <td>NaN</td>\n    </tr>\n    <tr>\n      <th>(유)그룹세브코리아609692</th>\n      <td>NaN</td>\n      <td>NaN</td>\n      <td>NaN</td>\n      <td>NaN</td>\n      <td>NaN</td>\n      <td>NaN</td>\n      <td>NaN</td>\n      <td>NaN</td>\n      <td>NaN</td>\n      <td>147.02</td>\n      <td>154.35</td>\n    </tr>\n    <tr>\n      <th>...</th>\n      <td>...</td>\n      <td>...</td>\n      <td>...</td>\n      <td>...</td>\n      <td>...</td>\n      <td>...</td>\n      <td>...</td>\n      <td>...</td>\n      <td>...</td>\n      <td>...</td>\n      <td>...</td>\n    </tr>\n    <tr>\n      <th>히로세코리아(주)450090</th>\n      <td>20.21</td>\n      <td>18.46</td>\n      <td>23.68</td>\n      <td>28.11</td>\n      <td>22.15</td>\n      <td>13.38</td>\n      <td>12.24</td>\n      <td>12.06</td>\n      <td>8.03</td>\n      <td>9.92</td>\n      <td>10.22</td>\n    </tr>\n    <tr>\n      <th>히스보험중개(주)197675</th>\n      <td>38.12</td>\n      <td>61.22</td>\n      <td>34.04</td>\n      <td>55.57</td>\n      <td>59.85</td>\n      <td>50.95</td>\n      <td>70.34</td>\n      <td>40.51</td>\n      <td>68.77</td>\n      <td>61.31</td>\n      <td>46.21</td>\n    </tr>\n    <tr>\n      <th>히타치금속한국(주)041866</th>\n      <td>87.12</td>\n      <td>90.61</td>\n      <td>97.35</td>\n      <td>81.63</td>\n      <td>55.54</td>\n      <td>31.76</td>\n      <td>41.67</td>\n      <td>58.12</td>\n      <td>63.04</td>\n      <td>58.57</td>\n      <td>59.69</td>\n    </tr>\n    <tr>\n      <th>히타치하이테크코리아(주)380165</th>\n      <td>70.92</td>\n      <td>57.47</td>\n      <td>41.00</td>\n      <td>32.63</td>\n      <td>29.80</td>\n      <td>46.23</td>\n      <td>75.56</td>\n      <td>36.61</td>\n      <td>42.23</td>\n      <td>50.39</td>\n      <td>35.19</td>\n    </tr>\n    <tr>\n      <th>힐티코리아(주)389471</th>\n      <td>60.36</td>\n      <td>50.56</td>\n      <td>62.16</td>\n      <td>63.36</td>\n      <td>52.24</td>\n      <td>59.56</td>\n      <td>46.20</td>\n      <td>54.51</td>\n      <td>45.13</td>\n      <td>54.34</td>\n      <td>78.89</td>\n    </tr>\n  </tbody>\n</table>\n<p>28972 rows × 11 columns</p>\n</div>"
     },
     "execution_count": 17,
     "metadata": {},
     "output_type": "execute_result"
    }
   ],
   "source": [
    "data.부채비율 = pd.to_numeric(data.부채비율)\n",
    "부채비율_idx = data.pivot_table(columns='년도', index = '기업명', values='부채비율', aggfunc='mean', dropna=False)\n",
    "부채비율_idx"
   ]
  },
  {
   "cell_type": "markdown",
   "id": "88d30f68-5173-4025-9bbd-039f0ef8cff2",
   "metadata": {},
   "source": [
    "#### 부채비율변동(DRpc)"
   ]
  },
  {
   "cell_type": "code",
   "execution_count": 18,
   "id": "e2dc91ac-09ae-492d-a926-05821d874cc6",
   "metadata": {
    "tags": []
   },
   "outputs": [
    {
     "data": {
      "text/plain": "년도                         2010      2011      2012      2013      2014  \\\n기업명                                                                       \n(유)가든주류244534            268.28  1.137245  0.716388  0.853182  0.816227   \n(유)건향개발I57907               NaN       NaN  2.001353  0.422853  1.097218   \n(유)국제에이엠씨M00154             NaN       NaN       NaN       NaN       NaN   \n(유)그랜드유니버셜트레이딩코리아I83725     NaN       NaN       NaN       NaN       NaN   \n(유)그룹세브코리아609692            NaN       NaN       NaN       NaN       NaN   \n...                         ...       ...       ...       ...       ...   \n히로세코리아(주)450090           20.21  0.913409  1.282774  1.187078  0.787976   \n히스보험중개(주)197675           38.12  1.605981  0.556027  1.632491  1.077020   \n히타치금속한국(주)041866          87.12  1.040060  1.074385  0.838521  0.680387   \n히타치하이테크코리아(주)380165       70.92  0.810350  0.713416  0.795854  0.913270   \n힐티코리아(주)389471            60.36  0.837641  1.229430  1.019305  0.824495   \n\n년도                           2015      2016      2017      2018      2019  \\\n기업명                                                                         \n(유)가든주류244534            0.914460  1.067677  1.158401  1.111298  0.932204   \n(유)건향개발I57907            2.572719  1.185454  1.421254  2.635691  0.504745   \n(유)국제에이엠씨M00154          0.240344  2.596905  1.113286  0.782155  0.289173   \n(유)그랜드유니버셜트레이딩코리아I83725       NaN       NaN       NaN       NaN       NaN   \n(유)그룹세브코리아609692              NaN       NaN       NaN       NaN       NaN   \n...                           ...       ...       ...       ...       ...   \n히로세코리아(주)450090          0.604063  0.914798  0.985294  0.665837  1.235367   \n히스보험중개(주)197675          0.851295  1.380569  0.575917  1.697606  0.891522   \n히타치금속한국(주)041866         0.571840  1.312028  1.394768  1.084652  0.929093   \n히타치하이테크코리아(주)380165      1.551342  1.634437  0.484516  1.153510  1.193228   \n힐티코리아(주)389471           1.140123  0.775688  1.179870  0.827921  1.204077   \n\n년도                           2020  \n기업명                                \n(유)가든주류244534            2.028765  \n(유)건향개발I57907            0.689563  \n(유)국제에이엠씨M00154          0.951925  \n(유)그랜드유니버셜트레이딩코리아I83725       NaN  \n(유)그룹세브코리아609692         1.049857  \n...                           ...  \n히로세코리아(주)450090          1.030242  \n히스보험중개(주)197675          0.753711  \n히타치금속한국(주)041866         1.019122  \n히타치하이테크코리아(주)380165      0.698353  \n힐티코리아(주)389471           1.451785  \n\n[28972 rows x 11 columns]",
      "text/html": "<div>\n<style scoped>\n    .dataframe tbody tr th:only-of-type {\n        vertical-align: middle;\n    }\n\n    .dataframe tbody tr th {\n        vertical-align: top;\n    }\n\n    .dataframe thead th {\n        text-align: right;\n    }\n</style>\n<table border=\"1\" class=\"dataframe\">\n  <thead>\n    <tr style=\"text-align: right;\">\n      <th>년도</th>\n      <th>2010</th>\n      <th>2011</th>\n      <th>2012</th>\n      <th>2013</th>\n      <th>2014</th>\n      <th>2015</th>\n      <th>2016</th>\n      <th>2017</th>\n      <th>2018</th>\n      <th>2019</th>\n      <th>2020</th>\n    </tr>\n    <tr>\n      <th>기업명</th>\n      <th></th>\n      <th></th>\n      <th></th>\n      <th></th>\n      <th></th>\n      <th></th>\n      <th></th>\n      <th></th>\n      <th></th>\n      <th></th>\n      <th></th>\n    </tr>\n  </thead>\n  <tbody>\n    <tr>\n      <th>(유)가든주류244534</th>\n      <td>268.28</td>\n      <td>1.137245</td>\n      <td>0.716388</td>\n      <td>0.853182</td>\n      <td>0.816227</td>\n      <td>0.914460</td>\n      <td>1.067677</td>\n      <td>1.158401</td>\n      <td>1.111298</td>\n      <td>0.932204</td>\n      <td>2.028765</td>\n    </tr>\n    <tr>\n      <th>(유)건향개발I57907</th>\n      <td>NaN</td>\n      <td>NaN</td>\n      <td>2.001353</td>\n      <td>0.422853</td>\n      <td>1.097218</td>\n      <td>2.572719</td>\n      <td>1.185454</td>\n      <td>1.421254</td>\n      <td>2.635691</td>\n      <td>0.504745</td>\n      <td>0.689563</td>\n    </tr>\n    <tr>\n      <th>(유)국제에이엠씨M00154</th>\n      <td>NaN</td>\n      <td>NaN</td>\n      <td>NaN</td>\n      <td>NaN</td>\n      <td>NaN</td>\n      <td>0.240344</td>\n      <td>2.596905</td>\n      <td>1.113286</td>\n      <td>0.782155</td>\n      <td>0.289173</td>\n      <td>0.951925</td>\n    </tr>\n    <tr>\n      <th>(유)그랜드유니버셜트레이딩코리아I83725</th>\n      <td>NaN</td>\n      <td>NaN</td>\n      <td>NaN</td>\n      <td>NaN</td>\n      <td>NaN</td>\n      <td>NaN</td>\n      <td>NaN</td>\n      <td>NaN</td>\n      <td>NaN</td>\n      <td>NaN</td>\n      <td>NaN</td>\n    </tr>\n    <tr>\n      <th>(유)그룹세브코리아609692</th>\n      <td>NaN</td>\n      <td>NaN</td>\n      <td>NaN</td>\n      <td>NaN</td>\n      <td>NaN</td>\n      <td>NaN</td>\n      <td>NaN</td>\n      <td>NaN</td>\n      <td>NaN</td>\n      <td>NaN</td>\n      <td>1.049857</td>\n    </tr>\n    <tr>\n      <th>...</th>\n      <td>...</td>\n      <td>...</td>\n      <td>...</td>\n      <td>...</td>\n      <td>...</td>\n      <td>...</td>\n      <td>...</td>\n      <td>...</td>\n      <td>...</td>\n      <td>...</td>\n      <td>...</td>\n    </tr>\n    <tr>\n      <th>히로세코리아(주)450090</th>\n      <td>20.21</td>\n      <td>0.913409</td>\n      <td>1.282774</td>\n      <td>1.187078</td>\n      <td>0.787976</td>\n      <td>0.604063</td>\n      <td>0.914798</td>\n      <td>0.985294</td>\n      <td>0.665837</td>\n      <td>1.235367</td>\n      <td>1.030242</td>\n    </tr>\n    <tr>\n      <th>히스보험중개(주)197675</th>\n      <td>38.12</td>\n      <td>1.605981</td>\n      <td>0.556027</td>\n      <td>1.632491</td>\n      <td>1.077020</td>\n      <td>0.851295</td>\n      <td>1.380569</td>\n      <td>0.575917</td>\n      <td>1.697606</td>\n      <td>0.891522</td>\n      <td>0.753711</td>\n    </tr>\n    <tr>\n      <th>히타치금속한국(주)041866</th>\n      <td>87.12</td>\n      <td>1.040060</td>\n      <td>1.074385</td>\n      <td>0.838521</td>\n      <td>0.680387</td>\n      <td>0.571840</td>\n      <td>1.312028</td>\n      <td>1.394768</td>\n      <td>1.084652</td>\n      <td>0.929093</td>\n      <td>1.019122</td>\n    </tr>\n    <tr>\n      <th>히타치하이테크코리아(주)380165</th>\n      <td>70.92</td>\n      <td>0.810350</td>\n      <td>0.713416</td>\n      <td>0.795854</td>\n      <td>0.913270</td>\n      <td>1.551342</td>\n      <td>1.634437</td>\n      <td>0.484516</td>\n      <td>1.153510</td>\n      <td>1.193228</td>\n      <td>0.698353</td>\n    </tr>\n    <tr>\n      <th>힐티코리아(주)389471</th>\n      <td>60.36</td>\n      <td>0.837641</td>\n      <td>1.229430</td>\n      <td>1.019305</td>\n      <td>0.824495</td>\n      <td>1.140123</td>\n      <td>0.775688</td>\n      <td>1.179870</td>\n      <td>0.827921</td>\n      <td>1.204077</td>\n      <td>1.451785</td>\n    </tr>\n  </tbody>\n</table>\n<p>28972 rows × 11 columns</p>\n</div>"
     },
     "execution_count": 18,
     "metadata": {},
     "output_type": "execute_result"
    }
   ],
   "source": [
    "부채비율_변동_idx = fluctuation_2(부채비율_idx)\n",
    "부채비율_변동_idx"
   ]
  },
  {
   "cell_type": "markdown",
   "id": "19d2abfc-07ca-44a1-bbf6-a7d0d1f93383",
   "metadata": {},
   "source": [
    "#### 영업활동현금흐름이자보상비율(OCFICR)"
   ]
  },
  {
   "cell_type": "code",
   "execution_count": 19,
   "id": "2718e4c7-c6b6-48e4-b9df-25cb070815e5",
   "metadata": {
    "tags": []
   },
   "outputs": [
    {
     "data": {
      "text/plain": "년도                        2010    2011     2012   2013   2014    2015  2016  \\\n기업명                                                                           \n(유)가든주류244534              NaN     NaN      NaN    NaN    NaN     NaN   NaN   \n(유)건향개발I57907              NaN     NaN      NaN    NaN    NaN     NaN   NaN   \n(유)국제에이엠씨M00154            NaN     NaN      NaN    NaN    NaN     NaN   NaN   \n(유)그랜드유니버셜트레이딩코리아I83725    NaN     NaN      NaN    NaN    NaN     NaN   NaN   \n(유)그룹세브코리아609692           NaN     NaN      NaN    NaN    NaN     NaN   NaN   \n...                        ...     ...      ...    ...    ...     ...   ...   \n히로세코리아(주)450090            NaN     NaN      NaN    NaN    NaN     NaN   NaN   \n히스보험중개(주)197675            NaN     NaN      NaN    NaN    NaN     NaN   NaN   \n히타치금속한국(주)041866         22.17    8.18     6.99  12.39  38.19  128.83   NaN   \n히타치하이테크코리아(주)380165      97.38  561.21  1130.32    NaN    NaN     NaN   NaN   \n힐티코리아(주)389471             NaN     NaN      NaN    NaN    NaN     NaN   NaN   \n\n년도                       2017   2018   2019      2020  \n기업명                                                    \n(유)가든주류244534             NaN    NaN   0.22     -0.72  \n(유)건향개발I57907             NaN  84.83  -7.55     65.62  \n(유)국제에이엠씨M00154           NaN    NaN    NaN       NaN  \n(유)그랜드유니버셜트레이딩코리아I83725   NaN    NaN    NaN       NaN  \n(유)그룹세브코리아609692          NaN    NaN  30.55    233.52  \n...                       ...    ...    ...       ...  \n히로세코리아(주)450090           NaN    NaN    NaN  75134.28  \n히스보험중개(주)197675           NaN    NaN    NaN   -485.23  \n히타치금속한국(주)041866          NaN    NaN    NaN       NaN  \n히타치하이테크코리아(주)380165       NaN    NaN    NaN   1016.53  \n힐티코리아(주)389471            NaN    NaN  45.40     32.93  \n\n[28972 rows x 11 columns]",
      "text/html": "<div>\n<style scoped>\n    .dataframe tbody tr th:only-of-type {\n        vertical-align: middle;\n    }\n\n    .dataframe tbody tr th {\n        vertical-align: top;\n    }\n\n    .dataframe thead th {\n        text-align: right;\n    }\n</style>\n<table border=\"1\" class=\"dataframe\">\n  <thead>\n    <tr style=\"text-align: right;\">\n      <th>년도</th>\n      <th>2010</th>\n      <th>2011</th>\n      <th>2012</th>\n      <th>2013</th>\n      <th>2014</th>\n      <th>2015</th>\n      <th>2016</th>\n      <th>2017</th>\n      <th>2018</th>\n      <th>2019</th>\n      <th>2020</th>\n    </tr>\n    <tr>\n      <th>기업명</th>\n      <th></th>\n      <th></th>\n      <th></th>\n      <th></th>\n      <th></th>\n      <th></th>\n      <th></th>\n      <th></th>\n      <th></th>\n      <th></th>\n      <th></th>\n    </tr>\n  </thead>\n  <tbody>\n    <tr>\n      <th>(유)가든주류244534</th>\n      <td>NaN</td>\n      <td>NaN</td>\n      <td>NaN</td>\n      <td>NaN</td>\n      <td>NaN</td>\n      <td>NaN</td>\n      <td>NaN</td>\n      <td>NaN</td>\n      <td>NaN</td>\n      <td>0.22</td>\n      <td>-0.72</td>\n    </tr>\n    <tr>\n      <th>(유)건향개발I57907</th>\n      <td>NaN</td>\n      <td>NaN</td>\n      <td>NaN</td>\n      <td>NaN</td>\n      <td>NaN</td>\n      <td>NaN</td>\n      <td>NaN</td>\n      <td>NaN</td>\n      <td>84.83</td>\n      <td>-7.55</td>\n      <td>65.62</td>\n    </tr>\n    <tr>\n      <th>(유)국제에이엠씨M00154</th>\n      <td>NaN</td>\n      <td>NaN</td>\n      <td>NaN</td>\n      <td>NaN</td>\n      <td>NaN</td>\n      <td>NaN</td>\n      <td>NaN</td>\n      <td>NaN</td>\n      <td>NaN</td>\n      <td>NaN</td>\n      <td>NaN</td>\n    </tr>\n    <tr>\n      <th>(유)그랜드유니버셜트레이딩코리아I83725</th>\n      <td>NaN</td>\n      <td>NaN</td>\n      <td>NaN</td>\n      <td>NaN</td>\n      <td>NaN</td>\n      <td>NaN</td>\n      <td>NaN</td>\n      <td>NaN</td>\n      <td>NaN</td>\n      <td>NaN</td>\n      <td>NaN</td>\n    </tr>\n    <tr>\n      <th>(유)그룹세브코리아609692</th>\n      <td>NaN</td>\n      <td>NaN</td>\n      <td>NaN</td>\n      <td>NaN</td>\n      <td>NaN</td>\n      <td>NaN</td>\n      <td>NaN</td>\n      <td>NaN</td>\n      <td>NaN</td>\n      <td>30.55</td>\n      <td>233.52</td>\n    </tr>\n    <tr>\n      <th>...</th>\n      <td>...</td>\n      <td>...</td>\n      <td>...</td>\n      <td>...</td>\n      <td>...</td>\n      <td>...</td>\n      <td>...</td>\n      <td>...</td>\n      <td>...</td>\n      <td>...</td>\n      <td>...</td>\n    </tr>\n    <tr>\n      <th>히로세코리아(주)450090</th>\n      <td>NaN</td>\n      <td>NaN</td>\n      <td>NaN</td>\n      <td>NaN</td>\n      <td>NaN</td>\n      <td>NaN</td>\n      <td>NaN</td>\n      <td>NaN</td>\n      <td>NaN</td>\n      <td>NaN</td>\n      <td>75134.28</td>\n    </tr>\n    <tr>\n      <th>히스보험중개(주)197675</th>\n      <td>NaN</td>\n      <td>NaN</td>\n      <td>NaN</td>\n      <td>NaN</td>\n      <td>NaN</td>\n      <td>NaN</td>\n      <td>NaN</td>\n      <td>NaN</td>\n      <td>NaN</td>\n      <td>NaN</td>\n      <td>-485.23</td>\n    </tr>\n    <tr>\n      <th>히타치금속한국(주)041866</th>\n      <td>22.17</td>\n      <td>8.18</td>\n      <td>6.99</td>\n      <td>12.39</td>\n      <td>38.19</td>\n      <td>128.83</td>\n      <td>NaN</td>\n      <td>NaN</td>\n      <td>NaN</td>\n      <td>NaN</td>\n      <td>NaN</td>\n    </tr>\n    <tr>\n      <th>히타치하이테크코리아(주)380165</th>\n      <td>97.38</td>\n      <td>561.21</td>\n      <td>1130.32</td>\n      <td>NaN</td>\n      <td>NaN</td>\n      <td>NaN</td>\n      <td>NaN</td>\n      <td>NaN</td>\n      <td>NaN</td>\n      <td>NaN</td>\n      <td>1016.53</td>\n    </tr>\n    <tr>\n      <th>힐티코리아(주)389471</th>\n      <td>NaN</td>\n      <td>NaN</td>\n      <td>NaN</td>\n      <td>NaN</td>\n      <td>NaN</td>\n      <td>NaN</td>\n      <td>NaN</td>\n      <td>NaN</td>\n      <td>NaN</td>\n      <td>45.40</td>\n      <td>32.93</td>\n    </tr>\n  </tbody>\n</table>\n<p>28972 rows × 11 columns</p>\n</div>"
     },
     "execution_count": 19,
     "metadata": {},
     "output_type": "execute_result"
    }
   ],
   "source": [
    "data.영업활동현금흐름이자보상비율 = pd.to_numeric(data.영업활동현금흐름이자보상비율)\n",
    "영업활동현금흐름이자보상비율_idx = data.pivot_table(columns='년도', index = '기업명', values='영업활동현금흐름이자보상비율', aggfunc='mean', dropna=False)\n",
    "영업활동현금흐름이자보상비율_idx"
   ]
  },
  {
   "cell_type": "markdown",
   "id": "b539f7e3-de51-426f-a3e1-2ca79b826bea",
   "metadata": {},
   "source": [
    "#### 금융비용/매출액비율(INTSR)"
   ]
  },
  {
   "cell_type": "code",
   "execution_count": 20,
   "id": "9fffee06-f478-429a-8820-1dd715c40bfb",
   "metadata": {
    "tags": []
   },
   "outputs": [
    {
     "data": {
      "text/plain": "년도                       2010  2011  2012  2013    2014    2015    2016  \\\n기업명                                                                       \n(유)가든주류244534            0.79  1.15  1.43  1.38    1.36    1.19    1.04   \n(유)건향개발I57907             NaN  0.03  0.05  0.04    0.35    0.14     NaN   \n(유)국제에이엠씨M00154           NaN   NaN   NaN   NaN  268.66  589.19  260.25   \n(유)그랜드유니버셜트레이딩코리아I83725   NaN   NaN   NaN   NaN     NaN     NaN     NaN   \n(유)그룹세브코리아609692          NaN   NaN   NaN   NaN     NaN     NaN     NaN   \n...                       ...   ...   ...   ...     ...     ...     ...   \n히로세코리아(주)450090           NaN   NaN   NaN   NaN     NaN     NaN     NaN   \n히스보험중개(주)197675           NaN   NaN   NaN   NaN     NaN     NaN     NaN   \n히타치금속한국(주)041866         0.51  0.38  0.84  0.42    0.43    0.07     NaN   \n히타치하이테크코리아(주)380165      0.03  0.04  0.02   NaN     NaN     NaN     NaN   \n힐티코리아(주)389471            NaN   NaN   NaN   NaN     NaN     NaN     NaN   \n\n년도                        2017   2018   2019   2020  \n기업명                                                  \n(유)가든주류244534             1.12   1.03   1.24   1.08  \n(유)건향개발I57907             0.07   0.06   0.10   0.13  \n(유)국제에이엠씨M00154          36.83  58.89  14.57  28.30  \n(유)그랜드유니버셜트레이딩코리아I83725    NaN    NaN    NaN    NaN  \n(유)그룹세브코리아609692           NaN    NaN   0.25   0.06  \n...                        ...    ...    ...    ...  \n히로세코리아(주)450090            NaN    NaN    NaN    NaN  \n히스보험중개(주)197675            NaN    NaN    NaN   0.01  \n히타치금속한국(주)041866           NaN    NaN    NaN    NaN  \n히타치하이테크코리아(주)380165        NaN    NaN    NaN   0.01  \n힐티코리아(주)389471             NaN    NaN   0.18   0.22  \n\n[28972 rows x 11 columns]",
      "text/html": "<div>\n<style scoped>\n    .dataframe tbody tr th:only-of-type {\n        vertical-align: middle;\n    }\n\n    .dataframe tbody tr th {\n        vertical-align: top;\n    }\n\n    .dataframe thead th {\n        text-align: right;\n    }\n</style>\n<table border=\"1\" class=\"dataframe\">\n  <thead>\n    <tr style=\"text-align: right;\">\n      <th>년도</th>\n      <th>2010</th>\n      <th>2011</th>\n      <th>2012</th>\n      <th>2013</th>\n      <th>2014</th>\n      <th>2015</th>\n      <th>2016</th>\n      <th>2017</th>\n      <th>2018</th>\n      <th>2019</th>\n      <th>2020</th>\n    </tr>\n    <tr>\n      <th>기업명</th>\n      <th></th>\n      <th></th>\n      <th></th>\n      <th></th>\n      <th></th>\n      <th></th>\n      <th></th>\n      <th></th>\n      <th></th>\n      <th></th>\n      <th></th>\n    </tr>\n  </thead>\n  <tbody>\n    <tr>\n      <th>(유)가든주류244534</th>\n      <td>0.79</td>\n      <td>1.15</td>\n      <td>1.43</td>\n      <td>1.38</td>\n      <td>1.36</td>\n      <td>1.19</td>\n      <td>1.04</td>\n      <td>1.12</td>\n      <td>1.03</td>\n      <td>1.24</td>\n      <td>1.08</td>\n    </tr>\n    <tr>\n      <th>(유)건향개발I57907</th>\n      <td>NaN</td>\n      <td>0.03</td>\n      <td>0.05</td>\n      <td>0.04</td>\n      <td>0.35</td>\n      <td>0.14</td>\n      <td>NaN</td>\n      <td>0.07</td>\n      <td>0.06</td>\n      <td>0.10</td>\n      <td>0.13</td>\n    </tr>\n    <tr>\n      <th>(유)국제에이엠씨M00154</th>\n      <td>NaN</td>\n      <td>NaN</td>\n      <td>NaN</td>\n      <td>NaN</td>\n      <td>268.66</td>\n      <td>589.19</td>\n      <td>260.25</td>\n      <td>36.83</td>\n      <td>58.89</td>\n      <td>14.57</td>\n      <td>28.30</td>\n    </tr>\n    <tr>\n      <th>(유)그랜드유니버셜트레이딩코리아I83725</th>\n      <td>NaN</td>\n      <td>NaN</td>\n      <td>NaN</td>\n      <td>NaN</td>\n      <td>NaN</td>\n      <td>NaN</td>\n      <td>NaN</td>\n      <td>NaN</td>\n      <td>NaN</td>\n      <td>NaN</td>\n      <td>NaN</td>\n    </tr>\n    <tr>\n      <th>(유)그룹세브코리아609692</th>\n      <td>NaN</td>\n      <td>NaN</td>\n      <td>NaN</td>\n      <td>NaN</td>\n      <td>NaN</td>\n      <td>NaN</td>\n      <td>NaN</td>\n      <td>NaN</td>\n      <td>NaN</td>\n      <td>0.25</td>\n      <td>0.06</td>\n    </tr>\n    <tr>\n      <th>...</th>\n      <td>...</td>\n      <td>...</td>\n      <td>...</td>\n      <td>...</td>\n      <td>...</td>\n      <td>...</td>\n      <td>...</td>\n      <td>...</td>\n      <td>...</td>\n      <td>...</td>\n      <td>...</td>\n    </tr>\n    <tr>\n      <th>히로세코리아(주)450090</th>\n      <td>NaN</td>\n      <td>NaN</td>\n      <td>NaN</td>\n      <td>NaN</td>\n      <td>NaN</td>\n      <td>NaN</td>\n      <td>NaN</td>\n      <td>NaN</td>\n      <td>NaN</td>\n      <td>NaN</td>\n      <td>NaN</td>\n    </tr>\n    <tr>\n      <th>히스보험중개(주)197675</th>\n      <td>NaN</td>\n      <td>NaN</td>\n      <td>NaN</td>\n      <td>NaN</td>\n      <td>NaN</td>\n      <td>NaN</td>\n      <td>NaN</td>\n      <td>NaN</td>\n      <td>NaN</td>\n      <td>NaN</td>\n      <td>0.01</td>\n    </tr>\n    <tr>\n      <th>히타치금속한국(주)041866</th>\n      <td>0.51</td>\n      <td>0.38</td>\n      <td>0.84</td>\n      <td>0.42</td>\n      <td>0.43</td>\n      <td>0.07</td>\n      <td>NaN</td>\n      <td>NaN</td>\n      <td>NaN</td>\n      <td>NaN</td>\n      <td>NaN</td>\n    </tr>\n    <tr>\n      <th>히타치하이테크코리아(주)380165</th>\n      <td>0.03</td>\n      <td>0.04</td>\n      <td>0.02</td>\n      <td>NaN</td>\n      <td>NaN</td>\n      <td>NaN</td>\n      <td>NaN</td>\n      <td>NaN</td>\n      <td>NaN</td>\n      <td>NaN</td>\n      <td>0.01</td>\n    </tr>\n    <tr>\n      <th>힐티코리아(주)389471</th>\n      <td>NaN</td>\n      <td>NaN</td>\n      <td>NaN</td>\n      <td>NaN</td>\n      <td>NaN</td>\n      <td>NaN</td>\n      <td>NaN</td>\n      <td>NaN</td>\n      <td>NaN</td>\n      <td>0.18</td>\n      <td>0.22</td>\n    </tr>\n  </tbody>\n</table>\n<p>28972 rows × 11 columns</p>\n</div>"
     },
     "execution_count": 20,
     "metadata": {},
     "output_type": "execute_result"
    }
   ],
   "source": [
    "data.금융비용_매출액비율 = pd.to_numeric(data.금융비용_매출액비율)\n",
    "금융비용_매출액비율_idx = data.pivot_table(columns='년도', index = '기업명', values='금융비용_매출액비율', aggfunc='mean', dropna=False)\n",
    "금융비용_매출액비율_idx"
   ]
  },
  {
   "cell_type": "markdown",
   "id": "ddda3f9e-5825-442b-bd38-81ead15ef47f",
   "metadata": {},
   "source": [
    "#### 신용평점(Cre)"
   ]
  },
  {
   "cell_type": "code",
   "execution_count": 21,
   "id": "9d8bbc8e-16d1-47ab-861a-c5ef507c2759",
   "metadata": {
    "tags": []
   },
   "outputs": [
    {
     "data": {
      "text/plain": "년도                       2010  2011  2012  2013  2014  2015  2016  2017  2018  \\\n기업명                                                                             \n(유)가든주류244534             6.0   6.0   6.0   5.0   5.0   5.0   4.0   4.0   4.0   \n(유)건향개발I57907             NaN   4.0   4.0   4.0   4.0   4.0   2.0   5.0   6.0   \n(유)국제에이엠씨M00154           NaN   NaN   NaN   NaN   7.0   6.0   6.0   7.0   7.0   \n(유)그랜드유니버셜트레이딩코리아I83725   NaN   NaN   NaN   6.0   NaN   NaN   NaN   7.0   9.0   \n(유)그룹세브코리아609692          NaN   NaN   NaN   NaN   NaN   NaN   NaN   NaN   NaN   \n...                       ...   ...   ...   ...   ...   ...   ...   ...   ...   \n히로세코리아(주)450090           2.0   2.0   2.0   3.0   3.0   2.0   2.0   3.0   2.0   \n히스보험중개(주)197675           2.0   3.0   3.0   4.0   4.0   4.0   2.0   3.0   4.0   \n히타치금속한국(주)041866          4.0   4.0   5.0   3.0   3.0   2.0   3.0   3.0   2.0   \n히타치하이테크코리아(주)380165       4.0   4.0   3.0   2.0   2.0   3.0   3.0   2.0   3.0   \n힐티코리아(주)389471            4.0   4.0   4.0   3.0   4.0   4.0   4.0   5.0   3.0   \n\n년도                       2019  2020  \n기업명                                  \n(유)가든주류244534             4.0   6.0  \n(유)건향개발I57907             5.0   4.0  \n(유)국제에이엠씨M00154           6.0   8.0  \n(유)그랜드유니버셜트레이딩코리아I83725   9.0   9.0  \n(유)그룹세브코리아609692          6.0   3.0  \n...                       ...   ...  \n히로세코리아(주)450090           2.0   3.0  \n히스보험중개(주)197675           4.0   3.0  \n히타치금속한국(주)041866          2.0   3.0  \n히타치하이테크코리아(주)380165       3.0   3.0  \n힐티코리아(주)389471            3.0   3.0  \n\n[28972 rows x 11 columns]",
      "text/html": "<div>\n<style scoped>\n    .dataframe tbody tr th:only-of-type {\n        vertical-align: middle;\n    }\n\n    .dataframe tbody tr th {\n        vertical-align: top;\n    }\n\n    .dataframe thead th {\n        text-align: right;\n    }\n</style>\n<table border=\"1\" class=\"dataframe\">\n  <thead>\n    <tr style=\"text-align: right;\">\n      <th>년도</th>\n      <th>2010</th>\n      <th>2011</th>\n      <th>2012</th>\n      <th>2013</th>\n      <th>2014</th>\n      <th>2015</th>\n      <th>2016</th>\n      <th>2017</th>\n      <th>2018</th>\n      <th>2019</th>\n      <th>2020</th>\n    </tr>\n    <tr>\n      <th>기업명</th>\n      <th></th>\n      <th></th>\n      <th></th>\n      <th></th>\n      <th></th>\n      <th></th>\n      <th></th>\n      <th></th>\n      <th></th>\n      <th></th>\n      <th></th>\n    </tr>\n  </thead>\n  <tbody>\n    <tr>\n      <th>(유)가든주류244534</th>\n      <td>6.0</td>\n      <td>6.0</td>\n      <td>6.0</td>\n      <td>5.0</td>\n      <td>5.0</td>\n      <td>5.0</td>\n      <td>4.0</td>\n      <td>4.0</td>\n      <td>4.0</td>\n      <td>4.0</td>\n      <td>6.0</td>\n    </tr>\n    <tr>\n      <th>(유)건향개발I57907</th>\n      <td>NaN</td>\n      <td>4.0</td>\n      <td>4.0</td>\n      <td>4.0</td>\n      <td>4.0</td>\n      <td>4.0</td>\n      <td>2.0</td>\n      <td>5.0</td>\n      <td>6.0</td>\n      <td>5.0</td>\n      <td>4.0</td>\n    </tr>\n    <tr>\n      <th>(유)국제에이엠씨M00154</th>\n      <td>NaN</td>\n      <td>NaN</td>\n      <td>NaN</td>\n      <td>NaN</td>\n      <td>7.0</td>\n      <td>6.0</td>\n      <td>6.0</td>\n      <td>7.0</td>\n      <td>7.0</td>\n      <td>6.0</td>\n      <td>8.0</td>\n    </tr>\n    <tr>\n      <th>(유)그랜드유니버셜트레이딩코리아I83725</th>\n      <td>NaN</td>\n      <td>NaN</td>\n      <td>NaN</td>\n      <td>6.0</td>\n      <td>NaN</td>\n      <td>NaN</td>\n      <td>NaN</td>\n      <td>7.0</td>\n      <td>9.0</td>\n      <td>9.0</td>\n      <td>9.0</td>\n    </tr>\n    <tr>\n      <th>(유)그룹세브코리아609692</th>\n      <td>NaN</td>\n      <td>NaN</td>\n      <td>NaN</td>\n      <td>NaN</td>\n      <td>NaN</td>\n      <td>NaN</td>\n      <td>NaN</td>\n      <td>NaN</td>\n      <td>NaN</td>\n      <td>6.0</td>\n      <td>3.0</td>\n    </tr>\n    <tr>\n      <th>...</th>\n      <td>...</td>\n      <td>...</td>\n      <td>...</td>\n      <td>...</td>\n      <td>...</td>\n      <td>...</td>\n      <td>...</td>\n      <td>...</td>\n      <td>...</td>\n      <td>...</td>\n      <td>...</td>\n    </tr>\n    <tr>\n      <th>히로세코리아(주)450090</th>\n      <td>2.0</td>\n      <td>2.0</td>\n      <td>2.0</td>\n      <td>3.0</td>\n      <td>3.0</td>\n      <td>2.0</td>\n      <td>2.0</td>\n      <td>3.0</td>\n      <td>2.0</td>\n      <td>2.0</td>\n      <td>3.0</td>\n    </tr>\n    <tr>\n      <th>히스보험중개(주)197675</th>\n      <td>2.0</td>\n      <td>3.0</td>\n      <td>3.0</td>\n      <td>4.0</td>\n      <td>4.0</td>\n      <td>4.0</td>\n      <td>2.0</td>\n      <td>3.0</td>\n      <td>4.0</td>\n      <td>4.0</td>\n      <td>3.0</td>\n    </tr>\n    <tr>\n      <th>히타치금속한국(주)041866</th>\n      <td>4.0</td>\n      <td>4.0</td>\n      <td>5.0</td>\n      <td>3.0</td>\n      <td>3.0</td>\n      <td>2.0</td>\n      <td>3.0</td>\n      <td>3.0</td>\n      <td>2.0</td>\n      <td>2.0</td>\n      <td>3.0</td>\n    </tr>\n    <tr>\n      <th>히타치하이테크코리아(주)380165</th>\n      <td>4.0</td>\n      <td>4.0</td>\n      <td>3.0</td>\n      <td>2.0</td>\n      <td>2.0</td>\n      <td>3.0</td>\n      <td>3.0</td>\n      <td>2.0</td>\n      <td>3.0</td>\n      <td>3.0</td>\n      <td>3.0</td>\n    </tr>\n    <tr>\n      <th>힐티코리아(주)389471</th>\n      <td>4.0</td>\n      <td>4.0</td>\n      <td>4.0</td>\n      <td>3.0</td>\n      <td>4.0</td>\n      <td>4.0</td>\n      <td>4.0</td>\n      <td>5.0</td>\n      <td>3.0</td>\n      <td>3.0</td>\n      <td>3.0</td>\n    </tr>\n  </tbody>\n</table>\n<p>28972 rows × 11 columns</p>\n</div>"
     },
     "execution_count": 21,
     "metadata": {},
     "output_type": "execute_result"
    }
   ],
   "source": [
    "data.신용평점 = pd.to_numeric(data.신용평점)\n",
    "신용평점_idx = data.pivot_table(columns='년도', index = '기업명', values='신용평점', aggfunc='mean', dropna=False)\n",
    "신용평점_idx"
   ]
  },
  {
   "cell_type": "markdown",
   "id": "79403d99-16aa-4be6-99ff-2d3508ed49b4",
   "metadata": {},
   "source": [
    "### 3) 수익성 및 성장성 지표"
   ]
  },
  {
   "cell_type": "markdown",
   "id": "d3d870d1-f394-4e6e-88f8-5fdecac19cbe",
   "metadata": {
    "tags": []
   },
   "source": [
    "#### 자기자본순이익률(ROE)"
   ]
  },
  {
   "cell_type": "code",
   "execution_count": 22,
   "id": "e36ad280-3118-4b3c-8341-e193f16affb2",
   "metadata": {},
   "outputs": [
    {
     "data": {
      "text/plain": "년도                        2010   2011   2012   2013   2014    2015   2016  \\\n기업명                                                                         \n(유)가든주류244534            18.57  11.44  16.20  22.04  14.26   14.11  12.95   \n(유)건향개발I57907              NaN  26.04  24.94  18.47   5.05   63.61  72.43   \n(유)국제에이엠씨M00154            NaN    NaN    NaN    NaN  -7.79  138.59  23.27   \n(유)그랜드유니버셜트레이딩코리아I83725    NaN    NaN    NaN   6.29    NaN     NaN    NaN   \n(유)그룹세브코리아609692           NaN    NaN    NaN    NaN    NaN     NaN    NaN   \n...                        ...    ...    ...    ...    ...     ...    ...   \n히로세코리아(주)450090           9.50   8.98  15.25  29.14  34.55   17.00  11.98   \n히스보험중개(주)197675          21.98  26.30  20.44   7.36  14.51    6.43  11.95   \n히타치금속한국(주)041866         24.79  17.80  10.59  18.63  17.98   16.37  14.78   \n히타치하이테크코리아(주)380165      28.22  62.25  41.29  40.86  14.69   10.41  15.61   \n힐티코리아(주)389471           22.55  19.95   7.98   9.09   7.42   14.01   6.04   \n\n년도                        2017   2018   2019   2020  \n기업명                                                  \n(유)가든주류244534            11.39  14.62  13.98   4.89  \n(유)건향개발I57907            16.78  59.22  59.87  33.61  \n(유)국제에이엠씨M00154          -7.35   0.34   0.06   0.02  \n(유)그랜드유니버셜트레이딩코리아I83725    NaN    NaN    NaN    NaN  \n(유)그룹세브코리아609692           NaN    NaN  44.10  55.36  \n...                        ...    ...    ...    ...  \n히로세코리아(주)450090          12.13  10.22   7.62  12.62  \n히스보험중개(주)197675          15.76  31.44  10.37   6.14  \n히타치금속한국(주)041866          8.23  18.51   9.86  11.92  \n히타치하이테크코리아(주)380165      15.68  61.84  59.45  37.05  \n힐티코리아(주)389471            8.15  11.29   9.41   9.54  \n\n[28972 rows x 11 columns]",
      "text/html": "<div>\n<style scoped>\n    .dataframe tbody tr th:only-of-type {\n        vertical-align: middle;\n    }\n\n    .dataframe tbody tr th {\n        vertical-align: top;\n    }\n\n    .dataframe thead th {\n        text-align: right;\n    }\n</style>\n<table border=\"1\" class=\"dataframe\">\n  <thead>\n    <tr style=\"text-align: right;\">\n      <th>년도</th>\n      <th>2010</th>\n      <th>2011</th>\n      <th>2012</th>\n      <th>2013</th>\n      <th>2014</th>\n      <th>2015</th>\n      <th>2016</th>\n      <th>2017</th>\n      <th>2018</th>\n      <th>2019</th>\n      <th>2020</th>\n    </tr>\n    <tr>\n      <th>기업명</th>\n      <th></th>\n      <th></th>\n      <th></th>\n      <th></th>\n      <th></th>\n      <th></th>\n      <th></th>\n      <th></th>\n      <th></th>\n      <th></th>\n      <th></th>\n    </tr>\n  </thead>\n  <tbody>\n    <tr>\n      <th>(유)가든주류244534</th>\n      <td>18.57</td>\n      <td>11.44</td>\n      <td>16.20</td>\n      <td>22.04</td>\n      <td>14.26</td>\n      <td>14.11</td>\n      <td>12.95</td>\n      <td>11.39</td>\n      <td>14.62</td>\n      <td>13.98</td>\n      <td>4.89</td>\n    </tr>\n    <tr>\n      <th>(유)건향개발I57907</th>\n      <td>NaN</td>\n      <td>26.04</td>\n      <td>24.94</td>\n      <td>18.47</td>\n      <td>5.05</td>\n      <td>63.61</td>\n      <td>72.43</td>\n      <td>16.78</td>\n      <td>59.22</td>\n      <td>59.87</td>\n      <td>33.61</td>\n    </tr>\n    <tr>\n      <th>(유)국제에이엠씨M00154</th>\n      <td>NaN</td>\n      <td>NaN</td>\n      <td>NaN</td>\n      <td>NaN</td>\n      <td>-7.79</td>\n      <td>138.59</td>\n      <td>23.27</td>\n      <td>-7.35</td>\n      <td>0.34</td>\n      <td>0.06</td>\n      <td>0.02</td>\n    </tr>\n    <tr>\n      <th>(유)그랜드유니버셜트레이딩코리아I83725</th>\n      <td>NaN</td>\n      <td>NaN</td>\n      <td>NaN</td>\n      <td>6.29</td>\n      <td>NaN</td>\n      <td>NaN</td>\n      <td>NaN</td>\n      <td>NaN</td>\n      <td>NaN</td>\n      <td>NaN</td>\n      <td>NaN</td>\n    </tr>\n    <tr>\n      <th>(유)그룹세브코리아609692</th>\n      <td>NaN</td>\n      <td>NaN</td>\n      <td>NaN</td>\n      <td>NaN</td>\n      <td>NaN</td>\n      <td>NaN</td>\n      <td>NaN</td>\n      <td>NaN</td>\n      <td>NaN</td>\n      <td>44.10</td>\n      <td>55.36</td>\n    </tr>\n    <tr>\n      <th>...</th>\n      <td>...</td>\n      <td>...</td>\n      <td>...</td>\n      <td>...</td>\n      <td>...</td>\n      <td>...</td>\n      <td>...</td>\n      <td>...</td>\n      <td>...</td>\n      <td>...</td>\n      <td>...</td>\n    </tr>\n    <tr>\n      <th>히로세코리아(주)450090</th>\n      <td>9.50</td>\n      <td>8.98</td>\n      <td>15.25</td>\n      <td>29.14</td>\n      <td>34.55</td>\n      <td>17.00</td>\n      <td>11.98</td>\n      <td>12.13</td>\n      <td>10.22</td>\n      <td>7.62</td>\n      <td>12.62</td>\n    </tr>\n    <tr>\n      <th>히스보험중개(주)197675</th>\n      <td>21.98</td>\n      <td>26.30</td>\n      <td>20.44</td>\n      <td>7.36</td>\n      <td>14.51</td>\n      <td>6.43</td>\n      <td>11.95</td>\n      <td>15.76</td>\n      <td>31.44</td>\n      <td>10.37</td>\n      <td>6.14</td>\n    </tr>\n    <tr>\n      <th>히타치금속한국(주)041866</th>\n      <td>24.79</td>\n      <td>17.80</td>\n      <td>10.59</td>\n      <td>18.63</td>\n      <td>17.98</td>\n      <td>16.37</td>\n      <td>14.78</td>\n      <td>8.23</td>\n      <td>18.51</td>\n      <td>9.86</td>\n      <td>11.92</td>\n    </tr>\n    <tr>\n      <th>히타치하이테크코리아(주)380165</th>\n      <td>28.22</td>\n      <td>62.25</td>\n      <td>41.29</td>\n      <td>40.86</td>\n      <td>14.69</td>\n      <td>10.41</td>\n      <td>15.61</td>\n      <td>15.68</td>\n      <td>61.84</td>\n      <td>59.45</td>\n      <td>37.05</td>\n    </tr>\n    <tr>\n      <th>힐티코리아(주)389471</th>\n      <td>22.55</td>\n      <td>19.95</td>\n      <td>7.98</td>\n      <td>9.09</td>\n      <td>7.42</td>\n      <td>14.01</td>\n      <td>6.04</td>\n      <td>8.15</td>\n      <td>11.29</td>\n      <td>9.41</td>\n      <td>9.54</td>\n    </tr>\n  </tbody>\n</table>\n<p>28972 rows × 11 columns</p>\n</div>"
     },
     "execution_count": 22,
     "metadata": {},
     "output_type": "execute_result"
    }
   ],
   "source": [
    "data.자기자본순이익률 = pd.to_numeric(data.자기자본순이익률)\n",
    "자기자본순이익률_idx = data.pivot_table(columns='년도', index = '기업명', values='자기자본순이익률', aggfunc='mean', dropna=False)\n",
    "자기자본순이익률_idx"
   ]
  },
  {
   "cell_type": "markdown",
   "id": "a3655f4b-099f-4ba8-8e94-66515e954ef8",
   "metadata": {},
   "source": [
    "#### 자기자본순이익률변동(ROEpc)"
   ]
  },
  {
   "cell_type": "code",
   "execution_count": 23,
   "id": "f96df662-17d7-4f47-a2dc-7794dbd98497",
   "metadata": {},
   "outputs": [
    {
     "data": {
      "text/plain": "년도                        2010      2011      2012      2013      2014  \\\n기업명                                                                      \n(유)가든주류244534            18.57  0.616047  1.416084  1.360494  0.647005   \n(유)건향개발I57907              NaN       NaN  0.957757  0.740577  0.273416   \n(유)국제에이엠씨M00154            NaN       NaN       NaN       NaN       NaN   \n(유)그랜드유니버셜트레이딩코리아I83725    NaN       NaN       NaN       NaN       NaN   \n(유)그룹세브코리아609692           NaN       NaN       NaN       NaN       NaN   \n...                        ...       ...       ...       ...       ...   \n히로세코리아(주)450090           9.50  0.945263  1.698218  1.910820  1.185655   \n히스보험중개(주)197675          21.98  1.196542  0.777186  0.360078  1.971467   \n히타치금속한국(주)041866         24.79  0.718031  0.594944  1.759207  0.965110   \n히타치하이테크코리아(주)380165      28.22  2.205882  0.663293  0.989586  0.359520   \n힐티코리아(주)389471           22.55  0.884701  0.400000  1.139098  0.816282   \n\n년도                            2015      2016      2017      2018      2019  \\\n기업명                                                                          \n(유)가든주류244534             0.989481  0.917789  0.879537  1.283582  0.956224   \n(유)건향개발I57907            12.596040  1.138657  0.231672  3.529201  1.010976   \n(유)국제에이엠씨M00154         -17.790757  0.167905 -0.315857 -0.046259  0.176471   \n(유)그랜드유니버셜트레이딩코리아I83725        NaN       NaN       NaN       NaN       NaN   \n(유)그룹세브코리아609692               NaN       NaN       NaN       NaN       NaN   \n...                            ...       ...       ...       ...       ...   \n히로세코리아(주)450090           0.492041  0.704706  1.012521  0.842539  0.745597   \n히스보험중개(주)197675           0.443143  1.858476  1.318828  1.994924  0.329835   \n히타치금속한국(주)041866          0.910456  0.902871  0.556834  2.249089  0.532685   \n히타치하이테크코리아(주)380165       0.708645  1.499520  1.004484  3.943878  0.961352   \n힐티코리아(주)389471            1.888140  0.431121  1.349338  1.385276  0.833481   \n\n년도                           2020  \n기업명                                \n(유)가든주류244534            0.349785  \n(유)건향개발I57907            0.561383  \n(유)국제에이엠씨M00154          0.333333  \n(유)그랜드유니버셜트레이딩코리아I83725       NaN  \n(유)그룹세브코리아609692         1.255329  \n...                           ...  \n히로세코리아(주)450090          1.656168  \n히스보험중개(주)197675          0.592093  \n히타치금속한국(주)041866         1.208925  \n히타치하이테크코리아(주)380165      0.623213  \n힐티코리아(주)389471           1.013815  \n\n[28972 rows x 11 columns]",
      "text/html": "<div>\n<style scoped>\n    .dataframe tbody tr th:only-of-type {\n        vertical-align: middle;\n    }\n\n    .dataframe tbody tr th {\n        vertical-align: top;\n    }\n\n    .dataframe thead th {\n        text-align: right;\n    }\n</style>\n<table border=\"1\" class=\"dataframe\">\n  <thead>\n    <tr style=\"text-align: right;\">\n      <th>년도</th>\n      <th>2010</th>\n      <th>2011</th>\n      <th>2012</th>\n      <th>2013</th>\n      <th>2014</th>\n      <th>2015</th>\n      <th>2016</th>\n      <th>2017</th>\n      <th>2018</th>\n      <th>2019</th>\n      <th>2020</th>\n    </tr>\n    <tr>\n      <th>기업명</th>\n      <th></th>\n      <th></th>\n      <th></th>\n      <th></th>\n      <th></th>\n      <th></th>\n      <th></th>\n      <th></th>\n      <th></th>\n      <th></th>\n      <th></th>\n    </tr>\n  </thead>\n  <tbody>\n    <tr>\n      <th>(유)가든주류244534</th>\n      <td>18.57</td>\n      <td>0.616047</td>\n      <td>1.416084</td>\n      <td>1.360494</td>\n      <td>0.647005</td>\n      <td>0.989481</td>\n      <td>0.917789</td>\n      <td>0.879537</td>\n      <td>1.283582</td>\n      <td>0.956224</td>\n      <td>0.349785</td>\n    </tr>\n    <tr>\n      <th>(유)건향개발I57907</th>\n      <td>NaN</td>\n      <td>NaN</td>\n      <td>0.957757</td>\n      <td>0.740577</td>\n      <td>0.273416</td>\n      <td>12.596040</td>\n      <td>1.138657</td>\n      <td>0.231672</td>\n      <td>3.529201</td>\n      <td>1.010976</td>\n      <td>0.561383</td>\n    </tr>\n    <tr>\n      <th>(유)국제에이엠씨M00154</th>\n      <td>NaN</td>\n      <td>NaN</td>\n      <td>NaN</td>\n      <td>NaN</td>\n      <td>NaN</td>\n      <td>-17.790757</td>\n      <td>0.167905</td>\n      <td>-0.315857</td>\n      <td>-0.046259</td>\n      <td>0.176471</td>\n      <td>0.333333</td>\n    </tr>\n    <tr>\n      <th>(유)그랜드유니버셜트레이딩코리아I83725</th>\n      <td>NaN</td>\n      <td>NaN</td>\n      <td>NaN</td>\n      <td>NaN</td>\n      <td>NaN</td>\n      <td>NaN</td>\n      <td>NaN</td>\n      <td>NaN</td>\n      <td>NaN</td>\n      <td>NaN</td>\n      <td>NaN</td>\n    </tr>\n    <tr>\n      <th>(유)그룹세브코리아609692</th>\n      <td>NaN</td>\n      <td>NaN</td>\n      <td>NaN</td>\n      <td>NaN</td>\n      <td>NaN</td>\n      <td>NaN</td>\n      <td>NaN</td>\n      <td>NaN</td>\n      <td>NaN</td>\n      <td>NaN</td>\n      <td>1.255329</td>\n    </tr>\n    <tr>\n      <th>...</th>\n      <td>...</td>\n      <td>...</td>\n      <td>...</td>\n      <td>...</td>\n      <td>...</td>\n      <td>...</td>\n      <td>...</td>\n      <td>...</td>\n      <td>...</td>\n      <td>...</td>\n      <td>...</td>\n    </tr>\n    <tr>\n      <th>히로세코리아(주)450090</th>\n      <td>9.50</td>\n      <td>0.945263</td>\n      <td>1.698218</td>\n      <td>1.910820</td>\n      <td>1.185655</td>\n      <td>0.492041</td>\n      <td>0.704706</td>\n      <td>1.012521</td>\n      <td>0.842539</td>\n      <td>0.745597</td>\n      <td>1.656168</td>\n    </tr>\n    <tr>\n      <th>히스보험중개(주)197675</th>\n      <td>21.98</td>\n      <td>1.196542</td>\n      <td>0.777186</td>\n      <td>0.360078</td>\n      <td>1.971467</td>\n      <td>0.443143</td>\n      <td>1.858476</td>\n      <td>1.318828</td>\n      <td>1.994924</td>\n      <td>0.329835</td>\n      <td>0.592093</td>\n    </tr>\n    <tr>\n      <th>히타치금속한국(주)041866</th>\n      <td>24.79</td>\n      <td>0.718031</td>\n      <td>0.594944</td>\n      <td>1.759207</td>\n      <td>0.965110</td>\n      <td>0.910456</td>\n      <td>0.902871</td>\n      <td>0.556834</td>\n      <td>2.249089</td>\n      <td>0.532685</td>\n      <td>1.208925</td>\n    </tr>\n    <tr>\n      <th>히타치하이테크코리아(주)380165</th>\n      <td>28.22</td>\n      <td>2.205882</td>\n      <td>0.663293</td>\n      <td>0.989586</td>\n      <td>0.359520</td>\n      <td>0.708645</td>\n      <td>1.499520</td>\n      <td>1.004484</td>\n      <td>3.943878</td>\n      <td>0.961352</td>\n      <td>0.623213</td>\n    </tr>\n    <tr>\n      <th>힐티코리아(주)389471</th>\n      <td>22.55</td>\n      <td>0.884701</td>\n      <td>0.400000</td>\n      <td>1.139098</td>\n      <td>0.816282</td>\n      <td>1.888140</td>\n      <td>0.431121</td>\n      <td>1.349338</td>\n      <td>1.385276</td>\n      <td>0.833481</td>\n      <td>1.013815</td>\n    </tr>\n  </tbody>\n</table>\n<p>28972 rows × 11 columns</p>\n</div>"
     },
     "execution_count": 23,
     "metadata": {},
     "output_type": "execute_result"
    }
   ],
   "source": [
    "자기자본순이익률_변동_idx = fluctuation_2(자기자본순이익률_idx)\n",
    "자기자본순이익률_변동_idx"
   ]
  },
  {
   "cell_type": "markdown",
   "id": "1c46e037-ea5a-409b-858f-ca30f140042d",
   "metadata": {
    "tags": []
   },
   "source": [
    "#### 총자산순이익률(ROA)"
   ]
  },
  {
   "cell_type": "code",
   "execution_count": 24,
   "id": "a259a35c-2f43-428b-b013-8f3dc8b49a72",
   "metadata": {},
   "outputs": [
    {
     "data": {
      "text/plain": "년도                        2010   2011   2012   2013   2014   2015   2016  \\\n기업명                                                                        \n(유)가든주류244534             5.03   2.95   4.52   7.33   5.32   5.75   5.30   \n(유)건향개발I57907              NaN  19.01  15.81  12.26   3.80  37.44  36.38   \n(유)국제에이엠씨M00154            NaN    NaN    NaN    NaN  -1.48  55.07   7.78   \n(유)그랜드유니버셜트레이딩코리아I83725    NaN    NaN    NaN   0.58    NaN    NaN    NaN   \n(유)그룹세브코리아609692           NaN    NaN    NaN    NaN    NaN    NaN    NaN   \n...                        ...    ...    ...    ...    ...    ...    ...   \n히로세코리아(주)450090           7.66   7.53  12.57  23.10  27.71  14.46  10.62   \n히스보험중개(주)197675          14.32  17.39  13.96   5.07   9.19   4.14   7.41   \n히타치금속한국(주)041866         12.86   9.42   5.45   9.87  10.73  11.76  10.80   \n히타치하이테크코리아(주)380165      16.47  38.36  27.89  30.01  11.20   7.61   9.67   \n힐티코리아(주)389471           13.33  12.87   5.12   5.58   4.71   8.97   3.96   \n\n년도                        2017   2018   2019   2020  \n기업명                                                  \n(유)가든주류244534             4.39   5.18   4.92   1.41  \n(유)건향개발I57907             7.38  14.52  16.37  12.61  \n(유)국제에이엠씨M00154          -1.93   0.09   0.03   0.01  \n(유)그랜드유니버셜트레이딩코리아I83725 -41.34 -40.18 -33.00 -24.87  \n(유)그룹세브코리아609692           NaN    NaN  17.85  22.05  \n...                        ...    ...    ...    ...  \n히로세코리아(주)450090          10.82   9.29   6.99  11.46  \n히스보험중개(주)197675          10.22  20.05   6.28   4.00  \n히타치금속한국(주)041866          5.49  11.52   6.13   7.49  \n히타치하이테크코리아(주)380165      10.12  44.10  40.83  26.00  \n힐티코리아(주)389471            5.42   7.55   6.28   5.72  \n\n[28972 rows x 11 columns]",
      "text/html": "<div>\n<style scoped>\n    .dataframe tbody tr th:only-of-type {\n        vertical-align: middle;\n    }\n\n    .dataframe tbody tr th {\n        vertical-align: top;\n    }\n\n    .dataframe thead th {\n        text-align: right;\n    }\n</style>\n<table border=\"1\" class=\"dataframe\">\n  <thead>\n    <tr style=\"text-align: right;\">\n      <th>년도</th>\n      <th>2010</th>\n      <th>2011</th>\n      <th>2012</th>\n      <th>2013</th>\n      <th>2014</th>\n      <th>2015</th>\n      <th>2016</th>\n      <th>2017</th>\n      <th>2018</th>\n      <th>2019</th>\n      <th>2020</th>\n    </tr>\n    <tr>\n      <th>기업명</th>\n      <th></th>\n      <th></th>\n      <th></th>\n      <th></th>\n      <th></th>\n      <th></th>\n      <th></th>\n      <th></th>\n      <th></th>\n      <th></th>\n      <th></th>\n    </tr>\n  </thead>\n  <tbody>\n    <tr>\n      <th>(유)가든주류244534</th>\n      <td>5.03</td>\n      <td>2.95</td>\n      <td>4.52</td>\n      <td>7.33</td>\n      <td>5.32</td>\n      <td>5.75</td>\n      <td>5.30</td>\n      <td>4.39</td>\n      <td>5.18</td>\n      <td>4.92</td>\n      <td>1.41</td>\n    </tr>\n    <tr>\n      <th>(유)건향개발I57907</th>\n      <td>NaN</td>\n      <td>19.01</td>\n      <td>15.81</td>\n      <td>12.26</td>\n      <td>3.80</td>\n      <td>37.44</td>\n      <td>36.38</td>\n      <td>7.38</td>\n      <td>14.52</td>\n      <td>16.37</td>\n      <td>12.61</td>\n    </tr>\n    <tr>\n      <th>(유)국제에이엠씨M00154</th>\n      <td>NaN</td>\n      <td>NaN</td>\n      <td>NaN</td>\n      <td>NaN</td>\n      <td>-1.48</td>\n      <td>55.07</td>\n      <td>7.78</td>\n      <td>-1.93</td>\n      <td>0.09</td>\n      <td>0.03</td>\n      <td>0.01</td>\n    </tr>\n    <tr>\n      <th>(유)그랜드유니버셜트레이딩코리아I83725</th>\n      <td>NaN</td>\n      <td>NaN</td>\n      <td>NaN</td>\n      <td>0.58</td>\n      <td>NaN</td>\n      <td>NaN</td>\n      <td>NaN</td>\n      <td>-41.34</td>\n      <td>-40.18</td>\n      <td>-33.00</td>\n      <td>-24.87</td>\n    </tr>\n    <tr>\n      <th>(유)그룹세브코리아609692</th>\n      <td>NaN</td>\n      <td>NaN</td>\n      <td>NaN</td>\n      <td>NaN</td>\n      <td>NaN</td>\n      <td>NaN</td>\n      <td>NaN</td>\n      <td>NaN</td>\n      <td>NaN</td>\n      <td>17.85</td>\n      <td>22.05</td>\n    </tr>\n    <tr>\n      <th>...</th>\n      <td>...</td>\n      <td>...</td>\n      <td>...</td>\n      <td>...</td>\n      <td>...</td>\n      <td>...</td>\n      <td>...</td>\n      <td>...</td>\n      <td>...</td>\n      <td>...</td>\n      <td>...</td>\n    </tr>\n    <tr>\n      <th>히로세코리아(주)450090</th>\n      <td>7.66</td>\n      <td>7.53</td>\n      <td>12.57</td>\n      <td>23.10</td>\n      <td>27.71</td>\n      <td>14.46</td>\n      <td>10.62</td>\n      <td>10.82</td>\n      <td>9.29</td>\n      <td>6.99</td>\n      <td>11.46</td>\n    </tr>\n    <tr>\n      <th>히스보험중개(주)197675</th>\n      <td>14.32</td>\n      <td>17.39</td>\n      <td>13.96</td>\n      <td>5.07</td>\n      <td>9.19</td>\n      <td>4.14</td>\n      <td>7.41</td>\n      <td>10.22</td>\n      <td>20.05</td>\n      <td>6.28</td>\n      <td>4.00</td>\n    </tr>\n    <tr>\n      <th>히타치금속한국(주)041866</th>\n      <td>12.86</td>\n      <td>9.42</td>\n      <td>5.45</td>\n      <td>9.87</td>\n      <td>10.73</td>\n      <td>11.76</td>\n      <td>10.80</td>\n      <td>5.49</td>\n      <td>11.52</td>\n      <td>6.13</td>\n      <td>7.49</td>\n    </tr>\n    <tr>\n      <th>히타치하이테크코리아(주)380165</th>\n      <td>16.47</td>\n      <td>38.36</td>\n      <td>27.89</td>\n      <td>30.01</td>\n      <td>11.20</td>\n      <td>7.61</td>\n      <td>9.67</td>\n      <td>10.12</td>\n      <td>44.10</td>\n      <td>40.83</td>\n      <td>26.00</td>\n    </tr>\n    <tr>\n      <th>힐티코리아(주)389471</th>\n      <td>13.33</td>\n      <td>12.87</td>\n      <td>5.12</td>\n      <td>5.58</td>\n      <td>4.71</td>\n      <td>8.97</td>\n      <td>3.96</td>\n      <td>5.42</td>\n      <td>7.55</td>\n      <td>6.28</td>\n      <td>5.72</td>\n    </tr>\n  </tbody>\n</table>\n<p>28972 rows × 11 columns</p>\n</div>"
     },
     "execution_count": 24,
     "metadata": {},
     "output_type": "execute_result"
    }
   ],
   "source": [
    "data.ROA = pd.to_numeric(data.ROA)\n",
    "ROA_idx = data.pivot_table(columns='년도', index = '기업명', values='ROA', aggfunc='mean', dropna=False)\n",
    "ROA_idx"
   ]
  },
  {
   "cell_type": "markdown",
   "id": "a13679a4-c8b1-494c-8d0f-e37a6146b0af",
   "metadata": {},
   "source": [
    "#### 총자산순이익률변동(ROApc)"
   ]
  },
  {
   "cell_type": "code",
   "execution_count": 25,
   "id": "af95729e-cc8a-4f82-8856-3ed08b7ab316",
   "metadata": {},
   "outputs": [
    {
     "data": {
      "text/plain": "년도                        2010      2011      2012      2013      2014  \\\n기업명                                                                      \n(유)가든주류244534             5.03  0.586481  1.532203  1.621681  0.725784   \n(유)건향개발I57907              NaN       NaN  0.831668  0.775459  0.309951   \n(유)국제에이엠씨M00154            NaN       NaN       NaN       NaN       NaN   \n(유)그랜드유니버셜트레이딩코리아I83725    NaN       NaN       NaN       NaN       NaN   \n(유)그룹세브코리아609692           NaN       NaN       NaN       NaN       NaN   \n...                        ...       ...       ...       ...       ...   \n히로세코리아(주)450090           7.66  0.983029  1.669323  1.837709  1.199567   \n히스보험중개(주)197675          14.32  1.214385  0.802760  0.363181  1.812623   \n히타치금속한국(주)041866         12.86  0.732504  0.578556  1.811009  1.087133   \n히타치하이테크코리아(주)380165      16.47  2.329083  0.727059  1.076013  0.373209   \n힐티코리아(주)389471           13.33  0.965491  0.397824  1.089844  0.844086   \n\n년도                            2015      2016      2017      2018      2019  \\\n기업명                                                                          \n(유)가든주류244534             1.080827  0.921739  0.828302  1.179954  0.949807   \n(유)건향개발I57907             9.852632  0.971688  0.202859  1.967480  1.127410   \n(유)국제에이엠씨M00154         -37.209459  0.141275 -0.248072 -0.046632  0.333333   \n(유)그랜드유니버셜트레이딩코리아I83725        NaN       NaN       NaN  0.971940  0.821304   \n(유)그룹세브코리아609692               NaN       NaN       NaN       NaN       NaN   \n...                            ...       ...       ...       ...       ...   \n히로세코리아(주)450090           0.521833  0.734440  1.018832  0.858595  0.752422   \n히스보험중개(주)197675           0.450490  1.789855  1.379217  1.961840  0.313217   \n히타치금속한국(주)041866          1.095993  0.918367  0.508333  2.098361  0.532118   \n히타치하이테크코리아(주)380165       0.679464  1.270696  1.046536  4.357708  0.925850   \n힐티코리아(주)389471            1.904459  0.441472  1.368687  1.392989  0.831788   \n\n년도                           2020  \n기업명                                \n(유)가든주류244534            0.286585  \n(유)건향개발I57907            0.770312  \n(유)국제에이엠씨M00154          0.333333  \n(유)그랜드유니버셜트레이딩코리아I83725  0.753636  \n(유)그룹세브코리아609692         1.235294  \n...                           ...  \n히로세코리아(주)450090          1.639485  \n히스보험중개(주)197675          0.636943  \n히타치금속한국(주)041866         1.221860  \n히타치하이테크코리아(주)380165      0.636787  \n힐티코리아(주)389471           0.910828  \n\n[28972 rows x 11 columns]",
      "text/html": "<div>\n<style scoped>\n    .dataframe tbody tr th:only-of-type {\n        vertical-align: middle;\n    }\n\n    .dataframe tbody tr th {\n        vertical-align: top;\n    }\n\n    .dataframe thead th {\n        text-align: right;\n    }\n</style>\n<table border=\"1\" class=\"dataframe\">\n  <thead>\n    <tr style=\"text-align: right;\">\n      <th>년도</th>\n      <th>2010</th>\n      <th>2011</th>\n      <th>2012</th>\n      <th>2013</th>\n      <th>2014</th>\n      <th>2015</th>\n      <th>2016</th>\n      <th>2017</th>\n      <th>2018</th>\n      <th>2019</th>\n      <th>2020</th>\n    </tr>\n    <tr>\n      <th>기업명</th>\n      <th></th>\n      <th></th>\n      <th></th>\n      <th></th>\n      <th></th>\n      <th></th>\n      <th></th>\n      <th></th>\n      <th></th>\n      <th></th>\n      <th></th>\n    </tr>\n  </thead>\n  <tbody>\n    <tr>\n      <th>(유)가든주류244534</th>\n      <td>5.03</td>\n      <td>0.586481</td>\n      <td>1.532203</td>\n      <td>1.621681</td>\n      <td>0.725784</td>\n      <td>1.080827</td>\n      <td>0.921739</td>\n      <td>0.828302</td>\n      <td>1.179954</td>\n      <td>0.949807</td>\n      <td>0.286585</td>\n    </tr>\n    <tr>\n      <th>(유)건향개발I57907</th>\n      <td>NaN</td>\n      <td>NaN</td>\n      <td>0.831668</td>\n      <td>0.775459</td>\n      <td>0.309951</td>\n      <td>9.852632</td>\n      <td>0.971688</td>\n      <td>0.202859</td>\n      <td>1.967480</td>\n      <td>1.127410</td>\n      <td>0.770312</td>\n    </tr>\n    <tr>\n      <th>(유)국제에이엠씨M00154</th>\n      <td>NaN</td>\n      <td>NaN</td>\n      <td>NaN</td>\n      <td>NaN</td>\n      <td>NaN</td>\n      <td>-37.209459</td>\n      <td>0.141275</td>\n      <td>-0.248072</td>\n      <td>-0.046632</td>\n      <td>0.333333</td>\n      <td>0.333333</td>\n    </tr>\n    <tr>\n      <th>(유)그랜드유니버셜트레이딩코리아I83725</th>\n      <td>NaN</td>\n      <td>NaN</td>\n      <td>NaN</td>\n      <td>NaN</td>\n      <td>NaN</td>\n      <td>NaN</td>\n      <td>NaN</td>\n      <td>NaN</td>\n      <td>0.971940</td>\n      <td>0.821304</td>\n      <td>0.753636</td>\n    </tr>\n    <tr>\n      <th>(유)그룹세브코리아609692</th>\n      <td>NaN</td>\n      <td>NaN</td>\n      <td>NaN</td>\n      <td>NaN</td>\n      <td>NaN</td>\n      <td>NaN</td>\n      <td>NaN</td>\n      <td>NaN</td>\n      <td>NaN</td>\n      <td>NaN</td>\n      <td>1.235294</td>\n    </tr>\n    <tr>\n      <th>...</th>\n      <td>...</td>\n      <td>...</td>\n      <td>...</td>\n      <td>...</td>\n      <td>...</td>\n      <td>...</td>\n      <td>...</td>\n      <td>...</td>\n      <td>...</td>\n      <td>...</td>\n      <td>...</td>\n    </tr>\n    <tr>\n      <th>히로세코리아(주)450090</th>\n      <td>7.66</td>\n      <td>0.983029</td>\n      <td>1.669323</td>\n      <td>1.837709</td>\n      <td>1.199567</td>\n      <td>0.521833</td>\n      <td>0.734440</td>\n      <td>1.018832</td>\n      <td>0.858595</td>\n      <td>0.752422</td>\n      <td>1.639485</td>\n    </tr>\n    <tr>\n      <th>히스보험중개(주)197675</th>\n      <td>14.32</td>\n      <td>1.214385</td>\n      <td>0.802760</td>\n      <td>0.363181</td>\n      <td>1.812623</td>\n      <td>0.450490</td>\n      <td>1.789855</td>\n      <td>1.379217</td>\n      <td>1.961840</td>\n      <td>0.313217</td>\n      <td>0.636943</td>\n    </tr>\n    <tr>\n      <th>히타치금속한국(주)041866</th>\n      <td>12.86</td>\n      <td>0.732504</td>\n      <td>0.578556</td>\n      <td>1.811009</td>\n      <td>1.087133</td>\n      <td>1.095993</td>\n      <td>0.918367</td>\n      <td>0.508333</td>\n      <td>2.098361</td>\n      <td>0.532118</td>\n      <td>1.221860</td>\n    </tr>\n    <tr>\n      <th>히타치하이테크코리아(주)380165</th>\n      <td>16.47</td>\n      <td>2.329083</td>\n      <td>0.727059</td>\n      <td>1.076013</td>\n      <td>0.373209</td>\n      <td>0.679464</td>\n      <td>1.270696</td>\n      <td>1.046536</td>\n      <td>4.357708</td>\n      <td>0.925850</td>\n      <td>0.636787</td>\n    </tr>\n    <tr>\n      <th>힐티코리아(주)389471</th>\n      <td>13.33</td>\n      <td>0.965491</td>\n      <td>0.397824</td>\n      <td>1.089844</td>\n      <td>0.844086</td>\n      <td>1.904459</td>\n      <td>0.441472</td>\n      <td>1.368687</td>\n      <td>1.392989</td>\n      <td>0.831788</td>\n      <td>0.910828</td>\n    </tr>\n  </tbody>\n</table>\n<p>28972 rows × 11 columns</p>\n</div>"
     },
     "execution_count": 25,
     "metadata": {},
     "output_type": "execute_result"
    }
   ],
   "source": [
    "ROA_변동_idx = fluctuation_2(ROA_idx)\n",
    "ROA_변동_idx"
   ]
  },
  {
   "cell_type": "markdown",
   "id": "c603ae8b-c3e4-4667-a7c0-b5215f2f19c9",
   "metadata": {},
   "source": [
    "#### 적자여부(Defi)"
   ]
  },
  {
   "cell_type": "code",
   "execution_count": 26,
   "id": "6ac41c26-1b62-48cb-8a7d-10be4d08a75d",
   "metadata": {},
   "outputs": [
    {
     "data": {
      "text/plain": "년도                       2010  2011  2012  2013  2014  2015  2016  2017  2018  \\\n기업명                                                                             \n(유)가든주류244534             1.0   1.0   1.0   1.0   1.0   1.0   1.0   1.0   1.0   \n(유)건향개발I57907             1.0   1.0   1.0   1.0   1.0   1.0   1.0   1.0   0.0   \n(유)국제에이엠씨M00154           1.0   1.0   1.0   1.0   1.0   1.0   1.0   1.0   1.0   \n(유)그랜드유니버셜트레이딩코리아I83725   1.0   1.0   1.0   1.0   1.0   1.0   1.0   1.0   1.0   \n(유)그룹세브코리아609692          1.0   1.0   1.0   1.0   1.0   1.0   1.0   1.0   1.0   \n...                       ...   ...   ...   ...   ...   ...   ...   ...   ...   \n히로세코리아(주)450090           0.0   0.0   0.0   0.0   0.0   0.0   0.0   0.0   0.0   \n히스보험중개(주)197675           0.0   0.0   0.0   0.0   0.0   0.0   0.0   0.0   0.0   \n히타치금속한국(주)041866          0.0   0.0   0.0   0.0   0.0   0.0   0.0   0.0   0.0   \n히타치하이테크코리아(주)380165       0.0   0.0   0.0   0.0   0.0   0.0   0.0   0.0   0.0   \n힐티코리아(주)389471            0.0   0.0   0.0   0.0   0.0   0.0   0.0   0.0   0.0   \n\n년도                       2019  2020  \n기업명                                  \n(유)가든주류244534             0.0   0.0  \n(유)건향개발I57907             0.0   0.0  \n(유)국제에이엠씨M00154           1.0   1.0  \n(유)그랜드유니버셜트레이딩코리아I83725   1.0   1.0  \n(유)그룹세브코리아609692          0.0   0.0  \n...                       ...   ...  \n히로세코리아(주)450090           0.0   0.0  \n히스보험중개(주)197675           0.0   0.0  \n히타치금속한국(주)041866          0.0   0.0  \n히타치하이테크코리아(주)380165       0.0   0.0  \n힐티코리아(주)389471            0.0   0.0  \n\n[28972 rows x 11 columns]",
      "text/html": "<div>\n<style scoped>\n    .dataframe tbody tr th:only-of-type {\n        vertical-align: middle;\n    }\n\n    .dataframe tbody tr th {\n        vertical-align: top;\n    }\n\n    .dataframe thead th {\n        text-align: right;\n    }\n</style>\n<table border=\"1\" class=\"dataframe\">\n  <thead>\n    <tr style=\"text-align: right;\">\n      <th>년도</th>\n      <th>2010</th>\n      <th>2011</th>\n      <th>2012</th>\n      <th>2013</th>\n      <th>2014</th>\n      <th>2015</th>\n      <th>2016</th>\n      <th>2017</th>\n      <th>2018</th>\n      <th>2019</th>\n      <th>2020</th>\n    </tr>\n    <tr>\n      <th>기업명</th>\n      <th></th>\n      <th></th>\n      <th></th>\n      <th></th>\n      <th></th>\n      <th></th>\n      <th></th>\n      <th></th>\n      <th></th>\n      <th></th>\n      <th></th>\n    </tr>\n  </thead>\n  <tbody>\n    <tr>\n      <th>(유)가든주류244534</th>\n      <td>1.0</td>\n      <td>1.0</td>\n      <td>1.0</td>\n      <td>1.0</td>\n      <td>1.0</td>\n      <td>1.0</td>\n      <td>1.0</td>\n      <td>1.0</td>\n      <td>1.0</td>\n      <td>0.0</td>\n      <td>0.0</td>\n    </tr>\n    <tr>\n      <th>(유)건향개발I57907</th>\n      <td>1.0</td>\n      <td>1.0</td>\n      <td>1.0</td>\n      <td>1.0</td>\n      <td>1.0</td>\n      <td>1.0</td>\n      <td>1.0</td>\n      <td>1.0</td>\n      <td>0.0</td>\n      <td>0.0</td>\n      <td>0.0</td>\n    </tr>\n    <tr>\n      <th>(유)국제에이엠씨M00154</th>\n      <td>1.0</td>\n      <td>1.0</td>\n      <td>1.0</td>\n      <td>1.0</td>\n      <td>1.0</td>\n      <td>1.0</td>\n      <td>1.0</td>\n      <td>1.0</td>\n      <td>1.0</td>\n      <td>1.0</td>\n      <td>1.0</td>\n    </tr>\n    <tr>\n      <th>(유)그랜드유니버셜트레이딩코리아I83725</th>\n      <td>1.0</td>\n      <td>1.0</td>\n      <td>1.0</td>\n      <td>1.0</td>\n      <td>1.0</td>\n      <td>1.0</td>\n      <td>1.0</td>\n      <td>1.0</td>\n      <td>1.0</td>\n      <td>1.0</td>\n      <td>1.0</td>\n    </tr>\n    <tr>\n      <th>(유)그룹세브코리아609692</th>\n      <td>1.0</td>\n      <td>1.0</td>\n      <td>1.0</td>\n      <td>1.0</td>\n      <td>1.0</td>\n      <td>1.0</td>\n      <td>1.0</td>\n      <td>1.0</td>\n      <td>1.0</td>\n      <td>0.0</td>\n      <td>0.0</td>\n    </tr>\n    <tr>\n      <th>...</th>\n      <td>...</td>\n      <td>...</td>\n      <td>...</td>\n      <td>...</td>\n      <td>...</td>\n      <td>...</td>\n      <td>...</td>\n      <td>...</td>\n      <td>...</td>\n      <td>...</td>\n      <td>...</td>\n    </tr>\n    <tr>\n      <th>히로세코리아(주)450090</th>\n      <td>0.0</td>\n      <td>0.0</td>\n      <td>0.0</td>\n      <td>0.0</td>\n      <td>0.0</td>\n      <td>0.0</td>\n      <td>0.0</td>\n      <td>0.0</td>\n      <td>0.0</td>\n      <td>0.0</td>\n      <td>0.0</td>\n    </tr>\n    <tr>\n      <th>히스보험중개(주)197675</th>\n      <td>0.0</td>\n      <td>0.0</td>\n      <td>0.0</td>\n      <td>0.0</td>\n      <td>0.0</td>\n      <td>0.0</td>\n      <td>0.0</td>\n      <td>0.0</td>\n      <td>0.0</td>\n      <td>0.0</td>\n      <td>0.0</td>\n    </tr>\n    <tr>\n      <th>히타치금속한국(주)041866</th>\n      <td>0.0</td>\n      <td>0.0</td>\n      <td>0.0</td>\n      <td>0.0</td>\n      <td>0.0</td>\n      <td>0.0</td>\n      <td>0.0</td>\n      <td>0.0</td>\n      <td>0.0</td>\n      <td>0.0</td>\n      <td>0.0</td>\n    </tr>\n    <tr>\n      <th>히타치하이테크코리아(주)380165</th>\n      <td>0.0</td>\n      <td>0.0</td>\n      <td>0.0</td>\n      <td>0.0</td>\n      <td>0.0</td>\n      <td>0.0</td>\n      <td>0.0</td>\n      <td>0.0</td>\n      <td>0.0</td>\n      <td>0.0</td>\n      <td>0.0</td>\n    </tr>\n    <tr>\n      <th>힐티코리아(주)389471</th>\n      <td>0.0</td>\n      <td>0.0</td>\n      <td>0.0</td>\n      <td>0.0</td>\n      <td>0.0</td>\n      <td>0.0</td>\n      <td>0.0</td>\n      <td>0.0</td>\n      <td>0.0</td>\n      <td>0.0</td>\n      <td>0.0</td>\n    </tr>\n  </tbody>\n</table>\n<p>28972 rows × 11 columns</p>\n</div>"
     },
     "execution_count": 26,
     "metadata": {},
     "output_type": "execute_result"
    }
   ],
   "source": [
    "data['적자여부'] = data.당기순이익.apply(lambda x: 0 if x > 0 else 1) #당기순이익이 0이하면 적자\n",
    "data.적자여부 = pd.to_numeric(data.적자여부)\n",
    "적자여부_idx = data.pivot_table(columns='년도', index = '기업명', values='적자여부', aggfunc='mean', dropna=False)\n",
    "적자여부_idx"
   ]
  },
  {
   "cell_type": "markdown",
   "id": "96c73bbb-1c13-40c0-8c3b-58c00662c221",
   "metadata": {},
   "source": [
    "#### 매출액증가율(SG)"
   ]
  },
  {
   "cell_type": "code",
   "execution_count": 27,
   "id": "80f44932-e3a6-4cb0-a855-905e117238ff",
   "metadata": {},
   "outputs": [
    {
     "data": {
      "text/plain": "년도                        2010   2011   2012   2013   2014     2015    2016  \\\n기업명                                                                           \n(유)가든주류244534             9.76   5.29   2.44  13.63  -2.10     3.45    5.82   \n(유)건향개발I57907              NaN    NaN -26.17  35.37 -73.49  4136.84  142.01   \n(유)국제에이엠씨M00154            NaN    NaN    NaN    NaN    NaN  1218.94  456.34   \n(유)그랜드유니버셜트레이딩코리아I83725    NaN    NaN    NaN    NaN    NaN      NaN     NaN   \n(유)그룹세브코리아609692           NaN    NaN    NaN    NaN    NaN      NaN     NaN   \n...                        ...    ...    ...    ...    ...      ...     ...   \n히로세코리아(주)450090          17.56  18.99  16.22  39.22  38.22   -20.61  -12.02   \n히스보험중개(주)197675         -11.14  37.72  19.05   4.52  20.26    10.11    6.78   \n히타치금속한국(주)041866         16.36  18.70   5.54  11.22  -8.12    33.70  109.35   \n히타치하이테크코리아(주)380165      17.21  33.31  10.01  16.78 -17.14    -3.85    7.50   \n힐티코리아(주)389471            9.78   9.18  11.94   9.09  12.38     8.41   13.39   \n\n년도                         2017   2018    2019   2020  \n기업명                                                    \n(유)가든주류244534              7.31  14.85    9.51 -12.73  \n(유)건향개발I57907             19.13  65.16   -0.38 -15.22  \n(유)국제에이엠씨M00154          677.77 -33.32  314.01 -78.94  \n(유)그랜드유니버셜트레이딩코리아I83725     NaN  26.23  -12.15  58.39  \n(유)그룹세브코리아609692            NaN    NaN     NaN   1.68  \n...                         ...    ...     ...    ...  \n히로세코리아(주)450090            3.54  -1.19   -3.51  25.93  \n히스보험중개(주)197675           19.04  33.27    3.76   8.99  \n히타치금속한국(주)041866          40.98  21.95    3.50  16.22  \n히타치하이테크코리아(주)380165       13.53  79.67    8.70 -19.74  \n힐티코리아(주)389471            15.41   3.18   -4.72  -0.57  \n\n[28972 rows x 11 columns]",
      "text/html": "<div>\n<style scoped>\n    .dataframe tbody tr th:only-of-type {\n        vertical-align: middle;\n    }\n\n    .dataframe tbody tr th {\n        vertical-align: top;\n    }\n\n    .dataframe thead th {\n        text-align: right;\n    }\n</style>\n<table border=\"1\" class=\"dataframe\">\n  <thead>\n    <tr style=\"text-align: right;\">\n      <th>년도</th>\n      <th>2010</th>\n      <th>2011</th>\n      <th>2012</th>\n      <th>2013</th>\n      <th>2014</th>\n      <th>2015</th>\n      <th>2016</th>\n      <th>2017</th>\n      <th>2018</th>\n      <th>2019</th>\n      <th>2020</th>\n    </tr>\n    <tr>\n      <th>기업명</th>\n      <th></th>\n      <th></th>\n      <th></th>\n      <th></th>\n      <th></th>\n      <th></th>\n      <th></th>\n      <th></th>\n      <th></th>\n      <th></th>\n      <th></th>\n    </tr>\n  </thead>\n  <tbody>\n    <tr>\n      <th>(유)가든주류244534</th>\n      <td>9.76</td>\n      <td>5.29</td>\n      <td>2.44</td>\n      <td>13.63</td>\n      <td>-2.10</td>\n      <td>3.45</td>\n      <td>5.82</td>\n      <td>7.31</td>\n      <td>14.85</td>\n      <td>9.51</td>\n      <td>-12.73</td>\n    </tr>\n    <tr>\n      <th>(유)건향개발I57907</th>\n      <td>NaN</td>\n      <td>NaN</td>\n      <td>-26.17</td>\n      <td>35.37</td>\n      <td>-73.49</td>\n      <td>4136.84</td>\n      <td>142.01</td>\n      <td>19.13</td>\n      <td>65.16</td>\n      <td>-0.38</td>\n      <td>-15.22</td>\n    </tr>\n    <tr>\n      <th>(유)국제에이엠씨M00154</th>\n      <td>NaN</td>\n      <td>NaN</td>\n      <td>NaN</td>\n      <td>NaN</td>\n      <td>NaN</td>\n      <td>1218.94</td>\n      <td>456.34</td>\n      <td>677.77</td>\n      <td>-33.32</td>\n      <td>314.01</td>\n      <td>-78.94</td>\n    </tr>\n    <tr>\n      <th>(유)그랜드유니버셜트레이딩코리아I83725</th>\n      <td>NaN</td>\n      <td>NaN</td>\n      <td>NaN</td>\n      <td>NaN</td>\n      <td>NaN</td>\n      <td>NaN</td>\n      <td>NaN</td>\n      <td>NaN</td>\n      <td>26.23</td>\n      <td>-12.15</td>\n      <td>58.39</td>\n    </tr>\n    <tr>\n      <th>(유)그룹세브코리아609692</th>\n      <td>NaN</td>\n      <td>NaN</td>\n      <td>NaN</td>\n      <td>NaN</td>\n      <td>NaN</td>\n      <td>NaN</td>\n      <td>NaN</td>\n      <td>NaN</td>\n      <td>NaN</td>\n      <td>NaN</td>\n      <td>1.68</td>\n    </tr>\n    <tr>\n      <th>...</th>\n      <td>...</td>\n      <td>...</td>\n      <td>...</td>\n      <td>...</td>\n      <td>...</td>\n      <td>...</td>\n      <td>...</td>\n      <td>...</td>\n      <td>...</td>\n      <td>...</td>\n      <td>...</td>\n    </tr>\n    <tr>\n      <th>히로세코리아(주)450090</th>\n      <td>17.56</td>\n      <td>18.99</td>\n      <td>16.22</td>\n      <td>39.22</td>\n      <td>38.22</td>\n      <td>-20.61</td>\n      <td>-12.02</td>\n      <td>3.54</td>\n      <td>-1.19</td>\n      <td>-3.51</td>\n      <td>25.93</td>\n    </tr>\n    <tr>\n      <th>히스보험중개(주)197675</th>\n      <td>-11.14</td>\n      <td>37.72</td>\n      <td>19.05</td>\n      <td>4.52</td>\n      <td>20.26</td>\n      <td>10.11</td>\n      <td>6.78</td>\n      <td>19.04</td>\n      <td>33.27</td>\n      <td>3.76</td>\n      <td>8.99</td>\n    </tr>\n    <tr>\n      <th>히타치금속한국(주)041866</th>\n      <td>16.36</td>\n      <td>18.70</td>\n      <td>5.54</td>\n      <td>11.22</td>\n      <td>-8.12</td>\n      <td>33.70</td>\n      <td>109.35</td>\n      <td>40.98</td>\n      <td>21.95</td>\n      <td>3.50</td>\n      <td>16.22</td>\n    </tr>\n    <tr>\n      <th>히타치하이테크코리아(주)380165</th>\n      <td>17.21</td>\n      <td>33.31</td>\n      <td>10.01</td>\n      <td>16.78</td>\n      <td>-17.14</td>\n      <td>-3.85</td>\n      <td>7.50</td>\n      <td>13.53</td>\n      <td>79.67</td>\n      <td>8.70</td>\n      <td>-19.74</td>\n    </tr>\n    <tr>\n      <th>힐티코리아(주)389471</th>\n      <td>9.78</td>\n      <td>9.18</td>\n      <td>11.94</td>\n      <td>9.09</td>\n      <td>12.38</td>\n      <td>8.41</td>\n      <td>13.39</td>\n      <td>15.41</td>\n      <td>3.18</td>\n      <td>-4.72</td>\n      <td>-0.57</td>\n    </tr>\n  </tbody>\n</table>\n<p>28972 rows × 11 columns</p>\n</div>"
     },
     "execution_count": 27,
     "metadata": {},
     "output_type": "execute_result"
    }
   ],
   "source": [
    "data.매출액증가율 = pd.to_numeric(data.매출액증가율)\n",
    "매출액증가율_idx = data.pivot_table(columns='년도', index = '기업명', values='매출액증가율', aggfunc='mean', dropna=False)\n",
    "매출액증가율_idx"
   ]
  },
  {
   "cell_type": "markdown",
   "id": "ac45206b-e648-491b-b6ca-6c407297d306",
   "metadata": {},
   "source": [
    "### 4) 신뢰성 지표"
   ]
  },
  {
   "cell_type": "markdown",
   "id": "f630e795-dc94-46f4-8225-c9ab155c9b97",
   "metadata": {
    "tags": []
   },
   "source": [
    "#### 자산퀄리티(AQ)"
   ]
  },
  {
   "cell_type": "code",
   "execution_count": 28,
   "id": "8e90925c-f904-48d7-8688-fd91762df968",
   "metadata": {},
   "outputs": [],
   "source": [
    "data.유동자산 = pd.to_numeric(data.유동자산)\n",
    "유동자산_idx = data.pivot_table(columns='년도', index = '기업명', values='유동자산', aggfunc='mean', dropna=False)\n",
    "\n",
    "data.유형자산 = pd.to_numeric(data.유형자산)\n",
    "유형자산_idx = data.pivot_table(columns='년도', index = '기업명', values='유형자산', aggfunc='mean', dropna=False)\n",
    "\n",
    "data.자산총계 = pd.to_numeric(data.자산총계)\n",
    "자산총계_idx = data.pivot_table(columns='년도', index = '기업명', values='자산총계', aggfunc='mean', dropna=False)"
   ]
  },
  {
   "cell_type": "code",
   "execution_count": 29,
   "id": "23e63ec5-ddf5-4bd9-a2a5-744d75e95f34",
   "metadata": {},
   "outputs": [
    {
     "data": {
      "text/plain": "년도                           2010      2011      2012      2013      2014  \\\n기업명                                                                         \n(유)가든주류244534            0.241983  0.210837  0.008933  0.004597  0.003259   \n(유)건향개발I57907                 NaN       NaN       NaN  0.215744  0.197204   \n(유)국제에이엠씨M00154               NaN       NaN       NaN       NaN  0.000000   \n(유)그랜드유니버셜트레이딩코리아I83725       NaN       NaN       NaN  0.025167       NaN   \n(유)그룹세브코리아609692              NaN       NaN       NaN       NaN       NaN   \n...                           ...       ...       ...       ...       ...   \n히로세코리아(주)450090          0.292003  0.194870  0.277983  0.292800  0.247021   \n히스보험중개(주)197675          0.135513  0.287172  0.274710  0.233490  0.231895   \n히타치금속한국(주)041866         0.036565  0.018101  0.029338  0.028906  0.013726   \n히타치하이테크코리아(주)380165      0.130501  0.072232  0.055239  0.048341  0.050132   \n힐티코리아(주)389471           0.123509  0.123626  0.194935  0.178282  0.155088   \n\n년도                           2015      2016      2017      2018      2019  \\\n기업명                                                                         \n(유)가든주류244534            0.003638  0.022978  0.027524  0.080688  0.080653   \n(유)건향개발I57907            0.261592  0.197115  0.226237  0.134895  0.121283   \n(유)국제에이엠씨M00154          0.000000  0.003894  0.035565  0.022060  0.019942   \n(유)그랜드유니버셜트레이딩코리아I83725       NaN       NaN  0.000000  0.000271  0.000000   \n(유)그룹세브코리아609692              NaN       NaN       NaN       NaN  0.031617   \n...                           ...       ...       ...       ...       ...   \n히로세코리아(주)450090          0.196769  0.267317  0.072620  0.038010  0.044608   \n히스보험중개(주)197675          0.284463  0.257020  0.294078  0.256147  0.172245   \n히타치금속한국(주)041866         0.021849  0.018308  0.017250  0.012940  0.014612   \n히타치하이테크코리아(주)380165      0.072154  0.076531  0.057228  0.034955  0.059848   \n힐티코리아(주)389471           0.134861  0.142450  0.056755  0.078465  0.054562   \n\n년도                           2020  \n기업명                                \n(유)가든주류244534            0.113478  \n(유)건향개발I57907            0.146449  \n(유)국제에이엠씨M00154          0.020330  \n(유)그랜드유니버셜트레이딩코리아I83725  0.000000  \n(유)그룹세브코리아609692         0.029485  \n...                           ...  \n히로세코리아(주)450090          0.216721  \n히스보험중개(주)197675          0.209066  \n히타치금속한국(주)041866         0.019451  \n히타치하이테크코리아(주)380165      0.065219  \n힐티코리아(주)389471           0.084643  \n\n[28972 rows x 11 columns]",
      "text/html": "<div>\n<style scoped>\n    .dataframe tbody tr th:only-of-type {\n        vertical-align: middle;\n    }\n\n    .dataframe tbody tr th {\n        vertical-align: top;\n    }\n\n    .dataframe thead th {\n        text-align: right;\n    }\n</style>\n<table border=\"1\" class=\"dataframe\">\n  <thead>\n    <tr style=\"text-align: right;\">\n      <th>년도</th>\n      <th>2010</th>\n      <th>2011</th>\n      <th>2012</th>\n      <th>2013</th>\n      <th>2014</th>\n      <th>2015</th>\n      <th>2016</th>\n      <th>2017</th>\n      <th>2018</th>\n      <th>2019</th>\n      <th>2020</th>\n    </tr>\n    <tr>\n      <th>기업명</th>\n      <th></th>\n      <th></th>\n      <th></th>\n      <th></th>\n      <th></th>\n      <th></th>\n      <th></th>\n      <th></th>\n      <th></th>\n      <th></th>\n      <th></th>\n    </tr>\n  </thead>\n  <tbody>\n    <tr>\n      <th>(유)가든주류244534</th>\n      <td>0.241983</td>\n      <td>0.210837</td>\n      <td>0.008933</td>\n      <td>0.004597</td>\n      <td>0.003259</td>\n      <td>0.003638</td>\n      <td>0.022978</td>\n      <td>0.027524</td>\n      <td>0.080688</td>\n      <td>0.080653</td>\n      <td>0.113478</td>\n    </tr>\n    <tr>\n      <th>(유)건향개발I57907</th>\n      <td>NaN</td>\n      <td>NaN</td>\n      <td>NaN</td>\n      <td>0.215744</td>\n      <td>0.197204</td>\n      <td>0.261592</td>\n      <td>0.197115</td>\n      <td>0.226237</td>\n      <td>0.134895</td>\n      <td>0.121283</td>\n      <td>0.146449</td>\n    </tr>\n    <tr>\n      <th>(유)국제에이엠씨M00154</th>\n      <td>NaN</td>\n      <td>NaN</td>\n      <td>NaN</td>\n      <td>NaN</td>\n      <td>0.000000</td>\n      <td>0.000000</td>\n      <td>0.003894</td>\n      <td>0.035565</td>\n      <td>0.022060</td>\n      <td>0.019942</td>\n      <td>0.020330</td>\n    </tr>\n    <tr>\n      <th>(유)그랜드유니버셜트레이딩코리아I83725</th>\n      <td>NaN</td>\n      <td>NaN</td>\n      <td>NaN</td>\n      <td>0.025167</td>\n      <td>NaN</td>\n      <td>NaN</td>\n      <td>NaN</td>\n      <td>0.000000</td>\n      <td>0.000271</td>\n      <td>0.000000</td>\n      <td>0.000000</td>\n    </tr>\n    <tr>\n      <th>(유)그룹세브코리아609692</th>\n      <td>NaN</td>\n      <td>NaN</td>\n      <td>NaN</td>\n      <td>NaN</td>\n      <td>NaN</td>\n      <td>NaN</td>\n      <td>NaN</td>\n      <td>NaN</td>\n      <td>NaN</td>\n      <td>0.031617</td>\n      <td>0.029485</td>\n    </tr>\n    <tr>\n      <th>...</th>\n      <td>...</td>\n      <td>...</td>\n      <td>...</td>\n      <td>...</td>\n      <td>...</td>\n      <td>...</td>\n      <td>...</td>\n      <td>...</td>\n      <td>...</td>\n      <td>...</td>\n      <td>...</td>\n    </tr>\n    <tr>\n      <th>히로세코리아(주)450090</th>\n      <td>0.292003</td>\n      <td>0.194870</td>\n      <td>0.277983</td>\n      <td>0.292800</td>\n      <td>0.247021</td>\n      <td>0.196769</td>\n      <td>0.267317</td>\n      <td>0.072620</td>\n      <td>0.038010</td>\n      <td>0.044608</td>\n      <td>0.216721</td>\n    </tr>\n    <tr>\n      <th>히스보험중개(주)197675</th>\n      <td>0.135513</td>\n      <td>0.287172</td>\n      <td>0.274710</td>\n      <td>0.233490</td>\n      <td>0.231895</td>\n      <td>0.284463</td>\n      <td>0.257020</td>\n      <td>0.294078</td>\n      <td>0.256147</td>\n      <td>0.172245</td>\n      <td>0.209066</td>\n    </tr>\n    <tr>\n      <th>히타치금속한국(주)041866</th>\n      <td>0.036565</td>\n      <td>0.018101</td>\n      <td>0.029338</td>\n      <td>0.028906</td>\n      <td>0.013726</td>\n      <td>0.021849</td>\n      <td>0.018308</td>\n      <td>0.017250</td>\n      <td>0.012940</td>\n      <td>0.014612</td>\n      <td>0.019451</td>\n    </tr>\n    <tr>\n      <th>히타치하이테크코리아(주)380165</th>\n      <td>0.130501</td>\n      <td>0.072232</td>\n      <td>0.055239</td>\n      <td>0.048341</td>\n      <td>0.050132</td>\n      <td>0.072154</td>\n      <td>0.076531</td>\n      <td>0.057228</td>\n      <td>0.034955</td>\n      <td>0.059848</td>\n      <td>0.065219</td>\n    </tr>\n    <tr>\n      <th>힐티코리아(주)389471</th>\n      <td>0.123509</td>\n      <td>0.123626</td>\n      <td>0.194935</td>\n      <td>0.178282</td>\n      <td>0.155088</td>\n      <td>0.134861</td>\n      <td>0.142450</td>\n      <td>0.056755</td>\n      <td>0.078465</td>\n      <td>0.054562</td>\n      <td>0.084643</td>\n    </tr>\n  </tbody>\n</table>\n<p>28972 rows × 11 columns</p>\n</div>"
     },
     "execution_count": 29,
     "metadata": {},
     "output_type": "execute_result"
    }
   ],
   "source": [
    "자산퀄리티_idx = (1-(유동자산_idx+유형자산_idx)/자산총계_idx)\n",
    "자산퀄리티_idx"
   ]
  },
  {
   "cell_type": "markdown",
   "id": "666d2f9b-17df-4877-a939-0410a8ffde12",
   "metadata": {
    "tags": []
   },
   "source": [
    "#### 자산퀄리티변동(AQpc)"
   ]
  },
  {
   "cell_type": "code",
   "execution_count": 30,
   "id": "4a727c41-1b02-4e56-939b-e488635d2af4",
   "metadata": {
    "tags": []
   },
   "outputs": [
    {
     "data": {
      "text/plain": "년도                           2010      2011      2012      2013      2014  \\\n기업명                                                                         \n(유)가든주류244534            0.241983  0.871285  0.042369  0.514590  0.709002   \n(유)건향개발I57907                 NaN       NaN       NaN       NaN  0.914065   \n(유)국제에이엠씨M00154               NaN       NaN       NaN       NaN       NaN   \n(유)그랜드유니버셜트레이딩코리아I83725       NaN       NaN       NaN       NaN       NaN   \n(유)그룹세브코리아609692              NaN       NaN       NaN       NaN       NaN   \n...                           ...       ...       ...       ...       ...   \n히로세코리아(주)450090          0.292003  0.667354  1.426508  1.053303  0.843652   \n히스보험중개(주)197675          0.135513  2.119140  0.956607  0.849950  0.993170   \n히타치금속한국(주)041866         0.036565  0.495028  1.620799  0.985293  0.474836   \n히타치하이테크코리아(주)380165      0.130501  0.553499  0.764736  0.875121  1.037050   \n힐티코리아(주)389471           0.123509  1.000944  1.576821  0.914571  0.869901   \n\n년도                           2015      2016      2017      2018      2019  \\\n기업명                                                                         \n(유)가든주류244534            1.116242  6.316188  1.197853  2.931526  0.999558   \n(유)건향개발I57907            1.326503  0.753521  1.147742  0.596256  0.899092   \n(유)국제에이엠씨M00154               NaN       NaN  9.132626  0.620261  0.903992   \n(유)그랜드유니버셜트레이딩코리아I83725       NaN       NaN       NaN       NaN  0.000000   \n(유)그룹세브코리아609692              NaN       NaN       NaN       NaN       NaN   \n...                           ...       ...       ...       ...       ...   \n히로세코리아(주)450090          0.796566  1.358534  0.271661  0.523407  1.173605   \n히스보험중개(주)197675          1.226688  0.903526  1.144185  0.871017  0.672446   \n히타치금속한국(주)041866         1.591807  0.837958  0.942224  0.750129  1.129180   \n히타치하이테크코리아(주)380165      1.439293  1.060666  0.747766  0.610811  1.712138   \n힐티코리아(주)389471           0.869577  1.056277  0.398421  1.382511  0.695364   \n\n년도                           2020  \n기업명                                \n(유)가든주류244534            1.406990  \n(유)건향개발I57907            1.207498  \n(유)국제에이엠씨M00154          1.019460  \n(유)그랜드유니버셜트레이딩코리아I83725       NaN  \n(유)그룹세브코리아609692         0.932556  \n...                           ...  \n히로세코리아(주)450090          4.858314  \n히스보험중개(주)197675          1.213770  \n히타치금속한국(주)041866         1.331201  \n히타치하이테크코리아(주)380165      1.089733  \n힐티코리아(주)389471           1.551325  \n\n[28972 rows x 11 columns]",
      "text/html": "<div>\n<style scoped>\n    .dataframe tbody tr th:only-of-type {\n        vertical-align: middle;\n    }\n\n    .dataframe tbody tr th {\n        vertical-align: top;\n    }\n\n    .dataframe thead th {\n        text-align: right;\n    }\n</style>\n<table border=\"1\" class=\"dataframe\">\n  <thead>\n    <tr style=\"text-align: right;\">\n      <th>년도</th>\n      <th>2010</th>\n      <th>2011</th>\n      <th>2012</th>\n      <th>2013</th>\n      <th>2014</th>\n      <th>2015</th>\n      <th>2016</th>\n      <th>2017</th>\n      <th>2018</th>\n      <th>2019</th>\n      <th>2020</th>\n    </tr>\n    <tr>\n      <th>기업명</th>\n      <th></th>\n      <th></th>\n      <th></th>\n      <th></th>\n      <th></th>\n      <th></th>\n      <th></th>\n      <th></th>\n      <th></th>\n      <th></th>\n      <th></th>\n    </tr>\n  </thead>\n  <tbody>\n    <tr>\n      <th>(유)가든주류244534</th>\n      <td>0.241983</td>\n      <td>0.871285</td>\n      <td>0.042369</td>\n      <td>0.514590</td>\n      <td>0.709002</td>\n      <td>1.116242</td>\n      <td>6.316188</td>\n      <td>1.197853</td>\n      <td>2.931526</td>\n      <td>0.999558</td>\n      <td>1.406990</td>\n    </tr>\n    <tr>\n      <th>(유)건향개발I57907</th>\n      <td>NaN</td>\n      <td>NaN</td>\n      <td>NaN</td>\n      <td>NaN</td>\n      <td>0.914065</td>\n      <td>1.326503</td>\n      <td>0.753521</td>\n      <td>1.147742</td>\n      <td>0.596256</td>\n      <td>0.899092</td>\n      <td>1.207498</td>\n    </tr>\n    <tr>\n      <th>(유)국제에이엠씨M00154</th>\n      <td>NaN</td>\n      <td>NaN</td>\n      <td>NaN</td>\n      <td>NaN</td>\n      <td>NaN</td>\n      <td>NaN</td>\n      <td>NaN</td>\n      <td>9.132626</td>\n      <td>0.620261</td>\n      <td>0.903992</td>\n      <td>1.019460</td>\n    </tr>\n    <tr>\n      <th>(유)그랜드유니버셜트레이딩코리아I83725</th>\n      <td>NaN</td>\n      <td>NaN</td>\n      <td>NaN</td>\n      <td>NaN</td>\n      <td>NaN</td>\n      <td>NaN</td>\n      <td>NaN</td>\n      <td>NaN</td>\n      <td>NaN</td>\n      <td>0.000000</td>\n      <td>NaN</td>\n    </tr>\n    <tr>\n      <th>(유)그룹세브코리아609692</th>\n      <td>NaN</td>\n      <td>NaN</td>\n      <td>NaN</td>\n      <td>NaN</td>\n      <td>NaN</td>\n      <td>NaN</td>\n      <td>NaN</td>\n      <td>NaN</td>\n      <td>NaN</td>\n      <td>NaN</td>\n      <td>0.932556</td>\n    </tr>\n    <tr>\n      <th>...</th>\n      <td>...</td>\n      <td>...</td>\n      <td>...</td>\n      <td>...</td>\n      <td>...</td>\n      <td>...</td>\n      <td>...</td>\n      <td>...</td>\n      <td>...</td>\n      <td>...</td>\n      <td>...</td>\n    </tr>\n    <tr>\n      <th>히로세코리아(주)450090</th>\n      <td>0.292003</td>\n      <td>0.667354</td>\n      <td>1.426508</td>\n      <td>1.053303</td>\n      <td>0.843652</td>\n      <td>0.796566</td>\n      <td>1.358534</td>\n      <td>0.271661</td>\n      <td>0.523407</td>\n      <td>1.173605</td>\n      <td>4.858314</td>\n    </tr>\n    <tr>\n      <th>히스보험중개(주)197675</th>\n      <td>0.135513</td>\n      <td>2.119140</td>\n      <td>0.956607</td>\n      <td>0.849950</td>\n      <td>0.993170</td>\n      <td>1.226688</td>\n      <td>0.903526</td>\n      <td>1.144185</td>\n      <td>0.871017</td>\n      <td>0.672446</td>\n      <td>1.213770</td>\n    </tr>\n    <tr>\n      <th>히타치금속한국(주)041866</th>\n      <td>0.036565</td>\n      <td>0.495028</td>\n      <td>1.620799</td>\n      <td>0.985293</td>\n      <td>0.474836</td>\n      <td>1.591807</td>\n      <td>0.837958</td>\n      <td>0.942224</td>\n      <td>0.750129</td>\n      <td>1.129180</td>\n      <td>1.331201</td>\n    </tr>\n    <tr>\n      <th>히타치하이테크코리아(주)380165</th>\n      <td>0.130501</td>\n      <td>0.553499</td>\n      <td>0.764736</td>\n      <td>0.875121</td>\n      <td>1.037050</td>\n      <td>1.439293</td>\n      <td>1.060666</td>\n      <td>0.747766</td>\n      <td>0.610811</td>\n      <td>1.712138</td>\n      <td>1.089733</td>\n    </tr>\n    <tr>\n      <th>힐티코리아(주)389471</th>\n      <td>0.123509</td>\n      <td>1.000944</td>\n      <td>1.576821</td>\n      <td>0.914571</td>\n      <td>0.869901</td>\n      <td>0.869577</td>\n      <td>1.056277</td>\n      <td>0.398421</td>\n      <td>1.382511</td>\n      <td>0.695364</td>\n      <td>1.551325</td>\n    </tr>\n  </tbody>\n</table>\n<p>28972 rows × 11 columns</p>\n</div>"
     },
     "execution_count": 30,
     "metadata": {},
     "output_type": "execute_result"
    }
   ],
   "source": [
    "자산퀄리티_변동_idx = fluctuation_2(자산퀄리티_idx)\n",
    "자산퀄리티_변동_idx = 자산퀄리티_변동_idx.replace([np.inf, -np.inf], np.nan) #inf를 NaN으로 처리\n",
    "자산퀄리티_변동_idx"
   ]
  },
  {
   "cell_type": "markdown",
   "id": "d1ad0cd4-64f8-4dd6-962c-014c6f75f2d7",
   "metadata": {},
   "source": [
    "#### 감가상각율변동(Deppc)"
   ]
  },
  {
   "cell_type": "code",
   "execution_count": 31,
   "id": "f8b826e4-7211-45fc-905c-488f3f1ad8fc",
   "metadata": {},
   "outputs": [
    {
     "data": {
      "text/plain": "년도                        2010      2011      2012      2013      2014  \\\n기업명                                                                      \n(유)가든주류244534            10.78  2.143785  0.901774  0.887716  0.902703   \n(유)건향개발I57907              NaN       NaN       NaN       NaN  2.515607   \n(유)국제에이엠씨M00154            NaN       NaN       NaN       NaN       NaN   \n(유)그랜드유니버셜트레이딩코리아I83725    NaN       NaN       NaN       NaN       NaN   \n(유)그룹세브코리아609692           NaN       NaN       NaN       NaN       NaN   \n...                        ...       ...       ...       ...       ...   \n히로세코리아(주)450090          21.86  1.141812  1.038061  0.906214  1.444208   \n히스보험중개(주)197675          36.67  0.541314  2.048866  0.711827  1.321589   \n히타치금속한국(주)041866         20.49  1.111762  0.693152  0.923369  0.738683   \n히타치하이테크코리아(주)380165      54.91  0.899108  0.857201  0.964792  0.497918   \n힐티코리아(주)389471           46.83  1.055093  0.860959  1.182417  0.606362   \n\n년도                           2015      2016      2017      2018      2019  \\\n기업명                                                                         \n(유)가든주류244534            0.739521  0.797571  0.971574  1.167189  0.883617   \n(유)건향개발I57907            1.536765  1.332835  0.960287  0.413318  0.706049   \n(유)국제에이엠씨M00154               NaN       NaN       NaN       NaN       NaN   \n(유)그랜드유니버셜트레이딩코리아I83725       NaN       NaN       NaN       NaN  1.290307   \n(유)그룹세브코리아609692              NaN       NaN       NaN       NaN       NaN   \n...                           ...       ...       ...       ...       ...   \n히로세코리아(주)450090          1.084636  0.927678  0.703693  1.000000  0.932528   \n히스보험중개(주)197675          1.030842  0.919371  0.771649  0.807720  0.970354   \n히타치금속한국(주)041866         0.637883  1.640466  1.243123  1.240542  1.186997   \n히타치하이테크코리아(주)380165      1.502213  0.895547  1.219013  0.563887  0.938298   \n힐티코리아(주)389471           1.566230  0.942432  0.702132  1.076242  0.549383   \n\n년도                           2020  \n기업명                                \n(유)가든주류244534            0.601824  \n(유)건향개발I57907            0.452362  \n(유)국제에이엠씨M00154               NaN  \n(유)그랜드유니버셜트레이딩코리아I83725  0.883958  \n(유)그룹세브코리아609692         0.918942  \n...                           ...  \n히로세코리아(주)450090          0.993301  \n히스보험중개(주)197675          0.697674  \n히타치금속한국(주)041866         1.094038  \n히타치하이테크코리아(주)380165      1.754535  \n힐티코리아(주)389471           0.691279  \n\n[28972 rows x 11 columns]",
      "text/html": "<div>\n<style scoped>\n    .dataframe tbody tr th:only-of-type {\n        vertical-align: middle;\n    }\n\n    .dataframe tbody tr th {\n        vertical-align: top;\n    }\n\n    .dataframe thead th {\n        text-align: right;\n    }\n</style>\n<table border=\"1\" class=\"dataframe\">\n  <thead>\n    <tr style=\"text-align: right;\">\n      <th>년도</th>\n      <th>2010</th>\n      <th>2011</th>\n      <th>2012</th>\n      <th>2013</th>\n      <th>2014</th>\n      <th>2015</th>\n      <th>2016</th>\n      <th>2017</th>\n      <th>2018</th>\n      <th>2019</th>\n      <th>2020</th>\n    </tr>\n    <tr>\n      <th>기업명</th>\n      <th></th>\n      <th></th>\n      <th></th>\n      <th></th>\n      <th></th>\n      <th></th>\n      <th></th>\n      <th></th>\n      <th></th>\n      <th></th>\n      <th></th>\n    </tr>\n  </thead>\n  <tbody>\n    <tr>\n      <th>(유)가든주류244534</th>\n      <td>10.78</td>\n      <td>2.143785</td>\n      <td>0.901774</td>\n      <td>0.887716</td>\n      <td>0.902703</td>\n      <td>0.739521</td>\n      <td>0.797571</td>\n      <td>0.971574</td>\n      <td>1.167189</td>\n      <td>0.883617</td>\n      <td>0.601824</td>\n    </tr>\n    <tr>\n      <th>(유)건향개발I57907</th>\n      <td>NaN</td>\n      <td>NaN</td>\n      <td>NaN</td>\n      <td>NaN</td>\n      <td>2.515607</td>\n      <td>1.536765</td>\n      <td>1.332835</td>\n      <td>0.960287</td>\n      <td>0.413318</td>\n      <td>0.706049</td>\n      <td>0.452362</td>\n    </tr>\n    <tr>\n      <th>(유)국제에이엠씨M00154</th>\n      <td>NaN</td>\n      <td>NaN</td>\n      <td>NaN</td>\n      <td>NaN</td>\n      <td>NaN</td>\n      <td>NaN</td>\n      <td>NaN</td>\n      <td>NaN</td>\n      <td>NaN</td>\n      <td>NaN</td>\n      <td>NaN</td>\n    </tr>\n    <tr>\n      <th>(유)그랜드유니버셜트레이딩코리아I83725</th>\n      <td>NaN</td>\n      <td>NaN</td>\n      <td>NaN</td>\n      <td>NaN</td>\n      <td>NaN</td>\n      <td>NaN</td>\n      <td>NaN</td>\n      <td>NaN</td>\n      <td>NaN</td>\n      <td>1.290307</td>\n      <td>0.883958</td>\n    </tr>\n    <tr>\n      <th>(유)그룹세브코리아609692</th>\n      <td>NaN</td>\n      <td>NaN</td>\n      <td>NaN</td>\n      <td>NaN</td>\n      <td>NaN</td>\n      <td>NaN</td>\n      <td>NaN</td>\n      <td>NaN</td>\n      <td>NaN</td>\n      <td>NaN</td>\n      <td>0.918942</td>\n    </tr>\n    <tr>\n      <th>...</th>\n      <td>...</td>\n      <td>...</td>\n      <td>...</td>\n      <td>...</td>\n      <td>...</td>\n      <td>...</td>\n      <td>...</td>\n      <td>...</td>\n      <td>...</td>\n      <td>...</td>\n      <td>...</td>\n    </tr>\n    <tr>\n      <th>히로세코리아(주)450090</th>\n      <td>21.86</td>\n      <td>1.141812</td>\n      <td>1.038061</td>\n      <td>0.906214</td>\n      <td>1.444208</td>\n      <td>1.084636</td>\n      <td>0.927678</td>\n      <td>0.703693</td>\n      <td>1.000000</td>\n      <td>0.932528</td>\n      <td>0.993301</td>\n    </tr>\n    <tr>\n      <th>히스보험중개(주)197675</th>\n      <td>36.67</td>\n      <td>0.541314</td>\n      <td>2.048866</td>\n      <td>0.711827</td>\n      <td>1.321589</td>\n      <td>1.030842</td>\n      <td>0.919371</td>\n      <td>0.771649</td>\n      <td>0.807720</td>\n      <td>0.970354</td>\n      <td>0.697674</td>\n    </tr>\n    <tr>\n      <th>히타치금속한국(주)041866</th>\n      <td>20.49</td>\n      <td>1.111762</td>\n      <td>0.693152</td>\n      <td>0.923369</td>\n      <td>0.738683</td>\n      <td>0.637883</td>\n      <td>1.640466</td>\n      <td>1.243123</td>\n      <td>1.240542</td>\n      <td>1.186997</td>\n      <td>1.094038</td>\n    </tr>\n    <tr>\n      <th>히타치하이테크코리아(주)380165</th>\n      <td>54.91</td>\n      <td>0.899108</td>\n      <td>0.857201</td>\n      <td>0.964792</td>\n      <td>0.497918</td>\n      <td>1.502213</td>\n      <td>0.895547</td>\n      <td>1.219013</td>\n      <td>0.563887</td>\n      <td>0.938298</td>\n      <td>1.754535</td>\n    </tr>\n    <tr>\n      <th>힐티코리아(주)389471</th>\n      <td>46.83</td>\n      <td>1.055093</td>\n      <td>0.860959</td>\n      <td>1.182417</td>\n      <td>0.606362</td>\n      <td>1.566230</td>\n      <td>0.942432</td>\n      <td>0.702132</td>\n      <td>1.076242</td>\n      <td>0.549383</td>\n      <td>0.691279</td>\n    </tr>\n  </tbody>\n</table>\n<p>28972 rows × 11 columns</p>\n</div>"
     },
     "execution_count": 31,
     "metadata": {},
     "output_type": "execute_result"
    }
   ],
   "source": [
    "data.감가상각율 = pd.to_numeric(data.감가상각율)\n",
    "감가상각율_idx = data.pivot_table(columns='년도', index = '기업명', values='감가상각율', aggfunc='mean', dropna=False)\n",
    "감가상각율_변동_idx = fluctuation_2(감가상각율_idx)\n",
    "감가상각율_변동_idx"
   ]
  },
  {
   "cell_type": "markdown",
   "id": "81489f78-3b4e-4122-82b2-9c099464f143",
   "metadata": {
    "tags": []
   },
   "source": [
    "#### 판매비와관리비비율(SGA)"
   ]
  },
  {
   "cell_type": "code",
   "execution_count": 32,
   "id": "50c13a57-d191-490b-91bf-de2f347a314c",
   "metadata": {
    "tags": []
   },
   "outputs": [
    {
     "data": {
      "text/plain": "년도                           2010      2011      2012      2013       2014  \\\n기업명                                                                          \n(유)가든주류244534            0.185842  0.188776  0.156393  0.168223   0.167697   \n(유)건향개발I57907                 NaN  0.081577  0.086784  0.061535   0.400644   \n(유)국제에이엠씨M00154               NaN       NaN       NaN       NaN  19.391013   \n(유)그랜드유니버셜트레이딩코리아I83725       NaN       NaN       NaN  0.109354        NaN   \n(유)그룹세브코리아609692              NaN       NaN       NaN       NaN        NaN   \n...                           ...       ...       ...       ...        ...   \n히로세코리아(주)450090          0.074820  0.069014  0.063664  0.070486   0.058039   \n히스보험중개(주)197675          0.795444  0.744941  0.776856  0.885933   0.875262   \n히타치금속한국(주)041866         0.132212  0.125169  0.128235  0.120819   0.127822   \n히타치하이테크코리아(주)380165      0.358405  0.284675  0.271204  0.223421   0.248309   \n힐티코리아(주)389471           0.320492  0.297186  0.278761  0.260544   0.314194   \n\n년도                            2015      2016      2017      2018      2019  \\\n기업명                                                                          \n(유)가든주류244534             0.165851  0.160570  0.159322  0.157286  0.144027   \n(유)건향개발I57907             0.050545  0.032570  0.032211  0.029107  0.027874   \n(유)국제에이엠씨M00154          28.935664  7.198633  0.853069  0.212800  0.186857   \n(유)그랜드유니버셜트레이딩코리아I83725        NaN       NaN  0.162058  0.123488  0.126848   \n(유)그룹세브코리아609692               NaN       NaN       NaN       NaN  0.250333   \n...                            ...       ...       ...       ...       ...   \n히로세코리아(주)450090           0.063355  0.069455  0.069966  0.079689  0.092197   \n히스보험중개(주)197675           0.901539  0.865012  0.810514  0.729908  0.886851   \n히타치금속한국(주)041866          0.123750  0.105017  0.077173  0.061792  0.059561   \n히타치하이테크코리아(주)380165       0.260758  0.226479  0.206402  0.131707  0.138101   \n힐티코리아(주)389471            0.247722  0.252610  0.249744  0.283610  0.321642   \n\n년도                           2020  \n기업명                                \n(유)가든주류244534            0.130153  \n(유)건향개발I57907            0.041338  \n(유)국제에이엠씨M00154          0.280539  \n(유)그랜드유니버셜트레이딩코리아I83725  0.127177  \n(유)그룹세브코리아609692         0.244328  \n...                           ...  \n히로세코리아(주)450090          0.086396  \n히스보험중개(주)197675          0.920568  \n히타치금속한국(주)041866         0.050576  \n히타치하이테크코리아(주)380165      0.182011  \n힐티코리아(주)389471           0.335353  \n\n[28972 rows x 11 columns]",
      "text/html": "<div>\n<style scoped>\n    .dataframe tbody tr th:only-of-type {\n        vertical-align: middle;\n    }\n\n    .dataframe tbody tr th {\n        vertical-align: top;\n    }\n\n    .dataframe thead th {\n        text-align: right;\n    }\n</style>\n<table border=\"1\" class=\"dataframe\">\n  <thead>\n    <tr style=\"text-align: right;\">\n      <th>년도</th>\n      <th>2010</th>\n      <th>2011</th>\n      <th>2012</th>\n      <th>2013</th>\n      <th>2014</th>\n      <th>2015</th>\n      <th>2016</th>\n      <th>2017</th>\n      <th>2018</th>\n      <th>2019</th>\n      <th>2020</th>\n    </tr>\n    <tr>\n      <th>기업명</th>\n      <th></th>\n      <th></th>\n      <th></th>\n      <th></th>\n      <th></th>\n      <th></th>\n      <th></th>\n      <th></th>\n      <th></th>\n      <th></th>\n      <th></th>\n    </tr>\n  </thead>\n  <tbody>\n    <tr>\n      <th>(유)가든주류244534</th>\n      <td>0.185842</td>\n      <td>0.188776</td>\n      <td>0.156393</td>\n      <td>0.168223</td>\n      <td>0.167697</td>\n      <td>0.165851</td>\n      <td>0.160570</td>\n      <td>0.159322</td>\n      <td>0.157286</td>\n      <td>0.144027</td>\n      <td>0.130153</td>\n    </tr>\n    <tr>\n      <th>(유)건향개발I57907</th>\n      <td>NaN</td>\n      <td>0.081577</td>\n      <td>0.086784</td>\n      <td>0.061535</td>\n      <td>0.400644</td>\n      <td>0.050545</td>\n      <td>0.032570</td>\n      <td>0.032211</td>\n      <td>0.029107</td>\n      <td>0.027874</td>\n      <td>0.041338</td>\n    </tr>\n    <tr>\n      <th>(유)국제에이엠씨M00154</th>\n      <td>NaN</td>\n      <td>NaN</td>\n      <td>NaN</td>\n      <td>NaN</td>\n      <td>19.391013</td>\n      <td>28.935664</td>\n      <td>7.198633</td>\n      <td>0.853069</td>\n      <td>0.212800</td>\n      <td>0.186857</td>\n      <td>0.280539</td>\n    </tr>\n    <tr>\n      <th>(유)그랜드유니버셜트레이딩코리아I83725</th>\n      <td>NaN</td>\n      <td>NaN</td>\n      <td>NaN</td>\n      <td>0.109354</td>\n      <td>NaN</td>\n      <td>NaN</td>\n      <td>NaN</td>\n      <td>0.162058</td>\n      <td>0.123488</td>\n      <td>0.126848</td>\n      <td>0.127177</td>\n    </tr>\n    <tr>\n      <th>(유)그룹세브코리아609692</th>\n      <td>NaN</td>\n      <td>NaN</td>\n      <td>NaN</td>\n      <td>NaN</td>\n      <td>NaN</td>\n      <td>NaN</td>\n      <td>NaN</td>\n      <td>NaN</td>\n      <td>NaN</td>\n      <td>0.250333</td>\n      <td>0.244328</td>\n    </tr>\n    <tr>\n      <th>...</th>\n      <td>...</td>\n      <td>...</td>\n      <td>...</td>\n      <td>...</td>\n      <td>...</td>\n      <td>...</td>\n      <td>...</td>\n      <td>...</td>\n      <td>...</td>\n      <td>...</td>\n      <td>...</td>\n    </tr>\n    <tr>\n      <th>히로세코리아(주)450090</th>\n      <td>0.074820</td>\n      <td>0.069014</td>\n      <td>0.063664</td>\n      <td>0.070486</td>\n      <td>0.058039</td>\n      <td>0.063355</td>\n      <td>0.069455</td>\n      <td>0.069966</td>\n      <td>0.079689</td>\n      <td>0.092197</td>\n      <td>0.086396</td>\n    </tr>\n    <tr>\n      <th>히스보험중개(주)197675</th>\n      <td>0.795444</td>\n      <td>0.744941</td>\n      <td>0.776856</td>\n      <td>0.885933</td>\n      <td>0.875262</td>\n      <td>0.901539</td>\n      <td>0.865012</td>\n      <td>0.810514</td>\n      <td>0.729908</td>\n      <td>0.886851</td>\n      <td>0.920568</td>\n    </tr>\n    <tr>\n      <th>히타치금속한국(주)041866</th>\n      <td>0.132212</td>\n      <td>0.125169</td>\n      <td>0.128235</td>\n      <td>0.120819</td>\n      <td>0.127822</td>\n      <td>0.123750</td>\n      <td>0.105017</td>\n      <td>0.077173</td>\n      <td>0.061792</td>\n      <td>0.059561</td>\n      <td>0.050576</td>\n    </tr>\n    <tr>\n      <th>히타치하이테크코리아(주)380165</th>\n      <td>0.358405</td>\n      <td>0.284675</td>\n      <td>0.271204</td>\n      <td>0.223421</td>\n      <td>0.248309</td>\n      <td>0.260758</td>\n      <td>0.226479</td>\n      <td>0.206402</td>\n      <td>0.131707</td>\n      <td>0.138101</td>\n      <td>0.182011</td>\n    </tr>\n    <tr>\n      <th>힐티코리아(주)389471</th>\n      <td>0.320492</td>\n      <td>0.297186</td>\n      <td>0.278761</td>\n      <td>0.260544</td>\n      <td>0.314194</td>\n      <td>0.247722</td>\n      <td>0.252610</td>\n      <td>0.249744</td>\n      <td>0.283610</td>\n      <td>0.321642</td>\n      <td>0.335353</td>\n    </tr>\n  </tbody>\n</table>\n<p>28972 rows × 11 columns</p>\n</div>"
     },
     "execution_count": 32,
     "metadata": {},
     "output_type": "execute_result"
    }
   ],
   "source": [
    "data.판매비와관리비 = pd.to_numeric(data.판매비와관리비)\n",
    "판매비와관리비_idx = data.pivot_table(columns='년도', index = '기업명', values='판매비와관리비', aggfunc='mean', dropna=False)\n",
    "\n",
    "data.매출액 = pd.to_numeric(data.매출액)\n",
    "매출액_idx = data.pivot_table(columns='년도', index = '기업명', values='매출액', aggfunc='mean', dropna=False)\n",
    "\n",
    "판매비와관리비비율_idx = 판매비와관리비_idx / 매출액_idx\n",
    "판매비와관리비비율_idx"
   ]
  },
  {
   "cell_type": "markdown",
   "id": "b0fbb929-4d4c-4979-9872-95c618fc74db",
   "metadata": {
    "tags": []
   },
   "source": [
    "#### 판매비와관리비비율변동(SGApc)"
   ]
  },
  {
   "cell_type": "code",
   "execution_count": 33,
   "id": "e3fcd593-eed2-4d00-9fff-f37f78d9e0dd",
   "metadata": {
    "tags": []
   },
   "outputs": [
    {
     "data": {
      "text/plain": "년도                           2010      2011      2012      2013      2014  \\\n기업명                                                                         \n(유)가든주류244534            0.185842  1.015792  0.828456  1.075640  0.996878   \n(유)건향개발I57907                 NaN       NaN  1.063832  0.709054  6.510866   \n(유)국제에이엠씨M00154               NaN       NaN       NaN       NaN       NaN   \n(유)그랜드유니버셜트레이딩코리아I83725       NaN       NaN       NaN       NaN       NaN   \n(유)그룹세브코리아609692              NaN       NaN       NaN       NaN       NaN   \n...                           ...       ...       ...       ...       ...   \n히로세코리아(주)450090          0.074820  0.922411  0.922480  1.107157  0.823411   \n히스보험중개(주)197675          0.795444  0.936510  1.042842  1.140407  0.987955   \n히타치금속한국(주)041866         0.132212  0.946731  1.024493  0.942171  1.057966   \n히타치하이테크코리아(주)380165      0.358405  0.794284  0.952680  0.823810  1.111398   \n힐티코리아(주)389471           0.320492  0.927278  0.938004  0.934651  1.205912   \n\n년도                           2015      2016      2017      2018      2019  \\\n기업명                                                                         \n(유)가든주류244534            0.988989  0.968160  0.992224  0.987221  0.915704   \n(유)건향개발I57907            0.126159  0.644372  0.989000  0.903623  0.957651   \n(유)국제에이엠씨M00154          1.492220  0.248781  0.118504  0.249453  0.878087   \n(유)그랜드유니버셜트레이딩코리아I83725       NaN       NaN       NaN  0.762000  1.027210   \n(유)그룹세브코리아609692              NaN       NaN       NaN       NaN       NaN   \n...                           ...       ...       ...       ...       ...   \n히로세코리아(주)450090          1.091583  1.096280  1.007366  1.138964  1.156965   \n히스보험중개(주)197675          1.030022  0.959484  0.936997  0.900549  1.215018   \n히타치금속한국(주)041866         0.968141  0.848623  0.734862  0.800693  0.963903   \n히타치하이테크코리아(주)380165      1.050135  0.868541  0.911348  0.638113  1.048542   \n힐티코리아(주)389471           0.788437  1.019731  0.988654  1.135605  1.134098   \n\n년도                           2020  \n기업명                                \n(유)가든주류244534            0.903673  \n(유)건향개발I57907            1.483024  \n(유)국제에이엠씨M00154          1.501359  \n(유)그랜드유니버셜트레이딩코리아I83725  1.002591  \n(유)그룹세브코리아609692         0.976010  \n...                           ...  \n히로세코리아(주)450090          0.937073  \n히스보험중개(주)197675          1.038018  \n히타치금속한국(주)041866         0.849143  \n히타치하이테크코리아(주)380165      1.317960  \n힐티코리아(주)389471           1.042628  \n\n[28972 rows x 11 columns]",
      "text/html": "<div>\n<style scoped>\n    .dataframe tbody tr th:only-of-type {\n        vertical-align: middle;\n    }\n\n    .dataframe tbody tr th {\n        vertical-align: top;\n    }\n\n    .dataframe thead th {\n        text-align: right;\n    }\n</style>\n<table border=\"1\" class=\"dataframe\">\n  <thead>\n    <tr style=\"text-align: right;\">\n      <th>년도</th>\n      <th>2010</th>\n      <th>2011</th>\n      <th>2012</th>\n      <th>2013</th>\n      <th>2014</th>\n      <th>2015</th>\n      <th>2016</th>\n      <th>2017</th>\n      <th>2018</th>\n      <th>2019</th>\n      <th>2020</th>\n    </tr>\n    <tr>\n      <th>기업명</th>\n      <th></th>\n      <th></th>\n      <th></th>\n      <th></th>\n      <th></th>\n      <th></th>\n      <th></th>\n      <th></th>\n      <th></th>\n      <th></th>\n      <th></th>\n    </tr>\n  </thead>\n  <tbody>\n    <tr>\n      <th>(유)가든주류244534</th>\n      <td>0.185842</td>\n      <td>1.015792</td>\n      <td>0.828456</td>\n      <td>1.075640</td>\n      <td>0.996878</td>\n      <td>0.988989</td>\n      <td>0.968160</td>\n      <td>0.992224</td>\n      <td>0.987221</td>\n      <td>0.915704</td>\n      <td>0.903673</td>\n    </tr>\n    <tr>\n      <th>(유)건향개발I57907</th>\n      <td>NaN</td>\n      <td>NaN</td>\n      <td>1.063832</td>\n      <td>0.709054</td>\n      <td>6.510866</td>\n      <td>0.126159</td>\n      <td>0.644372</td>\n      <td>0.989000</td>\n      <td>0.903623</td>\n      <td>0.957651</td>\n      <td>1.483024</td>\n    </tr>\n    <tr>\n      <th>(유)국제에이엠씨M00154</th>\n      <td>NaN</td>\n      <td>NaN</td>\n      <td>NaN</td>\n      <td>NaN</td>\n      <td>NaN</td>\n      <td>1.492220</td>\n      <td>0.248781</td>\n      <td>0.118504</td>\n      <td>0.249453</td>\n      <td>0.878087</td>\n      <td>1.501359</td>\n    </tr>\n    <tr>\n      <th>(유)그랜드유니버셜트레이딩코리아I83725</th>\n      <td>NaN</td>\n      <td>NaN</td>\n      <td>NaN</td>\n      <td>NaN</td>\n      <td>NaN</td>\n      <td>NaN</td>\n      <td>NaN</td>\n      <td>NaN</td>\n      <td>0.762000</td>\n      <td>1.027210</td>\n      <td>1.002591</td>\n    </tr>\n    <tr>\n      <th>(유)그룹세브코리아609692</th>\n      <td>NaN</td>\n      <td>NaN</td>\n      <td>NaN</td>\n      <td>NaN</td>\n      <td>NaN</td>\n      <td>NaN</td>\n      <td>NaN</td>\n      <td>NaN</td>\n      <td>NaN</td>\n      <td>NaN</td>\n      <td>0.976010</td>\n    </tr>\n    <tr>\n      <th>...</th>\n      <td>...</td>\n      <td>...</td>\n      <td>...</td>\n      <td>...</td>\n      <td>...</td>\n      <td>...</td>\n      <td>...</td>\n      <td>...</td>\n      <td>...</td>\n      <td>...</td>\n      <td>...</td>\n    </tr>\n    <tr>\n      <th>히로세코리아(주)450090</th>\n      <td>0.074820</td>\n      <td>0.922411</td>\n      <td>0.922480</td>\n      <td>1.107157</td>\n      <td>0.823411</td>\n      <td>1.091583</td>\n      <td>1.096280</td>\n      <td>1.007366</td>\n      <td>1.138964</td>\n      <td>1.156965</td>\n      <td>0.937073</td>\n    </tr>\n    <tr>\n      <th>히스보험중개(주)197675</th>\n      <td>0.795444</td>\n      <td>0.936510</td>\n      <td>1.042842</td>\n      <td>1.140407</td>\n      <td>0.987955</td>\n      <td>1.030022</td>\n      <td>0.959484</td>\n      <td>0.936997</td>\n      <td>0.900549</td>\n      <td>1.215018</td>\n      <td>1.038018</td>\n    </tr>\n    <tr>\n      <th>히타치금속한국(주)041866</th>\n      <td>0.132212</td>\n      <td>0.946731</td>\n      <td>1.024493</td>\n      <td>0.942171</td>\n      <td>1.057966</td>\n      <td>0.968141</td>\n      <td>0.848623</td>\n      <td>0.734862</td>\n      <td>0.800693</td>\n      <td>0.963903</td>\n      <td>0.849143</td>\n    </tr>\n    <tr>\n      <th>히타치하이테크코리아(주)380165</th>\n      <td>0.358405</td>\n      <td>0.794284</td>\n      <td>0.952680</td>\n      <td>0.823810</td>\n      <td>1.111398</td>\n      <td>1.050135</td>\n      <td>0.868541</td>\n      <td>0.911348</td>\n      <td>0.638113</td>\n      <td>1.048542</td>\n      <td>1.317960</td>\n    </tr>\n    <tr>\n      <th>힐티코리아(주)389471</th>\n      <td>0.320492</td>\n      <td>0.927278</td>\n      <td>0.938004</td>\n      <td>0.934651</td>\n      <td>1.205912</td>\n      <td>0.788437</td>\n      <td>1.019731</td>\n      <td>0.988654</td>\n      <td>1.135605</td>\n      <td>1.134098</td>\n      <td>1.042628</td>\n    </tr>\n  </tbody>\n</table>\n<p>28972 rows × 11 columns</p>\n</div>"
     },
     "execution_count": 33,
     "metadata": {},
     "output_type": "execute_result"
    }
   ],
   "source": [
    "판매비와관리비비율_변동_idx = fluctuation_2(판매비와관리비비율_idx)\n",
    "판매비와관리비비율_변동_idx"
   ]
  },
  {
   "cell_type": "markdown",
   "id": "893ca309-7f8f-421b-b5ea-ec9cbab39cab",
   "metadata": {},
   "source": [
    "#### 총발생액비율(TATA)"
   ]
  },
  {
   "cell_type": "code",
   "execution_count": 34,
   "id": "727210fd-6f1c-4f45-85f2-9d470c6ba972",
   "metadata": {},
   "outputs": [
    {
     "data": {
      "text/plain": "년도                           2010      2011      2012      2013      2014  \\\n기업명                                                                         \n(유)가든주류244534                 NaN       NaN       NaN       NaN       NaN   \n(유)건향개발I57907                 NaN       NaN       NaN       NaN       NaN   \n(유)국제에이엠씨M00154               NaN       NaN       NaN       NaN       NaN   \n(유)그랜드유니버셜트레이딩코리아I83725       NaN       NaN       NaN       NaN       NaN   \n(유)그룹세브코리아609692              NaN       NaN       NaN       NaN       NaN   \n...                           ...       ...       ...       ...       ...   \n히로세코리아(주)450090          0.041513 -0.058990 -0.105266 -0.071918 -0.067560   \n히스보험중개(주)197675          0.169317 -0.124889  0.234193 -0.189288 -0.028386   \n히타치금속한국(주)041866        -0.034888  0.044609 -0.023199  0.028283 -0.083938   \n히타치하이테크코리아(주)380165      0.091146 -0.066560  0.013639 -0.087994  0.033859   \n힐티코리아(주)389471           0.121840  0.053840  0.047402 -0.051775  0.044267   \n\n년도                           2015      2016      2017      2018      2019  \\\n기업명                                                                         \n(유)가든주류244534                 NaN       NaN       NaN       NaN  0.042727   \n(유)건향개발I57907                 NaN       NaN       NaN -0.139367  0.183248   \n(유)국제에이엠씨M00154               NaN       NaN       NaN       NaN       NaN   \n(유)그랜드유니버셜트레이딩코리아I83725       NaN       NaN       NaN       NaN -0.022762   \n(유)그룹세브코리아609692              NaN       NaN       NaN       NaN -0.102291   \n...                           ...       ...       ...       ...       ...   \n히로세코리아(주)450090         -0.048864 -0.081833 -0.080351 -0.030387 -0.081183   \n히스보험중개(주)197675         -0.063367 -0.127294  0.096823 -0.238687  0.027030   \n히타치금속한국(주)041866         0.019658 -0.003550 -0.031881  0.021415  0.035695   \n히타치하이테크코리아(주)380165     -0.028420 -0.107866  0.222043 -0.072601  0.031428   \n힐티코리아(주)389471           0.027315  0.085114  0.098372  0.007221 -0.098288   \n\n년도                           2020  \n기업명                                \n(유)가든주류244534            0.024525  \n(유)건향개발I57907           -0.198999  \n(유)국제에이엠씨M00154               NaN  \n(유)그랜드유니버셜트레이딩코리아I83725  0.117186  \n(유)그룹세브코리아609692        -0.209468  \n...                           ...  \n히로세코리아(주)450090         -0.067017  \n히스보험중개(주)197675          0.077092  \n히타치금속한국(주)041866        -0.072936  \n히타치하이테크코리아(주)380165      0.137734  \n힐티코리아(주)389471          -0.059297  \n\n[28972 rows x 11 columns]",
      "text/html": "<div>\n<style scoped>\n    .dataframe tbody tr th:only-of-type {\n        vertical-align: middle;\n    }\n\n    .dataframe tbody tr th {\n        vertical-align: top;\n    }\n\n    .dataframe thead th {\n        text-align: right;\n    }\n</style>\n<table border=\"1\" class=\"dataframe\">\n  <thead>\n    <tr style=\"text-align: right;\">\n      <th>년도</th>\n      <th>2010</th>\n      <th>2011</th>\n      <th>2012</th>\n      <th>2013</th>\n      <th>2014</th>\n      <th>2015</th>\n      <th>2016</th>\n      <th>2017</th>\n      <th>2018</th>\n      <th>2019</th>\n      <th>2020</th>\n    </tr>\n    <tr>\n      <th>기업명</th>\n      <th></th>\n      <th></th>\n      <th></th>\n      <th></th>\n      <th></th>\n      <th></th>\n      <th></th>\n      <th></th>\n      <th></th>\n      <th></th>\n      <th></th>\n    </tr>\n  </thead>\n  <tbody>\n    <tr>\n      <th>(유)가든주류244534</th>\n      <td>NaN</td>\n      <td>NaN</td>\n      <td>NaN</td>\n      <td>NaN</td>\n      <td>NaN</td>\n      <td>NaN</td>\n      <td>NaN</td>\n      <td>NaN</td>\n      <td>NaN</td>\n      <td>0.042727</td>\n      <td>0.024525</td>\n    </tr>\n    <tr>\n      <th>(유)건향개발I57907</th>\n      <td>NaN</td>\n      <td>NaN</td>\n      <td>NaN</td>\n      <td>NaN</td>\n      <td>NaN</td>\n      <td>NaN</td>\n      <td>NaN</td>\n      <td>NaN</td>\n      <td>-0.139367</td>\n      <td>0.183248</td>\n      <td>-0.198999</td>\n    </tr>\n    <tr>\n      <th>(유)국제에이엠씨M00154</th>\n      <td>NaN</td>\n      <td>NaN</td>\n      <td>NaN</td>\n      <td>NaN</td>\n      <td>NaN</td>\n      <td>NaN</td>\n      <td>NaN</td>\n      <td>NaN</td>\n      <td>NaN</td>\n      <td>NaN</td>\n      <td>NaN</td>\n    </tr>\n    <tr>\n      <th>(유)그랜드유니버셜트레이딩코리아I83725</th>\n      <td>NaN</td>\n      <td>NaN</td>\n      <td>NaN</td>\n      <td>NaN</td>\n      <td>NaN</td>\n      <td>NaN</td>\n      <td>NaN</td>\n      <td>NaN</td>\n      <td>NaN</td>\n      <td>-0.022762</td>\n      <td>0.117186</td>\n    </tr>\n    <tr>\n      <th>(유)그룹세브코리아609692</th>\n      <td>NaN</td>\n      <td>NaN</td>\n      <td>NaN</td>\n      <td>NaN</td>\n      <td>NaN</td>\n      <td>NaN</td>\n      <td>NaN</td>\n      <td>NaN</td>\n      <td>NaN</td>\n      <td>-0.102291</td>\n      <td>-0.209468</td>\n    </tr>\n    <tr>\n      <th>...</th>\n      <td>...</td>\n      <td>...</td>\n      <td>...</td>\n      <td>...</td>\n      <td>...</td>\n      <td>...</td>\n      <td>...</td>\n      <td>...</td>\n      <td>...</td>\n      <td>...</td>\n      <td>...</td>\n    </tr>\n    <tr>\n      <th>히로세코리아(주)450090</th>\n      <td>0.041513</td>\n      <td>-0.058990</td>\n      <td>-0.105266</td>\n      <td>-0.071918</td>\n      <td>-0.067560</td>\n      <td>-0.048864</td>\n      <td>-0.081833</td>\n      <td>-0.080351</td>\n      <td>-0.030387</td>\n      <td>-0.081183</td>\n      <td>-0.067017</td>\n    </tr>\n    <tr>\n      <th>히스보험중개(주)197675</th>\n      <td>0.169317</td>\n      <td>-0.124889</td>\n      <td>0.234193</td>\n      <td>-0.189288</td>\n      <td>-0.028386</td>\n      <td>-0.063367</td>\n      <td>-0.127294</td>\n      <td>0.096823</td>\n      <td>-0.238687</td>\n      <td>0.027030</td>\n      <td>0.077092</td>\n    </tr>\n    <tr>\n      <th>히타치금속한국(주)041866</th>\n      <td>-0.034888</td>\n      <td>0.044609</td>\n      <td>-0.023199</td>\n      <td>0.028283</td>\n      <td>-0.083938</td>\n      <td>0.019658</td>\n      <td>-0.003550</td>\n      <td>-0.031881</td>\n      <td>0.021415</td>\n      <td>0.035695</td>\n      <td>-0.072936</td>\n    </tr>\n    <tr>\n      <th>히타치하이테크코리아(주)380165</th>\n      <td>0.091146</td>\n      <td>-0.066560</td>\n      <td>0.013639</td>\n      <td>-0.087994</td>\n      <td>0.033859</td>\n      <td>-0.028420</td>\n      <td>-0.107866</td>\n      <td>0.222043</td>\n      <td>-0.072601</td>\n      <td>0.031428</td>\n      <td>0.137734</td>\n    </tr>\n    <tr>\n      <th>힐티코리아(주)389471</th>\n      <td>0.121840</td>\n      <td>0.053840</td>\n      <td>0.047402</td>\n      <td>-0.051775</td>\n      <td>0.044267</td>\n      <td>0.027315</td>\n      <td>0.085114</td>\n      <td>0.098372</td>\n      <td>0.007221</td>\n      <td>-0.098288</td>\n      <td>-0.059297</td>\n    </tr>\n  </tbody>\n</table>\n<p>28972 rows × 11 columns</p>\n</div>"
     },
     "execution_count": 34,
     "metadata": {},
     "output_type": "execute_result"
    }
   ],
   "source": [
    "data.당기순이익 = pd.to_numeric(data.당기순이익)\n",
    "당기순이익_idx = data.pivot_table(columns='년도', index = '기업명', values='당기순이익', aggfunc='mean', dropna=False)\n",
    "\n",
    "data.영업활동현금흐름 = pd.to_numeric(data.영업활동현금흐름)\n",
    "영업활동현금흐름_idx = data.pivot_table(columns='년도', index = '기업명', values='영업활동현금흐름', aggfunc='mean', dropna=False)\n",
    "\n",
    "총발생액비율_idx = (당기순이익_idx - 영업활동현금흐름_idx) / 자산총계_idx\n",
    "총발생액비율_idx"
   ]
  },
  {
   "cell_type": "markdown",
   "id": "a820898f-a266-4260-b6b5-35683c64883f",
   "metadata": {},
   "source": [
    "#### 총발생액비율변동(TATApc)"
   ]
  },
  {
   "cell_type": "code",
   "execution_count": 35,
   "id": "c2f2567e-fd9a-4270-92f8-e20a93849d11",
   "metadata": {},
   "outputs": [
    {
     "data": {
      "text/plain": "년도                           2010      2011      2012      2013      2014  \\\n기업명                                                                         \n(유)가든주류244534                 NaN       NaN       NaN       NaN       NaN   \n(유)건향개발I57907                 NaN       NaN       NaN       NaN       NaN   \n(유)국제에이엠씨M00154               NaN       NaN       NaN       NaN       NaN   \n(유)그랜드유니버셜트레이딩코리아I83725       NaN       NaN       NaN       NaN       NaN   \n(유)그룹세브코리아609692              NaN       NaN       NaN       NaN       NaN   \n...                           ...       ...       ...       ...       ...   \n히로세코리아(주)450090          0.041513 -0.098284 -0.056109  0.006343 -0.011604   \n히스보험중개(주)197675          0.169317 -0.236228  0.359945 -0.376746  0.130918   \n히타치금속한국(주)041866        -0.034888  0.073852 -0.062568  0.049394 -0.111958   \n히타치하이테크코리아(주)380165      0.091146 -0.121678  0.069236 -0.098594  0.119975   \n힐티코리아(주)389471           0.121840 -0.052393 -0.013536 -0.094738  0.095850   \n\n년도                           2015      2016      2017      2018      2019  \\\n기업명                                                                         \n(유)가든주류244534                 NaN       NaN       NaN       NaN       NaN   \n(유)건향개발I57907                 NaN       NaN       NaN       NaN  0.307075   \n(유)국제에이엠씨M00154               NaN       NaN       NaN       NaN       NaN   \n(유)그랜드유니버셜트레이딩코리아I83725       NaN       NaN       NaN       NaN       NaN   \n(유)그룹세브코리아609692              NaN       NaN       NaN       NaN       NaN   \n...                           ...       ...       ...       ...       ...   \n히로세코리아(주)450090          0.016320 -0.038059 -0.006771  0.045698 -0.054725   \n히스보험중개(주)197675         -0.035179 -0.077472  0.228606 -0.297394  0.282743   \n히타치금속한국(주)041866         0.065409 -0.020462 -0.028642  0.048538  0.013128   \n히타치하이테크코리아(주)380165     -0.068485 -0.085574  0.344391 -0.192097  0.129454   \n힐티코리아(주)389471          -0.009391  0.057050  0.024143 -0.088074 -0.104548   \n\n년도                           2020  \n기업명                                \n(유)가든주류244534           -0.018599  \n(유)건향개발I57907           -0.419842  \n(유)국제에이엠씨M00154               NaN  \n(유)그랜드유니버셜트레이딩코리아I83725  0.131645  \n(유)그룹세브코리아609692        -0.128780  \n...                           ...  \n히로세코리아(주)450090          0.005230  \n히스보험중개(주)197675          0.049046  \n히타치금속한국(주)041866        -0.106613  \n히타치하이테크코리아(주)380165      0.105671  \n힐티코리아(주)389471           0.022095  \n\n[28972 rows x 11 columns]",
      "text/html": "<div>\n<style scoped>\n    .dataframe tbody tr th:only-of-type {\n        vertical-align: middle;\n    }\n\n    .dataframe tbody tr th {\n        vertical-align: top;\n    }\n\n    .dataframe thead th {\n        text-align: right;\n    }\n</style>\n<table border=\"1\" class=\"dataframe\">\n  <thead>\n    <tr style=\"text-align: right;\">\n      <th>년도</th>\n      <th>2010</th>\n      <th>2011</th>\n      <th>2012</th>\n      <th>2013</th>\n      <th>2014</th>\n      <th>2015</th>\n      <th>2016</th>\n      <th>2017</th>\n      <th>2018</th>\n      <th>2019</th>\n      <th>2020</th>\n    </tr>\n    <tr>\n      <th>기업명</th>\n      <th></th>\n      <th></th>\n      <th></th>\n      <th></th>\n      <th></th>\n      <th></th>\n      <th></th>\n      <th></th>\n      <th></th>\n      <th></th>\n      <th></th>\n    </tr>\n  </thead>\n  <tbody>\n    <tr>\n      <th>(유)가든주류244534</th>\n      <td>NaN</td>\n      <td>NaN</td>\n      <td>NaN</td>\n      <td>NaN</td>\n      <td>NaN</td>\n      <td>NaN</td>\n      <td>NaN</td>\n      <td>NaN</td>\n      <td>NaN</td>\n      <td>NaN</td>\n      <td>-0.018599</td>\n    </tr>\n    <tr>\n      <th>(유)건향개발I57907</th>\n      <td>NaN</td>\n      <td>NaN</td>\n      <td>NaN</td>\n      <td>NaN</td>\n      <td>NaN</td>\n      <td>NaN</td>\n      <td>NaN</td>\n      <td>NaN</td>\n      <td>NaN</td>\n      <td>0.307075</td>\n      <td>-0.419842</td>\n    </tr>\n    <tr>\n      <th>(유)국제에이엠씨M00154</th>\n      <td>NaN</td>\n      <td>NaN</td>\n      <td>NaN</td>\n      <td>NaN</td>\n      <td>NaN</td>\n      <td>NaN</td>\n      <td>NaN</td>\n      <td>NaN</td>\n      <td>NaN</td>\n      <td>NaN</td>\n      <td>NaN</td>\n    </tr>\n    <tr>\n      <th>(유)그랜드유니버셜트레이딩코리아I83725</th>\n      <td>NaN</td>\n      <td>NaN</td>\n      <td>NaN</td>\n      <td>NaN</td>\n      <td>NaN</td>\n      <td>NaN</td>\n      <td>NaN</td>\n      <td>NaN</td>\n      <td>NaN</td>\n      <td>NaN</td>\n      <td>0.131645</td>\n    </tr>\n    <tr>\n      <th>(유)그룹세브코리아609692</th>\n      <td>NaN</td>\n      <td>NaN</td>\n      <td>NaN</td>\n      <td>NaN</td>\n      <td>NaN</td>\n      <td>NaN</td>\n      <td>NaN</td>\n      <td>NaN</td>\n      <td>NaN</td>\n      <td>NaN</td>\n      <td>-0.128780</td>\n    </tr>\n    <tr>\n      <th>...</th>\n      <td>...</td>\n      <td>...</td>\n      <td>...</td>\n      <td>...</td>\n      <td>...</td>\n      <td>...</td>\n      <td>...</td>\n      <td>...</td>\n      <td>...</td>\n      <td>...</td>\n      <td>...</td>\n    </tr>\n    <tr>\n      <th>히로세코리아(주)450090</th>\n      <td>0.041513</td>\n      <td>-0.098284</td>\n      <td>-0.056109</td>\n      <td>0.006343</td>\n      <td>-0.011604</td>\n      <td>0.016320</td>\n      <td>-0.038059</td>\n      <td>-0.006771</td>\n      <td>0.045698</td>\n      <td>-0.054725</td>\n      <td>0.005230</td>\n    </tr>\n    <tr>\n      <th>히스보험중개(주)197675</th>\n      <td>0.169317</td>\n      <td>-0.236228</td>\n      <td>0.359945</td>\n      <td>-0.376746</td>\n      <td>0.130918</td>\n      <td>-0.035179</td>\n      <td>-0.077472</td>\n      <td>0.228606</td>\n      <td>-0.297394</td>\n      <td>0.282743</td>\n      <td>0.049046</td>\n    </tr>\n    <tr>\n      <th>히타치금속한국(주)041866</th>\n      <td>-0.034888</td>\n      <td>0.073852</td>\n      <td>-0.062568</td>\n      <td>0.049394</td>\n      <td>-0.111958</td>\n      <td>0.065409</td>\n      <td>-0.020462</td>\n      <td>-0.028642</td>\n      <td>0.048538</td>\n      <td>0.013128</td>\n      <td>-0.106613</td>\n    </tr>\n    <tr>\n      <th>히타치하이테크코리아(주)380165</th>\n      <td>0.091146</td>\n      <td>-0.121678</td>\n      <td>0.069236</td>\n      <td>-0.098594</td>\n      <td>0.119975</td>\n      <td>-0.068485</td>\n      <td>-0.085574</td>\n      <td>0.344391</td>\n      <td>-0.192097</td>\n      <td>0.129454</td>\n      <td>0.105671</td>\n    </tr>\n    <tr>\n      <th>힐티코리아(주)389471</th>\n      <td>0.121840</td>\n      <td>-0.052393</td>\n      <td>-0.013536</td>\n      <td>-0.094738</td>\n      <td>0.095850</td>\n      <td>-0.009391</td>\n      <td>0.057050</td>\n      <td>0.024143</td>\n      <td>-0.088074</td>\n      <td>-0.104548</td>\n      <td>0.022095</td>\n    </tr>\n  </tbody>\n</table>\n<p>28972 rows × 11 columns</p>\n</div>"
     },
     "execution_count": 35,
     "metadata": {},
     "output_type": "execute_result"
    }
   ],
   "source": [
    "순이익변동_idx = fluctuation_3(당기순이익_idx)\n",
    "영업활동현금흐름변동_idx = fluctuation_3(영업활동현금흐름_idx)\n",
    "\n",
    "총발생액비율_변동_idx = (순이익변동_idx - 영업활동현금흐름변동_idx) / 자산총계_idx\n",
    "총발생액비율_변동_idx"
   ]
  },
  {
   "cell_type": "markdown",
   "id": "f2defd64-482d-4232-95b8-623a3ac6e79f",
   "metadata": {},
   "source": [
    "#### 매출액영업이익률과 영업활동현금흐름/매출액 차이(EBITOCFd)"
   ]
  },
  {
   "cell_type": "code",
   "execution_count": 36,
   "id": "ac6719ec-3d9c-4c14-875c-d28e9340073f",
   "metadata": {},
   "outputs": [],
   "source": [
    "data['매영차'] = abs(data.매출액영업이익률 - (data.영업활동현금흐름 / data.매출액)) #편의상 '매출액영업이익률과영업활동현금흐름/매출액차이'를 '매영차'로 축약해서 사용"
   ]
  },
  {
   "cell_type": "code",
   "execution_count": 37,
   "id": "b33223f3-a78a-49e8-bf7e-cc69eb083e02",
   "metadata": {},
   "outputs": [
    {
     "data": {
      "text/plain": "년도                            2010       2011       2012       2013  \\\n기업명                                                                   \n(유)가든주류244534                  NaN        NaN        NaN        NaN   \n(유)건향개발I57907                  NaN        NaN        NaN        NaN   \n(유)국제에이엠씨M00154                NaN        NaN        NaN        NaN   \n(유)그랜드유니버셜트레이딩코리아I83725        NaN        NaN        NaN        NaN   \n(유)그룹세브코리아609692               NaN        NaN        NaN        NaN   \n...                            ...        ...        ...        ...   \n히로세코리아(주)450090           6.855697   5.564996  11.442037  19.583005   \n히스보험중개(주)197675          20.485650  25.216415  22.395650  11.154393   \n히타치금속한국(주)041866         11.857878   8.789109   5.861072   7.458473   \n히타치하이테크코리아(주)380165       9.230709  26.653861  24.376654  26.920400   \n힐티코리아(주)389471            7.027204   4.366802   2.786312   3.545660   \n\n년도                            2014       2015       2016       2017  \\\n기업명                                                                   \n(유)가든주류244534                  NaN        NaN        NaN        NaN   \n(유)건향개발I57907                  NaN        NaN        NaN        NaN   \n(유)국제에이엠씨M00154                NaN        NaN        NaN        NaN   \n(유)그랜드유니버셜트레이딩코리아I83725        NaN        NaN        NaN        NaN   \n(유)그룹세브코리아609692               NaN        NaN        NaN        NaN   \n...                            ...        ...        ...        ...   \n히로세코리아(주)450090          23.466836  16.058947  14.776219  16.517296   \n히스보험중개(주)197675          12.348497   9.747143  13.273385  18.943225   \n히타치금속한국(주)041866         10.516277  13.186176   7.772011   2.987103   \n히타치하이테크코리아(주)380165      12.975177  13.584738  11.683199  10.969722   \n힐티코리아(주)389471            3.971263   4.181857   2.789865   2.610911   \n\n년도                            2018       2019       2020  \n기업명                                                       \n(유)가든주류244534                  NaN   3.937258   1.407754  \n(유)건향개발I57907             2.676345   5.297512   4.273336  \n(유)국제에이엠씨M00154                NaN        NaN        NaN  \n(유)그랜드유니버셜트레이딩코리아I83725        NaN   9.981922   8.801749  \n(유)그룹세브코리아609692               NaN   6.442779   9.410569  \n...                            ...        ...        ...  \n히로세코리아(주)450090          15.694690  13.842516  21.014385  \n히스보험중개(주)197675          26.539916  11.269738   7.974028  \n히타치금속한국(주)041866          5.898281   4.967766   4.050301  \n히타치하이테크코리아(주)380165      35.524844  34.501340  22.685386  \n힐티코리아(주)389471            3.820559   3.746663   3.978038  \n\n[28972 rows x 11 columns]",
      "text/html": "<div>\n<style scoped>\n    .dataframe tbody tr th:only-of-type {\n        vertical-align: middle;\n    }\n\n    .dataframe tbody tr th {\n        vertical-align: top;\n    }\n\n    .dataframe thead th {\n        text-align: right;\n    }\n</style>\n<table border=\"1\" class=\"dataframe\">\n  <thead>\n    <tr style=\"text-align: right;\">\n      <th>년도</th>\n      <th>2010</th>\n      <th>2011</th>\n      <th>2012</th>\n      <th>2013</th>\n      <th>2014</th>\n      <th>2015</th>\n      <th>2016</th>\n      <th>2017</th>\n      <th>2018</th>\n      <th>2019</th>\n      <th>2020</th>\n    </tr>\n    <tr>\n      <th>기업명</th>\n      <th></th>\n      <th></th>\n      <th></th>\n      <th></th>\n      <th></th>\n      <th></th>\n      <th></th>\n      <th></th>\n      <th></th>\n      <th></th>\n      <th></th>\n    </tr>\n  </thead>\n  <tbody>\n    <tr>\n      <th>(유)가든주류244534</th>\n      <td>NaN</td>\n      <td>NaN</td>\n      <td>NaN</td>\n      <td>NaN</td>\n      <td>NaN</td>\n      <td>NaN</td>\n      <td>NaN</td>\n      <td>NaN</td>\n      <td>NaN</td>\n      <td>3.937258</td>\n      <td>1.407754</td>\n    </tr>\n    <tr>\n      <th>(유)건향개발I57907</th>\n      <td>NaN</td>\n      <td>NaN</td>\n      <td>NaN</td>\n      <td>NaN</td>\n      <td>NaN</td>\n      <td>NaN</td>\n      <td>NaN</td>\n      <td>NaN</td>\n      <td>2.676345</td>\n      <td>5.297512</td>\n      <td>4.273336</td>\n    </tr>\n    <tr>\n      <th>(유)국제에이엠씨M00154</th>\n      <td>NaN</td>\n      <td>NaN</td>\n      <td>NaN</td>\n      <td>NaN</td>\n      <td>NaN</td>\n      <td>NaN</td>\n      <td>NaN</td>\n      <td>NaN</td>\n      <td>NaN</td>\n      <td>NaN</td>\n      <td>NaN</td>\n    </tr>\n    <tr>\n      <th>(유)그랜드유니버셜트레이딩코리아I83725</th>\n      <td>NaN</td>\n      <td>NaN</td>\n      <td>NaN</td>\n      <td>NaN</td>\n      <td>NaN</td>\n      <td>NaN</td>\n      <td>NaN</td>\n      <td>NaN</td>\n      <td>NaN</td>\n      <td>9.981922</td>\n      <td>8.801749</td>\n    </tr>\n    <tr>\n      <th>(유)그룹세브코리아609692</th>\n      <td>NaN</td>\n      <td>NaN</td>\n      <td>NaN</td>\n      <td>NaN</td>\n      <td>NaN</td>\n      <td>NaN</td>\n      <td>NaN</td>\n      <td>NaN</td>\n      <td>NaN</td>\n      <td>6.442779</td>\n      <td>9.410569</td>\n    </tr>\n    <tr>\n      <th>...</th>\n      <td>...</td>\n      <td>...</td>\n      <td>...</td>\n      <td>...</td>\n      <td>...</td>\n      <td>...</td>\n      <td>...</td>\n      <td>...</td>\n      <td>...</td>\n      <td>...</td>\n      <td>...</td>\n    </tr>\n    <tr>\n      <th>히로세코리아(주)450090</th>\n      <td>6.855697</td>\n      <td>5.564996</td>\n      <td>11.442037</td>\n      <td>19.583005</td>\n      <td>23.466836</td>\n      <td>16.058947</td>\n      <td>14.776219</td>\n      <td>16.517296</td>\n      <td>15.694690</td>\n      <td>13.842516</td>\n      <td>21.014385</td>\n    </tr>\n    <tr>\n      <th>히스보험중개(주)197675</th>\n      <td>20.485650</td>\n      <td>25.216415</td>\n      <td>22.395650</td>\n      <td>11.154393</td>\n      <td>12.348497</td>\n      <td>9.747143</td>\n      <td>13.273385</td>\n      <td>18.943225</td>\n      <td>26.539916</td>\n      <td>11.269738</td>\n      <td>7.974028</td>\n    </tr>\n    <tr>\n      <th>히타치금속한국(주)041866</th>\n      <td>11.857878</td>\n      <td>8.789109</td>\n      <td>5.861072</td>\n      <td>7.458473</td>\n      <td>10.516277</td>\n      <td>13.186176</td>\n      <td>7.772011</td>\n      <td>2.987103</td>\n      <td>5.898281</td>\n      <td>4.967766</td>\n      <td>4.050301</td>\n    </tr>\n    <tr>\n      <th>히타치하이테크코리아(주)380165</th>\n      <td>9.230709</td>\n      <td>26.653861</td>\n      <td>24.376654</td>\n      <td>26.920400</td>\n      <td>12.975177</td>\n      <td>13.584738</td>\n      <td>11.683199</td>\n      <td>10.969722</td>\n      <td>35.524844</td>\n      <td>34.501340</td>\n      <td>22.685386</td>\n    </tr>\n    <tr>\n      <th>힐티코리아(주)389471</th>\n      <td>7.027204</td>\n      <td>4.366802</td>\n      <td>2.786312</td>\n      <td>3.545660</td>\n      <td>3.971263</td>\n      <td>4.181857</td>\n      <td>2.789865</td>\n      <td>2.610911</td>\n      <td>3.820559</td>\n      <td>3.746663</td>\n      <td>3.978038</td>\n    </tr>\n  </tbody>\n</table>\n<p>28972 rows × 11 columns</p>\n</div>"
     },
     "execution_count": 37,
     "metadata": {},
     "output_type": "execute_result"
    }
   ],
   "source": [
    "data.매영차 = pd.to_numeric(data.매영차)\n",
    "매영차_idx = data.pivot_table(columns='년도', index = '기업명', values='매영차', aggfunc='mean', dropna=False)\n",
    "매영차_idx"
   ]
  },
  {
   "cell_type": "markdown",
   "id": "5847dc85-4bf5-411a-9858-af08b2787b6b",
   "metadata": {
    "tags": []
   },
   "source": [
    "#### 총자산증가율과 종업원수증가율 차이(TAEd)"
   ]
  },
  {
   "cell_type": "code",
   "execution_count": 38,
   "id": "8f212caf-06ed-4b62-b6d8-682a10b8868b",
   "metadata": {},
   "outputs": [
    {
     "data": {
      "text/plain": "년도                        2010   2011   2012   2013    2014   2015   2016  \\\n기업명                                                                         \n(유)가든주류244534              NaN    NaN    NaN    NaN     NaN    NaN    NaN   \n(유)건향개발I57907              NaN    NaN    NaN    NaN  200.00  33.33    NaN   \n(유)국제에이엠씨M00154            NaN    NaN    NaN    NaN     NaN    NaN  66.67   \n(유)그랜드유니버셜트레이딩코리아I83725    NaN    NaN    NaN    NaN     NaN    NaN    NaN   \n(유)그룹세브코리아609692           NaN    NaN    NaN    NaN     NaN    NaN    NaN   \n...                        ...    ...    ...    ...     ...    ...    ...   \n히로세코리아(주)450090          15.48  20.67  10.88   9.81    2.28   2.04  -2.37   \n히스보험중개(주)197675          20.00  40.00    NaN  42.86     NaN    NaN    NaN   \n히타치금속한국(주)041866           NaN  13.95  12.24    NaN    7.27  13.56  83.58   \n히타치하이테크코리아(주)380165        NaN    NaN -13.29  -2.00    6.12   2.56  -3.13   \n힐티코리아(주)389471            2.04  -0.67  -2.01   2.05    6.71  14.47   6.59   \n\n년도                        2017   2018   2019    2020  \n기업명                                                   \n(유)가든주류244534              NaN    NaN    NaN   10.20  \n(유)건향개발I57907              NaN  81.82   5.00  128.57  \n(유)국제에이엠씨M00154         -20.00 -25.00  66.67     NaN  \n(유)그랜드유니버셜트레이딩코리아I83725    NaN    NaN    NaN   28.57  \n(유)그룹세브코리아609692           NaN    NaN    NaN     NaN  \n...                        ...    ...    ...     ...  \n히로세코리아(주)450090          17.35   1.91   1.72   12.58  \n히스보험중개(주)197675            NaN  16.13  11.11   13.33  \n히타치금속한국(주)041866         -3.25   3.36  -4.88     NaN  \n히타치하이테크코리아(주)380165       4.52  14.20  21.08   11.16  \n힐티코리아(주)389471           13.92   9.95   0.82    3.27  \n\n[28972 rows x 11 columns]",
      "text/html": "<div>\n<style scoped>\n    .dataframe tbody tr th:only-of-type {\n        vertical-align: middle;\n    }\n\n    .dataframe tbody tr th {\n        vertical-align: top;\n    }\n\n    .dataframe thead th {\n        text-align: right;\n    }\n</style>\n<table border=\"1\" class=\"dataframe\">\n  <thead>\n    <tr style=\"text-align: right;\">\n      <th>년도</th>\n      <th>2010</th>\n      <th>2011</th>\n      <th>2012</th>\n      <th>2013</th>\n      <th>2014</th>\n      <th>2015</th>\n      <th>2016</th>\n      <th>2017</th>\n      <th>2018</th>\n      <th>2019</th>\n      <th>2020</th>\n    </tr>\n    <tr>\n      <th>기업명</th>\n      <th></th>\n      <th></th>\n      <th></th>\n      <th></th>\n      <th></th>\n      <th></th>\n      <th></th>\n      <th></th>\n      <th></th>\n      <th></th>\n      <th></th>\n    </tr>\n  </thead>\n  <tbody>\n    <tr>\n      <th>(유)가든주류244534</th>\n      <td>NaN</td>\n      <td>NaN</td>\n      <td>NaN</td>\n      <td>NaN</td>\n      <td>NaN</td>\n      <td>NaN</td>\n      <td>NaN</td>\n      <td>NaN</td>\n      <td>NaN</td>\n      <td>NaN</td>\n      <td>10.20</td>\n    </tr>\n    <tr>\n      <th>(유)건향개발I57907</th>\n      <td>NaN</td>\n      <td>NaN</td>\n      <td>NaN</td>\n      <td>NaN</td>\n      <td>200.00</td>\n      <td>33.33</td>\n      <td>NaN</td>\n      <td>NaN</td>\n      <td>81.82</td>\n      <td>5.00</td>\n      <td>128.57</td>\n    </tr>\n    <tr>\n      <th>(유)국제에이엠씨M00154</th>\n      <td>NaN</td>\n      <td>NaN</td>\n      <td>NaN</td>\n      <td>NaN</td>\n      <td>NaN</td>\n      <td>NaN</td>\n      <td>66.67</td>\n      <td>-20.00</td>\n      <td>-25.00</td>\n      <td>66.67</td>\n      <td>NaN</td>\n    </tr>\n    <tr>\n      <th>(유)그랜드유니버셜트레이딩코리아I83725</th>\n      <td>NaN</td>\n      <td>NaN</td>\n      <td>NaN</td>\n      <td>NaN</td>\n      <td>NaN</td>\n      <td>NaN</td>\n      <td>NaN</td>\n      <td>NaN</td>\n      <td>NaN</td>\n      <td>NaN</td>\n      <td>28.57</td>\n    </tr>\n    <tr>\n      <th>(유)그룹세브코리아609692</th>\n      <td>NaN</td>\n      <td>NaN</td>\n      <td>NaN</td>\n      <td>NaN</td>\n      <td>NaN</td>\n      <td>NaN</td>\n      <td>NaN</td>\n      <td>NaN</td>\n      <td>NaN</td>\n      <td>NaN</td>\n      <td>NaN</td>\n    </tr>\n    <tr>\n      <th>...</th>\n      <td>...</td>\n      <td>...</td>\n      <td>...</td>\n      <td>...</td>\n      <td>...</td>\n      <td>...</td>\n      <td>...</td>\n      <td>...</td>\n      <td>...</td>\n      <td>...</td>\n      <td>...</td>\n    </tr>\n    <tr>\n      <th>히로세코리아(주)450090</th>\n      <td>15.48</td>\n      <td>20.67</td>\n      <td>10.88</td>\n      <td>9.81</td>\n      <td>2.28</td>\n      <td>2.04</td>\n      <td>-2.37</td>\n      <td>17.35</td>\n      <td>1.91</td>\n      <td>1.72</td>\n      <td>12.58</td>\n    </tr>\n    <tr>\n      <th>히스보험중개(주)197675</th>\n      <td>20.00</td>\n      <td>40.00</td>\n      <td>NaN</td>\n      <td>42.86</td>\n      <td>NaN</td>\n      <td>NaN</td>\n      <td>NaN</td>\n      <td>NaN</td>\n      <td>16.13</td>\n      <td>11.11</td>\n      <td>13.33</td>\n    </tr>\n    <tr>\n      <th>히타치금속한국(주)041866</th>\n      <td>NaN</td>\n      <td>13.95</td>\n      <td>12.24</td>\n      <td>NaN</td>\n      <td>7.27</td>\n      <td>13.56</td>\n      <td>83.58</td>\n      <td>-3.25</td>\n      <td>3.36</td>\n      <td>-4.88</td>\n      <td>NaN</td>\n    </tr>\n    <tr>\n      <th>히타치하이테크코리아(주)380165</th>\n      <td>NaN</td>\n      <td>NaN</td>\n      <td>-13.29</td>\n      <td>-2.00</td>\n      <td>6.12</td>\n      <td>2.56</td>\n      <td>-3.13</td>\n      <td>4.52</td>\n      <td>14.20</td>\n      <td>21.08</td>\n      <td>11.16</td>\n    </tr>\n    <tr>\n      <th>힐티코리아(주)389471</th>\n      <td>2.04</td>\n      <td>-0.67</td>\n      <td>-2.01</td>\n      <td>2.05</td>\n      <td>6.71</td>\n      <td>14.47</td>\n      <td>6.59</td>\n      <td>13.92</td>\n      <td>9.95</td>\n      <td>0.82</td>\n      <td>3.27</td>\n    </tr>\n  </tbody>\n</table>\n<p>28972 rows × 11 columns</p>\n</div>"
     },
     "execution_count": 38,
     "metadata": {},
     "output_type": "execute_result"
    }
   ],
   "source": [
    "data.종업원수증가율 = pd.to_numeric(data.종업원수증가율)\n",
    "종업원수증가율_idx = data.pivot_table(columns='년도', index = '기업명', values='종업원수증가율', aggfunc='mean', dropna=False)\n",
    "종업원수증가율_idx"
   ]
  },
  {
   "cell_type": "code",
   "execution_count": 39,
   "id": "2e694c72-ea3f-4a3c-989e-37e368794c5c",
   "metadata": {},
   "outputs": [
    {
     "data": {
      "text/plain": "년도                        2010   2011   2012   2013    2014    2015   2016  \\\n기업명                                                                          \n(유)가든주류244534              NaN    NaN    NaN    NaN     NaN     NaN    NaN   \n(유)건향개발I57907              NaN    NaN    NaN    NaN  194.08  137.60    NaN   \n(유)국제에이엠씨M00154            NaN    NaN    NaN    NaN     NaN     NaN  97.21   \n(유)그랜드유니버셜트레이딩코리아I83725    NaN    NaN    NaN    NaN     NaN     NaN    NaN   \n(유)그룹세브코리아609692           NaN    NaN    NaN    NaN     NaN     NaN    NaN   \n...                        ...    ...    ...    ...     ...     ...    ...   \n히로세코리아(주)450090          15.37  15.02   9.12  24.70   26.25    1.61  14.00   \n히스보험중개(주)197675          20.17  12.07    NaN  17.93     NaN     NaN    NaN   \n히타치금속한국(주)041866           NaN   5.35   1.07    NaN    6.33   69.91  67.35   \n히타치하이테크코리아(주)380165        NaN    NaN  33.01  30.67    3.94   18.05  30.62   \n힐티코리아(주)389471            9.56  15.36   9.64   8.28    6.34    6.13   9.26   \n\n년도                        2017    2018   2019    2020  \n기업명                                                    \n(유)가든주류244534              NaN     NaN    NaN   11.12  \n(유)건향개발I57907              NaN  191.56   7.55  145.59  \n(유)국제에이엠씨M00154          20.56   17.65  55.46     NaN  \n(유)그랜드유니버셜트레이딩코리아I83725    NaN     NaN    NaN   28.85  \n(유)그룹세브코리아609692           NaN     NaN    NaN     NaN  \n...                        ...     ...    ...     ...  \n히로세코리아(주)450090           6.13    3.70  13.13    0.21  \n히스보험중개(주)197675            NaN   48.80  17.77   16.95  \n히타치금속한국(주)041866         12.85   14.18   0.22     NaN  \n히타치하이테크코리아(주)380165      16.36   71.62  47.02   13.14  \n힐티코리아(주)389471            0.74    6.72  14.52   17.49  \n\n[28972 rows x 11 columns]",
      "text/html": "<div>\n<style scoped>\n    .dataframe tbody tr th:only-of-type {\n        vertical-align: middle;\n    }\n\n    .dataframe tbody tr th {\n        vertical-align: top;\n    }\n\n    .dataframe thead th {\n        text-align: right;\n    }\n</style>\n<table border=\"1\" class=\"dataframe\">\n  <thead>\n    <tr style=\"text-align: right;\">\n      <th>년도</th>\n      <th>2010</th>\n      <th>2011</th>\n      <th>2012</th>\n      <th>2013</th>\n      <th>2014</th>\n      <th>2015</th>\n      <th>2016</th>\n      <th>2017</th>\n      <th>2018</th>\n      <th>2019</th>\n      <th>2020</th>\n    </tr>\n    <tr>\n      <th>기업명</th>\n      <th></th>\n      <th></th>\n      <th></th>\n      <th></th>\n      <th></th>\n      <th></th>\n      <th></th>\n      <th></th>\n      <th></th>\n      <th></th>\n      <th></th>\n    </tr>\n  </thead>\n  <tbody>\n    <tr>\n      <th>(유)가든주류244534</th>\n      <td>NaN</td>\n      <td>NaN</td>\n      <td>NaN</td>\n      <td>NaN</td>\n      <td>NaN</td>\n      <td>NaN</td>\n      <td>NaN</td>\n      <td>NaN</td>\n      <td>NaN</td>\n      <td>NaN</td>\n      <td>11.12</td>\n    </tr>\n    <tr>\n      <th>(유)건향개발I57907</th>\n      <td>NaN</td>\n      <td>NaN</td>\n      <td>NaN</td>\n      <td>NaN</td>\n      <td>194.08</td>\n      <td>137.60</td>\n      <td>NaN</td>\n      <td>NaN</td>\n      <td>191.56</td>\n      <td>7.55</td>\n      <td>145.59</td>\n    </tr>\n    <tr>\n      <th>(유)국제에이엠씨M00154</th>\n      <td>NaN</td>\n      <td>NaN</td>\n      <td>NaN</td>\n      <td>NaN</td>\n      <td>NaN</td>\n      <td>NaN</td>\n      <td>97.21</td>\n      <td>20.56</td>\n      <td>17.65</td>\n      <td>55.46</td>\n      <td>NaN</td>\n    </tr>\n    <tr>\n      <th>(유)그랜드유니버셜트레이딩코리아I83725</th>\n      <td>NaN</td>\n      <td>NaN</td>\n      <td>NaN</td>\n      <td>NaN</td>\n      <td>NaN</td>\n      <td>NaN</td>\n      <td>NaN</td>\n      <td>NaN</td>\n      <td>NaN</td>\n      <td>NaN</td>\n      <td>28.85</td>\n    </tr>\n    <tr>\n      <th>(유)그룹세브코리아609692</th>\n      <td>NaN</td>\n      <td>NaN</td>\n      <td>NaN</td>\n      <td>NaN</td>\n      <td>NaN</td>\n      <td>NaN</td>\n      <td>NaN</td>\n      <td>NaN</td>\n      <td>NaN</td>\n      <td>NaN</td>\n      <td>NaN</td>\n    </tr>\n    <tr>\n      <th>...</th>\n      <td>...</td>\n      <td>...</td>\n      <td>...</td>\n      <td>...</td>\n      <td>...</td>\n      <td>...</td>\n      <td>...</td>\n      <td>...</td>\n      <td>...</td>\n      <td>...</td>\n      <td>...</td>\n    </tr>\n    <tr>\n      <th>히로세코리아(주)450090</th>\n      <td>15.37</td>\n      <td>15.02</td>\n      <td>9.12</td>\n      <td>24.70</td>\n      <td>26.25</td>\n      <td>1.61</td>\n      <td>14.00</td>\n      <td>6.13</td>\n      <td>3.70</td>\n      <td>13.13</td>\n      <td>0.21</td>\n    </tr>\n    <tr>\n      <th>히스보험중개(주)197675</th>\n      <td>20.17</td>\n      <td>12.07</td>\n      <td>NaN</td>\n      <td>17.93</td>\n      <td>NaN</td>\n      <td>NaN</td>\n      <td>NaN</td>\n      <td>NaN</td>\n      <td>48.80</td>\n      <td>17.77</td>\n      <td>16.95</td>\n    </tr>\n    <tr>\n      <th>히타치금속한국(주)041866</th>\n      <td>NaN</td>\n      <td>5.35</td>\n      <td>1.07</td>\n      <td>NaN</td>\n      <td>6.33</td>\n      <td>69.91</td>\n      <td>67.35</td>\n      <td>12.85</td>\n      <td>14.18</td>\n      <td>0.22</td>\n      <td>NaN</td>\n    </tr>\n    <tr>\n      <th>히타치하이테크코리아(주)380165</th>\n      <td>NaN</td>\n      <td>NaN</td>\n      <td>33.01</td>\n      <td>30.67</td>\n      <td>3.94</td>\n      <td>18.05</td>\n      <td>30.62</td>\n      <td>16.36</td>\n      <td>71.62</td>\n      <td>47.02</td>\n      <td>13.14</td>\n    </tr>\n    <tr>\n      <th>힐티코리아(주)389471</th>\n      <td>9.56</td>\n      <td>15.36</td>\n      <td>9.64</td>\n      <td>8.28</td>\n      <td>6.34</td>\n      <td>6.13</td>\n      <td>9.26</td>\n      <td>0.74</td>\n      <td>6.72</td>\n      <td>14.52</td>\n      <td>17.49</td>\n    </tr>\n  </tbody>\n</table>\n<p>28972 rows × 11 columns</p>\n</div>"
     },
     "execution_count": 39,
     "metadata": {},
     "output_type": "execute_result"
    }
   ],
   "source": [
    "data.총자산증가율 = pd.to_numeric(data.총자산증가율)\n",
    "총자산증가율_idx = data.pivot_table(columns='년도', index = '기업명', values='총자산증가율', aggfunc='mean', dropna=False)\n",
    "총종차_idx = abs(총자산증가율_idx - 종업원수증가율_idx) #편의상 '총자산증가율과종업원수증가율차이'를 '총종차'로 축약해서 사용\n",
    "총종차_idx"
   ]
  },
  {
   "cell_type": "markdown",
   "id": "b2d67ccc-4759-471a-8867-78ed0454f717",
   "metadata": {
    "tags": []
   },
   "source": [
    "#### 매출액증가율과 종업원수증가율 차이(SEd)"
   ]
  },
  {
   "cell_type": "code",
   "execution_count": 40,
   "id": "8ae30e5f-a436-4cc6-bbf6-9450226eebcf",
   "metadata": {},
   "outputs": [
    {
     "data": {
      "text/plain": "년도                        2010  2011   2012   2013    2014     2015    2016  \\\n기업명                                                                           \n(유)가든주류244534              NaN   NaN    NaN    NaN     NaN      NaN     NaN   \n(유)건향개발I57907              NaN   NaN    NaN    NaN  273.49  4103.51     NaN   \n(유)국제에이엠씨M00154            NaN   NaN    NaN    NaN     NaN      NaN  389.67   \n(유)그랜드유니버셜트레이딩코리아I83725    NaN   NaN    NaN    NaN     NaN      NaN     NaN   \n(유)그룹세브코리아609692           NaN   NaN    NaN    NaN     NaN      NaN     NaN   \n...                        ...   ...    ...    ...     ...      ...     ...   \n히로세코리아(주)450090           2.08  1.68   5.34  29.41   35.94    22.65    9.65   \n히스보험중개(주)197675          31.14  2.28    NaN  38.34     NaN      NaN     NaN   \n히타치금속한국(주)041866           NaN  4.75   6.70    NaN   15.39    20.14   25.77   \n히타치하이테크코리아(주)380165        NaN   NaN  23.30  18.78   23.26     6.41   10.63   \n힐티코리아(주)389471            7.74  9.85  13.95   7.04    5.67     6.06    6.80   \n\n년도                         2017   2018    2019    2020  \n기업명                                                     \n(유)가든주류244534               NaN    NaN     NaN   22.93  \n(유)건향개발I57907               NaN  16.66    5.38  143.79  \n(유)국제에이엠씨M00154          697.77   8.32  247.34     NaN  \n(유)그랜드유니버셜트레이딩코리아I83725     NaN    NaN     NaN   29.82  \n(유)그룹세브코리아609692            NaN    NaN     NaN     NaN  \n...                         ...    ...     ...     ...  \n히로세코리아(주)450090           13.81   3.10    5.23   13.35  \n히스보험중개(주)197675             NaN  17.14    7.35    4.34  \n히타치금속한국(주)041866          44.23  18.59    8.38     NaN  \n히타치하이테크코리아(주)380165        9.01  65.47   12.38   30.90  \n힐티코리아(주)389471             1.49   6.77    5.54    3.84  \n\n[28972 rows x 11 columns]",
      "text/html": "<div>\n<style scoped>\n    .dataframe tbody tr th:only-of-type {\n        vertical-align: middle;\n    }\n\n    .dataframe tbody tr th {\n        vertical-align: top;\n    }\n\n    .dataframe thead th {\n        text-align: right;\n    }\n</style>\n<table border=\"1\" class=\"dataframe\">\n  <thead>\n    <tr style=\"text-align: right;\">\n      <th>년도</th>\n      <th>2010</th>\n      <th>2011</th>\n      <th>2012</th>\n      <th>2013</th>\n      <th>2014</th>\n      <th>2015</th>\n      <th>2016</th>\n      <th>2017</th>\n      <th>2018</th>\n      <th>2019</th>\n      <th>2020</th>\n    </tr>\n    <tr>\n      <th>기업명</th>\n      <th></th>\n      <th></th>\n      <th></th>\n      <th></th>\n      <th></th>\n      <th></th>\n      <th></th>\n      <th></th>\n      <th></th>\n      <th></th>\n      <th></th>\n    </tr>\n  </thead>\n  <tbody>\n    <tr>\n      <th>(유)가든주류244534</th>\n      <td>NaN</td>\n      <td>NaN</td>\n      <td>NaN</td>\n      <td>NaN</td>\n      <td>NaN</td>\n      <td>NaN</td>\n      <td>NaN</td>\n      <td>NaN</td>\n      <td>NaN</td>\n      <td>NaN</td>\n      <td>22.93</td>\n    </tr>\n    <tr>\n      <th>(유)건향개발I57907</th>\n      <td>NaN</td>\n      <td>NaN</td>\n      <td>NaN</td>\n      <td>NaN</td>\n      <td>273.49</td>\n      <td>4103.51</td>\n      <td>NaN</td>\n      <td>NaN</td>\n      <td>16.66</td>\n      <td>5.38</td>\n      <td>143.79</td>\n    </tr>\n    <tr>\n      <th>(유)국제에이엠씨M00154</th>\n      <td>NaN</td>\n      <td>NaN</td>\n      <td>NaN</td>\n      <td>NaN</td>\n      <td>NaN</td>\n      <td>NaN</td>\n      <td>389.67</td>\n      <td>697.77</td>\n      <td>8.32</td>\n      <td>247.34</td>\n      <td>NaN</td>\n    </tr>\n    <tr>\n      <th>(유)그랜드유니버셜트레이딩코리아I83725</th>\n      <td>NaN</td>\n      <td>NaN</td>\n      <td>NaN</td>\n      <td>NaN</td>\n      <td>NaN</td>\n      <td>NaN</td>\n      <td>NaN</td>\n      <td>NaN</td>\n      <td>NaN</td>\n      <td>NaN</td>\n      <td>29.82</td>\n    </tr>\n    <tr>\n      <th>(유)그룹세브코리아609692</th>\n      <td>NaN</td>\n      <td>NaN</td>\n      <td>NaN</td>\n      <td>NaN</td>\n      <td>NaN</td>\n      <td>NaN</td>\n      <td>NaN</td>\n      <td>NaN</td>\n      <td>NaN</td>\n      <td>NaN</td>\n      <td>NaN</td>\n    </tr>\n    <tr>\n      <th>...</th>\n      <td>...</td>\n      <td>...</td>\n      <td>...</td>\n      <td>...</td>\n      <td>...</td>\n      <td>...</td>\n      <td>...</td>\n      <td>...</td>\n      <td>...</td>\n      <td>...</td>\n      <td>...</td>\n    </tr>\n    <tr>\n      <th>히로세코리아(주)450090</th>\n      <td>2.08</td>\n      <td>1.68</td>\n      <td>5.34</td>\n      <td>29.41</td>\n      <td>35.94</td>\n      <td>22.65</td>\n      <td>9.65</td>\n      <td>13.81</td>\n      <td>3.10</td>\n      <td>5.23</td>\n      <td>13.35</td>\n    </tr>\n    <tr>\n      <th>히스보험중개(주)197675</th>\n      <td>31.14</td>\n      <td>2.28</td>\n      <td>NaN</td>\n      <td>38.34</td>\n      <td>NaN</td>\n      <td>NaN</td>\n      <td>NaN</td>\n      <td>NaN</td>\n      <td>17.14</td>\n      <td>7.35</td>\n      <td>4.34</td>\n    </tr>\n    <tr>\n      <th>히타치금속한국(주)041866</th>\n      <td>NaN</td>\n      <td>4.75</td>\n      <td>6.70</td>\n      <td>NaN</td>\n      <td>15.39</td>\n      <td>20.14</td>\n      <td>25.77</td>\n      <td>44.23</td>\n      <td>18.59</td>\n      <td>8.38</td>\n      <td>NaN</td>\n    </tr>\n    <tr>\n      <th>히타치하이테크코리아(주)380165</th>\n      <td>NaN</td>\n      <td>NaN</td>\n      <td>23.30</td>\n      <td>18.78</td>\n      <td>23.26</td>\n      <td>6.41</td>\n      <td>10.63</td>\n      <td>9.01</td>\n      <td>65.47</td>\n      <td>12.38</td>\n      <td>30.90</td>\n    </tr>\n    <tr>\n      <th>힐티코리아(주)389471</th>\n      <td>7.74</td>\n      <td>9.85</td>\n      <td>13.95</td>\n      <td>7.04</td>\n      <td>5.67</td>\n      <td>6.06</td>\n      <td>6.80</td>\n      <td>1.49</td>\n      <td>6.77</td>\n      <td>5.54</td>\n      <td>3.84</td>\n    </tr>\n  </tbody>\n</table>\n<p>28972 rows × 11 columns</p>\n</div>"
     },
     "execution_count": 40,
     "metadata": {},
     "output_type": "execute_result"
    }
   ],
   "source": [
    "data.매출액증가율 = pd.to_numeric(data.매출액증가율)\n",
    "매출액증가율_idx = data.pivot_table(columns='년도', index = '기업명', values='매출액증가율', aggfunc='mean', dropna=False)\n",
    "매종차_idx = abs(매출액증가율_idx - 종업원수증가율_idx) #편의상 '매출액증가율과종업원수증가율차이'를 '매종차'로 축약해서 사용\n",
    "매종차_idx"
   ]
  },
  {
   "cell_type": "markdown",
   "id": "c94c3aa5-1273-4643-9587-2f11a1ef4e30",
   "metadata": {},
   "source": [
    "#### 오류수정 및 회계정책 변경(EC)"
   ]
  },
  {
   "cell_type": "code",
   "execution_count": 41,
   "id": "17900006-3bca-4fe8-a510-0a9b946a071b",
   "metadata": {},
   "outputs": [
    {
     "data": {
      "text/plain": "                        기업명    년도  오류수정및회계정책변경여부\n0             청우화학(주)000083  2010              0\n1             청우화학(주)000083  2011              0\n2             청우화학(주)000083  2012              0\n3             청우화학(주)000083  2013              0\n4             청우화학(주)000083  2014              0\n...                     ...   ...            ...\n318687  (주)메디라인액티브코리아Y32604  2016              0\n318688  (주)메디라인액티브코리아Y32604  2017              0\n318689  (주)메디라인액티브코리아Y32604  2018              0\n318690  (주)메디라인액티브코리아Y32604  2019              0\n318691  (주)메디라인액티브코리아Y32604  2020              0\n\n[318692 rows x 3 columns]",
      "text/html": "<div>\n<style scoped>\n    .dataframe tbody tr th:only-of-type {\n        vertical-align: middle;\n    }\n\n    .dataframe tbody tr th {\n        vertical-align: top;\n    }\n\n    .dataframe thead th {\n        text-align: right;\n    }\n</style>\n<table border=\"1\" class=\"dataframe\">\n  <thead>\n    <tr style=\"text-align: right;\">\n      <th></th>\n      <th>기업명</th>\n      <th>년도</th>\n      <th>오류수정및회계정책변경여부</th>\n    </tr>\n  </thead>\n  <tbody>\n    <tr>\n      <th>0</th>\n      <td>청우화학(주)000083</td>\n      <td>2010</td>\n      <td>0</td>\n    </tr>\n    <tr>\n      <th>1</th>\n      <td>청우화학(주)000083</td>\n      <td>2011</td>\n      <td>0</td>\n    </tr>\n    <tr>\n      <th>2</th>\n      <td>청우화학(주)000083</td>\n      <td>2012</td>\n      <td>0</td>\n    </tr>\n    <tr>\n      <th>3</th>\n      <td>청우화학(주)000083</td>\n      <td>2013</td>\n      <td>0</td>\n    </tr>\n    <tr>\n      <th>4</th>\n      <td>청우화학(주)000083</td>\n      <td>2014</td>\n      <td>0</td>\n    </tr>\n    <tr>\n      <th>...</th>\n      <td>...</td>\n      <td>...</td>\n      <td>...</td>\n    </tr>\n    <tr>\n      <th>318687</th>\n      <td>(주)메디라인액티브코리아Y32604</td>\n      <td>2016</td>\n      <td>0</td>\n    </tr>\n    <tr>\n      <th>318688</th>\n      <td>(주)메디라인액티브코리아Y32604</td>\n      <td>2017</td>\n      <td>0</td>\n    </tr>\n    <tr>\n      <th>318689</th>\n      <td>(주)메디라인액티브코리아Y32604</td>\n      <td>2018</td>\n      <td>0</td>\n    </tr>\n    <tr>\n      <th>318690</th>\n      <td>(주)메디라인액티브코리아Y32604</td>\n      <td>2019</td>\n      <td>0</td>\n    </tr>\n    <tr>\n      <th>318691</th>\n      <td>(주)메디라인액티브코리아Y32604</td>\n      <td>2020</td>\n      <td>0</td>\n    </tr>\n  </tbody>\n</table>\n<p>318692 rows × 3 columns</p>\n</div>"
     },
     "execution_count": 41,
     "metadata": {},
     "output_type": "execute_result"
    }
   ],
   "source": [
    "오류수정및회계정책변경.rename(columns = {'Unnamed: 2' : '기업명'}, inplace = True)\n",
    "오류수정및회계정책변경.rename(columns = {'level_1' : '년도'}, inplace = True)\n",
    "오류수정및회계정책변경['오류수정및회계정책변경'] = 오류수정및회계정책변경.오류수정및회계정책변경.apply(lambda x: 1 if x == 'NaN' else 0) #Nan은 0으로, 나머지 값은 1로 변환\n",
    "오류수정및회계정책변경.rename(columns = {'오류수정및회계정책변경' : '오류수정및회계정책변경여부'}, inplace = True)\n",
    "오류수정및회계정책변경"
   ]
  },
  {
   "cell_type": "markdown",
   "id": "247d174c-0a4a-43e8-b857-b4f0b99cf6bf",
   "metadata": {},
   "source": [
    "### 5) 기업의 규모 지표"
   ]
  },
  {
   "cell_type": "markdown",
   "id": "5ed5f0c7-8846-4de5-aafc-7cfe46229bb0",
   "metadata": {},
   "source": [
    "#### 자산총계(TA)"
   ]
  },
  {
   "cell_type": "code",
   "execution_count": 42,
   "id": "c31bd4b1-6579-4e76-aa2d-5cf856c2880a",
   "metadata": {},
   "outputs": [],
   "source": [
    "data.자산총계 = pd.to_numeric(data.자산총계)\n",
    "data.자산총계 = np.log(data.자산총계) #값이 너무 커서 로그값을 취함"
   ]
  },
  {
   "cell_type": "code",
   "execution_count": 43,
   "id": "f7dbf0af-9656-432a-8d39-e216448088ba",
   "metadata": {},
   "outputs": [
    {
     "data": {
      "text/plain": "년도                            2010       2011       2012       2013  \\\n기업명                                                                   \n(유)가든주류244534            23.546056  23.755892  23.656948  23.763009   \n(유)건향개발I57907                  NaN  19.992317  20.482245  20.385970   \n(유)국제에이엠씨M00154                NaN        NaN        NaN        NaN   \n(유)그랜드유니버셜트레이딩코리아I83725        NaN        NaN        NaN  21.920530   \n(유)그룹세브코리아609692               NaN        NaN        NaN        NaN   \n...                            ...        ...        ...        ...   \n히로세코리아(주)450090          25.736425  25.791357  25.973713  26.270152   \n히스보험중개(주)197675          22.385553  22.804746  22.797854  23.020444   \n히타치금속한국(주)041866         23.658446  23.834932  23.959902  24.054257   \n히타치하이테크코리아(주)380165      23.627712  24.130696  24.310677  24.562794   \n힐티코리아(주)389471           23.981901  24.118968  23.995146  24.093462   \n\n년도                            2014       2015       2016       2017  \\\n기업명                                                                   \n(유)가든주류244534            23.774551  23.862884  24.031228  23.989281   \n(유)건향개발I57907            20.443490  21.440165  22.185263  22.442576   \n(유)국제에이엠씨M00154          22.306228  23.059207  24.029533  24.035101   \n(유)그랜드유니버셜트레이딩코리아I83725        NaN        NaN        NaN  23.758224   \n(유)그룹세브코리아609692               NaN        NaN        NaN        NaN   \n...                            ...        ...        ...        ...   \n히로세코리아(주)450090          26.521115  26.556922  26.666930  26.773233   \n히스보험중개(주)197675          23.192901  23.199897  23.440390  23.405735   \n히타치금속한국(주)041866         24.063619  24.670483  24.820886  24.912525   \n히타치하이테크코리아(주)380165      24.584371  24.416087  24.658931  24.532952   \n힐티코리아(주)389471           24.097181  24.284504  24.257440  24.394284   \n\n년도                            2018       2019       2020  \n기업명                                                       \n(유)가든주류244534            24.130749  24.227218  24.217976  \n(유)건향개발I57907            23.759990  23.878219  23.691609  \n(유)국제에이엠씨M00154          23.958784  24.065055  24.045780  \n(유)그랜드유니버셜트레이딩코리아I83725  23.541581  23.757676  24.211416  \n(유)그룹세브코리아609692               NaN  24.653468  24.890705  \n...                            ...        ...        ...  \n히로세코리아(주)450090          26.827796  26.966268  27.082876  \n히스보험중개(주)197675          23.906064  23.837159  23.800239  \n히타치금속한국(주)041866         25.074152  25.021786  25.079976  \n히타치하이테크코리아(주)380165      25.152534  24.852281  24.832301  \n힐티코리아(주)389471           24.426058  24.568740  24.757369  \n\n[28972 rows x 11 columns]",
      "text/html": "<div>\n<style scoped>\n    .dataframe tbody tr th:only-of-type {\n        vertical-align: middle;\n    }\n\n    .dataframe tbody tr th {\n        vertical-align: top;\n    }\n\n    .dataframe thead th {\n        text-align: right;\n    }\n</style>\n<table border=\"1\" class=\"dataframe\">\n  <thead>\n    <tr style=\"text-align: right;\">\n      <th>년도</th>\n      <th>2010</th>\n      <th>2011</th>\n      <th>2012</th>\n      <th>2013</th>\n      <th>2014</th>\n      <th>2015</th>\n      <th>2016</th>\n      <th>2017</th>\n      <th>2018</th>\n      <th>2019</th>\n      <th>2020</th>\n    </tr>\n    <tr>\n      <th>기업명</th>\n      <th></th>\n      <th></th>\n      <th></th>\n      <th></th>\n      <th></th>\n      <th></th>\n      <th></th>\n      <th></th>\n      <th></th>\n      <th></th>\n      <th></th>\n    </tr>\n  </thead>\n  <tbody>\n    <tr>\n      <th>(유)가든주류244534</th>\n      <td>23.546056</td>\n      <td>23.755892</td>\n      <td>23.656948</td>\n      <td>23.763009</td>\n      <td>23.774551</td>\n      <td>23.862884</td>\n      <td>24.031228</td>\n      <td>23.989281</td>\n      <td>24.130749</td>\n      <td>24.227218</td>\n      <td>24.217976</td>\n    </tr>\n    <tr>\n      <th>(유)건향개발I57907</th>\n      <td>NaN</td>\n      <td>19.992317</td>\n      <td>20.482245</td>\n      <td>20.385970</td>\n      <td>20.443490</td>\n      <td>21.440165</td>\n      <td>22.185263</td>\n      <td>22.442576</td>\n      <td>23.759990</td>\n      <td>23.878219</td>\n      <td>23.691609</td>\n    </tr>\n    <tr>\n      <th>(유)국제에이엠씨M00154</th>\n      <td>NaN</td>\n      <td>NaN</td>\n      <td>NaN</td>\n      <td>NaN</td>\n      <td>22.306228</td>\n      <td>23.059207</td>\n      <td>24.029533</td>\n      <td>24.035101</td>\n      <td>23.958784</td>\n      <td>24.065055</td>\n      <td>24.045780</td>\n    </tr>\n    <tr>\n      <th>(유)그랜드유니버셜트레이딩코리아I83725</th>\n      <td>NaN</td>\n      <td>NaN</td>\n      <td>NaN</td>\n      <td>21.920530</td>\n      <td>NaN</td>\n      <td>NaN</td>\n      <td>NaN</td>\n      <td>23.758224</td>\n      <td>23.541581</td>\n      <td>23.757676</td>\n      <td>24.211416</td>\n    </tr>\n    <tr>\n      <th>(유)그룹세브코리아609692</th>\n      <td>NaN</td>\n      <td>NaN</td>\n      <td>NaN</td>\n      <td>NaN</td>\n      <td>NaN</td>\n      <td>NaN</td>\n      <td>NaN</td>\n      <td>NaN</td>\n      <td>NaN</td>\n      <td>24.653468</td>\n      <td>24.890705</td>\n    </tr>\n    <tr>\n      <th>...</th>\n      <td>...</td>\n      <td>...</td>\n      <td>...</td>\n      <td>...</td>\n      <td>...</td>\n      <td>...</td>\n      <td>...</td>\n      <td>...</td>\n      <td>...</td>\n      <td>...</td>\n      <td>...</td>\n    </tr>\n    <tr>\n      <th>히로세코리아(주)450090</th>\n      <td>25.736425</td>\n      <td>25.791357</td>\n      <td>25.973713</td>\n      <td>26.270152</td>\n      <td>26.521115</td>\n      <td>26.556922</td>\n      <td>26.666930</td>\n      <td>26.773233</td>\n      <td>26.827796</td>\n      <td>26.966268</td>\n      <td>27.082876</td>\n    </tr>\n    <tr>\n      <th>히스보험중개(주)197675</th>\n      <td>22.385553</td>\n      <td>22.804746</td>\n      <td>22.797854</td>\n      <td>23.020444</td>\n      <td>23.192901</td>\n      <td>23.199897</td>\n      <td>23.440390</td>\n      <td>23.405735</td>\n      <td>23.906064</td>\n      <td>23.837159</td>\n      <td>23.800239</td>\n    </tr>\n    <tr>\n      <th>히타치금속한국(주)041866</th>\n      <td>23.658446</td>\n      <td>23.834932</td>\n      <td>23.959902</td>\n      <td>24.054257</td>\n      <td>24.063619</td>\n      <td>24.670483</td>\n      <td>24.820886</td>\n      <td>24.912525</td>\n      <td>25.074152</td>\n      <td>25.021786</td>\n      <td>25.079976</td>\n    </tr>\n    <tr>\n      <th>히타치하이테크코리아(주)380165</th>\n      <td>23.627712</td>\n      <td>24.130696</td>\n      <td>24.310677</td>\n      <td>24.562794</td>\n      <td>24.584371</td>\n      <td>24.416087</td>\n      <td>24.658931</td>\n      <td>24.532952</td>\n      <td>25.152534</td>\n      <td>24.852281</td>\n      <td>24.832301</td>\n    </tr>\n    <tr>\n      <th>힐티코리아(주)389471</th>\n      <td>23.981901</td>\n      <td>24.118968</td>\n      <td>23.995146</td>\n      <td>24.093462</td>\n      <td>24.097181</td>\n      <td>24.284504</td>\n      <td>24.257440</td>\n      <td>24.394284</td>\n      <td>24.426058</td>\n      <td>24.568740</td>\n      <td>24.757369</td>\n    </tr>\n  </tbody>\n</table>\n<p>28972 rows × 11 columns</p>\n</div>"
     },
     "execution_count": 43,
     "metadata": {},
     "output_type": "execute_result"
    }
   ],
   "source": [
    "data.자산총계 = pd.to_numeric(data.자산총계)\n",
    "자산총계_idx = data.pivot_table(columns='년도', index = '기업명', values='자산총계', aggfunc='mean', dropna=False)\n",
    "자산총계_idx"
   ]
  },
  {
   "cell_type": "markdown",
   "id": "1546ab26-7160-4e6a-b326-e527cfd126be",
   "metadata": {},
   "source": [
    "#### 상장구분(KRXC)"
   ]
  },
  {
   "cell_type": "code",
   "execution_count": 44,
   "id": "7d26fb19-1e6b-4120-b890-fe22a06f9852",
   "metadata": {},
   "outputs": [
    {
     "data": {
      "text/plain": "                      Name   상장구분\n0            청우화학(주)000083     외감\n1         (주)메타바이오메드000292  코스닥상장\n2              (주)코라000366     외감\n3           (주)이건홀딩스000442  코스닥상장\n4            동성인쇄(주)000469     외감\n...                    ...    ...\n28967       (주)에이플러스V17430     외감\n28968        (주)인터코스X02373    코넥스\n28969        (주)에스엘씨X57312     외감\n28970  농업회사법인한국양계(주)X91216     외감\n28971  (주)메디라인액티브코리아Y32604     외감\n\n[28972 rows x 2 columns]",
      "text/html": "<div>\n<style scoped>\n    .dataframe tbody tr th:only-of-type {\n        vertical-align: middle;\n    }\n\n    .dataframe tbody tr th {\n        vertical-align: top;\n    }\n\n    .dataframe thead th {\n        text-align: right;\n    }\n</style>\n<table border=\"1\" class=\"dataframe\">\n  <thead>\n    <tr style=\"text-align: right;\">\n      <th></th>\n      <th>Name</th>\n      <th>상장구분</th>\n    </tr>\n  </thead>\n  <tbody>\n    <tr>\n      <th>0</th>\n      <td>청우화학(주)000083</td>\n      <td>외감</td>\n    </tr>\n    <tr>\n      <th>1</th>\n      <td>(주)메타바이오메드000292</td>\n      <td>코스닥상장</td>\n    </tr>\n    <tr>\n      <th>2</th>\n      <td>(주)코라000366</td>\n      <td>외감</td>\n    </tr>\n    <tr>\n      <th>3</th>\n      <td>(주)이건홀딩스000442</td>\n      <td>코스닥상장</td>\n    </tr>\n    <tr>\n      <th>4</th>\n      <td>동성인쇄(주)000469</td>\n      <td>외감</td>\n    </tr>\n    <tr>\n      <th>...</th>\n      <td>...</td>\n      <td>...</td>\n    </tr>\n    <tr>\n      <th>28967</th>\n      <td>(주)에이플러스V17430</td>\n      <td>외감</td>\n    </tr>\n    <tr>\n      <th>28968</th>\n      <td>(주)인터코스X02373</td>\n      <td>코넥스</td>\n    </tr>\n    <tr>\n      <th>28969</th>\n      <td>(주)에스엘씨X57312</td>\n      <td>외감</td>\n    </tr>\n    <tr>\n      <th>28970</th>\n      <td>농업회사법인한국양계(주)X91216</td>\n      <td>외감</td>\n    </tr>\n    <tr>\n      <th>28971</th>\n      <td>(주)메디라인액티브코리아Y32604</td>\n      <td>외감</td>\n    </tr>\n  </tbody>\n</table>\n<p>28972 rows × 2 columns</p>\n</div>"
     },
     "execution_count": 44,
     "metadata": {},
     "output_type": "execute_result"
    }
   ],
   "source": [
    "상장구분 = pd.read_excel('data/index/시장구분.xls', skiprows=[0, 1, 2, 3, 4, 5])\n",
    "상장구분['Name'] = 상장구분['Name'] + 상장구분['KIS']\n",
    "상장구분 = 상장구분[['Name', '소속/시장구분/0A0002']]\n",
    "상장구분.columns = ['Name', '상장구분']\n",
    "상장구분"
   ]
  },
  {
   "cell_type": "code",
   "execution_count": 45,
   "id": "e9fbf82e-d67a-4ddf-82b0-e33618934057",
   "metadata": {},
   "outputs": [
    {
     "data": {
      "text/plain": "                        기업명    년도           매출액         당기순이익 매출액영업이익률  \\\n0             청우화학(주)000083  2010  5.005091e+09           NaN     3.06   \n1             청우화학(주)000083  2011  5.547721e+09           NaN     3.72   \n2             청우화학(주)000083  2012  6.387805e+09           NaN     4.97   \n3             청우화학(주)000083  2013  6.353868e+09           NaN    13.01   \n4             청우화학(주)000083  2014  6.897317e+09           NaN    15.21   \n...                     ...   ...           ...           ...      ...   \n318687  (주)메디라인액티브코리아Y32604  2016  1.531175e+10           NaN     9.46   \n318688  (주)메디라인액티브코리아Y32604  2017  1.862718e+10           NaN    10.29   \n318689  (주)메디라인액티브코리아Y32604  2018  2.275594e+10           NaN        9   \n318690  (주)메디라인액티브코리아Y32604  2019  2.741999e+10  1.712602e+09     8.22   \n318691  (주)메디라인액티브코리아Y32604  2020  2.897948e+10  1.728057e+09     6.94   \n\n        매출채권회전율    부채비율      영업활동현금흐름    유동비율  자기자본순이익률  ...     장기매출채권  \\\n0          4.06   88.63           NaN  154.57     11.39  ...  191252000   \n1          4.77   73.44           NaN  179.11     12.40  ...  178238000   \n2          5.53   65.12           NaN  203.14     16.18  ...    3623000   \n3          4.92   53.64           NaN  240.93     32.69  ...          0   \n4          4.71   54.85           NaN  156.80     32.34  ...          0   \n...         ...     ...           ...     ...       ...  ...        ...   \n318687     6.90  329.38           NaN  135.24     90.42  ...          0   \n318688     5.28  285.79           NaN  178.41     24.04  ...          0   \n318689     5.47  235.55           NaN  219.69     63.15  ...          0   \n318690     5.51  204.80  4.338040e+08  178.89     50.14  ...          0   \n318691     4.81  201.65  1.880193e+09  254.43     37.02  ...          0   \n\n          ROA    감사법인        감사의견  신용평점     대손충당금    대손충당금율 적자여부       매영차  \\\n0        5.78     NaN         NaN   5.0  11431000  0.008641    1       NaN   \n1        6.87     NaN         NaN   4.0  11809000  0.008765    1       NaN   \n2        9.57     NaN         NaN   4.0  11302000  0.010068    1       NaN   \n3       20.61     NaN         NaN   3.0  14523000  0.010101    1       NaN   \n4       20.95     NaN         NaN   3.0  14755000  0.010101    1       NaN   \n...       ...     ...         ...   ...       ...       ...  ...       ...   \n318687  20.41     NaN         NaN   5.0  27602000  0.010101    1       NaN   \n318688   5.94     NaN         NaN   6.0  42927000  0.010101    1       NaN   \n318689  17.67     NaN         NaN   5.0  40333000  0.010101    1       NaN   \n318690  15.80     NaN        감사미필   5.0         0  0.000000    0  8.204179   \n318691  12.22  한울회계법인  한정(감사범위제한)   4.0         0  0.000000    0  6.875120   \n\n        상장구분  \n0         외감  \n1         외감  \n2         외감  \n3         외감  \n4         외감  \n...      ...  \n318687    외감  \n318688    외감  \n318689    외감  \n318690    외감  \n318691    외감  \n\n[318692 rows x 36 columns]",
      "text/html": "<div>\n<style scoped>\n    .dataframe tbody tr th:only-of-type {\n        vertical-align: middle;\n    }\n\n    .dataframe tbody tr th {\n        vertical-align: top;\n    }\n\n    .dataframe thead th {\n        text-align: right;\n    }\n</style>\n<table border=\"1\" class=\"dataframe\">\n  <thead>\n    <tr style=\"text-align: right;\">\n      <th></th>\n      <th>기업명</th>\n      <th>년도</th>\n      <th>매출액</th>\n      <th>당기순이익</th>\n      <th>매출액영업이익률</th>\n      <th>매출채권회전율</th>\n      <th>부채비율</th>\n      <th>영업활동현금흐름</th>\n      <th>유동비율</th>\n      <th>자기자본순이익률</th>\n      <th>...</th>\n      <th>장기매출채권</th>\n      <th>ROA</th>\n      <th>감사법인</th>\n      <th>감사의견</th>\n      <th>신용평점</th>\n      <th>대손충당금</th>\n      <th>대손충당금율</th>\n      <th>적자여부</th>\n      <th>매영차</th>\n      <th>상장구분</th>\n    </tr>\n  </thead>\n  <tbody>\n    <tr>\n      <th>0</th>\n      <td>청우화학(주)000083</td>\n      <td>2010</td>\n      <td>5.005091e+09</td>\n      <td>NaN</td>\n      <td>3.06</td>\n      <td>4.06</td>\n      <td>88.63</td>\n      <td>NaN</td>\n      <td>154.57</td>\n      <td>11.39</td>\n      <td>...</td>\n      <td>191252000</td>\n      <td>5.78</td>\n      <td>NaN</td>\n      <td>NaN</td>\n      <td>5.0</td>\n      <td>11431000</td>\n      <td>0.008641</td>\n      <td>1</td>\n      <td>NaN</td>\n      <td>외감</td>\n    </tr>\n    <tr>\n      <th>1</th>\n      <td>청우화학(주)000083</td>\n      <td>2011</td>\n      <td>5.547721e+09</td>\n      <td>NaN</td>\n      <td>3.72</td>\n      <td>4.77</td>\n      <td>73.44</td>\n      <td>NaN</td>\n      <td>179.11</td>\n      <td>12.40</td>\n      <td>...</td>\n      <td>178238000</td>\n      <td>6.87</td>\n      <td>NaN</td>\n      <td>NaN</td>\n      <td>4.0</td>\n      <td>11809000</td>\n      <td>0.008765</td>\n      <td>1</td>\n      <td>NaN</td>\n      <td>외감</td>\n    </tr>\n    <tr>\n      <th>2</th>\n      <td>청우화학(주)000083</td>\n      <td>2012</td>\n      <td>6.387805e+09</td>\n      <td>NaN</td>\n      <td>4.97</td>\n      <td>5.53</td>\n      <td>65.12</td>\n      <td>NaN</td>\n      <td>203.14</td>\n      <td>16.18</td>\n      <td>...</td>\n      <td>3623000</td>\n      <td>9.57</td>\n      <td>NaN</td>\n      <td>NaN</td>\n      <td>4.0</td>\n      <td>11302000</td>\n      <td>0.010068</td>\n      <td>1</td>\n      <td>NaN</td>\n      <td>외감</td>\n    </tr>\n    <tr>\n      <th>3</th>\n      <td>청우화학(주)000083</td>\n      <td>2013</td>\n      <td>6.353868e+09</td>\n      <td>NaN</td>\n      <td>13.01</td>\n      <td>4.92</td>\n      <td>53.64</td>\n      <td>NaN</td>\n      <td>240.93</td>\n      <td>32.69</td>\n      <td>...</td>\n      <td>0</td>\n      <td>20.61</td>\n      <td>NaN</td>\n      <td>NaN</td>\n      <td>3.0</td>\n      <td>14523000</td>\n      <td>0.010101</td>\n      <td>1</td>\n      <td>NaN</td>\n      <td>외감</td>\n    </tr>\n    <tr>\n      <th>4</th>\n      <td>청우화학(주)000083</td>\n      <td>2014</td>\n      <td>6.897317e+09</td>\n      <td>NaN</td>\n      <td>15.21</td>\n      <td>4.71</td>\n      <td>54.85</td>\n      <td>NaN</td>\n      <td>156.80</td>\n      <td>32.34</td>\n      <td>...</td>\n      <td>0</td>\n      <td>20.95</td>\n      <td>NaN</td>\n      <td>NaN</td>\n      <td>3.0</td>\n      <td>14755000</td>\n      <td>0.010101</td>\n      <td>1</td>\n      <td>NaN</td>\n      <td>외감</td>\n    </tr>\n    <tr>\n      <th>...</th>\n      <td>...</td>\n      <td>...</td>\n      <td>...</td>\n      <td>...</td>\n      <td>...</td>\n      <td>...</td>\n      <td>...</td>\n      <td>...</td>\n      <td>...</td>\n      <td>...</td>\n      <td>...</td>\n      <td>...</td>\n      <td>...</td>\n      <td>...</td>\n      <td>...</td>\n      <td>...</td>\n      <td>...</td>\n      <td>...</td>\n      <td>...</td>\n      <td>...</td>\n      <td>...</td>\n    </tr>\n    <tr>\n      <th>318687</th>\n      <td>(주)메디라인액티브코리아Y32604</td>\n      <td>2016</td>\n      <td>1.531175e+10</td>\n      <td>NaN</td>\n      <td>9.46</td>\n      <td>6.90</td>\n      <td>329.38</td>\n      <td>NaN</td>\n      <td>135.24</td>\n      <td>90.42</td>\n      <td>...</td>\n      <td>0</td>\n      <td>20.41</td>\n      <td>NaN</td>\n      <td>NaN</td>\n      <td>5.0</td>\n      <td>27602000</td>\n      <td>0.010101</td>\n      <td>1</td>\n      <td>NaN</td>\n      <td>외감</td>\n    </tr>\n    <tr>\n      <th>318688</th>\n      <td>(주)메디라인액티브코리아Y32604</td>\n      <td>2017</td>\n      <td>1.862718e+10</td>\n      <td>NaN</td>\n      <td>10.29</td>\n      <td>5.28</td>\n      <td>285.79</td>\n      <td>NaN</td>\n      <td>178.41</td>\n      <td>24.04</td>\n      <td>...</td>\n      <td>0</td>\n      <td>5.94</td>\n      <td>NaN</td>\n      <td>NaN</td>\n      <td>6.0</td>\n      <td>42927000</td>\n      <td>0.010101</td>\n      <td>1</td>\n      <td>NaN</td>\n      <td>외감</td>\n    </tr>\n    <tr>\n      <th>318689</th>\n      <td>(주)메디라인액티브코리아Y32604</td>\n      <td>2018</td>\n      <td>2.275594e+10</td>\n      <td>NaN</td>\n      <td>9</td>\n      <td>5.47</td>\n      <td>235.55</td>\n      <td>NaN</td>\n      <td>219.69</td>\n      <td>63.15</td>\n      <td>...</td>\n      <td>0</td>\n      <td>17.67</td>\n      <td>NaN</td>\n      <td>NaN</td>\n      <td>5.0</td>\n      <td>40333000</td>\n      <td>0.010101</td>\n      <td>1</td>\n      <td>NaN</td>\n      <td>외감</td>\n    </tr>\n    <tr>\n      <th>318690</th>\n      <td>(주)메디라인액티브코리아Y32604</td>\n      <td>2019</td>\n      <td>2.741999e+10</td>\n      <td>1.712602e+09</td>\n      <td>8.22</td>\n      <td>5.51</td>\n      <td>204.80</td>\n      <td>4.338040e+08</td>\n      <td>178.89</td>\n      <td>50.14</td>\n      <td>...</td>\n      <td>0</td>\n      <td>15.80</td>\n      <td>NaN</td>\n      <td>감사미필</td>\n      <td>5.0</td>\n      <td>0</td>\n      <td>0.000000</td>\n      <td>0</td>\n      <td>8.204179</td>\n      <td>외감</td>\n    </tr>\n    <tr>\n      <th>318691</th>\n      <td>(주)메디라인액티브코리아Y32604</td>\n      <td>2020</td>\n      <td>2.897948e+10</td>\n      <td>1.728057e+09</td>\n      <td>6.94</td>\n      <td>4.81</td>\n      <td>201.65</td>\n      <td>1.880193e+09</td>\n      <td>254.43</td>\n      <td>37.02</td>\n      <td>...</td>\n      <td>0</td>\n      <td>12.22</td>\n      <td>한울회계법인</td>\n      <td>한정(감사범위제한)</td>\n      <td>4.0</td>\n      <td>0</td>\n      <td>0.000000</td>\n      <td>0</td>\n      <td>6.875120</td>\n      <td>외감</td>\n    </tr>\n  </tbody>\n</table>\n<p>318692 rows × 36 columns</p>\n</div>"
     },
     "execution_count": 45,
     "metadata": {},
     "output_type": "execute_result"
    }
   ],
   "source": [
    "data = pd.merge(data, 상장구분, how = 'left', left_on = '기업명', right_on = 'Name') #data에 상장구분 내용 추가\n",
    "data = data.drop('Name', axis = 1)\n",
    "data"
   ]
  },
  {
   "cell_type": "code",
   "execution_count": 46,
   "id": "8d342728-6c7a-4db8-8483-3df5679ee923",
   "metadata": {},
   "outputs": [
    {
     "data": {
      "text/plain": "외감       290939\n코스닥상장     15378\n상장         9724\n코넥스        1441\n코스닥관리      1067\n상장관리        143\nName: 상장구분, dtype: int64"
     },
     "execution_count": 46,
     "metadata": {},
     "output_type": "execute_result"
    }
   ],
   "source": [
    "data.상장구분.value_counts()"
   ]
  },
  {
   "cell_type": "code",
   "execution_count": 47,
   "id": "7080ee3c-0adf-42bf-ade7-58af567ab256",
   "metadata": {},
   "outputs": [
    {
     "data": {
      "text/plain": "                        기업명    년도           매출액         당기순이익 매출액영업이익률  \\\n0             청우화학(주)000083  2010  5.005091e+09           NaN     3.06   \n1             청우화학(주)000083  2011  5.547721e+09           NaN     3.72   \n2             청우화학(주)000083  2012  6.387805e+09           NaN     4.97   \n3             청우화학(주)000083  2013  6.353868e+09           NaN    13.01   \n4             청우화학(주)000083  2014  6.897317e+09           NaN    15.21   \n...                     ...   ...           ...           ...      ...   \n318687  (주)메디라인액티브코리아Y32604  2016  1.531175e+10           NaN     9.46   \n318688  (주)메디라인액티브코리아Y32604  2017  1.862718e+10           NaN    10.29   \n318689  (주)메디라인액티브코리아Y32604  2018  2.275594e+10           NaN        9   \n318690  (주)메디라인액티브코리아Y32604  2019  2.741999e+10  1.712602e+09     8.22   \n318691  (주)메디라인액티브코리아Y32604  2020  2.897948e+10  1.728057e+09     6.94   \n\n        매출채권회전율    부채비율      영업활동현금흐름    유동비율  자기자본순이익률  ...     장기매출채권  \\\n0          4.06   88.63           NaN  154.57     11.39  ...  191252000   \n1          4.77   73.44           NaN  179.11     12.40  ...  178238000   \n2          5.53   65.12           NaN  203.14     16.18  ...    3623000   \n3          4.92   53.64           NaN  240.93     32.69  ...          0   \n4          4.71   54.85           NaN  156.80     32.34  ...          0   \n...         ...     ...           ...     ...       ...  ...        ...   \n318687     6.90  329.38           NaN  135.24     90.42  ...          0   \n318688     5.28  285.79           NaN  178.41     24.04  ...          0   \n318689     5.47  235.55           NaN  219.69     63.15  ...          0   \n318690     5.51  204.80  4.338040e+08  178.89     50.14  ...          0   \n318691     4.81  201.65  1.880193e+09  254.43     37.02  ...          0   \n\n          ROA    감사법인        감사의견  신용평점     대손충당금    대손충당금율 적자여부       매영차  \\\n0        5.78     NaN         NaN   5.0  11431000  0.008641    1       NaN   \n1        6.87     NaN         NaN   4.0  11809000  0.008765    1       NaN   \n2        9.57     NaN         NaN   4.0  11302000  0.010068    1       NaN   \n3       20.61     NaN         NaN   3.0  14523000  0.010101    1       NaN   \n4       20.95     NaN         NaN   3.0  14755000  0.010101    1       NaN   \n...       ...     ...         ...   ...       ...       ...  ...       ...   \n318687  20.41     NaN         NaN   5.0  27602000  0.010101    1       NaN   \n318688   5.94     NaN         NaN   6.0  42927000  0.010101    1       NaN   \n318689  17.67     NaN         NaN   5.0  40333000  0.010101    1       NaN   \n318690  15.80     NaN        감사미필   5.0         0  0.000000    0  8.204179   \n318691  12.22  한울회계법인  한정(감사범위제한)   4.0         0  0.000000    0  6.875120   \n\n        상장구분  \n0          0  \n1          0  \n2          0  \n3          0  \n4          0  \n...      ...  \n318687     0  \n318688     0  \n318689     0  \n318690     0  \n318691     0  \n\n[318692 rows x 36 columns]",
      "text/html": "<div>\n<style scoped>\n    .dataframe tbody tr th:only-of-type {\n        vertical-align: middle;\n    }\n\n    .dataframe tbody tr th {\n        vertical-align: top;\n    }\n\n    .dataframe thead th {\n        text-align: right;\n    }\n</style>\n<table border=\"1\" class=\"dataframe\">\n  <thead>\n    <tr style=\"text-align: right;\">\n      <th></th>\n      <th>기업명</th>\n      <th>년도</th>\n      <th>매출액</th>\n      <th>당기순이익</th>\n      <th>매출액영업이익률</th>\n      <th>매출채권회전율</th>\n      <th>부채비율</th>\n      <th>영업활동현금흐름</th>\n      <th>유동비율</th>\n      <th>자기자본순이익률</th>\n      <th>...</th>\n      <th>장기매출채권</th>\n      <th>ROA</th>\n      <th>감사법인</th>\n      <th>감사의견</th>\n      <th>신용평점</th>\n      <th>대손충당금</th>\n      <th>대손충당금율</th>\n      <th>적자여부</th>\n      <th>매영차</th>\n      <th>상장구분</th>\n    </tr>\n  </thead>\n  <tbody>\n    <tr>\n      <th>0</th>\n      <td>청우화학(주)000083</td>\n      <td>2010</td>\n      <td>5.005091e+09</td>\n      <td>NaN</td>\n      <td>3.06</td>\n      <td>4.06</td>\n      <td>88.63</td>\n      <td>NaN</td>\n      <td>154.57</td>\n      <td>11.39</td>\n      <td>...</td>\n      <td>191252000</td>\n      <td>5.78</td>\n      <td>NaN</td>\n      <td>NaN</td>\n      <td>5.0</td>\n      <td>11431000</td>\n      <td>0.008641</td>\n      <td>1</td>\n      <td>NaN</td>\n      <td>0</td>\n    </tr>\n    <tr>\n      <th>1</th>\n      <td>청우화학(주)000083</td>\n      <td>2011</td>\n      <td>5.547721e+09</td>\n      <td>NaN</td>\n      <td>3.72</td>\n      <td>4.77</td>\n      <td>73.44</td>\n      <td>NaN</td>\n      <td>179.11</td>\n      <td>12.40</td>\n      <td>...</td>\n      <td>178238000</td>\n      <td>6.87</td>\n      <td>NaN</td>\n      <td>NaN</td>\n      <td>4.0</td>\n      <td>11809000</td>\n      <td>0.008765</td>\n      <td>1</td>\n      <td>NaN</td>\n      <td>0</td>\n    </tr>\n    <tr>\n      <th>2</th>\n      <td>청우화학(주)000083</td>\n      <td>2012</td>\n      <td>6.387805e+09</td>\n      <td>NaN</td>\n      <td>4.97</td>\n      <td>5.53</td>\n      <td>65.12</td>\n      <td>NaN</td>\n      <td>203.14</td>\n      <td>16.18</td>\n      <td>...</td>\n      <td>3623000</td>\n      <td>9.57</td>\n      <td>NaN</td>\n      <td>NaN</td>\n      <td>4.0</td>\n      <td>11302000</td>\n      <td>0.010068</td>\n      <td>1</td>\n      <td>NaN</td>\n      <td>0</td>\n    </tr>\n    <tr>\n      <th>3</th>\n      <td>청우화학(주)000083</td>\n      <td>2013</td>\n      <td>6.353868e+09</td>\n      <td>NaN</td>\n      <td>13.01</td>\n      <td>4.92</td>\n      <td>53.64</td>\n      <td>NaN</td>\n      <td>240.93</td>\n      <td>32.69</td>\n      <td>...</td>\n      <td>0</td>\n      <td>20.61</td>\n      <td>NaN</td>\n      <td>NaN</td>\n      <td>3.0</td>\n      <td>14523000</td>\n      <td>0.010101</td>\n      <td>1</td>\n      <td>NaN</td>\n      <td>0</td>\n    </tr>\n    <tr>\n      <th>4</th>\n      <td>청우화학(주)000083</td>\n      <td>2014</td>\n      <td>6.897317e+09</td>\n      <td>NaN</td>\n      <td>15.21</td>\n      <td>4.71</td>\n      <td>54.85</td>\n      <td>NaN</td>\n      <td>156.80</td>\n      <td>32.34</td>\n      <td>...</td>\n      <td>0</td>\n      <td>20.95</td>\n      <td>NaN</td>\n      <td>NaN</td>\n      <td>3.0</td>\n      <td>14755000</td>\n      <td>0.010101</td>\n      <td>1</td>\n      <td>NaN</td>\n      <td>0</td>\n    </tr>\n    <tr>\n      <th>...</th>\n      <td>...</td>\n      <td>...</td>\n      <td>...</td>\n      <td>...</td>\n      <td>...</td>\n      <td>...</td>\n      <td>...</td>\n      <td>...</td>\n      <td>...</td>\n      <td>...</td>\n      <td>...</td>\n      <td>...</td>\n      <td>...</td>\n      <td>...</td>\n      <td>...</td>\n      <td>...</td>\n      <td>...</td>\n      <td>...</td>\n      <td>...</td>\n      <td>...</td>\n      <td>...</td>\n    </tr>\n    <tr>\n      <th>318687</th>\n      <td>(주)메디라인액티브코리아Y32604</td>\n      <td>2016</td>\n      <td>1.531175e+10</td>\n      <td>NaN</td>\n      <td>9.46</td>\n      <td>6.90</td>\n      <td>329.38</td>\n      <td>NaN</td>\n      <td>135.24</td>\n      <td>90.42</td>\n      <td>...</td>\n      <td>0</td>\n      <td>20.41</td>\n      <td>NaN</td>\n      <td>NaN</td>\n      <td>5.0</td>\n      <td>27602000</td>\n      <td>0.010101</td>\n      <td>1</td>\n      <td>NaN</td>\n      <td>0</td>\n    </tr>\n    <tr>\n      <th>318688</th>\n      <td>(주)메디라인액티브코리아Y32604</td>\n      <td>2017</td>\n      <td>1.862718e+10</td>\n      <td>NaN</td>\n      <td>10.29</td>\n      <td>5.28</td>\n      <td>285.79</td>\n      <td>NaN</td>\n      <td>178.41</td>\n      <td>24.04</td>\n      <td>...</td>\n      <td>0</td>\n      <td>5.94</td>\n      <td>NaN</td>\n      <td>NaN</td>\n      <td>6.0</td>\n      <td>42927000</td>\n      <td>0.010101</td>\n      <td>1</td>\n      <td>NaN</td>\n      <td>0</td>\n    </tr>\n    <tr>\n      <th>318689</th>\n      <td>(주)메디라인액티브코리아Y32604</td>\n      <td>2018</td>\n      <td>2.275594e+10</td>\n      <td>NaN</td>\n      <td>9</td>\n      <td>5.47</td>\n      <td>235.55</td>\n      <td>NaN</td>\n      <td>219.69</td>\n      <td>63.15</td>\n      <td>...</td>\n      <td>0</td>\n      <td>17.67</td>\n      <td>NaN</td>\n      <td>NaN</td>\n      <td>5.0</td>\n      <td>40333000</td>\n      <td>0.010101</td>\n      <td>1</td>\n      <td>NaN</td>\n      <td>0</td>\n    </tr>\n    <tr>\n      <th>318690</th>\n      <td>(주)메디라인액티브코리아Y32604</td>\n      <td>2019</td>\n      <td>2.741999e+10</td>\n      <td>1.712602e+09</td>\n      <td>8.22</td>\n      <td>5.51</td>\n      <td>204.80</td>\n      <td>4.338040e+08</td>\n      <td>178.89</td>\n      <td>50.14</td>\n      <td>...</td>\n      <td>0</td>\n      <td>15.80</td>\n      <td>NaN</td>\n      <td>감사미필</td>\n      <td>5.0</td>\n      <td>0</td>\n      <td>0.000000</td>\n      <td>0</td>\n      <td>8.204179</td>\n      <td>0</td>\n    </tr>\n    <tr>\n      <th>318691</th>\n      <td>(주)메디라인액티브코리아Y32604</td>\n      <td>2020</td>\n      <td>2.897948e+10</td>\n      <td>1.728057e+09</td>\n      <td>6.94</td>\n      <td>4.81</td>\n      <td>201.65</td>\n      <td>1.880193e+09</td>\n      <td>254.43</td>\n      <td>37.02</td>\n      <td>...</td>\n      <td>0</td>\n      <td>12.22</td>\n      <td>한울회계법인</td>\n      <td>한정(감사범위제한)</td>\n      <td>4.0</td>\n      <td>0</td>\n      <td>0.000000</td>\n      <td>0</td>\n      <td>6.875120</td>\n      <td>0</td>\n    </tr>\n  </tbody>\n</table>\n<p>318692 rows × 36 columns</p>\n</div>"
     },
     "execution_count": 47,
     "metadata": {},
     "output_type": "execute_result"
    }
   ],
   "source": [
    "#'비상장(KRXC_private)'은 0, '상장(KRXC_public)'은 1, '상장관리(KRXC_black)'는 2\n",
    "data.상장구분 = data.상장구분.map({\n",
    "    '외감': 0,\n",
    "    '코스닥상장': 1,\n",
    "    '상장': 1,\n",
    "    '코넥스': 1, \n",
    "    '코스닥관리': 2,\n",
    "    '상장관리': 2\n",
    "})\n",
    "data"
   ]
  },
  {
   "cell_type": "code",
   "execution_count": 48,
   "id": "3f89b10c-c067-464e-8c7a-08a4636780e1",
   "metadata": {},
   "outputs": [],
   "source": [
    "from sklearn.preprocessing import LabelBinarizer\n",
    "\n",
    "lb = LabelBinarizer()\n",
    "a = pd.DataFrame(lb.fit_transform(data.상장구분))\n",
    "\n",
    "data = pd.concat([data,a], axis=1) #상장구분의 각 벡터를 열로 확장"
   ]
  },
  {
   "cell_type": "code",
   "execution_count": 49,
   "id": "914165cb-d52d-4e35-b420-6fe8cb02aa23",
   "metadata": {},
   "outputs": [],
   "source": [
    "data.columns =['기업명', '년도', '매출액', '당기순이익', '매출액영업이익률', '매출채권회전율', '부채비율', '영업활동현금흐름',\n",
    "              '유동비율', '자기자본순이익률', '자산총계', '재고자산회전율', '영업활동현금흐름이자보상비율', '종업원수', '종업원수증가율',\n",
    "              '감가상각율', '금융비용_매출액비율', '오류수정및회계정책변경', '유동자산', '유형자산', '총자산증가율', '매출액증가율',\n",
    "              '판매비와관리비',    '장기매출채권대손충당금', '매출채권', '매출채권대손충당금', '장기매출채권', 'ROA', '감사법인', '감사의견',\n",
    "              '신용평점', '대손충당금', '대손충당금율', '적자여부', '매영차', '상장구분', '비상장', '상장', '상장관리']"
   ]
  },
  {
   "cell_type": "markdown",
   "id": "5974d0ff-b69a-4c85-8c07-e27b66321514",
   "metadata": {},
   "source": [
    "### 6) 감사인 지표"
   ]
  },
  {
   "cell_type": "markdown",
   "id": "ea22ee9f-d4ff-43e7-ba12-b1c462ed4444",
   "metadata": {},
   "source": [
    "#### BIG4 여부(BIG4)"
   ]
  },
  {
   "cell_type": "code",
   "execution_count": 50,
   "id": "ee5d476b-4342-46f7-a04e-1904d5b705dc",
   "metadata": {},
   "outputs": [],
   "source": [
    "big4 = ['삼일', '삼일회계법인', '삼정', '삼정회계법인', '안진', '안진회계법인', '한영', '한영회계법인']"
   ]
  },
  {
   "cell_type": "code",
   "execution_count": 51,
   "id": "daea8af6-9796-452f-a2da-c07d486d6b99",
   "metadata": {},
   "outputs": [
    {
     "data": {
      "text/plain": "삼일회계법인        10992\n대주회계법인         7324\n삼정회계법인         7292\n삼덕회계법인         7071\n안진회계법인         6123\n              ...  \n정얀                1\n정원                1\n새물결               1\n명도                1\n원일공인회계사감사반        1\nName: 감사법인, Length: 1234, dtype: int64"
     },
     "execution_count": 51,
     "metadata": {},
     "output_type": "execute_result"
    }
   ],
   "source": [
    "data.감사법인.value_counts()"
   ]
  },
  {
   "cell_type": "code",
   "execution_count": 52,
   "id": "596ac323-6bfb-45a5-9a19-f216033fe6d6",
   "metadata": {},
   "outputs": [
    {
     "data": {
      "text/plain": "                        기업명    년도           매출액         당기순이익 매출액영업이익률  \\\n0             청우화학(주)000083  2010  5.005091e+09           NaN     3.06   \n1             청우화학(주)000083  2011  5.547721e+09           NaN     3.72   \n2             청우화학(주)000083  2012  6.387805e+09           NaN     4.97   \n3             청우화학(주)000083  2013  6.353868e+09           NaN    13.01   \n4             청우화학(주)000083  2014  6.897317e+09           NaN    15.21   \n...                     ...   ...           ...           ...      ...   \n318687  (주)메디라인액티브코리아Y32604  2016  1.531175e+10           NaN     9.46   \n318688  (주)메디라인액티브코리아Y32604  2017  1.862718e+10           NaN    10.29   \n318689  (주)메디라인액티브코리아Y32604  2018  2.275594e+10           NaN        9   \n318690  (주)메디라인액티브코리아Y32604  2019  2.741999e+10  1.712602e+09     8.22   \n318691  (주)메디라인액티브코리아Y32604  2020  2.897948e+10  1.728057e+09     6.94   \n\n        매출채권회전율    부채비율      영업활동현금흐름    유동비율  자기자본순이익률  ...  신용평점     대손충당금  \\\n0          4.06   88.63           NaN  154.57     11.39  ...   5.0  11431000   \n1          4.77   73.44           NaN  179.11     12.40  ...   4.0  11809000   \n2          5.53   65.12           NaN  203.14     16.18  ...   4.0  11302000   \n3          4.92   53.64           NaN  240.93     32.69  ...   3.0  14523000   \n4          4.71   54.85           NaN  156.80     32.34  ...   3.0  14755000   \n...         ...     ...           ...     ...       ...  ...   ...       ...   \n318687     6.90  329.38           NaN  135.24     90.42  ...   5.0  27602000   \n318688     5.28  285.79           NaN  178.41     24.04  ...   6.0  42927000   \n318689     5.47  235.55           NaN  219.69     63.15  ...   5.0  40333000   \n318690     5.51  204.80  4.338040e+08  178.89     50.14  ...   5.0         0   \n318691     4.81  201.65  1.880193e+09  254.43     37.02  ...   4.0         0   \n\n          대손충당금율 적자여부       매영차  상장구분  비상장 상장  상장관리  BIG4여부  \n0       0.008641    1       NaN     0    1  0     0       0  \n1       0.008765    1       NaN     0    1  0     0       0  \n2       0.010068    1       NaN     0    1  0     0       0  \n3       0.010101    1       NaN     0    1  0     0       0  \n4       0.010101    1       NaN     0    1  0     0       0  \n...          ...  ...       ...   ...  ... ..   ...     ...  \n318687  0.010101    1       NaN     0    1  0     0       0  \n318688  0.010101    1       NaN     0    1  0     0       0  \n318689  0.010101    1       NaN     0    1  0     0       0  \n318690  0.000000    0  8.204179     0    1  0     0       0  \n318691  0.000000    0  6.875120     0    1  0     0       0  \n\n[318692 rows x 40 columns]",
      "text/html": "<div>\n<style scoped>\n    .dataframe tbody tr th:only-of-type {\n        vertical-align: middle;\n    }\n\n    .dataframe tbody tr th {\n        vertical-align: top;\n    }\n\n    .dataframe thead th {\n        text-align: right;\n    }\n</style>\n<table border=\"1\" class=\"dataframe\">\n  <thead>\n    <tr style=\"text-align: right;\">\n      <th></th>\n      <th>기업명</th>\n      <th>년도</th>\n      <th>매출액</th>\n      <th>당기순이익</th>\n      <th>매출액영업이익률</th>\n      <th>매출채권회전율</th>\n      <th>부채비율</th>\n      <th>영업활동현금흐름</th>\n      <th>유동비율</th>\n      <th>자기자본순이익률</th>\n      <th>...</th>\n      <th>신용평점</th>\n      <th>대손충당금</th>\n      <th>대손충당금율</th>\n      <th>적자여부</th>\n      <th>매영차</th>\n      <th>상장구분</th>\n      <th>비상장</th>\n      <th>상장</th>\n      <th>상장관리</th>\n      <th>BIG4여부</th>\n    </tr>\n  </thead>\n  <tbody>\n    <tr>\n      <th>0</th>\n      <td>청우화학(주)000083</td>\n      <td>2010</td>\n      <td>5.005091e+09</td>\n      <td>NaN</td>\n      <td>3.06</td>\n      <td>4.06</td>\n      <td>88.63</td>\n      <td>NaN</td>\n      <td>154.57</td>\n      <td>11.39</td>\n      <td>...</td>\n      <td>5.0</td>\n      <td>11431000</td>\n      <td>0.008641</td>\n      <td>1</td>\n      <td>NaN</td>\n      <td>0</td>\n      <td>1</td>\n      <td>0</td>\n      <td>0</td>\n      <td>0</td>\n    </tr>\n    <tr>\n      <th>1</th>\n      <td>청우화학(주)000083</td>\n      <td>2011</td>\n      <td>5.547721e+09</td>\n      <td>NaN</td>\n      <td>3.72</td>\n      <td>4.77</td>\n      <td>73.44</td>\n      <td>NaN</td>\n      <td>179.11</td>\n      <td>12.40</td>\n      <td>...</td>\n      <td>4.0</td>\n      <td>11809000</td>\n      <td>0.008765</td>\n      <td>1</td>\n      <td>NaN</td>\n      <td>0</td>\n      <td>1</td>\n      <td>0</td>\n      <td>0</td>\n      <td>0</td>\n    </tr>\n    <tr>\n      <th>2</th>\n      <td>청우화학(주)000083</td>\n      <td>2012</td>\n      <td>6.387805e+09</td>\n      <td>NaN</td>\n      <td>4.97</td>\n      <td>5.53</td>\n      <td>65.12</td>\n      <td>NaN</td>\n      <td>203.14</td>\n      <td>16.18</td>\n      <td>...</td>\n      <td>4.0</td>\n      <td>11302000</td>\n      <td>0.010068</td>\n      <td>1</td>\n      <td>NaN</td>\n      <td>0</td>\n      <td>1</td>\n      <td>0</td>\n      <td>0</td>\n      <td>0</td>\n    </tr>\n    <tr>\n      <th>3</th>\n      <td>청우화학(주)000083</td>\n      <td>2013</td>\n      <td>6.353868e+09</td>\n      <td>NaN</td>\n      <td>13.01</td>\n      <td>4.92</td>\n      <td>53.64</td>\n      <td>NaN</td>\n      <td>240.93</td>\n      <td>32.69</td>\n      <td>...</td>\n      <td>3.0</td>\n      <td>14523000</td>\n      <td>0.010101</td>\n      <td>1</td>\n      <td>NaN</td>\n      <td>0</td>\n      <td>1</td>\n      <td>0</td>\n      <td>0</td>\n      <td>0</td>\n    </tr>\n    <tr>\n      <th>4</th>\n      <td>청우화학(주)000083</td>\n      <td>2014</td>\n      <td>6.897317e+09</td>\n      <td>NaN</td>\n      <td>15.21</td>\n      <td>4.71</td>\n      <td>54.85</td>\n      <td>NaN</td>\n      <td>156.80</td>\n      <td>32.34</td>\n      <td>...</td>\n      <td>3.0</td>\n      <td>14755000</td>\n      <td>0.010101</td>\n      <td>1</td>\n      <td>NaN</td>\n      <td>0</td>\n      <td>1</td>\n      <td>0</td>\n      <td>0</td>\n      <td>0</td>\n    </tr>\n    <tr>\n      <th>...</th>\n      <td>...</td>\n      <td>...</td>\n      <td>...</td>\n      <td>...</td>\n      <td>...</td>\n      <td>...</td>\n      <td>...</td>\n      <td>...</td>\n      <td>...</td>\n      <td>...</td>\n      <td>...</td>\n      <td>...</td>\n      <td>...</td>\n      <td>...</td>\n      <td>...</td>\n      <td>...</td>\n      <td>...</td>\n      <td>...</td>\n      <td>...</td>\n      <td>...</td>\n      <td>...</td>\n    </tr>\n    <tr>\n      <th>318687</th>\n      <td>(주)메디라인액티브코리아Y32604</td>\n      <td>2016</td>\n      <td>1.531175e+10</td>\n      <td>NaN</td>\n      <td>9.46</td>\n      <td>6.90</td>\n      <td>329.38</td>\n      <td>NaN</td>\n      <td>135.24</td>\n      <td>90.42</td>\n      <td>...</td>\n      <td>5.0</td>\n      <td>27602000</td>\n      <td>0.010101</td>\n      <td>1</td>\n      <td>NaN</td>\n      <td>0</td>\n      <td>1</td>\n      <td>0</td>\n      <td>0</td>\n      <td>0</td>\n    </tr>\n    <tr>\n      <th>318688</th>\n      <td>(주)메디라인액티브코리아Y32604</td>\n      <td>2017</td>\n      <td>1.862718e+10</td>\n      <td>NaN</td>\n      <td>10.29</td>\n      <td>5.28</td>\n      <td>285.79</td>\n      <td>NaN</td>\n      <td>178.41</td>\n      <td>24.04</td>\n      <td>...</td>\n      <td>6.0</td>\n      <td>42927000</td>\n      <td>0.010101</td>\n      <td>1</td>\n      <td>NaN</td>\n      <td>0</td>\n      <td>1</td>\n      <td>0</td>\n      <td>0</td>\n      <td>0</td>\n    </tr>\n    <tr>\n      <th>318689</th>\n      <td>(주)메디라인액티브코리아Y32604</td>\n      <td>2018</td>\n      <td>2.275594e+10</td>\n      <td>NaN</td>\n      <td>9</td>\n      <td>5.47</td>\n      <td>235.55</td>\n      <td>NaN</td>\n      <td>219.69</td>\n      <td>63.15</td>\n      <td>...</td>\n      <td>5.0</td>\n      <td>40333000</td>\n      <td>0.010101</td>\n      <td>1</td>\n      <td>NaN</td>\n      <td>0</td>\n      <td>1</td>\n      <td>0</td>\n      <td>0</td>\n      <td>0</td>\n    </tr>\n    <tr>\n      <th>318690</th>\n      <td>(주)메디라인액티브코리아Y32604</td>\n      <td>2019</td>\n      <td>2.741999e+10</td>\n      <td>1.712602e+09</td>\n      <td>8.22</td>\n      <td>5.51</td>\n      <td>204.80</td>\n      <td>4.338040e+08</td>\n      <td>178.89</td>\n      <td>50.14</td>\n      <td>...</td>\n      <td>5.0</td>\n      <td>0</td>\n      <td>0.000000</td>\n      <td>0</td>\n      <td>8.204179</td>\n      <td>0</td>\n      <td>1</td>\n      <td>0</td>\n      <td>0</td>\n      <td>0</td>\n    </tr>\n    <tr>\n      <th>318691</th>\n      <td>(주)메디라인액티브코리아Y32604</td>\n      <td>2020</td>\n      <td>2.897948e+10</td>\n      <td>1.728057e+09</td>\n      <td>6.94</td>\n      <td>4.81</td>\n      <td>201.65</td>\n      <td>1.880193e+09</td>\n      <td>254.43</td>\n      <td>37.02</td>\n      <td>...</td>\n      <td>4.0</td>\n      <td>0</td>\n      <td>0.000000</td>\n      <td>0</td>\n      <td>6.875120</td>\n      <td>0</td>\n      <td>1</td>\n      <td>0</td>\n      <td>0</td>\n      <td>0</td>\n    </tr>\n  </tbody>\n</table>\n<p>318692 rows × 40 columns</p>\n</div>"
     },
     "execution_count": 52,
     "metadata": {},
     "output_type": "execute_result"
    }
   ],
   "source": [
    "data['BIG4여부'] = data.감사법인.apply(lambda x: 1 if x in big4 else 0) #BIG4 법인이면 1, 아니면 0\n",
    "data"
   ]
  },
  {
   "cell_type": "markdown",
   "id": "495ff71b-e545-4d8b-9445-d6f6896dd4f7",
   "metadata": {},
   "source": [
    "#### 당기감사법인변경여부(AC)"
   ]
  },
  {
   "cell_type": "code",
   "execution_count": 53,
   "id": "e9badf8c-8530-4e5a-8aba-c22d10019e01",
   "metadata": {},
   "outputs": [
    {
     "data": {
      "text/plain": "                        감사법인                                                  \\\nlevel_1                 2010    2011    2012    2013    2014    2015    2016   \nUnnamed: 2                                                                     \n(유)가든주류244534            NaN     NaN     NaN     NaN     NaN     NaN     NaN   \n(유)건향개발I57907            NaN     NaN     NaN     NaN     NaN     NaN     NaN   \n(유)국제에이엠씨M00154          NaN     NaN     NaN     NaN     NaN     NaN     NaN   \n(유)그랜드유니버셜트레이딩코리아I83725  NaN     NaN     NaN     NaN     NaN     NaN     NaN   \n(유)그룹세브코리아609692         NaN     NaN     NaN     NaN     NaN     NaN     NaN   \n...                      ...     ...     ...     ...     ...     ...     ...   \n히로세코리아(주)450090           한영      한영      한영      한영  삼정회계법인  삼정회계법인  삼정회계법인   \n히스보험중개(주)197675           대주  대주회계법인  대주회계법인  대주회계법인  대주회계법인  대주회계법인  대주회계법인   \n히타치금속한국(주)041866          한영      한영      한영  한영회계법인  한영회계법인  한영회계법인  한영회계법인   \n히타치하이테크코리아(주)380165       한영      한영      한영  한영회계법인  한영회계법인  한영회계법인  한영회계법인   \n힐티코리아(주)389471            삼일      삼일      삼일  삼일회계법인  삼일회계법인  삼일회계법인  삼일회계법인   \n\n                                                                        \nlevel_1                    2017      2018      2019               2020  \nUnnamed: 2                                                              \n(유)가든주류244534               NaN       NaN       NaN  서석공인회계사감사반(제279호)  \n(유)건향개발I57907               NaN  이정지율회계법인  이정지율회계법인             이정회계법인  \n(유)국제에이엠씨M00154             NaN       NaN       NaN                NaN  \n(유)그랜드유니버셜트레이딩코리아I83725     NaN       NaN       NaN             삼덕회계법인  \n(유)그룹세브코리아609692            NaN       NaN       NaN             삼일회계법인  \n...                         ...       ...       ...                ...  \n히로세코리아(주)450090          삼정회계법인    삼정회계법인    삼정회계법인             삼정회계법인  \n히스보험중개(주)197675          대주회계법인    대주회계법인    대주회계법인             대주회계법인  \n히타치금속한국(주)041866         한영회계법인    한영회계법인    한영회계법인             한영회계법인  \n히타치하이테크코리아(주)380165      한영회계법인    한영회계법인    한영회계법인             한영회계법인  \n힐티코리아(주)389471           삼일회계법인    삼일회계법인    삼일회계법인             삼일회계법인  \n\n[28972 rows x 11 columns]",
      "text/html": "<div>\n<style scoped>\n    .dataframe tbody tr th:only-of-type {\n        vertical-align: middle;\n    }\n\n    .dataframe tbody tr th {\n        vertical-align: top;\n    }\n\n    .dataframe thead tr th {\n        text-align: left;\n    }\n\n    .dataframe thead tr:last-of-type th {\n        text-align: right;\n    }\n</style>\n<table border=\"1\" class=\"dataframe\">\n  <thead>\n    <tr>\n      <th></th>\n      <th colspan=\"11\" halign=\"left\">감사법인</th>\n    </tr>\n    <tr>\n      <th>level_1</th>\n      <th>2010</th>\n      <th>2011</th>\n      <th>2012</th>\n      <th>2013</th>\n      <th>2014</th>\n      <th>2015</th>\n      <th>2016</th>\n      <th>2017</th>\n      <th>2018</th>\n      <th>2019</th>\n      <th>2020</th>\n    </tr>\n    <tr>\n      <th>Unnamed: 2</th>\n      <th></th>\n      <th></th>\n      <th></th>\n      <th></th>\n      <th></th>\n      <th></th>\n      <th></th>\n      <th></th>\n      <th></th>\n      <th></th>\n      <th></th>\n    </tr>\n  </thead>\n  <tbody>\n    <tr>\n      <th>(유)가든주류244534</th>\n      <td>NaN</td>\n      <td>NaN</td>\n      <td>NaN</td>\n      <td>NaN</td>\n      <td>NaN</td>\n      <td>NaN</td>\n      <td>NaN</td>\n      <td>NaN</td>\n      <td>NaN</td>\n      <td>NaN</td>\n      <td>서석공인회계사감사반(제279호)</td>\n    </tr>\n    <tr>\n      <th>(유)건향개발I57907</th>\n      <td>NaN</td>\n      <td>NaN</td>\n      <td>NaN</td>\n      <td>NaN</td>\n      <td>NaN</td>\n      <td>NaN</td>\n      <td>NaN</td>\n      <td>NaN</td>\n      <td>이정지율회계법인</td>\n      <td>이정지율회계법인</td>\n      <td>이정회계법인</td>\n    </tr>\n    <tr>\n      <th>(유)국제에이엠씨M00154</th>\n      <td>NaN</td>\n      <td>NaN</td>\n      <td>NaN</td>\n      <td>NaN</td>\n      <td>NaN</td>\n      <td>NaN</td>\n      <td>NaN</td>\n      <td>NaN</td>\n      <td>NaN</td>\n      <td>NaN</td>\n      <td>NaN</td>\n    </tr>\n    <tr>\n      <th>(유)그랜드유니버셜트레이딩코리아I83725</th>\n      <td>NaN</td>\n      <td>NaN</td>\n      <td>NaN</td>\n      <td>NaN</td>\n      <td>NaN</td>\n      <td>NaN</td>\n      <td>NaN</td>\n      <td>NaN</td>\n      <td>NaN</td>\n      <td>NaN</td>\n      <td>삼덕회계법인</td>\n    </tr>\n    <tr>\n      <th>(유)그룹세브코리아609692</th>\n      <td>NaN</td>\n      <td>NaN</td>\n      <td>NaN</td>\n      <td>NaN</td>\n      <td>NaN</td>\n      <td>NaN</td>\n      <td>NaN</td>\n      <td>NaN</td>\n      <td>NaN</td>\n      <td>NaN</td>\n      <td>삼일회계법인</td>\n    </tr>\n    <tr>\n      <th>...</th>\n      <td>...</td>\n      <td>...</td>\n      <td>...</td>\n      <td>...</td>\n      <td>...</td>\n      <td>...</td>\n      <td>...</td>\n      <td>...</td>\n      <td>...</td>\n      <td>...</td>\n      <td>...</td>\n    </tr>\n    <tr>\n      <th>히로세코리아(주)450090</th>\n      <td>한영</td>\n      <td>한영</td>\n      <td>한영</td>\n      <td>한영</td>\n      <td>삼정회계법인</td>\n      <td>삼정회계법인</td>\n      <td>삼정회계법인</td>\n      <td>삼정회계법인</td>\n      <td>삼정회계법인</td>\n      <td>삼정회계법인</td>\n      <td>삼정회계법인</td>\n    </tr>\n    <tr>\n      <th>히스보험중개(주)197675</th>\n      <td>대주</td>\n      <td>대주회계법인</td>\n      <td>대주회계법인</td>\n      <td>대주회계법인</td>\n      <td>대주회계법인</td>\n      <td>대주회계법인</td>\n      <td>대주회계법인</td>\n      <td>대주회계법인</td>\n      <td>대주회계법인</td>\n      <td>대주회계법인</td>\n      <td>대주회계법인</td>\n    </tr>\n    <tr>\n      <th>히타치금속한국(주)041866</th>\n      <td>한영</td>\n      <td>한영</td>\n      <td>한영</td>\n      <td>한영회계법인</td>\n      <td>한영회계법인</td>\n      <td>한영회계법인</td>\n      <td>한영회계법인</td>\n      <td>한영회계법인</td>\n      <td>한영회계법인</td>\n      <td>한영회계법인</td>\n      <td>한영회계법인</td>\n    </tr>\n    <tr>\n      <th>히타치하이테크코리아(주)380165</th>\n      <td>한영</td>\n      <td>한영</td>\n      <td>한영</td>\n      <td>한영회계법인</td>\n      <td>한영회계법인</td>\n      <td>한영회계법인</td>\n      <td>한영회계법인</td>\n      <td>한영회계법인</td>\n      <td>한영회계법인</td>\n      <td>한영회계법인</td>\n      <td>한영회계법인</td>\n    </tr>\n    <tr>\n      <th>힐티코리아(주)389471</th>\n      <td>삼일</td>\n      <td>삼일</td>\n      <td>삼일</td>\n      <td>삼일회계법인</td>\n      <td>삼일회계법인</td>\n      <td>삼일회계법인</td>\n      <td>삼일회계법인</td>\n      <td>삼일회계법인</td>\n      <td>삼일회계법인</td>\n      <td>삼일회계법인</td>\n      <td>삼일회계법인</td>\n    </tr>\n  </tbody>\n</table>\n<p>28972 rows × 11 columns</p>\n</div>"
     },
     "execution_count": 53,
     "metadata": {},
     "output_type": "execute_result"
    }
   ],
   "source": [
    "감사법인_temp = df_index2('감사법인')\n",
    "감사법인_변동_idx = 감사법인_temp.set_index(['Unnamed: 2','level_1']).unstack(1)\n",
    "감사법인_변동_idx = 감사법인_변동_idx.fillna('NaN')\n",
    "감사법인_변동_idx"
   ]
  },
  {
   "cell_type": "code",
   "execution_count": 54,
   "id": "27a87550-6b2e-4a6b-960e-65b614bbd9fe",
   "metadata": {},
   "outputs": [
    {
     "name": "stdout",
     "output_type": "stream",
     "text": [
      "CPU times: user 1min 23s, sys: 637 ms, total: 1min 23s\n",
      "Wall time: 1min 20s\n"
     ]
    },
    {
     "data": {
      "text/plain": "                        감사법인                                                  \nlevel_1                 2010 2011 2012 2013 2014 2015 2016 2017 2018 2019 2020\nUnnamed: 2                                                                    \n(유)가든주류244534            NaN    0    0    0    0    0    0    0    0    0    1\n(유)건향개발I57907            NaN    0    0    0    0    0    0    0    1    0    1\n(유)국제에이엠씨M00154          NaN    0    0    0    0    0    0    0    0    0    0\n(유)그랜드유니버셜트레이딩코리아I83725  NaN    0    0    0    0    0    0    0    0    0    1\n(유)그룹세브코리아609692         NaN    0    0    0    0    0    0    0    0    0    1\n...                      ...  ...  ...  ...  ...  ...  ...  ...  ...  ...  ...\n히로세코리아(주)450090           한영    0    0    0    1    0    0    0    0    0    0\n히스보험중개(주)197675           대주    0    0    0    0    0    0    0    0    0    0\n히타치금속한국(주)041866          한영    0    0    0    0    0    0    0    0    0    0\n히타치하이테크코리아(주)380165       한영    0    0    0    0    0    0    0    0    0    0\n힐티코리아(주)389471            삼일    0    0    0    0    0    0    0    0    0    0\n\n[28972 rows x 11 columns]",
      "text/html": "<div>\n<style scoped>\n    .dataframe tbody tr th:only-of-type {\n        vertical-align: middle;\n    }\n\n    .dataframe tbody tr th {\n        vertical-align: top;\n    }\n\n    .dataframe thead tr th {\n        text-align: left;\n    }\n\n    .dataframe thead tr:last-of-type th {\n        text-align: right;\n    }\n</style>\n<table border=\"1\" class=\"dataframe\">\n  <thead>\n    <tr>\n      <th></th>\n      <th colspan=\"11\" halign=\"left\">감사법인</th>\n    </tr>\n    <tr>\n      <th>level_1</th>\n      <th>2010</th>\n      <th>2011</th>\n      <th>2012</th>\n      <th>2013</th>\n      <th>2014</th>\n      <th>2015</th>\n      <th>2016</th>\n      <th>2017</th>\n      <th>2018</th>\n      <th>2019</th>\n      <th>2020</th>\n    </tr>\n    <tr>\n      <th>Unnamed: 2</th>\n      <th></th>\n      <th></th>\n      <th></th>\n      <th></th>\n      <th></th>\n      <th></th>\n      <th></th>\n      <th></th>\n      <th></th>\n      <th></th>\n      <th></th>\n    </tr>\n  </thead>\n  <tbody>\n    <tr>\n      <th>(유)가든주류244534</th>\n      <td>NaN</td>\n      <td>0</td>\n      <td>0</td>\n      <td>0</td>\n      <td>0</td>\n      <td>0</td>\n      <td>0</td>\n      <td>0</td>\n      <td>0</td>\n      <td>0</td>\n      <td>1</td>\n    </tr>\n    <tr>\n      <th>(유)건향개발I57907</th>\n      <td>NaN</td>\n      <td>0</td>\n      <td>0</td>\n      <td>0</td>\n      <td>0</td>\n      <td>0</td>\n      <td>0</td>\n      <td>0</td>\n      <td>1</td>\n      <td>0</td>\n      <td>1</td>\n    </tr>\n    <tr>\n      <th>(유)국제에이엠씨M00154</th>\n      <td>NaN</td>\n      <td>0</td>\n      <td>0</td>\n      <td>0</td>\n      <td>0</td>\n      <td>0</td>\n      <td>0</td>\n      <td>0</td>\n      <td>0</td>\n      <td>0</td>\n      <td>0</td>\n    </tr>\n    <tr>\n      <th>(유)그랜드유니버셜트레이딩코리아I83725</th>\n      <td>NaN</td>\n      <td>0</td>\n      <td>0</td>\n      <td>0</td>\n      <td>0</td>\n      <td>0</td>\n      <td>0</td>\n      <td>0</td>\n      <td>0</td>\n      <td>0</td>\n      <td>1</td>\n    </tr>\n    <tr>\n      <th>(유)그룹세브코리아609692</th>\n      <td>NaN</td>\n      <td>0</td>\n      <td>0</td>\n      <td>0</td>\n      <td>0</td>\n      <td>0</td>\n      <td>0</td>\n      <td>0</td>\n      <td>0</td>\n      <td>0</td>\n      <td>1</td>\n    </tr>\n    <tr>\n      <th>...</th>\n      <td>...</td>\n      <td>...</td>\n      <td>...</td>\n      <td>...</td>\n      <td>...</td>\n      <td>...</td>\n      <td>...</td>\n      <td>...</td>\n      <td>...</td>\n      <td>...</td>\n      <td>...</td>\n    </tr>\n    <tr>\n      <th>히로세코리아(주)450090</th>\n      <td>한영</td>\n      <td>0</td>\n      <td>0</td>\n      <td>0</td>\n      <td>1</td>\n      <td>0</td>\n      <td>0</td>\n      <td>0</td>\n      <td>0</td>\n      <td>0</td>\n      <td>0</td>\n    </tr>\n    <tr>\n      <th>히스보험중개(주)197675</th>\n      <td>대주</td>\n      <td>0</td>\n      <td>0</td>\n      <td>0</td>\n      <td>0</td>\n      <td>0</td>\n      <td>0</td>\n      <td>0</td>\n      <td>0</td>\n      <td>0</td>\n      <td>0</td>\n    </tr>\n    <tr>\n      <th>히타치금속한국(주)041866</th>\n      <td>한영</td>\n      <td>0</td>\n      <td>0</td>\n      <td>0</td>\n      <td>0</td>\n      <td>0</td>\n      <td>0</td>\n      <td>0</td>\n      <td>0</td>\n      <td>0</td>\n      <td>0</td>\n    </tr>\n    <tr>\n      <th>히타치하이테크코리아(주)380165</th>\n      <td>한영</td>\n      <td>0</td>\n      <td>0</td>\n      <td>0</td>\n      <td>0</td>\n      <td>0</td>\n      <td>0</td>\n      <td>0</td>\n      <td>0</td>\n      <td>0</td>\n      <td>0</td>\n    </tr>\n    <tr>\n      <th>힐티코리아(주)389471</th>\n      <td>삼일</td>\n      <td>0</td>\n      <td>0</td>\n      <td>0</td>\n      <td>0</td>\n      <td>0</td>\n      <td>0</td>\n      <td>0</td>\n      <td>0</td>\n      <td>0</td>\n      <td>0</td>\n    </tr>\n  </tbody>\n</table>\n<p>28972 rows × 11 columns</p>\n</div>"
     },
     "execution_count": 54,
     "metadata": {},
     "output_type": "execute_result"
    }
   ],
   "source": [
    "%%time\n",
    "\n",
    "당기감사법인_변동_여부_idx = 감사법인_변동_idx.copy()\n",
    "\n",
    "years = ['2011', '2012', '2013', '2014', '2015', '2016', '2017', '2018', '2019', '2020']\n",
    "\n",
    "for i in 감사법인_변동_idx.index:\n",
    "    for j in range(10):\n",
    "        if 감사법인_변동_idx.loc[i][j] in 감사법인_변동_idx.loc[i][j+1]:\n",
    "            당기감사법인_변동_여부_idx[('감사법인', years[j])][i] = 0\n",
    "        else:\n",
    "            당기감사법인_변동_여부_idx[('감사법인', years[j])][i] = 1\n",
    "        \n",
    "당기감사법인_변동_여부_idx"
   ]
  },
  {
   "cell_type": "markdown",
   "id": "57ac4175-8a82-4ea8-aeee-75a78bf91c02",
   "metadata": {
    "tags": []
   },
   "source": [
    "## 3. Merging Data"
   ]
  },
  {
   "cell_type": "code",
   "execution_count": 55,
   "id": "f12f04a5-3ca3-452a-ac60-fcc1d02d0663",
   "metadata": {},
   "outputs": [],
   "source": [
    "매출채권회전율_변동_idx = 매출채권회전율_변동_idx.stack(dropna=False,).reset_index() #데이터를 위에서 아래로 쌓아 재구조화(행 데이터로 재구조했던 자료들을 다시 열로 되돌려서 년도별로 쌓기)\n",
    "매출채권회전율_변동_idx.columns = ['기업명', '년도', '매출채권회전율변동']\n",
    "\n",
    "재고자산회전율_변동_idx = 재고자산회전율_변동_idx.stack(dropna=False).reset_index()\n",
    "재고자산회전율_변동_idx.columns = ['기업명', '년도', '재고자산회전율변동']\n",
    "\n",
    "대손충당금율_변동_idx = 대손충당금율_변동_idx.stack(dropna=False).reset_index()\n",
    "대손충당금율_변동_idx.columns = ['기업명', '년도', '대손충당금율변동']\n",
    "\n",
    "유동비율_idx = 유동비율_idx.stack(dropna=False).reset_index()\n",
    "유동비율_idx.columns = ['기업명', '년도', '유동비율']\n",
    "\n",
    "유동비율_변동_idx = 유동비율_변동_idx.stack(dropna=False).reset_index()\n",
    "유동비율_변동_idx.columns = ['기업명', '년도', '유동비율변동']\n",
    "\n",
    "부채비율_idx = 부채비율_idx.stack(dropna=False).reset_index()\n",
    "부채비율_idx.columns = ['기업명', '년도', '부채비율']\n",
    "\n",
    "부채비율_변동_idx = 부채비율_변동_idx.stack(dropna=False).reset_index()\n",
    "부채비율_변동_idx.columns = ['기업명', '년도', '부채비율변동']\n",
    "\n",
    "영업활동현금흐름이자보상비율_idx = 영업활동현금흐름이자보상비율_idx.stack(dropna=False).reset_index()\n",
    "영업활동현금흐름이자보상비율_idx.columns = ['기업명', '년도', '영업활동현금흐름이자보상비율']\n",
    "\n",
    "금융비용_매출액비율_idx = 금융비용_매출액비율_idx.stack(dropna=False).reset_index()\n",
    "금융비용_매출액비율_idx.columns = ['기업명', '년도', '금융비용_매출액비율']\n",
    "\n",
    "신용평점_idx = 신용평점_idx.stack(dropna=False).reset_index()\n",
    "신용평점_idx.columns = ['기업명', '년도', '신용평점']\n",
    "\n",
    "자기자본순이익률_idx = 자기자본순이익률_idx.stack(dropna=False).reset_index()\n",
    "자기자본순이익률_idx.columns = ['기업명', '년도', '자기자본순이익률']\n",
    "\n",
    "자기자본순이익률_변동_idx = 자기자본순이익률_변동_idx.stack(dropna=False).reset_index()\n",
    "자기자본순이익률_변동_idx.columns = ['기업명', '년도', '자기자본순이익률변동']\n",
    "\n",
    "ROA_idx = ROA_idx.stack(dropna=False).reset_index()\n",
    "ROA_idx.columns = ['기업명', '년도', 'ROA']\n",
    "\n",
    "ROA_변동_idx = ROA_변동_idx.stack(dropna=False).reset_index()\n",
    "ROA_변동_idx.columns = ['기업명', '년도', 'ROA변동']\n",
    "\n",
    "적자여부_idx = 적자여부_idx.stack(dropna=False).reset_index()\n",
    "적자여부_idx.columns = ['기업명', '년도', '적자여부']\n",
    "\n",
    "매출액증가율_idx = 매출액증가율_idx.stack(dropna=False).reset_index() \n",
    "매출액증가율_idx.columns = ['기업명', '년도', '매출액증가율']\n",
    "\n",
    "자산퀄리티_idx = 자산퀄리티_idx.stack(dropna=False).reset_index() \n",
    "자산퀄리티_idx.columns = ['기업명', '년도', '자산퀄리티']\n",
    "\n",
    "자산퀄리티_변동_idx = 자산퀄리티_변동_idx.stack(dropna=False).reset_index() \n",
    "자산퀄리티_변동_idx.columns = ['기업명', '년도', '자산퀄리티변동']\n",
    "\n",
    "감가상각율_변동_idx = 감가상각율_변동_idx.stack(dropna=False).reset_index() \n",
    "감가상각율_변동_idx.columns = ['기업명', '년도', '감가상각율변동']\n",
    "\n",
    "판매비와관리비비율_idx = 판매비와관리비비율_idx.stack(dropna=False).reset_index() \n",
    "판매비와관리비비율_idx.columns = ['기업명', '년도', '판매비와관리비비율']\n",
    "\n",
    "판매비와관리비비율_변동_idx = 판매비와관리비비율_변동_idx.stack(dropna=False).reset_index() \n",
    "판매비와관리비비율_변동_idx.columns = ['기업명', '년도', '판매비와관리비비율변동']\n",
    "\n",
    "총발생액비율_idx = 총발생액비율_idx.stack(dropna=False).reset_index() \n",
    "총발생액비율_idx.columns = ['기업명', '년도', '총발생액비율']\n",
    "\n",
    "총발생액비율_변동_idx = 총발생액비율_변동_idx.stack(dropna=False).reset_index() \n",
    "총발생액비율_변동_idx.columns = ['기업명', '년도', '총발생액비율변동']\n",
    "\n",
    "매영차_idx = 매영차_idx.stack(dropna=False).reset_index()\n",
    "매영차_idx.columns = ['기업명', '년도', '매영차']\n",
    "\n",
    "총종차_idx = 총종차_idx.stack(dropna=False).reset_index()\n",
    "총종차_idx.columns = ['기업명', '년도', '총종차']\n",
    "\n",
    "매종차_idx = 매종차_idx.stack(dropna=False).reset_index()\n",
    "매종차_idx.columns = ['기업명', '년도', '매종차']\n",
    "\n",
    "자산총계_idx = 자산총계_idx.stack(dropna=False).reset_index()\n",
    "자산총계_idx.columns = ['기업명', '년도', '자산총계']\n",
    "\n",
    "상장구분_idx = data[['기업명', '년도', '비상장', '상장', '상장관리']]\n",
    "\n",
    "BIG4여부_idx = data[['기업명', '년도', 'BIG4여부']]\n",
    "\n",
    "당기감사법인_변동_여부_idx = 당기감사법인_변동_여부_idx.stack(dropna=False).reset_index()\n",
    "당기감사법인_변동_여부_idx.columns = ['기업명', '년도', '당기감사법인변동여부']\n",
    "\n",
    "감사의견_idx = data[['기업명', '년도', '감사의견']]"
   ]
  },
  {
   "cell_type": "code",
   "execution_count": 56,
   "id": "7eb79a9a-22a2-404f-923e-8415705ac5c4",
   "metadata": {},
   "outputs": [],
   "source": [
    "columns = [매출채권회전율_변동_idx, 재고자산회전율_변동_idx, 대손충당금율_변동_idx, 유동비율_idx, 유동비율_변동_idx, 부채비율_idx, 부채비율_변동_idx, 영업활동현금흐름이자보상비율_idx,\n",
    "           금융비용_매출액비율_idx, 신용평점_idx, 자기자본순이익률_idx, 자기자본순이익률_변동_idx, ROA_idx, ROA_변동_idx, 적자여부_idx, 매출액증가율_idx, 자산퀄리티_idx, 자산퀄리티_변동_idx, \n",
    "           감가상각율_변동_idx, 판매비와관리비비율_idx, 판매비와관리비비율_변동_idx, 총발생액비율_idx, 총발생액비율_변동_idx, 매영차_idx, 총종차_idx, 매종차_idx, 오류수정및회계정책변경, \n",
    "           자산총계_idx, 상장구분_idx, BIG4여부_idx, 당기감사법인_변동_여부_idx, 감사의견_idx]"
   ]
  },
  {
   "cell_type": "code",
   "execution_count": 57,
   "id": "0ffe69fd-663c-4820-a122-2555dc5d1c6a",
   "metadata": {},
   "outputs": [],
   "source": [
    "from functools import reduce"
   ]
  },
  {
   "cell_type": "code",
   "execution_count": 58,
   "id": "7f0b0ed1-5a2c-4296-bd17-e87c264eb7a2",
   "metadata": {},
   "outputs": [
    {
     "data": {
      "text/plain": "                   기업명    년도  매출채권회전율변동  재고자산회전율변동  대손충당금율변동    유동비율  \\\n1        (유)가든주류244534  2011   0.345433  -0.102333       NaN  121.20   \n2        (유)가든주류244534  2012  -0.372498  -0.041911       NaN  190.48   \n3        (유)가든주류244534  2013  -0.217753   0.363080  0.827051  203.10   \n4        (유)가든주류244534  2014  -0.145390   0.345956  0.916581  246.89   \n5        (유)가든주류244534  2015   0.275934   0.228422  1.809184  225.38   \n...                ...   ...        ...        ...       ...     ...   \n318687  힐티코리아(주)389471  2016  -0.005277  -0.003170  0.969011  292.61   \n318688  힐티코리아(주)389471  2017   0.025199  -0.007949  0.812777  275.74   \n318689  힐티코리아(주)389471  2018  -0.027167  -0.088141  0.865167  297.24   \n318690  힐티코리아(주)389471  2019   0.013298   0.079086  1.046623  296.69   \n318691  힐티코리아(주)389471  2020  -0.001312  -0.024430  0.985369  226.73   \n\n          유동비율변동    부채비율    부채비율변동  영업활동현금흐름이자보상비율  ...    총종차   매종차  \\\n1       1.396796  305.10  1.137245             NaN  ...    NaN   NaN   \n2       1.571617  218.57  0.716388             NaN  ...    NaN   NaN   \n3       1.066254  186.48  0.853182             NaN  ...    NaN   NaN   \n4       1.215608  152.21  0.816227             NaN  ...    NaN   NaN   \n5       0.912876  139.19  0.914460             NaN  ...    NaN   NaN   \n...          ...     ...       ...             ...  ...    ...   ...   \n318687  1.207585   46.20  0.775688             NaN  ...   9.26  6.80   \n318688  0.942346   54.51  1.179870             NaN  ...   0.74  1.49   \n318689  1.077972   45.13  0.827921             NaN  ...   6.72  6.77   \n318690  0.998150   54.34  1.204077           45.40  ...  14.52  5.54   \n318691  0.764198   78.89  1.451785           32.93  ...  17.49  3.84   \n\n        오류수정및회계정책변경여부       자산총계  비상장  상장  상장관리  BIG4여부  당기감사법인변동여부  감사의견  \n1                   0  23.755892    1   0     0       0           0   NaN  \n2                   0  23.656948    1   0     0       0           0   NaN  \n3                   0  23.763009    1   0     0       0           0   NaN  \n4                   0  23.774551    1   0     0       0           0   NaN  \n5                   0  23.862884    1   0     0       0           0   NaN  \n...               ...        ...  ...  ..   ...     ...         ...   ...  \n318687              0  24.257440    1   0     0       1           0    적정  \n318688              0  24.394284    1   0     0       1           0    적정  \n318689              0  24.426058    1   0     0       1           0    적정  \n318690              0  24.568740    1   0     0       1           0    적정  \n318691              0  24.757369    1   0     0       1           0    적정  \n\n[289720 rows x 36 columns]",
      "text/html": "<div>\n<style scoped>\n    .dataframe tbody tr th:only-of-type {\n        vertical-align: middle;\n    }\n\n    .dataframe tbody tr th {\n        vertical-align: top;\n    }\n\n    .dataframe thead th {\n        text-align: right;\n    }\n</style>\n<table border=\"1\" class=\"dataframe\">\n  <thead>\n    <tr style=\"text-align: right;\">\n      <th></th>\n      <th>기업명</th>\n      <th>년도</th>\n      <th>매출채권회전율변동</th>\n      <th>재고자산회전율변동</th>\n      <th>대손충당금율변동</th>\n      <th>유동비율</th>\n      <th>유동비율변동</th>\n      <th>부채비율</th>\n      <th>부채비율변동</th>\n      <th>영업활동현금흐름이자보상비율</th>\n      <th>...</th>\n      <th>총종차</th>\n      <th>매종차</th>\n      <th>오류수정및회계정책변경여부</th>\n      <th>자산총계</th>\n      <th>비상장</th>\n      <th>상장</th>\n      <th>상장관리</th>\n      <th>BIG4여부</th>\n      <th>당기감사법인변동여부</th>\n      <th>감사의견</th>\n    </tr>\n  </thead>\n  <tbody>\n    <tr>\n      <th>1</th>\n      <td>(유)가든주류244534</td>\n      <td>2011</td>\n      <td>0.345433</td>\n      <td>-0.102333</td>\n      <td>NaN</td>\n      <td>121.20</td>\n      <td>1.396796</td>\n      <td>305.10</td>\n      <td>1.137245</td>\n      <td>NaN</td>\n      <td>...</td>\n      <td>NaN</td>\n      <td>NaN</td>\n      <td>0</td>\n      <td>23.755892</td>\n      <td>1</td>\n      <td>0</td>\n      <td>0</td>\n      <td>0</td>\n      <td>0</td>\n      <td>NaN</td>\n    </tr>\n    <tr>\n      <th>2</th>\n      <td>(유)가든주류244534</td>\n      <td>2012</td>\n      <td>-0.372498</td>\n      <td>-0.041911</td>\n      <td>NaN</td>\n      <td>190.48</td>\n      <td>1.571617</td>\n      <td>218.57</td>\n      <td>0.716388</td>\n      <td>NaN</td>\n      <td>...</td>\n      <td>NaN</td>\n      <td>NaN</td>\n      <td>0</td>\n      <td>23.656948</td>\n      <td>1</td>\n      <td>0</td>\n      <td>0</td>\n      <td>0</td>\n      <td>0</td>\n      <td>NaN</td>\n    </tr>\n    <tr>\n      <th>3</th>\n      <td>(유)가든주류244534</td>\n      <td>2013</td>\n      <td>-0.217753</td>\n      <td>0.363080</td>\n      <td>0.827051</td>\n      <td>203.10</td>\n      <td>1.066254</td>\n      <td>186.48</td>\n      <td>0.853182</td>\n      <td>NaN</td>\n      <td>...</td>\n      <td>NaN</td>\n      <td>NaN</td>\n      <td>0</td>\n      <td>23.763009</td>\n      <td>1</td>\n      <td>0</td>\n      <td>0</td>\n      <td>0</td>\n      <td>0</td>\n      <td>NaN</td>\n    </tr>\n    <tr>\n      <th>4</th>\n      <td>(유)가든주류244534</td>\n      <td>2014</td>\n      <td>-0.145390</td>\n      <td>0.345956</td>\n      <td>0.916581</td>\n      <td>246.89</td>\n      <td>1.215608</td>\n      <td>152.21</td>\n      <td>0.816227</td>\n      <td>NaN</td>\n      <td>...</td>\n      <td>NaN</td>\n      <td>NaN</td>\n      <td>0</td>\n      <td>23.774551</td>\n      <td>1</td>\n      <td>0</td>\n      <td>0</td>\n      <td>0</td>\n      <td>0</td>\n      <td>NaN</td>\n    </tr>\n    <tr>\n      <th>5</th>\n      <td>(유)가든주류244534</td>\n      <td>2015</td>\n      <td>0.275934</td>\n      <td>0.228422</td>\n      <td>1.809184</td>\n      <td>225.38</td>\n      <td>0.912876</td>\n      <td>139.19</td>\n      <td>0.914460</td>\n      <td>NaN</td>\n      <td>...</td>\n      <td>NaN</td>\n      <td>NaN</td>\n      <td>0</td>\n      <td>23.862884</td>\n      <td>1</td>\n      <td>0</td>\n      <td>0</td>\n      <td>0</td>\n      <td>0</td>\n      <td>NaN</td>\n    </tr>\n    <tr>\n      <th>...</th>\n      <td>...</td>\n      <td>...</td>\n      <td>...</td>\n      <td>...</td>\n      <td>...</td>\n      <td>...</td>\n      <td>...</td>\n      <td>...</td>\n      <td>...</td>\n      <td>...</td>\n      <td>...</td>\n      <td>...</td>\n      <td>...</td>\n      <td>...</td>\n      <td>...</td>\n      <td>...</td>\n      <td>...</td>\n      <td>...</td>\n      <td>...</td>\n      <td>...</td>\n      <td>...</td>\n    </tr>\n    <tr>\n      <th>318687</th>\n      <td>힐티코리아(주)389471</td>\n      <td>2016</td>\n      <td>-0.005277</td>\n      <td>-0.003170</td>\n      <td>0.969011</td>\n      <td>292.61</td>\n      <td>1.207585</td>\n      <td>46.20</td>\n      <td>0.775688</td>\n      <td>NaN</td>\n      <td>...</td>\n      <td>9.26</td>\n      <td>6.80</td>\n      <td>0</td>\n      <td>24.257440</td>\n      <td>1</td>\n      <td>0</td>\n      <td>0</td>\n      <td>1</td>\n      <td>0</td>\n      <td>적정</td>\n    </tr>\n    <tr>\n      <th>318688</th>\n      <td>힐티코리아(주)389471</td>\n      <td>2017</td>\n      <td>0.025199</td>\n      <td>-0.007949</td>\n      <td>0.812777</td>\n      <td>275.74</td>\n      <td>0.942346</td>\n      <td>54.51</td>\n      <td>1.179870</td>\n      <td>NaN</td>\n      <td>...</td>\n      <td>0.74</td>\n      <td>1.49</td>\n      <td>0</td>\n      <td>24.394284</td>\n      <td>1</td>\n      <td>0</td>\n      <td>0</td>\n      <td>1</td>\n      <td>0</td>\n      <td>적정</td>\n    </tr>\n    <tr>\n      <th>318689</th>\n      <td>힐티코리아(주)389471</td>\n      <td>2018</td>\n      <td>-0.027167</td>\n      <td>-0.088141</td>\n      <td>0.865167</td>\n      <td>297.24</td>\n      <td>1.077972</td>\n      <td>45.13</td>\n      <td>0.827921</td>\n      <td>NaN</td>\n      <td>...</td>\n      <td>6.72</td>\n      <td>6.77</td>\n      <td>0</td>\n      <td>24.426058</td>\n      <td>1</td>\n      <td>0</td>\n      <td>0</td>\n      <td>1</td>\n      <td>0</td>\n      <td>적정</td>\n    </tr>\n    <tr>\n      <th>318690</th>\n      <td>힐티코리아(주)389471</td>\n      <td>2019</td>\n      <td>0.013298</td>\n      <td>0.079086</td>\n      <td>1.046623</td>\n      <td>296.69</td>\n      <td>0.998150</td>\n      <td>54.34</td>\n      <td>1.204077</td>\n      <td>45.40</td>\n      <td>...</td>\n      <td>14.52</td>\n      <td>5.54</td>\n      <td>0</td>\n      <td>24.568740</td>\n      <td>1</td>\n      <td>0</td>\n      <td>0</td>\n      <td>1</td>\n      <td>0</td>\n      <td>적정</td>\n    </tr>\n    <tr>\n      <th>318691</th>\n      <td>힐티코리아(주)389471</td>\n      <td>2020</td>\n      <td>-0.001312</td>\n      <td>-0.024430</td>\n      <td>0.985369</td>\n      <td>226.73</td>\n      <td>0.764198</td>\n      <td>78.89</td>\n      <td>1.451785</td>\n      <td>32.93</td>\n      <td>...</td>\n      <td>17.49</td>\n      <td>3.84</td>\n      <td>0</td>\n      <td>24.757369</td>\n      <td>1</td>\n      <td>0</td>\n      <td>0</td>\n      <td>1</td>\n      <td>0</td>\n      <td>적정</td>\n    </tr>\n  </tbody>\n</table>\n<p>289720 rows × 36 columns</p>\n</div>"
     },
     "execution_count": 58,
     "metadata": {},
     "output_type": "execute_result"
    }
   ],
   "source": [
    "Data_merged = reduce(lambda left, right: pd.merge(left, right, how='inner'), columns) #통합하기\n",
    "Data_merged = Data_merged[~(Data_merged.년도 == '2010')] #2011년도의 변동 데이터 계산('당기감사법인변동여부' 등)를 위해 필요했던 2010 데이터 삭제\n",
    "Data_merged"
   ]
  },
  {
   "cell_type": "code",
   "execution_count": 59,
   "id": "ae84c13f-3940-4004-a315-b950af16a6ec",
   "metadata": {},
   "outputs": [
    {
     "data": {
      "text/plain": "적정                    173745\n감사미필                   13643\n한정(감사범위제한)              6467\n의견거절(감사범위제한)            1463\n한정(기업회계기준위배)             745\n의견거절(계속기업존속의문시)          697\n의견거절                     374\n한정                       133\n부적정(계속기업존속의문시)            72\n부적정(기업회계기준위배-회계처리)        26\n부적정                        6\n의견거절(독립성결여)                2\nName: 감사의견, dtype: int64"
     },
     "execution_count": 59,
     "metadata": {},
     "output_type": "execute_result"
    }
   ],
   "source": [
    "Data_merged.감사의견.value_counts()"
   ]
  },
  {
   "cell_type": "code",
   "execution_count": 60,
   "id": "ec896852-cb73-4478-8a9b-f558efdf7e74",
   "metadata": {},
   "outputs": [
    {
     "data": {
      "text/plain": "              감사의견                      기업명    년도  매출채권회전율변동  재고자산회전율변동  \\\n8       한정(감사범위제한)            (유)가든주류244534  2020  -0.216645  -0.009839   \n16      한정(감사범위제한)            (유)건향개발I57907  2018  -0.706949   2.679380   \n17              적정            (유)건향개발I57907  2019  -0.469072   1.632373   \n18              적정            (유)건향개발I57907  2020  -0.011327   0.079725   \n37      한정(감사범위제한)  (유)그랜드유니버셜트레이딩코리아I83725  2020   0.243678  -0.057018   \n...            ...                      ...   ...        ...        ...   \n276072          적정           힐티코리아(주)389471  2016  -0.005277  -0.003170   \n276073          적정           힐티코리아(주)389471  2017   0.025199  -0.007949   \n276074          적정           힐티코리아(주)389471  2018  -0.027167  -0.088141   \n276075          적정           힐티코리아(주)389471  2019   0.013298   0.079086   \n276076          적정           힐티코리아(주)389471  2020  -0.001312  -0.024430   \n\n        대손충당금율변동    유동비율    유동비율변동    부채비율    부채비율변동  ...       매영차     총종차  \\\n8       0.000000  128.39  0.528223  361.81  2.028765  ...  1.407754   11.12   \n16           NaN  110.07  0.718051  391.98  2.635691  ...  2.676345  191.56   \n17           NaN  128.86  1.170710  197.85  0.504745  ...  5.297512    7.55   \n18           NaN  133.70  1.037560  136.43  0.689563  ...  4.273336  145.59   \n37      0.773256   86.43  1.296969     NaN       NaN  ...  8.801749   28.85   \n...          ...     ...       ...     ...       ...  ...       ...     ...   \n276072  0.969011  292.61  1.207585   46.20  0.775688  ...  2.789865    9.26   \n276073  0.812777  275.74  0.942346   54.51  1.179870  ...  2.610911    0.74   \n276074  0.865167  297.24  1.077972   45.13  0.827921  ...  3.820559    6.72   \n276075  1.046623  296.69  0.998150   54.34  1.204077  ...  3.746663   14.52   \n276076  0.985369  226.73  0.764198   78.89  1.451785  ...  3.978038   17.49   \n\n           매종차  오류수정및회계정책변경여부       자산총계  비상장  상장  상장관리  BIG4여부  당기감사법인변동여부  \n8        22.93              0  24.217976    1   0     0       0           1  \n16       16.66              0  23.759990    1   0     0       0           1  \n17        5.38              0  23.878219    1   0     0       0           0  \n18      143.79              0  23.691609    1   0     0       0           1  \n37       29.82              0  24.211416    1   0     0       0           1  \n...        ...            ...        ...  ...  ..   ...     ...         ...  \n276072    6.80              0  24.257440    1   0     0       1           0  \n276073    1.49              0  24.394284    1   0     0       1           0  \n276074    6.77              0  24.426058    1   0     0       1           0  \n276075    5.54              0  24.568740    1   0     0       1           0  \n276076    3.84              0  24.757369    1   0     0       1           0  \n\n[183730 rows x 36 columns]",
      "text/html": "<div>\n<style scoped>\n    .dataframe tbody tr th:only-of-type {\n        vertical-align: middle;\n    }\n\n    .dataframe tbody tr th {\n        vertical-align: top;\n    }\n\n    .dataframe thead th {\n        text-align: right;\n    }\n</style>\n<table border=\"1\" class=\"dataframe\">\n  <thead>\n    <tr style=\"text-align: right;\">\n      <th></th>\n      <th>감사의견</th>\n      <th>기업명</th>\n      <th>년도</th>\n      <th>매출채권회전율변동</th>\n      <th>재고자산회전율변동</th>\n      <th>대손충당금율변동</th>\n      <th>유동비율</th>\n      <th>유동비율변동</th>\n      <th>부채비율</th>\n      <th>부채비율변동</th>\n      <th>...</th>\n      <th>매영차</th>\n      <th>총종차</th>\n      <th>매종차</th>\n      <th>오류수정및회계정책변경여부</th>\n      <th>자산총계</th>\n      <th>비상장</th>\n      <th>상장</th>\n      <th>상장관리</th>\n      <th>BIG4여부</th>\n      <th>당기감사법인변동여부</th>\n    </tr>\n  </thead>\n  <tbody>\n    <tr>\n      <th>8</th>\n      <td>한정(감사범위제한)</td>\n      <td>(유)가든주류244534</td>\n      <td>2020</td>\n      <td>-0.216645</td>\n      <td>-0.009839</td>\n      <td>0.000000</td>\n      <td>128.39</td>\n      <td>0.528223</td>\n      <td>361.81</td>\n      <td>2.028765</td>\n      <td>...</td>\n      <td>1.407754</td>\n      <td>11.12</td>\n      <td>22.93</td>\n      <td>0</td>\n      <td>24.217976</td>\n      <td>1</td>\n      <td>0</td>\n      <td>0</td>\n      <td>0</td>\n      <td>1</td>\n    </tr>\n    <tr>\n      <th>16</th>\n      <td>한정(감사범위제한)</td>\n      <td>(유)건향개발I57907</td>\n      <td>2018</td>\n      <td>-0.706949</td>\n      <td>2.679380</td>\n      <td>NaN</td>\n      <td>110.07</td>\n      <td>0.718051</td>\n      <td>391.98</td>\n      <td>2.635691</td>\n      <td>...</td>\n      <td>2.676345</td>\n      <td>191.56</td>\n      <td>16.66</td>\n      <td>0</td>\n      <td>23.759990</td>\n      <td>1</td>\n      <td>0</td>\n      <td>0</td>\n      <td>0</td>\n      <td>1</td>\n    </tr>\n    <tr>\n      <th>17</th>\n      <td>적정</td>\n      <td>(유)건향개발I57907</td>\n      <td>2019</td>\n      <td>-0.469072</td>\n      <td>1.632373</td>\n      <td>NaN</td>\n      <td>128.86</td>\n      <td>1.170710</td>\n      <td>197.85</td>\n      <td>0.504745</td>\n      <td>...</td>\n      <td>5.297512</td>\n      <td>7.55</td>\n      <td>5.38</td>\n      <td>0</td>\n      <td>23.878219</td>\n      <td>1</td>\n      <td>0</td>\n      <td>0</td>\n      <td>0</td>\n      <td>0</td>\n    </tr>\n    <tr>\n      <th>18</th>\n      <td>적정</td>\n      <td>(유)건향개발I57907</td>\n      <td>2020</td>\n      <td>-0.011327</td>\n      <td>0.079725</td>\n      <td>NaN</td>\n      <td>133.70</td>\n      <td>1.037560</td>\n      <td>136.43</td>\n      <td>0.689563</td>\n      <td>...</td>\n      <td>4.273336</td>\n      <td>145.59</td>\n      <td>143.79</td>\n      <td>0</td>\n      <td>23.691609</td>\n      <td>1</td>\n      <td>0</td>\n      <td>0</td>\n      <td>0</td>\n      <td>1</td>\n    </tr>\n    <tr>\n      <th>37</th>\n      <td>한정(감사범위제한)</td>\n      <td>(유)그랜드유니버셜트레이딩코리아I83725</td>\n      <td>2020</td>\n      <td>0.243678</td>\n      <td>-0.057018</td>\n      <td>0.773256</td>\n      <td>86.43</td>\n      <td>1.296969</td>\n      <td>NaN</td>\n      <td>NaN</td>\n      <td>...</td>\n      <td>8.801749</td>\n      <td>28.85</td>\n      <td>29.82</td>\n      <td>0</td>\n      <td>24.211416</td>\n      <td>1</td>\n      <td>0</td>\n      <td>0</td>\n      <td>0</td>\n      <td>1</td>\n    </tr>\n    <tr>\n      <th>...</th>\n      <td>...</td>\n      <td>...</td>\n      <td>...</td>\n      <td>...</td>\n      <td>...</td>\n      <td>...</td>\n      <td>...</td>\n      <td>...</td>\n      <td>...</td>\n      <td>...</td>\n      <td>...</td>\n      <td>...</td>\n      <td>...</td>\n      <td>...</td>\n      <td>...</td>\n      <td>...</td>\n      <td>...</td>\n      <td>...</td>\n      <td>...</td>\n      <td>...</td>\n      <td>...</td>\n    </tr>\n    <tr>\n      <th>276072</th>\n      <td>적정</td>\n      <td>힐티코리아(주)389471</td>\n      <td>2016</td>\n      <td>-0.005277</td>\n      <td>-0.003170</td>\n      <td>0.969011</td>\n      <td>292.61</td>\n      <td>1.207585</td>\n      <td>46.20</td>\n      <td>0.775688</td>\n      <td>...</td>\n      <td>2.789865</td>\n      <td>9.26</td>\n      <td>6.80</td>\n      <td>0</td>\n      <td>24.257440</td>\n      <td>1</td>\n      <td>0</td>\n      <td>0</td>\n      <td>1</td>\n      <td>0</td>\n    </tr>\n    <tr>\n      <th>276073</th>\n      <td>적정</td>\n      <td>힐티코리아(주)389471</td>\n      <td>2017</td>\n      <td>0.025199</td>\n      <td>-0.007949</td>\n      <td>0.812777</td>\n      <td>275.74</td>\n      <td>0.942346</td>\n      <td>54.51</td>\n      <td>1.179870</td>\n      <td>...</td>\n      <td>2.610911</td>\n      <td>0.74</td>\n      <td>1.49</td>\n      <td>0</td>\n      <td>24.394284</td>\n      <td>1</td>\n      <td>0</td>\n      <td>0</td>\n      <td>1</td>\n      <td>0</td>\n    </tr>\n    <tr>\n      <th>276074</th>\n      <td>적정</td>\n      <td>힐티코리아(주)389471</td>\n      <td>2018</td>\n      <td>-0.027167</td>\n      <td>-0.088141</td>\n      <td>0.865167</td>\n      <td>297.24</td>\n      <td>1.077972</td>\n      <td>45.13</td>\n      <td>0.827921</td>\n      <td>...</td>\n      <td>3.820559</td>\n      <td>6.72</td>\n      <td>6.77</td>\n      <td>0</td>\n      <td>24.426058</td>\n      <td>1</td>\n      <td>0</td>\n      <td>0</td>\n      <td>1</td>\n      <td>0</td>\n    </tr>\n    <tr>\n      <th>276075</th>\n      <td>적정</td>\n      <td>힐티코리아(주)389471</td>\n      <td>2019</td>\n      <td>0.013298</td>\n      <td>0.079086</td>\n      <td>1.046623</td>\n      <td>296.69</td>\n      <td>0.998150</td>\n      <td>54.34</td>\n      <td>1.204077</td>\n      <td>...</td>\n      <td>3.746663</td>\n      <td>14.52</td>\n      <td>5.54</td>\n      <td>0</td>\n      <td>24.568740</td>\n      <td>1</td>\n      <td>0</td>\n      <td>0</td>\n      <td>1</td>\n      <td>0</td>\n    </tr>\n    <tr>\n      <th>276076</th>\n      <td>적정</td>\n      <td>힐티코리아(주)389471</td>\n      <td>2020</td>\n      <td>-0.001312</td>\n      <td>-0.024430</td>\n      <td>0.985369</td>\n      <td>226.73</td>\n      <td>0.764198</td>\n      <td>78.89</td>\n      <td>1.451785</td>\n      <td>...</td>\n      <td>3.978038</td>\n      <td>17.49</td>\n      <td>3.84</td>\n      <td>0</td>\n      <td>24.757369</td>\n      <td>1</td>\n      <td>0</td>\n      <td>0</td>\n      <td>1</td>\n      <td>0</td>\n    </tr>\n  </tbody>\n</table>\n<p>183730 rows × 36 columns</p>\n</div>"
     },
     "execution_count": 60,
     "metadata": {},
     "output_type": "execute_result"
    }
   ],
   "source": [
    "Data = Data_merged.copy()\n",
    "Data_null = Data.set_index('감사의견').drop('감사미필').reset_index() #감사미필: 감사를 행하지 못한 경우, 따라서 데이터에서 제외\n",
    "Data_null = Data_null[~Data_null.감사의견.isnull()] #감사의견 중 NaN값 제외\n",
    "Data_null"
   ]
  },
  {
   "cell_type": "markdown",
   "id": "3b403558-92fb-4269-8229-8a73f5a584ff",
   "metadata": {},
   "source": [
    "#### 비적정여부(AO)"
   ]
  },
  {
   "cell_type": "code",
   "execution_count": 61,
   "id": "c98b6127-407d-4a31-aaa9-306e83ffb253",
   "metadata": {},
   "outputs": [
    {
     "data": {
      "text/plain": "                            기업명    년도  매출채권회전율변동  재고자산회전율변동  대손충당금율변동    유동비율  \\\n0                 (유)가든주류244534  2020  -0.216645  -0.009839  0.000000  128.39   \n1                 (유)건향개발I57907  2018  -0.706949   2.679380       NaN  110.07   \n2                 (유)건향개발I57907  2019  -0.469072   1.632373       NaN  128.86   \n3                 (유)건향개발I57907  2020  -0.011327   0.079725       NaN  133.70   \n4       (유)그랜드유니버셜트레이딩코리아I83725  2020   0.243678  -0.057018  0.773256   86.43   \n...                         ...   ...        ...        ...       ...     ...   \n183725           힐티코리아(주)389471  2016  -0.005277  -0.003170  0.969011  292.61   \n183726           힐티코리아(주)389471  2017   0.025199  -0.007949  0.812777  275.74   \n183727           힐티코리아(주)389471  2018  -0.027167  -0.088141  0.865167  297.24   \n183728           힐티코리아(주)389471  2019   0.013298   0.079086  1.046623  296.69   \n183729           힐티코리아(주)389471  2020  -0.001312  -0.024430  0.985369  226.73   \n\n          유동비율변동    부채비율    부채비율변동  영업활동현금흐름이자보상비율  ...     총종차     매종차  \\\n0       0.528223  361.81  2.028765           -0.72  ...   11.12   22.93   \n1       0.718051  391.98  2.635691           84.83  ...  191.56   16.66   \n2       1.170710  197.85  0.504745           -7.55  ...    7.55    5.38   \n3       1.037560  136.43  0.689563           65.62  ...  145.59  143.79   \n4       1.296969     NaN       NaN             NaN  ...   28.85   29.82   \n...          ...     ...       ...             ...  ...     ...     ...   \n183725  1.207585   46.20  0.775688             NaN  ...    9.26    6.80   \n183726  0.942346   54.51  1.179870             NaN  ...    0.74    1.49   \n183727  1.077972   45.13  0.827921             NaN  ...    6.72    6.77   \n183728  0.998150   54.34  1.204077           45.40  ...   14.52    5.54   \n183729  0.764198   78.89  1.451785           32.93  ...   17.49    3.84   \n\n        오류수정및회계정책변경여부       자산총계  비상장  상장  상장관리  BIG4여부  당기감사법인변동여부  비적정여부  \n0                   0  24.217976    1   0     0       0           1      1  \n1                   0  23.759990    1   0     0       0           1      1  \n2                   0  23.878219    1   0     0       0           0      0  \n3                   0  23.691609    1   0     0       0           1      0  \n4                   0  24.211416    1   0     0       0           1      1  \n...               ...        ...  ...  ..   ...     ...         ...    ...  \n183725              0  24.257440    1   0     0       1           0      0  \n183726              0  24.394284    1   0     0       1           0      0  \n183727              0  24.426058    1   0     0       1           0      0  \n183728              0  24.568740    1   0     0       1           0      0  \n183729              0  24.757369    1   0     0       1           0      0  \n\n[183730 rows x 36 columns]",
      "text/html": "<div>\n<style scoped>\n    .dataframe tbody tr th:only-of-type {\n        vertical-align: middle;\n    }\n\n    .dataframe tbody tr th {\n        vertical-align: top;\n    }\n\n    .dataframe thead th {\n        text-align: right;\n    }\n</style>\n<table border=\"1\" class=\"dataframe\">\n  <thead>\n    <tr style=\"text-align: right;\">\n      <th></th>\n      <th>기업명</th>\n      <th>년도</th>\n      <th>매출채권회전율변동</th>\n      <th>재고자산회전율변동</th>\n      <th>대손충당금율변동</th>\n      <th>유동비율</th>\n      <th>유동비율변동</th>\n      <th>부채비율</th>\n      <th>부채비율변동</th>\n      <th>영업활동현금흐름이자보상비율</th>\n      <th>...</th>\n      <th>총종차</th>\n      <th>매종차</th>\n      <th>오류수정및회계정책변경여부</th>\n      <th>자산총계</th>\n      <th>비상장</th>\n      <th>상장</th>\n      <th>상장관리</th>\n      <th>BIG4여부</th>\n      <th>당기감사법인변동여부</th>\n      <th>비적정여부</th>\n    </tr>\n  </thead>\n  <tbody>\n    <tr>\n      <th>0</th>\n      <td>(유)가든주류244534</td>\n      <td>2020</td>\n      <td>-0.216645</td>\n      <td>-0.009839</td>\n      <td>0.000000</td>\n      <td>128.39</td>\n      <td>0.528223</td>\n      <td>361.81</td>\n      <td>2.028765</td>\n      <td>-0.72</td>\n      <td>...</td>\n      <td>11.12</td>\n      <td>22.93</td>\n      <td>0</td>\n      <td>24.217976</td>\n      <td>1</td>\n      <td>0</td>\n      <td>0</td>\n      <td>0</td>\n      <td>1</td>\n      <td>1</td>\n    </tr>\n    <tr>\n      <th>1</th>\n      <td>(유)건향개발I57907</td>\n      <td>2018</td>\n      <td>-0.706949</td>\n      <td>2.679380</td>\n      <td>NaN</td>\n      <td>110.07</td>\n      <td>0.718051</td>\n      <td>391.98</td>\n      <td>2.635691</td>\n      <td>84.83</td>\n      <td>...</td>\n      <td>191.56</td>\n      <td>16.66</td>\n      <td>0</td>\n      <td>23.759990</td>\n      <td>1</td>\n      <td>0</td>\n      <td>0</td>\n      <td>0</td>\n      <td>1</td>\n      <td>1</td>\n    </tr>\n    <tr>\n      <th>2</th>\n      <td>(유)건향개발I57907</td>\n      <td>2019</td>\n      <td>-0.469072</td>\n      <td>1.632373</td>\n      <td>NaN</td>\n      <td>128.86</td>\n      <td>1.170710</td>\n      <td>197.85</td>\n      <td>0.504745</td>\n      <td>-7.55</td>\n      <td>...</td>\n      <td>7.55</td>\n      <td>5.38</td>\n      <td>0</td>\n      <td>23.878219</td>\n      <td>1</td>\n      <td>0</td>\n      <td>0</td>\n      <td>0</td>\n      <td>0</td>\n      <td>0</td>\n    </tr>\n    <tr>\n      <th>3</th>\n      <td>(유)건향개발I57907</td>\n      <td>2020</td>\n      <td>-0.011327</td>\n      <td>0.079725</td>\n      <td>NaN</td>\n      <td>133.70</td>\n      <td>1.037560</td>\n      <td>136.43</td>\n      <td>0.689563</td>\n      <td>65.62</td>\n      <td>...</td>\n      <td>145.59</td>\n      <td>143.79</td>\n      <td>0</td>\n      <td>23.691609</td>\n      <td>1</td>\n      <td>0</td>\n      <td>0</td>\n      <td>0</td>\n      <td>1</td>\n      <td>0</td>\n    </tr>\n    <tr>\n      <th>4</th>\n      <td>(유)그랜드유니버셜트레이딩코리아I83725</td>\n      <td>2020</td>\n      <td>0.243678</td>\n      <td>-0.057018</td>\n      <td>0.773256</td>\n      <td>86.43</td>\n      <td>1.296969</td>\n      <td>NaN</td>\n      <td>NaN</td>\n      <td>NaN</td>\n      <td>...</td>\n      <td>28.85</td>\n      <td>29.82</td>\n      <td>0</td>\n      <td>24.211416</td>\n      <td>1</td>\n      <td>0</td>\n      <td>0</td>\n      <td>0</td>\n      <td>1</td>\n      <td>1</td>\n    </tr>\n    <tr>\n      <th>...</th>\n      <td>...</td>\n      <td>...</td>\n      <td>...</td>\n      <td>...</td>\n      <td>...</td>\n      <td>...</td>\n      <td>...</td>\n      <td>...</td>\n      <td>...</td>\n      <td>...</td>\n      <td>...</td>\n      <td>...</td>\n      <td>...</td>\n      <td>...</td>\n      <td>...</td>\n      <td>...</td>\n      <td>...</td>\n      <td>...</td>\n      <td>...</td>\n      <td>...</td>\n      <td>...</td>\n    </tr>\n    <tr>\n      <th>183725</th>\n      <td>힐티코리아(주)389471</td>\n      <td>2016</td>\n      <td>-0.005277</td>\n      <td>-0.003170</td>\n      <td>0.969011</td>\n      <td>292.61</td>\n      <td>1.207585</td>\n      <td>46.20</td>\n      <td>0.775688</td>\n      <td>NaN</td>\n      <td>...</td>\n      <td>9.26</td>\n      <td>6.80</td>\n      <td>0</td>\n      <td>24.257440</td>\n      <td>1</td>\n      <td>0</td>\n      <td>0</td>\n      <td>1</td>\n      <td>0</td>\n      <td>0</td>\n    </tr>\n    <tr>\n      <th>183726</th>\n      <td>힐티코리아(주)389471</td>\n      <td>2017</td>\n      <td>0.025199</td>\n      <td>-0.007949</td>\n      <td>0.812777</td>\n      <td>275.74</td>\n      <td>0.942346</td>\n      <td>54.51</td>\n      <td>1.179870</td>\n      <td>NaN</td>\n      <td>...</td>\n      <td>0.74</td>\n      <td>1.49</td>\n      <td>0</td>\n      <td>24.394284</td>\n      <td>1</td>\n      <td>0</td>\n      <td>0</td>\n      <td>1</td>\n      <td>0</td>\n      <td>0</td>\n    </tr>\n    <tr>\n      <th>183727</th>\n      <td>힐티코리아(주)389471</td>\n      <td>2018</td>\n      <td>-0.027167</td>\n      <td>-0.088141</td>\n      <td>0.865167</td>\n      <td>297.24</td>\n      <td>1.077972</td>\n      <td>45.13</td>\n      <td>0.827921</td>\n      <td>NaN</td>\n      <td>...</td>\n      <td>6.72</td>\n      <td>6.77</td>\n      <td>0</td>\n      <td>24.426058</td>\n      <td>1</td>\n      <td>0</td>\n      <td>0</td>\n      <td>1</td>\n      <td>0</td>\n      <td>0</td>\n    </tr>\n    <tr>\n      <th>183728</th>\n      <td>힐티코리아(주)389471</td>\n      <td>2019</td>\n      <td>0.013298</td>\n      <td>0.079086</td>\n      <td>1.046623</td>\n      <td>296.69</td>\n      <td>0.998150</td>\n      <td>54.34</td>\n      <td>1.204077</td>\n      <td>45.40</td>\n      <td>...</td>\n      <td>14.52</td>\n      <td>5.54</td>\n      <td>0</td>\n      <td>24.568740</td>\n      <td>1</td>\n      <td>0</td>\n      <td>0</td>\n      <td>1</td>\n      <td>0</td>\n      <td>0</td>\n    </tr>\n    <tr>\n      <th>183729</th>\n      <td>힐티코리아(주)389471</td>\n      <td>2020</td>\n      <td>-0.001312</td>\n      <td>-0.024430</td>\n      <td>0.985369</td>\n      <td>226.73</td>\n      <td>0.764198</td>\n      <td>78.89</td>\n      <td>1.451785</td>\n      <td>32.93</td>\n      <td>...</td>\n      <td>17.49</td>\n      <td>3.84</td>\n      <td>0</td>\n      <td>24.757369</td>\n      <td>1</td>\n      <td>0</td>\n      <td>0</td>\n      <td>1</td>\n      <td>0</td>\n      <td>0</td>\n    </tr>\n  </tbody>\n</table>\n<p>183730 rows × 36 columns</p>\n</div>"
     },
     "execution_count": 61,
     "metadata": {},
     "output_type": "execute_result"
    }
   ],
   "source": [
    "Data_null['비적정여부'] = Data_null.감사의견.apply(lambda x: 0 if x == '적정' else 1) #'적정'은 0, '비적정'은 1\n",
    "Data_null.drop('감사의견', axis=1, inplace = True) #필요없어진 '감사의견' 열 삭제\n",
    "Data_null = Data_null.reset_index() #인덱스 재배열\n",
    "Data_null.pop('index')\n",
    "Data = Data_null.copy()\n",
    "Data"
   ]
  },
  {
   "cell_type": "markdown",
   "id": "af37fad1-0e96-4680-9f79-598a992e6003",
   "metadata": {
    "tags": []
   },
   "source": [
    "## 4. Imputation Technique: MissForest"
   ]
  },
  {
   "cell_type": "markdown",
   "id": "a95e5392-4383-4f4a-bbdd-c13a5fec3f78",
   "metadata": {},
   "source": [
    "##### 명목형(binary) 변수들을 제외한 변수의 결측치 처리"
   ]
  },
  {
   "cell_type": "markdown",
   "id": "acb8bf1e-95eb-4f84-a67a-881859540d9a",
   "metadata": {},
   "source": [
    "#### 1) 34개 지표 결측치 처리"
   ]
  },
  {
   "cell_type": "code",
   "execution_count": 62,
   "id": "b5e303cd-1b95-46b7-a718-4b06e892a622",
   "metadata": {},
   "outputs": [],
   "source": [
    "import sys\n",
    "import sklearn.neighbors._base\n",
    "sys.modules['sklearn.neighbors.base'] = sklearn.neighbors._base #최신버전의 sklearn에서는 명칭이 바뀌어 missforest 사용시 error 발생\n",
    "from missingpy import MissForest"
   ]
  },
  {
   "cell_type": "code",
   "execution_count": 63,
   "id": "c73693c8-b3d4-4427-977b-c78e09dd9ce4",
   "metadata": {},
   "outputs": [],
   "source": [
    "Data_34 = Data[['매출채권회전율변동', '재고자산회전율변동', '대손충당금율변동', '유동비율', '유동비율변동', '부채비율',\n",
    "        '부채비율변동', '영업활동현금흐름이자보상비율', '금융비용_매출액비율', '신용평점', '자기자본순이익률',\n",
    "        '자기자본순이익률변동', 'ROA', 'ROA변동', '적자여부', '매출액증가율', '자산퀄리티', '자산퀄리티변동', \n",
    "        '감가상각율변동', '판매비와관리비비율', '판매비와관리비비율변동', '총발생액비율', '총발생액비율변동', \n",
    "        '매영차', '총종차', '매종차', '오류수정및회계정책변경여부', '자산총계', '비상장', '상장', '상장관리', \n",
    "        'BIG4여부', '당기감사법인변동여부', '비적정여부']]"
   ]
  },
  {
   "cell_type": "code",
   "execution_count": 64,
   "id": "b633dd22-6021-4da2-9129-e559df6fb54e",
   "metadata": {},
   "outputs": [],
   "source": [
    "Columns_34 = Data_34.columns.tolist()\n",
    "binary_Columns_34 = ['적자여부', '오류수정및회계정책변경여부', '비상장', '상장', '상장관리', 'BIG4여부', '당기감사법인변동여부'] #binary 변수 제외\n",
    "category_variable_34 = [idx for idx, col in enumerate(Columns_34) if col in binary_Columns_34] #index에 binary 변수가 할당될 경우 다음 열의 변수로 넘어간다"
   ]
  },
  {
   "cell_type": "code",
   "execution_count": 65,
   "id": "5379e07f-a93a-47e1-ab02-d44222a40c91",
   "metadata": {},
   "outputs": [
    {
     "name": "stderr",
     "output_type": "stream",
     "text": [
      "/home/image/.local/lib/python3.8/site-packages/sklearn/ensemble/_forest.py:387: FutureWarning: Criterion 'mse' was deprecated in v1.0 and will be removed in version 1.2. Use `criterion='squared_error'` which is equivalent.\n",
      "  warn(\n",
      "[Parallel(n_jobs=-1)]: Using backend ThreadingBackend with 16 concurrent workers.\n",
      "[Parallel(n_jobs=-1)]: Done  18 tasks      | elapsed:    3.6s\n",
      "[Parallel(n_jobs=-1)]: Done 100 out of 100 | elapsed:   12.0s finished\n",
      "[Parallel(n_jobs=16)]: Using backend ThreadingBackend with 16 concurrent workers.\n",
      "[Parallel(n_jobs=16)]: Done  18 tasks      | elapsed:    0.0s\n",
      "[Parallel(n_jobs=16)]: Done 100 out of 100 | elapsed:    0.0s finished\n",
      "/home/image/.local/lib/python3.8/site-packages/sklearn/ensemble/_forest.py:387: FutureWarning: Criterion 'mse' was deprecated in v1.0 and will be removed in version 1.2. Use `criterion='squared_error'` which is equivalent.\n",
      "  warn(\n",
      "[Parallel(n_jobs=-1)]: Using backend ThreadingBackend with 16 concurrent workers.\n",
      "[Parallel(n_jobs=-1)]: Done  18 tasks      | elapsed:    4.0s\n",
      "[Parallel(n_jobs=-1)]: Done 100 out of 100 | elapsed:   13.3s finished\n",
      "[Parallel(n_jobs=16)]: Using backend ThreadingBackend with 16 concurrent workers.\n",
      "[Parallel(n_jobs=16)]: Done  18 tasks      | elapsed:    0.0s\n",
      "[Parallel(n_jobs=16)]: Done 100 out of 100 | elapsed:    0.0s finished\n",
      "/home/image/.local/lib/python3.8/site-packages/sklearn/ensemble/_forest.py:387: FutureWarning: Criterion 'mse' was deprecated in v1.0 and will be removed in version 1.2. Use `criterion='squared_error'` which is equivalent.\n",
      "  warn(\n",
      "[Parallel(n_jobs=-1)]: Using backend ThreadingBackend with 16 concurrent workers.\n",
      "[Parallel(n_jobs=-1)]: Done  18 tasks      | elapsed:    3.8s\n",
      "[Parallel(n_jobs=-1)]: Done 100 out of 100 | elapsed:   12.9s finished\n",
      "[Parallel(n_jobs=16)]: Using backend ThreadingBackend with 16 concurrent workers.\n",
      "[Parallel(n_jobs=16)]: Done  18 tasks      | elapsed:    0.0s\n",
      "[Parallel(n_jobs=16)]: Done 100 out of 100 | elapsed:    0.0s finished\n",
      "/home/image/.local/lib/python3.8/site-packages/sklearn/ensemble/_forest.py:387: FutureWarning: Criterion 'mse' was deprecated in v1.0 and will be removed in version 1.2. Use `criterion='squared_error'` which is equivalent.\n",
      "  warn(\n",
      "[Parallel(n_jobs=-1)]: Using backend ThreadingBackend with 16 concurrent workers.\n",
      "[Parallel(n_jobs=-1)]: Done  18 tasks      | elapsed:    3.6s\n",
      "[Parallel(n_jobs=-1)]: Done 100 out of 100 | elapsed:   12.0s finished\n",
      "[Parallel(n_jobs=16)]: Using backend ThreadingBackend with 16 concurrent workers.\n",
      "[Parallel(n_jobs=16)]: Done  18 tasks      | elapsed:    0.0s\n",
      "[Parallel(n_jobs=16)]: Done 100 out of 100 | elapsed:    0.0s finished\n",
      "/home/image/.local/lib/python3.8/site-packages/sklearn/ensemble/_forest.py:387: FutureWarning: Criterion 'mse' was deprecated in v1.0 and will be removed in version 1.2. Use `criterion='squared_error'` which is equivalent.\n",
      "  warn(\n",
      "[Parallel(n_jobs=-1)]: Using backend ThreadingBackend with 16 concurrent workers.\n",
      "[Parallel(n_jobs=-1)]: Done  18 tasks      | elapsed:    4.0s\n",
      "[Parallel(n_jobs=-1)]: Done 100 out of 100 | elapsed:   13.6s finished\n",
      "[Parallel(n_jobs=16)]: Using backend ThreadingBackend with 16 concurrent workers.\n",
      "[Parallel(n_jobs=16)]: Done  18 tasks      | elapsed:    0.0s\n",
      "[Parallel(n_jobs=16)]: Done 100 out of 100 | elapsed:    0.0s finished\n",
      "/home/image/.local/lib/python3.8/site-packages/sklearn/ensemble/_forest.py:387: FutureWarning: Criterion 'mse' was deprecated in v1.0 and will be removed in version 1.2. Use `criterion='squared_error'` which is equivalent.\n",
      "  warn(\n",
      "[Parallel(n_jobs=-1)]: Using backend ThreadingBackend with 16 concurrent workers.\n",
      "[Parallel(n_jobs=-1)]: Done  18 tasks      | elapsed:    3.9s\n",
      "[Parallel(n_jobs=-1)]: Done 100 out of 100 | elapsed:   13.3s finished\n",
      "[Parallel(n_jobs=16)]: Using backend ThreadingBackend with 16 concurrent workers.\n",
      "[Parallel(n_jobs=16)]: Done  18 tasks      | elapsed:    0.0s\n",
      "[Parallel(n_jobs=16)]: Done 100 out of 100 | elapsed:    0.0s finished\n",
      "/home/image/.local/lib/python3.8/site-packages/sklearn/ensemble/_forest.py:387: FutureWarning: Criterion 'mse' was deprecated in v1.0 and will be removed in version 1.2. Use `criterion='squared_error'` which is equivalent.\n",
      "  warn(\n",
      "[Parallel(n_jobs=-1)]: Using backend ThreadingBackend with 16 concurrent workers.\n",
      "[Parallel(n_jobs=-1)]: Done  18 tasks      | elapsed:    3.9s\n",
      "[Parallel(n_jobs=-1)]: Done 100 out of 100 | elapsed:   13.3s finished\n",
      "[Parallel(n_jobs=16)]: Using backend ThreadingBackend with 16 concurrent workers.\n",
      "[Parallel(n_jobs=16)]: Done  18 tasks      | elapsed:    0.0s\n",
      "[Parallel(n_jobs=16)]: Done 100 out of 100 | elapsed:    0.0s finished\n",
      "/home/image/.local/lib/python3.8/site-packages/sklearn/ensemble/_forest.py:387: FutureWarning: Criterion 'mse' was deprecated in v1.0 and will be removed in version 1.2. Use `criterion='squared_error'` which is equivalent.\n",
      "  warn(\n",
      "[Parallel(n_jobs=-1)]: Using backend ThreadingBackend with 16 concurrent workers.\n",
      "[Parallel(n_jobs=-1)]: Done  18 tasks      | elapsed:    3.9s\n",
      "[Parallel(n_jobs=-1)]: Done 100 out of 100 | elapsed:   13.4s finished\n",
      "[Parallel(n_jobs=16)]: Using backend ThreadingBackend with 16 concurrent workers.\n",
      "[Parallel(n_jobs=16)]: Done  18 tasks      | elapsed:    0.0s\n",
      "[Parallel(n_jobs=16)]: Done 100 out of 100 | elapsed:    0.0s finished\n",
      "/home/image/.local/lib/python3.8/site-packages/sklearn/ensemble/_forest.py:387: FutureWarning: Criterion 'mse' was deprecated in v1.0 and will be removed in version 1.2. Use `criterion='squared_error'` which is equivalent.\n",
      "  warn(\n",
      "[Parallel(n_jobs=-1)]: Using backend ThreadingBackend with 16 concurrent workers.\n",
      "[Parallel(n_jobs=-1)]: Done  18 tasks      | elapsed:    4.5s\n",
      "[Parallel(n_jobs=-1)]: Done 100 out of 100 | elapsed:   14.6s finished\n",
      "[Parallel(n_jobs=16)]: Using backend ThreadingBackend with 16 concurrent workers.\n",
      "[Parallel(n_jobs=16)]: Done  18 tasks      | elapsed:    0.0s\n",
      "[Parallel(n_jobs=16)]: Done 100 out of 100 | elapsed:    0.0s finished\n",
      "/home/image/.local/lib/python3.8/site-packages/sklearn/ensemble/_forest.py:387: FutureWarning: Criterion 'mse' was deprecated in v1.0 and will be removed in version 1.2. Use `criterion='squared_error'` which is equivalent.\n",
      "  warn(\n",
      "[Parallel(n_jobs=-1)]: Using backend ThreadingBackend with 16 concurrent workers.\n",
      "[Parallel(n_jobs=-1)]: Done  18 tasks      | elapsed:    4.0s\n",
      "[Parallel(n_jobs=-1)]: Done 100 out of 100 | elapsed:   13.6s finished\n",
      "[Parallel(n_jobs=16)]: Using backend ThreadingBackend with 16 concurrent workers.\n",
      "[Parallel(n_jobs=16)]: Done  18 tasks      | elapsed:    0.0s\n",
      "[Parallel(n_jobs=16)]: Done 100 out of 100 | elapsed:    0.0s finished\n",
      "/home/image/.local/lib/python3.8/site-packages/sklearn/ensemble/_forest.py:387: FutureWarning: Criterion 'mse' was deprecated in v1.0 and will be removed in version 1.2. Use `criterion='squared_error'` which is equivalent.\n",
      "  warn(\n",
      "[Parallel(n_jobs=-1)]: Using backend ThreadingBackend with 16 concurrent workers.\n",
      "[Parallel(n_jobs=-1)]: Done  18 tasks      | elapsed:    3.5s\n",
      "[Parallel(n_jobs=-1)]: Done 100 out of 100 | elapsed:   11.5s finished\n",
      "[Parallel(n_jobs=16)]: Using backend ThreadingBackend with 16 concurrent workers.\n",
      "[Parallel(n_jobs=16)]: Done  18 tasks      | elapsed:    0.0s\n",
      "[Parallel(n_jobs=16)]: Done 100 out of 100 | elapsed:    0.0s finished\n",
      "/home/image/.local/lib/python3.8/site-packages/sklearn/ensemble/_forest.py:387: FutureWarning: Criterion 'mse' was deprecated in v1.0 and will be removed in version 1.2. Use `criterion='squared_error'` which is equivalent.\n",
      "  warn(\n",
      "[Parallel(n_jobs=-1)]: Using backend ThreadingBackend with 16 concurrent workers.\n",
      "[Parallel(n_jobs=-1)]: Done  18 tasks      | elapsed:    3.8s\n",
      "[Parallel(n_jobs=-1)]: Done 100 out of 100 | elapsed:   13.0s finished\n",
      "[Parallel(n_jobs=16)]: Using backend ThreadingBackend with 16 concurrent workers.\n",
      "[Parallel(n_jobs=16)]: Done  18 tasks      | elapsed:    0.0s\n",
      "[Parallel(n_jobs=16)]: Done 100 out of 100 | elapsed:    0.0s finished\n",
      "/home/image/.local/lib/python3.8/site-packages/sklearn/ensemble/_forest.py:387: FutureWarning: Criterion 'mse' was deprecated in v1.0 and will be removed in version 1.2. Use `criterion='squared_error'` which is equivalent.\n",
      "  warn(\n",
      "[Parallel(n_jobs=-1)]: Using backend ThreadingBackend with 16 concurrent workers.\n",
      "[Parallel(n_jobs=-1)]: Done  18 tasks      | elapsed:    3.8s\n",
      "[Parallel(n_jobs=-1)]: Done 100 out of 100 | elapsed:   13.2s finished\n",
      "[Parallel(n_jobs=16)]: Using backend ThreadingBackend with 16 concurrent workers.\n",
      "[Parallel(n_jobs=16)]: Done  18 tasks      | elapsed:    0.0s\n",
      "[Parallel(n_jobs=16)]: Done 100 out of 100 | elapsed:    0.0s finished\n",
      "/home/image/.local/lib/python3.8/site-packages/sklearn/ensemble/_forest.py:387: FutureWarning: Criterion 'mse' was deprecated in v1.0 and will be removed in version 1.2. Use `criterion='squared_error'` which is equivalent.\n",
      "  warn(\n",
      "[Parallel(n_jobs=-1)]: Using backend ThreadingBackend with 16 concurrent workers.\n",
      "[Parallel(n_jobs=-1)]: Done  18 tasks      | elapsed:    4.3s\n",
      "[Parallel(n_jobs=-1)]: Done 100 out of 100 | elapsed:   13.6s finished\n",
      "[Parallel(n_jobs=16)]: Using backend ThreadingBackend with 16 concurrent workers.\n",
      "[Parallel(n_jobs=16)]: Done  18 tasks      | elapsed:    0.0s\n",
      "[Parallel(n_jobs=16)]: Done 100 out of 100 | elapsed:    0.0s finished\n",
      "/home/image/.local/lib/python3.8/site-packages/sklearn/ensemble/_forest.py:387: FutureWarning: Criterion 'mse' was deprecated in v1.0 and will be removed in version 1.2. Use `criterion='squared_error'` which is equivalent.\n",
      "  warn(\n",
      "[Parallel(n_jobs=-1)]: Using backend ThreadingBackend with 16 concurrent workers.\n",
      "[Parallel(n_jobs=-1)]: Done  18 tasks      | elapsed:    3.7s\n",
      "[Parallel(n_jobs=-1)]: Done 100 out of 100 | elapsed:   12.6s finished\n",
      "[Parallel(n_jobs=16)]: Using backend ThreadingBackend with 16 concurrent workers.\n",
      "[Parallel(n_jobs=16)]: Done  18 tasks      | elapsed:    0.0s\n",
      "[Parallel(n_jobs=16)]: Done 100 out of 100 | elapsed:    0.0s finished\n",
      "/home/image/.local/lib/python3.8/site-packages/sklearn/ensemble/_forest.py:387: FutureWarning: Criterion 'mse' was deprecated in v1.0 and will be removed in version 1.2. Use `criterion='squared_error'` which is equivalent.\n",
      "  warn(\n",
      "[Parallel(n_jobs=-1)]: Using backend ThreadingBackend with 16 concurrent workers.\n",
      "[Parallel(n_jobs=-1)]: Done  18 tasks      | elapsed:    3.7s\n",
      "[Parallel(n_jobs=-1)]: Done 100 out of 100 | elapsed:   12.8s finished\n",
      "[Parallel(n_jobs=16)]: Using backend ThreadingBackend with 16 concurrent workers.\n",
      "[Parallel(n_jobs=16)]: Done  18 tasks      | elapsed:    0.0s\n",
      "[Parallel(n_jobs=16)]: Done 100 out of 100 | elapsed:    0.0s finished\n",
      "/home/image/.local/lib/python3.8/site-packages/sklearn/ensemble/_forest.py:387: FutureWarning: Criterion 'mse' was deprecated in v1.0 and will be removed in version 1.2. Use `criterion='squared_error'` which is equivalent.\n",
      "  warn(\n",
      "[Parallel(n_jobs=-1)]: Using backend ThreadingBackend with 16 concurrent workers.\n",
      "[Parallel(n_jobs=-1)]: Done  18 tasks      | elapsed:    3.4s\n",
      "[Parallel(n_jobs=-1)]: Done 100 out of 100 | elapsed:   11.5s finished\n",
      "[Parallel(n_jobs=16)]: Using backend ThreadingBackend with 16 concurrent workers.\n",
      "[Parallel(n_jobs=16)]: Done  18 tasks      | elapsed:    0.0s\n",
      "[Parallel(n_jobs=16)]: Done 100 out of 100 | elapsed:    0.0s finished\n",
      "/home/image/.local/lib/python3.8/site-packages/sklearn/ensemble/_forest.py:387: FutureWarning: Criterion 'mse' was deprecated in v1.0 and will be removed in version 1.2. Use `criterion='squared_error'` which is equivalent.\n",
      "  warn(\n",
      "[Parallel(n_jobs=-1)]: Using backend ThreadingBackend with 16 concurrent workers.\n",
      "[Parallel(n_jobs=-1)]: Done  18 tasks      | elapsed:    3.6s\n",
      "[Parallel(n_jobs=-1)]: Done 100 out of 100 | elapsed:   12.1s finished\n",
      "[Parallel(n_jobs=16)]: Using backend ThreadingBackend with 16 concurrent workers.\n",
      "[Parallel(n_jobs=16)]: Done  18 tasks      | elapsed:    0.0s\n",
      "[Parallel(n_jobs=16)]: Done 100 out of 100 | elapsed:    0.0s finished\n",
      "/home/image/.local/lib/python3.8/site-packages/sklearn/ensemble/_forest.py:387: FutureWarning: Criterion 'mse' was deprecated in v1.0 and will be removed in version 1.2. Use `criterion='squared_error'` which is equivalent.\n",
      "  warn(\n",
      "[Parallel(n_jobs=-1)]: Using backend ThreadingBackend with 16 concurrent workers.\n",
      "[Parallel(n_jobs=-1)]: Done  18 tasks      | elapsed:    3.5s\n",
      "[Parallel(n_jobs=-1)]: Done 100 out of 100 | elapsed:   11.9s finished\n",
      "[Parallel(n_jobs=16)]: Using backend ThreadingBackend with 16 concurrent workers.\n",
      "[Parallel(n_jobs=16)]: Done  18 tasks      | elapsed:    0.0s\n",
      "[Parallel(n_jobs=16)]: Done 100 out of 100 | elapsed:    0.0s finished\n",
      "/home/image/.local/lib/python3.8/site-packages/sklearn/ensemble/_forest.py:387: FutureWarning: Criterion 'mse' was deprecated in v1.0 and will be removed in version 1.2. Use `criterion='squared_error'` which is equivalent.\n",
      "  warn(\n",
      "[Parallel(n_jobs=-1)]: Using backend ThreadingBackend with 16 concurrent workers.\n",
      "[Parallel(n_jobs=-1)]: Done  18 tasks      | elapsed:    3.4s\n",
      "[Parallel(n_jobs=-1)]: Done 100 out of 100 | elapsed:   11.5s finished\n",
      "[Parallel(n_jobs=16)]: Using backend ThreadingBackend with 16 concurrent workers.\n",
      "[Parallel(n_jobs=16)]: Done  18 tasks      | elapsed:    0.0s\n",
      "[Parallel(n_jobs=16)]: Done 100 out of 100 | elapsed:    0.0s finished\n",
      "/home/image/.local/lib/python3.8/site-packages/sklearn/ensemble/_forest.py:387: FutureWarning: Criterion 'mse' was deprecated in v1.0 and will be removed in version 1.2. Use `criterion='squared_error'` which is equivalent.\n",
      "  warn(\n",
      "[Parallel(n_jobs=-1)]: Using backend ThreadingBackend with 16 concurrent workers.\n",
      "[Parallel(n_jobs=-1)]: Done  18 tasks      | elapsed:    3.7s\n",
      "[Parallel(n_jobs=-1)]: Done 100 out of 100 | elapsed:   12.5s finished\n",
      "[Parallel(n_jobs=16)]: Using backend ThreadingBackend with 16 concurrent workers.\n",
      "[Parallel(n_jobs=16)]: Done  18 tasks      | elapsed:    0.0s\n",
      "[Parallel(n_jobs=16)]: Done 100 out of 100 | elapsed:    0.0s finished\n",
      "/home/image/.local/lib/python3.8/site-packages/sklearn/ensemble/_forest.py:387: FutureWarning: Criterion 'mse' was deprecated in v1.0 and will be removed in version 1.2. Use `criterion='squared_error'` which is equivalent.\n",
      "  warn(\n",
      "[Parallel(n_jobs=-1)]: Using backend ThreadingBackend with 16 concurrent workers.\n",
      "[Parallel(n_jobs=-1)]: Done  18 tasks      | elapsed:    3.5s\n",
      "[Parallel(n_jobs=-1)]: Done 100 out of 100 | elapsed:   11.9s finished\n",
      "[Parallel(n_jobs=16)]: Using backend ThreadingBackend with 16 concurrent workers.\n",
      "[Parallel(n_jobs=16)]: Done  18 tasks      | elapsed:    0.0s\n",
      "[Parallel(n_jobs=16)]: Done 100 out of 100 | elapsed:    0.0s finished\n",
      "/home/image/.local/lib/python3.8/site-packages/sklearn/ensemble/_forest.py:387: FutureWarning: Criterion 'mse' was deprecated in v1.0 and will be removed in version 1.2. Use `criterion='squared_error'` which is equivalent.\n",
      "  warn(\n",
      "[Parallel(n_jobs=-1)]: Using backend ThreadingBackend with 16 concurrent workers.\n",
      "[Parallel(n_jobs=-1)]: Done  18 tasks      | elapsed:    3.0s\n",
      "[Parallel(n_jobs=-1)]: Done 100 out of 100 | elapsed:   10.1s finished\n",
      "[Parallel(n_jobs=16)]: Using backend ThreadingBackend with 16 concurrent workers.\n",
      "[Parallel(n_jobs=16)]: Done  18 tasks      | elapsed:    0.0s\n",
      "[Parallel(n_jobs=16)]: Done 100 out of 100 | elapsed:    0.0s finished\n",
      "/home/image/.local/lib/python3.8/site-packages/sklearn/ensemble/_forest.py:387: FutureWarning: Criterion 'mse' was deprecated in v1.0 and will be removed in version 1.2. Use `criterion='squared_error'` which is equivalent.\n",
      "  warn(\n",
      "[Parallel(n_jobs=-1)]: Using backend ThreadingBackend with 16 concurrent workers.\n",
      "[Parallel(n_jobs=-1)]: Done  18 tasks      | elapsed:    2.5s\n",
      "[Parallel(n_jobs=-1)]: Done 100 out of 100 | elapsed:    8.7s finished\n",
      "[Parallel(n_jobs=16)]: Using backend ThreadingBackend with 16 concurrent workers.\n",
      "[Parallel(n_jobs=16)]: Done  18 tasks      | elapsed:    0.0s\n",
      "[Parallel(n_jobs=16)]: Done 100 out of 100 | elapsed:    0.0s finished\n",
      "/home/image/.local/lib/python3.8/site-packages/sklearn/ensemble/_forest.py:387: FutureWarning: Criterion 'mse' was deprecated in v1.0 and will be removed in version 1.2. Use `criterion='squared_error'` which is equivalent.\n",
      "  warn(\n",
      "[Parallel(n_jobs=-1)]: Using backend ThreadingBackend with 16 concurrent workers.\n",
      "[Parallel(n_jobs=-1)]: Done  18 tasks      | elapsed:    2.5s\n",
      "[Parallel(n_jobs=-1)]: Done 100 out of 100 | elapsed:    8.5s finished\n",
      "[Parallel(n_jobs=16)]: Using backend ThreadingBackend with 16 concurrent workers.\n",
      "[Parallel(n_jobs=16)]: Done  18 tasks      | elapsed:    0.0s\n",
      "[Parallel(n_jobs=16)]: Done 100 out of 100 | elapsed:    0.0s finished\n",
      "/home/image/.local/lib/python3.8/site-packages/sklearn/ensemble/_forest.py:387: FutureWarning: Criterion 'mse' was deprecated in v1.0 and will be removed in version 1.2. Use `criterion='squared_error'` which is equivalent.\n",
      "  warn(\n",
      "[Parallel(n_jobs=-1)]: Using backend ThreadingBackend with 16 concurrent workers.\n",
      "[Parallel(n_jobs=-1)]: Done  18 tasks      | elapsed:    2.5s\n",
      "[Parallel(n_jobs=-1)]: Done 100 out of 100 | elapsed:    8.4s finished\n",
      "[Parallel(n_jobs=16)]: Using backend ThreadingBackend with 16 concurrent workers.\n",
      "[Parallel(n_jobs=16)]: Done  18 tasks      | elapsed:    0.0s\n",
      "[Parallel(n_jobs=16)]: Done 100 out of 100 | elapsed:    0.0s finished\n",
      "/home/image/.local/lib/python3.8/site-packages/missingpy/missforest.py:406: RuntimeWarning: invalid value encountered in long_scalars\n",
      "  gamma_newcat = np.sum(\n",
      "/home/image/.local/lib/python3.8/site-packages/sklearn/ensemble/_forest.py:387: FutureWarning: Criterion 'mse' was deprecated in v1.0 and will be removed in version 1.2. Use `criterion='squared_error'` which is equivalent.\n",
      "  warn(\n",
      "[Parallel(n_jobs=-1)]: Using backend ThreadingBackend with 16 concurrent workers.\n"
     ]
    },
    {
     "name": "stdout",
     "output_type": "stream",
     "text": [
      "Iteration: 0\n"
     ]
    },
    {
     "name": "stderr",
     "output_type": "stream",
     "text": [
      "[Parallel(n_jobs=-1)]: Done  18 tasks      | elapsed:    3.6s\n",
      "[Parallel(n_jobs=-1)]: Done 100 out of 100 | elapsed:   12.2s finished\n",
      "[Parallel(n_jobs=16)]: Using backend ThreadingBackend with 16 concurrent workers.\n",
      "[Parallel(n_jobs=16)]: Done  18 tasks      | elapsed:    0.0s\n",
      "[Parallel(n_jobs=16)]: Done 100 out of 100 | elapsed:    0.0s finished\n",
      "/home/image/.local/lib/python3.8/site-packages/sklearn/ensemble/_forest.py:387: FutureWarning: Criterion 'mse' was deprecated in v1.0 and will be removed in version 1.2. Use `criterion='squared_error'` which is equivalent.\n",
      "  warn(\n",
      "[Parallel(n_jobs=-1)]: Using backend ThreadingBackend with 16 concurrent workers.\n",
      "[Parallel(n_jobs=-1)]: Done  18 tasks      | elapsed:    4.1s\n",
      "[Parallel(n_jobs=-1)]: Done 100 out of 100 | elapsed:   13.8s finished\n",
      "[Parallel(n_jobs=16)]: Using backend ThreadingBackend with 16 concurrent workers.\n",
      "[Parallel(n_jobs=16)]: Done  18 tasks      | elapsed:    0.0s\n",
      "[Parallel(n_jobs=16)]: Done 100 out of 100 | elapsed:    0.0s finished\n",
      "/home/image/.local/lib/python3.8/site-packages/sklearn/ensemble/_forest.py:387: FutureWarning: Criterion 'mse' was deprecated in v1.0 and will be removed in version 1.2. Use `criterion='squared_error'` which is equivalent.\n",
      "  warn(\n",
      "[Parallel(n_jobs=-1)]: Using backend ThreadingBackend with 16 concurrent workers.\n",
      "[Parallel(n_jobs=-1)]: Done  18 tasks      | elapsed:    3.9s\n",
      "[Parallel(n_jobs=-1)]: Done 100 out of 100 | elapsed:   13.6s finished\n",
      "[Parallel(n_jobs=16)]: Using backend ThreadingBackend with 16 concurrent workers.\n",
      "[Parallel(n_jobs=16)]: Done  18 tasks      | elapsed:    0.0s\n",
      "[Parallel(n_jobs=16)]: Done 100 out of 100 | elapsed:    0.0s finished\n",
      "/home/image/.local/lib/python3.8/site-packages/sklearn/ensemble/_forest.py:387: FutureWarning: Criterion 'mse' was deprecated in v1.0 and will be removed in version 1.2. Use `criterion='squared_error'` which is equivalent.\n",
      "  warn(\n",
      "[Parallel(n_jobs=-1)]: Using backend ThreadingBackend with 16 concurrent workers.\n",
      "[Parallel(n_jobs=-1)]: Done  18 tasks      | elapsed:    3.6s\n",
      "[Parallel(n_jobs=-1)]: Done 100 out of 100 | elapsed:   12.8s finished\n",
      "[Parallel(n_jobs=16)]: Using backend ThreadingBackend with 16 concurrent workers.\n",
      "[Parallel(n_jobs=16)]: Done  18 tasks      | elapsed:    0.0s\n",
      "[Parallel(n_jobs=16)]: Done 100 out of 100 | elapsed:    0.0s finished\n",
      "/home/image/.local/lib/python3.8/site-packages/sklearn/ensemble/_forest.py:387: FutureWarning: Criterion 'mse' was deprecated in v1.0 and will be removed in version 1.2. Use `criterion='squared_error'` which is equivalent.\n",
      "  warn(\n",
      "[Parallel(n_jobs=-1)]: Using backend ThreadingBackend with 16 concurrent workers.\n",
      "[Parallel(n_jobs=-1)]: Done  18 tasks      | elapsed:    4.2s\n",
      "[Parallel(n_jobs=-1)]: Done 100 out of 100 | elapsed:   14.5s finished\n",
      "[Parallel(n_jobs=16)]: Using backend ThreadingBackend with 16 concurrent workers.\n",
      "[Parallel(n_jobs=16)]: Done  18 tasks      | elapsed:    0.0s\n",
      "[Parallel(n_jobs=16)]: Done 100 out of 100 | elapsed:    0.0s finished\n",
      "/home/image/.local/lib/python3.8/site-packages/sklearn/ensemble/_forest.py:387: FutureWarning: Criterion 'mse' was deprecated in v1.0 and will be removed in version 1.2. Use `criterion='squared_error'` which is equivalent.\n",
      "  warn(\n",
      "[Parallel(n_jobs=-1)]: Using backend ThreadingBackend with 16 concurrent workers.\n",
      "[Parallel(n_jobs=-1)]: Done  18 tasks      | elapsed:    4.0s\n",
      "[Parallel(n_jobs=-1)]: Done 100 out of 100 | elapsed:   13.6s finished\n",
      "[Parallel(n_jobs=16)]: Using backend ThreadingBackend with 16 concurrent workers.\n",
      "[Parallel(n_jobs=16)]: Done  18 tasks      | elapsed:    0.0s\n",
      "[Parallel(n_jobs=16)]: Done 100 out of 100 | elapsed:    0.0s finished\n",
      "/home/image/.local/lib/python3.8/site-packages/sklearn/ensemble/_forest.py:387: FutureWarning: Criterion 'mse' was deprecated in v1.0 and will be removed in version 1.2. Use `criterion='squared_error'` which is equivalent.\n",
      "  warn(\n",
      "[Parallel(n_jobs=-1)]: Using backend ThreadingBackend with 16 concurrent workers.\n",
      "[Parallel(n_jobs=-1)]: Done  18 tasks      | elapsed:    4.1s\n",
      "[Parallel(n_jobs=-1)]: Done 100 out of 100 | elapsed:   13.7s finished\n",
      "[Parallel(n_jobs=16)]: Using backend ThreadingBackend with 16 concurrent workers.\n",
      "[Parallel(n_jobs=16)]: Done  18 tasks      | elapsed:    0.0s\n",
      "[Parallel(n_jobs=16)]: Done 100 out of 100 | elapsed:    0.0s finished\n",
      "/home/image/.local/lib/python3.8/site-packages/sklearn/ensemble/_forest.py:387: FutureWarning: Criterion 'mse' was deprecated in v1.0 and will be removed in version 1.2. Use `criterion='squared_error'` which is equivalent.\n",
      "  warn(\n",
      "[Parallel(n_jobs=-1)]: Using backend ThreadingBackend with 16 concurrent workers.\n",
      "[Parallel(n_jobs=-1)]: Done  18 tasks      | elapsed:    4.0s\n",
      "[Parallel(n_jobs=-1)]: Done 100 out of 100 | elapsed:   13.6s finished\n",
      "[Parallel(n_jobs=16)]: Using backend ThreadingBackend with 16 concurrent workers.\n",
      "[Parallel(n_jobs=16)]: Done  18 tasks      | elapsed:    0.0s\n",
      "[Parallel(n_jobs=16)]: Done 100 out of 100 | elapsed:    0.0s finished\n",
      "/home/image/.local/lib/python3.8/site-packages/sklearn/ensemble/_forest.py:387: FutureWarning: Criterion 'mse' was deprecated in v1.0 and will be removed in version 1.2. Use `criterion='squared_error'` which is equivalent.\n",
      "  warn(\n",
      "[Parallel(n_jobs=-1)]: Using backend ThreadingBackend with 16 concurrent workers.\n",
      "[Parallel(n_jobs=-1)]: Done  18 tasks      | elapsed:    4.0s\n",
      "[Parallel(n_jobs=-1)]: Done 100 out of 100 | elapsed:   13.6s finished\n",
      "[Parallel(n_jobs=16)]: Using backend ThreadingBackend with 16 concurrent workers.\n",
      "[Parallel(n_jobs=16)]: Done  18 tasks      | elapsed:    0.0s\n",
      "[Parallel(n_jobs=16)]: Done 100 out of 100 | elapsed:    0.0s finished\n",
      "/home/image/.local/lib/python3.8/site-packages/sklearn/ensemble/_forest.py:387: FutureWarning: Criterion 'mse' was deprecated in v1.0 and will be removed in version 1.2. Use `criterion='squared_error'` which is equivalent.\n",
      "  warn(\n",
      "[Parallel(n_jobs=-1)]: Using backend ThreadingBackend with 16 concurrent workers.\n",
      "[Parallel(n_jobs=-1)]: Done  18 tasks      | elapsed:    4.0s\n",
      "[Parallel(n_jobs=-1)]: Done 100 out of 100 | elapsed:   14.2s finished\n",
      "[Parallel(n_jobs=16)]: Using backend ThreadingBackend with 16 concurrent workers.\n",
      "[Parallel(n_jobs=16)]: Done  18 tasks      | elapsed:    0.0s\n",
      "[Parallel(n_jobs=16)]: Done 100 out of 100 | elapsed:    0.0s finished\n",
      "/home/image/.local/lib/python3.8/site-packages/sklearn/ensemble/_forest.py:387: FutureWarning: Criterion 'mse' was deprecated in v1.0 and will be removed in version 1.2. Use `criterion='squared_error'` which is equivalent.\n",
      "  warn(\n",
      "[Parallel(n_jobs=-1)]: Using backend ThreadingBackend with 16 concurrent workers.\n",
      "[Parallel(n_jobs=-1)]: Done  18 tasks      | elapsed:    4.0s\n",
      "[Parallel(n_jobs=-1)]: Done 100 out of 100 | elapsed:   12.8s finished\n",
      "[Parallel(n_jobs=16)]: Using backend ThreadingBackend with 16 concurrent workers.\n",
      "[Parallel(n_jobs=16)]: Done  18 tasks      | elapsed:    0.0s\n",
      "[Parallel(n_jobs=16)]: Done 100 out of 100 | elapsed:    0.0s finished\n",
      "/home/image/.local/lib/python3.8/site-packages/sklearn/ensemble/_forest.py:387: FutureWarning: Criterion 'mse' was deprecated in v1.0 and will be removed in version 1.2. Use `criterion='squared_error'` which is equivalent.\n",
      "  warn(\n",
      "[Parallel(n_jobs=-1)]: Using backend ThreadingBackend with 16 concurrent workers.\n",
      "[Parallel(n_jobs=-1)]: Done  18 tasks      | elapsed:    4.0s\n",
      "[Parallel(n_jobs=-1)]: Done 100 out of 100 | elapsed:   13.8s finished\n",
      "[Parallel(n_jobs=16)]: Using backend ThreadingBackend with 16 concurrent workers.\n",
      "[Parallel(n_jobs=16)]: Done  18 tasks      | elapsed:    0.0s\n",
      "[Parallel(n_jobs=16)]: Done 100 out of 100 | elapsed:    0.0s finished\n",
      "/home/image/.local/lib/python3.8/site-packages/sklearn/ensemble/_forest.py:387: FutureWarning: Criterion 'mse' was deprecated in v1.0 and will be removed in version 1.2. Use `criterion='squared_error'` which is equivalent.\n",
      "  warn(\n",
      "[Parallel(n_jobs=-1)]: Using backend ThreadingBackend with 16 concurrent workers.\n",
      "[Parallel(n_jobs=-1)]: Done  18 tasks      | elapsed:    4.2s\n",
      "[Parallel(n_jobs=-1)]: Done 100 out of 100 | elapsed:   14.4s finished\n",
      "[Parallel(n_jobs=16)]: Using backend ThreadingBackend with 16 concurrent workers.\n",
      "[Parallel(n_jobs=16)]: Done  18 tasks      | elapsed:    0.0s\n",
      "[Parallel(n_jobs=16)]: Done 100 out of 100 | elapsed:    0.0s finished\n",
      "/home/image/.local/lib/python3.8/site-packages/sklearn/ensemble/_forest.py:387: FutureWarning: Criterion 'mse' was deprecated in v1.0 and will be removed in version 1.2. Use `criterion='squared_error'` which is equivalent.\n",
      "  warn(\n",
      "[Parallel(n_jobs=-1)]: Using backend ThreadingBackend with 16 concurrent workers.\n",
      "[Parallel(n_jobs=-1)]: Done  18 tasks      | elapsed:    4.0s\n",
      "[Parallel(n_jobs=-1)]: Done 100 out of 100 | elapsed:   13.3s finished\n",
      "[Parallel(n_jobs=16)]: Using backend ThreadingBackend with 16 concurrent workers.\n",
      "[Parallel(n_jobs=16)]: Done  18 tasks      | elapsed:    0.0s\n",
      "[Parallel(n_jobs=16)]: Done 100 out of 100 | elapsed:    0.0s finished\n",
      "/home/image/.local/lib/python3.8/site-packages/sklearn/ensemble/_forest.py:387: FutureWarning: Criterion 'mse' was deprecated in v1.0 and will be removed in version 1.2. Use `criterion='squared_error'` which is equivalent.\n",
      "  warn(\n",
      "[Parallel(n_jobs=-1)]: Using backend ThreadingBackend with 16 concurrent workers.\n",
      "[Parallel(n_jobs=-1)]: Done  18 tasks      | elapsed:    3.9s\n",
      "[Parallel(n_jobs=-1)]: Done 100 out of 100 | elapsed:   13.3s finished\n",
      "[Parallel(n_jobs=16)]: Using backend ThreadingBackend with 16 concurrent workers.\n",
      "[Parallel(n_jobs=16)]: Done  18 tasks      | elapsed:    0.0s\n",
      "[Parallel(n_jobs=16)]: Done 100 out of 100 | elapsed:    0.0s finished\n",
      "/home/image/.local/lib/python3.8/site-packages/sklearn/ensemble/_forest.py:387: FutureWarning: Criterion 'mse' was deprecated in v1.0 and will be removed in version 1.2. Use `criterion='squared_error'` which is equivalent.\n",
      "  warn(\n",
      "[Parallel(n_jobs=-1)]: Using backend ThreadingBackend with 16 concurrent workers.\n",
      "[Parallel(n_jobs=-1)]: Done  18 tasks      | elapsed:    4.0s\n",
      "[Parallel(n_jobs=-1)]: Done 100 out of 100 | elapsed:   13.5s finished\n",
      "[Parallel(n_jobs=16)]: Using backend ThreadingBackend with 16 concurrent workers.\n",
      "[Parallel(n_jobs=16)]: Done  18 tasks      | elapsed:    0.0s\n",
      "[Parallel(n_jobs=16)]: Done 100 out of 100 | elapsed:    0.0s finished\n",
      "/home/image/.local/lib/python3.8/site-packages/sklearn/ensemble/_forest.py:387: FutureWarning: Criterion 'mse' was deprecated in v1.0 and will be removed in version 1.2. Use `criterion='squared_error'` which is equivalent.\n",
      "  warn(\n",
      "[Parallel(n_jobs=-1)]: Using backend ThreadingBackend with 16 concurrent workers.\n",
      "[Parallel(n_jobs=-1)]: Done  18 tasks      | elapsed:    3.7s\n",
      "[Parallel(n_jobs=-1)]: Done 100 out of 100 | elapsed:   12.5s finished\n",
      "[Parallel(n_jobs=16)]: Using backend ThreadingBackend with 16 concurrent workers.\n",
      "[Parallel(n_jobs=16)]: Done  18 tasks      | elapsed:    0.0s\n",
      "[Parallel(n_jobs=16)]: Done 100 out of 100 | elapsed:    0.0s finished\n",
      "/home/image/.local/lib/python3.8/site-packages/sklearn/ensemble/_forest.py:387: FutureWarning: Criterion 'mse' was deprecated in v1.0 and will be removed in version 1.2. Use `criterion='squared_error'` which is equivalent.\n",
      "  warn(\n",
      "[Parallel(n_jobs=-1)]: Using backend ThreadingBackend with 16 concurrent workers.\n",
      "[Parallel(n_jobs=-1)]: Done  18 tasks      | elapsed:    3.7s\n",
      "[Parallel(n_jobs=-1)]: Done 100 out of 100 | elapsed:   12.2s finished\n",
      "[Parallel(n_jobs=16)]: Using backend ThreadingBackend with 16 concurrent workers.\n",
      "[Parallel(n_jobs=16)]: Done  18 tasks      | elapsed:    0.0s\n",
      "[Parallel(n_jobs=16)]: Done 100 out of 100 | elapsed:    0.0s finished\n",
      "/home/image/.local/lib/python3.8/site-packages/sklearn/ensemble/_forest.py:387: FutureWarning: Criterion 'mse' was deprecated in v1.0 and will be removed in version 1.2. Use `criterion='squared_error'` which is equivalent.\n",
      "  warn(\n",
      "[Parallel(n_jobs=-1)]: Using backend ThreadingBackend with 16 concurrent workers.\n",
      "[Parallel(n_jobs=-1)]: Done  18 tasks      | elapsed:    3.5s\n",
      "[Parallel(n_jobs=-1)]: Done 100 out of 100 | elapsed:   11.9s finished\n",
      "[Parallel(n_jobs=16)]: Using backend ThreadingBackend with 16 concurrent workers.\n",
      "[Parallel(n_jobs=16)]: Done  18 tasks      | elapsed:    0.0s\n",
      "[Parallel(n_jobs=16)]: Done 100 out of 100 | elapsed:    0.0s finished\n",
      "/home/image/.local/lib/python3.8/site-packages/sklearn/ensemble/_forest.py:387: FutureWarning: Criterion 'mse' was deprecated in v1.0 and will be removed in version 1.2. Use `criterion='squared_error'` which is equivalent.\n",
      "  warn(\n",
      "[Parallel(n_jobs=-1)]: Using backend ThreadingBackend with 16 concurrent workers.\n",
      "[Parallel(n_jobs=-1)]: Done  18 tasks      | elapsed:    3.4s\n",
      "[Parallel(n_jobs=-1)]: Done 100 out of 100 | elapsed:   11.4s finished\n",
      "[Parallel(n_jobs=16)]: Using backend ThreadingBackend with 16 concurrent workers.\n",
      "[Parallel(n_jobs=16)]: Done  18 tasks      | elapsed:    0.0s\n",
      "[Parallel(n_jobs=16)]: Done 100 out of 100 | elapsed:    0.0s finished\n",
      "/home/image/.local/lib/python3.8/site-packages/sklearn/ensemble/_forest.py:387: FutureWarning: Criterion 'mse' was deprecated in v1.0 and will be removed in version 1.2. Use `criterion='squared_error'` which is equivalent.\n",
      "  warn(\n",
      "[Parallel(n_jobs=-1)]: Using backend ThreadingBackend with 16 concurrent workers.\n",
      "[Parallel(n_jobs=-1)]: Done  18 tasks      | elapsed:    3.4s\n",
      "[Parallel(n_jobs=-1)]: Done 100 out of 100 | elapsed:   11.6s finished\n",
      "[Parallel(n_jobs=16)]: Using backend ThreadingBackend with 16 concurrent workers.\n",
      "[Parallel(n_jobs=16)]: Done  18 tasks      | elapsed:    0.0s\n",
      "[Parallel(n_jobs=16)]: Done 100 out of 100 | elapsed:    0.0s finished\n",
      "/home/image/.local/lib/python3.8/site-packages/sklearn/ensemble/_forest.py:387: FutureWarning: Criterion 'mse' was deprecated in v1.0 and will be removed in version 1.2. Use `criterion='squared_error'` which is equivalent.\n",
      "  warn(\n",
      "[Parallel(n_jobs=-1)]: Using backend ThreadingBackend with 16 concurrent workers.\n",
      "[Parallel(n_jobs=-1)]: Done  18 tasks      | elapsed:    3.4s\n",
      "[Parallel(n_jobs=-1)]: Done 100 out of 100 | elapsed:   11.4s finished\n",
      "[Parallel(n_jobs=16)]: Using backend ThreadingBackend with 16 concurrent workers.\n",
      "[Parallel(n_jobs=16)]: Done  18 tasks      | elapsed:    0.0s\n",
      "[Parallel(n_jobs=16)]: Done 100 out of 100 | elapsed:    0.0s finished\n",
      "/home/image/.local/lib/python3.8/site-packages/sklearn/ensemble/_forest.py:387: FutureWarning: Criterion 'mse' was deprecated in v1.0 and will be removed in version 1.2. Use `criterion='squared_error'` which is equivalent.\n",
      "  warn(\n",
      "[Parallel(n_jobs=-1)]: Using backend ThreadingBackend with 16 concurrent workers.\n",
      "[Parallel(n_jobs=-1)]: Done  18 tasks      | elapsed:    2.9s\n",
      "[Parallel(n_jobs=-1)]: Done 100 out of 100 | elapsed:    9.9s finished\n",
      "[Parallel(n_jobs=16)]: Using backend ThreadingBackend with 16 concurrent workers.\n",
      "[Parallel(n_jobs=16)]: Done  18 tasks      | elapsed:    0.0s\n",
      "[Parallel(n_jobs=16)]: Done 100 out of 100 | elapsed:    0.0s finished\n",
      "/home/image/.local/lib/python3.8/site-packages/sklearn/ensemble/_forest.py:387: FutureWarning: Criterion 'mse' was deprecated in v1.0 and will be removed in version 1.2. Use `criterion='squared_error'` which is equivalent.\n",
      "  warn(\n",
      "[Parallel(n_jobs=-1)]: Using backend ThreadingBackend with 16 concurrent workers.\n",
      "[Parallel(n_jobs=-1)]: Done  18 tasks      | elapsed:    2.5s\n",
      "[Parallel(n_jobs=-1)]: Done 100 out of 100 | elapsed:    8.4s finished\n",
      "[Parallel(n_jobs=16)]: Using backend ThreadingBackend with 16 concurrent workers.\n",
      "[Parallel(n_jobs=16)]: Done  18 tasks      | elapsed:    0.0s\n",
      "[Parallel(n_jobs=16)]: Done 100 out of 100 | elapsed:    0.0s finished\n",
      "/home/image/.local/lib/python3.8/site-packages/sklearn/ensemble/_forest.py:387: FutureWarning: Criterion 'mse' was deprecated in v1.0 and will be removed in version 1.2. Use `criterion='squared_error'` which is equivalent.\n",
      "  warn(\n",
      "[Parallel(n_jobs=-1)]: Using backend ThreadingBackend with 16 concurrent workers.\n",
      "[Parallel(n_jobs=-1)]: Done  18 tasks      | elapsed:    2.5s\n",
      "[Parallel(n_jobs=-1)]: Done 100 out of 100 | elapsed:    8.4s finished\n",
      "[Parallel(n_jobs=16)]: Using backend ThreadingBackend with 16 concurrent workers.\n",
      "[Parallel(n_jobs=16)]: Done  18 tasks      | elapsed:    0.0s\n",
      "[Parallel(n_jobs=16)]: Done 100 out of 100 | elapsed:    0.0s finished\n",
      "/home/image/.local/lib/python3.8/site-packages/sklearn/ensemble/_forest.py:387: FutureWarning: Criterion 'mse' was deprecated in v1.0 and will be removed in version 1.2. Use `criterion='squared_error'` which is equivalent.\n",
      "  warn(\n",
      "[Parallel(n_jobs=-1)]: Using backend ThreadingBackend with 16 concurrent workers.\n",
      "[Parallel(n_jobs=-1)]: Done  18 tasks      | elapsed:    2.5s\n"
     ]
    },
    {
     "name": "stdout",
     "output_type": "stream",
     "text": [
      "Iteration: 1\n"
     ]
    },
    {
     "name": "stderr",
     "output_type": "stream",
     "text": [
      "[Parallel(n_jobs=-1)]: Done 100 out of 100 | elapsed:    8.3s finished\n",
      "[Parallel(n_jobs=16)]: Using backend ThreadingBackend with 16 concurrent workers.\n",
      "[Parallel(n_jobs=16)]: Done  18 tasks      | elapsed:    0.0s\n",
      "[Parallel(n_jobs=16)]: Done 100 out of 100 | elapsed:    0.0s finished\n",
      "/home/image/.local/lib/python3.8/site-packages/missingpy/missforest.py:406: RuntimeWarning: invalid value encountered in long_scalars\n",
      "  gamma_newcat = np.sum(\n"
     ]
    }
   ],
   "source": [
    "missforest = MissForest(max_iter = 10, verbose = True, n_jobs  = -1 , max_depth=5)\n",
    "Data_34_missforest = missforest.fit_transform(Data_34, cat_vars= category_variable_34)"
   ]
  },
  {
   "cell_type": "code",
   "execution_count": 66,
   "id": "d3452c50-bcfa-43d6-b6a9-4c1c325f52ff",
   "metadata": {},
   "outputs": [
    {
     "data": {
      "text/plain": "        매출채권회전율변동  재고자산회전율변동  대손충당금율변동    유동비율    유동비율변동        부채비율  \\\n0       -0.216645  -0.009839  0.000000  128.39  0.528223   361.81000   \n1       -0.706949   2.679380  3.455094  110.07  0.718051   391.98000   \n2       -0.469072   1.632373  3.455094  128.86  1.170710   197.85000   \n3       -0.011327   0.079725  3.455094  133.70  1.037560   136.43000   \n4        0.243678  -0.057018  0.773256   86.43  1.296969  5794.77366   \n...           ...        ...       ...     ...       ...         ...   \n183725  -0.005277  -0.003170  0.969011  292.61  1.207585    46.20000   \n183726   0.025199  -0.007949  0.812777  275.74  0.942346    54.51000   \n183727  -0.027167  -0.088141  0.865167  297.24  1.077972    45.13000   \n183728   0.013298   0.079086  1.046623  296.69  0.998150    54.34000   \n183729  -0.001312  -0.024430  0.985369  226.73  0.764198    78.89000   \n\n          부채비율변동  영업활동현금흐름이자보상비율  금융비용_매출액비율  신용평점  ...     총종차     매종차  \\\n0       2.028765       -0.720000     1.08000   6.0  ...   11.12   22.93   \n1       2.635691       84.830000     0.06000   6.0  ...  191.56   16.66   \n2       0.504745       -7.550000     0.10000   5.0  ...    7.55    5.38   \n3       0.689563       65.620000     0.13000   4.0  ...  145.59  143.79   \n4       1.933965    14990.272230    17.26348   9.0  ...   28.85   29.82   \n...          ...             ...         ...   ...  ...     ...     ...   \n183725  0.775688    33913.090387    17.26348   4.0  ...    9.26    6.80   \n183726  1.179870    37339.697905    17.26348   5.0  ...    0.74    1.49   \n183727  0.827921   116338.565091    17.26348   3.0  ...    6.72    6.77   \n183728  1.204077       45.400000     0.18000   3.0  ...   14.52    5.54   \n183729  1.451785       32.930000     0.22000   3.0  ...   17.49    3.84   \n\n        오류수정및회계정책변경여부       자산총계  비상장   상장  상장관리  BIG4여부  당기감사법인변동여부  비적정여부  \n0                 0.0  24.217976  1.0  0.0   0.0     0.0         1.0    1.0  \n1                 0.0  23.759990  1.0  0.0   0.0     0.0         1.0    1.0  \n2                 0.0  23.878219  1.0  0.0   0.0     0.0         0.0    0.0  \n3                 0.0  23.691609  1.0  0.0   0.0     0.0         1.0    0.0  \n4                 0.0  24.211416  1.0  0.0   0.0     0.0         1.0    1.0  \n...               ...        ...  ...  ...   ...     ...         ...    ...  \n183725            0.0  24.257440  1.0  0.0   0.0     1.0         0.0    0.0  \n183726            0.0  24.394284  1.0  0.0   0.0     1.0         0.0    0.0  \n183727            0.0  24.426058  1.0  0.0   0.0     1.0         0.0    0.0  \n183728            0.0  24.568740  1.0  0.0   0.0     1.0         0.0    0.0  \n183729            0.0  24.757369  1.0  0.0   0.0     1.0         0.0    0.0  \n\n[183730 rows x 34 columns]",
      "text/html": "<div>\n<style scoped>\n    .dataframe tbody tr th:only-of-type {\n        vertical-align: middle;\n    }\n\n    .dataframe tbody tr th {\n        vertical-align: top;\n    }\n\n    .dataframe thead th {\n        text-align: right;\n    }\n</style>\n<table border=\"1\" class=\"dataframe\">\n  <thead>\n    <tr style=\"text-align: right;\">\n      <th></th>\n      <th>매출채권회전율변동</th>\n      <th>재고자산회전율변동</th>\n      <th>대손충당금율변동</th>\n      <th>유동비율</th>\n      <th>유동비율변동</th>\n      <th>부채비율</th>\n      <th>부채비율변동</th>\n      <th>영업활동현금흐름이자보상비율</th>\n      <th>금융비용_매출액비율</th>\n      <th>신용평점</th>\n      <th>...</th>\n      <th>총종차</th>\n      <th>매종차</th>\n      <th>오류수정및회계정책변경여부</th>\n      <th>자산총계</th>\n      <th>비상장</th>\n      <th>상장</th>\n      <th>상장관리</th>\n      <th>BIG4여부</th>\n      <th>당기감사법인변동여부</th>\n      <th>비적정여부</th>\n    </tr>\n  </thead>\n  <tbody>\n    <tr>\n      <th>0</th>\n      <td>-0.216645</td>\n      <td>-0.009839</td>\n      <td>0.000000</td>\n      <td>128.39</td>\n      <td>0.528223</td>\n      <td>361.81000</td>\n      <td>2.028765</td>\n      <td>-0.720000</td>\n      <td>1.08000</td>\n      <td>6.0</td>\n      <td>...</td>\n      <td>11.12</td>\n      <td>22.93</td>\n      <td>0.0</td>\n      <td>24.217976</td>\n      <td>1.0</td>\n      <td>0.0</td>\n      <td>0.0</td>\n      <td>0.0</td>\n      <td>1.0</td>\n      <td>1.0</td>\n    </tr>\n    <tr>\n      <th>1</th>\n      <td>-0.706949</td>\n      <td>2.679380</td>\n      <td>3.455094</td>\n      <td>110.07</td>\n      <td>0.718051</td>\n      <td>391.98000</td>\n      <td>2.635691</td>\n      <td>84.830000</td>\n      <td>0.06000</td>\n      <td>6.0</td>\n      <td>...</td>\n      <td>191.56</td>\n      <td>16.66</td>\n      <td>0.0</td>\n      <td>23.759990</td>\n      <td>1.0</td>\n      <td>0.0</td>\n      <td>0.0</td>\n      <td>0.0</td>\n      <td>1.0</td>\n      <td>1.0</td>\n    </tr>\n    <tr>\n      <th>2</th>\n      <td>-0.469072</td>\n      <td>1.632373</td>\n      <td>3.455094</td>\n      <td>128.86</td>\n      <td>1.170710</td>\n      <td>197.85000</td>\n      <td>0.504745</td>\n      <td>-7.550000</td>\n      <td>0.10000</td>\n      <td>5.0</td>\n      <td>...</td>\n      <td>7.55</td>\n      <td>5.38</td>\n      <td>0.0</td>\n      <td>23.878219</td>\n      <td>1.0</td>\n      <td>0.0</td>\n      <td>0.0</td>\n      <td>0.0</td>\n      <td>0.0</td>\n      <td>0.0</td>\n    </tr>\n    <tr>\n      <th>3</th>\n      <td>-0.011327</td>\n      <td>0.079725</td>\n      <td>3.455094</td>\n      <td>133.70</td>\n      <td>1.037560</td>\n      <td>136.43000</td>\n      <td>0.689563</td>\n      <td>65.620000</td>\n      <td>0.13000</td>\n      <td>4.0</td>\n      <td>...</td>\n      <td>145.59</td>\n      <td>143.79</td>\n      <td>0.0</td>\n      <td>23.691609</td>\n      <td>1.0</td>\n      <td>0.0</td>\n      <td>0.0</td>\n      <td>0.0</td>\n      <td>1.0</td>\n      <td>0.0</td>\n    </tr>\n    <tr>\n      <th>4</th>\n      <td>0.243678</td>\n      <td>-0.057018</td>\n      <td>0.773256</td>\n      <td>86.43</td>\n      <td>1.296969</td>\n      <td>5794.77366</td>\n      <td>1.933965</td>\n      <td>14990.272230</td>\n      <td>17.26348</td>\n      <td>9.0</td>\n      <td>...</td>\n      <td>28.85</td>\n      <td>29.82</td>\n      <td>0.0</td>\n      <td>24.211416</td>\n      <td>1.0</td>\n      <td>0.0</td>\n      <td>0.0</td>\n      <td>0.0</td>\n      <td>1.0</td>\n      <td>1.0</td>\n    </tr>\n    <tr>\n      <th>...</th>\n      <td>...</td>\n      <td>...</td>\n      <td>...</td>\n      <td>...</td>\n      <td>...</td>\n      <td>...</td>\n      <td>...</td>\n      <td>...</td>\n      <td>...</td>\n      <td>...</td>\n      <td>...</td>\n      <td>...</td>\n      <td>...</td>\n      <td>...</td>\n      <td>...</td>\n      <td>...</td>\n      <td>...</td>\n      <td>...</td>\n      <td>...</td>\n      <td>...</td>\n      <td>...</td>\n    </tr>\n    <tr>\n      <th>183725</th>\n      <td>-0.005277</td>\n      <td>-0.003170</td>\n      <td>0.969011</td>\n      <td>292.61</td>\n      <td>1.207585</td>\n      <td>46.20000</td>\n      <td>0.775688</td>\n      <td>33913.090387</td>\n      <td>17.26348</td>\n      <td>4.0</td>\n      <td>...</td>\n      <td>9.26</td>\n      <td>6.80</td>\n      <td>0.0</td>\n      <td>24.257440</td>\n      <td>1.0</td>\n      <td>0.0</td>\n      <td>0.0</td>\n      <td>1.0</td>\n      <td>0.0</td>\n      <td>0.0</td>\n    </tr>\n    <tr>\n      <th>183726</th>\n      <td>0.025199</td>\n      <td>-0.007949</td>\n      <td>0.812777</td>\n      <td>275.74</td>\n      <td>0.942346</td>\n      <td>54.51000</td>\n      <td>1.179870</td>\n      <td>37339.697905</td>\n      <td>17.26348</td>\n      <td>5.0</td>\n      <td>...</td>\n      <td>0.74</td>\n      <td>1.49</td>\n      <td>0.0</td>\n      <td>24.394284</td>\n      <td>1.0</td>\n      <td>0.0</td>\n      <td>0.0</td>\n      <td>1.0</td>\n      <td>0.0</td>\n      <td>0.0</td>\n    </tr>\n    <tr>\n      <th>183727</th>\n      <td>-0.027167</td>\n      <td>-0.088141</td>\n      <td>0.865167</td>\n      <td>297.24</td>\n      <td>1.077972</td>\n      <td>45.13000</td>\n      <td>0.827921</td>\n      <td>116338.565091</td>\n      <td>17.26348</td>\n      <td>3.0</td>\n      <td>...</td>\n      <td>6.72</td>\n      <td>6.77</td>\n      <td>0.0</td>\n      <td>24.426058</td>\n      <td>1.0</td>\n      <td>0.0</td>\n      <td>0.0</td>\n      <td>1.0</td>\n      <td>0.0</td>\n      <td>0.0</td>\n    </tr>\n    <tr>\n      <th>183728</th>\n      <td>0.013298</td>\n      <td>0.079086</td>\n      <td>1.046623</td>\n      <td>296.69</td>\n      <td>0.998150</td>\n      <td>54.34000</td>\n      <td>1.204077</td>\n      <td>45.400000</td>\n      <td>0.18000</td>\n      <td>3.0</td>\n      <td>...</td>\n      <td>14.52</td>\n      <td>5.54</td>\n      <td>0.0</td>\n      <td>24.568740</td>\n      <td>1.0</td>\n      <td>0.0</td>\n      <td>0.0</td>\n      <td>1.0</td>\n      <td>0.0</td>\n      <td>0.0</td>\n    </tr>\n    <tr>\n      <th>183729</th>\n      <td>-0.001312</td>\n      <td>-0.024430</td>\n      <td>0.985369</td>\n      <td>226.73</td>\n      <td>0.764198</td>\n      <td>78.89000</td>\n      <td>1.451785</td>\n      <td>32.930000</td>\n      <td>0.22000</td>\n      <td>3.0</td>\n      <td>...</td>\n      <td>17.49</td>\n      <td>3.84</td>\n      <td>0.0</td>\n      <td>24.757369</td>\n      <td>1.0</td>\n      <td>0.0</td>\n      <td>0.0</td>\n      <td>1.0</td>\n      <td>0.0</td>\n      <td>0.0</td>\n    </tr>\n  </tbody>\n</table>\n<p>183730 rows × 34 columns</p>\n</div>"
     },
     "execution_count": 66,
     "metadata": {},
     "output_type": "execute_result"
    }
   ],
   "source": [
    "Data_missforest = pd.DataFrame(Data_34_missforest, columns = Columns_34)\n",
    "Data_missforest"
   ]
  },
  {
   "cell_type": "code",
   "execution_count": 67,
   "id": "185df063-d0d4-4508-85f4-1a4b405d0f1f",
   "metadata": {
    "pycharm": {
     "name": "#%%\n"
    }
   },
   "outputs": [],
   "source": [
    "Data_missforest.to_excel('data/processed_data.xlsx')"
   ]
  }
 ],
 "metadata": {
  "kernelspec": {
   "display_name": "Python 3",
   "language": "python",
   "name": "python3"
  },
  "language_info": {
   "codemirror_mode": {
    "name": "ipython",
    "version": 3
   },
   "file_extension": ".py",
   "mimetype": "text/x-python",
   "name": "python",
   "nbconvert_exporter": "python",
   "pygments_lexer": "ipython3",
   "version": "3.8.10"
  }
 },
 "nbformat": 4,
 "nbformat_minor": 5
}