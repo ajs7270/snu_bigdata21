{
 "cells": [
  {
   "cell_type": "markdown",
   "id": "fa18ddb0-7456-4acc-ab81-2b4fb76710dc",
   "metadata": {},
   "source": [
    "# Data Pre-processing"
   ]
  },
  {
   "cell_type": "markdown",
   "id": "3928e7c9-cc41-45fa-b289-a8debcc8aa94",
   "metadata": {},
   "source": [
    "## 1. Importing Raw Data"
   ]
  },
  {
   "cell_type": "code",
   "execution_count": 46,
   "id": "6ecbc194-5d3d-4a9a-80b5-2766643caad6",
   "metadata": {},
   "outputs": [],
   "source": [
    "import pandas as pd\n",
    "import numpy as np"
   ]
  },
  {
   "cell_type": "code",
   "execution_count": 47,
   "id": "3ba2350f-2cf2-42ee-9f66-d45f87af5b32",
   "metadata": {},
   "outputs": [],
   "source": [
    "# 기본 골자 + 맨 앞 Column 세팅용\n",
    "def df_index(index_name):\n",
    "    #불필요한 상부의 데이터 행 삭제. 때문에 연도가 표시된 행의 첫 세 셀이 비어있음(각각 Unnamed: 0, 1, 2) \n",
    "    #excel 수 배열을 python 수 배열로 바꾸는 코드: print(*range(start, end, 1), sep=', ')\n",
    "    index = pd.read_excel('data/index/{}.xls'.format(index_name), skiprows = [0, 1, 2, 3, 4])\n",
    "    index['Unnamed: 2'] = index['Unnamed: 2'] + index['Unnamed: 0'] #Name을 KIS+Name으로 교체\n",
    "    index.set_index('Unnamed: 2', inplace=True) #KIS+Name을 기본 index로 사용(다 빈 셀 때문에...)\n",
    "    index = index[['2010/Annual', '2011/Annual', '2012/Annual', '2013/Annual','2014/Annual', '2015/Annual', '2016/Annual', '2017/Annual', '2018/Annual', '2019/Annual', '2020/Annual']] #year/Annual 형식\n",
    "    index.columns=['2010', '2011', '2012', '2013', '2014', '2015', '2016', '2017', '2018', '2019', '2020']\n",
    "    index = pd.DataFrame(index.drop('NameKIS').stack(dropna=False)) #두번째 행의 붕 뜬 Name과 Kis 삭제 + 결측치 처리\n",
    "    index.columns=[index_name] #제목에 맞춘 열 생성\n",
    "    index.reset_index(inplace=True) #기본 인덱스 리셋\n",
    "    index.rename(columns = {'Unnamed: 2' : '기업명'}, inplace = True) #메인이 될 인덱스명 설정\n",
    "    index.rename(columns = {'level_1' : '년도'}, inplace = True)\n",
    "    return index\n",
    "\n",
    "# year/Annual\n",
    "def df_index1(index_name):\n",
    "    index = pd.read_excel('data/index/{}.xls'.format(index_name), skiprows = [0, 1, 2, 3, 4])\n",
    "    index['Unnamed: 2'] = index['Unnamed: 2'] + index['Unnamed: 0'] \n",
    "    index.set_index('Unnamed: 2', inplace=True) \n",
    "    index = index[['2010/Annual', '2011/Annual', '2012/Annual', '2013/Annual','2014/Annual', '2015/Annual', '2016/Annual', '2017/Annual', '2018/Annual', '2019/Annual', '2020/Annual']] #year/Annual 형식\n",
    "    index.columns=['2010', '2011', '2012', '2013', '2014', '2015', '2016', '2017', '2018', '2019', '2020']\n",
    "    index = pd.DataFrame(index.drop('NameKIS').stack(dropna=False)) \n",
    "    index.columns=[index_name] \n",
    "    index.reset_index(inplace=True) \n",
    "    return index\n",
    "\n",
    "# year\n",
    "def df_index2(index_name):\n",
    "    index = pd.read_excel('data/index/{}.xls'.format(index_name), skiprows = [0, 1, 2, 3, 4])\n",
    "    index['Unnamed: 2'] = index['Unnamed: 2'] + index['Unnamed: 0']\n",
    "    index.set_index('Unnamed: 2', inplace=True)\n",
    "    index = index[['2010', '2011', '2012', '2013', '2014', '2015', '2016', '2017', '2018', '2019', '2020']] #year 형식\n",
    "    index = pd.DataFrame(index.drop('NameKIS').stack(dropna=False))\n",
    "    index.columns=[index_name]\n",
    "    index.reset_index(inplace=True)\n",
    "    return index"
   ]
  },
  {
   "cell_type": "code",
   "execution_count": 48,
   "outputs": [
    {
     "name": "stdout",
     "output_type": "stream",
     "text": [
      "Requirement already satisfied: xlrd in /home/image/.local/lib/python3.8/site-packages (2.0.1)\r\n",
      "Requirement already satisfied: missingpy in /home/image/.local/lib/python3.8/site-packages (0.2.0)\r\n"
     ]
    }
   ],
   "source": [
    "!pip install xlrd\n",
    "!pip install missingpy"
   ],
   "metadata": {
    "collapsed": false,
    "pycharm": {
     "name": "#%%\n"
    }
   }
  },
  {
   "cell_type": "code",
   "execution_count": 49,
   "id": "1c3fc995-6343-481a-8316-72765c75ac20",
   "metadata": {},
   "outputs": [],
   "source": [
    "매출액 = df_index('매출액') #매출액만 맨 앞에 기업명-년도로 잡고, 나머지는 임시 default column명으로 설정\n",
    "\n",
    "당기순이익 = df_index1('당기순이익')\n",
    "매출액영업이익률 = df_index1('매출액영업이익률')\n",
    "매출채권회전율 = df_index1('매출채권회전율')\n",
    "부채비율 = df_index1('부채비율')\n",
    "영업활동현금흐름 = df_index1('영업활동현금흐름')\n",
    "유동비율 = df_index1('유동비율')\n",
    "자기자본순이익률 = df_index1('자기자본순이익률')\n",
    "자산총계 = df_index1('자산총계')\n",
    "재고자산회전율 = df_index1('재고자산회전율')\n",
    "종업원수 = df_index1('종업원수')\n",
    "종업원수증가율 = df_index1('종업원수증가율')\n",
    "영업활동현금흐름이자보상비율 = df_index1('영업활동현금흐름이자보상비율')\n",
    "감가상각율 = df_index1('감가상각율')\n",
    "금융비용_매출액비율 = df_index1('금융비용_매출액비율')\n",
    "오류수정및회계정책변경 = df_index1('오류수정및회계정책변경')\n",
    "유동자산 = df_index1('유동자산')\n",
    "유형자산 = df_index1('유형자산')\n",
    "총자산증가율 = df_index1('총자산증가율')\n",
    "매출액증가율 = df_index1('매출액증가율')\n",
    "판매비와관리비 = df_index1('판매비와관리비')\n",
    "장기매출채권대손충당금 = df_index1('장기매출채권대손충당금')\n",
    "매출채권 = df_index1('매출채권')\n",
    "매출채권대손충당금 = df_index1('매출채권대손충당금')\n",
    "장기매출채권 = df_index1('장기매출채권')\n",
    "ROA = df_index1('ROA')\n",
    "\n",
    "감사법인 = df_index2('감사법인')\n",
    "감사의견 = df_index2('감사의견')"
   ]
  },
  {
   "cell_type": "code",
   "execution_count": 50,
   "id": "05d0833b-17fe-401d-9220-826712a3d1f4",
   "metadata": {},
   "outputs": [
    {
     "data": {
      "text/plain": "                        기업명    년도          매출액           Unnamed: 2 level_1  \\\n0             청우화학(주)000083  2010   5005091000        청우화학(주)000083    2010   \n1             청우화학(주)000083  2011   5547721000        청우화학(주)000083    2011   \n2             청우화학(주)000083  2012   6387805000        청우화학(주)000083    2012   \n3             청우화학(주)000083  2013   6353868000        청우화학(주)000083    2013   \n4             청우화학(주)000083  2014   6897317000        청우화학(주)000083    2014   \n...                     ...   ...          ...                  ...     ...   \n318687  (주)메디라인액티브코리아Y32604  2016  15311754000  (주)메디라인액티브코리아Y32604    2016   \n318688  (주)메디라인액티브코리아Y32604  2017  18627175000  (주)메디라인액티브코리아Y32604    2017   \n318689  (주)메디라인액티브코리아Y32604  2018  22755938000  (주)메디라인액티브코리아Y32604    2018   \n318690  (주)메디라인액티브코리아Y32604  2019  27419993000  (주)메디라인액티브코리아Y32604    2019   \n318691  (주)메디라인액티브코리아Y32604  2020  28979475000  (주)메디라인액티브코리아Y32604    2020   \n\n             당기순이익           Unnamed: 2 level_1 매출액영업이익률           Unnamed: 2  \\\n0              NaN        청우화학(주)000083    2010     3.06        청우화학(주)000083   \n1              NaN        청우화학(주)000083    2011     3.72        청우화학(주)000083   \n2              NaN        청우화학(주)000083    2012     4.97        청우화학(주)000083   \n3              NaN        청우화학(주)000083    2013    13.01        청우화학(주)000083   \n4              NaN        청우화학(주)000083    2014    15.21        청우화학(주)000083   \n...            ...                  ...     ...      ...                  ...   \n318687         NaN  (주)메디라인액티브코리아Y32604    2016     9.46  (주)메디라인액티브코리아Y32604   \n318688         NaN  (주)메디라인액티브코리아Y32604    2017    10.29  (주)메디라인액티브코리아Y32604   \n318689         NaN  (주)메디라인액티브코리아Y32604    2018        9  (주)메디라인액티브코리아Y32604   \n318690  1712602000  (주)메디라인액티브코리아Y32604    2019     8.22  (주)메디라인액티브코리아Y32604   \n318691  1728057000  (주)메디라인액티브코리아Y32604    2020     6.94  (주)메디라인액티브코리아Y32604   \n\n        ... 매출채권대손충당금           Unnamed: 2 level_1     장기매출채권  \\\n0       ...  11431000        청우화학(주)000083    2010  191252000   \n1       ...  11809000        청우화학(주)000083    2011  178238000   \n2       ...  11302000        청우화학(주)000083    2012    3623000   \n3       ...  14523000        청우화학(주)000083    2013        NaN   \n4       ...  14755000        청우화학(주)000083    2014        NaN   \n...     ...       ...                  ...     ...        ...   \n318687  ...  27602000  (주)메디라인액티브코리아Y32604    2016        NaN   \n318688  ...  42927000  (주)메디라인액티브코리아Y32604    2017        NaN   \n318689  ...  40333000  (주)메디라인액티브코리아Y32604    2018        NaN   \n318690  ...       NaN  (주)메디라인액티브코리아Y32604    2019        NaN   \n318691  ...       NaN  (주)메디라인액티브코리아Y32604    2020        NaN   \n\n                 Unnamed: 2 level_1    감사법인           Unnamed: 2 level_1  \\\n0             청우화학(주)000083    2010     NaN        청우화학(주)000083    2010   \n1             청우화학(주)000083    2011     NaN        청우화학(주)000083    2011   \n2             청우화학(주)000083    2012     NaN        청우화학(주)000083    2012   \n3             청우화학(주)000083    2013     NaN        청우화학(주)000083    2013   \n4             청우화학(주)000083    2014     NaN        청우화학(주)000083    2014   \n...                     ...     ...     ...                  ...     ...   \n318687  (주)메디라인액티브코리아Y32604    2016     NaN  (주)메디라인액티브코리아Y32604    2016   \n318688  (주)메디라인액티브코리아Y32604    2017     NaN  (주)메디라인액티브코리아Y32604    2017   \n318689  (주)메디라인액티브코리아Y32604    2018     NaN  (주)메디라인액티브코리아Y32604    2018   \n318690  (주)메디라인액티브코리아Y32604    2019     NaN  (주)메디라인액티브코리아Y32604    2019   \n318691  (주)메디라인액티브코리아Y32604    2020  한울회계법인  (주)메디라인액티브코리아Y32604    2020   \n\n              감사의견  \n0              NaN  \n1              NaN  \n2              NaN  \n3              NaN  \n4              NaN  \n...            ...  \n318687         NaN  \n318688         NaN  \n318689         NaN  \n318690        감사미필  \n318691  한정(감사범위제한)  \n\n[318692 rows x 81 columns]",
      "text/html": "<div>\n<style scoped>\n    .dataframe tbody tr th:only-of-type {\n        vertical-align: middle;\n    }\n\n    .dataframe tbody tr th {\n        vertical-align: top;\n    }\n\n    .dataframe thead th {\n        text-align: right;\n    }\n</style>\n<table border=\"1\" class=\"dataframe\">\n  <thead>\n    <tr style=\"text-align: right;\">\n      <th></th>\n      <th>기업명</th>\n      <th>년도</th>\n      <th>매출액</th>\n      <th>Unnamed: 2</th>\n      <th>level_1</th>\n      <th>당기순이익</th>\n      <th>Unnamed: 2</th>\n      <th>level_1</th>\n      <th>매출액영업이익률</th>\n      <th>Unnamed: 2</th>\n      <th>...</th>\n      <th>매출채권대손충당금</th>\n      <th>Unnamed: 2</th>\n      <th>level_1</th>\n      <th>장기매출채권</th>\n      <th>Unnamed: 2</th>\n      <th>level_1</th>\n      <th>감사법인</th>\n      <th>Unnamed: 2</th>\n      <th>level_1</th>\n      <th>감사의견</th>\n    </tr>\n  </thead>\n  <tbody>\n    <tr>\n      <th>0</th>\n      <td>청우화학(주)000083</td>\n      <td>2010</td>\n      <td>5005091000</td>\n      <td>청우화학(주)000083</td>\n      <td>2010</td>\n      <td>NaN</td>\n      <td>청우화학(주)000083</td>\n      <td>2010</td>\n      <td>3.06</td>\n      <td>청우화학(주)000083</td>\n      <td>...</td>\n      <td>11431000</td>\n      <td>청우화학(주)000083</td>\n      <td>2010</td>\n      <td>191252000</td>\n      <td>청우화학(주)000083</td>\n      <td>2010</td>\n      <td>NaN</td>\n      <td>청우화학(주)000083</td>\n      <td>2010</td>\n      <td>NaN</td>\n    </tr>\n    <tr>\n      <th>1</th>\n      <td>청우화학(주)000083</td>\n      <td>2011</td>\n      <td>5547721000</td>\n      <td>청우화학(주)000083</td>\n      <td>2011</td>\n      <td>NaN</td>\n      <td>청우화학(주)000083</td>\n      <td>2011</td>\n      <td>3.72</td>\n      <td>청우화학(주)000083</td>\n      <td>...</td>\n      <td>11809000</td>\n      <td>청우화학(주)000083</td>\n      <td>2011</td>\n      <td>178238000</td>\n      <td>청우화학(주)000083</td>\n      <td>2011</td>\n      <td>NaN</td>\n      <td>청우화학(주)000083</td>\n      <td>2011</td>\n      <td>NaN</td>\n    </tr>\n    <tr>\n      <th>2</th>\n      <td>청우화학(주)000083</td>\n      <td>2012</td>\n      <td>6387805000</td>\n      <td>청우화학(주)000083</td>\n      <td>2012</td>\n      <td>NaN</td>\n      <td>청우화학(주)000083</td>\n      <td>2012</td>\n      <td>4.97</td>\n      <td>청우화학(주)000083</td>\n      <td>...</td>\n      <td>11302000</td>\n      <td>청우화학(주)000083</td>\n      <td>2012</td>\n      <td>3623000</td>\n      <td>청우화학(주)000083</td>\n      <td>2012</td>\n      <td>NaN</td>\n      <td>청우화학(주)000083</td>\n      <td>2012</td>\n      <td>NaN</td>\n    </tr>\n    <tr>\n      <th>3</th>\n      <td>청우화학(주)000083</td>\n      <td>2013</td>\n      <td>6353868000</td>\n      <td>청우화학(주)000083</td>\n      <td>2013</td>\n      <td>NaN</td>\n      <td>청우화학(주)000083</td>\n      <td>2013</td>\n      <td>13.01</td>\n      <td>청우화학(주)000083</td>\n      <td>...</td>\n      <td>14523000</td>\n      <td>청우화학(주)000083</td>\n      <td>2013</td>\n      <td>NaN</td>\n      <td>청우화학(주)000083</td>\n      <td>2013</td>\n      <td>NaN</td>\n      <td>청우화학(주)000083</td>\n      <td>2013</td>\n      <td>NaN</td>\n    </tr>\n    <tr>\n      <th>4</th>\n      <td>청우화학(주)000083</td>\n      <td>2014</td>\n      <td>6897317000</td>\n      <td>청우화학(주)000083</td>\n      <td>2014</td>\n      <td>NaN</td>\n      <td>청우화학(주)000083</td>\n      <td>2014</td>\n      <td>15.21</td>\n      <td>청우화학(주)000083</td>\n      <td>...</td>\n      <td>14755000</td>\n      <td>청우화학(주)000083</td>\n      <td>2014</td>\n      <td>NaN</td>\n      <td>청우화학(주)000083</td>\n      <td>2014</td>\n      <td>NaN</td>\n      <td>청우화학(주)000083</td>\n      <td>2014</td>\n      <td>NaN</td>\n    </tr>\n    <tr>\n      <th>...</th>\n      <td>...</td>\n      <td>...</td>\n      <td>...</td>\n      <td>...</td>\n      <td>...</td>\n      <td>...</td>\n      <td>...</td>\n      <td>...</td>\n      <td>...</td>\n      <td>...</td>\n      <td>...</td>\n      <td>...</td>\n      <td>...</td>\n      <td>...</td>\n      <td>...</td>\n      <td>...</td>\n      <td>...</td>\n      <td>...</td>\n      <td>...</td>\n      <td>...</td>\n      <td>...</td>\n    </tr>\n    <tr>\n      <th>318687</th>\n      <td>(주)메디라인액티브코리아Y32604</td>\n      <td>2016</td>\n      <td>15311754000</td>\n      <td>(주)메디라인액티브코리아Y32604</td>\n      <td>2016</td>\n      <td>NaN</td>\n      <td>(주)메디라인액티브코리아Y32604</td>\n      <td>2016</td>\n      <td>9.46</td>\n      <td>(주)메디라인액티브코리아Y32604</td>\n      <td>...</td>\n      <td>27602000</td>\n      <td>(주)메디라인액티브코리아Y32604</td>\n      <td>2016</td>\n      <td>NaN</td>\n      <td>(주)메디라인액티브코리아Y32604</td>\n      <td>2016</td>\n      <td>NaN</td>\n      <td>(주)메디라인액티브코리아Y32604</td>\n      <td>2016</td>\n      <td>NaN</td>\n    </tr>\n    <tr>\n      <th>318688</th>\n      <td>(주)메디라인액티브코리아Y32604</td>\n      <td>2017</td>\n      <td>18627175000</td>\n      <td>(주)메디라인액티브코리아Y32604</td>\n      <td>2017</td>\n      <td>NaN</td>\n      <td>(주)메디라인액티브코리아Y32604</td>\n      <td>2017</td>\n      <td>10.29</td>\n      <td>(주)메디라인액티브코리아Y32604</td>\n      <td>...</td>\n      <td>42927000</td>\n      <td>(주)메디라인액티브코리아Y32604</td>\n      <td>2017</td>\n      <td>NaN</td>\n      <td>(주)메디라인액티브코리아Y32604</td>\n      <td>2017</td>\n      <td>NaN</td>\n      <td>(주)메디라인액티브코리아Y32604</td>\n      <td>2017</td>\n      <td>NaN</td>\n    </tr>\n    <tr>\n      <th>318689</th>\n      <td>(주)메디라인액티브코리아Y32604</td>\n      <td>2018</td>\n      <td>22755938000</td>\n      <td>(주)메디라인액티브코리아Y32604</td>\n      <td>2018</td>\n      <td>NaN</td>\n      <td>(주)메디라인액티브코리아Y32604</td>\n      <td>2018</td>\n      <td>9</td>\n      <td>(주)메디라인액티브코리아Y32604</td>\n      <td>...</td>\n      <td>40333000</td>\n      <td>(주)메디라인액티브코리아Y32604</td>\n      <td>2018</td>\n      <td>NaN</td>\n      <td>(주)메디라인액티브코리아Y32604</td>\n      <td>2018</td>\n      <td>NaN</td>\n      <td>(주)메디라인액티브코리아Y32604</td>\n      <td>2018</td>\n      <td>NaN</td>\n    </tr>\n    <tr>\n      <th>318690</th>\n      <td>(주)메디라인액티브코리아Y32604</td>\n      <td>2019</td>\n      <td>27419993000</td>\n      <td>(주)메디라인액티브코리아Y32604</td>\n      <td>2019</td>\n      <td>1712602000</td>\n      <td>(주)메디라인액티브코리아Y32604</td>\n      <td>2019</td>\n      <td>8.22</td>\n      <td>(주)메디라인액티브코리아Y32604</td>\n      <td>...</td>\n      <td>NaN</td>\n      <td>(주)메디라인액티브코리아Y32604</td>\n      <td>2019</td>\n      <td>NaN</td>\n      <td>(주)메디라인액티브코리아Y32604</td>\n      <td>2019</td>\n      <td>NaN</td>\n      <td>(주)메디라인액티브코리아Y32604</td>\n      <td>2019</td>\n      <td>감사미필</td>\n    </tr>\n    <tr>\n      <th>318691</th>\n      <td>(주)메디라인액티브코리아Y32604</td>\n      <td>2020</td>\n      <td>28979475000</td>\n      <td>(주)메디라인액티브코리아Y32604</td>\n      <td>2020</td>\n      <td>1728057000</td>\n      <td>(주)메디라인액티브코리아Y32604</td>\n      <td>2020</td>\n      <td>6.94</td>\n      <td>(주)메디라인액티브코리아Y32604</td>\n      <td>...</td>\n      <td>NaN</td>\n      <td>(주)메디라인액티브코리아Y32604</td>\n      <td>2020</td>\n      <td>NaN</td>\n      <td>(주)메디라인액티브코리아Y32604</td>\n      <td>2020</td>\n      <td>한울회계법인</td>\n      <td>(주)메디라인액티브코리아Y32604</td>\n      <td>2020</td>\n      <td>한정(감사범위제한)</td>\n    </tr>\n  </tbody>\n</table>\n<p>318692 rows × 81 columns</p>\n</div>"
     },
     "execution_count": 50,
     "metadata": {},
     "output_type": "execute_result"
    }
   ],
   "source": [
    "data = pd.concat([매출액, 당기순이익, 매출액영업이익률, 매출채권회전율, 부채비율,\n",
    "                영업활동현금흐름, 유동비율, 자기자본순이익률, 자산총계, 재고자산회전율, 영업활동현금흐름이자보상비율, \n",
    "                종업원수, 종업원수증가율, 감가상각율, 금융비용_매출액비율, 오류수정및회계정책변경, 유동자산, 유형자산, 총자산증가율,\n",
    "                매출액증가율, 판매비와관리비, 장기매출채권대손충당금, 매출채권, 매출채권대손충당금, 장기매출채권, 감사법인, 감사의견], axis = 1)  #리스트 합치기\n",
    "data"
   ]
  },
  {
   "cell_type": "code",
   "execution_count": 51,
   "id": "b503ed7c-6b74-4434-a6dd-23ba1a982d54",
   "metadata": {},
   "outputs": [
    {
     "data": {
      "text/plain": "                 Unnamed: 2 level_1    ROA\n0             청우화학(주)000083    2010   5.78\n1             청우화학(주)000083    2011   6.87\n2             청우화학(주)000083    2012   9.57\n3             청우화학(주)000083    2013  20.61\n4             청우화학(주)000083    2014  20.95\n...                     ...     ...    ...\n318687  (주)메디라인액티브코리아Y32604    2016  20.41\n318688  (주)메디라인액티브코리아Y32604    2017   5.94\n318689  (주)메디라인액티브코리아Y32604    2018  17.67\n318690  (주)메디라인액티브코리아Y32604    2019   15.8\n318691  (주)메디라인액티브코리아Y32604    2020  12.22\n\n[318692 rows x 3 columns]",
      "text/html": "<div>\n<style scoped>\n    .dataframe tbody tr th:only-of-type {\n        vertical-align: middle;\n    }\n\n    .dataframe tbody tr th {\n        vertical-align: top;\n    }\n\n    .dataframe thead th {\n        text-align: right;\n    }\n</style>\n<table border=\"1\" class=\"dataframe\">\n  <thead>\n    <tr style=\"text-align: right;\">\n      <th></th>\n      <th>Unnamed: 2</th>\n      <th>level_1</th>\n      <th>ROA</th>\n    </tr>\n  </thead>\n  <tbody>\n    <tr>\n      <th>0</th>\n      <td>청우화학(주)000083</td>\n      <td>2010</td>\n      <td>5.78</td>\n    </tr>\n    <tr>\n      <th>1</th>\n      <td>청우화학(주)000083</td>\n      <td>2011</td>\n      <td>6.87</td>\n    </tr>\n    <tr>\n      <th>2</th>\n      <td>청우화학(주)000083</td>\n      <td>2012</td>\n      <td>9.57</td>\n    </tr>\n    <tr>\n      <th>3</th>\n      <td>청우화학(주)000083</td>\n      <td>2013</td>\n      <td>20.61</td>\n    </tr>\n    <tr>\n      <th>4</th>\n      <td>청우화학(주)000083</td>\n      <td>2014</td>\n      <td>20.95</td>\n    </tr>\n    <tr>\n      <th>...</th>\n      <td>...</td>\n      <td>...</td>\n      <td>...</td>\n    </tr>\n    <tr>\n      <th>318687</th>\n      <td>(주)메디라인액티브코리아Y32604</td>\n      <td>2016</td>\n      <td>20.41</td>\n    </tr>\n    <tr>\n      <th>318688</th>\n      <td>(주)메디라인액티브코리아Y32604</td>\n      <td>2017</td>\n      <td>5.94</td>\n    </tr>\n    <tr>\n      <th>318689</th>\n      <td>(주)메디라인액티브코리아Y32604</td>\n      <td>2018</td>\n      <td>17.67</td>\n    </tr>\n    <tr>\n      <th>318690</th>\n      <td>(주)메디라인액티브코리아Y32604</td>\n      <td>2019</td>\n      <td>15.8</td>\n    </tr>\n    <tr>\n      <th>318691</th>\n      <td>(주)메디라인액티브코리아Y32604</td>\n      <td>2020</td>\n      <td>12.22</td>\n    </tr>\n  </tbody>\n</table>\n<p>318692 rows × 3 columns</p>\n</div>"
     },
     "execution_count": 51,
     "metadata": {},
     "output_type": "execute_result"
    }
   ],
   "source": [
    "# 합치는 과정에서 중간의 겹치는 열 삭제\n",
    "data.drop(['level_1'], axis = 1, inplace = True)\n",
    "data.drop(['Unnamed: 2'], axis = 1, inplace = True)\n",
    "data\n",
    "ROA"
   ]
  },
  {
   "cell_type": "markdown",
   "id": "c856c194-ed13-448c-958e-8467de0edb03",
   "metadata": {},
   "source": [
    "### 변동 함수 설정"
   ]
  },
  {
   "cell_type": "markdown",
   "id": "70ac01e5-dc03-40b9-8fe1-1008aa70e652",
   "metadata": {},
   "source": [
    "##### 당기: 현재의 회계연도\n",
    "##### 전기: 직전년의 회계년도"
   ]
  },
  {
   "cell_type": "markdown",
   "id": "61502058-6297-4577-bee8-a3e396c4a6e2",
   "metadata": {},
   "source": [
    "#### (당기-전기)/전기"
   ]
  },
  {
   "cell_type": "code",
   "execution_count": 52,
   "id": "8b4abbaf-16f6-4ca1-8cd5-867661870f6f",
   "metadata": {},
   "outputs": [],
   "source": [
    "def fluctuation_1(df):\n",
    "    변동_idx = df.copy()\n",
    "    변동_idx = 변동_idx.loc[:, '2010':'2020'] # main index\n",
    "    for i in range(len(df.columns)-1):\n",
    "        변동_idx[df.columns[i+1]] =\\\n",
    "        (df[df.columns[i+1]]-df[df.columns[i]])/df[df.columns[i]]\n",
    "    return 변동_idx"
   ]
  },
  {
   "cell_type": "markdown",
   "id": "1b49f231-a4bf-42d4-9032-d3e833453513",
   "metadata": {},
   "source": [
    "#### 당기/전기"
   ]
  },
  {
   "cell_type": "code",
   "execution_count": 53,
   "id": "7d02d624-0f7c-4bee-8f55-a58f3cb2473c",
   "metadata": {},
   "outputs": [],
   "source": [
    "def fluctuation_2(df):\n",
    "    변동_idx = df.copy()\n",
    "    변동_idx = 변동_idx.loc[:, '2010':'2020']\n",
    "    for i in range(len(df.columns)-1):\n",
    "        변동_idx[df.columns[i+1]] =\\\n",
    "        df[df.columns[i+1]]/df[df.columns[i]]\n",
    "    return 변동_idx"
   ]
  },
  {
   "cell_type": "markdown",
   "id": "57151707-3870-4ff4-adb3-2500e73c6f51",
   "metadata": {},
   "source": [
    "#### 당기-전기"
   ]
  },
  {
   "cell_type": "code",
   "execution_count": 54,
   "id": "faf6cde0-ff5e-4187-989f-dd52ee55eafa",
   "metadata": {},
   "outputs": [],
   "source": [
    "def fluctuation_3(df):\n",
    "    변동_idx = df.copy()\n",
    "    변동_idx = 변동_idx.loc[:, '2010':'2020']\n",
    "    for i in range(len(df.columns)-1):\n",
    "        변동_idx[df.columns[i+1]] =\\\n",
    "        df[df.columns[i+1]]-df[df.columns[i]]\n",
    "    return 변동_idx"
   ]
  },
  {
   "cell_type": "markdown",
   "id": "bc9ac8d0-bf22-4d35-91da-65e447154e2d",
   "metadata": {
    "tags": []
   },
   "source": [
    "## 2. Setting Values"
   ]
  },
  {
   "cell_type": "markdown",
   "id": "0eb14ecf-cf6e-40ab-b097-804956c76acb",
   "metadata": {},
   "source": [
    "### 1) 주요왜곡표시 지표"
   ]
  },
  {
   "cell_type": "markdown",
   "id": "97547f99-847f-4835-809d-eab1c4462e6c",
   "metadata": {},
   "source": [
    "#### 매출채권회전율변동(ARTOpc)"
   ]
  },
  {
   "cell_type": "code",
   "execution_count": 55,
   "id": "3dffe580-c4d6-4c94-af01-ec0d8c2e22f2",
   "metadata": {},
   "outputs": [
    {
     "data": {
      "text/plain": "년도                       2010      2011      2012      2013      2014  \\\n기업명                                                                     \n(유)가든주류244534            8.54  0.345433 -0.372498 -0.217753 -0.145390   \n(유)건향개발I57907             NaN       NaN  0.476190       NaN       NaN   \n(유)국제에이엠씨M00154           NaN       NaN       NaN       NaN       NaN   \n(유)그랜드유니버셜트레이딩코리아I83725   NaN       NaN       NaN       NaN       NaN   \n(유)그룹세브코리아609692          NaN       NaN       NaN       NaN       NaN   \n...                       ...       ...       ...       ...       ...   \n히로세코리아(주)450090          7.55 -0.018543 -0.021592  0.017931  0.025745   \n히스보험중개(주)197675           NaN       NaN       NaN       NaN       NaN   \n히타치금속한국(주)041866         4.04  0.042079  0.016627 -0.105140 -0.190601   \n히타치하이테크코리아(주)380165      7.10 -0.053521 -0.087798  0.314845 -0.052109   \n힐티코리아(주)389471           4.83  0.078675  0.107486  0.100520  0.182677   \n\n년도                           2015      2016      2017      2018      2019  \\\n기업명                                                                         \n(유)가든주류244534            0.275934  0.339837 -0.297330  0.067358  0.224919   \n(유)건향개발I57907            6.992941  1.131292 -0.451381 -0.706949 -0.469072   \n(유)국제에이엠씨M00154               NaN  4.528571 -0.387597 -0.333333       NaN   \n(유)그랜드유니버셜트레이딩코리아I83725       NaN       NaN       NaN  0.251670 -0.225979   \n(유)그룹세브코리아609692              NaN       NaN       NaN       NaN       NaN   \n...                           ...       ...       ...       ...       ...   \n히로세코리아(주)450090         -0.221929  0.000000  0.106961  0.073620 -0.041429   \n히스보험중개(주)197675               NaN       NaN       NaN       NaN       NaN   \n히타치금속한국(주)041866         0.154839  0.636872  0.134812  0.066165 -0.101551   \n히타치하이테크코리아(주)380165     -0.091623 -0.034582 -0.083582  0.337134  0.181486   \n힐티코리아(주)389471           0.009321 -0.005277  0.025199 -0.027167  0.013298   \n\n년도                           2020  \n기업명                                \n(유)가든주류244534           -0.216645  \n(유)건향개발I57907           -0.011327  \n(유)국제에이엠씨M00154               NaN  \n(유)그랜드유니버셜트레이딩코리아I83725  0.243678  \n(유)그룹세브코리아609692         0.040816  \n...                           ...  \n히로세코리아(주)450090          0.175857  \n히스보험중개(주)197675               NaN  \n히타치금속한국(주)041866         0.078493  \n히타치하이테크코리아(주)380165      0.009278  \n힐티코리아(주)389471          -0.001312  \n\n[28972 rows x 11 columns]",
      "text/html": "<div>\n<style scoped>\n    .dataframe tbody tr th:only-of-type {\n        vertical-align: middle;\n    }\n\n    .dataframe tbody tr th {\n        vertical-align: top;\n    }\n\n    .dataframe thead th {\n        text-align: right;\n    }\n</style>\n<table border=\"1\" class=\"dataframe\">\n  <thead>\n    <tr style=\"text-align: right;\">\n      <th>년도</th>\n      <th>2010</th>\n      <th>2011</th>\n      <th>2012</th>\n      <th>2013</th>\n      <th>2014</th>\n      <th>2015</th>\n      <th>2016</th>\n      <th>2017</th>\n      <th>2018</th>\n      <th>2019</th>\n      <th>2020</th>\n    </tr>\n    <tr>\n      <th>기업명</th>\n      <th></th>\n      <th></th>\n      <th></th>\n      <th></th>\n      <th></th>\n      <th></th>\n      <th></th>\n      <th></th>\n      <th></th>\n      <th></th>\n      <th></th>\n    </tr>\n  </thead>\n  <tbody>\n    <tr>\n      <th>(유)가든주류244534</th>\n      <td>8.54</td>\n      <td>0.345433</td>\n      <td>-0.372498</td>\n      <td>-0.217753</td>\n      <td>-0.145390</td>\n      <td>0.275934</td>\n      <td>0.339837</td>\n      <td>-0.297330</td>\n      <td>0.067358</td>\n      <td>0.224919</td>\n      <td>-0.216645</td>\n    </tr>\n    <tr>\n      <th>(유)건향개발I57907</th>\n      <td>NaN</td>\n      <td>NaN</td>\n      <td>0.476190</td>\n      <td>NaN</td>\n      <td>NaN</td>\n      <td>6.992941</td>\n      <td>1.131292</td>\n      <td>-0.451381</td>\n      <td>-0.706949</td>\n      <td>-0.469072</td>\n      <td>-0.011327</td>\n    </tr>\n    <tr>\n      <th>(유)국제에이엠씨M00154</th>\n      <td>NaN</td>\n      <td>NaN</td>\n      <td>NaN</td>\n      <td>NaN</td>\n      <td>NaN</td>\n      <td>NaN</td>\n      <td>4.528571</td>\n      <td>-0.387597</td>\n      <td>-0.333333</td>\n      <td>NaN</td>\n      <td>NaN</td>\n    </tr>\n    <tr>\n      <th>(유)그랜드유니버셜트레이딩코리아I83725</th>\n      <td>NaN</td>\n      <td>NaN</td>\n      <td>NaN</td>\n      <td>NaN</td>\n      <td>NaN</td>\n      <td>NaN</td>\n      <td>NaN</td>\n      <td>NaN</td>\n      <td>0.251670</td>\n      <td>-0.225979</td>\n      <td>0.243678</td>\n    </tr>\n    <tr>\n      <th>(유)그룹세브코리아609692</th>\n      <td>NaN</td>\n      <td>NaN</td>\n      <td>NaN</td>\n      <td>NaN</td>\n      <td>NaN</td>\n      <td>NaN</td>\n      <td>NaN</td>\n      <td>NaN</td>\n      <td>NaN</td>\n      <td>NaN</td>\n      <td>0.040816</td>\n    </tr>\n    <tr>\n      <th>...</th>\n      <td>...</td>\n      <td>...</td>\n      <td>...</td>\n      <td>...</td>\n      <td>...</td>\n      <td>...</td>\n      <td>...</td>\n      <td>...</td>\n      <td>...</td>\n      <td>...</td>\n      <td>...</td>\n    </tr>\n    <tr>\n      <th>히로세코리아(주)450090</th>\n      <td>7.55</td>\n      <td>-0.018543</td>\n      <td>-0.021592</td>\n      <td>0.017931</td>\n      <td>0.025745</td>\n      <td>-0.221929</td>\n      <td>0.000000</td>\n      <td>0.106961</td>\n      <td>0.073620</td>\n      <td>-0.041429</td>\n      <td>0.175857</td>\n    </tr>\n    <tr>\n      <th>히스보험중개(주)197675</th>\n      <td>NaN</td>\n      <td>NaN</td>\n      <td>NaN</td>\n      <td>NaN</td>\n      <td>NaN</td>\n      <td>NaN</td>\n      <td>NaN</td>\n      <td>NaN</td>\n      <td>NaN</td>\n      <td>NaN</td>\n      <td>NaN</td>\n    </tr>\n    <tr>\n      <th>히타치금속한국(주)041866</th>\n      <td>4.04</td>\n      <td>0.042079</td>\n      <td>0.016627</td>\n      <td>-0.105140</td>\n      <td>-0.190601</td>\n      <td>0.154839</td>\n      <td>0.636872</td>\n      <td>0.134812</td>\n      <td>0.066165</td>\n      <td>-0.101551</td>\n      <td>0.078493</td>\n    </tr>\n    <tr>\n      <th>히타치하이테크코리아(주)380165</th>\n      <td>7.10</td>\n      <td>-0.053521</td>\n      <td>-0.087798</td>\n      <td>0.314845</td>\n      <td>-0.052109</td>\n      <td>-0.091623</td>\n      <td>-0.034582</td>\n      <td>-0.083582</td>\n      <td>0.337134</td>\n      <td>0.181486</td>\n      <td>0.009278</td>\n    </tr>\n    <tr>\n      <th>힐티코리아(주)389471</th>\n      <td>4.83</td>\n      <td>0.078675</td>\n      <td>0.107486</td>\n      <td>0.100520</td>\n      <td>0.182677</td>\n      <td>0.009321</td>\n      <td>-0.005277</td>\n      <td>0.025199</td>\n      <td>-0.027167</td>\n      <td>0.013298</td>\n      <td>-0.001312</td>\n    </tr>\n  </tbody>\n</table>\n<p>28972 rows × 11 columns</p>\n</div>"
     },
     "execution_count": 55,
     "metadata": {},
     "output_type": "execute_result"
    }
   ],
   "source": [
    "data.매출채권회전율 = pd.to_numeric(data.매출채권회전율) #숫자형으로 바꾸기\n",
    "매출채권회전율_idx = data.pivot_table(columns='년도', index = '기업명', values='매출채권회전율', aggfunc='mean', dropna=False) #년도 열 데이터를 행 데이터로 만들기, NaN 포함\n",
    "매출채권회전율_변동_idx = fluctuation_1(매출채권회전율_idx)\n",
    "매출채권회전율_변동_idx"
   ]
  },
  {
   "cell_type": "markdown",
   "id": "d877ec99-ab2f-48dd-91e8-fbba2ab6bd8b",
   "metadata": {},
   "source": [
    "#### 재고자산회전율변동(APTOpc)"
   ]
  },
  {
   "cell_type": "code",
   "execution_count": 56,
   "id": "7129b48b-4e9e-4415-bd8d-e8e669b21dab",
   "metadata": {},
   "outputs": [
    {
     "data": {
      "text/plain": "년도                        2010      2011      2012      2013      2014  \\\n기업명                                                                      \n(유)가든주류244534            13.29 -0.102333 -0.041911  0.363080  0.345956   \n(유)건향개발I57907              NaN       NaN       NaN       NaN       NaN   \n(유)국제에이엠씨M00154            NaN       NaN       NaN       NaN       NaN   \n(유)그랜드유니버셜트레이딩코리아I83725    NaN       NaN       NaN       NaN       NaN   \n(유)그룹세브코리아609692           NaN       NaN       NaN       NaN       NaN   \n...                        ...       ...       ...       ...       ...   \n히로세코리아(주)450090          18.11 -0.247929 -0.019824  0.358052  0.244346   \n히스보험중개(주)197675            NaN       NaN       NaN       NaN       NaN   \n히타치금속한국(주)041866          4.44 -0.094595 -0.027363  0.227621 -0.035417   \n히타치하이테크코리아(주)380165      19.62  0.594292 -0.147379  0.208474  0.133106   \n힐티코리아(주)389471            6.34 -0.072555  0.022109  0.006656  0.142149   \n\n년도                           2015      2016      2017      2018      2019  \\\n기업명                                                                         \n(유)가든주류244534            0.228422 -0.198370 -0.062470  0.013430 -0.015800   \n(유)건향개발I57907                 NaN -0.862079 -0.187572  2.679380  1.632373   \n(유)국제에이엠씨M00154               NaN       NaN       NaN       NaN       NaN   \n(유)그랜드유니버셜트레이딩코리아I83725       NaN       NaN       NaN  0.507400 -0.040673   \n(유)그룹세브코리아609692              NaN       NaN       NaN       NaN       NaN   \n...                           ...       ...       ...       ...       ...   \n히로세코리아(주)450090         -0.144504  0.023834  0.022773 -0.255319 -0.124917   \n히스보험중개(주)197675               NaN       NaN       NaN       NaN       NaN   \n히타치금속한국(주)041866         0.328294  0.430894  0.082955 -0.049318 -0.066225   \n히타치하이테크코리아(주)380165     -0.077492 -0.064411  0.050127  0.163142 -0.441558   \n힐티코리아(주)389471          -0.086831 -0.003170 -0.007949 -0.088141  0.079086   \n\n년도                           2020  \n기업명                                \n(유)가든주류244534           -0.009839  \n(유)건향개발I57907            0.079725  \n(유)국제에이엠씨M00154               NaN  \n(유)그랜드유니버셜트레이딩코리아I83725 -0.057018  \n(유)그룹세브코리아609692         0.052117  \n...                           ...  \n히로세코리아(주)450090          0.109339  \n히스보험중개(주)197675               NaN  \n히타치금속한국(주)041866         0.314421  \n히타치하이테크코리아(주)380165     -0.533953  \n힐티코리아(주)389471          -0.024430  \n\n[28972 rows x 11 columns]",
      "text/html": "<div>\n<style scoped>\n    .dataframe tbody tr th:only-of-type {\n        vertical-align: middle;\n    }\n\n    .dataframe tbody tr th {\n        vertical-align: top;\n    }\n\n    .dataframe thead th {\n        text-align: right;\n    }\n</style>\n<table border=\"1\" class=\"dataframe\">\n  <thead>\n    <tr style=\"text-align: right;\">\n      <th>년도</th>\n      <th>2010</th>\n      <th>2011</th>\n      <th>2012</th>\n      <th>2013</th>\n      <th>2014</th>\n      <th>2015</th>\n      <th>2016</th>\n      <th>2017</th>\n      <th>2018</th>\n      <th>2019</th>\n      <th>2020</th>\n    </tr>\n    <tr>\n      <th>기업명</th>\n      <th></th>\n      <th></th>\n      <th></th>\n      <th></th>\n      <th></th>\n      <th></th>\n      <th></th>\n      <th></th>\n      <th></th>\n      <th></th>\n      <th></th>\n    </tr>\n  </thead>\n  <tbody>\n    <tr>\n      <th>(유)가든주류244534</th>\n      <td>13.29</td>\n      <td>-0.102333</td>\n      <td>-0.041911</td>\n      <td>0.363080</td>\n      <td>0.345956</td>\n      <td>0.228422</td>\n      <td>-0.198370</td>\n      <td>-0.062470</td>\n      <td>0.013430</td>\n      <td>-0.015800</td>\n      <td>-0.009839</td>\n    </tr>\n    <tr>\n      <th>(유)건향개발I57907</th>\n      <td>NaN</td>\n      <td>NaN</td>\n      <td>NaN</td>\n      <td>NaN</td>\n      <td>NaN</td>\n      <td>NaN</td>\n      <td>-0.862079</td>\n      <td>-0.187572</td>\n      <td>2.679380</td>\n      <td>1.632373</td>\n      <td>0.079725</td>\n    </tr>\n    <tr>\n      <th>(유)국제에이엠씨M00154</th>\n      <td>NaN</td>\n      <td>NaN</td>\n      <td>NaN</td>\n      <td>NaN</td>\n      <td>NaN</td>\n      <td>NaN</td>\n      <td>NaN</td>\n      <td>NaN</td>\n      <td>NaN</td>\n      <td>NaN</td>\n      <td>NaN</td>\n    </tr>\n    <tr>\n      <th>(유)그랜드유니버셜트레이딩코리아I83725</th>\n      <td>NaN</td>\n      <td>NaN</td>\n      <td>NaN</td>\n      <td>NaN</td>\n      <td>NaN</td>\n      <td>NaN</td>\n      <td>NaN</td>\n      <td>NaN</td>\n      <td>0.507400</td>\n      <td>-0.040673</td>\n      <td>-0.057018</td>\n    </tr>\n    <tr>\n      <th>(유)그룹세브코리아609692</th>\n      <td>NaN</td>\n      <td>NaN</td>\n      <td>NaN</td>\n      <td>NaN</td>\n      <td>NaN</td>\n      <td>NaN</td>\n      <td>NaN</td>\n      <td>NaN</td>\n      <td>NaN</td>\n      <td>NaN</td>\n      <td>0.052117</td>\n    </tr>\n    <tr>\n      <th>...</th>\n      <td>...</td>\n      <td>...</td>\n      <td>...</td>\n      <td>...</td>\n      <td>...</td>\n      <td>...</td>\n      <td>...</td>\n      <td>...</td>\n      <td>...</td>\n      <td>...</td>\n      <td>...</td>\n    </tr>\n    <tr>\n      <th>히로세코리아(주)450090</th>\n      <td>18.11</td>\n      <td>-0.247929</td>\n      <td>-0.019824</td>\n      <td>0.358052</td>\n      <td>0.244346</td>\n      <td>-0.144504</td>\n      <td>0.023834</td>\n      <td>0.022773</td>\n      <td>-0.255319</td>\n      <td>-0.124917</td>\n      <td>0.109339</td>\n    </tr>\n    <tr>\n      <th>히스보험중개(주)197675</th>\n      <td>NaN</td>\n      <td>NaN</td>\n      <td>NaN</td>\n      <td>NaN</td>\n      <td>NaN</td>\n      <td>NaN</td>\n      <td>NaN</td>\n      <td>NaN</td>\n      <td>NaN</td>\n      <td>NaN</td>\n      <td>NaN</td>\n    </tr>\n    <tr>\n      <th>히타치금속한국(주)041866</th>\n      <td>4.44</td>\n      <td>-0.094595</td>\n      <td>-0.027363</td>\n      <td>0.227621</td>\n      <td>-0.035417</td>\n      <td>0.328294</td>\n      <td>0.430894</td>\n      <td>0.082955</td>\n      <td>-0.049318</td>\n      <td>-0.066225</td>\n      <td>0.314421</td>\n    </tr>\n    <tr>\n      <th>히타치하이테크코리아(주)380165</th>\n      <td>19.62</td>\n      <td>0.594292</td>\n      <td>-0.147379</td>\n      <td>0.208474</td>\n      <td>0.133106</td>\n      <td>-0.077492</td>\n      <td>-0.064411</td>\n      <td>0.050127</td>\n      <td>0.163142</td>\n      <td>-0.441558</td>\n      <td>-0.533953</td>\n    </tr>\n    <tr>\n      <th>힐티코리아(주)389471</th>\n      <td>6.34</td>\n      <td>-0.072555</td>\n      <td>0.022109</td>\n      <td>0.006656</td>\n      <td>0.142149</td>\n      <td>-0.086831</td>\n      <td>-0.003170</td>\n      <td>-0.007949</td>\n      <td>-0.088141</td>\n      <td>0.079086</td>\n      <td>-0.024430</td>\n    </tr>\n  </tbody>\n</table>\n<p>28972 rows × 11 columns</p>\n</div>"
     },
     "execution_count": 56,
     "metadata": {},
     "output_type": "execute_result"
    }
   ],
   "source": [
    "data.재고자산회전율 = pd.to_numeric(data.재고자산회전율)\n",
    "재고자산회전율_idx = data.pivot_table(columns='년도', index = '기업명', values='재고자산회전율', aggfunc='mean', dropna=False)\n",
    "재고자산회전율_변동_idx = fluctuation_1(재고자산회전율_idx)\n",
    "재고자산회전율_변동_idx"
   ]
  },
  {
   "cell_type": "markdown",
   "id": "e87b47d2-714e-42f6-b577-f409a91616ef",
   "metadata": {},
   "source": [
    "#### 대손충당금율변동(ABDpc)"
   ]
  },
  {
   "cell_type": "code",
   "execution_count": 57,
   "id": "0466a016-b6c5-426d-a687-48d1c1d7f156",
   "metadata": {},
   "outputs": [],
   "source": [
    "data.장기매출채권대손충당금 = data.장기매출채권대손충당금.fillna(0) #결측값 0으로 채우기\n",
    "data.매출채권대손충당금 = data.매출채권대손충당금.fillna(0)\n",
    "data['대손충당금'] = data.장기매출채권대손충당금 + data.매출채권대손충당금 #Pandas는 새 열이 변수명으로 생성되는 것을 금지하고 있어서"
   ]
  },
  {
   "cell_type": "code",
   "execution_count": 58,
   "id": "798d37d4-545e-48b1-9794-831f2c9c7284",
   "metadata": {},
   "outputs": [],
   "source": [
    "data.장기매출채권 = data.장기매출채권.fillna(0)\n",
    "data.매출채권 = data.매출채권.fillna(0)\n",
    "data['매출채권'] = data.장기매출채권 + data.매출채권"
   ]
  },
  {
   "cell_type": "code",
   "execution_count": 59,
   "id": "8f77a9ff-af03-4cd6-9494-96c360192e5b",
   "metadata": {},
   "outputs": [],
   "source": [
    "data['대손충당금율'] = data.대손충당금 / data.매출채권"
   ]
  },
  {
   "cell_type": "code",
   "execution_count": 60,
   "id": "afb85f1a-4b36-482a-ad97-d9886725990a",
   "metadata": {},
   "outputs": [
    {
     "data": {
      "text/plain": "년도                           2010      2011      2012      2013      2014  \\\n기업명                                                                         \n(유)가든주류244534            0.000000       NaN       NaN  0.827051  0.916581   \n(유)건향개발I57907                 NaN       NaN       NaN       NaN       NaN   \n(유)국제에이엠씨M00154               NaN       NaN       NaN       NaN       NaN   \n(유)그랜드유니버셜트레이딩코리아I83725       NaN       NaN       NaN       NaN       NaN   \n(유)그룹세브코리아609692              NaN       NaN       NaN       NaN       NaN   \n...                           ...       ...       ...       ...       ...   \n히로세코리아(주)450090          0.010180  1.003404  1.136997  0.957066  0.981577   \n히스보험중개(주)197675               NaN       NaN       NaN       NaN       NaN   \n히타치금속한국(주)041866         0.013304  0.951623  0.976347  0.834490  1.439756   \n히타치하이테크코리아(주)380165      0.010101  0.999999  1.000009  1.000000  0.000000   \n힐티코리아(주)389471           0.416739  0.700740  1.236349  0.757197  0.959512   \n\n년도                           2015      2016      2017      2018      2019  \\\n기업명                                                                         \n(유)가든주류244534            1.809184  0.822296  0.559265  1.472923  0.826488   \n(유)건향개발I57907                 NaN       NaN       NaN       NaN       NaN   \n(유)국제에이엠씨M00154               NaN       NaN       NaN       NaN       NaN   \n(유)그랜드유니버셜트레이딩코리아I83725       NaN       NaN       NaN  0.983976  0.798750   \n(유)그룹세브코리아609692              NaN       NaN       NaN       NaN       NaN   \n...                           ...       ...       ...       ...       ...   \n히로세코리아(주)450090          1.192805  0.856061  1.006253  1.010593  0.000000   \n히스보험중개(주)197675               NaN       NaN       NaN       NaN       NaN   \n히타치금속한국(주)041866         0.881383  1.134861  0.645624  0.963669  1.302758   \n히타치하이테크코리아(주)380165           NaN       NaN       NaN       NaN       NaN   \n힐티코리아(주)389471           0.729622  0.969011  0.812777  0.865167  1.046623   \n\n년도                           2020  \n기업명                                \n(유)가든주류244534            0.000000  \n(유)건향개발I57907                 NaN  \n(유)국제에이엠씨M00154               NaN  \n(유)그랜드유니버셜트레이딩코리아I83725  0.773256  \n(유)그룹세브코리아609692         1.292898  \n...                           ...  \n히로세코리아(주)450090               NaN  \n히스보험중개(주)197675               NaN  \n히타치금속한국(주)041866         0.250961  \n히타치하이테크코리아(주)380165           NaN  \n힐티코리아(주)389471           0.985369  \n\n[28972 rows x 11 columns]",
      "text/html": "<div>\n<style scoped>\n    .dataframe tbody tr th:only-of-type {\n        vertical-align: middle;\n    }\n\n    .dataframe tbody tr th {\n        vertical-align: top;\n    }\n\n    .dataframe thead th {\n        text-align: right;\n    }\n</style>\n<table border=\"1\" class=\"dataframe\">\n  <thead>\n    <tr style=\"text-align: right;\">\n      <th>년도</th>\n      <th>2010</th>\n      <th>2011</th>\n      <th>2012</th>\n      <th>2013</th>\n      <th>2014</th>\n      <th>2015</th>\n      <th>2016</th>\n      <th>2017</th>\n      <th>2018</th>\n      <th>2019</th>\n      <th>2020</th>\n    </tr>\n    <tr>\n      <th>기업명</th>\n      <th></th>\n      <th></th>\n      <th></th>\n      <th></th>\n      <th></th>\n      <th></th>\n      <th></th>\n      <th></th>\n      <th></th>\n      <th></th>\n      <th></th>\n    </tr>\n  </thead>\n  <tbody>\n    <tr>\n      <th>(유)가든주류244534</th>\n      <td>0.000000</td>\n      <td>NaN</td>\n      <td>NaN</td>\n      <td>0.827051</td>\n      <td>0.916581</td>\n      <td>1.809184</td>\n      <td>0.822296</td>\n      <td>0.559265</td>\n      <td>1.472923</td>\n      <td>0.826488</td>\n      <td>0.000000</td>\n    </tr>\n    <tr>\n      <th>(유)건향개발I57907</th>\n      <td>NaN</td>\n      <td>NaN</td>\n      <td>NaN</td>\n      <td>NaN</td>\n      <td>NaN</td>\n      <td>NaN</td>\n      <td>NaN</td>\n      <td>NaN</td>\n      <td>NaN</td>\n      <td>NaN</td>\n      <td>NaN</td>\n    </tr>\n    <tr>\n      <th>(유)국제에이엠씨M00154</th>\n      <td>NaN</td>\n      <td>NaN</td>\n      <td>NaN</td>\n      <td>NaN</td>\n      <td>NaN</td>\n      <td>NaN</td>\n      <td>NaN</td>\n      <td>NaN</td>\n      <td>NaN</td>\n      <td>NaN</td>\n      <td>NaN</td>\n    </tr>\n    <tr>\n      <th>(유)그랜드유니버셜트레이딩코리아I83725</th>\n      <td>NaN</td>\n      <td>NaN</td>\n      <td>NaN</td>\n      <td>NaN</td>\n      <td>NaN</td>\n      <td>NaN</td>\n      <td>NaN</td>\n      <td>NaN</td>\n      <td>0.983976</td>\n      <td>0.798750</td>\n      <td>0.773256</td>\n    </tr>\n    <tr>\n      <th>(유)그룹세브코리아609692</th>\n      <td>NaN</td>\n      <td>NaN</td>\n      <td>NaN</td>\n      <td>NaN</td>\n      <td>NaN</td>\n      <td>NaN</td>\n      <td>NaN</td>\n      <td>NaN</td>\n      <td>NaN</td>\n      <td>NaN</td>\n      <td>1.292898</td>\n    </tr>\n    <tr>\n      <th>...</th>\n      <td>...</td>\n      <td>...</td>\n      <td>...</td>\n      <td>...</td>\n      <td>...</td>\n      <td>...</td>\n      <td>...</td>\n      <td>...</td>\n      <td>...</td>\n      <td>...</td>\n      <td>...</td>\n    </tr>\n    <tr>\n      <th>히로세코리아(주)450090</th>\n      <td>0.010180</td>\n      <td>1.003404</td>\n      <td>1.136997</td>\n      <td>0.957066</td>\n      <td>0.981577</td>\n      <td>1.192805</td>\n      <td>0.856061</td>\n      <td>1.006253</td>\n      <td>1.010593</td>\n      <td>0.000000</td>\n      <td>NaN</td>\n    </tr>\n    <tr>\n      <th>히스보험중개(주)197675</th>\n      <td>NaN</td>\n      <td>NaN</td>\n      <td>NaN</td>\n      <td>NaN</td>\n      <td>NaN</td>\n      <td>NaN</td>\n      <td>NaN</td>\n      <td>NaN</td>\n      <td>NaN</td>\n      <td>NaN</td>\n      <td>NaN</td>\n    </tr>\n    <tr>\n      <th>히타치금속한국(주)041866</th>\n      <td>0.013304</td>\n      <td>0.951623</td>\n      <td>0.976347</td>\n      <td>0.834490</td>\n      <td>1.439756</td>\n      <td>0.881383</td>\n      <td>1.134861</td>\n      <td>0.645624</td>\n      <td>0.963669</td>\n      <td>1.302758</td>\n      <td>0.250961</td>\n    </tr>\n    <tr>\n      <th>히타치하이테크코리아(주)380165</th>\n      <td>0.010101</td>\n      <td>0.999999</td>\n      <td>1.000009</td>\n      <td>1.000000</td>\n      <td>0.000000</td>\n      <td>NaN</td>\n      <td>NaN</td>\n      <td>NaN</td>\n      <td>NaN</td>\n      <td>NaN</td>\n      <td>NaN</td>\n    </tr>\n    <tr>\n      <th>힐티코리아(주)389471</th>\n      <td>0.416739</td>\n      <td>0.700740</td>\n      <td>1.236349</td>\n      <td>0.757197</td>\n      <td>0.959512</td>\n      <td>0.729622</td>\n      <td>0.969011</td>\n      <td>0.812777</td>\n      <td>0.865167</td>\n      <td>1.046623</td>\n      <td>0.985369</td>\n    </tr>\n  </tbody>\n</table>\n<p>28972 rows × 11 columns</p>\n</div>"
     },
     "execution_count": 60,
     "metadata": {},
     "output_type": "execute_result"
    }
   ],
   "source": [
    "data.대손충당금율 = pd.to_numeric(data.대손충당금율)\n",
    "대손충당금율_idx = data.pivot_table(columns='년도', index = '기업명', values='대손충당금율', aggfunc='mean', dropna=False)\n",
    "대손충당금율_변동_idx = fluctuation_2(대손충당금율_idx)\n",
    "대손충당금율_변동_idx = 대손충당금율_변동_idx.replace([np.inf, -np.inf], np.nan) #inf를 NaN으로 처리\n",
    "대손충당금율_변동_idx"
   ]
  },
  {
   "cell_type": "markdown",
   "id": "4b70db5c-e9a8-49ca-a0a6-de8fd125c4cb",
   "metadata": {},
   "source": [
    "### 2) 안정성 지표"
   ]
  },
  {
   "cell_type": "markdown",
   "id": "f2e8e4ae-2034-4606-a3a8-f912c1e84d10",
   "metadata": {},
   "source": [
    "#### 유동비율변동(CRpc)"
   ]
  },
  {
   "cell_type": "code",
   "execution_count": 61,
   "id": "0b9c2ca7-cd89-4d59-a4b0-334733605059",
   "metadata": {},
   "outputs": [
    {
     "data": {
      "text/plain": "년도                         2010      2011      2012      2013      2014  \\\n기업명                                                                       \n(유)가든주류244534             86.77  1.396796  1.571617  1.066254  1.215608   \n(유)건향개발I57907               NaN       NaN  0.554037  1.849915  1.107321   \n(유)국제에이엠씨M00154             NaN       NaN       NaN       NaN       NaN   \n(유)그랜드유니버셜트레이딩코리아I83725     NaN       NaN       NaN       NaN       NaN   \n(유)그룹세브코리아609692            NaN       NaN       NaN       NaN       NaN   \n...                         ...       ...       ...       ...       ...   \n히로세코리아(주)450090          282.04  1.204297  0.783401  0.764516  1.435236   \n히스보험중개(주)197675          310.80  0.593694  1.527964  0.798113  0.916896   \n히타치금속한국(주)041866         175.92  0.960834  0.764894  1.516436  1.017138   \n히타치하이테크코리아(주)380165      272.87  1.051929  1.389249  1.368007  1.104176   \n힐티코리아(주)389471           250.36  1.184894  0.804349  0.956708  1.116524   \n\n년도                           2015      2016      2017      2018      2019  \\\n기업명                                                                         \n(유)가든주류244534            0.912876  1.228636  0.912968  0.893912  1.075534   \n(유)건향개발I57907            0.371155  0.988566  0.996101  0.718051  1.170710   \n(유)국제에이엠씨M00154          0.241069  6.743952  0.882063  0.867988  0.991410   \n(유)그랜드유니버셜트레이딩코리아I83725       NaN       NaN       NaN  0.782303  1.070694   \n(유)그룹세브코리아609692              NaN       NaN       NaN       NaN       NaN   \n...                           ...       ...       ...       ...       ...   \n히로세코리아(주)450090          1.553208  0.965887  1.293548  1.532174  0.766982   \n히스보험중개(주)197675          1.053800  0.837135  1.322730  0.748162  1.191372   \n히타치금속한국(주)041866         1.703691  0.812244  0.812908  0.970267  1.076955   \n히타치하이테크코리아(주)380165      0.744318  0.723000  1.113188  0.894219  0.833886   \n힐티코리아(주)389471           0.950683  1.207585  0.942346  1.077972  0.998150   \n\n년도                           2020  \n기업명                                \n(유)가든주류244534            0.528223  \n(유)건향개발I57907            1.037560  \n(유)국제에이엠씨M00154          0.798543  \n(유)그랜드유니버셜트레이딩코리아I83725  1.296969  \n(유)그룹세브코리아609692         0.979783  \n...                           ...  \n히로세코리아(주)450090          0.689565  \n히스보험중개(주)197675          1.113099  \n히타치금속한국(주)041866         0.982893  \n히타치하이테크코리아(주)380165      1.290965  \n힐티코리아(주)389471           0.764198  \n\n[28972 rows x 11 columns]",
      "text/html": "<div>\n<style scoped>\n    .dataframe tbody tr th:only-of-type {\n        vertical-align: middle;\n    }\n\n    .dataframe tbody tr th {\n        vertical-align: top;\n    }\n\n    .dataframe thead th {\n        text-align: right;\n    }\n</style>\n<table border=\"1\" class=\"dataframe\">\n  <thead>\n    <tr style=\"text-align: right;\">\n      <th>년도</th>\n      <th>2010</th>\n      <th>2011</th>\n      <th>2012</th>\n      <th>2013</th>\n      <th>2014</th>\n      <th>2015</th>\n      <th>2016</th>\n      <th>2017</th>\n      <th>2018</th>\n      <th>2019</th>\n      <th>2020</th>\n    </tr>\n    <tr>\n      <th>기업명</th>\n      <th></th>\n      <th></th>\n      <th></th>\n      <th></th>\n      <th></th>\n      <th></th>\n      <th></th>\n      <th></th>\n      <th></th>\n      <th></th>\n      <th></th>\n    </tr>\n  </thead>\n  <tbody>\n    <tr>\n      <th>(유)가든주류244534</th>\n      <td>86.77</td>\n      <td>1.396796</td>\n      <td>1.571617</td>\n      <td>1.066254</td>\n      <td>1.215608</td>\n      <td>0.912876</td>\n      <td>1.228636</td>\n      <td>0.912968</td>\n      <td>0.893912</td>\n      <td>1.075534</td>\n      <td>0.528223</td>\n    </tr>\n    <tr>\n      <th>(유)건향개발I57907</th>\n      <td>NaN</td>\n      <td>NaN</td>\n      <td>0.554037</td>\n      <td>1.849915</td>\n      <td>1.107321</td>\n      <td>0.371155</td>\n      <td>0.988566</td>\n      <td>0.996101</td>\n      <td>0.718051</td>\n      <td>1.170710</td>\n      <td>1.037560</td>\n    </tr>\n    <tr>\n      <th>(유)국제에이엠씨M00154</th>\n      <td>NaN</td>\n      <td>NaN</td>\n      <td>NaN</td>\n      <td>NaN</td>\n      <td>NaN</td>\n      <td>0.241069</td>\n      <td>6.743952</td>\n      <td>0.882063</td>\n      <td>0.867988</td>\n      <td>0.991410</td>\n      <td>0.798543</td>\n    </tr>\n    <tr>\n      <th>(유)그랜드유니버셜트레이딩코리아I83725</th>\n      <td>NaN</td>\n      <td>NaN</td>\n      <td>NaN</td>\n      <td>NaN</td>\n      <td>NaN</td>\n      <td>NaN</td>\n      <td>NaN</td>\n      <td>NaN</td>\n      <td>0.782303</td>\n      <td>1.070694</td>\n      <td>1.296969</td>\n    </tr>\n    <tr>\n      <th>(유)그룹세브코리아609692</th>\n      <td>NaN</td>\n      <td>NaN</td>\n      <td>NaN</td>\n      <td>NaN</td>\n      <td>NaN</td>\n      <td>NaN</td>\n      <td>NaN</td>\n      <td>NaN</td>\n      <td>NaN</td>\n      <td>NaN</td>\n      <td>0.979783</td>\n    </tr>\n    <tr>\n      <th>...</th>\n      <td>...</td>\n      <td>...</td>\n      <td>...</td>\n      <td>...</td>\n      <td>...</td>\n      <td>...</td>\n      <td>...</td>\n      <td>...</td>\n      <td>...</td>\n      <td>...</td>\n      <td>...</td>\n    </tr>\n    <tr>\n      <th>히로세코리아(주)450090</th>\n      <td>282.04</td>\n      <td>1.204297</td>\n      <td>0.783401</td>\n      <td>0.764516</td>\n      <td>1.435236</td>\n      <td>1.553208</td>\n      <td>0.965887</td>\n      <td>1.293548</td>\n      <td>1.532174</td>\n      <td>0.766982</td>\n      <td>0.689565</td>\n    </tr>\n    <tr>\n      <th>히스보험중개(주)197675</th>\n      <td>310.80</td>\n      <td>0.593694</td>\n      <td>1.527964</td>\n      <td>0.798113</td>\n      <td>0.916896</td>\n      <td>1.053800</td>\n      <td>0.837135</td>\n      <td>1.322730</td>\n      <td>0.748162</td>\n      <td>1.191372</td>\n      <td>1.113099</td>\n    </tr>\n    <tr>\n      <th>히타치금속한국(주)041866</th>\n      <td>175.92</td>\n      <td>0.960834</td>\n      <td>0.764894</td>\n      <td>1.516436</td>\n      <td>1.017138</td>\n      <td>1.703691</td>\n      <td>0.812244</td>\n      <td>0.812908</td>\n      <td>0.970267</td>\n      <td>1.076955</td>\n      <td>0.982893</td>\n    </tr>\n    <tr>\n      <th>히타치하이테크코리아(주)380165</th>\n      <td>272.87</td>\n      <td>1.051929</td>\n      <td>1.389249</td>\n      <td>1.368007</td>\n      <td>1.104176</td>\n      <td>0.744318</td>\n      <td>0.723000</td>\n      <td>1.113188</td>\n      <td>0.894219</td>\n      <td>0.833886</td>\n      <td>1.290965</td>\n    </tr>\n    <tr>\n      <th>힐티코리아(주)389471</th>\n      <td>250.36</td>\n      <td>1.184894</td>\n      <td>0.804349</td>\n      <td>0.956708</td>\n      <td>1.116524</td>\n      <td>0.950683</td>\n      <td>1.207585</td>\n      <td>0.942346</td>\n      <td>1.077972</td>\n      <td>0.998150</td>\n      <td>0.764198</td>\n    </tr>\n  </tbody>\n</table>\n<p>28972 rows × 11 columns</p>\n</div>"
     },
     "execution_count": 61,
     "metadata": {},
     "output_type": "execute_result"
    }
   ],
   "source": [
    "data.유동비율 = pd.to_numeric(data.유동비율)\n",
    "유동비율_idx = data.pivot_table(columns='년도', index = '기업명', values='유동비율', aggfunc='mean', dropna=False)\n",
    "유동비율_변동_idx = fluctuation_2(유동비율_idx)\n",
    "유동비율_변동_idx"
   ]
  },
  {
   "cell_type": "markdown",
   "id": "a586a191-00c7-4b46-bece-7992c6ecc58e",
   "metadata": {},
   "source": [
    "#### 부채비율(DR)"
   ]
  },
  {
   "cell_type": "code",
   "execution_count": 62,
   "id": "3f3475a9-0cb4-47e1-92ba-8cd99c7aaf37",
   "metadata": {},
   "outputs": [
    {
     "data": {
      "text/plain": "년도                         2010    2011    2012    2013    2014    2015  \\\n기업명                                                                       \n(유)가든주류244534            268.28  305.10  218.57  186.48  152.21  139.19   \n(유)건향개발I57907               NaN   36.95   73.95   31.27   34.31   88.27   \n(유)국제에이엠씨M00154             NaN     NaN     NaN     NaN  424.85  102.11   \n(유)그랜드유니버셜트레이딩코리아I83725     NaN     NaN     NaN  984.06     NaN     NaN   \n(유)그룹세브코리아609692            NaN     NaN     NaN     NaN     NaN     NaN   \n...                         ...     ...     ...     ...     ...     ...   \n히로세코리아(주)450090           20.21   18.46   23.68   28.11   22.15   13.38   \n히스보험중개(주)197675           38.12   61.22   34.04   55.57   59.85   50.95   \n히타치금속한국(주)041866          87.12   90.61   97.35   81.63   55.54   31.76   \n히타치하이테크코리아(주)380165       70.92   57.47   41.00   32.63   29.80   46.23   \n힐티코리아(주)389471            60.36   50.56   62.16   63.36   52.24   59.56   \n\n년도                         2016    2017    2018    2019    2020  \n기업명                                                              \n(유)가든주류244534            148.61  172.15  191.31  178.34  361.81  \n(유)건향개발I57907            104.64  148.72  391.98  197.85  136.43  \n(유)국제에이엠씨M00154          265.17  295.21  230.90   66.77   63.56  \n(유)그랜드유니버셜트레이딩코리아I83725     NaN     NaN     NaN     NaN     NaN  \n(유)그룹세브코리아609692            NaN     NaN     NaN  147.02  154.35  \n...                         ...     ...     ...     ...     ...  \n히로세코리아(주)450090           12.24   12.06    8.03    9.92   10.22  \n히스보험중개(주)197675           70.34   40.51   68.77   61.31   46.21  \n히타치금속한국(주)041866          41.67   58.12   63.04   58.57   59.69  \n히타치하이테크코리아(주)380165       75.56   36.61   42.23   50.39   35.19  \n힐티코리아(주)389471            46.20   54.51   45.13   54.34   78.89  \n\n[28972 rows x 11 columns]",
      "text/html": "<div>\n<style scoped>\n    .dataframe tbody tr th:only-of-type {\n        vertical-align: middle;\n    }\n\n    .dataframe tbody tr th {\n        vertical-align: top;\n    }\n\n    .dataframe thead th {\n        text-align: right;\n    }\n</style>\n<table border=\"1\" class=\"dataframe\">\n  <thead>\n    <tr style=\"text-align: right;\">\n      <th>년도</th>\n      <th>2010</th>\n      <th>2011</th>\n      <th>2012</th>\n      <th>2013</th>\n      <th>2014</th>\n      <th>2015</th>\n      <th>2016</th>\n      <th>2017</th>\n      <th>2018</th>\n      <th>2019</th>\n      <th>2020</th>\n    </tr>\n    <tr>\n      <th>기업명</th>\n      <th></th>\n      <th></th>\n      <th></th>\n      <th></th>\n      <th></th>\n      <th></th>\n      <th></th>\n      <th></th>\n      <th></th>\n      <th></th>\n      <th></th>\n    </tr>\n  </thead>\n  <tbody>\n    <tr>\n      <th>(유)가든주류244534</th>\n      <td>268.28</td>\n      <td>305.10</td>\n      <td>218.57</td>\n      <td>186.48</td>\n      <td>152.21</td>\n      <td>139.19</td>\n      <td>148.61</td>\n      <td>172.15</td>\n      <td>191.31</td>\n      <td>178.34</td>\n      <td>361.81</td>\n    </tr>\n    <tr>\n      <th>(유)건향개발I57907</th>\n      <td>NaN</td>\n      <td>36.95</td>\n      <td>73.95</td>\n      <td>31.27</td>\n      <td>34.31</td>\n      <td>88.27</td>\n      <td>104.64</td>\n      <td>148.72</td>\n      <td>391.98</td>\n      <td>197.85</td>\n      <td>136.43</td>\n    </tr>\n    <tr>\n      <th>(유)국제에이엠씨M00154</th>\n      <td>NaN</td>\n      <td>NaN</td>\n      <td>NaN</td>\n      <td>NaN</td>\n      <td>424.85</td>\n      <td>102.11</td>\n      <td>265.17</td>\n      <td>295.21</td>\n      <td>230.90</td>\n      <td>66.77</td>\n      <td>63.56</td>\n    </tr>\n    <tr>\n      <th>(유)그랜드유니버셜트레이딩코리아I83725</th>\n      <td>NaN</td>\n      <td>NaN</td>\n      <td>NaN</td>\n      <td>984.06</td>\n      <td>NaN</td>\n      <td>NaN</td>\n      <td>NaN</td>\n      <td>NaN</td>\n      <td>NaN</td>\n      <td>NaN</td>\n      <td>NaN</td>\n    </tr>\n    <tr>\n      <th>(유)그룹세브코리아609692</th>\n      <td>NaN</td>\n      <td>NaN</td>\n      <td>NaN</td>\n      <td>NaN</td>\n      <td>NaN</td>\n      <td>NaN</td>\n      <td>NaN</td>\n      <td>NaN</td>\n      <td>NaN</td>\n      <td>147.02</td>\n      <td>154.35</td>\n    </tr>\n    <tr>\n      <th>...</th>\n      <td>...</td>\n      <td>...</td>\n      <td>...</td>\n      <td>...</td>\n      <td>...</td>\n      <td>...</td>\n      <td>...</td>\n      <td>...</td>\n      <td>...</td>\n      <td>...</td>\n      <td>...</td>\n    </tr>\n    <tr>\n      <th>히로세코리아(주)450090</th>\n      <td>20.21</td>\n      <td>18.46</td>\n      <td>23.68</td>\n      <td>28.11</td>\n      <td>22.15</td>\n      <td>13.38</td>\n      <td>12.24</td>\n      <td>12.06</td>\n      <td>8.03</td>\n      <td>9.92</td>\n      <td>10.22</td>\n    </tr>\n    <tr>\n      <th>히스보험중개(주)197675</th>\n      <td>38.12</td>\n      <td>61.22</td>\n      <td>34.04</td>\n      <td>55.57</td>\n      <td>59.85</td>\n      <td>50.95</td>\n      <td>70.34</td>\n      <td>40.51</td>\n      <td>68.77</td>\n      <td>61.31</td>\n      <td>46.21</td>\n    </tr>\n    <tr>\n      <th>히타치금속한국(주)041866</th>\n      <td>87.12</td>\n      <td>90.61</td>\n      <td>97.35</td>\n      <td>81.63</td>\n      <td>55.54</td>\n      <td>31.76</td>\n      <td>41.67</td>\n      <td>58.12</td>\n      <td>63.04</td>\n      <td>58.57</td>\n      <td>59.69</td>\n    </tr>\n    <tr>\n      <th>히타치하이테크코리아(주)380165</th>\n      <td>70.92</td>\n      <td>57.47</td>\n      <td>41.00</td>\n      <td>32.63</td>\n      <td>29.80</td>\n      <td>46.23</td>\n      <td>75.56</td>\n      <td>36.61</td>\n      <td>42.23</td>\n      <td>50.39</td>\n      <td>35.19</td>\n    </tr>\n    <tr>\n      <th>힐티코리아(주)389471</th>\n      <td>60.36</td>\n      <td>50.56</td>\n      <td>62.16</td>\n      <td>63.36</td>\n      <td>52.24</td>\n      <td>59.56</td>\n      <td>46.20</td>\n      <td>54.51</td>\n      <td>45.13</td>\n      <td>54.34</td>\n      <td>78.89</td>\n    </tr>\n  </tbody>\n</table>\n<p>28972 rows × 11 columns</p>\n</div>"
     },
     "execution_count": 62,
     "metadata": {},
     "output_type": "execute_result"
    }
   ],
   "source": [
    "data.부채비율 = pd.to_numeric(data.부채비율)\n",
    "부채비율_idx = data.pivot_table(columns='년도', index = '기업명', values='부채비율', aggfunc='mean', dropna=False)\n",
    "부채비율_idx"
   ]
  },
  {
   "cell_type": "markdown",
   "id": "19d2abfc-07ca-44a1-bbf6-a7d0d1f93383",
   "metadata": {},
   "source": [
    "#### 영업활동현금흐름이자보상비율(OCFICR)"
   ]
  },
  {
   "cell_type": "code",
   "execution_count": 63,
   "id": "2718e4c7-c6b6-48e4-b9df-25cb070815e5",
   "metadata": {},
   "outputs": [
    {
     "data": {
      "text/plain": "년도                        2010    2011     2012   2013   2014    2015  2016  \\\n기업명                                                                           \n(유)가든주류244534              NaN     NaN      NaN    NaN    NaN     NaN   NaN   \n(유)건향개발I57907              NaN     NaN      NaN    NaN    NaN     NaN   NaN   \n(유)국제에이엠씨M00154            NaN     NaN      NaN    NaN    NaN     NaN   NaN   \n(유)그랜드유니버셜트레이딩코리아I83725    NaN     NaN      NaN    NaN    NaN     NaN   NaN   \n(유)그룹세브코리아609692           NaN     NaN      NaN    NaN    NaN     NaN   NaN   \n...                        ...     ...      ...    ...    ...     ...   ...   \n히로세코리아(주)450090            NaN     NaN      NaN    NaN    NaN     NaN   NaN   \n히스보험중개(주)197675            NaN     NaN      NaN    NaN    NaN     NaN   NaN   \n히타치금속한국(주)041866         22.17    8.18     6.99  12.39  38.19  128.83   NaN   \n히타치하이테크코리아(주)380165      97.38  561.21  1130.32    NaN    NaN     NaN   NaN   \n힐티코리아(주)389471             NaN     NaN      NaN    NaN    NaN     NaN   NaN   \n\n년도                       2017   2018   2019      2020  \n기업명                                                    \n(유)가든주류244534             NaN    NaN   0.22     -0.72  \n(유)건향개발I57907             NaN  84.83  -7.55     65.62  \n(유)국제에이엠씨M00154           NaN    NaN    NaN       NaN  \n(유)그랜드유니버셜트레이딩코리아I83725   NaN    NaN    NaN       NaN  \n(유)그룹세브코리아609692          NaN    NaN  30.55    233.52  \n...                       ...    ...    ...       ...  \n히로세코리아(주)450090           NaN    NaN    NaN  75134.28  \n히스보험중개(주)197675           NaN    NaN    NaN   -485.23  \n히타치금속한국(주)041866          NaN    NaN    NaN       NaN  \n히타치하이테크코리아(주)380165       NaN    NaN    NaN   1016.53  \n힐티코리아(주)389471            NaN    NaN  45.40     32.93  \n\n[28972 rows x 11 columns]",
      "text/html": "<div>\n<style scoped>\n    .dataframe tbody tr th:only-of-type {\n        vertical-align: middle;\n    }\n\n    .dataframe tbody tr th {\n        vertical-align: top;\n    }\n\n    .dataframe thead th {\n        text-align: right;\n    }\n</style>\n<table border=\"1\" class=\"dataframe\">\n  <thead>\n    <tr style=\"text-align: right;\">\n      <th>년도</th>\n      <th>2010</th>\n      <th>2011</th>\n      <th>2012</th>\n      <th>2013</th>\n      <th>2014</th>\n      <th>2015</th>\n      <th>2016</th>\n      <th>2017</th>\n      <th>2018</th>\n      <th>2019</th>\n      <th>2020</th>\n    </tr>\n    <tr>\n      <th>기업명</th>\n      <th></th>\n      <th></th>\n      <th></th>\n      <th></th>\n      <th></th>\n      <th></th>\n      <th></th>\n      <th></th>\n      <th></th>\n      <th></th>\n      <th></th>\n    </tr>\n  </thead>\n  <tbody>\n    <tr>\n      <th>(유)가든주류244534</th>\n      <td>NaN</td>\n      <td>NaN</td>\n      <td>NaN</td>\n      <td>NaN</td>\n      <td>NaN</td>\n      <td>NaN</td>\n      <td>NaN</td>\n      <td>NaN</td>\n      <td>NaN</td>\n      <td>0.22</td>\n      <td>-0.72</td>\n    </tr>\n    <tr>\n      <th>(유)건향개발I57907</th>\n      <td>NaN</td>\n      <td>NaN</td>\n      <td>NaN</td>\n      <td>NaN</td>\n      <td>NaN</td>\n      <td>NaN</td>\n      <td>NaN</td>\n      <td>NaN</td>\n      <td>84.83</td>\n      <td>-7.55</td>\n      <td>65.62</td>\n    </tr>\n    <tr>\n      <th>(유)국제에이엠씨M00154</th>\n      <td>NaN</td>\n      <td>NaN</td>\n      <td>NaN</td>\n      <td>NaN</td>\n      <td>NaN</td>\n      <td>NaN</td>\n      <td>NaN</td>\n      <td>NaN</td>\n      <td>NaN</td>\n      <td>NaN</td>\n      <td>NaN</td>\n    </tr>\n    <tr>\n      <th>(유)그랜드유니버셜트레이딩코리아I83725</th>\n      <td>NaN</td>\n      <td>NaN</td>\n      <td>NaN</td>\n      <td>NaN</td>\n      <td>NaN</td>\n      <td>NaN</td>\n      <td>NaN</td>\n      <td>NaN</td>\n      <td>NaN</td>\n      <td>NaN</td>\n      <td>NaN</td>\n    </tr>\n    <tr>\n      <th>(유)그룹세브코리아609692</th>\n      <td>NaN</td>\n      <td>NaN</td>\n      <td>NaN</td>\n      <td>NaN</td>\n      <td>NaN</td>\n      <td>NaN</td>\n      <td>NaN</td>\n      <td>NaN</td>\n      <td>NaN</td>\n      <td>30.55</td>\n      <td>233.52</td>\n    </tr>\n    <tr>\n      <th>...</th>\n      <td>...</td>\n      <td>...</td>\n      <td>...</td>\n      <td>...</td>\n      <td>...</td>\n      <td>...</td>\n      <td>...</td>\n      <td>...</td>\n      <td>...</td>\n      <td>...</td>\n      <td>...</td>\n    </tr>\n    <tr>\n      <th>히로세코리아(주)450090</th>\n      <td>NaN</td>\n      <td>NaN</td>\n      <td>NaN</td>\n      <td>NaN</td>\n      <td>NaN</td>\n      <td>NaN</td>\n      <td>NaN</td>\n      <td>NaN</td>\n      <td>NaN</td>\n      <td>NaN</td>\n      <td>75134.28</td>\n    </tr>\n    <tr>\n      <th>히스보험중개(주)197675</th>\n      <td>NaN</td>\n      <td>NaN</td>\n      <td>NaN</td>\n      <td>NaN</td>\n      <td>NaN</td>\n      <td>NaN</td>\n      <td>NaN</td>\n      <td>NaN</td>\n      <td>NaN</td>\n      <td>NaN</td>\n      <td>-485.23</td>\n    </tr>\n    <tr>\n      <th>히타치금속한국(주)041866</th>\n      <td>22.17</td>\n      <td>8.18</td>\n      <td>6.99</td>\n      <td>12.39</td>\n      <td>38.19</td>\n      <td>128.83</td>\n      <td>NaN</td>\n      <td>NaN</td>\n      <td>NaN</td>\n      <td>NaN</td>\n      <td>NaN</td>\n    </tr>\n    <tr>\n      <th>히타치하이테크코리아(주)380165</th>\n      <td>97.38</td>\n      <td>561.21</td>\n      <td>1130.32</td>\n      <td>NaN</td>\n      <td>NaN</td>\n      <td>NaN</td>\n      <td>NaN</td>\n      <td>NaN</td>\n      <td>NaN</td>\n      <td>NaN</td>\n      <td>1016.53</td>\n    </tr>\n    <tr>\n      <th>힐티코리아(주)389471</th>\n      <td>NaN</td>\n      <td>NaN</td>\n      <td>NaN</td>\n      <td>NaN</td>\n      <td>NaN</td>\n      <td>NaN</td>\n      <td>NaN</td>\n      <td>NaN</td>\n      <td>NaN</td>\n      <td>45.40</td>\n      <td>32.93</td>\n    </tr>\n  </tbody>\n</table>\n<p>28972 rows × 11 columns</p>\n</div>"
     },
     "execution_count": 63,
     "metadata": {},
     "output_type": "execute_result"
    }
   ],
   "source": [
    "data.영업활동현금흐름이자보상비율 = pd.to_numeric(data.영업활동현금흐름이자보상비율)\n",
    "영업활동현금흐름이자보상비율_idx = data.pivot_table(columns='년도', index = '기업명', values='영업활동현금흐름이자보상비율', aggfunc='mean', dropna=False)\n",
    "영업활동현금흐름이자보상비율_idx"
   ]
  },
  {
   "cell_type": "markdown",
   "id": "79403d99-16aa-4be6-99ff-2d3508ed49b4",
   "metadata": {},
   "source": [
    "### 3) 수익성 및 성장성 지표"
   ]
  },
  {
   "cell_type": "markdown",
   "id": "d3d870d1-f394-4e6e-88f8-5fdecac19cbe",
   "metadata": {},
   "source": [
    "#### 자기자본순이익률(ROE), 자기자본순이익률변동(ROEpc)"
   ]
  },
  {
   "cell_type": "code",
   "execution_count": 64,
   "id": "e36ad280-3118-4b3c-8341-e193f16affb2",
   "metadata": {},
   "outputs": [
    {
     "data": {
      "text/plain": "년도                        2010   2011   2012   2013   2014    2015   2016  \\\n기업명                                                                         \n(유)가든주류244534            18.57  11.44  16.20  22.04  14.26   14.11  12.95   \n(유)건향개발I57907              NaN  26.04  24.94  18.47   5.05   63.61  72.43   \n(유)국제에이엠씨M00154            NaN    NaN    NaN    NaN  -7.79  138.59  23.27   \n(유)그랜드유니버셜트레이딩코리아I83725    NaN    NaN    NaN   6.29    NaN     NaN    NaN   \n(유)그룹세브코리아609692           NaN    NaN    NaN    NaN    NaN     NaN    NaN   \n...                        ...    ...    ...    ...    ...     ...    ...   \n히로세코리아(주)450090           9.50   8.98  15.25  29.14  34.55   17.00  11.98   \n히스보험중개(주)197675          21.98  26.30  20.44   7.36  14.51    6.43  11.95   \n히타치금속한국(주)041866         24.79  17.80  10.59  18.63  17.98   16.37  14.78   \n히타치하이테크코리아(주)380165      28.22  62.25  41.29  40.86  14.69   10.41  15.61   \n힐티코리아(주)389471           22.55  19.95   7.98   9.09   7.42   14.01   6.04   \n\n년도                        2017   2018   2019   2020  \n기업명                                                  \n(유)가든주류244534            11.39  14.62  13.98   4.89  \n(유)건향개발I57907            16.78  59.22  59.87  33.61  \n(유)국제에이엠씨M00154          -7.35   0.34   0.06   0.02  \n(유)그랜드유니버셜트레이딩코리아I83725    NaN    NaN    NaN    NaN  \n(유)그룹세브코리아609692           NaN    NaN  44.10  55.36  \n...                        ...    ...    ...    ...  \n히로세코리아(주)450090          12.13  10.22   7.62  12.62  \n히스보험중개(주)197675          15.76  31.44  10.37   6.14  \n히타치금속한국(주)041866          8.23  18.51   9.86  11.92  \n히타치하이테크코리아(주)380165      15.68  61.84  59.45  37.05  \n힐티코리아(주)389471            8.15  11.29   9.41   9.54  \n\n[28972 rows x 11 columns]",
      "text/html": "<div>\n<style scoped>\n    .dataframe tbody tr th:only-of-type {\n        vertical-align: middle;\n    }\n\n    .dataframe tbody tr th {\n        vertical-align: top;\n    }\n\n    .dataframe thead th {\n        text-align: right;\n    }\n</style>\n<table border=\"1\" class=\"dataframe\">\n  <thead>\n    <tr style=\"text-align: right;\">\n      <th>년도</th>\n      <th>2010</th>\n      <th>2011</th>\n      <th>2012</th>\n      <th>2013</th>\n      <th>2014</th>\n      <th>2015</th>\n      <th>2016</th>\n      <th>2017</th>\n      <th>2018</th>\n      <th>2019</th>\n      <th>2020</th>\n    </tr>\n    <tr>\n      <th>기업명</th>\n      <th></th>\n      <th></th>\n      <th></th>\n      <th></th>\n      <th></th>\n      <th></th>\n      <th></th>\n      <th></th>\n      <th></th>\n      <th></th>\n      <th></th>\n    </tr>\n  </thead>\n  <tbody>\n    <tr>\n      <th>(유)가든주류244534</th>\n      <td>18.57</td>\n      <td>11.44</td>\n      <td>16.20</td>\n      <td>22.04</td>\n      <td>14.26</td>\n      <td>14.11</td>\n      <td>12.95</td>\n      <td>11.39</td>\n      <td>14.62</td>\n      <td>13.98</td>\n      <td>4.89</td>\n    </tr>\n    <tr>\n      <th>(유)건향개발I57907</th>\n      <td>NaN</td>\n      <td>26.04</td>\n      <td>24.94</td>\n      <td>18.47</td>\n      <td>5.05</td>\n      <td>63.61</td>\n      <td>72.43</td>\n      <td>16.78</td>\n      <td>59.22</td>\n      <td>59.87</td>\n      <td>33.61</td>\n    </tr>\n    <tr>\n      <th>(유)국제에이엠씨M00154</th>\n      <td>NaN</td>\n      <td>NaN</td>\n      <td>NaN</td>\n      <td>NaN</td>\n      <td>-7.79</td>\n      <td>138.59</td>\n      <td>23.27</td>\n      <td>-7.35</td>\n      <td>0.34</td>\n      <td>0.06</td>\n      <td>0.02</td>\n    </tr>\n    <tr>\n      <th>(유)그랜드유니버셜트레이딩코리아I83725</th>\n      <td>NaN</td>\n      <td>NaN</td>\n      <td>NaN</td>\n      <td>6.29</td>\n      <td>NaN</td>\n      <td>NaN</td>\n      <td>NaN</td>\n      <td>NaN</td>\n      <td>NaN</td>\n      <td>NaN</td>\n      <td>NaN</td>\n    </tr>\n    <tr>\n      <th>(유)그룹세브코리아609692</th>\n      <td>NaN</td>\n      <td>NaN</td>\n      <td>NaN</td>\n      <td>NaN</td>\n      <td>NaN</td>\n      <td>NaN</td>\n      <td>NaN</td>\n      <td>NaN</td>\n      <td>NaN</td>\n      <td>44.10</td>\n      <td>55.36</td>\n    </tr>\n    <tr>\n      <th>...</th>\n      <td>...</td>\n      <td>...</td>\n      <td>...</td>\n      <td>...</td>\n      <td>...</td>\n      <td>...</td>\n      <td>...</td>\n      <td>...</td>\n      <td>...</td>\n      <td>...</td>\n      <td>...</td>\n    </tr>\n    <tr>\n      <th>히로세코리아(주)450090</th>\n      <td>9.50</td>\n      <td>8.98</td>\n      <td>15.25</td>\n      <td>29.14</td>\n      <td>34.55</td>\n      <td>17.00</td>\n      <td>11.98</td>\n      <td>12.13</td>\n      <td>10.22</td>\n      <td>7.62</td>\n      <td>12.62</td>\n    </tr>\n    <tr>\n      <th>히스보험중개(주)197675</th>\n      <td>21.98</td>\n      <td>26.30</td>\n      <td>20.44</td>\n      <td>7.36</td>\n      <td>14.51</td>\n      <td>6.43</td>\n      <td>11.95</td>\n      <td>15.76</td>\n      <td>31.44</td>\n      <td>10.37</td>\n      <td>6.14</td>\n    </tr>\n    <tr>\n      <th>히타치금속한국(주)041866</th>\n      <td>24.79</td>\n      <td>17.80</td>\n      <td>10.59</td>\n      <td>18.63</td>\n      <td>17.98</td>\n      <td>16.37</td>\n      <td>14.78</td>\n      <td>8.23</td>\n      <td>18.51</td>\n      <td>9.86</td>\n      <td>11.92</td>\n    </tr>\n    <tr>\n      <th>히타치하이테크코리아(주)380165</th>\n      <td>28.22</td>\n      <td>62.25</td>\n      <td>41.29</td>\n      <td>40.86</td>\n      <td>14.69</td>\n      <td>10.41</td>\n      <td>15.61</td>\n      <td>15.68</td>\n      <td>61.84</td>\n      <td>59.45</td>\n      <td>37.05</td>\n    </tr>\n    <tr>\n      <th>힐티코리아(주)389471</th>\n      <td>22.55</td>\n      <td>19.95</td>\n      <td>7.98</td>\n      <td>9.09</td>\n      <td>7.42</td>\n      <td>14.01</td>\n      <td>6.04</td>\n      <td>8.15</td>\n      <td>11.29</td>\n      <td>9.41</td>\n      <td>9.54</td>\n    </tr>\n  </tbody>\n</table>\n<p>28972 rows × 11 columns</p>\n</div>"
     },
     "execution_count": 64,
     "metadata": {},
     "output_type": "execute_result"
    }
   ],
   "source": [
    "data.자기자본순이익률 = pd.to_numeric(data.자기자본순이익률)\n",
    "자기자본순이익률_idx = data.pivot_table(columns='년도', index = '기업명', values='자기자본순이익률', aggfunc='mean', dropna=False)\n",
    "자기자본순이익률_변동_idx = fluctuation_2(자기자본순이익률_idx)\n",
    "자기자본순이익률_idx"
   ]
  },
  {
   "cell_type": "code",
   "execution_count": 65,
   "id": "f96df662-17d7-4f47-a2dc-7794dbd98497",
   "metadata": {},
   "outputs": [
    {
     "data": {
      "text/plain": "년도                        2010      2011      2012      2013      2014  \\\n기업명                                                                      \n(유)가든주류244534            18.57  0.616047  1.416084  1.360494  0.647005   \n(유)건향개발I57907              NaN       NaN  0.957757  0.740577  0.273416   \n(유)국제에이엠씨M00154            NaN       NaN       NaN       NaN       NaN   \n(유)그랜드유니버셜트레이딩코리아I83725    NaN       NaN       NaN       NaN       NaN   \n(유)그룹세브코리아609692           NaN       NaN       NaN       NaN       NaN   \n...                        ...       ...       ...       ...       ...   \n히로세코리아(주)450090           9.50  0.945263  1.698218  1.910820  1.185655   \n히스보험중개(주)197675          21.98  1.196542  0.777186  0.360078  1.971467   \n히타치금속한국(주)041866         24.79  0.718031  0.594944  1.759207  0.965110   \n히타치하이테크코리아(주)380165      28.22  2.205882  0.663293  0.989586  0.359520   \n힐티코리아(주)389471           22.55  0.884701  0.400000  1.139098  0.816282   \n\n년도                            2015      2016      2017      2018      2019  \\\n기업명                                                                          \n(유)가든주류244534             0.989481  0.917789  0.879537  1.283582  0.956224   \n(유)건향개발I57907            12.596040  1.138657  0.231672  3.529201  1.010976   \n(유)국제에이엠씨M00154         -17.790757  0.167905 -0.315857 -0.046259  0.176471   \n(유)그랜드유니버셜트레이딩코리아I83725        NaN       NaN       NaN       NaN       NaN   \n(유)그룹세브코리아609692               NaN       NaN       NaN       NaN       NaN   \n...                            ...       ...       ...       ...       ...   \n히로세코리아(주)450090           0.492041  0.704706  1.012521  0.842539  0.745597   \n히스보험중개(주)197675           0.443143  1.858476  1.318828  1.994924  0.329835   \n히타치금속한국(주)041866          0.910456  0.902871  0.556834  2.249089  0.532685   \n히타치하이테크코리아(주)380165       0.708645  1.499520  1.004484  3.943878  0.961352   \n힐티코리아(주)389471            1.888140  0.431121  1.349338  1.385276  0.833481   \n\n년도                           2020  \n기업명                                \n(유)가든주류244534            0.349785  \n(유)건향개발I57907            0.561383  \n(유)국제에이엠씨M00154          0.333333  \n(유)그랜드유니버셜트레이딩코리아I83725       NaN  \n(유)그룹세브코리아609692         1.255329  \n...                           ...  \n히로세코리아(주)450090          1.656168  \n히스보험중개(주)197675          0.592093  \n히타치금속한국(주)041866         1.208925  \n히타치하이테크코리아(주)380165      0.623213  \n힐티코리아(주)389471           1.013815  \n\n[28972 rows x 11 columns]",
      "text/html": "<div>\n<style scoped>\n    .dataframe tbody tr th:only-of-type {\n        vertical-align: middle;\n    }\n\n    .dataframe tbody tr th {\n        vertical-align: top;\n    }\n\n    .dataframe thead th {\n        text-align: right;\n    }\n</style>\n<table border=\"1\" class=\"dataframe\">\n  <thead>\n    <tr style=\"text-align: right;\">\n      <th>년도</th>\n      <th>2010</th>\n      <th>2011</th>\n      <th>2012</th>\n      <th>2013</th>\n      <th>2014</th>\n      <th>2015</th>\n      <th>2016</th>\n      <th>2017</th>\n      <th>2018</th>\n      <th>2019</th>\n      <th>2020</th>\n    </tr>\n    <tr>\n      <th>기업명</th>\n      <th></th>\n      <th></th>\n      <th></th>\n      <th></th>\n      <th></th>\n      <th></th>\n      <th></th>\n      <th></th>\n      <th></th>\n      <th></th>\n      <th></th>\n    </tr>\n  </thead>\n  <tbody>\n    <tr>\n      <th>(유)가든주류244534</th>\n      <td>18.57</td>\n      <td>0.616047</td>\n      <td>1.416084</td>\n      <td>1.360494</td>\n      <td>0.647005</td>\n      <td>0.989481</td>\n      <td>0.917789</td>\n      <td>0.879537</td>\n      <td>1.283582</td>\n      <td>0.956224</td>\n      <td>0.349785</td>\n    </tr>\n    <tr>\n      <th>(유)건향개발I57907</th>\n      <td>NaN</td>\n      <td>NaN</td>\n      <td>0.957757</td>\n      <td>0.740577</td>\n      <td>0.273416</td>\n      <td>12.596040</td>\n      <td>1.138657</td>\n      <td>0.231672</td>\n      <td>3.529201</td>\n      <td>1.010976</td>\n      <td>0.561383</td>\n    </tr>\n    <tr>\n      <th>(유)국제에이엠씨M00154</th>\n      <td>NaN</td>\n      <td>NaN</td>\n      <td>NaN</td>\n      <td>NaN</td>\n      <td>NaN</td>\n      <td>-17.790757</td>\n      <td>0.167905</td>\n      <td>-0.315857</td>\n      <td>-0.046259</td>\n      <td>0.176471</td>\n      <td>0.333333</td>\n    </tr>\n    <tr>\n      <th>(유)그랜드유니버셜트레이딩코리아I83725</th>\n      <td>NaN</td>\n      <td>NaN</td>\n      <td>NaN</td>\n      <td>NaN</td>\n      <td>NaN</td>\n      <td>NaN</td>\n      <td>NaN</td>\n      <td>NaN</td>\n      <td>NaN</td>\n      <td>NaN</td>\n      <td>NaN</td>\n    </tr>\n    <tr>\n      <th>(유)그룹세브코리아609692</th>\n      <td>NaN</td>\n      <td>NaN</td>\n      <td>NaN</td>\n      <td>NaN</td>\n      <td>NaN</td>\n      <td>NaN</td>\n      <td>NaN</td>\n      <td>NaN</td>\n      <td>NaN</td>\n      <td>NaN</td>\n      <td>1.255329</td>\n    </tr>\n    <tr>\n      <th>...</th>\n      <td>...</td>\n      <td>...</td>\n      <td>...</td>\n      <td>...</td>\n      <td>...</td>\n      <td>...</td>\n      <td>...</td>\n      <td>...</td>\n      <td>...</td>\n      <td>...</td>\n      <td>...</td>\n    </tr>\n    <tr>\n      <th>히로세코리아(주)450090</th>\n      <td>9.50</td>\n      <td>0.945263</td>\n      <td>1.698218</td>\n      <td>1.910820</td>\n      <td>1.185655</td>\n      <td>0.492041</td>\n      <td>0.704706</td>\n      <td>1.012521</td>\n      <td>0.842539</td>\n      <td>0.745597</td>\n      <td>1.656168</td>\n    </tr>\n    <tr>\n      <th>히스보험중개(주)197675</th>\n      <td>21.98</td>\n      <td>1.196542</td>\n      <td>0.777186</td>\n      <td>0.360078</td>\n      <td>1.971467</td>\n      <td>0.443143</td>\n      <td>1.858476</td>\n      <td>1.318828</td>\n      <td>1.994924</td>\n      <td>0.329835</td>\n      <td>0.592093</td>\n    </tr>\n    <tr>\n      <th>히타치금속한국(주)041866</th>\n      <td>24.79</td>\n      <td>0.718031</td>\n      <td>0.594944</td>\n      <td>1.759207</td>\n      <td>0.965110</td>\n      <td>0.910456</td>\n      <td>0.902871</td>\n      <td>0.556834</td>\n      <td>2.249089</td>\n      <td>0.532685</td>\n      <td>1.208925</td>\n    </tr>\n    <tr>\n      <th>히타치하이테크코리아(주)380165</th>\n      <td>28.22</td>\n      <td>2.205882</td>\n      <td>0.663293</td>\n      <td>0.989586</td>\n      <td>0.359520</td>\n      <td>0.708645</td>\n      <td>1.499520</td>\n      <td>1.004484</td>\n      <td>3.943878</td>\n      <td>0.961352</td>\n      <td>0.623213</td>\n    </tr>\n    <tr>\n      <th>힐티코리아(주)389471</th>\n      <td>22.55</td>\n      <td>0.884701</td>\n      <td>0.400000</td>\n      <td>1.139098</td>\n      <td>0.816282</td>\n      <td>1.888140</td>\n      <td>0.431121</td>\n      <td>1.349338</td>\n      <td>1.385276</td>\n      <td>0.833481</td>\n      <td>1.013815</td>\n    </tr>\n  </tbody>\n</table>\n<p>28972 rows × 11 columns</p>\n</div>"
     },
     "execution_count": 65,
     "metadata": {},
     "output_type": "execute_result"
    }
   ],
   "source": [
    "자기자본순이익률_변동_idx"
   ]
  },
  {
   "cell_type": "markdown",
   "id": "96c73bbb-1c13-40c0-8c3b-58c00662c221",
   "metadata": {},
   "source": [
    "#### 매출액증가율(SG)"
   ]
  },
  {
   "cell_type": "code",
   "execution_count": 66,
   "id": "80f44932-e3a6-4cb0-a855-905e117238ff",
   "metadata": {},
   "outputs": [
    {
     "data": {
      "text/plain": "년도                        2010   2011   2012   2013   2014     2015    2016  \\\n기업명                                                                           \n(유)가든주류244534             9.76   5.29   2.44  13.63  -2.10     3.45    5.82   \n(유)건향개발I57907              NaN    NaN -26.17  35.37 -73.49  4136.84  142.01   \n(유)국제에이엠씨M00154            NaN    NaN    NaN    NaN    NaN  1218.94  456.34   \n(유)그랜드유니버셜트레이딩코리아I83725    NaN    NaN    NaN    NaN    NaN      NaN     NaN   \n(유)그룹세브코리아609692           NaN    NaN    NaN    NaN    NaN      NaN     NaN   \n...                        ...    ...    ...    ...    ...      ...     ...   \n히로세코리아(주)450090          17.56  18.99  16.22  39.22  38.22   -20.61  -12.02   \n히스보험중개(주)197675         -11.14  37.72  19.05   4.52  20.26    10.11    6.78   \n히타치금속한국(주)041866         16.36  18.70   5.54  11.22  -8.12    33.70  109.35   \n히타치하이테크코리아(주)380165      17.21  33.31  10.01  16.78 -17.14    -3.85    7.50   \n힐티코리아(주)389471            9.78   9.18  11.94   9.09  12.38     8.41   13.39   \n\n년도                         2017   2018    2019   2020  \n기업명                                                    \n(유)가든주류244534              7.31  14.85    9.51 -12.73  \n(유)건향개발I57907             19.13  65.16   -0.38 -15.22  \n(유)국제에이엠씨M00154          677.77 -33.32  314.01 -78.94  \n(유)그랜드유니버셜트레이딩코리아I83725     NaN  26.23  -12.15  58.39  \n(유)그룹세브코리아609692            NaN    NaN     NaN   1.68  \n...                         ...    ...     ...    ...  \n히로세코리아(주)450090            3.54  -1.19   -3.51  25.93  \n히스보험중개(주)197675           19.04  33.27    3.76   8.99  \n히타치금속한국(주)041866          40.98  21.95    3.50  16.22  \n히타치하이테크코리아(주)380165       13.53  79.67    8.70 -19.74  \n힐티코리아(주)389471            15.41   3.18   -4.72  -0.57  \n\n[28972 rows x 11 columns]",
      "text/html": "<div>\n<style scoped>\n    .dataframe tbody tr th:only-of-type {\n        vertical-align: middle;\n    }\n\n    .dataframe tbody tr th {\n        vertical-align: top;\n    }\n\n    .dataframe thead th {\n        text-align: right;\n    }\n</style>\n<table border=\"1\" class=\"dataframe\">\n  <thead>\n    <tr style=\"text-align: right;\">\n      <th>년도</th>\n      <th>2010</th>\n      <th>2011</th>\n      <th>2012</th>\n      <th>2013</th>\n      <th>2014</th>\n      <th>2015</th>\n      <th>2016</th>\n      <th>2017</th>\n      <th>2018</th>\n      <th>2019</th>\n      <th>2020</th>\n    </tr>\n    <tr>\n      <th>기업명</th>\n      <th></th>\n      <th></th>\n      <th></th>\n      <th></th>\n      <th></th>\n      <th></th>\n      <th></th>\n      <th></th>\n      <th></th>\n      <th></th>\n      <th></th>\n    </tr>\n  </thead>\n  <tbody>\n    <tr>\n      <th>(유)가든주류244534</th>\n      <td>9.76</td>\n      <td>5.29</td>\n      <td>2.44</td>\n      <td>13.63</td>\n      <td>-2.10</td>\n      <td>3.45</td>\n      <td>5.82</td>\n      <td>7.31</td>\n      <td>14.85</td>\n      <td>9.51</td>\n      <td>-12.73</td>\n    </tr>\n    <tr>\n      <th>(유)건향개발I57907</th>\n      <td>NaN</td>\n      <td>NaN</td>\n      <td>-26.17</td>\n      <td>35.37</td>\n      <td>-73.49</td>\n      <td>4136.84</td>\n      <td>142.01</td>\n      <td>19.13</td>\n      <td>65.16</td>\n      <td>-0.38</td>\n      <td>-15.22</td>\n    </tr>\n    <tr>\n      <th>(유)국제에이엠씨M00154</th>\n      <td>NaN</td>\n      <td>NaN</td>\n      <td>NaN</td>\n      <td>NaN</td>\n      <td>NaN</td>\n      <td>1218.94</td>\n      <td>456.34</td>\n      <td>677.77</td>\n      <td>-33.32</td>\n      <td>314.01</td>\n      <td>-78.94</td>\n    </tr>\n    <tr>\n      <th>(유)그랜드유니버셜트레이딩코리아I83725</th>\n      <td>NaN</td>\n      <td>NaN</td>\n      <td>NaN</td>\n      <td>NaN</td>\n      <td>NaN</td>\n      <td>NaN</td>\n      <td>NaN</td>\n      <td>NaN</td>\n      <td>26.23</td>\n      <td>-12.15</td>\n      <td>58.39</td>\n    </tr>\n    <tr>\n      <th>(유)그룹세브코리아609692</th>\n      <td>NaN</td>\n      <td>NaN</td>\n      <td>NaN</td>\n      <td>NaN</td>\n      <td>NaN</td>\n      <td>NaN</td>\n      <td>NaN</td>\n      <td>NaN</td>\n      <td>NaN</td>\n      <td>NaN</td>\n      <td>1.68</td>\n    </tr>\n    <tr>\n      <th>...</th>\n      <td>...</td>\n      <td>...</td>\n      <td>...</td>\n      <td>...</td>\n      <td>...</td>\n      <td>...</td>\n      <td>...</td>\n      <td>...</td>\n      <td>...</td>\n      <td>...</td>\n      <td>...</td>\n    </tr>\n    <tr>\n      <th>히로세코리아(주)450090</th>\n      <td>17.56</td>\n      <td>18.99</td>\n      <td>16.22</td>\n      <td>39.22</td>\n      <td>38.22</td>\n      <td>-20.61</td>\n      <td>-12.02</td>\n      <td>3.54</td>\n      <td>-1.19</td>\n      <td>-3.51</td>\n      <td>25.93</td>\n    </tr>\n    <tr>\n      <th>히스보험중개(주)197675</th>\n      <td>-11.14</td>\n      <td>37.72</td>\n      <td>19.05</td>\n      <td>4.52</td>\n      <td>20.26</td>\n      <td>10.11</td>\n      <td>6.78</td>\n      <td>19.04</td>\n      <td>33.27</td>\n      <td>3.76</td>\n      <td>8.99</td>\n    </tr>\n    <tr>\n      <th>히타치금속한국(주)041866</th>\n      <td>16.36</td>\n      <td>18.70</td>\n      <td>5.54</td>\n      <td>11.22</td>\n      <td>-8.12</td>\n      <td>33.70</td>\n      <td>109.35</td>\n      <td>40.98</td>\n      <td>21.95</td>\n      <td>3.50</td>\n      <td>16.22</td>\n    </tr>\n    <tr>\n      <th>히타치하이테크코리아(주)380165</th>\n      <td>17.21</td>\n      <td>33.31</td>\n      <td>10.01</td>\n      <td>16.78</td>\n      <td>-17.14</td>\n      <td>-3.85</td>\n      <td>7.50</td>\n      <td>13.53</td>\n      <td>79.67</td>\n      <td>8.70</td>\n      <td>-19.74</td>\n    </tr>\n    <tr>\n      <th>힐티코리아(주)389471</th>\n      <td>9.78</td>\n      <td>9.18</td>\n      <td>11.94</td>\n      <td>9.09</td>\n      <td>12.38</td>\n      <td>8.41</td>\n      <td>13.39</td>\n      <td>15.41</td>\n      <td>3.18</td>\n      <td>-4.72</td>\n      <td>-0.57</td>\n    </tr>\n  </tbody>\n</table>\n<p>28972 rows × 11 columns</p>\n</div>"
     },
     "execution_count": 66,
     "metadata": {},
     "output_type": "execute_result"
    }
   ],
   "source": [
    "data.매출액증가율 = pd.to_numeric(data.매출액증가율)\n",
    "매출액증가율_idx = data.pivot_table(columns='년도', index = '기업명', values='매출액증가율', aggfunc='mean', dropna=False)\n",
    "매출액증가율_idx"
   ]
  },
  {
   "cell_type": "markdown",
   "id": "ac45206b-e648-491b-b6ca-6c407297d306",
   "metadata": {},
   "source": [
    "### 4) 신뢰성 지표"
   ]
  },
  {
   "cell_type": "markdown",
   "id": "f630e795-dc94-46f4-8225-c9ab155c9b97",
   "metadata": {},
   "source": [
    "#### 자산퀄리티(AQ)"
   ]
  },
  {
   "cell_type": "code",
   "execution_count": 67,
   "id": "8e90925c-f904-48d7-8688-fd91762df968",
   "metadata": {},
   "outputs": [],
   "source": [
    "data.유동자산 = pd.to_numeric(data.유동자산)\n",
    "유동자산_idx = data.pivot_table(columns='년도', index = '기업명', values='유동자산', aggfunc='mean', dropna=False)\n",
    "\n",
    "data.유형자산 = pd.to_numeric(data.유형자산)\n",
    "유형자산_idx = data.pivot_table(columns='년도', index = '기업명', values='유형자산', aggfunc='mean', dropna=False)\n",
    "\n",
    "data.자산총계 = pd.to_numeric(data.자산총계)\n",
    "자산총계_idx = data.pivot_table(columns='년도', index = '기업명', values='자산총계', aggfunc='mean', dropna=False)"
   ]
  },
  {
   "cell_type": "code",
   "execution_count": 68,
   "id": "23e63ec5-ddf5-4bd9-a2a5-744d75e95f34",
   "metadata": {},
   "outputs": [
    {
     "data": {
      "text/plain": "년도                           2010      2011      2012      2013      2014  \\\n기업명                                                                         \n(유)가든주류244534            0.241983  0.210837  0.008933  0.004597  0.003259   \n(유)건향개발I57907                 NaN       NaN       NaN  0.215744  0.197204   \n(유)국제에이엠씨M00154               NaN       NaN       NaN       NaN  0.000000   \n(유)그랜드유니버셜트레이딩코리아I83725       NaN       NaN       NaN  0.025167       NaN   \n(유)그룹세브코리아609692              NaN       NaN       NaN       NaN       NaN   \n...                           ...       ...       ...       ...       ...   \n히로세코리아(주)450090          0.292003  0.194870  0.277983  0.292800  0.247021   \n히스보험중개(주)197675          0.135513  0.287172  0.274710  0.233490  0.231895   \n히타치금속한국(주)041866         0.036565  0.018101  0.029338  0.028906  0.013726   \n히타치하이테크코리아(주)380165      0.130501  0.072232  0.055239  0.048341  0.050132   \n힐티코리아(주)389471           0.123509  0.123626  0.194935  0.178282  0.155088   \n\n년도                           2015      2016      2017      2018      2019  \\\n기업명                                                                         \n(유)가든주류244534            0.003638  0.022978  0.027524  0.080688  0.080653   \n(유)건향개발I57907            0.261592  0.197115  0.226237  0.134895  0.121283   \n(유)국제에이엠씨M00154          0.000000  0.003894  0.035565  0.022060  0.019942   \n(유)그랜드유니버셜트레이딩코리아I83725       NaN       NaN  0.000000  0.000271  0.000000   \n(유)그룹세브코리아609692              NaN       NaN       NaN       NaN  0.031617   \n...                           ...       ...       ...       ...       ...   \n히로세코리아(주)450090          0.196769  0.267317  0.072620  0.038010  0.044608   \n히스보험중개(주)197675          0.284463  0.257020  0.294078  0.256147  0.172245   \n히타치금속한국(주)041866         0.021849  0.018308  0.017250  0.012940  0.014612   \n히타치하이테크코리아(주)380165      0.072154  0.076531  0.057228  0.034955  0.059848   \n힐티코리아(주)389471           0.134861  0.142450  0.056755  0.078465  0.054562   \n\n년도                           2020  \n기업명                                \n(유)가든주류244534            0.113478  \n(유)건향개발I57907            0.146449  \n(유)국제에이엠씨M00154          0.020330  \n(유)그랜드유니버셜트레이딩코리아I83725  0.000000  \n(유)그룹세브코리아609692         0.029485  \n...                           ...  \n히로세코리아(주)450090          0.216721  \n히스보험중개(주)197675          0.209066  \n히타치금속한국(주)041866         0.019451  \n히타치하이테크코리아(주)380165      0.065219  \n힐티코리아(주)389471           0.084643  \n\n[28972 rows x 11 columns]",
      "text/html": "<div>\n<style scoped>\n    .dataframe tbody tr th:only-of-type {\n        vertical-align: middle;\n    }\n\n    .dataframe tbody tr th {\n        vertical-align: top;\n    }\n\n    .dataframe thead th {\n        text-align: right;\n    }\n</style>\n<table border=\"1\" class=\"dataframe\">\n  <thead>\n    <tr style=\"text-align: right;\">\n      <th>년도</th>\n      <th>2010</th>\n      <th>2011</th>\n      <th>2012</th>\n      <th>2013</th>\n      <th>2014</th>\n      <th>2015</th>\n      <th>2016</th>\n      <th>2017</th>\n      <th>2018</th>\n      <th>2019</th>\n      <th>2020</th>\n    </tr>\n    <tr>\n      <th>기업명</th>\n      <th></th>\n      <th></th>\n      <th></th>\n      <th></th>\n      <th></th>\n      <th></th>\n      <th></th>\n      <th></th>\n      <th></th>\n      <th></th>\n      <th></th>\n    </tr>\n  </thead>\n  <tbody>\n    <tr>\n      <th>(유)가든주류244534</th>\n      <td>0.241983</td>\n      <td>0.210837</td>\n      <td>0.008933</td>\n      <td>0.004597</td>\n      <td>0.003259</td>\n      <td>0.003638</td>\n      <td>0.022978</td>\n      <td>0.027524</td>\n      <td>0.080688</td>\n      <td>0.080653</td>\n      <td>0.113478</td>\n    </tr>\n    <tr>\n      <th>(유)건향개발I57907</th>\n      <td>NaN</td>\n      <td>NaN</td>\n      <td>NaN</td>\n      <td>0.215744</td>\n      <td>0.197204</td>\n      <td>0.261592</td>\n      <td>0.197115</td>\n      <td>0.226237</td>\n      <td>0.134895</td>\n      <td>0.121283</td>\n      <td>0.146449</td>\n    </tr>\n    <tr>\n      <th>(유)국제에이엠씨M00154</th>\n      <td>NaN</td>\n      <td>NaN</td>\n      <td>NaN</td>\n      <td>NaN</td>\n      <td>0.000000</td>\n      <td>0.000000</td>\n      <td>0.003894</td>\n      <td>0.035565</td>\n      <td>0.022060</td>\n      <td>0.019942</td>\n      <td>0.020330</td>\n    </tr>\n    <tr>\n      <th>(유)그랜드유니버셜트레이딩코리아I83725</th>\n      <td>NaN</td>\n      <td>NaN</td>\n      <td>NaN</td>\n      <td>0.025167</td>\n      <td>NaN</td>\n      <td>NaN</td>\n      <td>NaN</td>\n      <td>0.000000</td>\n      <td>0.000271</td>\n      <td>0.000000</td>\n      <td>0.000000</td>\n    </tr>\n    <tr>\n      <th>(유)그룹세브코리아609692</th>\n      <td>NaN</td>\n      <td>NaN</td>\n      <td>NaN</td>\n      <td>NaN</td>\n      <td>NaN</td>\n      <td>NaN</td>\n      <td>NaN</td>\n      <td>NaN</td>\n      <td>NaN</td>\n      <td>0.031617</td>\n      <td>0.029485</td>\n    </tr>\n    <tr>\n      <th>...</th>\n      <td>...</td>\n      <td>...</td>\n      <td>...</td>\n      <td>...</td>\n      <td>...</td>\n      <td>...</td>\n      <td>...</td>\n      <td>...</td>\n      <td>...</td>\n      <td>...</td>\n      <td>...</td>\n    </tr>\n    <tr>\n      <th>히로세코리아(주)450090</th>\n      <td>0.292003</td>\n      <td>0.194870</td>\n      <td>0.277983</td>\n      <td>0.292800</td>\n      <td>0.247021</td>\n      <td>0.196769</td>\n      <td>0.267317</td>\n      <td>0.072620</td>\n      <td>0.038010</td>\n      <td>0.044608</td>\n      <td>0.216721</td>\n    </tr>\n    <tr>\n      <th>히스보험중개(주)197675</th>\n      <td>0.135513</td>\n      <td>0.287172</td>\n      <td>0.274710</td>\n      <td>0.233490</td>\n      <td>0.231895</td>\n      <td>0.284463</td>\n      <td>0.257020</td>\n      <td>0.294078</td>\n      <td>0.256147</td>\n      <td>0.172245</td>\n      <td>0.209066</td>\n    </tr>\n    <tr>\n      <th>히타치금속한국(주)041866</th>\n      <td>0.036565</td>\n      <td>0.018101</td>\n      <td>0.029338</td>\n      <td>0.028906</td>\n      <td>0.013726</td>\n      <td>0.021849</td>\n      <td>0.018308</td>\n      <td>0.017250</td>\n      <td>0.012940</td>\n      <td>0.014612</td>\n      <td>0.019451</td>\n    </tr>\n    <tr>\n      <th>히타치하이테크코리아(주)380165</th>\n      <td>0.130501</td>\n      <td>0.072232</td>\n      <td>0.055239</td>\n      <td>0.048341</td>\n      <td>0.050132</td>\n      <td>0.072154</td>\n      <td>0.076531</td>\n      <td>0.057228</td>\n      <td>0.034955</td>\n      <td>0.059848</td>\n      <td>0.065219</td>\n    </tr>\n    <tr>\n      <th>힐티코리아(주)389471</th>\n      <td>0.123509</td>\n      <td>0.123626</td>\n      <td>0.194935</td>\n      <td>0.178282</td>\n      <td>0.155088</td>\n      <td>0.134861</td>\n      <td>0.142450</td>\n      <td>0.056755</td>\n      <td>0.078465</td>\n      <td>0.054562</td>\n      <td>0.084643</td>\n    </tr>\n  </tbody>\n</table>\n<p>28972 rows × 11 columns</p>\n</div>"
     },
     "execution_count": 68,
     "metadata": {},
     "output_type": "execute_result"
    }
   ],
   "source": [
    "자산퀄리티_idx = (1-(유동자산_idx+유형자산_idx)/자산총계_idx)\n",
    "자산퀄리티_idx"
   ]
  },
  {
   "cell_type": "markdown",
   "id": "a820898f-a266-4260-b6b5-35683c64883f",
   "metadata": {},
   "source": [
    "#### 총발생액비율변동(TATApc)"
   ]
  },
  {
   "cell_type": "code",
   "execution_count": 69,
   "id": "727210fd-6f1c-4f45-85f2-9d470c6ba972",
   "metadata": {},
   "outputs": [],
   "source": [
    "data.당기순이익 = pd.to_numeric(data.당기순이익)\n",
    "당기순이익_idx = data.pivot_table(columns='년도', index = '기업명', values='당기순이익', aggfunc='mean', dropna=False)\n",
    "\n",
    "data.영업활동현금흐름 = pd.to_numeric(data.영업활동현금흐름)\n",
    "영업활동현금흐름_idx = data.pivot_table(columns='년도', index = '기업명', values='영업활동현금흐름', aggfunc='mean', dropna=False)"
   ]
  },
  {
   "cell_type": "code",
   "execution_count": 70,
   "id": "c2f2567e-fd9a-4270-92f8-e20a93849d11",
   "metadata": {},
   "outputs": [
    {
     "data": {
      "text/plain": "년도                           2010      2011      2012      2013      2014  \\\n기업명                                                                         \n(유)가든주류244534                 NaN       NaN       NaN       NaN       NaN   \n(유)건향개발I57907                 NaN       NaN       NaN       NaN       NaN   \n(유)국제에이엠씨M00154               NaN       NaN       NaN       NaN       NaN   \n(유)그랜드유니버셜트레이딩코리아I83725       NaN       NaN       NaN       NaN       NaN   \n(유)그룹세브코리아609692              NaN       NaN       NaN       NaN       NaN   \n...                           ...       ...       ...       ...       ...   \n히로세코리아(주)450090          0.041513 -0.098284 -0.056109  0.006343 -0.011604   \n히스보험중개(주)197675          0.169317 -0.236228  0.359945 -0.376746  0.130918   \n히타치금속한국(주)041866        -0.034888  0.073852 -0.062568  0.049394 -0.111958   \n히타치하이테크코리아(주)380165      0.091146 -0.121678  0.069236 -0.098594  0.119975   \n힐티코리아(주)389471           0.121840 -0.052393 -0.013536 -0.094738  0.095850   \n\n년도                           2015      2016      2017      2018      2019  \\\n기업명                                                                         \n(유)가든주류244534                 NaN       NaN       NaN       NaN       NaN   \n(유)건향개발I57907                 NaN       NaN       NaN       NaN  0.307075   \n(유)국제에이엠씨M00154               NaN       NaN       NaN       NaN       NaN   \n(유)그랜드유니버셜트레이딩코리아I83725       NaN       NaN       NaN       NaN       NaN   \n(유)그룹세브코리아609692              NaN       NaN       NaN       NaN       NaN   \n...                           ...       ...       ...       ...       ...   \n히로세코리아(주)450090          0.016320 -0.038059 -0.006771  0.045698 -0.054725   \n히스보험중개(주)197675         -0.035179 -0.077472  0.228606 -0.297394  0.282743   \n히타치금속한국(주)041866         0.065409 -0.020462 -0.028642  0.048538  0.013128   \n히타치하이테크코리아(주)380165     -0.068485 -0.085574  0.344391 -0.192097  0.129454   \n힐티코리아(주)389471          -0.009391  0.057050  0.024143 -0.088074 -0.104548   \n\n년도                           2020  \n기업명                                \n(유)가든주류244534           -0.018599  \n(유)건향개발I57907           -0.419842  \n(유)국제에이엠씨M00154               NaN  \n(유)그랜드유니버셜트레이딩코리아I83725  0.131645  \n(유)그룹세브코리아609692        -0.128780  \n...                           ...  \n히로세코리아(주)450090          0.005230  \n히스보험중개(주)197675          0.049046  \n히타치금속한국(주)041866        -0.106613  \n히타치하이테크코리아(주)380165      0.105671  \n힐티코리아(주)389471           0.022095  \n\n[28972 rows x 11 columns]",
      "text/html": "<div>\n<style scoped>\n    .dataframe tbody tr th:only-of-type {\n        vertical-align: middle;\n    }\n\n    .dataframe tbody tr th {\n        vertical-align: top;\n    }\n\n    .dataframe thead th {\n        text-align: right;\n    }\n</style>\n<table border=\"1\" class=\"dataframe\">\n  <thead>\n    <tr style=\"text-align: right;\">\n      <th>년도</th>\n      <th>2010</th>\n      <th>2011</th>\n      <th>2012</th>\n      <th>2013</th>\n      <th>2014</th>\n      <th>2015</th>\n      <th>2016</th>\n      <th>2017</th>\n      <th>2018</th>\n      <th>2019</th>\n      <th>2020</th>\n    </tr>\n    <tr>\n      <th>기업명</th>\n      <th></th>\n      <th></th>\n      <th></th>\n      <th></th>\n      <th></th>\n      <th></th>\n      <th></th>\n      <th></th>\n      <th></th>\n      <th></th>\n      <th></th>\n    </tr>\n  </thead>\n  <tbody>\n    <tr>\n      <th>(유)가든주류244534</th>\n      <td>NaN</td>\n      <td>NaN</td>\n      <td>NaN</td>\n      <td>NaN</td>\n      <td>NaN</td>\n      <td>NaN</td>\n      <td>NaN</td>\n      <td>NaN</td>\n      <td>NaN</td>\n      <td>NaN</td>\n      <td>-0.018599</td>\n    </tr>\n    <tr>\n      <th>(유)건향개발I57907</th>\n      <td>NaN</td>\n      <td>NaN</td>\n      <td>NaN</td>\n      <td>NaN</td>\n      <td>NaN</td>\n      <td>NaN</td>\n      <td>NaN</td>\n      <td>NaN</td>\n      <td>NaN</td>\n      <td>0.307075</td>\n      <td>-0.419842</td>\n    </tr>\n    <tr>\n      <th>(유)국제에이엠씨M00154</th>\n      <td>NaN</td>\n      <td>NaN</td>\n      <td>NaN</td>\n      <td>NaN</td>\n      <td>NaN</td>\n      <td>NaN</td>\n      <td>NaN</td>\n      <td>NaN</td>\n      <td>NaN</td>\n      <td>NaN</td>\n      <td>NaN</td>\n    </tr>\n    <tr>\n      <th>(유)그랜드유니버셜트레이딩코리아I83725</th>\n      <td>NaN</td>\n      <td>NaN</td>\n      <td>NaN</td>\n      <td>NaN</td>\n      <td>NaN</td>\n      <td>NaN</td>\n      <td>NaN</td>\n      <td>NaN</td>\n      <td>NaN</td>\n      <td>NaN</td>\n      <td>0.131645</td>\n    </tr>\n    <tr>\n      <th>(유)그룹세브코리아609692</th>\n      <td>NaN</td>\n      <td>NaN</td>\n      <td>NaN</td>\n      <td>NaN</td>\n      <td>NaN</td>\n      <td>NaN</td>\n      <td>NaN</td>\n      <td>NaN</td>\n      <td>NaN</td>\n      <td>NaN</td>\n      <td>-0.128780</td>\n    </tr>\n    <tr>\n      <th>...</th>\n      <td>...</td>\n      <td>...</td>\n      <td>...</td>\n      <td>...</td>\n      <td>...</td>\n      <td>...</td>\n      <td>...</td>\n      <td>...</td>\n      <td>...</td>\n      <td>...</td>\n      <td>...</td>\n    </tr>\n    <tr>\n      <th>히로세코리아(주)450090</th>\n      <td>0.041513</td>\n      <td>-0.098284</td>\n      <td>-0.056109</td>\n      <td>0.006343</td>\n      <td>-0.011604</td>\n      <td>0.016320</td>\n      <td>-0.038059</td>\n      <td>-0.006771</td>\n      <td>0.045698</td>\n      <td>-0.054725</td>\n      <td>0.005230</td>\n    </tr>\n    <tr>\n      <th>히스보험중개(주)197675</th>\n      <td>0.169317</td>\n      <td>-0.236228</td>\n      <td>0.359945</td>\n      <td>-0.376746</td>\n      <td>0.130918</td>\n      <td>-0.035179</td>\n      <td>-0.077472</td>\n      <td>0.228606</td>\n      <td>-0.297394</td>\n      <td>0.282743</td>\n      <td>0.049046</td>\n    </tr>\n    <tr>\n      <th>히타치금속한국(주)041866</th>\n      <td>-0.034888</td>\n      <td>0.073852</td>\n      <td>-0.062568</td>\n      <td>0.049394</td>\n      <td>-0.111958</td>\n      <td>0.065409</td>\n      <td>-0.020462</td>\n      <td>-0.028642</td>\n      <td>0.048538</td>\n      <td>0.013128</td>\n      <td>-0.106613</td>\n    </tr>\n    <tr>\n      <th>히타치하이테크코리아(주)380165</th>\n      <td>0.091146</td>\n      <td>-0.121678</td>\n      <td>0.069236</td>\n      <td>-0.098594</td>\n      <td>0.119975</td>\n      <td>-0.068485</td>\n      <td>-0.085574</td>\n      <td>0.344391</td>\n      <td>-0.192097</td>\n      <td>0.129454</td>\n      <td>0.105671</td>\n    </tr>\n    <tr>\n      <th>힐티코리아(주)389471</th>\n      <td>0.121840</td>\n      <td>-0.052393</td>\n      <td>-0.013536</td>\n      <td>-0.094738</td>\n      <td>0.095850</td>\n      <td>-0.009391</td>\n      <td>0.057050</td>\n      <td>0.024143</td>\n      <td>-0.088074</td>\n      <td>-0.104548</td>\n      <td>0.022095</td>\n    </tr>\n  </tbody>\n</table>\n<p>28972 rows × 11 columns</p>\n</div>"
     },
     "execution_count": 70,
     "metadata": {},
     "output_type": "execute_result"
    }
   ],
   "source": [
    "순이익변동_idx = fluctuation_3(당기순이익_idx)\n",
    "영업활동현금흐름변동_idx = fluctuation_3(영업활동현금흐름_idx)\n",
    "\n",
    "총발생액비율_변동_idx = (순이익변동_idx - 영업활동현금흐름변동_idx) / 자산총계_idx\n",
    "총발생액비율_변동_idx"
   ]
  },
  {
   "cell_type": "markdown",
   "id": "f2defd64-482d-4232-95b8-623a3ac6e79f",
   "metadata": {},
   "source": [
    "#### 매출액영업이익률과 영업활동현금흐름/매출액 차이(EBITOCDd)"
   ]
  },
  {
   "cell_type": "code",
   "execution_count": 71,
   "id": "ac6719ec-3d9c-4c14-875c-d28e9340073f",
   "metadata": {},
   "outputs": [],
   "source": [
    "data['매영차'] = abs(data.매출액영업이익률 - (data.영업활동현금흐름 / data.매출액)) #편의상 '매출액영업이익률과영업활동현금흐름/매출액차이'를 '매영차'로 축약해서 사용"
   ]
  },
  {
   "cell_type": "code",
   "execution_count": 72,
   "id": "b33223f3-a78a-49e8-bf7e-cc69eb083e02",
   "metadata": {},
   "outputs": [
    {
     "data": {
      "text/plain": "년도                            2010       2011       2012       2013  \\\n기업명                                                                   \n(유)가든주류244534                  NaN        NaN        NaN        NaN   \n(유)건향개발I57907                  NaN        NaN        NaN        NaN   \n(유)국제에이엠씨M00154                NaN        NaN        NaN        NaN   \n(유)그랜드유니버셜트레이딩코리아I83725        NaN        NaN        NaN        NaN   \n(유)그룹세브코리아609692               NaN        NaN        NaN        NaN   \n...                            ...        ...        ...        ...   \n히로세코리아(주)450090           6.855697   5.564996  11.442037  19.583005   \n히스보험중개(주)197675          20.485650  25.216415  22.395650  11.154393   \n히타치금속한국(주)041866         11.857878   8.789109   5.861072   7.458473   \n히타치하이테크코리아(주)380165       9.230709  26.653861  24.376654  26.920400   \n힐티코리아(주)389471            7.027204   4.366802   2.786312   3.545660   \n\n년도                            2014       2015       2016       2017  \\\n기업명                                                                   \n(유)가든주류244534                  NaN        NaN        NaN        NaN   \n(유)건향개발I57907                  NaN        NaN        NaN        NaN   \n(유)국제에이엠씨M00154                NaN        NaN        NaN        NaN   \n(유)그랜드유니버셜트레이딩코리아I83725        NaN        NaN        NaN        NaN   \n(유)그룹세브코리아609692               NaN        NaN        NaN        NaN   \n...                            ...        ...        ...        ...   \n히로세코리아(주)450090          23.466836  16.058947  14.776219  16.517296   \n히스보험중개(주)197675          12.348497   9.747143  13.273385  18.943225   \n히타치금속한국(주)041866         10.516277  13.186176   7.772011   2.987103   \n히타치하이테크코리아(주)380165      12.975177  13.584738  11.683199  10.969722   \n힐티코리아(주)389471            3.971263   4.181857   2.789865   2.610911   \n\n년도                            2018       2019       2020  \n기업명                                                       \n(유)가든주류244534                  NaN   3.937258   1.407754  \n(유)건향개발I57907             2.676345   5.297512   4.273336  \n(유)국제에이엠씨M00154                NaN        NaN        NaN  \n(유)그랜드유니버셜트레이딩코리아I83725        NaN   9.981922   8.801749  \n(유)그룹세브코리아609692               NaN   6.442779   9.410569  \n...                            ...        ...        ...  \n히로세코리아(주)450090          15.694690  13.842516  21.014385  \n히스보험중개(주)197675          26.539916  11.269738   7.974028  \n히타치금속한국(주)041866          5.898281   4.967766   4.050301  \n히타치하이테크코리아(주)380165      35.524844  34.501340  22.685386  \n힐티코리아(주)389471            3.820559   3.746663   3.978038  \n\n[28972 rows x 11 columns]",
      "text/html": "<div>\n<style scoped>\n    .dataframe tbody tr th:only-of-type {\n        vertical-align: middle;\n    }\n\n    .dataframe tbody tr th {\n        vertical-align: top;\n    }\n\n    .dataframe thead th {\n        text-align: right;\n    }\n</style>\n<table border=\"1\" class=\"dataframe\">\n  <thead>\n    <tr style=\"text-align: right;\">\n      <th>년도</th>\n      <th>2010</th>\n      <th>2011</th>\n      <th>2012</th>\n      <th>2013</th>\n      <th>2014</th>\n      <th>2015</th>\n      <th>2016</th>\n      <th>2017</th>\n      <th>2018</th>\n      <th>2019</th>\n      <th>2020</th>\n    </tr>\n    <tr>\n      <th>기업명</th>\n      <th></th>\n      <th></th>\n      <th></th>\n      <th></th>\n      <th></th>\n      <th></th>\n      <th></th>\n      <th></th>\n      <th></th>\n      <th></th>\n      <th></th>\n    </tr>\n  </thead>\n  <tbody>\n    <tr>\n      <th>(유)가든주류244534</th>\n      <td>NaN</td>\n      <td>NaN</td>\n      <td>NaN</td>\n      <td>NaN</td>\n      <td>NaN</td>\n      <td>NaN</td>\n      <td>NaN</td>\n      <td>NaN</td>\n      <td>NaN</td>\n      <td>3.937258</td>\n      <td>1.407754</td>\n    </tr>\n    <tr>\n      <th>(유)건향개발I57907</th>\n      <td>NaN</td>\n      <td>NaN</td>\n      <td>NaN</td>\n      <td>NaN</td>\n      <td>NaN</td>\n      <td>NaN</td>\n      <td>NaN</td>\n      <td>NaN</td>\n      <td>2.676345</td>\n      <td>5.297512</td>\n      <td>4.273336</td>\n    </tr>\n    <tr>\n      <th>(유)국제에이엠씨M00154</th>\n      <td>NaN</td>\n      <td>NaN</td>\n      <td>NaN</td>\n      <td>NaN</td>\n      <td>NaN</td>\n      <td>NaN</td>\n      <td>NaN</td>\n      <td>NaN</td>\n      <td>NaN</td>\n      <td>NaN</td>\n      <td>NaN</td>\n    </tr>\n    <tr>\n      <th>(유)그랜드유니버셜트레이딩코리아I83725</th>\n      <td>NaN</td>\n      <td>NaN</td>\n      <td>NaN</td>\n      <td>NaN</td>\n      <td>NaN</td>\n      <td>NaN</td>\n      <td>NaN</td>\n      <td>NaN</td>\n      <td>NaN</td>\n      <td>9.981922</td>\n      <td>8.801749</td>\n    </tr>\n    <tr>\n      <th>(유)그룹세브코리아609692</th>\n      <td>NaN</td>\n      <td>NaN</td>\n      <td>NaN</td>\n      <td>NaN</td>\n      <td>NaN</td>\n      <td>NaN</td>\n      <td>NaN</td>\n      <td>NaN</td>\n      <td>NaN</td>\n      <td>6.442779</td>\n      <td>9.410569</td>\n    </tr>\n    <tr>\n      <th>...</th>\n      <td>...</td>\n      <td>...</td>\n      <td>...</td>\n      <td>...</td>\n      <td>...</td>\n      <td>...</td>\n      <td>...</td>\n      <td>...</td>\n      <td>...</td>\n      <td>...</td>\n      <td>...</td>\n    </tr>\n    <tr>\n      <th>히로세코리아(주)450090</th>\n      <td>6.855697</td>\n      <td>5.564996</td>\n      <td>11.442037</td>\n      <td>19.583005</td>\n      <td>23.466836</td>\n      <td>16.058947</td>\n      <td>14.776219</td>\n      <td>16.517296</td>\n      <td>15.694690</td>\n      <td>13.842516</td>\n      <td>21.014385</td>\n    </tr>\n    <tr>\n      <th>히스보험중개(주)197675</th>\n      <td>20.485650</td>\n      <td>25.216415</td>\n      <td>22.395650</td>\n      <td>11.154393</td>\n      <td>12.348497</td>\n      <td>9.747143</td>\n      <td>13.273385</td>\n      <td>18.943225</td>\n      <td>26.539916</td>\n      <td>11.269738</td>\n      <td>7.974028</td>\n    </tr>\n    <tr>\n      <th>히타치금속한국(주)041866</th>\n      <td>11.857878</td>\n      <td>8.789109</td>\n      <td>5.861072</td>\n      <td>7.458473</td>\n      <td>10.516277</td>\n      <td>13.186176</td>\n      <td>7.772011</td>\n      <td>2.987103</td>\n      <td>5.898281</td>\n      <td>4.967766</td>\n      <td>4.050301</td>\n    </tr>\n    <tr>\n      <th>히타치하이테크코리아(주)380165</th>\n      <td>9.230709</td>\n      <td>26.653861</td>\n      <td>24.376654</td>\n      <td>26.920400</td>\n      <td>12.975177</td>\n      <td>13.584738</td>\n      <td>11.683199</td>\n      <td>10.969722</td>\n      <td>35.524844</td>\n      <td>34.501340</td>\n      <td>22.685386</td>\n    </tr>\n    <tr>\n      <th>힐티코리아(주)389471</th>\n      <td>7.027204</td>\n      <td>4.366802</td>\n      <td>2.786312</td>\n      <td>3.545660</td>\n      <td>3.971263</td>\n      <td>4.181857</td>\n      <td>2.789865</td>\n      <td>2.610911</td>\n      <td>3.820559</td>\n      <td>3.746663</td>\n      <td>3.978038</td>\n    </tr>\n  </tbody>\n</table>\n<p>28972 rows × 11 columns</p>\n</div>"
     },
     "execution_count": 72,
     "metadata": {},
     "output_type": "execute_result"
    }
   ],
   "source": [
    "data.매영차 = pd.to_numeric(data.매영차)\n",
    "매영차_idx = data.pivot_table(columns='년도', index = '기업명', values='매영차', aggfunc='mean', dropna=False)\n",
    "매영차_idx"
   ]
  },
  {
   "cell_type": "markdown",
   "id": "5847dc85-4bf5-411a-9858-af08b2787b6b",
   "metadata": {},
   "source": [
    "#### 총자산증가율과 종업원수증가율 차이(TAEd)"
   ]
  },
  {
   "cell_type": "code",
   "execution_count": 73,
   "id": "8f212caf-06ed-4b62-b6d8-682a10b8868b",
   "metadata": {},
   "outputs": [
    {
     "data": {
      "text/plain": "년도                        2010   2011   2012   2013    2014   2015   2016  \\\n기업명                                                                         \n(유)가든주류244534              NaN    NaN    NaN    NaN     NaN    NaN    NaN   \n(유)건향개발I57907              NaN    NaN    NaN    NaN  200.00  33.33    NaN   \n(유)국제에이엠씨M00154            NaN    NaN    NaN    NaN     NaN    NaN  66.67   \n(유)그랜드유니버셜트레이딩코리아I83725    NaN    NaN    NaN    NaN     NaN    NaN    NaN   \n(유)그룹세브코리아609692           NaN    NaN    NaN    NaN     NaN    NaN    NaN   \n...                        ...    ...    ...    ...     ...    ...    ...   \n히로세코리아(주)450090          15.48  20.67  10.88   9.81    2.28   2.04  -2.37   \n히스보험중개(주)197675          20.00  40.00    NaN  42.86     NaN    NaN    NaN   \n히타치금속한국(주)041866           NaN  13.95  12.24    NaN    7.27  13.56  83.58   \n히타치하이테크코리아(주)380165        NaN    NaN -13.29  -2.00    6.12   2.56  -3.13   \n힐티코리아(주)389471            2.04  -0.67  -2.01   2.05    6.71  14.47   6.59   \n\n년도                        2017   2018   2019    2020  \n기업명                                                   \n(유)가든주류244534              NaN    NaN    NaN   10.20  \n(유)건향개발I57907              NaN  81.82   5.00  128.57  \n(유)국제에이엠씨M00154         -20.00 -25.00  66.67     NaN  \n(유)그랜드유니버셜트레이딩코리아I83725    NaN    NaN    NaN   28.57  \n(유)그룹세브코리아609692           NaN    NaN    NaN     NaN  \n...                        ...    ...    ...     ...  \n히로세코리아(주)450090          17.35   1.91   1.72   12.58  \n히스보험중개(주)197675            NaN  16.13  11.11   13.33  \n히타치금속한국(주)041866         -3.25   3.36  -4.88     NaN  \n히타치하이테크코리아(주)380165       4.52  14.20  21.08   11.16  \n힐티코리아(주)389471           13.92   9.95   0.82    3.27  \n\n[28972 rows x 11 columns]",
      "text/html": "<div>\n<style scoped>\n    .dataframe tbody tr th:only-of-type {\n        vertical-align: middle;\n    }\n\n    .dataframe tbody tr th {\n        vertical-align: top;\n    }\n\n    .dataframe thead th {\n        text-align: right;\n    }\n</style>\n<table border=\"1\" class=\"dataframe\">\n  <thead>\n    <tr style=\"text-align: right;\">\n      <th>년도</th>\n      <th>2010</th>\n      <th>2011</th>\n      <th>2012</th>\n      <th>2013</th>\n      <th>2014</th>\n      <th>2015</th>\n      <th>2016</th>\n      <th>2017</th>\n      <th>2018</th>\n      <th>2019</th>\n      <th>2020</th>\n    </tr>\n    <tr>\n      <th>기업명</th>\n      <th></th>\n      <th></th>\n      <th></th>\n      <th></th>\n      <th></th>\n      <th></th>\n      <th></th>\n      <th></th>\n      <th></th>\n      <th></th>\n      <th></th>\n    </tr>\n  </thead>\n  <tbody>\n    <tr>\n      <th>(유)가든주류244534</th>\n      <td>NaN</td>\n      <td>NaN</td>\n      <td>NaN</td>\n      <td>NaN</td>\n      <td>NaN</td>\n      <td>NaN</td>\n      <td>NaN</td>\n      <td>NaN</td>\n      <td>NaN</td>\n      <td>NaN</td>\n      <td>10.20</td>\n    </tr>\n    <tr>\n      <th>(유)건향개발I57907</th>\n      <td>NaN</td>\n      <td>NaN</td>\n      <td>NaN</td>\n      <td>NaN</td>\n      <td>200.00</td>\n      <td>33.33</td>\n      <td>NaN</td>\n      <td>NaN</td>\n      <td>81.82</td>\n      <td>5.00</td>\n      <td>128.57</td>\n    </tr>\n    <tr>\n      <th>(유)국제에이엠씨M00154</th>\n      <td>NaN</td>\n      <td>NaN</td>\n      <td>NaN</td>\n      <td>NaN</td>\n      <td>NaN</td>\n      <td>NaN</td>\n      <td>66.67</td>\n      <td>-20.00</td>\n      <td>-25.00</td>\n      <td>66.67</td>\n      <td>NaN</td>\n    </tr>\n    <tr>\n      <th>(유)그랜드유니버셜트레이딩코리아I83725</th>\n      <td>NaN</td>\n      <td>NaN</td>\n      <td>NaN</td>\n      <td>NaN</td>\n      <td>NaN</td>\n      <td>NaN</td>\n      <td>NaN</td>\n      <td>NaN</td>\n      <td>NaN</td>\n      <td>NaN</td>\n      <td>28.57</td>\n    </tr>\n    <tr>\n      <th>(유)그룹세브코리아609692</th>\n      <td>NaN</td>\n      <td>NaN</td>\n      <td>NaN</td>\n      <td>NaN</td>\n      <td>NaN</td>\n      <td>NaN</td>\n      <td>NaN</td>\n      <td>NaN</td>\n      <td>NaN</td>\n      <td>NaN</td>\n      <td>NaN</td>\n    </tr>\n    <tr>\n      <th>...</th>\n      <td>...</td>\n      <td>...</td>\n      <td>...</td>\n      <td>...</td>\n      <td>...</td>\n      <td>...</td>\n      <td>...</td>\n      <td>...</td>\n      <td>...</td>\n      <td>...</td>\n      <td>...</td>\n    </tr>\n    <tr>\n      <th>히로세코리아(주)450090</th>\n      <td>15.48</td>\n      <td>20.67</td>\n      <td>10.88</td>\n      <td>9.81</td>\n      <td>2.28</td>\n      <td>2.04</td>\n      <td>-2.37</td>\n      <td>17.35</td>\n      <td>1.91</td>\n      <td>1.72</td>\n      <td>12.58</td>\n    </tr>\n    <tr>\n      <th>히스보험중개(주)197675</th>\n      <td>20.00</td>\n      <td>40.00</td>\n      <td>NaN</td>\n      <td>42.86</td>\n      <td>NaN</td>\n      <td>NaN</td>\n      <td>NaN</td>\n      <td>NaN</td>\n      <td>16.13</td>\n      <td>11.11</td>\n      <td>13.33</td>\n    </tr>\n    <tr>\n      <th>히타치금속한국(주)041866</th>\n      <td>NaN</td>\n      <td>13.95</td>\n      <td>12.24</td>\n      <td>NaN</td>\n      <td>7.27</td>\n      <td>13.56</td>\n      <td>83.58</td>\n      <td>-3.25</td>\n      <td>3.36</td>\n      <td>-4.88</td>\n      <td>NaN</td>\n    </tr>\n    <tr>\n      <th>히타치하이테크코리아(주)380165</th>\n      <td>NaN</td>\n      <td>NaN</td>\n      <td>-13.29</td>\n      <td>-2.00</td>\n      <td>6.12</td>\n      <td>2.56</td>\n      <td>-3.13</td>\n      <td>4.52</td>\n      <td>14.20</td>\n      <td>21.08</td>\n      <td>11.16</td>\n    </tr>\n    <tr>\n      <th>힐티코리아(주)389471</th>\n      <td>2.04</td>\n      <td>-0.67</td>\n      <td>-2.01</td>\n      <td>2.05</td>\n      <td>6.71</td>\n      <td>14.47</td>\n      <td>6.59</td>\n      <td>13.92</td>\n      <td>9.95</td>\n      <td>0.82</td>\n      <td>3.27</td>\n    </tr>\n  </tbody>\n</table>\n<p>28972 rows × 11 columns</p>\n</div>"
     },
     "execution_count": 73,
     "metadata": {},
     "output_type": "execute_result"
    }
   ],
   "source": [
    "data.종업원수증가율 = pd.to_numeric(data.종업원수증가율)\n",
    "종업원수증가율_idx = data.pivot_table(columns='년도', index = '기업명', values='종업원수증가율', aggfunc='mean', dropna=False)\n",
    "종업원수증가율_idx"
   ]
  },
  {
   "cell_type": "code",
   "execution_count": 74,
   "id": "2e694c72-ea3f-4a3c-989e-37e368794c5c",
   "metadata": {},
   "outputs": [
    {
     "data": {
      "text/plain": "년도                        2010   2011   2012   2013    2014    2015   2016  \\\n기업명                                                                          \n(유)가든주류244534              NaN    NaN    NaN    NaN     NaN     NaN    NaN   \n(유)건향개발I57907              NaN    NaN    NaN    NaN  194.08  137.60    NaN   \n(유)국제에이엠씨M00154            NaN    NaN    NaN    NaN     NaN     NaN  97.21   \n(유)그랜드유니버셜트레이딩코리아I83725    NaN    NaN    NaN    NaN     NaN     NaN    NaN   \n(유)그룹세브코리아609692           NaN    NaN    NaN    NaN     NaN     NaN    NaN   \n...                        ...    ...    ...    ...     ...     ...    ...   \n히로세코리아(주)450090          15.37  15.02   9.12  24.70   26.25    1.61  14.00   \n히스보험중개(주)197675          20.17  12.07    NaN  17.93     NaN     NaN    NaN   \n히타치금속한국(주)041866           NaN   5.35   1.07    NaN    6.33   69.91  67.35   \n히타치하이테크코리아(주)380165        NaN    NaN  33.01  30.67    3.94   18.05  30.62   \n힐티코리아(주)389471            9.56  15.36   9.64   8.28    6.34    6.13   9.26   \n\n년도                        2017    2018   2019    2020  \n기업명                                                    \n(유)가든주류244534              NaN     NaN    NaN   11.12  \n(유)건향개발I57907              NaN  191.56   7.55  145.59  \n(유)국제에이엠씨M00154          20.56   17.65  55.46     NaN  \n(유)그랜드유니버셜트레이딩코리아I83725    NaN     NaN    NaN   28.85  \n(유)그룹세브코리아609692           NaN     NaN    NaN     NaN  \n...                        ...     ...    ...     ...  \n히로세코리아(주)450090           6.13    3.70  13.13    0.21  \n히스보험중개(주)197675            NaN   48.80  17.77   16.95  \n히타치금속한국(주)041866         12.85   14.18   0.22     NaN  \n히타치하이테크코리아(주)380165      16.36   71.62  47.02   13.14  \n힐티코리아(주)389471            0.74    6.72  14.52   17.49  \n\n[28972 rows x 11 columns]",
      "text/html": "<div>\n<style scoped>\n    .dataframe tbody tr th:only-of-type {\n        vertical-align: middle;\n    }\n\n    .dataframe tbody tr th {\n        vertical-align: top;\n    }\n\n    .dataframe thead th {\n        text-align: right;\n    }\n</style>\n<table border=\"1\" class=\"dataframe\">\n  <thead>\n    <tr style=\"text-align: right;\">\n      <th>년도</th>\n      <th>2010</th>\n      <th>2011</th>\n      <th>2012</th>\n      <th>2013</th>\n      <th>2014</th>\n      <th>2015</th>\n      <th>2016</th>\n      <th>2017</th>\n      <th>2018</th>\n      <th>2019</th>\n      <th>2020</th>\n    </tr>\n    <tr>\n      <th>기업명</th>\n      <th></th>\n      <th></th>\n      <th></th>\n      <th></th>\n      <th></th>\n      <th></th>\n      <th></th>\n      <th></th>\n      <th></th>\n      <th></th>\n      <th></th>\n    </tr>\n  </thead>\n  <tbody>\n    <tr>\n      <th>(유)가든주류244534</th>\n      <td>NaN</td>\n      <td>NaN</td>\n      <td>NaN</td>\n      <td>NaN</td>\n      <td>NaN</td>\n      <td>NaN</td>\n      <td>NaN</td>\n      <td>NaN</td>\n      <td>NaN</td>\n      <td>NaN</td>\n      <td>11.12</td>\n    </tr>\n    <tr>\n      <th>(유)건향개발I57907</th>\n      <td>NaN</td>\n      <td>NaN</td>\n      <td>NaN</td>\n      <td>NaN</td>\n      <td>194.08</td>\n      <td>137.60</td>\n      <td>NaN</td>\n      <td>NaN</td>\n      <td>191.56</td>\n      <td>7.55</td>\n      <td>145.59</td>\n    </tr>\n    <tr>\n      <th>(유)국제에이엠씨M00154</th>\n      <td>NaN</td>\n      <td>NaN</td>\n      <td>NaN</td>\n      <td>NaN</td>\n      <td>NaN</td>\n      <td>NaN</td>\n      <td>97.21</td>\n      <td>20.56</td>\n      <td>17.65</td>\n      <td>55.46</td>\n      <td>NaN</td>\n    </tr>\n    <tr>\n      <th>(유)그랜드유니버셜트레이딩코리아I83725</th>\n      <td>NaN</td>\n      <td>NaN</td>\n      <td>NaN</td>\n      <td>NaN</td>\n      <td>NaN</td>\n      <td>NaN</td>\n      <td>NaN</td>\n      <td>NaN</td>\n      <td>NaN</td>\n      <td>NaN</td>\n      <td>28.85</td>\n    </tr>\n    <tr>\n      <th>(유)그룹세브코리아609692</th>\n      <td>NaN</td>\n      <td>NaN</td>\n      <td>NaN</td>\n      <td>NaN</td>\n      <td>NaN</td>\n      <td>NaN</td>\n      <td>NaN</td>\n      <td>NaN</td>\n      <td>NaN</td>\n      <td>NaN</td>\n      <td>NaN</td>\n    </tr>\n    <tr>\n      <th>...</th>\n      <td>...</td>\n      <td>...</td>\n      <td>...</td>\n      <td>...</td>\n      <td>...</td>\n      <td>...</td>\n      <td>...</td>\n      <td>...</td>\n      <td>...</td>\n      <td>...</td>\n      <td>...</td>\n    </tr>\n    <tr>\n      <th>히로세코리아(주)450090</th>\n      <td>15.37</td>\n      <td>15.02</td>\n      <td>9.12</td>\n      <td>24.70</td>\n      <td>26.25</td>\n      <td>1.61</td>\n      <td>14.00</td>\n      <td>6.13</td>\n      <td>3.70</td>\n      <td>13.13</td>\n      <td>0.21</td>\n    </tr>\n    <tr>\n      <th>히스보험중개(주)197675</th>\n      <td>20.17</td>\n      <td>12.07</td>\n      <td>NaN</td>\n      <td>17.93</td>\n      <td>NaN</td>\n      <td>NaN</td>\n      <td>NaN</td>\n      <td>NaN</td>\n      <td>48.80</td>\n      <td>17.77</td>\n      <td>16.95</td>\n    </tr>\n    <tr>\n      <th>히타치금속한국(주)041866</th>\n      <td>NaN</td>\n      <td>5.35</td>\n      <td>1.07</td>\n      <td>NaN</td>\n      <td>6.33</td>\n      <td>69.91</td>\n      <td>67.35</td>\n      <td>12.85</td>\n      <td>14.18</td>\n      <td>0.22</td>\n      <td>NaN</td>\n    </tr>\n    <tr>\n      <th>히타치하이테크코리아(주)380165</th>\n      <td>NaN</td>\n      <td>NaN</td>\n      <td>33.01</td>\n      <td>30.67</td>\n      <td>3.94</td>\n      <td>18.05</td>\n      <td>30.62</td>\n      <td>16.36</td>\n      <td>71.62</td>\n      <td>47.02</td>\n      <td>13.14</td>\n    </tr>\n    <tr>\n      <th>힐티코리아(주)389471</th>\n      <td>9.56</td>\n      <td>15.36</td>\n      <td>9.64</td>\n      <td>8.28</td>\n      <td>6.34</td>\n      <td>6.13</td>\n      <td>9.26</td>\n      <td>0.74</td>\n      <td>6.72</td>\n      <td>14.52</td>\n      <td>17.49</td>\n    </tr>\n  </tbody>\n</table>\n<p>28972 rows × 11 columns</p>\n</div>"
     },
     "execution_count": 74,
     "metadata": {},
     "output_type": "execute_result"
    }
   ],
   "source": [
    "data.총자산증가율 = pd.to_numeric(data.총자산증가율)\n",
    "총자산증가율_idx = data.pivot_table(columns='년도', index = '기업명', values='총자산증가율', aggfunc='mean', dropna=False)\n",
    "총종차_idx = abs(총자산증가율_idx - 종업원수증가율_idx) #편의상 '총자산증가율과종업원수증가율차이'를 '총종차'로 축약해서 사용\n",
    "총종차_idx"
   ]
  },
  {
   "cell_type": "markdown",
   "id": "c94c3aa5-1273-4643-9587-2f11a1ef4e30",
   "metadata": {},
   "source": [
    "#### 오류수정 및 회계정책 변경(EC)"
   ]
  },
  {
   "cell_type": "code",
   "execution_count": 75,
   "id": "17900006-3bca-4fe8-a510-0a9b946a071b",
   "metadata": {},
   "outputs": [
    {
     "data": {
      "text/plain": "                        기업명    년도  오류수정및회계정책변경여부\n0             청우화학(주)000083  2010              0\n1             청우화학(주)000083  2011              0\n2             청우화학(주)000083  2012              0\n3             청우화학(주)000083  2013              0\n4             청우화학(주)000083  2014              0\n...                     ...   ...            ...\n318687  (주)메디라인액티브코리아Y32604  2016              0\n318688  (주)메디라인액티브코리아Y32604  2017              0\n318689  (주)메디라인액티브코리아Y32604  2018              0\n318690  (주)메디라인액티브코리아Y32604  2019              0\n318691  (주)메디라인액티브코리아Y32604  2020              0\n\n[318692 rows x 3 columns]",
      "text/html": "<div>\n<style scoped>\n    .dataframe tbody tr th:only-of-type {\n        vertical-align: middle;\n    }\n\n    .dataframe tbody tr th {\n        vertical-align: top;\n    }\n\n    .dataframe thead th {\n        text-align: right;\n    }\n</style>\n<table border=\"1\" class=\"dataframe\">\n  <thead>\n    <tr style=\"text-align: right;\">\n      <th></th>\n      <th>기업명</th>\n      <th>년도</th>\n      <th>오류수정및회계정책변경여부</th>\n    </tr>\n  </thead>\n  <tbody>\n    <tr>\n      <th>0</th>\n      <td>청우화학(주)000083</td>\n      <td>2010</td>\n      <td>0</td>\n    </tr>\n    <tr>\n      <th>1</th>\n      <td>청우화학(주)000083</td>\n      <td>2011</td>\n      <td>0</td>\n    </tr>\n    <tr>\n      <th>2</th>\n      <td>청우화학(주)000083</td>\n      <td>2012</td>\n      <td>0</td>\n    </tr>\n    <tr>\n      <th>3</th>\n      <td>청우화학(주)000083</td>\n      <td>2013</td>\n      <td>0</td>\n    </tr>\n    <tr>\n      <th>4</th>\n      <td>청우화학(주)000083</td>\n      <td>2014</td>\n      <td>0</td>\n    </tr>\n    <tr>\n      <th>...</th>\n      <td>...</td>\n      <td>...</td>\n      <td>...</td>\n    </tr>\n    <tr>\n      <th>318687</th>\n      <td>(주)메디라인액티브코리아Y32604</td>\n      <td>2016</td>\n      <td>0</td>\n    </tr>\n    <tr>\n      <th>318688</th>\n      <td>(주)메디라인액티브코리아Y32604</td>\n      <td>2017</td>\n      <td>0</td>\n    </tr>\n    <tr>\n      <th>318689</th>\n      <td>(주)메디라인액티브코리아Y32604</td>\n      <td>2018</td>\n      <td>0</td>\n    </tr>\n    <tr>\n      <th>318690</th>\n      <td>(주)메디라인액티브코리아Y32604</td>\n      <td>2019</td>\n      <td>0</td>\n    </tr>\n    <tr>\n      <th>318691</th>\n      <td>(주)메디라인액티브코리아Y32604</td>\n      <td>2020</td>\n      <td>0</td>\n    </tr>\n  </tbody>\n</table>\n<p>318692 rows × 3 columns</p>\n</div>"
     },
     "execution_count": 75,
     "metadata": {},
     "output_type": "execute_result"
    }
   ],
   "source": [
    "오류수정및회계정책변경.rename(columns = {'Unnamed: 2' : '기업명'}, inplace = True)\n",
    "오류수정및회계정책변경.rename(columns = {'level_1' : '년도'}, inplace = True)\n",
    "오류수정및회계정책변경['오류수정및회계정책변경'] = 오류수정및회계정책변경.오류수정및회계정책변경.apply(lambda x: 1 if x == 'NaN' else 0) #Nan은 0으로, 나머지 값은 1로 변환\n",
    "오류수정및회계정책변경.rename(columns = {'오류수정및회계정책변경' : '오류수정및회계정책변경여부'}, inplace = True)\n",
    "오류수정및회계정책변경"
   ]
  },
  {
   "cell_type": "markdown",
   "id": "247d174c-0a4a-43e8-b857-b4f0b99cf6bf",
   "metadata": {},
   "source": [
    "### 5) 기업의 규모 지표"
   ]
  },
  {
   "cell_type": "markdown",
   "id": "5ed5f0c7-8846-4de5-aafc-7cfe46229bb0",
   "metadata": {},
   "source": [
    "#### 자산총계(TA)"
   ]
  },
  {
   "cell_type": "code",
   "execution_count": 76,
   "id": "c31bd4b1-6579-4e76-aa2d-5cf856c2880a",
   "metadata": {},
   "outputs": [],
   "source": [
    "data.자산총계 = pd.to_numeric(data.자산총계)\n",
    "data.자산총계 = np.log(data.자산총계) #값이 너무 커서 로그값을 취함 for normalize"
   ]
  },
  {
   "cell_type": "code",
   "execution_count": 77,
   "id": "f7dbf0af-9656-432a-8d39-e216448088ba",
   "metadata": {},
   "outputs": [
    {
     "data": {
      "text/plain": "년도                            2010       2011       2012       2013  \\\n기업명                                                                   \n(유)가든주류244534            23.546056  23.755892  23.656948  23.763009   \n(유)건향개발I57907                  NaN  19.992317  20.482245  20.385970   \n(유)국제에이엠씨M00154                NaN        NaN        NaN        NaN   \n(유)그랜드유니버셜트레이딩코리아I83725        NaN        NaN        NaN  21.920530   \n(유)그룹세브코리아609692               NaN        NaN        NaN        NaN   \n...                            ...        ...        ...        ...   \n히로세코리아(주)450090          25.736425  25.791357  25.973713  26.270152   \n히스보험중개(주)197675          22.385553  22.804746  22.797854  23.020444   \n히타치금속한국(주)041866         23.658446  23.834932  23.959902  24.054257   \n히타치하이테크코리아(주)380165      23.627712  24.130696  24.310677  24.562794   \n힐티코리아(주)389471           23.981901  24.118968  23.995146  24.093462   \n\n년도                            2014       2015       2016       2017  \\\n기업명                                                                   \n(유)가든주류244534            23.774551  23.862884  24.031228  23.989281   \n(유)건향개발I57907            20.443490  21.440165  22.185263  22.442576   \n(유)국제에이엠씨M00154          22.306228  23.059207  24.029533  24.035101   \n(유)그랜드유니버셜트레이딩코리아I83725        NaN        NaN        NaN  23.758224   \n(유)그룹세브코리아609692               NaN        NaN        NaN        NaN   \n...                            ...        ...        ...        ...   \n히로세코리아(주)450090          26.521115  26.556922  26.666930  26.773233   \n히스보험중개(주)197675          23.192901  23.199897  23.440390  23.405735   \n히타치금속한국(주)041866         24.063619  24.670483  24.820886  24.912525   \n히타치하이테크코리아(주)380165      24.584371  24.416087  24.658931  24.532952   \n힐티코리아(주)389471           24.097181  24.284504  24.257440  24.394284   \n\n년도                            2018       2019       2020  \n기업명                                                       \n(유)가든주류244534            24.130749  24.227218  24.217976  \n(유)건향개발I57907            23.759990  23.878219  23.691609  \n(유)국제에이엠씨M00154          23.958784  24.065055  24.045780  \n(유)그랜드유니버셜트레이딩코리아I83725  23.541581  23.757676  24.211416  \n(유)그룹세브코리아609692               NaN  24.653468  24.890705  \n...                            ...        ...        ...  \n히로세코리아(주)450090          26.827796  26.966268  27.082876  \n히스보험중개(주)197675          23.906064  23.837159  23.800239  \n히타치금속한국(주)041866         25.074152  25.021786  25.079976  \n히타치하이테크코리아(주)380165      25.152534  24.852281  24.832301  \n힐티코리아(주)389471           24.426058  24.568740  24.757369  \n\n[28972 rows x 11 columns]",
      "text/html": "<div>\n<style scoped>\n    .dataframe tbody tr th:only-of-type {\n        vertical-align: middle;\n    }\n\n    .dataframe tbody tr th {\n        vertical-align: top;\n    }\n\n    .dataframe thead th {\n        text-align: right;\n    }\n</style>\n<table border=\"1\" class=\"dataframe\">\n  <thead>\n    <tr style=\"text-align: right;\">\n      <th>년도</th>\n      <th>2010</th>\n      <th>2011</th>\n      <th>2012</th>\n      <th>2013</th>\n      <th>2014</th>\n      <th>2015</th>\n      <th>2016</th>\n      <th>2017</th>\n      <th>2018</th>\n      <th>2019</th>\n      <th>2020</th>\n    </tr>\n    <tr>\n      <th>기업명</th>\n      <th></th>\n      <th></th>\n      <th></th>\n      <th></th>\n      <th></th>\n      <th></th>\n      <th></th>\n      <th></th>\n      <th></th>\n      <th></th>\n      <th></th>\n    </tr>\n  </thead>\n  <tbody>\n    <tr>\n      <th>(유)가든주류244534</th>\n      <td>23.546056</td>\n      <td>23.755892</td>\n      <td>23.656948</td>\n      <td>23.763009</td>\n      <td>23.774551</td>\n      <td>23.862884</td>\n      <td>24.031228</td>\n      <td>23.989281</td>\n      <td>24.130749</td>\n      <td>24.227218</td>\n      <td>24.217976</td>\n    </tr>\n    <tr>\n      <th>(유)건향개발I57907</th>\n      <td>NaN</td>\n      <td>19.992317</td>\n      <td>20.482245</td>\n      <td>20.385970</td>\n      <td>20.443490</td>\n      <td>21.440165</td>\n      <td>22.185263</td>\n      <td>22.442576</td>\n      <td>23.759990</td>\n      <td>23.878219</td>\n      <td>23.691609</td>\n    </tr>\n    <tr>\n      <th>(유)국제에이엠씨M00154</th>\n      <td>NaN</td>\n      <td>NaN</td>\n      <td>NaN</td>\n      <td>NaN</td>\n      <td>22.306228</td>\n      <td>23.059207</td>\n      <td>24.029533</td>\n      <td>24.035101</td>\n      <td>23.958784</td>\n      <td>24.065055</td>\n      <td>24.045780</td>\n    </tr>\n    <tr>\n      <th>(유)그랜드유니버셜트레이딩코리아I83725</th>\n      <td>NaN</td>\n      <td>NaN</td>\n      <td>NaN</td>\n      <td>21.920530</td>\n      <td>NaN</td>\n      <td>NaN</td>\n      <td>NaN</td>\n      <td>23.758224</td>\n      <td>23.541581</td>\n      <td>23.757676</td>\n      <td>24.211416</td>\n    </tr>\n    <tr>\n      <th>(유)그룹세브코리아609692</th>\n      <td>NaN</td>\n      <td>NaN</td>\n      <td>NaN</td>\n      <td>NaN</td>\n      <td>NaN</td>\n      <td>NaN</td>\n      <td>NaN</td>\n      <td>NaN</td>\n      <td>NaN</td>\n      <td>24.653468</td>\n      <td>24.890705</td>\n    </tr>\n    <tr>\n      <th>...</th>\n      <td>...</td>\n      <td>...</td>\n      <td>...</td>\n      <td>...</td>\n      <td>...</td>\n      <td>...</td>\n      <td>...</td>\n      <td>...</td>\n      <td>...</td>\n      <td>...</td>\n      <td>...</td>\n    </tr>\n    <tr>\n      <th>히로세코리아(주)450090</th>\n      <td>25.736425</td>\n      <td>25.791357</td>\n      <td>25.973713</td>\n      <td>26.270152</td>\n      <td>26.521115</td>\n      <td>26.556922</td>\n      <td>26.666930</td>\n      <td>26.773233</td>\n      <td>26.827796</td>\n      <td>26.966268</td>\n      <td>27.082876</td>\n    </tr>\n    <tr>\n      <th>히스보험중개(주)197675</th>\n      <td>22.385553</td>\n      <td>22.804746</td>\n      <td>22.797854</td>\n      <td>23.020444</td>\n      <td>23.192901</td>\n      <td>23.199897</td>\n      <td>23.440390</td>\n      <td>23.405735</td>\n      <td>23.906064</td>\n      <td>23.837159</td>\n      <td>23.800239</td>\n    </tr>\n    <tr>\n      <th>히타치금속한국(주)041866</th>\n      <td>23.658446</td>\n      <td>23.834932</td>\n      <td>23.959902</td>\n      <td>24.054257</td>\n      <td>24.063619</td>\n      <td>24.670483</td>\n      <td>24.820886</td>\n      <td>24.912525</td>\n      <td>25.074152</td>\n      <td>25.021786</td>\n      <td>25.079976</td>\n    </tr>\n    <tr>\n      <th>히타치하이테크코리아(주)380165</th>\n      <td>23.627712</td>\n      <td>24.130696</td>\n      <td>24.310677</td>\n      <td>24.562794</td>\n      <td>24.584371</td>\n      <td>24.416087</td>\n      <td>24.658931</td>\n      <td>24.532952</td>\n      <td>25.152534</td>\n      <td>24.852281</td>\n      <td>24.832301</td>\n    </tr>\n    <tr>\n      <th>힐티코리아(주)389471</th>\n      <td>23.981901</td>\n      <td>24.118968</td>\n      <td>23.995146</td>\n      <td>24.093462</td>\n      <td>24.097181</td>\n      <td>24.284504</td>\n      <td>24.257440</td>\n      <td>24.394284</td>\n      <td>24.426058</td>\n      <td>24.568740</td>\n      <td>24.757369</td>\n    </tr>\n  </tbody>\n</table>\n<p>28972 rows × 11 columns</p>\n</div>"
     },
     "execution_count": 77,
     "metadata": {},
     "output_type": "execute_result"
    }
   ],
   "source": [
    "data.자산총계 = pd.to_numeric(data.자산총계)\n",
    "자산총계_idx = data.pivot_table(columns='년도', index = '기업명', values='자산총계', aggfunc='mean', dropna=False)\n",
    "자산총계_idx"
   ]
  },
  {
   "cell_type": "markdown",
   "id": "1546ab26-7160-4e6a-b326-e527cfd126be",
   "metadata": {},
   "source": [
    "#### 상장구분(KRXC)"
   ]
  },
  {
   "cell_type": "code",
   "execution_count": 78,
   "id": "7d26fb19-1e6b-4120-b890-fe22a06f9852",
   "metadata": {},
   "outputs": [
    {
     "data": {
      "text/plain": "                      Name   상장구분\n0            청우화학(주)000083     외감\n1         (주)메타바이오메드000292  코스닥상장\n2              (주)코라000366     외감\n3           (주)이건홀딩스000442  코스닥상장\n4            동성인쇄(주)000469     외감\n...                    ...    ...\n28967       (주)에이플러스V17430     외감\n28968        (주)인터코스X02373    코넥스\n28969        (주)에스엘씨X57312     외감\n28970  농업회사법인한국양계(주)X91216     외감\n28971  (주)메디라인액티브코리아Y32604     외감\n\n[28972 rows x 2 columns]",
      "text/html": "<div>\n<style scoped>\n    .dataframe tbody tr th:only-of-type {\n        vertical-align: middle;\n    }\n\n    .dataframe tbody tr th {\n        vertical-align: top;\n    }\n\n    .dataframe thead th {\n        text-align: right;\n    }\n</style>\n<table border=\"1\" class=\"dataframe\">\n  <thead>\n    <tr style=\"text-align: right;\">\n      <th></th>\n      <th>Name</th>\n      <th>상장구분</th>\n    </tr>\n  </thead>\n  <tbody>\n    <tr>\n      <th>0</th>\n      <td>청우화학(주)000083</td>\n      <td>외감</td>\n    </tr>\n    <tr>\n      <th>1</th>\n      <td>(주)메타바이오메드000292</td>\n      <td>코스닥상장</td>\n    </tr>\n    <tr>\n      <th>2</th>\n      <td>(주)코라000366</td>\n      <td>외감</td>\n    </tr>\n    <tr>\n      <th>3</th>\n      <td>(주)이건홀딩스000442</td>\n      <td>코스닥상장</td>\n    </tr>\n    <tr>\n      <th>4</th>\n      <td>동성인쇄(주)000469</td>\n      <td>외감</td>\n    </tr>\n    <tr>\n      <th>...</th>\n      <td>...</td>\n      <td>...</td>\n    </tr>\n    <tr>\n      <th>28967</th>\n      <td>(주)에이플러스V17430</td>\n      <td>외감</td>\n    </tr>\n    <tr>\n      <th>28968</th>\n      <td>(주)인터코스X02373</td>\n      <td>코넥스</td>\n    </tr>\n    <tr>\n      <th>28969</th>\n      <td>(주)에스엘씨X57312</td>\n      <td>외감</td>\n    </tr>\n    <tr>\n      <th>28970</th>\n      <td>농업회사법인한국양계(주)X91216</td>\n      <td>외감</td>\n    </tr>\n    <tr>\n      <th>28971</th>\n      <td>(주)메디라인액티브코리아Y32604</td>\n      <td>외감</td>\n    </tr>\n  </tbody>\n</table>\n<p>28972 rows × 2 columns</p>\n</div>"
     },
     "execution_count": 78,
     "metadata": {},
     "output_type": "execute_result"
    }
   ],
   "source": [
    "상장구분 = pd.read_excel('data/index/시장구분.xls', skiprows=[0, 1, 2, 3, 4, 5])\n",
    "상장구분['Name'] = 상장구분['Name'] + 상장구분['KIS']\n",
    "상장구분 = 상장구분[['Name', '소속/시장구분/0A0002']]\n",
    "상장구분.columns = ['Name', '상장구분']\n",
    "상장구분"
   ]
  },
  {
   "cell_type": "code",
   "execution_count": 79,
   "id": "e9fbf82e-d67a-4ddf-82b0-e33618934057",
   "metadata": {},
   "outputs": [
    {
     "data": {
      "text/plain": "                        기업명    년도          매출액         당기순이익 매출액영업이익률  \\\n0             청우화학(주)000083  2010   5005091000           NaN     3.06   \n1             청우화학(주)000083  2011   5547721000           NaN     3.72   \n2             청우화학(주)000083  2012   6387805000           NaN     4.97   \n3             청우화학(주)000083  2013   6353868000           NaN    13.01   \n4             청우화학(주)000083  2014   6897317000           NaN    15.21   \n...                     ...   ...          ...           ...      ...   \n318687  (주)메디라인액티브코리아Y32604  2016  15311754000           NaN     9.46   \n318688  (주)메디라인액티브코리아Y32604  2017  18627175000           NaN    10.29   \n318689  (주)메디라인액티브코리아Y32604  2018  22755938000           NaN        9   \n318690  (주)메디라인액티브코리아Y32604  2019  27419993000  1.712602e+09     8.22   \n318691  (주)메디라인액티브코리아Y32604  2020  28979475000  1.728057e+09     6.94   \n\n        매출채권회전율    부채비율      영업활동현금흐름    유동비율  자기자본순이익률  ...  장기매출채권대손충당금  \\\n0          4.06   88.63           NaN  154.57     11.39  ...            0   \n1          4.77   73.44           NaN  179.11     12.40  ...            0   \n2          5.53   65.12           NaN  203.14     16.18  ...            0   \n3          4.92   53.64           NaN  240.93     32.69  ...            0   \n4          4.71   54.85           NaN  156.80     32.34  ...            0   \n...         ...     ...           ...     ...       ...  ...          ...   \n318687     6.90  329.38           NaN  135.24     90.42  ...            0   \n318688     5.28  285.79           NaN  178.41     24.04  ...            0   \n318689     5.47  235.55           NaN  219.69     63.15  ...            0   \n318690     5.51  204.80  4.338040e+08  178.89     50.14  ...            0   \n318691     4.81  201.65  1.880193e+09  254.43     37.02  ...            0   \n\n              매출채권  매출채권대손충당금     장기매출채권    감사법인        감사의견     대손충당금  \\\n0       1322917000   11431000  191252000     NaN         NaN  11431000   \n1       1347367000   11809000  178238000     NaN         NaN  11809000   \n2       1122526000   11302000    3623000     NaN         NaN  11302000   \n3       1437747000   14523000          0     NaN         NaN  14523000   \n4       1460703000   14755000          0     NaN         NaN  14755000   \n...            ...        ...        ...     ...         ...       ...   \n318687  2732633000   27602000          0     NaN         NaN  27602000   \n318688  4249821000   42927000          0     NaN         NaN  42927000   \n318689  3992972000   40333000          0     NaN         NaN  40333000   \n318690  5910729000          0          0     NaN        감사미필         0   \n318691  6149909000          0          0  한울회계법인  한정(감사범위제한)         0   \n\n          대손충당금율       매영차  상장구분  \n0       0.008641       NaN    외감  \n1       0.008765       NaN    외감  \n2       0.010068       NaN    외감  \n3       0.010101       NaN    외감  \n4       0.010101       NaN    외감  \n...          ...       ...   ...  \n318687  0.010101       NaN    외감  \n318688  0.010101       NaN    외감  \n318689  0.010101       NaN    외감  \n318690  0.000000  8.204179    외감  \n318691  0.000000  6.875120    외감  \n\n[318692 rows x 33 columns]",
      "text/html": "<div>\n<style scoped>\n    .dataframe tbody tr th:only-of-type {\n        vertical-align: middle;\n    }\n\n    .dataframe tbody tr th {\n        vertical-align: top;\n    }\n\n    .dataframe thead th {\n        text-align: right;\n    }\n</style>\n<table border=\"1\" class=\"dataframe\">\n  <thead>\n    <tr style=\"text-align: right;\">\n      <th></th>\n      <th>기업명</th>\n      <th>년도</th>\n      <th>매출액</th>\n      <th>당기순이익</th>\n      <th>매출액영업이익률</th>\n      <th>매출채권회전율</th>\n      <th>부채비율</th>\n      <th>영업활동현금흐름</th>\n      <th>유동비율</th>\n      <th>자기자본순이익률</th>\n      <th>...</th>\n      <th>장기매출채권대손충당금</th>\n      <th>매출채권</th>\n      <th>매출채권대손충당금</th>\n      <th>장기매출채권</th>\n      <th>감사법인</th>\n      <th>감사의견</th>\n      <th>대손충당금</th>\n      <th>대손충당금율</th>\n      <th>매영차</th>\n      <th>상장구분</th>\n    </tr>\n  </thead>\n  <tbody>\n    <tr>\n      <th>0</th>\n      <td>청우화학(주)000083</td>\n      <td>2010</td>\n      <td>5005091000</td>\n      <td>NaN</td>\n      <td>3.06</td>\n      <td>4.06</td>\n      <td>88.63</td>\n      <td>NaN</td>\n      <td>154.57</td>\n      <td>11.39</td>\n      <td>...</td>\n      <td>0</td>\n      <td>1322917000</td>\n      <td>11431000</td>\n      <td>191252000</td>\n      <td>NaN</td>\n      <td>NaN</td>\n      <td>11431000</td>\n      <td>0.008641</td>\n      <td>NaN</td>\n      <td>외감</td>\n    </tr>\n    <tr>\n      <th>1</th>\n      <td>청우화학(주)000083</td>\n      <td>2011</td>\n      <td>5547721000</td>\n      <td>NaN</td>\n      <td>3.72</td>\n      <td>4.77</td>\n      <td>73.44</td>\n      <td>NaN</td>\n      <td>179.11</td>\n      <td>12.40</td>\n      <td>...</td>\n      <td>0</td>\n      <td>1347367000</td>\n      <td>11809000</td>\n      <td>178238000</td>\n      <td>NaN</td>\n      <td>NaN</td>\n      <td>11809000</td>\n      <td>0.008765</td>\n      <td>NaN</td>\n      <td>외감</td>\n    </tr>\n    <tr>\n      <th>2</th>\n      <td>청우화학(주)000083</td>\n      <td>2012</td>\n      <td>6387805000</td>\n      <td>NaN</td>\n      <td>4.97</td>\n      <td>5.53</td>\n      <td>65.12</td>\n      <td>NaN</td>\n      <td>203.14</td>\n      <td>16.18</td>\n      <td>...</td>\n      <td>0</td>\n      <td>1122526000</td>\n      <td>11302000</td>\n      <td>3623000</td>\n      <td>NaN</td>\n      <td>NaN</td>\n      <td>11302000</td>\n      <td>0.010068</td>\n      <td>NaN</td>\n      <td>외감</td>\n    </tr>\n    <tr>\n      <th>3</th>\n      <td>청우화학(주)000083</td>\n      <td>2013</td>\n      <td>6353868000</td>\n      <td>NaN</td>\n      <td>13.01</td>\n      <td>4.92</td>\n      <td>53.64</td>\n      <td>NaN</td>\n      <td>240.93</td>\n      <td>32.69</td>\n      <td>...</td>\n      <td>0</td>\n      <td>1437747000</td>\n      <td>14523000</td>\n      <td>0</td>\n      <td>NaN</td>\n      <td>NaN</td>\n      <td>14523000</td>\n      <td>0.010101</td>\n      <td>NaN</td>\n      <td>외감</td>\n    </tr>\n    <tr>\n      <th>4</th>\n      <td>청우화학(주)000083</td>\n      <td>2014</td>\n      <td>6897317000</td>\n      <td>NaN</td>\n      <td>15.21</td>\n      <td>4.71</td>\n      <td>54.85</td>\n      <td>NaN</td>\n      <td>156.80</td>\n      <td>32.34</td>\n      <td>...</td>\n      <td>0</td>\n      <td>1460703000</td>\n      <td>14755000</td>\n      <td>0</td>\n      <td>NaN</td>\n      <td>NaN</td>\n      <td>14755000</td>\n      <td>0.010101</td>\n      <td>NaN</td>\n      <td>외감</td>\n    </tr>\n    <tr>\n      <th>...</th>\n      <td>...</td>\n      <td>...</td>\n      <td>...</td>\n      <td>...</td>\n      <td>...</td>\n      <td>...</td>\n      <td>...</td>\n      <td>...</td>\n      <td>...</td>\n      <td>...</td>\n      <td>...</td>\n      <td>...</td>\n      <td>...</td>\n      <td>...</td>\n      <td>...</td>\n      <td>...</td>\n      <td>...</td>\n      <td>...</td>\n      <td>...</td>\n      <td>...</td>\n      <td>...</td>\n    </tr>\n    <tr>\n      <th>318687</th>\n      <td>(주)메디라인액티브코리아Y32604</td>\n      <td>2016</td>\n      <td>15311754000</td>\n      <td>NaN</td>\n      <td>9.46</td>\n      <td>6.90</td>\n      <td>329.38</td>\n      <td>NaN</td>\n      <td>135.24</td>\n      <td>90.42</td>\n      <td>...</td>\n      <td>0</td>\n      <td>2732633000</td>\n      <td>27602000</td>\n      <td>0</td>\n      <td>NaN</td>\n      <td>NaN</td>\n      <td>27602000</td>\n      <td>0.010101</td>\n      <td>NaN</td>\n      <td>외감</td>\n    </tr>\n    <tr>\n      <th>318688</th>\n      <td>(주)메디라인액티브코리아Y32604</td>\n      <td>2017</td>\n      <td>18627175000</td>\n      <td>NaN</td>\n      <td>10.29</td>\n      <td>5.28</td>\n      <td>285.79</td>\n      <td>NaN</td>\n      <td>178.41</td>\n      <td>24.04</td>\n      <td>...</td>\n      <td>0</td>\n      <td>4249821000</td>\n      <td>42927000</td>\n      <td>0</td>\n      <td>NaN</td>\n      <td>NaN</td>\n      <td>42927000</td>\n      <td>0.010101</td>\n      <td>NaN</td>\n      <td>외감</td>\n    </tr>\n    <tr>\n      <th>318689</th>\n      <td>(주)메디라인액티브코리아Y32604</td>\n      <td>2018</td>\n      <td>22755938000</td>\n      <td>NaN</td>\n      <td>9</td>\n      <td>5.47</td>\n      <td>235.55</td>\n      <td>NaN</td>\n      <td>219.69</td>\n      <td>63.15</td>\n      <td>...</td>\n      <td>0</td>\n      <td>3992972000</td>\n      <td>40333000</td>\n      <td>0</td>\n      <td>NaN</td>\n      <td>NaN</td>\n      <td>40333000</td>\n      <td>0.010101</td>\n      <td>NaN</td>\n      <td>외감</td>\n    </tr>\n    <tr>\n      <th>318690</th>\n      <td>(주)메디라인액티브코리아Y32604</td>\n      <td>2019</td>\n      <td>27419993000</td>\n      <td>1.712602e+09</td>\n      <td>8.22</td>\n      <td>5.51</td>\n      <td>204.80</td>\n      <td>4.338040e+08</td>\n      <td>178.89</td>\n      <td>50.14</td>\n      <td>...</td>\n      <td>0</td>\n      <td>5910729000</td>\n      <td>0</td>\n      <td>0</td>\n      <td>NaN</td>\n      <td>감사미필</td>\n      <td>0</td>\n      <td>0.000000</td>\n      <td>8.204179</td>\n      <td>외감</td>\n    </tr>\n    <tr>\n      <th>318691</th>\n      <td>(주)메디라인액티브코리아Y32604</td>\n      <td>2020</td>\n      <td>28979475000</td>\n      <td>1.728057e+09</td>\n      <td>6.94</td>\n      <td>4.81</td>\n      <td>201.65</td>\n      <td>1.880193e+09</td>\n      <td>254.43</td>\n      <td>37.02</td>\n      <td>...</td>\n      <td>0</td>\n      <td>6149909000</td>\n      <td>0</td>\n      <td>0</td>\n      <td>한울회계법인</td>\n      <td>한정(감사범위제한)</td>\n      <td>0</td>\n      <td>0.000000</td>\n      <td>6.875120</td>\n      <td>외감</td>\n    </tr>\n  </tbody>\n</table>\n<p>318692 rows × 33 columns</p>\n</div>"
     },
     "execution_count": 79,
     "metadata": {},
     "output_type": "execute_result"
    }
   ],
   "source": [
    "data = pd.merge(data, 상장구분, how = 'left', left_on = '기업명', right_on = 'Name') #data에 상장구분 내용 추가\n",
    "data = data.drop('Name', axis = 1)\n",
    "data"
   ]
  },
  {
   "cell_type": "code",
   "execution_count": 80,
   "id": "8d342728-6c7a-4db8-8483-3df5679ee923",
   "metadata": {},
   "outputs": [
    {
     "data": {
      "text/plain": "외감       290939\n코스닥상장     15378\n상장         9724\n코넥스        1441\n코스닥관리      1067\n상장관리        143\nName: 상장구분, dtype: int64"
     },
     "execution_count": 80,
     "metadata": {},
     "output_type": "execute_result"
    }
   ],
   "source": [
    "data.상장구분.value_counts()"
   ]
  },
  {
   "cell_type": "code",
   "execution_count": 81,
   "id": "7080ee3c-0adf-42bf-ade7-58af567ab256",
   "metadata": {},
   "outputs": [
    {
     "data": {
      "text/plain": "                        기업명    년도          매출액         당기순이익 매출액영업이익률  \\\n0             청우화학(주)000083  2010   5005091000           NaN     3.06   \n1             청우화학(주)000083  2011   5547721000           NaN     3.72   \n2             청우화학(주)000083  2012   6387805000           NaN     4.97   \n3             청우화학(주)000083  2013   6353868000           NaN    13.01   \n4             청우화학(주)000083  2014   6897317000           NaN    15.21   \n...                     ...   ...          ...           ...      ...   \n318687  (주)메디라인액티브코리아Y32604  2016  15311754000           NaN     9.46   \n318688  (주)메디라인액티브코리아Y32604  2017  18627175000           NaN    10.29   \n318689  (주)메디라인액티브코리아Y32604  2018  22755938000           NaN        9   \n318690  (주)메디라인액티브코리아Y32604  2019  27419993000  1.712602e+09     8.22   \n318691  (주)메디라인액티브코리아Y32604  2020  28979475000  1.728057e+09     6.94   \n\n        매출채권회전율    부채비율      영업활동현금흐름    유동비율  자기자본순이익률  ...  장기매출채권대손충당금  \\\n0          4.06   88.63           NaN  154.57     11.39  ...            0   \n1          4.77   73.44           NaN  179.11     12.40  ...            0   \n2          5.53   65.12           NaN  203.14     16.18  ...            0   \n3          4.92   53.64           NaN  240.93     32.69  ...            0   \n4          4.71   54.85           NaN  156.80     32.34  ...            0   \n...         ...     ...           ...     ...       ...  ...          ...   \n318687     6.90  329.38           NaN  135.24     90.42  ...            0   \n318688     5.28  285.79           NaN  178.41     24.04  ...            0   \n318689     5.47  235.55           NaN  219.69     63.15  ...            0   \n318690     5.51  204.80  4.338040e+08  178.89     50.14  ...            0   \n318691     4.81  201.65  1.880193e+09  254.43     37.02  ...            0   \n\n              매출채권  매출채권대손충당금     장기매출채권    감사법인        감사의견     대손충당금  \\\n0       1322917000   11431000  191252000     NaN         NaN  11431000   \n1       1347367000   11809000  178238000     NaN         NaN  11809000   \n2       1122526000   11302000    3623000     NaN         NaN  11302000   \n3       1437747000   14523000          0     NaN         NaN  14523000   \n4       1460703000   14755000          0     NaN         NaN  14755000   \n...            ...        ...        ...     ...         ...       ...   \n318687  2732633000   27602000          0     NaN         NaN  27602000   \n318688  4249821000   42927000          0     NaN         NaN  42927000   \n318689  3992972000   40333000          0     NaN         NaN  40333000   \n318690  5910729000          0          0     NaN        감사미필         0   \n318691  6149909000          0          0  한울회계법인  한정(감사범위제한)         0   \n\n          대손충당금율       매영차  상장구분  \n0       0.008641       NaN     0  \n1       0.008765       NaN     0  \n2       0.010068       NaN     0  \n3       0.010101       NaN     0  \n4       0.010101       NaN     0  \n...          ...       ...   ...  \n318687  0.010101       NaN     0  \n318688  0.010101       NaN     0  \n318689  0.010101       NaN     0  \n318690  0.000000  8.204179     0  \n318691  0.000000  6.875120     0  \n\n[318692 rows x 33 columns]",
      "text/html": "<div>\n<style scoped>\n    .dataframe tbody tr th:only-of-type {\n        vertical-align: middle;\n    }\n\n    .dataframe tbody tr th {\n        vertical-align: top;\n    }\n\n    .dataframe thead th {\n        text-align: right;\n    }\n</style>\n<table border=\"1\" class=\"dataframe\">\n  <thead>\n    <tr style=\"text-align: right;\">\n      <th></th>\n      <th>기업명</th>\n      <th>년도</th>\n      <th>매출액</th>\n      <th>당기순이익</th>\n      <th>매출액영업이익률</th>\n      <th>매출채권회전율</th>\n      <th>부채비율</th>\n      <th>영업활동현금흐름</th>\n      <th>유동비율</th>\n      <th>자기자본순이익률</th>\n      <th>...</th>\n      <th>장기매출채권대손충당금</th>\n      <th>매출채권</th>\n      <th>매출채권대손충당금</th>\n      <th>장기매출채권</th>\n      <th>감사법인</th>\n      <th>감사의견</th>\n      <th>대손충당금</th>\n      <th>대손충당금율</th>\n      <th>매영차</th>\n      <th>상장구분</th>\n    </tr>\n  </thead>\n  <tbody>\n    <tr>\n      <th>0</th>\n      <td>청우화학(주)000083</td>\n      <td>2010</td>\n      <td>5005091000</td>\n      <td>NaN</td>\n      <td>3.06</td>\n      <td>4.06</td>\n      <td>88.63</td>\n      <td>NaN</td>\n      <td>154.57</td>\n      <td>11.39</td>\n      <td>...</td>\n      <td>0</td>\n      <td>1322917000</td>\n      <td>11431000</td>\n      <td>191252000</td>\n      <td>NaN</td>\n      <td>NaN</td>\n      <td>11431000</td>\n      <td>0.008641</td>\n      <td>NaN</td>\n      <td>0</td>\n    </tr>\n    <tr>\n      <th>1</th>\n      <td>청우화학(주)000083</td>\n      <td>2011</td>\n      <td>5547721000</td>\n      <td>NaN</td>\n      <td>3.72</td>\n      <td>4.77</td>\n      <td>73.44</td>\n      <td>NaN</td>\n      <td>179.11</td>\n      <td>12.40</td>\n      <td>...</td>\n      <td>0</td>\n      <td>1347367000</td>\n      <td>11809000</td>\n      <td>178238000</td>\n      <td>NaN</td>\n      <td>NaN</td>\n      <td>11809000</td>\n      <td>0.008765</td>\n      <td>NaN</td>\n      <td>0</td>\n    </tr>\n    <tr>\n      <th>2</th>\n      <td>청우화학(주)000083</td>\n      <td>2012</td>\n      <td>6387805000</td>\n      <td>NaN</td>\n      <td>4.97</td>\n      <td>5.53</td>\n      <td>65.12</td>\n      <td>NaN</td>\n      <td>203.14</td>\n      <td>16.18</td>\n      <td>...</td>\n      <td>0</td>\n      <td>1122526000</td>\n      <td>11302000</td>\n      <td>3623000</td>\n      <td>NaN</td>\n      <td>NaN</td>\n      <td>11302000</td>\n      <td>0.010068</td>\n      <td>NaN</td>\n      <td>0</td>\n    </tr>\n    <tr>\n      <th>3</th>\n      <td>청우화학(주)000083</td>\n      <td>2013</td>\n      <td>6353868000</td>\n      <td>NaN</td>\n      <td>13.01</td>\n      <td>4.92</td>\n      <td>53.64</td>\n      <td>NaN</td>\n      <td>240.93</td>\n      <td>32.69</td>\n      <td>...</td>\n      <td>0</td>\n      <td>1437747000</td>\n      <td>14523000</td>\n      <td>0</td>\n      <td>NaN</td>\n      <td>NaN</td>\n      <td>14523000</td>\n      <td>0.010101</td>\n      <td>NaN</td>\n      <td>0</td>\n    </tr>\n    <tr>\n      <th>4</th>\n      <td>청우화학(주)000083</td>\n      <td>2014</td>\n      <td>6897317000</td>\n      <td>NaN</td>\n      <td>15.21</td>\n      <td>4.71</td>\n      <td>54.85</td>\n      <td>NaN</td>\n      <td>156.80</td>\n      <td>32.34</td>\n      <td>...</td>\n      <td>0</td>\n      <td>1460703000</td>\n      <td>14755000</td>\n      <td>0</td>\n      <td>NaN</td>\n      <td>NaN</td>\n      <td>14755000</td>\n      <td>0.010101</td>\n      <td>NaN</td>\n      <td>0</td>\n    </tr>\n    <tr>\n      <th>...</th>\n      <td>...</td>\n      <td>...</td>\n      <td>...</td>\n      <td>...</td>\n      <td>...</td>\n      <td>...</td>\n      <td>...</td>\n      <td>...</td>\n      <td>...</td>\n      <td>...</td>\n      <td>...</td>\n      <td>...</td>\n      <td>...</td>\n      <td>...</td>\n      <td>...</td>\n      <td>...</td>\n      <td>...</td>\n      <td>...</td>\n      <td>...</td>\n      <td>...</td>\n      <td>...</td>\n    </tr>\n    <tr>\n      <th>318687</th>\n      <td>(주)메디라인액티브코리아Y32604</td>\n      <td>2016</td>\n      <td>15311754000</td>\n      <td>NaN</td>\n      <td>9.46</td>\n      <td>6.90</td>\n      <td>329.38</td>\n      <td>NaN</td>\n      <td>135.24</td>\n      <td>90.42</td>\n      <td>...</td>\n      <td>0</td>\n      <td>2732633000</td>\n      <td>27602000</td>\n      <td>0</td>\n      <td>NaN</td>\n      <td>NaN</td>\n      <td>27602000</td>\n      <td>0.010101</td>\n      <td>NaN</td>\n      <td>0</td>\n    </tr>\n    <tr>\n      <th>318688</th>\n      <td>(주)메디라인액티브코리아Y32604</td>\n      <td>2017</td>\n      <td>18627175000</td>\n      <td>NaN</td>\n      <td>10.29</td>\n      <td>5.28</td>\n      <td>285.79</td>\n      <td>NaN</td>\n      <td>178.41</td>\n      <td>24.04</td>\n      <td>...</td>\n      <td>0</td>\n      <td>4249821000</td>\n      <td>42927000</td>\n      <td>0</td>\n      <td>NaN</td>\n      <td>NaN</td>\n      <td>42927000</td>\n      <td>0.010101</td>\n      <td>NaN</td>\n      <td>0</td>\n    </tr>\n    <tr>\n      <th>318689</th>\n      <td>(주)메디라인액티브코리아Y32604</td>\n      <td>2018</td>\n      <td>22755938000</td>\n      <td>NaN</td>\n      <td>9</td>\n      <td>5.47</td>\n      <td>235.55</td>\n      <td>NaN</td>\n      <td>219.69</td>\n      <td>63.15</td>\n      <td>...</td>\n      <td>0</td>\n      <td>3992972000</td>\n      <td>40333000</td>\n      <td>0</td>\n      <td>NaN</td>\n      <td>NaN</td>\n      <td>40333000</td>\n      <td>0.010101</td>\n      <td>NaN</td>\n      <td>0</td>\n    </tr>\n    <tr>\n      <th>318690</th>\n      <td>(주)메디라인액티브코리아Y32604</td>\n      <td>2019</td>\n      <td>27419993000</td>\n      <td>1.712602e+09</td>\n      <td>8.22</td>\n      <td>5.51</td>\n      <td>204.80</td>\n      <td>4.338040e+08</td>\n      <td>178.89</td>\n      <td>50.14</td>\n      <td>...</td>\n      <td>0</td>\n      <td>5910729000</td>\n      <td>0</td>\n      <td>0</td>\n      <td>NaN</td>\n      <td>감사미필</td>\n      <td>0</td>\n      <td>0.000000</td>\n      <td>8.204179</td>\n      <td>0</td>\n    </tr>\n    <tr>\n      <th>318691</th>\n      <td>(주)메디라인액티브코리아Y32604</td>\n      <td>2020</td>\n      <td>28979475000</td>\n      <td>1.728057e+09</td>\n      <td>6.94</td>\n      <td>4.81</td>\n      <td>201.65</td>\n      <td>1.880193e+09</td>\n      <td>254.43</td>\n      <td>37.02</td>\n      <td>...</td>\n      <td>0</td>\n      <td>6149909000</td>\n      <td>0</td>\n      <td>0</td>\n      <td>한울회계법인</td>\n      <td>한정(감사범위제한)</td>\n      <td>0</td>\n      <td>0.000000</td>\n      <td>6.875120</td>\n      <td>0</td>\n    </tr>\n  </tbody>\n</table>\n<p>318692 rows × 33 columns</p>\n</div>"
     },
     "execution_count": 81,
     "metadata": {},
     "output_type": "execute_result"
    }
   ],
   "source": [
    "#'비상장'은 0, '상장'은 1, '상장관리'는 2\n",
    "data.상장구분 = data.상장구분.map({\n",
    "    '외감': 0,\n",
    "    '코스닥상장': 1,\n",
    "    '상장': 1,\n",
    "    '코넥스': 1, \n",
    "    '코스닥관리': 2,\n",
    "    '상장관리': 2\n",
    "})\n",
    "data"
   ]
  },
  {
   "cell_type": "markdown",
   "id": "5974d0ff-b69a-4c85-8c07-e27b66321514",
   "metadata": {},
   "source": [
    "### 6) 감사인 지표"
   ]
  },
  {
   "cell_type": "markdown",
   "id": "ea22ee9f-d4ff-43e7-ba12-b1c462ed4444",
   "metadata": {},
   "source": [
    "#### BIG4 여부(BIG4)"
   ]
  },
  {
   "cell_type": "code",
   "execution_count": 82,
   "id": "ee5d476b-4342-46f7-a04e-1904d5b705dc",
   "metadata": {},
   "outputs": [],
   "source": [
    "big4 = ['삼일', '삼일회계법인', '삼정', '삼정회계법인', '안진', '안진회계법인', '한영', '한영회계법인']"
   ]
  },
  {
   "cell_type": "code",
   "execution_count": 83,
   "id": "daea8af6-9796-452f-a2da-c07d486d6b99",
   "metadata": {},
   "outputs": [
    {
     "data": {
      "text/plain": "삼일회계법인        10992\n대주회계법인         7324\n삼정회계법인         7292\n삼덕회계법인         7071\n안진회계법인         6123\n              ...  \n정얀                1\n정원                1\n새물결               1\n명도                1\n원일공인회계사감사반        1\nName: 감사법인, Length: 1234, dtype: int64"
     },
     "execution_count": 83,
     "metadata": {},
     "output_type": "execute_result"
    }
   ],
   "source": [
    "data.감사법인.value_counts()"
   ]
  },
  {
   "cell_type": "code",
   "execution_count": 84,
   "id": "596ac323-6bfb-45a5-9a19-f216033fe6d6",
   "metadata": {},
   "outputs": [
    {
     "data": {
      "text/plain": "                        기업명    년도          매출액         당기순이익 매출액영업이익률  \\\n0             청우화학(주)000083  2010   5005091000           NaN     3.06   \n1             청우화학(주)000083  2011   5547721000           NaN     3.72   \n2             청우화학(주)000083  2012   6387805000           NaN     4.97   \n3             청우화학(주)000083  2013   6353868000           NaN    13.01   \n4             청우화학(주)000083  2014   6897317000           NaN    15.21   \n...                     ...   ...          ...           ...      ...   \n318687  (주)메디라인액티브코리아Y32604  2016  15311754000           NaN     9.46   \n318688  (주)메디라인액티브코리아Y32604  2017  18627175000           NaN    10.29   \n318689  (주)메디라인액티브코리아Y32604  2018  22755938000           NaN        9   \n318690  (주)메디라인액티브코리아Y32604  2019  27419993000  1.712602e+09     8.22   \n318691  (주)메디라인액티브코리아Y32604  2020  28979475000  1.728057e+09     6.94   \n\n        매출채권회전율    부채비율      영업활동현금흐름    유동비율  자기자본순이익률  ...        매출채권  \\\n0          4.06   88.63           NaN  154.57     11.39  ...  1322917000   \n1          4.77   73.44           NaN  179.11     12.40  ...  1347367000   \n2          5.53   65.12           NaN  203.14     16.18  ...  1122526000   \n3          4.92   53.64           NaN  240.93     32.69  ...  1437747000   \n4          4.71   54.85           NaN  156.80     32.34  ...  1460703000   \n...         ...     ...           ...     ...       ...  ...         ...   \n318687     6.90  329.38           NaN  135.24     90.42  ...  2732633000   \n318688     5.28  285.79           NaN  178.41     24.04  ...  4249821000   \n318689     5.47  235.55           NaN  219.69     63.15  ...  3992972000   \n318690     5.51  204.80  4.338040e+08  178.89     50.14  ...  5910729000   \n318691     4.81  201.65  1.880193e+09  254.43     37.02  ...  6149909000   \n\n        매출채권대손충당금     장기매출채권    감사법인        감사의견     대손충당금    대손충당금율  \\\n0        11431000  191252000     NaN         NaN  11431000  0.008641   \n1        11809000  178238000     NaN         NaN  11809000  0.008765   \n2        11302000    3623000     NaN         NaN  11302000  0.010068   \n3        14523000          0     NaN         NaN  14523000  0.010101   \n4        14755000          0     NaN         NaN  14755000  0.010101   \n...           ...        ...     ...         ...       ...       ...   \n318687   27602000          0     NaN         NaN  27602000  0.010101   \n318688   42927000          0     NaN         NaN  42927000  0.010101   \n318689   40333000          0     NaN         NaN  40333000  0.010101   \n318690          0          0     NaN        감사미필         0  0.000000   \n318691          0          0  한울회계법인  한정(감사범위제한)         0  0.000000   \n\n             매영차  상장구분  BIG4여부  \n0            NaN     0       0  \n1            NaN     0       0  \n2            NaN     0       0  \n3            NaN     0       0  \n4            NaN     0       0  \n...          ...   ...     ...  \n318687       NaN     0       0  \n318688       NaN     0       0  \n318689       NaN     0       0  \n318690  8.204179     0       0  \n318691  6.875120     0       0  \n\n[318692 rows x 34 columns]",
      "text/html": "<div>\n<style scoped>\n    .dataframe tbody tr th:only-of-type {\n        vertical-align: middle;\n    }\n\n    .dataframe tbody tr th {\n        vertical-align: top;\n    }\n\n    .dataframe thead th {\n        text-align: right;\n    }\n</style>\n<table border=\"1\" class=\"dataframe\">\n  <thead>\n    <tr style=\"text-align: right;\">\n      <th></th>\n      <th>기업명</th>\n      <th>년도</th>\n      <th>매출액</th>\n      <th>당기순이익</th>\n      <th>매출액영업이익률</th>\n      <th>매출채권회전율</th>\n      <th>부채비율</th>\n      <th>영업활동현금흐름</th>\n      <th>유동비율</th>\n      <th>자기자본순이익률</th>\n      <th>...</th>\n      <th>매출채권</th>\n      <th>매출채권대손충당금</th>\n      <th>장기매출채권</th>\n      <th>감사법인</th>\n      <th>감사의견</th>\n      <th>대손충당금</th>\n      <th>대손충당금율</th>\n      <th>매영차</th>\n      <th>상장구분</th>\n      <th>BIG4여부</th>\n    </tr>\n  </thead>\n  <tbody>\n    <tr>\n      <th>0</th>\n      <td>청우화학(주)000083</td>\n      <td>2010</td>\n      <td>5005091000</td>\n      <td>NaN</td>\n      <td>3.06</td>\n      <td>4.06</td>\n      <td>88.63</td>\n      <td>NaN</td>\n      <td>154.57</td>\n      <td>11.39</td>\n      <td>...</td>\n      <td>1322917000</td>\n      <td>11431000</td>\n      <td>191252000</td>\n      <td>NaN</td>\n      <td>NaN</td>\n      <td>11431000</td>\n      <td>0.008641</td>\n      <td>NaN</td>\n      <td>0</td>\n      <td>0</td>\n    </tr>\n    <tr>\n      <th>1</th>\n      <td>청우화학(주)000083</td>\n      <td>2011</td>\n      <td>5547721000</td>\n      <td>NaN</td>\n      <td>3.72</td>\n      <td>4.77</td>\n      <td>73.44</td>\n      <td>NaN</td>\n      <td>179.11</td>\n      <td>12.40</td>\n      <td>...</td>\n      <td>1347367000</td>\n      <td>11809000</td>\n      <td>178238000</td>\n      <td>NaN</td>\n      <td>NaN</td>\n      <td>11809000</td>\n      <td>0.008765</td>\n      <td>NaN</td>\n      <td>0</td>\n      <td>0</td>\n    </tr>\n    <tr>\n      <th>2</th>\n      <td>청우화학(주)000083</td>\n      <td>2012</td>\n      <td>6387805000</td>\n      <td>NaN</td>\n      <td>4.97</td>\n      <td>5.53</td>\n      <td>65.12</td>\n      <td>NaN</td>\n      <td>203.14</td>\n      <td>16.18</td>\n      <td>...</td>\n      <td>1122526000</td>\n      <td>11302000</td>\n      <td>3623000</td>\n      <td>NaN</td>\n      <td>NaN</td>\n      <td>11302000</td>\n      <td>0.010068</td>\n      <td>NaN</td>\n      <td>0</td>\n      <td>0</td>\n    </tr>\n    <tr>\n      <th>3</th>\n      <td>청우화학(주)000083</td>\n      <td>2013</td>\n      <td>6353868000</td>\n      <td>NaN</td>\n      <td>13.01</td>\n      <td>4.92</td>\n      <td>53.64</td>\n      <td>NaN</td>\n      <td>240.93</td>\n      <td>32.69</td>\n      <td>...</td>\n      <td>1437747000</td>\n      <td>14523000</td>\n      <td>0</td>\n      <td>NaN</td>\n      <td>NaN</td>\n      <td>14523000</td>\n      <td>0.010101</td>\n      <td>NaN</td>\n      <td>0</td>\n      <td>0</td>\n    </tr>\n    <tr>\n      <th>4</th>\n      <td>청우화학(주)000083</td>\n      <td>2014</td>\n      <td>6897317000</td>\n      <td>NaN</td>\n      <td>15.21</td>\n      <td>4.71</td>\n      <td>54.85</td>\n      <td>NaN</td>\n      <td>156.80</td>\n      <td>32.34</td>\n      <td>...</td>\n      <td>1460703000</td>\n      <td>14755000</td>\n      <td>0</td>\n      <td>NaN</td>\n      <td>NaN</td>\n      <td>14755000</td>\n      <td>0.010101</td>\n      <td>NaN</td>\n      <td>0</td>\n      <td>0</td>\n    </tr>\n    <tr>\n      <th>...</th>\n      <td>...</td>\n      <td>...</td>\n      <td>...</td>\n      <td>...</td>\n      <td>...</td>\n      <td>...</td>\n      <td>...</td>\n      <td>...</td>\n      <td>...</td>\n      <td>...</td>\n      <td>...</td>\n      <td>...</td>\n      <td>...</td>\n      <td>...</td>\n      <td>...</td>\n      <td>...</td>\n      <td>...</td>\n      <td>...</td>\n      <td>...</td>\n      <td>...</td>\n      <td>...</td>\n    </tr>\n    <tr>\n      <th>318687</th>\n      <td>(주)메디라인액티브코리아Y32604</td>\n      <td>2016</td>\n      <td>15311754000</td>\n      <td>NaN</td>\n      <td>9.46</td>\n      <td>6.90</td>\n      <td>329.38</td>\n      <td>NaN</td>\n      <td>135.24</td>\n      <td>90.42</td>\n      <td>...</td>\n      <td>2732633000</td>\n      <td>27602000</td>\n      <td>0</td>\n      <td>NaN</td>\n      <td>NaN</td>\n      <td>27602000</td>\n      <td>0.010101</td>\n      <td>NaN</td>\n      <td>0</td>\n      <td>0</td>\n    </tr>\n    <tr>\n      <th>318688</th>\n      <td>(주)메디라인액티브코리아Y32604</td>\n      <td>2017</td>\n      <td>18627175000</td>\n      <td>NaN</td>\n      <td>10.29</td>\n      <td>5.28</td>\n      <td>285.79</td>\n      <td>NaN</td>\n      <td>178.41</td>\n      <td>24.04</td>\n      <td>...</td>\n      <td>4249821000</td>\n      <td>42927000</td>\n      <td>0</td>\n      <td>NaN</td>\n      <td>NaN</td>\n      <td>42927000</td>\n      <td>0.010101</td>\n      <td>NaN</td>\n      <td>0</td>\n      <td>0</td>\n    </tr>\n    <tr>\n      <th>318689</th>\n      <td>(주)메디라인액티브코리아Y32604</td>\n      <td>2018</td>\n      <td>22755938000</td>\n      <td>NaN</td>\n      <td>9</td>\n      <td>5.47</td>\n      <td>235.55</td>\n      <td>NaN</td>\n      <td>219.69</td>\n      <td>63.15</td>\n      <td>...</td>\n      <td>3992972000</td>\n      <td>40333000</td>\n      <td>0</td>\n      <td>NaN</td>\n      <td>NaN</td>\n      <td>40333000</td>\n      <td>0.010101</td>\n      <td>NaN</td>\n      <td>0</td>\n      <td>0</td>\n    </tr>\n    <tr>\n      <th>318690</th>\n      <td>(주)메디라인액티브코리아Y32604</td>\n      <td>2019</td>\n      <td>27419993000</td>\n      <td>1.712602e+09</td>\n      <td>8.22</td>\n      <td>5.51</td>\n      <td>204.80</td>\n      <td>4.338040e+08</td>\n      <td>178.89</td>\n      <td>50.14</td>\n      <td>...</td>\n      <td>5910729000</td>\n      <td>0</td>\n      <td>0</td>\n      <td>NaN</td>\n      <td>감사미필</td>\n      <td>0</td>\n      <td>0.000000</td>\n      <td>8.204179</td>\n      <td>0</td>\n      <td>0</td>\n    </tr>\n    <tr>\n      <th>318691</th>\n      <td>(주)메디라인액티브코리아Y32604</td>\n      <td>2020</td>\n      <td>28979475000</td>\n      <td>1.728057e+09</td>\n      <td>6.94</td>\n      <td>4.81</td>\n      <td>201.65</td>\n      <td>1.880193e+09</td>\n      <td>254.43</td>\n      <td>37.02</td>\n      <td>...</td>\n      <td>6149909000</td>\n      <td>0</td>\n      <td>0</td>\n      <td>한울회계법인</td>\n      <td>한정(감사범위제한)</td>\n      <td>0</td>\n      <td>0.000000</td>\n      <td>6.875120</td>\n      <td>0</td>\n      <td>0</td>\n    </tr>\n  </tbody>\n</table>\n<p>318692 rows × 34 columns</p>\n</div>"
     },
     "execution_count": 84,
     "metadata": {},
     "output_type": "execute_result"
    }
   ],
   "source": [
    "data['BIG4여부'] = data.감사법인.apply(lambda x: 1 if x in big4 else 0) #BIG4 법인이면 1, 아니면 0\n",
    "data"
   ]
  },
  {
   "cell_type": "markdown",
   "id": "495ff71b-e545-4d8b-9445-d6f6896dd4f7",
   "metadata": {},
   "source": [
    "#### 당기감사법인변경여부(AC)"
   ]
  },
  {
   "cell_type": "code",
   "execution_count": 85,
   "id": "e9badf8c-8530-4e5a-8aba-c22d10019e01",
   "metadata": {},
   "outputs": [
    {
     "data": {
      "text/plain": "                        감사법인                                                  \\\nlevel_1                 2010    2011    2012    2013    2014    2015    2016   \nUnnamed: 2                                                                     \n(유)가든주류244534            NaN     NaN     NaN     NaN     NaN     NaN     NaN   \n(유)건향개발I57907            NaN     NaN     NaN     NaN     NaN     NaN     NaN   \n(유)국제에이엠씨M00154          NaN     NaN     NaN     NaN     NaN     NaN     NaN   \n(유)그랜드유니버셜트레이딩코리아I83725  NaN     NaN     NaN     NaN     NaN     NaN     NaN   \n(유)그룹세브코리아609692         NaN     NaN     NaN     NaN     NaN     NaN     NaN   \n...                      ...     ...     ...     ...     ...     ...     ...   \n히로세코리아(주)450090           한영      한영      한영      한영  삼정회계법인  삼정회계법인  삼정회계법인   \n히스보험중개(주)197675           대주  대주회계법인  대주회계법인  대주회계법인  대주회계법인  대주회계법인  대주회계법인   \n히타치금속한국(주)041866          한영      한영      한영  한영회계법인  한영회계법인  한영회계법인  한영회계법인   \n히타치하이테크코리아(주)380165       한영      한영      한영  한영회계법인  한영회계법인  한영회계법인  한영회계법인   \n힐티코리아(주)389471            삼일      삼일      삼일  삼일회계법인  삼일회계법인  삼일회계법인  삼일회계법인   \n\n                                                                        \nlevel_1                    2017      2018      2019               2020  \nUnnamed: 2                                                              \n(유)가든주류244534               NaN       NaN       NaN  서석공인회계사감사반(제279호)  \n(유)건향개발I57907               NaN  이정지율회계법인  이정지율회계법인             이정회계법인  \n(유)국제에이엠씨M00154             NaN       NaN       NaN                NaN  \n(유)그랜드유니버셜트레이딩코리아I83725     NaN       NaN       NaN             삼덕회계법인  \n(유)그룹세브코리아609692            NaN       NaN       NaN             삼일회계법인  \n...                         ...       ...       ...                ...  \n히로세코리아(주)450090          삼정회계법인    삼정회계법인    삼정회계법인             삼정회계법인  \n히스보험중개(주)197675          대주회계법인    대주회계법인    대주회계법인             대주회계법인  \n히타치금속한국(주)041866         한영회계법인    한영회계법인    한영회계법인             한영회계법인  \n히타치하이테크코리아(주)380165      한영회계법인    한영회계법인    한영회계법인             한영회계법인  \n힐티코리아(주)389471           삼일회계법인    삼일회계법인    삼일회계법인             삼일회계법인  \n\n[28972 rows x 11 columns]",
      "text/html": "<div>\n<style scoped>\n    .dataframe tbody tr th:only-of-type {\n        vertical-align: middle;\n    }\n\n    .dataframe tbody tr th {\n        vertical-align: top;\n    }\n\n    .dataframe thead tr th {\n        text-align: left;\n    }\n\n    .dataframe thead tr:last-of-type th {\n        text-align: right;\n    }\n</style>\n<table border=\"1\" class=\"dataframe\">\n  <thead>\n    <tr>\n      <th></th>\n      <th colspan=\"11\" halign=\"left\">감사법인</th>\n    </tr>\n    <tr>\n      <th>level_1</th>\n      <th>2010</th>\n      <th>2011</th>\n      <th>2012</th>\n      <th>2013</th>\n      <th>2014</th>\n      <th>2015</th>\n      <th>2016</th>\n      <th>2017</th>\n      <th>2018</th>\n      <th>2019</th>\n      <th>2020</th>\n    </tr>\n    <tr>\n      <th>Unnamed: 2</th>\n      <th></th>\n      <th></th>\n      <th></th>\n      <th></th>\n      <th></th>\n      <th></th>\n      <th></th>\n      <th></th>\n      <th></th>\n      <th></th>\n      <th></th>\n    </tr>\n  </thead>\n  <tbody>\n    <tr>\n      <th>(유)가든주류244534</th>\n      <td>NaN</td>\n      <td>NaN</td>\n      <td>NaN</td>\n      <td>NaN</td>\n      <td>NaN</td>\n      <td>NaN</td>\n      <td>NaN</td>\n      <td>NaN</td>\n      <td>NaN</td>\n      <td>NaN</td>\n      <td>서석공인회계사감사반(제279호)</td>\n    </tr>\n    <tr>\n      <th>(유)건향개발I57907</th>\n      <td>NaN</td>\n      <td>NaN</td>\n      <td>NaN</td>\n      <td>NaN</td>\n      <td>NaN</td>\n      <td>NaN</td>\n      <td>NaN</td>\n      <td>NaN</td>\n      <td>이정지율회계법인</td>\n      <td>이정지율회계법인</td>\n      <td>이정회계법인</td>\n    </tr>\n    <tr>\n      <th>(유)국제에이엠씨M00154</th>\n      <td>NaN</td>\n      <td>NaN</td>\n      <td>NaN</td>\n      <td>NaN</td>\n      <td>NaN</td>\n      <td>NaN</td>\n      <td>NaN</td>\n      <td>NaN</td>\n      <td>NaN</td>\n      <td>NaN</td>\n      <td>NaN</td>\n    </tr>\n    <tr>\n      <th>(유)그랜드유니버셜트레이딩코리아I83725</th>\n      <td>NaN</td>\n      <td>NaN</td>\n      <td>NaN</td>\n      <td>NaN</td>\n      <td>NaN</td>\n      <td>NaN</td>\n      <td>NaN</td>\n      <td>NaN</td>\n      <td>NaN</td>\n      <td>NaN</td>\n      <td>삼덕회계법인</td>\n    </tr>\n    <tr>\n      <th>(유)그룹세브코리아609692</th>\n      <td>NaN</td>\n      <td>NaN</td>\n      <td>NaN</td>\n      <td>NaN</td>\n      <td>NaN</td>\n      <td>NaN</td>\n      <td>NaN</td>\n      <td>NaN</td>\n      <td>NaN</td>\n      <td>NaN</td>\n      <td>삼일회계법인</td>\n    </tr>\n    <tr>\n      <th>...</th>\n      <td>...</td>\n      <td>...</td>\n      <td>...</td>\n      <td>...</td>\n      <td>...</td>\n      <td>...</td>\n      <td>...</td>\n      <td>...</td>\n      <td>...</td>\n      <td>...</td>\n      <td>...</td>\n    </tr>\n    <tr>\n      <th>히로세코리아(주)450090</th>\n      <td>한영</td>\n      <td>한영</td>\n      <td>한영</td>\n      <td>한영</td>\n      <td>삼정회계법인</td>\n      <td>삼정회계법인</td>\n      <td>삼정회계법인</td>\n      <td>삼정회계법인</td>\n      <td>삼정회계법인</td>\n      <td>삼정회계법인</td>\n      <td>삼정회계법인</td>\n    </tr>\n    <tr>\n      <th>히스보험중개(주)197675</th>\n      <td>대주</td>\n      <td>대주회계법인</td>\n      <td>대주회계법인</td>\n      <td>대주회계법인</td>\n      <td>대주회계법인</td>\n      <td>대주회계법인</td>\n      <td>대주회계법인</td>\n      <td>대주회계법인</td>\n      <td>대주회계법인</td>\n      <td>대주회계법인</td>\n      <td>대주회계법인</td>\n    </tr>\n    <tr>\n      <th>히타치금속한국(주)041866</th>\n      <td>한영</td>\n      <td>한영</td>\n      <td>한영</td>\n      <td>한영회계법인</td>\n      <td>한영회계법인</td>\n      <td>한영회계법인</td>\n      <td>한영회계법인</td>\n      <td>한영회계법인</td>\n      <td>한영회계법인</td>\n      <td>한영회계법인</td>\n      <td>한영회계법인</td>\n    </tr>\n    <tr>\n      <th>히타치하이테크코리아(주)380165</th>\n      <td>한영</td>\n      <td>한영</td>\n      <td>한영</td>\n      <td>한영회계법인</td>\n      <td>한영회계법인</td>\n      <td>한영회계법인</td>\n      <td>한영회계법인</td>\n      <td>한영회계법인</td>\n      <td>한영회계법인</td>\n      <td>한영회계법인</td>\n      <td>한영회계법인</td>\n    </tr>\n    <tr>\n      <th>힐티코리아(주)389471</th>\n      <td>삼일</td>\n      <td>삼일</td>\n      <td>삼일</td>\n      <td>삼일회계법인</td>\n      <td>삼일회계법인</td>\n      <td>삼일회계법인</td>\n      <td>삼일회계법인</td>\n      <td>삼일회계법인</td>\n      <td>삼일회계법인</td>\n      <td>삼일회계법인</td>\n      <td>삼일회계법인</td>\n    </tr>\n  </tbody>\n</table>\n<p>28972 rows × 11 columns</p>\n</div>"
     },
     "execution_count": 85,
     "metadata": {},
     "output_type": "execute_result"
    }
   ],
   "source": [
    "감사법인_temp = df_index2('감사법인')\n",
    "감사법인_변동_idx = 감사법인_temp.set_index(['Unnamed: 2','level_1']).unstack(1)\n",
    "감사법인_변동_idx = 감사법인_변동_idx.fillna('NaN')\n",
    "감사법인_변동_idx"
   ]
  },
  {
   "cell_type": "code",
   "execution_count": 86,
   "id": "27a87550-6b2e-4a6b-960e-65b614bbd9fe",
   "metadata": {},
   "outputs": [
    {
     "name": "stdout",
     "output_type": "stream",
     "text": [
      "CPU times: user 1min 26s, sys: 577 ms, total: 1min 26s\n",
      "Wall time: 1min 23s\n"
     ]
    },
    {
     "data": {
      "text/plain": "                        감사법인                                                  \nlevel_1                 2010 2011 2012 2013 2014 2015 2016 2017 2018 2019 2020\nUnnamed: 2                                                                    \n(유)가든주류244534            NaN    0    0    0    0    0    0    0    0    0    1\n(유)건향개발I57907            NaN    0    0    0    0    0    0    0    1    0    1\n(유)국제에이엠씨M00154          NaN    0    0    0    0    0    0    0    0    0    0\n(유)그랜드유니버셜트레이딩코리아I83725  NaN    0    0    0    0    0    0    0    0    0    1\n(유)그룹세브코리아609692         NaN    0    0    0    0    0    0    0    0    0    1\n...                      ...  ...  ...  ...  ...  ...  ...  ...  ...  ...  ...\n히로세코리아(주)450090           한영    0    0    0    1    0    0    0    0    0    0\n히스보험중개(주)197675           대주    0    0    0    0    0    0    0    0    0    0\n히타치금속한국(주)041866          한영    0    0    0    0    0    0    0    0    0    0\n히타치하이테크코리아(주)380165       한영    0    0    0    0    0    0    0    0    0    0\n힐티코리아(주)389471            삼일    0    0    0    0    0    0    0    0    0    0\n\n[28972 rows x 11 columns]",
      "text/html": "<div>\n<style scoped>\n    .dataframe tbody tr th:only-of-type {\n        vertical-align: middle;\n    }\n\n    .dataframe tbody tr th {\n        vertical-align: top;\n    }\n\n    .dataframe thead tr th {\n        text-align: left;\n    }\n\n    .dataframe thead tr:last-of-type th {\n        text-align: right;\n    }\n</style>\n<table border=\"1\" class=\"dataframe\">\n  <thead>\n    <tr>\n      <th></th>\n      <th colspan=\"11\" halign=\"left\">감사법인</th>\n    </tr>\n    <tr>\n      <th>level_1</th>\n      <th>2010</th>\n      <th>2011</th>\n      <th>2012</th>\n      <th>2013</th>\n      <th>2014</th>\n      <th>2015</th>\n      <th>2016</th>\n      <th>2017</th>\n      <th>2018</th>\n      <th>2019</th>\n      <th>2020</th>\n    </tr>\n    <tr>\n      <th>Unnamed: 2</th>\n      <th></th>\n      <th></th>\n      <th></th>\n      <th></th>\n      <th></th>\n      <th></th>\n      <th></th>\n      <th></th>\n      <th></th>\n      <th></th>\n      <th></th>\n    </tr>\n  </thead>\n  <tbody>\n    <tr>\n      <th>(유)가든주류244534</th>\n      <td>NaN</td>\n      <td>0</td>\n      <td>0</td>\n      <td>0</td>\n      <td>0</td>\n      <td>0</td>\n      <td>0</td>\n      <td>0</td>\n      <td>0</td>\n      <td>0</td>\n      <td>1</td>\n    </tr>\n    <tr>\n      <th>(유)건향개발I57907</th>\n      <td>NaN</td>\n      <td>0</td>\n      <td>0</td>\n      <td>0</td>\n      <td>0</td>\n      <td>0</td>\n      <td>0</td>\n      <td>0</td>\n      <td>1</td>\n      <td>0</td>\n      <td>1</td>\n    </tr>\n    <tr>\n      <th>(유)국제에이엠씨M00154</th>\n      <td>NaN</td>\n      <td>0</td>\n      <td>0</td>\n      <td>0</td>\n      <td>0</td>\n      <td>0</td>\n      <td>0</td>\n      <td>0</td>\n      <td>0</td>\n      <td>0</td>\n      <td>0</td>\n    </tr>\n    <tr>\n      <th>(유)그랜드유니버셜트레이딩코리아I83725</th>\n      <td>NaN</td>\n      <td>0</td>\n      <td>0</td>\n      <td>0</td>\n      <td>0</td>\n      <td>0</td>\n      <td>0</td>\n      <td>0</td>\n      <td>0</td>\n      <td>0</td>\n      <td>1</td>\n    </tr>\n    <tr>\n      <th>(유)그룹세브코리아609692</th>\n      <td>NaN</td>\n      <td>0</td>\n      <td>0</td>\n      <td>0</td>\n      <td>0</td>\n      <td>0</td>\n      <td>0</td>\n      <td>0</td>\n      <td>0</td>\n      <td>0</td>\n      <td>1</td>\n    </tr>\n    <tr>\n      <th>...</th>\n      <td>...</td>\n      <td>...</td>\n      <td>...</td>\n      <td>...</td>\n      <td>...</td>\n      <td>...</td>\n      <td>...</td>\n      <td>...</td>\n      <td>...</td>\n      <td>...</td>\n      <td>...</td>\n    </tr>\n    <tr>\n      <th>히로세코리아(주)450090</th>\n      <td>한영</td>\n      <td>0</td>\n      <td>0</td>\n      <td>0</td>\n      <td>1</td>\n      <td>0</td>\n      <td>0</td>\n      <td>0</td>\n      <td>0</td>\n      <td>0</td>\n      <td>0</td>\n    </tr>\n    <tr>\n      <th>히스보험중개(주)197675</th>\n      <td>대주</td>\n      <td>0</td>\n      <td>0</td>\n      <td>0</td>\n      <td>0</td>\n      <td>0</td>\n      <td>0</td>\n      <td>0</td>\n      <td>0</td>\n      <td>0</td>\n      <td>0</td>\n    </tr>\n    <tr>\n      <th>히타치금속한국(주)041866</th>\n      <td>한영</td>\n      <td>0</td>\n      <td>0</td>\n      <td>0</td>\n      <td>0</td>\n      <td>0</td>\n      <td>0</td>\n      <td>0</td>\n      <td>0</td>\n      <td>0</td>\n      <td>0</td>\n    </tr>\n    <tr>\n      <th>히타치하이테크코리아(주)380165</th>\n      <td>한영</td>\n      <td>0</td>\n      <td>0</td>\n      <td>0</td>\n      <td>0</td>\n      <td>0</td>\n      <td>0</td>\n      <td>0</td>\n      <td>0</td>\n      <td>0</td>\n      <td>0</td>\n    </tr>\n    <tr>\n      <th>힐티코리아(주)389471</th>\n      <td>삼일</td>\n      <td>0</td>\n      <td>0</td>\n      <td>0</td>\n      <td>0</td>\n      <td>0</td>\n      <td>0</td>\n      <td>0</td>\n      <td>0</td>\n      <td>0</td>\n      <td>0</td>\n    </tr>\n  </tbody>\n</table>\n<p>28972 rows × 11 columns</p>\n</div>"
     },
     "execution_count": 86,
     "metadata": {},
     "output_type": "execute_result"
    }
   ],
   "source": [
    "%%time\n",
    "\n",
    "당기감사법인_변동_여부_idx = 감사법인_변동_idx.copy()\n",
    "\n",
    "years = ['2011', '2012', '2013', '2014', '2015', '2016', '2017', '2018', '2019', '2020']\n",
    "\n",
    "for i in 감사법인_변동_idx.index:\n",
    "    for j in range(10):\n",
    "        if 감사법인_변동_idx.loc[i][j] in 감사법인_변동_idx.loc[i][j+1]:\n",
    "            당기감사법인_변동_여부_idx[('감사법인',years[j])][i] = 0\n",
    "        else:\n",
    "            당기감사법인_변동_여부_idx[('감사법인',years[j])][i] = 1\n",
    "\n",
    "당기감사법인_변동_여부_idx"
   ]
  },
  {
   "cell_type": "markdown",
   "id": "57ac4175-8a82-4ea8-aeee-75a78bf91c02",
   "metadata": {
    "tags": []
   },
   "source": [
    "## 3. Merging Data"
   ]
  },
  {
   "cell_type": "code",
   "execution_count": 87,
   "id": "f12f04a5-3ca3-452a-ac60-fcc1d02d0663",
   "metadata": {},
   "outputs": [],
   "source": [
    "매출채권회전율_변동_idx = 매출채권회전율_변동_idx.stack(dropna=False,).reset_index() #데이터를 위에서 아래로 쌓아 재구조화(행 데이터로 재구조했던 자료들을 다시 열로 되돌려서 년도별로 쌓기)\n",
    "매출채권회전율_변동_idx.columns = ['기업명', '년도', '매출채권회전율변동']\n",
    "\n",
    "재고자산회전율_변동_idx = 재고자산회전율_변동_idx.stack(dropna=False).reset_index()\n",
    "재고자산회전율_변동_idx.columns = ['기업명', '년도', '재고자산회전율변동']\n",
    "\n",
    "대손충당금율_변동_idx = 대손충당금율_변동_idx.stack(dropna=False).reset_index()\n",
    "대손충당금율_변동_idx.columns = ['기업명', '년도', '대손충당금율변동']\n",
    "\n",
    "유동비율_변동_idx = 유동비율_변동_idx.stack(dropna=False).reset_index()\n",
    "유동비율_변동_idx.columns = ['기업명', '년도', '유동비율변동']\n",
    "\n",
    "부채비율_idx = 부채비율_idx.stack(dropna=False).reset_index()\n",
    "부채비율_idx.columns = ['기업명', '년도', '부채비율']\n",
    "\n",
    "영업활동현금흐름이자보상비율_idx = 영업활동현금흐름이자보상비율_idx.stack(dropna=False).reset_index()\n",
    "영업활동현금흐름이자보상비율_idx.columns = ['기업명', '년도', '영업활동현금흐름이자보상비율']\n",
    "\n",
    "자기자본순이익률_idx = 자기자본순이익률_idx.stack(dropna=False).reset_index()\n",
    "자기자본순이익률_idx.columns = ['기업명', '년도', '자기자본순이익률']\n",
    "\n",
    "자기자본순이익률_변동_idx = 자기자본순이익률_변동_idx.stack(dropna=False).reset_index()\n",
    "자기자본순이익률_변동_idx.columns = ['기업명', '년도', '자기자본순이익률변동']\n",
    "\n",
    "매출액증가율_idx = 매출액증가율_idx.stack(dropna=False).reset_index() \n",
    "매출액증가율_idx.columns = ['기업명', '년도', '매출액증가율']\n",
    "\n",
    "자산퀄리티_idx = 자산퀄리티_idx.stack(dropna=False).reset_index() \n",
    "자산퀄리티_idx.columns = ['기업명', '년도', '자산퀄리티']\n",
    "\n",
    "총발생액비율_변동_idx = 총발생액비율_변동_idx.stack(dropna=False).reset_index() \n",
    "총발생액비율_변동_idx.columns = ['기업명', '년도', '총발생액비율변동']\n",
    "\n",
    "매영차_idx = 매영차_idx.stack(dropna=False).reset_index()\n",
    "매영차_idx.columns = ['기업명', '년도', '매영차']\n",
    "\n",
    "총종차_idx = 총종차_idx.stack(dropna=False).reset_index()\n",
    "총종차_idx.columns = ['기업명', '년도', '총종차']\n",
    "\n",
    "자산총계_idx = 자산총계_idx.stack(dropna=False).reset_index()\n",
    "자산총계_idx.columns = ['기업명', '년도', '자산총계']\n",
    "\n",
    "상장구분_idx = data[['기업명', '년도', '상장구분']]\n",
    "\n",
    "BIG4여부_idx = data[['기업명', '년도', 'BIG4여부']]\n",
    "\n",
    "당기감사법인_변동_여부_idx=당기감사법인_변동_여부_idx.stack(dropna=False).reset_index()\n",
    "당기감사법인_변동_여부_idx.columns = ['기업명', '년도', '당기감사법인변동여부']\n",
    "\n",
    "감사의견_idx = data[['기업명', '년도', '감사의견']]"
   ]
  },
  {
   "cell_type": "code",
   "execution_count": 88,
   "id": "7eb79a9a-22a2-404f-923e-8415705ac5c4",
   "metadata": {},
   "outputs": [],
   "source": [
    "columns = [매출채권회전율_변동_idx, 재고자산회전율_변동_idx, 대손충당금율_변동_idx, 유동비율_변동_idx, 부채비율_idx, 영업활동현금흐름이자보상비율_idx,\n",
    "           자기자본순이익률_idx, 자기자본순이익률_변동_idx, 매출액증가율_idx, 자산퀄리티_idx, 총발생액비율_변동_idx, 매영차_idx,\n",
    "           총종차_idx, 오류수정및회계정책변경, 자산총계_idx, 상장구분_idx, BIG4여부_idx, 당기감사법인_변동_여부_idx, 감사의견_idx]"
   ]
  },
  {
   "cell_type": "code",
   "execution_count": 89,
   "id": "0ffe69fd-663c-4820-a122-2555dc5d1c6a",
   "metadata": {},
   "outputs": [],
   "source": [
    "from functools import reduce"
   ]
  },
  {
   "cell_type": "code",
   "execution_count": 90,
   "id": "7f0b0ed1-5a2c-4296-bd17-e87c264eb7a2",
   "metadata": {},
   "outputs": [
    {
     "data": {
      "text/plain": "                   기업명    년도  매출채권회전율변동  재고자산회전율변동  대손충당금율변동    유동비율변동  \\\n1        (유)가든주류244534  2011   0.345433  -0.102333       NaN  1.396796   \n2        (유)가든주류244534  2012  -0.372498  -0.041911       NaN  1.571617   \n3        (유)가든주류244534  2013  -0.217753   0.363080  0.827051  1.066254   \n4        (유)가든주류244534  2014  -0.145390   0.345956  0.916581  1.215608   \n5        (유)가든주류244534  2015   0.275934   0.228422  1.809184  0.912876   \n...                ...   ...        ...        ...       ...       ...   \n318687  힐티코리아(주)389471  2016  -0.005277  -0.003170  0.969011  1.207585   \n318688  힐티코리아(주)389471  2017   0.025199  -0.007949  0.812777  0.942346   \n318689  힐티코리아(주)389471  2018  -0.027167  -0.088141  0.865167  1.077972   \n318690  힐티코리아(주)389471  2019   0.013298   0.079086  1.046623  0.998150   \n318691  힐티코리아(주)389471  2020  -0.001312  -0.024430  0.985369  0.764198   \n\n          부채비율  영업활동현금흐름이자보상비율  자기자본순이익률  자기자본순이익률변동  ...     자산퀄리티  총발생액비율변동  \\\n1       305.10             NaN     11.44    0.616047  ...  0.210837       NaN   \n2       218.57             NaN     16.20    1.416084  ...  0.008933       NaN   \n3       186.48             NaN     22.04    1.360494  ...  0.004597       NaN   \n4       152.21             NaN     14.26    0.647005  ...  0.003259       NaN   \n5       139.19             NaN     14.11    0.989481  ...  0.003638       NaN   \n...        ...             ...       ...         ...  ...       ...       ...   \n318687   46.20             NaN      6.04    0.431121  ...  0.142450  0.057050   \n318688   54.51             NaN      8.15    1.349338  ...  0.056755  0.024143   \n318689   45.13             NaN     11.29    1.385276  ...  0.078465 -0.088074   \n318690   54.34           45.40      9.41    0.833481  ...  0.054562 -0.104548   \n318691   78.89           32.93      9.54    1.013815  ...  0.084643  0.022095   \n\n             매영차    총종차  오류수정및회계정책변경여부       자산총계  상장구분  BIG4여부  당기감사법인변동여부  \\\n1            NaN    NaN              0  23.755892     0       0           0   \n2            NaN    NaN              0  23.656948     0       0           0   \n3            NaN    NaN              0  23.763009     0       0           0   \n4            NaN    NaN              0  23.774551     0       0           0   \n5            NaN    NaN              0  23.862884     0       0           0   \n...          ...    ...            ...        ...   ...     ...         ...   \n318687  2.789865   9.26              0  24.257440     0       1           0   \n318688  2.610911   0.74              0  24.394284     0       1           0   \n318689  3.820559   6.72              0  24.426058     0       1           0   \n318690  3.746663  14.52              0  24.568740     0       1           0   \n318691  3.978038  17.49              0  24.757369     0       1           0   \n\n       감사의견  \n1       NaN  \n2       NaN  \n3       NaN  \n4       NaN  \n5       NaN  \n...     ...  \n318687   적정  \n318688   적정  \n318689   적정  \n318690   적정  \n318691   적정  \n\n[289720 rows x 21 columns]",
      "text/html": "<div>\n<style scoped>\n    .dataframe tbody tr th:only-of-type {\n        vertical-align: middle;\n    }\n\n    .dataframe tbody tr th {\n        vertical-align: top;\n    }\n\n    .dataframe thead th {\n        text-align: right;\n    }\n</style>\n<table border=\"1\" class=\"dataframe\">\n  <thead>\n    <tr style=\"text-align: right;\">\n      <th></th>\n      <th>기업명</th>\n      <th>년도</th>\n      <th>매출채권회전율변동</th>\n      <th>재고자산회전율변동</th>\n      <th>대손충당금율변동</th>\n      <th>유동비율변동</th>\n      <th>부채비율</th>\n      <th>영업활동현금흐름이자보상비율</th>\n      <th>자기자본순이익률</th>\n      <th>자기자본순이익률변동</th>\n      <th>...</th>\n      <th>자산퀄리티</th>\n      <th>총발생액비율변동</th>\n      <th>매영차</th>\n      <th>총종차</th>\n      <th>오류수정및회계정책변경여부</th>\n      <th>자산총계</th>\n      <th>상장구분</th>\n      <th>BIG4여부</th>\n      <th>당기감사법인변동여부</th>\n      <th>감사의견</th>\n    </tr>\n  </thead>\n  <tbody>\n    <tr>\n      <th>1</th>\n      <td>(유)가든주류244534</td>\n      <td>2011</td>\n      <td>0.345433</td>\n      <td>-0.102333</td>\n      <td>NaN</td>\n      <td>1.396796</td>\n      <td>305.10</td>\n      <td>NaN</td>\n      <td>11.44</td>\n      <td>0.616047</td>\n      <td>...</td>\n      <td>0.210837</td>\n      <td>NaN</td>\n      <td>NaN</td>\n      <td>NaN</td>\n      <td>0</td>\n      <td>23.755892</td>\n      <td>0</td>\n      <td>0</td>\n      <td>0</td>\n      <td>NaN</td>\n    </tr>\n    <tr>\n      <th>2</th>\n      <td>(유)가든주류244534</td>\n      <td>2012</td>\n      <td>-0.372498</td>\n      <td>-0.041911</td>\n      <td>NaN</td>\n      <td>1.571617</td>\n      <td>218.57</td>\n      <td>NaN</td>\n      <td>16.20</td>\n      <td>1.416084</td>\n      <td>...</td>\n      <td>0.008933</td>\n      <td>NaN</td>\n      <td>NaN</td>\n      <td>NaN</td>\n      <td>0</td>\n      <td>23.656948</td>\n      <td>0</td>\n      <td>0</td>\n      <td>0</td>\n      <td>NaN</td>\n    </tr>\n    <tr>\n      <th>3</th>\n      <td>(유)가든주류244534</td>\n      <td>2013</td>\n      <td>-0.217753</td>\n      <td>0.363080</td>\n      <td>0.827051</td>\n      <td>1.066254</td>\n      <td>186.48</td>\n      <td>NaN</td>\n      <td>22.04</td>\n      <td>1.360494</td>\n      <td>...</td>\n      <td>0.004597</td>\n      <td>NaN</td>\n      <td>NaN</td>\n      <td>NaN</td>\n      <td>0</td>\n      <td>23.763009</td>\n      <td>0</td>\n      <td>0</td>\n      <td>0</td>\n      <td>NaN</td>\n    </tr>\n    <tr>\n      <th>4</th>\n      <td>(유)가든주류244534</td>\n      <td>2014</td>\n      <td>-0.145390</td>\n      <td>0.345956</td>\n      <td>0.916581</td>\n      <td>1.215608</td>\n      <td>152.21</td>\n      <td>NaN</td>\n      <td>14.26</td>\n      <td>0.647005</td>\n      <td>...</td>\n      <td>0.003259</td>\n      <td>NaN</td>\n      <td>NaN</td>\n      <td>NaN</td>\n      <td>0</td>\n      <td>23.774551</td>\n      <td>0</td>\n      <td>0</td>\n      <td>0</td>\n      <td>NaN</td>\n    </tr>\n    <tr>\n      <th>5</th>\n      <td>(유)가든주류244534</td>\n      <td>2015</td>\n      <td>0.275934</td>\n      <td>0.228422</td>\n      <td>1.809184</td>\n      <td>0.912876</td>\n      <td>139.19</td>\n      <td>NaN</td>\n      <td>14.11</td>\n      <td>0.989481</td>\n      <td>...</td>\n      <td>0.003638</td>\n      <td>NaN</td>\n      <td>NaN</td>\n      <td>NaN</td>\n      <td>0</td>\n      <td>23.862884</td>\n      <td>0</td>\n      <td>0</td>\n      <td>0</td>\n      <td>NaN</td>\n    </tr>\n    <tr>\n      <th>...</th>\n      <td>...</td>\n      <td>...</td>\n      <td>...</td>\n      <td>...</td>\n      <td>...</td>\n      <td>...</td>\n      <td>...</td>\n      <td>...</td>\n      <td>...</td>\n      <td>...</td>\n      <td>...</td>\n      <td>...</td>\n      <td>...</td>\n      <td>...</td>\n      <td>...</td>\n      <td>...</td>\n      <td>...</td>\n      <td>...</td>\n      <td>...</td>\n      <td>...</td>\n      <td>...</td>\n    </tr>\n    <tr>\n      <th>318687</th>\n      <td>힐티코리아(주)389471</td>\n      <td>2016</td>\n      <td>-0.005277</td>\n      <td>-0.003170</td>\n      <td>0.969011</td>\n      <td>1.207585</td>\n      <td>46.20</td>\n      <td>NaN</td>\n      <td>6.04</td>\n      <td>0.431121</td>\n      <td>...</td>\n      <td>0.142450</td>\n      <td>0.057050</td>\n      <td>2.789865</td>\n      <td>9.26</td>\n      <td>0</td>\n      <td>24.257440</td>\n      <td>0</td>\n      <td>1</td>\n      <td>0</td>\n      <td>적정</td>\n    </tr>\n    <tr>\n      <th>318688</th>\n      <td>힐티코리아(주)389471</td>\n      <td>2017</td>\n      <td>0.025199</td>\n      <td>-0.007949</td>\n      <td>0.812777</td>\n      <td>0.942346</td>\n      <td>54.51</td>\n      <td>NaN</td>\n      <td>8.15</td>\n      <td>1.349338</td>\n      <td>...</td>\n      <td>0.056755</td>\n      <td>0.024143</td>\n      <td>2.610911</td>\n      <td>0.74</td>\n      <td>0</td>\n      <td>24.394284</td>\n      <td>0</td>\n      <td>1</td>\n      <td>0</td>\n      <td>적정</td>\n    </tr>\n    <tr>\n      <th>318689</th>\n      <td>힐티코리아(주)389471</td>\n      <td>2018</td>\n      <td>-0.027167</td>\n      <td>-0.088141</td>\n      <td>0.865167</td>\n      <td>1.077972</td>\n      <td>45.13</td>\n      <td>NaN</td>\n      <td>11.29</td>\n      <td>1.385276</td>\n      <td>...</td>\n      <td>0.078465</td>\n      <td>-0.088074</td>\n      <td>3.820559</td>\n      <td>6.72</td>\n      <td>0</td>\n      <td>24.426058</td>\n      <td>0</td>\n      <td>1</td>\n      <td>0</td>\n      <td>적정</td>\n    </tr>\n    <tr>\n      <th>318690</th>\n      <td>힐티코리아(주)389471</td>\n      <td>2019</td>\n      <td>0.013298</td>\n      <td>0.079086</td>\n      <td>1.046623</td>\n      <td>0.998150</td>\n      <td>54.34</td>\n      <td>45.40</td>\n      <td>9.41</td>\n      <td>0.833481</td>\n      <td>...</td>\n      <td>0.054562</td>\n      <td>-0.104548</td>\n      <td>3.746663</td>\n      <td>14.52</td>\n      <td>0</td>\n      <td>24.568740</td>\n      <td>0</td>\n      <td>1</td>\n      <td>0</td>\n      <td>적정</td>\n    </tr>\n    <tr>\n      <th>318691</th>\n      <td>힐티코리아(주)389471</td>\n      <td>2020</td>\n      <td>-0.001312</td>\n      <td>-0.024430</td>\n      <td>0.985369</td>\n      <td>0.764198</td>\n      <td>78.89</td>\n      <td>32.93</td>\n      <td>9.54</td>\n      <td>1.013815</td>\n      <td>...</td>\n      <td>0.084643</td>\n      <td>0.022095</td>\n      <td>3.978038</td>\n      <td>17.49</td>\n      <td>0</td>\n      <td>24.757369</td>\n      <td>0</td>\n      <td>1</td>\n      <td>0</td>\n      <td>적정</td>\n    </tr>\n  </tbody>\n</table>\n<p>289720 rows × 21 columns</p>\n</div>"
     },
     "execution_count": 90,
     "metadata": {},
     "output_type": "execute_result"
    }
   ],
   "source": [
    "Data_merged = reduce(lambda left, right: pd.merge(left, right, how='inner'), columns) #통합하기\n",
    "Data_merged = Data_merged[~(Data_merged.년도 == '2010')] #2011년도의 변동 데이터 계산('당기감사법인변동여부' 등)를 위해 필요했던 2010 데이터 삭제\n",
    "Data_merged"
   ]
  },
  {
   "cell_type": "code",
   "execution_count": 91,
   "id": "ec896852-cb73-4478-8a9b-f558efdf7e74",
   "metadata": {},
   "outputs": [
    {
     "data": {
      "text/plain": "              감사의견                      기업명    년도  매출채권회전율변동  재고자산회전율변동  \\\n8       한정(감사범위제한)            (유)가든주류244534  2020  -0.216645  -0.009839   \n16      한정(감사범위제한)            (유)건향개발I57907  2018  -0.706949   2.679380   \n17              적정            (유)건향개발I57907  2019  -0.469072   1.632373   \n18              적정            (유)건향개발I57907  2020  -0.011327   0.079725   \n37      한정(감사범위제한)  (유)그랜드유니버셜트레이딩코리아I83725  2020   0.243678  -0.057018   \n...            ...                      ...   ...        ...        ...   \n276072          적정           힐티코리아(주)389471  2016  -0.005277  -0.003170   \n276073          적정           힐티코리아(주)389471  2017   0.025199  -0.007949   \n276074          적정           힐티코리아(주)389471  2018  -0.027167  -0.088141   \n276075          적정           힐티코리아(주)389471  2019   0.013298   0.079086   \n276076          적정           힐티코리아(주)389471  2020  -0.001312  -0.024430   \n\n        대손충당금율변동    유동비율변동    부채비율  영업활동현금흐름이자보상비율  자기자본순이익률  ...  매출액증가율  \\\n8       0.000000  0.528223  361.81           -0.72      4.89  ...  -12.73   \n16           NaN  0.718051  391.98           84.83     59.22  ...   65.16   \n17           NaN  1.170710  197.85           -7.55     59.87  ...   -0.38   \n18           NaN  1.037560  136.43           65.62     33.61  ...  -15.22   \n37      0.773256  1.296969     NaN             NaN       NaN  ...   58.39   \n...          ...       ...     ...             ...       ...  ...     ...   \n276072  0.969011  1.207585   46.20             NaN      6.04  ...   13.39   \n276073  0.812777  0.942346   54.51             NaN      8.15  ...   15.41   \n276074  0.865167  1.077972   45.13             NaN     11.29  ...    3.18   \n276075  1.046623  0.998150   54.34           45.40      9.41  ...   -4.72   \n276076  0.985369  0.764198   78.89           32.93      9.54  ...   -0.57   \n\n           자산퀄리티  총발생액비율변동       매영차     총종차  오류수정및회계정책변경여부       자산총계  상장구분  \\\n8       0.113478 -0.018599  1.407754   11.12              0  24.217976     0   \n16      0.134895       NaN  2.676345  191.56              0  23.759990     0   \n17      0.121283  0.307075  5.297512    7.55              0  23.878219     0   \n18      0.146449 -0.419842  4.273336  145.59              0  23.691609     0   \n37      0.000000  0.131645  8.801749   28.85              0  24.211416     0   \n...          ...       ...       ...     ...            ...        ...   ...   \n276072  0.142450  0.057050  2.789865    9.26              0  24.257440     0   \n276073  0.056755  0.024143  2.610911    0.74              0  24.394284     0   \n276074  0.078465 -0.088074  3.820559    6.72              0  24.426058     0   \n276075  0.054562 -0.104548  3.746663   14.52              0  24.568740     0   \n276076  0.084643  0.022095  3.978038   17.49              0  24.757369     0   \n\n        BIG4여부  당기감사법인변동여부  \n8            0           1  \n16           0           1  \n17           0           0  \n18           0           1  \n37           0           1  \n...        ...         ...  \n276072       1           0  \n276073       1           0  \n276074       1           0  \n276075       1           0  \n276076       1           0  \n\n[183730 rows x 21 columns]",
      "text/html": "<div>\n<style scoped>\n    .dataframe tbody tr th:only-of-type {\n        vertical-align: middle;\n    }\n\n    .dataframe tbody tr th {\n        vertical-align: top;\n    }\n\n    .dataframe thead th {\n        text-align: right;\n    }\n</style>\n<table border=\"1\" class=\"dataframe\">\n  <thead>\n    <tr style=\"text-align: right;\">\n      <th></th>\n      <th>감사의견</th>\n      <th>기업명</th>\n      <th>년도</th>\n      <th>매출채권회전율변동</th>\n      <th>재고자산회전율변동</th>\n      <th>대손충당금율변동</th>\n      <th>유동비율변동</th>\n      <th>부채비율</th>\n      <th>영업활동현금흐름이자보상비율</th>\n      <th>자기자본순이익률</th>\n      <th>...</th>\n      <th>매출액증가율</th>\n      <th>자산퀄리티</th>\n      <th>총발생액비율변동</th>\n      <th>매영차</th>\n      <th>총종차</th>\n      <th>오류수정및회계정책변경여부</th>\n      <th>자산총계</th>\n      <th>상장구분</th>\n      <th>BIG4여부</th>\n      <th>당기감사법인변동여부</th>\n    </tr>\n  </thead>\n  <tbody>\n    <tr>\n      <th>8</th>\n      <td>한정(감사범위제한)</td>\n      <td>(유)가든주류244534</td>\n      <td>2020</td>\n      <td>-0.216645</td>\n      <td>-0.009839</td>\n      <td>0.000000</td>\n      <td>0.528223</td>\n      <td>361.81</td>\n      <td>-0.72</td>\n      <td>4.89</td>\n      <td>...</td>\n      <td>-12.73</td>\n      <td>0.113478</td>\n      <td>-0.018599</td>\n      <td>1.407754</td>\n      <td>11.12</td>\n      <td>0</td>\n      <td>24.217976</td>\n      <td>0</td>\n      <td>0</td>\n      <td>1</td>\n    </tr>\n    <tr>\n      <th>16</th>\n      <td>한정(감사범위제한)</td>\n      <td>(유)건향개발I57907</td>\n      <td>2018</td>\n      <td>-0.706949</td>\n      <td>2.679380</td>\n      <td>NaN</td>\n      <td>0.718051</td>\n      <td>391.98</td>\n      <td>84.83</td>\n      <td>59.22</td>\n      <td>...</td>\n      <td>65.16</td>\n      <td>0.134895</td>\n      <td>NaN</td>\n      <td>2.676345</td>\n      <td>191.56</td>\n      <td>0</td>\n      <td>23.759990</td>\n      <td>0</td>\n      <td>0</td>\n      <td>1</td>\n    </tr>\n    <tr>\n      <th>17</th>\n      <td>적정</td>\n      <td>(유)건향개발I57907</td>\n      <td>2019</td>\n      <td>-0.469072</td>\n      <td>1.632373</td>\n      <td>NaN</td>\n      <td>1.170710</td>\n      <td>197.85</td>\n      <td>-7.55</td>\n      <td>59.87</td>\n      <td>...</td>\n      <td>-0.38</td>\n      <td>0.121283</td>\n      <td>0.307075</td>\n      <td>5.297512</td>\n      <td>7.55</td>\n      <td>0</td>\n      <td>23.878219</td>\n      <td>0</td>\n      <td>0</td>\n      <td>0</td>\n    </tr>\n    <tr>\n      <th>18</th>\n      <td>적정</td>\n      <td>(유)건향개발I57907</td>\n      <td>2020</td>\n      <td>-0.011327</td>\n      <td>0.079725</td>\n      <td>NaN</td>\n      <td>1.037560</td>\n      <td>136.43</td>\n      <td>65.62</td>\n      <td>33.61</td>\n      <td>...</td>\n      <td>-15.22</td>\n      <td>0.146449</td>\n      <td>-0.419842</td>\n      <td>4.273336</td>\n      <td>145.59</td>\n      <td>0</td>\n      <td>23.691609</td>\n      <td>0</td>\n      <td>0</td>\n      <td>1</td>\n    </tr>\n    <tr>\n      <th>37</th>\n      <td>한정(감사범위제한)</td>\n      <td>(유)그랜드유니버셜트레이딩코리아I83725</td>\n      <td>2020</td>\n      <td>0.243678</td>\n      <td>-0.057018</td>\n      <td>0.773256</td>\n      <td>1.296969</td>\n      <td>NaN</td>\n      <td>NaN</td>\n      <td>NaN</td>\n      <td>...</td>\n      <td>58.39</td>\n      <td>0.000000</td>\n      <td>0.131645</td>\n      <td>8.801749</td>\n      <td>28.85</td>\n      <td>0</td>\n      <td>24.211416</td>\n      <td>0</td>\n      <td>0</td>\n      <td>1</td>\n    </tr>\n    <tr>\n      <th>...</th>\n      <td>...</td>\n      <td>...</td>\n      <td>...</td>\n      <td>...</td>\n      <td>...</td>\n      <td>...</td>\n      <td>...</td>\n      <td>...</td>\n      <td>...</td>\n      <td>...</td>\n      <td>...</td>\n      <td>...</td>\n      <td>...</td>\n      <td>...</td>\n      <td>...</td>\n      <td>...</td>\n      <td>...</td>\n      <td>...</td>\n      <td>...</td>\n      <td>...</td>\n      <td>...</td>\n    </tr>\n    <tr>\n      <th>276072</th>\n      <td>적정</td>\n      <td>힐티코리아(주)389471</td>\n      <td>2016</td>\n      <td>-0.005277</td>\n      <td>-0.003170</td>\n      <td>0.969011</td>\n      <td>1.207585</td>\n      <td>46.20</td>\n      <td>NaN</td>\n      <td>6.04</td>\n      <td>...</td>\n      <td>13.39</td>\n      <td>0.142450</td>\n      <td>0.057050</td>\n      <td>2.789865</td>\n      <td>9.26</td>\n      <td>0</td>\n      <td>24.257440</td>\n      <td>0</td>\n      <td>1</td>\n      <td>0</td>\n    </tr>\n    <tr>\n      <th>276073</th>\n      <td>적정</td>\n      <td>힐티코리아(주)389471</td>\n      <td>2017</td>\n      <td>0.025199</td>\n      <td>-0.007949</td>\n      <td>0.812777</td>\n      <td>0.942346</td>\n      <td>54.51</td>\n      <td>NaN</td>\n      <td>8.15</td>\n      <td>...</td>\n      <td>15.41</td>\n      <td>0.056755</td>\n      <td>0.024143</td>\n      <td>2.610911</td>\n      <td>0.74</td>\n      <td>0</td>\n      <td>24.394284</td>\n      <td>0</td>\n      <td>1</td>\n      <td>0</td>\n    </tr>\n    <tr>\n      <th>276074</th>\n      <td>적정</td>\n      <td>힐티코리아(주)389471</td>\n      <td>2018</td>\n      <td>-0.027167</td>\n      <td>-0.088141</td>\n      <td>0.865167</td>\n      <td>1.077972</td>\n      <td>45.13</td>\n      <td>NaN</td>\n      <td>11.29</td>\n      <td>...</td>\n      <td>3.18</td>\n      <td>0.078465</td>\n      <td>-0.088074</td>\n      <td>3.820559</td>\n      <td>6.72</td>\n      <td>0</td>\n      <td>24.426058</td>\n      <td>0</td>\n      <td>1</td>\n      <td>0</td>\n    </tr>\n    <tr>\n      <th>276075</th>\n      <td>적정</td>\n      <td>힐티코리아(주)389471</td>\n      <td>2019</td>\n      <td>0.013298</td>\n      <td>0.079086</td>\n      <td>1.046623</td>\n      <td>0.998150</td>\n      <td>54.34</td>\n      <td>45.40</td>\n      <td>9.41</td>\n      <td>...</td>\n      <td>-4.72</td>\n      <td>0.054562</td>\n      <td>-0.104548</td>\n      <td>3.746663</td>\n      <td>14.52</td>\n      <td>0</td>\n      <td>24.568740</td>\n      <td>0</td>\n      <td>1</td>\n      <td>0</td>\n    </tr>\n    <tr>\n      <th>276076</th>\n      <td>적정</td>\n      <td>힐티코리아(주)389471</td>\n      <td>2020</td>\n      <td>-0.001312</td>\n      <td>-0.024430</td>\n      <td>0.985369</td>\n      <td>0.764198</td>\n      <td>78.89</td>\n      <td>32.93</td>\n      <td>9.54</td>\n      <td>...</td>\n      <td>-0.57</td>\n      <td>0.084643</td>\n      <td>0.022095</td>\n      <td>3.978038</td>\n      <td>17.49</td>\n      <td>0</td>\n      <td>24.757369</td>\n      <td>0</td>\n      <td>1</td>\n      <td>0</td>\n    </tr>\n  </tbody>\n</table>\n<p>183730 rows × 21 columns</p>\n</div>"
     },
     "execution_count": 91,
     "metadata": {},
     "output_type": "execute_result"
    }
   ],
   "source": [
    "Data = Data_merged.copy()\n",
    "Data_null = Data.set_index('감사의견').drop('감사미필').reset_index() #감사미필: 감사를 행하지 못한 경우, 따라서 데이터에서 제외\n",
    "Data_null = Data_null[~Data_null.감사의견.isnull()] #감사의견 중 NaN값 제외\n",
    "Data_null"
   ]
  },
  {
   "cell_type": "code",
   "execution_count": 92,
   "id": "c98b6127-407d-4a31-aaa9-306e83ffb253",
   "metadata": {},
   "outputs": [
    {
     "data": {
      "text/plain": "                            기업명    년도  매출채권회전율변동  재고자산회전율변동  대손충당금율변동  \\\n0                 (유)가든주류244534  2020  -0.216645  -0.009839  0.000000   \n1                 (유)건향개발I57907  2018  -0.706949   2.679380       NaN   \n2                 (유)건향개발I57907  2019  -0.469072   1.632373       NaN   \n3                 (유)건향개발I57907  2020  -0.011327   0.079725       NaN   \n4       (유)그랜드유니버셜트레이딩코리아I83725  2020   0.243678  -0.057018  0.773256   \n...                         ...   ...        ...        ...       ...   \n183725           힐티코리아(주)389471  2016  -0.005277  -0.003170  0.969011   \n183726           힐티코리아(주)389471  2017   0.025199  -0.007949  0.812777   \n183727           힐티코리아(주)389471  2018  -0.027167  -0.088141  0.865167   \n183728           힐티코리아(주)389471  2019   0.013298   0.079086  1.046623   \n183729           힐티코리아(주)389471  2020  -0.001312  -0.024430  0.985369   \n\n          유동비율변동    부채비율  영업활동현금흐름이자보상비율  자기자본순이익률  자기자본순이익률변동  ...     자산퀄리티  \\\n0       0.528223  361.81           -0.72      4.89    0.349785  ...  0.113478   \n1       0.718051  391.98           84.83     59.22    3.529201  ...  0.134895   \n2       1.170710  197.85           -7.55     59.87    1.010976  ...  0.121283   \n3       1.037560  136.43           65.62     33.61    0.561383  ...  0.146449   \n4       1.296969     NaN             NaN       NaN         NaN  ...  0.000000   \n...          ...     ...             ...       ...         ...  ...       ...   \n183725  1.207585   46.20             NaN      6.04    0.431121  ...  0.142450   \n183726  0.942346   54.51             NaN      8.15    1.349338  ...  0.056755   \n183727  1.077972   45.13             NaN     11.29    1.385276  ...  0.078465   \n183728  0.998150   54.34           45.40      9.41    0.833481  ...  0.054562   \n183729  0.764198   78.89           32.93      9.54    1.013815  ...  0.084643   \n\n        총발생액비율변동       매영차     총종차  오류수정및회계정책변경여부       자산총계  상장구분  BIG4여부  \\\n0      -0.018599  1.407754   11.12              0  24.217976     0       0   \n1            NaN  2.676345  191.56              0  23.759990     0       0   \n2       0.307075  5.297512    7.55              0  23.878219     0       0   \n3      -0.419842  4.273336  145.59              0  23.691609     0       0   \n4       0.131645  8.801749   28.85              0  24.211416     0       0   \n...          ...       ...     ...            ...        ...   ...     ...   \n183725  0.057050  2.789865    9.26              0  24.257440     0       1   \n183726  0.024143  2.610911    0.74              0  24.394284     0       1   \n183727 -0.088074  3.820559    6.72              0  24.426058     0       1   \n183728 -0.104548  3.746663   14.52              0  24.568740     0       1   \n183729  0.022095  3.978038   17.49              0  24.757369     0       1   \n\n        당기감사법인변동여부 비적정여부  \n0                1     1  \n1                1     1  \n2                0     0  \n3                1     0  \n4                1     1  \n...            ...   ...  \n183725           0     0  \n183726           0     0  \n183727           0     0  \n183728           0     0  \n183729           0     0  \n\n[183730 rows x 21 columns]",
      "text/html": "<div>\n<style scoped>\n    .dataframe tbody tr th:only-of-type {\n        vertical-align: middle;\n    }\n\n    .dataframe tbody tr th {\n        vertical-align: top;\n    }\n\n    .dataframe thead th {\n        text-align: right;\n    }\n</style>\n<table border=\"1\" class=\"dataframe\">\n  <thead>\n    <tr style=\"text-align: right;\">\n      <th></th>\n      <th>기업명</th>\n      <th>년도</th>\n      <th>매출채권회전율변동</th>\n      <th>재고자산회전율변동</th>\n      <th>대손충당금율변동</th>\n      <th>유동비율변동</th>\n      <th>부채비율</th>\n      <th>영업활동현금흐름이자보상비율</th>\n      <th>자기자본순이익률</th>\n      <th>자기자본순이익률변동</th>\n      <th>...</th>\n      <th>자산퀄리티</th>\n      <th>총발생액비율변동</th>\n      <th>매영차</th>\n      <th>총종차</th>\n      <th>오류수정및회계정책변경여부</th>\n      <th>자산총계</th>\n      <th>상장구분</th>\n      <th>BIG4여부</th>\n      <th>당기감사법인변동여부</th>\n      <th>비적정여부</th>\n    </tr>\n  </thead>\n  <tbody>\n    <tr>\n      <th>0</th>\n      <td>(유)가든주류244534</td>\n      <td>2020</td>\n      <td>-0.216645</td>\n      <td>-0.009839</td>\n      <td>0.000000</td>\n      <td>0.528223</td>\n      <td>361.81</td>\n      <td>-0.72</td>\n      <td>4.89</td>\n      <td>0.349785</td>\n      <td>...</td>\n      <td>0.113478</td>\n      <td>-0.018599</td>\n      <td>1.407754</td>\n      <td>11.12</td>\n      <td>0</td>\n      <td>24.217976</td>\n      <td>0</td>\n      <td>0</td>\n      <td>1</td>\n      <td>1</td>\n    </tr>\n    <tr>\n      <th>1</th>\n      <td>(유)건향개발I57907</td>\n      <td>2018</td>\n      <td>-0.706949</td>\n      <td>2.679380</td>\n      <td>NaN</td>\n      <td>0.718051</td>\n      <td>391.98</td>\n      <td>84.83</td>\n      <td>59.22</td>\n      <td>3.529201</td>\n      <td>...</td>\n      <td>0.134895</td>\n      <td>NaN</td>\n      <td>2.676345</td>\n      <td>191.56</td>\n      <td>0</td>\n      <td>23.759990</td>\n      <td>0</td>\n      <td>0</td>\n      <td>1</td>\n      <td>1</td>\n    </tr>\n    <tr>\n      <th>2</th>\n      <td>(유)건향개발I57907</td>\n      <td>2019</td>\n      <td>-0.469072</td>\n      <td>1.632373</td>\n      <td>NaN</td>\n      <td>1.170710</td>\n      <td>197.85</td>\n      <td>-7.55</td>\n      <td>59.87</td>\n      <td>1.010976</td>\n      <td>...</td>\n      <td>0.121283</td>\n      <td>0.307075</td>\n      <td>5.297512</td>\n      <td>7.55</td>\n      <td>0</td>\n      <td>23.878219</td>\n      <td>0</td>\n      <td>0</td>\n      <td>0</td>\n      <td>0</td>\n    </tr>\n    <tr>\n      <th>3</th>\n      <td>(유)건향개발I57907</td>\n      <td>2020</td>\n      <td>-0.011327</td>\n      <td>0.079725</td>\n      <td>NaN</td>\n      <td>1.037560</td>\n      <td>136.43</td>\n      <td>65.62</td>\n      <td>33.61</td>\n      <td>0.561383</td>\n      <td>...</td>\n      <td>0.146449</td>\n      <td>-0.419842</td>\n      <td>4.273336</td>\n      <td>145.59</td>\n      <td>0</td>\n      <td>23.691609</td>\n      <td>0</td>\n      <td>0</td>\n      <td>1</td>\n      <td>0</td>\n    </tr>\n    <tr>\n      <th>4</th>\n      <td>(유)그랜드유니버셜트레이딩코리아I83725</td>\n      <td>2020</td>\n      <td>0.243678</td>\n      <td>-0.057018</td>\n      <td>0.773256</td>\n      <td>1.296969</td>\n      <td>NaN</td>\n      <td>NaN</td>\n      <td>NaN</td>\n      <td>NaN</td>\n      <td>...</td>\n      <td>0.000000</td>\n      <td>0.131645</td>\n      <td>8.801749</td>\n      <td>28.85</td>\n      <td>0</td>\n      <td>24.211416</td>\n      <td>0</td>\n      <td>0</td>\n      <td>1</td>\n      <td>1</td>\n    </tr>\n    <tr>\n      <th>...</th>\n      <td>...</td>\n      <td>...</td>\n      <td>...</td>\n      <td>...</td>\n      <td>...</td>\n      <td>...</td>\n      <td>...</td>\n      <td>...</td>\n      <td>...</td>\n      <td>...</td>\n      <td>...</td>\n      <td>...</td>\n      <td>...</td>\n      <td>...</td>\n      <td>...</td>\n      <td>...</td>\n      <td>...</td>\n      <td>...</td>\n      <td>...</td>\n      <td>...</td>\n      <td>...</td>\n    </tr>\n    <tr>\n      <th>183725</th>\n      <td>힐티코리아(주)389471</td>\n      <td>2016</td>\n      <td>-0.005277</td>\n      <td>-0.003170</td>\n      <td>0.969011</td>\n      <td>1.207585</td>\n      <td>46.20</td>\n      <td>NaN</td>\n      <td>6.04</td>\n      <td>0.431121</td>\n      <td>...</td>\n      <td>0.142450</td>\n      <td>0.057050</td>\n      <td>2.789865</td>\n      <td>9.26</td>\n      <td>0</td>\n      <td>24.257440</td>\n      <td>0</td>\n      <td>1</td>\n      <td>0</td>\n      <td>0</td>\n    </tr>\n    <tr>\n      <th>183726</th>\n      <td>힐티코리아(주)389471</td>\n      <td>2017</td>\n      <td>0.025199</td>\n      <td>-0.007949</td>\n      <td>0.812777</td>\n      <td>0.942346</td>\n      <td>54.51</td>\n      <td>NaN</td>\n      <td>8.15</td>\n      <td>1.349338</td>\n      <td>...</td>\n      <td>0.056755</td>\n      <td>0.024143</td>\n      <td>2.610911</td>\n      <td>0.74</td>\n      <td>0</td>\n      <td>24.394284</td>\n      <td>0</td>\n      <td>1</td>\n      <td>0</td>\n      <td>0</td>\n    </tr>\n    <tr>\n      <th>183727</th>\n      <td>힐티코리아(주)389471</td>\n      <td>2018</td>\n      <td>-0.027167</td>\n      <td>-0.088141</td>\n      <td>0.865167</td>\n      <td>1.077972</td>\n      <td>45.13</td>\n      <td>NaN</td>\n      <td>11.29</td>\n      <td>1.385276</td>\n      <td>...</td>\n      <td>0.078465</td>\n      <td>-0.088074</td>\n      <td>3.820559</td>\n      <td>6.72</td>\n      <td>0</td>\n      <td>24.426058</td>\n      <td>0</td>\n      <td>1</td>\n      <td>0</td>\n      <td>0</td>\n    </tr>\n    <tr>\n      <th>183728</th>\n      <td>힐티코리아(주)389471</td>\n      <td>2019</td>\n      <td>0.013298</td>\n      <td>0.079086</td>\n      <td>1.046623</td>\n      <td>0.998150</td>\n      <td>54.34</td>\n      <td>45.40</td>\n      <td>9.41</td>\n      <td>0.833481</td>\n      <td>...</td>\n      <td>0.054562</td>\n      <td>-0.104548</td>\n      <td>3.746663</td>\n      <td>14.52</td>\n      <td>0</td>\n      <td>24.568740</td>\n      <td>0</td>\n      <td>1</td>\n      <td>0</td>\n      <td>0</td>\n    </tr>\n    <tr>\n      <th>183729</th>\n      <td>힐티코리아(주)389471</td>\n      <td>2020</td>\n      <td>-0.001312</td>\n      <td>-0.024430</td>\n      <td>0.985369</td>\n      <td>0.764198</td>\n      <td>78.89</td>\n      <td>32.93</td>\n      <td>9.54</td>\n      <td>1.013815</td>\n      <td>...</td>\n      <td>0.084643</td>\n      <td>0.022095</td>\n      <td>3.978038</td>\n      <td>17.49</td>\n      <td>0</td>\n      <td>24.757369</td>\n      <td>0</td>\n      <td>1</td>\n      <td>0</td>\n      <td>0</td>\n    </tr>\n  </tbody>\n</table>\n<p>183730 rows × 21 columns</p>\n</div>"
     },
     "execution_count": 92,
     "metadata": {},
     "output_type": "execute_result"
    }
   ],
   "source": [
    "Data_null['비적정여부'] = Data_null.감사의견.apply(lambda x: 0 if x == '적정' else 1) #'적정'은 0, '비적정'은 1\n",
    "Data_null.drop('감사의견', axis=1, inplace = True) #필요없어진 '감사의견' 열 삭제\n",
    "Data_null = Data_null.reset_index() #인덱스 재배열\n",
    "Data_null.pop('index')\n",
    "Data = Data_null.copy()\n",
    "Data"
   ]
  },
  {
   "cell_type": "markdown",
   "id": "af37fad1-0e96-4680-9f79-598a992e6003",
   "metadata": {
    "tags": []
   },
   "source": [
    "## 4. Imputation Technique: MissForest"
   ]
  },
  {
   "cell_type": "markdown",
   "id": "a95e5392-4383-4f4a-bbdd-c13a5fec3f78",
   "metadata": {},
   "source": [
    "##### 명목형(binary) 변수 '오류수정및회계정책변경여부', '상장구분', 'BIG4여부', '당기감사법인변동여부'를 제외한 변수의 결측치 처리"
   ]
  },
  {
   "cell_type": "code",
   "execution_count": 96,
   "id": "b5e303cd-1b95-46b7-a718-4b06e892a622",
   "metadata": {},
   "outputs": [],
   "source": [
    "import sys\n",
    "import sklearn.neighbors._base\n",
    "sys.modules['sklearn.neighbors.base'] = sklearn.neighbors._base #최신버전의 sklearn에서는 명칭이 바뀌어 missforest 사용시 error 발생\n",
    "from missingpy import MissForest"
   ]
  },
  {
   "cell_type": "code",
   "execution_count": 97,
   "id": "c73693c8-b3d4-4427-977b-c78e09dd9ce4",
   "metadata": {},
   "outputs": [],
   "source": [
    "Data = Data[['매출채권회전율변동', '재고자산회전율변동', '대손충당금율변동', '유동비율변동',\n",
    "       '부채비율', '영업활동현금흐름이자보상비율', '자기자본순이익률', '자기자본순이익률변동', \n",
    "       '매출액증가율', '자산퀄리티', '총발생액비율변동', '매영차', '총종차', '오류수정및회계정책변경여부',\n",
    "       '자산총계', '상장구분', 'BIG4여부', '당기감사법인변동여부', '비적정여부']]"
   ]
  },
  {
   "cell_type": "code",
   "execution_count": 49,
   "id": "b633dd22-6021-4da2-9129-e559df6fb54e",
   "metadata": {},
   "outputs": [],
   "source": [
    "Columns = Data.columns.tolist()\n",
    "binary_Columns = ['오류수정및회계정책변경여부', '상장구분', 'BIG4여부', '감사법인변동여부'] #binary 변수 제외\n",
    "category_variable = [idx for idx, col in enumerate(Columns) if col in binary_Columns] #index에 binary 변수가 할당될 경우 다음 열의 변수로 넘어간다"
   ]
  },
  {
   "cell_type": "code",
   "execution_count": 50,
   "id": "5379e07f-a93a-47e1-ab02-d44222a40c91",
   "metadata": {},
   "outputs": [
    {
     "name": "stderr",
     "output_type": "stream",
     "text": [
      "[Parallel(n_jobs=-1)]: Using backend ThreadingBackend with 12 concurrent workers.\n",
      "[Parallel(n_jobs=-1)]: Done  26 tasks      | elapsed:    5.6s\n",
      "[Parallel(n_jobs=-1)]: Done 100 out of 100 | elapsed:   16.9s finished\n",
      "[Parallel(n_jobs=12)]: Using backend ThreadingBackend with 12 concurrent workers.\n",
      "[Parallel(n_jobs=12)]: Done  26 tasks      | elapsed:    0.0s\n",
      "[Parallel(n_jobs=12)]: Done 100 out of 100 | elapsed:    0.0s finished\n",
      "[Parallel(n_jobs=-1)]: Using backend ThreadingBackend with 12 concurrent workers.\n",
      "[Parallel(n_jobs=-1)]: Done  26 tasks      | elapsed:    5.8s\n",
      "[Parallel(n_jobs=-1)]: Done 100 out of 100 | elapsed:   18.3s finished\n",
      "[Parallel(n_jobs=12)]: Using backend ThreadingBackend with 12 concurrent workers.\n",
      "[Parallel(n_jobs=12)]: Done  26 tasks      | elapsed:    0.0s\n",
      "[Parallel(n_jobs=12)]: Done 100 out of 100 | elapsed:    0.0s finished\n",
      "[Parallel(n_jobs=-1)]: Using backend ThreadingBackend with 12 concurrent workers.\n",
      "[Parallel(n_jobs=-1)]: Done  26 tasks      | elapsed:    6.1s\n",
      "[Parallel(n_jobs=-1)]: Done 100 out of 100 | elapsed:   19.0s finished\n",
      "[Parallel(n_jobs=12)]: Using backend ThreadingBackend with 12 concurrent workers.\n",
      "[Parallel(n_jobs=12)]: Done  26 tasks      | elapsed:    0.0s\n",
      "[Parallel(n_jobs=12)]: Done 100 out of 100 | elapsed:    0.0s finished\n",
      "[Parallel(n_jobs=-1)]: Using backend ThreadingBackend with 12 concurrent workers.\n",
      "[Parallel(n_jobs=-1)]: Done  26 tasks      | elapsed:    6.2s\n",
      "[Parallel(n_jobs=-1)]: Done 100 out of 100 | elapsed:   18.8s finished\n",
      "[Parallel(n_jobs=12)]: Using backend ThreadingBackend with 12 concurrent workers.\n",
      "[Parallel(n_jobs=12)]: Done  26 tasks      | elapsed:    0.0s\n",
      "[Parallel(n_jobs=12)]: Done 100 out of 100 | elapsed:    0.0s finished\n",
      "[Parallel(n_jobs=-1)]: Using backend ThreadingBackend with 12 concurrent workers.\n",
      "[Parallel(n_jobs=-1)]: Done  26 tasks      | elapsed:    5.3s\n",
      "[Parallel(n_jobs=-1)]: Done 100 out of 100 | elapsed:   16.6s finished\n",
      "[Parallel(n_jobs=12)]: Using backend ThreadingBackend with 12 concurrent workers.\n",
      "[Parallel(n_jobs=12)]: Done  26 tasks      | elapsed:    0.0s\n",
      "[Parallel(n_jobs=12)]: Done 100 out of 100 | elapsed:    0.0s finished\n",
      "[Parallel(n_jobs=-1)]: Using backend ThreadingBackend with 12 concurrent workers.\n",
      "[Parallel(n_jobs=-1)]: Done  26 tasks      | elapsed:    5.9s\n",
      "[Parallel(n_jobs=-1)]: Done 100 out of 100 | elapsed:   18.3s finished\n",
      "[Parallel(n_jobs=12)]: Using backend ThreadingBackend with 12 concurrent workers.\n",
      "[Parallel(n_jobs=12)]: Done  26 tasks      | elapsed:    0.0s\n",
      "[Parallel(n_jobs=12)]: Done 100 out of 100 | elapsed:    0.0s finished\n",
      "[Parallel(n_jobs=-1)]: Using backend ThreadingBackend with 12 concurrent workers.\n",
      "[Parallel(n_jobs=-1)]: Done  26 tasks      | elapsed:    6.0s\n",
      "[Parallel(n_jobs=-1)]: Done 100 out of 100 | elapsed:   18.1s finished\n",
      "[Parallel(n_jobs=12)]: Using backend ThreadingBackend with 12 concurrent workers.\n",
      "[Parallel(n_jobs=12)]: Done  26 tasks      | elapsed:    0.0s\n",
      "[Parallel(n_jobs=12)]: Done 100 out of 100 | elapsed:    0.0s finished\n",
      "[Parallel(n_jobs=-1)]: Using backend ThreadingBackend with 12 concurrent workers.\n",
      "[Parallel(n_jobs=-1)]: Done  26 tasks      | elapsed:    5.8s\n",
      "[Parallel(n_jobs=-1)]: Done 100 out of 100 | elapsed:   17.7s finished\n",
      "[Parallel(n_jobs=12)]: Using backend ThreadingBackend with 12 concurrent workers.\n",
      "[Parallel(n_jobs=12)]: Done  26 tasks      | elapsed:    0.0s\n",
      "[Parallel(n_jobs=12)]: Done 100 out of 100 | elapsed:    0.0s finished\n",
      "[Parallel(n_jobs=-1)]: Using backend ThreadingBackend with 12 concurrent workers.\n",
      "[Parallel(n_jobs=-1)]: Done  26 tasks      | elapsed:    5.3s\n",
      "[Parallel(n_jobs=-1)]: Done 100 out of 100 | elapsed:   16.4s finished\n",
      "[Parallel(n_jobs=12)]: Using backend ThreadingBackend with 12 concurrent workers.\n",
      "[Parallel(n_jobs=12)]: Done  26 tasks      | elapsed:    0.0s\n",
      "[Parallel(n_jobs=12)]: Done 100 out of 100 | elapsed:    0.0s finished\n",
      "[Parallel(n_jobs=-1)]: Using backend ThreadingBackend with 12 concurrent workers.\n",
      "[Parallel(n_jobs=-1)]: Done  26 tasks      | elapsed:    5.4s\n",
      "[Parallel(n_jobs=-1)]: Done 100 out of 100 | elapsed:   16.2s finished\n",
      "[Parallel(n_jobs=12)]: Using backend ThreadingBackend with 12 concurrent workers.\n",
      "[Parallel(n_jobs=12)]: Done  26 tasks      | elapsed:    0.0s\n",
      "[Parallel(n_jobs=12)]: Done 100 out of 100 | elapsed:    0.0s finished\n",
      "[Parallel(n_jobs=-1)]: Using backend ThreadingBackend with 12 concurrent workers.\n",
      "[Parallel(n_jobs=-1)]: Done  26 tasks      | elapsed:    5.3s\n",
      "[Parallel(n_jobs=-1)]: Done 100 out of 100 | elapsed:   16.7s finished\n",
      "[Parallel(n_jobs=12)]: Using backend ThreadingBackend with 12 concurrent workers.\n",
      "[Parallel(n_jobs=12)]: Done  26 tasks      | elapsed:    0.0s\n",
      "[Parallel(n_jobs=12)]: Done 100 out of 100 | elapsed:    0.0s finished\n",
      "[Parallel(n_jobs=-1)]: Using backend ThreadingBackend with 12 concurrent workers.\n",
      "[Parallel(n_jobs=-1)]: Done  26 tasks      | elapsed:    4.5s\n",
      "[Parallel(n_jobs=-1)]: Done 100 out of 100 | elapsed:   14.0s finished\n",
      "[Parallel(n_jobs=12)]: Using backend ThreadingBackend with 12 concurrent workers.\n",
      "[Parallel(n_jobs=12)]: Done  26 tasks      | elapsed:    0.0s\n",
      "[Parallel(n_jobs=12)]: Done 100 out of 100 | elapsed:    0.0s finished\n",
      "[Parallel(n_jobs=-1)]: Using backend ThreadingBackend with 12 concurrent workers.\n",
      "[Parallel(n_jobs=-1)]: Done  26 tasks      | elapsed:    3.8s\n",
      "[Parallel(n_jobs=-1)]: Done 100 out of 100 | elapsed:   11.9s finished\n",
      "[Parallel(n_jobs=12)]: Using backend ThreadingBackend with 12 concurrent workers.\n",
      "[Parallel(n_jobs=12)]: Done  26 tasks      | elapsed:    0.0s\n",
      "[Parallel(n_jobs=12)]: Done 100 out of 100 | elapsed:    0.0s finished\n",
      "[Parallel(n_jobs=-1)]: Using backend ThreadingBackend with 12 concurrent workers.\n",
      "[Parallel(n_jobs=-1)]: Done  26 tasks      | elapsed:    4.0s\n",
      "[Parallel(n_jobs=-1)]: Done 100 out of 100 | elapsed:   12.5s finished\n",
      "[Parallel(n_jobs=12)]: Using backend ThreadingBackend with 12 concurrent workers.\n",
      "[Parallel(n_jobs=12)]: Done  26 tasks      | elapsed:    0.0s\n",
      "[Parallel(n_jobs=12)]: Done 100 out of 100 | elapsed:    0.0s finished\n",
      "C:\\Users\\eunji\\.conda\\envs\\jupyter\\lib\\site-packages\\missingpy\\missforest.py:406: RuntimeWarning: invalid value encountered in long_scalars\n",
      "  gamma_newcat = np.sum(\n"
     ]
    },
    {
     "name": "stdout",
     "output_type": "stream",
     "text": [
      "Iteration: 0\n"
     ]
    },
    {
     "name": "stderr",
     "output_type": "stream",
     "text": [
      "[Parallel(n_jobs=-1)]: Using backend ThreadingBackend with 12 concurrent workers.\n",
      "[Parallel(n_jobs=-1)]: Done  26 tasks      | elapsed:    5.6s\n",
      "[Parallel(n_jobs=-1)]: Done 100 out of 100 | elapsed:   17.8s finished\n",
      "[Parallel(n_jobs=12)]: Using backend ThreadingBackend with 12 concurrent workers.\n",
      "[Parallel(n_jobs=12)]: Done  26 tasks      | elapsed:    0.0s\n",
      "[Parallel(n_jobs=12)]: Done 100 out of 100 | elapsed:    0.0s finished\n",
      "[Parallel(n_jobs=-1)]: Using backend ThreadingBackend with 12 concurrent workers.\n",
      "[Parallel(n_jobs=-1)]: Done  26 tasks      | elapsed:    6.2s\n",
      "[Parallel(n_jobs=-1)]: Done 100 out of 100 | elapsed:   18.6s finished\n",
      "[Parallel(n_jobs=12)]: Using backend ThreadingBackend with 12 concurrent workers.\n",
      "[Parallel(n_jobs=12)]: Done  26 tasks      | elapsed:    0.0s\n",
      "[Parallel(n_jobs=12)]: Done 100 out of 100 | elapsed:    0.0s finished\n",
      "[Parallel(n_jobs=-1)]: Using backend ThreadingBackend with 12 concurrent workers.\n",
      "[Parallel(n_jobs=-1)]: Done  26 tasks      | elapsed:    5.8s\n",
      "[Parallel(n_jobs=-1)]: Done 100 out of 100 | elapsed:   18.1s finished\n",
      "[Parallel(n_jobs=12)]: Using backend ThreadingBackend with 12 concurrent workers.\n",
      "[Parallel(n_jobs=12)]: Done  26 tasks      | elapsed:    0.0s\n",
      "[Parallel(n_jobs=12)]: Done 100 out of 100 | elapsed:    0.0s finished\n",
      "[Parallel(n_jobs=-1)]: Using backend ThreadingBackend with 12 concurrent workers.\n",
      "[Parallel(n_jobs=-1)]: Done  26 tasks      | elapsed:    5.9s\n",
      "[Parallel(n_jobs=-1)]: Done 100 out of 100 | elapsed:   18.1s finished\n",
      "[Parallel(n_jobs=12)]: Using backend ThreadingBackend with 12 concurrent workers.\n",
      "[Parallel(n_jobs=12)]: Done  26 tasks      | elapsed:    0.0s\n",
      "[Parallel(n_jobs=12)]: Done 100 out of 100 | elapsed:    0.0s finished\n",
      "[Parallel(n_jobs=-1)]: Using backend ThreadingBackend with 12 concurrent workers.\n",
      "[Parallel(n_jobs=-1)]: Done  26 tasks      | elapsed:    5.5s\n",
      "[Parallel(n_jobs=-1)]: Done 100 out of 100 | elapsed:   17.2s finished\n",
      "[Parallel(n_jobs=12)]: Using backend ThreadingBackend with 12 concurrent workers.\n",
      "[Parallel(n_jobs=12)]: Done  26 tasks      | elapsed:    0.0s\n",
      "[Parallel(n_jobs=12)]: Done 100 out of 100 | elapsed:    0.0s finished\n",
      "[Parallel(n_jobs=-1)]: Using backend ThreadingBackend with 12 concurrent workers.\n",
      "[Parallel(n_jobs=-1)]: Done  26 tasks      | elapsed:    6.1s\n",
      "[Parallel(n_jobs=-1)]: Done 100 out of 100 | elapsed:   18.7s finished\n",
      "[Parallel(n_jobs=12)]: Using backend ThreadingBackend with 12 concurrent workers.\n",
      "[Parallel(n_jobs=12)]: Done  26 tasks      | elapsed:    0.0s\n",
      "[Parallel(n_jobs=12)]: Done 100 out of 100 | elapsed:    0.0s finished\n",
      "[Parallel(n_jobs=-1)]: Using backend ThreadingBackend with 12 concurrent workers.\n",
      "[Parallel(n_jobs=-1)]: Done  26 tasks      | elapsed:    5.8s\n",
      "[Parallel(n_jobs=-1)]: Done 100 out of 100 | elapsed:   18.2s finished\n",
      "[Parallel(n_jobs=12)]: Using backend ThreadingBackend with 12 concurrent workers.\n",
      "[Parallel(n_jobs=12)]: Done  26 tasks      | elapsed:    0.0s\n",
      "[Parallel(n_jobs=12)]: Done 100 out of 100 | elapsed:    0.0s finished\n",
      "[Parallel(n_jobs=-1)]: Using backend ThreadingBackend with 12 concurrent workers.\n",
      "[Parallel(n_jobs=-1)]: Done  26 tasks      | elapsed:    5.6s\n",
      "[Parallel(n_jobs=-1)]: Done 100 out of 100 | elapsed:   17.5s finished\n",
      "[Parallel(n_jobs=12)]: Using backend ThreadingBackend with 12 concurrent workers.\n",
      "[Parallel(n_jobs=12)]: Done  26 tasks      | elapsed:    0.0s\n",
      "[Parallel(n_jobs=12)]: Done 100 out of 100 | elapsed:    0.0s finished\n",
      "[Parallel(n_jobs=-1)]: Using backend ThreadingBackend with 12 concurrent workers.\n",
      "[Parallel(n_jobs=-1)]: Done  26 tasks      | elapsed:    5.4s\n",
      "[Parallel(n_jobs=-1)]: Done 100 out of 100 | elapsed:   16.3s finished\n",
      "[Parallel(n_jobs=12)]: Using backend ThreadingBackend with 12 concurrent workers.\n",
      "[Parallel(n_jobs=12)]: Done  26 tasks      | elapsed:    0.0s\n",
      "[Parallel(n_jobs=12)]: Done 100 out of 100 | elapsed:    0.0s finished\n",
      "[Parallel(n_jobs=-1)]: Using backend ThreadingBackend with 12 concurrent workers.\n",
      "[Parallel(n_jobs=-1)]: Done  26 tasks      | elapsed:    5.3s\n",
      "[Parallel(n_jobs=-1)]: Done 100 out of 100 | elapsed:   16.5s finished\n",
      "[Parallel(n_jobs=12)]: Using backend ThreadingBackend with 12 concurrent workers.\n",
      "[Parallel(n_jobs=12)]: Done  26 tasks      | elapsed:    0.0s\n",
      "[Parallel(n_jobs=12)]: Done 100 out of 100 | elapsed:    0.0s finished\n",
      "[Parallel(n_jobs=-1)]: Using backend ThreadingBackend with 12 concurrent workers.\n",
      "[Parallel(n_jobs=-1)]: Done  26 tasks      | elapsed:    5.4s\n",
      "[Parallel(n_jobs=-1)]: Done 100 out of 100 | elapsed:   16.5s finished\n",
      "[Parallel(n_jobs=12)]: Using backend ThreadingBackend with 12 concurrent workers.\n",
      "[Parallel(n_jobs=12)]: Done  26 tasks      | elapsed:    0.0s\n",
      "[Parallel(n_jobs=12)]: Done 100 out of 100 | elapsed:    0.0s finished\n",
      "[Parallel(n_jobs=-1)]: Using backend ThreadingBackend with 12 concurrent workers.\n",
      "[Parallel(n_jobs=-1)]: Done  26 tasks      | elapsed:    4.5s\n",
      "[Parallel(n_jobs=-1)]: Done 100 out of 100 | elapsed:   14.1s finished\n",
      "[Parallel(n_jobs=12)]: Using backend ThreadingBackend with 12 concurrent workers.\n",
      "[Parallel(n_jobs=12)]: Done  26 tasks      | elapsed:    0.0s\n",
      "[Parallel(n_jobs=12)]: Done 100 out of 100 | elapsed:    0.0s finished\n",
      "[Parallel(n_jobs=-1)]: Using backend ThreadingBackend with 12 concurrent workers.\n",
      "[Parallel(n_jobs=-1)]: Done  26 tasks      | elapsed:    3.8s\n",
      "[Parallel(n_jobs=-1)]: Done 100 out of 100 | elapsed:   12.0s finished\n",
      "[Parallel(n_jobs=12)]: Using backend ThreadingBackend with 12 concurrent workers.\n",
      "[Parallel(n_jobs=12)]: Done  26 tasks      | elapsed:    0.0s\n",
      "[Parallel(n_jobs=12)]: Done 100 out of 100 | elapsed:    0.0s finished\n",
      "[Parallel(n_jobs=-1)]: Using backend ThreadingBackend with 12 concurrent workers.\n",
      "[Parallel(n_jobs=-1)]: Done  26 tasks      | elapsed:    3.9s\n",
      "[Parallel(n_jobs=-1)]: Done 100 out of 100 | elapsed:   12.0s finished\n",
      "[Parallel(n_jobs=12)]: Using backend ThreadingBackend with 12 concurrent workers.\n",
      "[Parallel(n_jobs=12)]: Done  26 tasks      | elapsed:    0.0s\n",
      "[Parallel(n_jobs=12)]: Done 100 out of 100 | elapsed:    0.0s finished\n",
      "C:\\Users\\eunji\\.conda\\envs\\jupyter\\lib\\site-packages\\missingpy\\missforest.py:406: RuntimeWarning: invalid value encountered in long_scalars\n",
      "  gamma_newcat = np.sum(\n"
     ]
    },
    {
     "name": "stdout",
     "output_type": "stream",
     "text": [
      "Iteration: 1\n"
     ]
    },
    {
     "name": "stderr",
     "output_type": "stream",
     "text": [
      "[Parallel(n_jobs=-1)]: Using backend ThreadingBackend with 12 concurrent workers.\n",
      "[Parallel(n_jobs=-1)]: Done  26 tasks      | elapsed:    5.6s\n",
      "[Parallel(n_jobs=-1)]: Done 100 out of 100 | elapsed:   17.2s finished\n",
      "[Parallel(n_jobs=12)]: Using backend ThreadingBackend with 12 concurrent workers.\n",
      "[Parallel(n_jobs=12)]: Done  26 tasks      | elapsed:    0.0s\n",
      "[Parallel(n_jobs=12)]: Done 100 out of 100 | elapsed:    0.0s finished\n",
      "[Parallel(n_jobs=-1)]: Using backend ThreadingBackend with 12 concurrent workers.\n",
      "[Parallel(n_jobs=-1)]: Done  26 tasks      | elapsed:    6.0s\n",
      "[Parallel(n_jobs=-1)]: Done 100 out of 100 | elapsed:   18.4s finished\n",
      "[Parallel(n_jobs=12)]: Using backend ThreadingBackend with 12 concurrent workers.\n",
      "[Parallel(n_jobs=12)]: Done  26 tasks      | elapsed:    0.0s\n",
      "[Parallel(n_jobs=12)]: Done 100 out of 100 | elapsed:    0.0s finished\n",
      "[Parallel(n_jobs=-1)]: Using backend ThreadingBackend with 12 concurrent workers.\n",
      "[Parallel(n_jobs=-1)]: Done  26 tasks      | elapsed:    6.0s\n",
      "[Parallel(n_jobs=-1)]: Done 100 out of 100 | elapsed:   18.1s finished\n",
      "[Parallel(n_jobs=12)]: Using backend ThreadingBackend with 12 concurrent workers.\n",
      "[Parallel(n_jobs=12)]: Done  26 tasks      | elapsed:    0.0s\n",
      "[Parallel(n_jobs=12)]: Done 100 out of 100 | elapsed:    0.0s finished\n",
      "[Parallel(n_jobs=-1)]: Using backend ThreadingBackend with 12 concurrent workers.\n",
      "[Parallel(n_jobs=-1)]: Done  26 tasks      | elapsed:    6.0s\n",
      "[Parallel(n_jobs=-1)]: Done 100 out of 100 | elapsed:   18.3s finished\n",
      "[Parallel(n_jobs=12)]: Using backend ThreadingBackend with 12 concurrent workers.\n",
      "[Parallel(n_jobs=12)]: Done  26 tasks      | elapsed:    0.0s\n",
      "[Parallel(n_jobs=12)]: Done 100 out of 100 | elapsed:    0.0s finished\n",
      "[Parallel(n_jobs=-1)]: Using backend ThreadingBackend with 12 concurrent workers.\n",
      "[Parallel(n_jobs=-1)]: Done  26 tasks      | elapsed:    5.6s\n",
      "[Parallel(n_jobs=-1)]: Done 100 out of 100 | elapsed:   16.8s finished\n",
      "[Parallel(n_jobs=12)]: Using backend ThreadingBackend with 12 concurrent workers.\n",
      "[Parallel(n_jobs=12)]: Done  26 tasks      | elapsed:    0.0s\n",
      "[Parallel(n_jobs=12)]: Done 100 out of 100 | elapsed:    0.0s finished\n",
      "[Parallel(n_jobs=-1)]: Using backend ThreadingBackend with 12 concurrent workers.\n",
      "[Parallel(n_jobs=-1)]: Done  26 tasks      | elapsed:    6.0s\n",
      "[Parallel(n_jobs=-1)]: Done 100 out of 100 | elapsed:   18.6s finished\n",
      "[Parallel(n_jobs=12)]: Using backend ThreadingBackend with 12 concurrent workers.\n",
      "[Parallel(n_jobs=12)]: Done  26 tasks      | elapsed:    0.0s\n",
      "[Parallel(n_jobs=12)]: Done 100 out of 100 | elapsed:    0.0s finished\n",
      "[Parallel(n_jobs=-1)]: Using backend ThreadingBackend with 12 concurrent workers.\n",
      "[Parallel(n_jobs=-1)]: Done  26 tasks      | elapsed:    5.9s\n",
      "[Parallel(n_jobs=-1)]: Done 100 out of 100 | elapsed:   17.8s finished\n",
      "[Parallel(n_jobs=12)]: Using backend ThreadingBackend with 12 concurrent workers.\n",
      "[Parallel(n_jobs=12)]: Done  26 tasks      | elapsed:    0.0s\n",
      "[Parallel(n_jobs=12)]: Done 100 out of 100 | elapsed:    0.0s finished\n",
      "[Parallel(n_jobs=-1)]: Using backend ThreadingBackend with 12 concurrent workers.\n",
      "[Parallel(n_jobs=-1)]: Done  26 tasks      | elapsed:    5.5s\n",
      "[Parallel(n_jobs=-1)]: Done 100 out of 100 | elapsed:   17.3s finished\n",
      "[Parallel(n_jobs=12)]: Using backend ThreadingBackend with 12 concurrent workers.\n",
      "[Parallel(n_jobs=12)]: Done  26 tasks      | elapsed:    0.0s\n",
      "[Parallel(n_jobs=12)]: Done 100 out of 100 | elapsed:    0.0s finished\n",
      "[Parallel(n_jobs=-1)]: Using backend ThreadingBackend with 12 concurrent workers.\n",
      "[Parallel(n_jobs=-1)]: Done  26 tasks      | elapsed:    5.5s\n",
      "[Parallel(n_jobs=-1)]: Done 100 out of 100 | elapsed:   17.0s finished\n",
      "[Parallel(n_jobs=12)]: Using backend ThreadingBackend with 12 concurrent workers.\n",
      "[Parallel(n_jobs=12)]: Done  26 tasks      | elapsed:    0.0s\n",
      "[Parallel(n_jobs=12)]: Done 100 out of 100 | elapsed:    0.0s finished\n",
      "[Parallel(n_jobs=-1)]: Using backend ThreadingBackend with 12 concurrent workers.\n",
      "[Parallel(n_jobs=-1)]: Done  26 tasks      | elapsed:    5.5s\n",
      "[Parallel(n_jobs=-1)]: Done 100 out of 100 | elapsed:   16.5s finished\n",
      "[Parallel(n_jobs=12)]: Using backend ThreadingBackend with 12 concurrent workers.\n",
      "[Parallel(n_jobs=12)]: Done  26 tasks      | elapsed:    0.0s\n",
      "[Parallel(n_jobs=12)]: Done 100 out of 100 | elapsed:    0.0s finished\n",
      "[Parallel(n_jobs=-1)]: Using backend ThreadingBackend with 12 concurrent workers.\n",
      "[Parallel(n_jobs=-1)]: Done  26 tasks      | elapsed:    5.5s\n",
      "[Parallel(n_jobs=-1)]: Done 100 out of 100 | elapsed:   16.6s finished\n",
      "[Parallel(n_jobs=12)]: Using backend ThreadingBackend with 12 concurrent workers.\n",
      "[Parallel(n_jobs=12)]: Done  26 tasks      | elapsed:    0.0s\n",
      "[Parallel(n_jobs=12)]: Done 100 out of 100 | elapsed:    0.0s finished\n",
      "[Parallel(n_jobs=-1)]: Using backend ThreadingBackend with 12 concurrent workers.\n",
      "[Parallel(n_jobs=-1)]: Done  26 tasks      | elapsed:    4.7s\n",
      "[Parallel(n_jobs=-1)]: Done 100 out of 100 | elapsed:   14.2s finished\n",
      "[Parallel(n_jobs=12)]: Using backend ThreadingBackend with 12 concurrent workers.\n",
      "[Parallel(n_jobs=12)]: Done  26 tasks      | elapsed:    0.0s\n",
      "[Parallel(n_jobs=12)]: Done 100 out of 100 | elapsed:    0.0s finished\n",
      "[Parallel(n_jobs=-1)]: Using backend ThreadingBackend with 12 concurrent workers.\n",
      "[Parallel(n_jobs=-1)]: Done  26 tasks      | elapsed:    3.8s\n",
      "[Parallel(n_jobs=-1)]: Done 100 out of 100 | elapsed:   11.7s finished\n",
      "[Parallel(n_jobs=12)]: Using backend ThreadingBackend with 12 concurrent workers.\n",
      "[Parallel(n_jobs=12)]: Done  26 tasks      | elapsed:    0.0s\n",
      "[Parallel(n_jobs=12)]: Done 100 out of 100 | elapsed:    0.0s finished\n",
      "[Parallel(n_jobs=-1)]: Using backend ThreadingBackend with 12 concurrent workers.\n",
      "[Parallel(n_jobs=-1)]: Done  26 tasks      | elapsed:    3.7s\n"
     ]
    },
    {
     "name": "stdout",
     "output_type": "stream",
     "text": [
      "Iteration: 2\n"
     ]
    },
    {
     "name": "stderr",
     "output_type": "stream",
     "text": [
      "[Parallel(n_jobs=-1)]: Done 100 out of 100 | elapsed:   11.3s finished\n",
      "[Parallel(n_jobs=12)]: Using backend ThreadingBackend with 12 concurrent workers.\n",
      "[Parallel(n_jobs=12)]: Done  26 tasks      | elapsed:    0.0s\n",
      "[Parallel(n_jobs=12)]: Done 100 out of 100 | elapsed:    0.0s finished\n",
      "C:\\Users\\eunji\\.conda\\envs\\jupyter\\lib\\site-packages\\missingpy\\missforest.py:406: RuntimeWarning: invalid value encountered in long_scalars\n",
      "  gamma_newcat = np.sum(\n"
     ]
    }
   ],
   "source": [
    "missforest = MissForest(max_iter = 10, verbose = True, n_jobs  = -1 , max_depth=5)\n",
    "Data_missforest = missforest.fit_transform(Data, cat_vars= category_variable)"
   ]
  },
  {
   "cell_type": "code",
   "execution_count": 51,
   "id": "d3452c50-bcfa-43d6-b6a9-4c1c325f52ff",
   "metadata": {},
   "outputs": [
    {
     "data": {
      "text/html": [
       "<div>\n",
       "<style scoped>\n",
       "    .dataframe tbody tr th:only-of-type {\n",
       "        vertical-align: middle;\n",
       "    }\n",
       "\n",
       "    .dataframe tbody tr th {\n",
       "        vertical-align: top;\n",
       "    }\n",
       "\n",
       "    .dataframe thead th {\n",
       "        text-align: right;\n",
       "    }\n",
       "</style>\n",
       "<table border=\"1\" class=\"dataframe\">\n",
       "  <thead>\n",
       "    <tr style=\"text-align: right;\">\n",
       "      <th></th>\n",
       "      <th>매출채권회전율변동</th>\n",
       "      <th>재고자산회전율변동</th>\n",
       "      <th>대손충당금율변동</th>\n",
       "      <th>유동비율변동</th>\n",
       "      <th>부채비율</th>\n",
       "      <th>영업활동현금흐름이자보상비율</th>\n",
       "      <th>자기자본순이익률</th>\n",
       "      <th>자기자본순이익률변동</th>\n",
       "      <th>매출액증가율</th>\n",
       "      <th>자산퀄리티</th>\n",
       "      <th>총발생액비율변동</th>\n",
       "      <th>매영차</th>\n",
       "      <th>총종차</th>\n",
       "      <th>오류수정및회계정책변경여부</th>\n",
       "      <th>자산총계</th>\n",
       "      <th>상장구분</th>\n",
       "      <th>BIG4여부</th>\n",
       "      <th>당기감사법인변동여부</th>\n",
       "      <th>비적정여부</th>\n",
       "    </tr>\n",
       "  </thead>\n",
       "  <tbody>\n",
       "    <tr>\n",
       "      <th>0</th>\n",
       "      <td>-0.216645</td>\n",
       "      <td>-0.009839</td>\n",
       "      <td>0.000000</td>\n",
       "      <td>0.528223</td>\n",
       "      <td>361.810000</td>\n",
       "      <td>-0.720000</td>\n",
       "      <td>4.890000</td>\n",
       "      <td>0.349785</td>\n",
       "      <td>-12.73</td>\n",
       "      <td>0.113478</td>\n",
       "      <td>-0.018599</td>\n",
       "      <td>1.407754</td>\n",
       "      <td>11.12</td>\n",
       "      <td>0.0</td>\n",
       "      <td>24.217976</td>\n",
       "      <td>0.0</td>\n",
       "      <td>0.0</td>\n",
       "      <td>1.0</td>\n",
       "      <td>1.0</td>\n",
       "    </tr>\n",
       "    <tr>\n",
       "      <th>1</th>\n",
       "      <td>-0.706949</td>\n",
       "      <td>2.679380</td>\n",
       "      <td>2.919312</td>\n",
       "      <td>0.718051</td>\n",
       "      <td>391.980000</td>\n",
       "      <td>84.830000</td>\n",
       "      <td>59.220000</td>\n",
       "      <td>3.529201</td>\n",
       "      <td>65.16</td>\n",
       "      <td>0.134895</td>\n",
       "      <td>-0.021669</td>\n",
       "      <td>2.676345</td>\n",
       "      <td>191.56</td>\n",
       "      <td>0.0</td>\n",
       "      <td>23.759990</td>\n",
       "      <td>0.0</td>\n",
       "      <td>0.0</td>\n",
       "      <td>1.0</td>\n",
       "      <td>1.0</td>\n",
       "    </tr>\n",
       "    <tr>\n",
       "      <th>2</th>\n",
       "      <td>-0.469072</td>\n",
       "      <td>1.632373</td>\n",
       "      <td>2.919312</td>\n",
       "      <td>1.170710</td>\n",
       "      <td>197.850000</td>\n",
       "      <td>-7.550000</td>\n",
       "      <td>59.870000</td>\n",
       "      <td>1.010976</td>\n",
       "      <td>-0.38</td>\n",
       "      <td>0.121283</td>\n",
       "      <td>0.307075</td>\n",
       "      <td>5.297512</td>\n",
       "      <td>7.55</td>\n",
       "      <td>0.0</td>\n",
       "      <td>23.878219</td>\n",
       "      <td>0.0</td>\n",
       "      <td>0.0</td>\n",
       "      <td>0.0</td>\n",
       "      <td>0.0</td>\n",
       "    </tr>\n",
       "    <tr>\n",
       "      <th>3</th>\n",
       "      <td>-0.011327</td>\n",
       "      <td>0.079725</td>\n",
       "      <td>4.074699</td>\n",
       "      <td>1.037560</td>\n",
       "      <td>136.430000</td>\n",
       "      <td>65.620000</td>\n",
       "      <td>33.610000</td>\n",
       "      <td>0.561383</td>\n",
       "      <td>-15.22</td>\n",
       "      <td>0.146449</td>\n",
       "      <td>-0.419842</td>\n",
       "      <td>4.273336</td>\n",
       "      <td>145.59</td>\n",
       "      <td>0.0</td>\n",
       "      <td>23.691609</td>\n",
       "      <td>0.0</td>\n",
       "      <td>0.0</td>\n",
       "      <td>1.0</td>\n",
       "      <td>0.0</td>\n",
       "    </tr>\n",
       "    <tr>\n",
       "      <th>4</th>\n",
       "      <td>0.243678</td>\n",
       "      <td>-0.057018</td>\n",
       "      <td>0.773256</td>\n",
       "      <td>1.296969</td>\n",
       "      <td>322.269456</td>\n",
       "      <td>2816.662347</td>\n",
       "      <td>32.720727</td>\n",
       "      <td>0.973257</td>\n",
       "      <td>58.39</td>\n",
       "      <td>0.000000</td>\n",
       "      <td>0.131645</td>\n",
       "      <td>8.801749</td>\n",
       "      <td>28.85</td>\n",
       "      <td>0.0</td>\n",
       "      <td>24.211416</td>\n",
       "      <td>0.0</td>\n",
       "      <td>0.0</td>\n",
       "      <td>1.0</td>\n",
       "      <td>1.0</td>\n",
       "    </tr>\n",
       "    <tr>\n",
       "      <th>...</th>\n",
       "      <td>...</td>\n",
       "      <td>...</td>\n",
       "      <td>...</td>\n",
       "      <td>...</td>\n",
       "      <td>...</td>\n",
       "      <td>...</td>\n",
       "      <td>...</td>\n",
       "      <td>...</td>\n",
       "      <td>...</td>\n",
       "      <td>...</td>\n",
       "      <td>...</td>\n",
       "      <td>...</td>\n",
       "      <td>...</td>\n",
       "      <td>...</td>\n",
       "      <td>...</td>\n",
       "      <td>...</td>\n",
       "      <td>...</td>\n",
       "      <td>...</td>\n",
       "      <td>...</td>\n",
       "    </tr>\n",
       "    <tr>\n",
       "      <th>183725</th>\n",
       "      <td>-0.005277</td>\n",
       "      <td>-0.003170</td>\n",
       "      <td>0.969011</td>\n",
       "      <td>1.207585</td>\n",
       "      <td>46.200000</td>\n",
       "      <td>1636.503082</td>\n",
       "      <td>6.040000</td>\n",
       "      <td>0.431121</td>\n",
       "      <td>13.39</td>\n",
       "      <td>0.142450</td>\n",
       "      <td>0.057050</td>\n",
       "      <td>2.789865</td>\n",
       "      <td>9.26</td>\n",
       "      <td>0.0</td>\n",
       "      <td>24.257440</td>\n",
       "      <td>0.0</td>\n",
       "      <td>1.0</td>\n",
       "      <td>0.0</td>\n",
       "      <td>0.0</td>\n",
       "    </tr>\n",
       "    <tr>\n",
       "      <th>183726</th>\n",
       "      <td>0.025199</td>\n",
       "      <td>-0.007949</td>\n",
       "      <td>0.812777</td>\n",
       "      <td>0.942346</td>\n",
       "      <td>54.510000</td>\n",
       "      <td>1520.101969</td>\n",
       "      <td>8.150000</td>\n",
       "      <td>1.349338</td>\n",
       "      <td>15.41</td>\n",
       "      <td>0.056755</td>\n",
       "      <td>0.024143</td>\n",
       "      <td>2.610911</td>\n",
       "      <td>0.74</td>\n",
       "      <td>0.0</td>\n",
       "      <td>24.394284</td>\n",
       "      <td>0.0</td>\n",
       "      <td>1.0</td>\n",
       "      <td>0.0</td>\n",
       "      <td>0.0</td>\n",
       "    </tr>\n",
       "    <tr>\n",
       "      <th>183727</th>\n",
       "      <td>-0.027167</td>\n",
       "      <td>-0.088141</td>\n",
       "      <td>0.865167</td>\n",
       "      <td>1.077972</td>\n",
       "      <td>45.130000</td>\n",
       "      <td>1636.503082</td>\n",
       "      <td>11.290000</td>\n",
       "      <td>1.385276</td>\n",
       "      <td>3.18</td>\n",
       "      <td>0.078465</td>\n",
       "      <td>-0.088074</td>\n",
       "      <td>3.820559</td>\n",
       "      <td>6.72</td>\n",
       "      <td>0.0</td>\n",
       "      <td>24.426058</td>\n",
       "      <td>0.0</td>\n",
       "      <td>1.0</td>\n",
       "      <td>0.0</td>\n",
       "      <td>0.0</td>\n",
       "    </tr>\n",
       "    <tr>\n",
       "      <th>183728</th>\n",
       "      <td>0.013298</td>\n",
       "      <td>0.079086</td>\n",
       "      <td>1.046623</td>\n",
       "      <td>0.998150</td>\n",
       "      <td>54.340000</td>\n",
       "      <td>45.400000</td>\n",
       "      <td>9.410000</td>\n",
       "      <td>0.833481</td>\n",
       "      <td>-4.72</td>\n",
       "      <td>0.054562</td>\n",
       "      <td>-0.104548</td>\n",
       "      <td>3.746663</td>\n",
       "      <td>14.52</td>\n",
       "      <td>0.0</td>\n",
       "      <td>24.568740</td>\n",
       "      <td>0.0</td>\n",
       "      <td>1.0</td>\n",
       "      <td>0.0</td>\n",
       "      <td>0.0</td>\n",
       "    </tr>\n",
       "    <tr>\n",
       "      <th>183729</th>\n",
       "      <td>-0.001312</td>\n",
       "      <td>-0.024430</td>\n",
       "      <td>0.985369</td>\n",
       "      <td>0.764198</td>\n",
       "      <td>78.890000</td>\n",
       "      <td>32.930000</td>\n",
       "      <td>9.540000</td>\n",
       "      <td>1.013815</td>\n",
       "      <td>-0.57</td>\n",
       "      <td>0.084643</td>\n",
       "      <td>0.022095</td>\n",
       "      <td>3.978038</td>\n",
       "      <td>17.49</td>\n",
       "      <td>0.0</td>\n",
       "      <td>24.757369</td>\n",
       "      <td>0.0</td>\n",
       "      <td>1.0</td>\n",
       "      <td>0.0</td>\n",
       "      <td>0.0</td>\n",
       "    </tr>\n",
       "  </tbody>\n",
       "</table>\n",
       "<p>183730 rows × 19 columns</p>\n",
       "</div>"
      ],
      "text/plain": [
       "        매출채권회전율변동  재고자산회전율변동  대손충당금율변동    유동비율변동        부채비율  영업활동현금흐름이자보상비율  \\\n",
       "0       -0.216645  -0.009839  0.000000  0.528223  361.810000       -0.720000   \n",
       "1       -0.706949   2.679380  2.919312  0.718051  391.980000       84.830000   \n",
       "2       -0.469072   1.632373  2.919312  1.170710  197.850000       -7.550000   \n",
       "3       -0.011327   0.079725  4.074699  1.037560  136.430000       65.620000   \n",
       "4        0.243678  -0.057018  0.773256  1.296969  322.269456     2816.662347   \n",
       "...           ...        ...       ...       ...         ...             ...   \n",
       "183725  -0.005277  -0.003170  0.969011  1.207585   46.200000     1636.503082   \n",
       "183726   0.025199  -0.007949  0.812777  0.942346   54.510000     1520.101969   \n",
       "183727  -0.027167  -0.088141  0.865167  1.077972   45.130000     1636.503082   \n",
       "183728   0.013298   0.079086  1.046623  0.998150   54.340000       45.400000   \n",
       "183729  -0.001312  -0.024430  0.985369  0.764198   78.890000       32.930000   \n",
       "\n",
       "         자기자본순이익률  자기자본순이익률변동  매출액증가율     자산퀄리티  총발생액비율변동       매영차     총종차  \\\n",
       "0        4.890000    0.349785  -12.73  0.113478 -0.018599  1.407754   11.12   \n",
       "1       59.220000    3.529201   65.16  0.134895 -0.021669  2.676345  191.56   \n",
       "2       59.870000    1.010976   -0.38  0.121283  0.307075  5.297512    7.55   \n",
       "3       33.610000    0.561383  -15.22  0.146449 -0.419842  4.273336  145.59   \n",
       "4       32.720727    0.973257   58.39  0.000000  0.131645  8.801749   28.85   \n",
       "...           ...         ...     ...       ...       ...       ...     ...   \n",
       "183725   6.040000    0.431121   13.39  0.142450  0.057050  2.789865    9.26   \n",
       "183726   8.150000    1.349338   15.41  0.056755  0.024143  2.610911    0.74   \n",
       "183727  11.290000    1.385276    3.18  0.078465 -0.088074  3.820559    6.72   \n",
       "183728   9.410000    0.833481   -4.72  0.054562 -0.104548  3.746663   14.52   \n",
       "183729   9.540000    1.013815   -0.57  0.084643  0.022095  3.978038   17.49   \n",
       "\n",
       "        오류수정및회계정책변경여부       자산총계  상장구분  BIG4여부  당기감사법인변동여부  비적정여부  \n",
       "0                 0.0  24.217976   0.0     0.0         1.0    1.0  \n",
       "1                 0.0  23.759990   0.0     0.0         1.0    1.0  \n",
       "2                 0.0  23.878219   0.0     0.0         0.0    0.0  \n",
       "3                 0.0  23.691609   0.0     0.0         1.0    0.0  \n",
       "4                 0.0  24.211416   0.0     0.0         1.0    1.0  \n",
       "...               ...        ...   ...     ...         ...    ...  \n",
       "183725            0.0  24.257440   0.0     1.0         0.0    0.0  \n",
       "183726            0.0  24.394284   0.0     1.0         0.0    0.0  \n",
       "183727            0.0  24.426058   0.0     1.0         0.0    0.0  \n",
       "183728            0.0  24.568740   0.0     1.0         0.0    0.0  \n",
       "183729            0.0  24.757369   0.0     1.0         0.0    0.0  \n",
       "\n",
       "[183730 rows x 19 columns]"
      ]
     },
     "execution_count": 51,
     "metadata": {},
     "output_type": "execute_result"
    }
   ],
   "source": [
    "Data_missforest = pd.DataFrame(Data_missforest, columns = Columns)\n",
    "Data_missforest"
   ]
  },
  {
   "cell_type": "code",
   "execution_count": 52,
   "id": "185df063-d0d4-4508-85f4-1a4b405d0f1f",
   "metadata": {},
   "outputs": [],
   "source": [
    "Data_missforest.to_excel('Preprocessed Data(Imputated by Missforest).xlsx')"
   ]
  },
  {
   "cell_type": "code",
   "execution_count": null,
   "id": "0259697a-808a-4776-9699-907322288d8f",
   "metadata": {},
   "outputs": [],
   "source": []
  }
 ],
 "metadata": {
  "kernelspec": {
   "display_name": "Python 3 (ipykernel)",
   "language": "python",
   "name": "python3"
  },
  "language_info": {
   "codemirror_mode": {
    "name": "ipython",
    "version": 3
   },
   "file_extension": ".py",
   "mimetype": "text/x-python",
   "name": "python",
   "nbconvert_exporter": "python",
   "pygments_lexer": "ipython3",
   "version": "3.9.6"
  }
 },
 "nbformat": 4,
 "nbformat_minor": 5
}