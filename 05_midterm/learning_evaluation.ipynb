{
 "cells": [
  {
   "cell_type": "code",
   "execution_count": null,
   "outputs": [],
   "source": [
    "!pip install pandas\n",
    "!pip install numpy\n",
    "!pip install matplotlib\n",
    "!pip install seaborn\n",
    "!pip install sklearn\n",
    "!pip install xgboost\n",
    "!pip install imblearn\n",
    "!pip install openpyxl"
   ],
   "metadata": {
    "collapsed": false,
    "pycharm": {
     "name": "#%%\n"
    }
   }
  },
  {
   "cell_type": "code",
   "execution_count": 1,
   "outputs": [],
   "source": [
    "import pandas as pd\n",
    "import numpy as np\n",
    "import matplotlib.pyplot as plt\n",
    "import seaborn as sns\n",
    "\n",
    "from sklearn.ensemble import RandomForestClassifier\n",
    "from xgboost import XGBClassifier\n",
    "\n",
    "from sklearn.model_selection import train_test_split"
   ],
   "metadata": {
    "collapsed": false,
    "pycharm": {
     "name": "#%%\n"
    }
   }
  },
  {
   "cell_type": "markdown",
   "source": [
    "## 결측치 처리 후 만든 데이터 불러오기"
   ],
   "metadata": {
    "collapsed": false
   }
  },
  {
   "cell_type": "code",
   "execution_count": 2,
   "outputs": [],
   "source": [
    "data = pd.read_excel('data/processed_data.xlsx')"
   ],
   "metadata": {
    "collapsed": false,
    "pycharm": {
     "name": "#%%\n"
    }
   }
  },
  {
   "cell_type": "code",
   "execution_count": 3,
   "outputs": [
    {
     "data": {
      "text/plain": "        Unnamed: 0  매출채권회전율변동  재고자산회전율변동  대손충당금율변동    유동비율    유동비율변동  \\\n0                0  -0.216645  -0.009839  0.000000  128.39  0.528223   \n1                1  -0.706949   2.679380  3.455094  110.07  0.718051   \n2                2  -0.469072   1.632373  3.455094  128.86  1.170710   \n3                3  -0.011327   0.079725  3.455094  133.70  1.037560   \n4                4   0.243678  -0.057018  0.773256   86.43  1.296969   \n...            ...        ...        ...       ...     ...       ...   \n183725      183725  -0.005277  -0.003170  0.969011  292.61  1.207585   \n183726      183726   0.025199  -0.007949  0.812777  275.74  0.942346   \n183727      183727  -0.027167  -0.088141  0.865167  297.24  1.077972   \n183728      183728   0.013298   0.079086  1.046623  296.69  0.998150   \n183729      183729  -0.001312  -0.024430  0.985369  226.73  0.764198   \n\n              부채비율    부채비율변동  영업활동현금흐름이자보상비율  금융비용_매출액비율  ...     총종차     매종차  \\\n0        361.81000  2.028765       -0.720000     1.08000  ...   11.12   22.93   \n1        391.98000  2.635691       84.830000     0.06000  ...  191.56   16.66   \n2        197.85000  0.504745       -7.550000     0.10000  ...    7.55    5.38   \n3        136.43000  0.689563       65.620000     0.13000  ...  145.59  143.79   \n4       5794.77366  1.933965    14990.272230    17.26348  ...   28.85   29.82   \n...            ...       ...             ...         ...  ...     ...     ...   \n183725    46.20000  0.775688    33913.090387    17.26348  ...    9.26    6.80   \n183726    54.51000  1.179870    37339.697905    17.26348  ...    0.74    1.49   \n183727    45.13000  0.827921   116338.565091    17.26348  ...    6.72    6.77   \n183728    54.34000  1.204077       45.400000     0.18000  ...   14.52    5.54   \n183729    78.89000  1.451785       32.930000     0.22000  ...   17.49    3.84   \n\n        오류수정및회계정책변경여부       자산총계  비상장  상장  상장관리  BIG4여부  당기감사법인변동여부  비적정여부  \n0                   0  24.217976    1   0     0       0           1      1  \n1                   0  23.759990    1   0     0       0           1      1  \n2                   0  23.878219    1   0     0       0           0      0  \n3                   0  23.691609    1   0     0       0           1      0  \n4                   0  24.211416    1   0     0       0           1      1  \n...               ...        ...  ...  ..   ...     ...         ...    ...  \n183725              0  24.257440    1   0     0       1           0      0  \n183726              0  24.394284    1   0     0       1           0      0  \n183727              0  24.426058    1   0     0       1           0      0  \n183728              0  24.568740    1   0     0       1           0      0  \n183729              0  24.757369    1   0     0       1           0      0  \n\n[183730 rows x 35 columns]",
      "text/html": "<div>\n<style scoped>\n    .dataframe tbody tr th:only-of-type {\n        vertical-align: middle;\n    }\n\n    .dataframe tbody tr th {\n        vertical-align: top;\n    }\n\n    .dataframe thead th {\n        text-align: right;\n    }\n</style>\n<table border=\"1\" class=\"dataframe\">\n  <thead>\n    <tr style=\"text-align: right;\">\n      <th></th>\n      <th>Unnamed: 0</th>\n      <th>매출채권회전율변동</th>\n      <th>재고자산회전율변동</th>\n      <th>대손충당금율변동</th>\n      <th>유동비율</th>\n      <th>유동비율변동</th>\n      <th>부채비율</th>\n      <th>부채비율변동</th>\n      <th>영업활동현금흐름이자보상비율</th>\n      <th>금융비용_매출액비율</th>\n      <th>...</th>\n      <th>총종차</th>\n      <th>매종차</th>\n      <th>오류수정및회계정책변경여부</th>\n      <th>자산총계</th>\n      <th>비상장</th>\n      <th>상장</th>\n      <th>상장관리</th>\n      <th>BIG4여부</th>\n      <th>당기감사법인변동여부</th>\n      <th>비적정여부</th>\n    </tr>\n  </thead>\n  <tbody>\n    <tr>\n      <th>0</th>\n      <td>0</td>\n      <td>-0.216645</td>\n      <td>-0.009839</td>\n      <td>0.000000</td>\n      <td>128.39</td>\n      <td>0.528223</td>\n      <td>361.81000</td>\n      <td>2.028765</td>\n      <td>-0.720000</td>\n      <td>1.08000</td>\n      <td>...</td>\n      <td>11.12</td>\n      <td>22.93</td>\n      <td>0</td>\n      <td>24.217976</td>\n      <td>1</td>\n      <td>0</td>\n      <td>0</td>\n      <td>0</td>\n      <td>1</td>\n      <td>1</td>\n    </tr>\n    <tr>\n      <th>1</th>\n      <td>1</td>\n      <td>-0.706949</td>\n      <td>2.679380</td>\n      <td>3.455094</td>\n      <td>110.07</td>\n      <td>0.718051</td>\n      <td>391.98000</td>\n      <td>2.635691</td>\n      <td>84.830000</td>\n      <td>0.06000</td>\n      <td>...</td>\n      <td>191.56</td>\n      <td>16.66</td>\n      <td>0</td>\n      <td>23.759990</td>\n      <td>1</td>\n      <td>0</td>\n      <td>0</td>\n      <td>0</td>\n      <td>1</td>\n      <td>1</td>\n    </tr>\n    <tr>\n      <th>2</th>\n      <td>2</td>\n      <td>-0.469072</td>\n      <td>1.632373</td>\n      <td>3.455094</td>\n      <td>128.86</td>\n      <td>1.170710</td>\n      <td>197.85000</td>\n      <td>0.504745</td>\n      <td>-7.550000</td>\n      <td>0.10000</td>\n      <td>...</td>\n      <td>7.55</td>\n      <td>5.38</td>\n      <td>0</td>\n      <td>23.878219</td>\n      <td>1</td>\n      <td>0</td>\n      <td>0</td>\n      <td>0</td>\n      <td>0</td>\n      <td>0</td>\n    </tr>\n    <tr>\n      <th>3</th>\n      <td>3</td>\n      <td>-0.011327</td>\n      <td>0.079725</td>\n      <td>3.455094</td>\n      <td>133.70</td>\n      <td>1.037560</td>\n      <td>136.43000</td>\n      <td>0.689563</td>\n      <td>65.620000</td>\n      <td>0.13000</td>\n      <td>...</td>\n      <td>145.59</td>\n      <td>143.79</td>\n      <td>0</td>\n      <td>23.691609</td>\n      <td>1</td>\n      <td>0</td>\n      <td>0</td>\n      <td>0</td>\n      <td>1</td>\n      <td>0</td>\n    </tr>\n    <tr>\n      <th>4</th>\n      <td>4</td>\n      <td>0.243678</td>\n      <td>-0.057018</td>\n      <td>0.773256</td>\n      <td>86.43</td>\n      <td>1.296969</td>\n      <td>5794.77366</td>\n      <td>1.933965</td>\n      <td>14990.272230</td>\n      <td>17.26348</td>\n      <td>...</td>\n      <td>28.85</td>\n      <td>29.82</td>\n      <td>0</td>\n      <td>24.211416</td>\n      <td>1</td>\n      <td>0</td>\n      <td>0</td>\n      <td>0</td>\n      <td>1</td>\n      <td>1</td>\n    </tr>\n    <tr>\n      <th>...</th>\n      <td>...</td>\n      <td>...</td>\n      <td>...</td>\n      <td>...</td>\n      <td>...</td>\n      <td>...</td>\n      <td>...</td>\n      <td>...</td>\n      <td>...</td>\n      <td>...</td>\n      <td>...</td>\n      <td>...</td>\n      <td>...</td>\n      <td>...</td>\n      <td>...</td>\n      <td>...</td>\n      <td>...</td>\n      <td>...</td>\n      <td>...</td>\n      <td>...</td>\n      <td>...</td>\n    </tr>\n    <tr>\n      <th>183725</th>\n      <td>183725</td>\n      <td>-0.005277</td>\n      <td>-0.003170</td>\n      <td>0.969011</td>\n      <td>292.61</td>\n      <td>1.207585</td>\n      <td>46.20000</td>\n      <td>0.775688</td>\n      <td>33913.090387</td>\n      <td>17.26348</td>\n      <td>...</td>\n      <td>9.26</td>\n      <td>6.80</td>\n      <td>0</td>\n      <td>24.257440</td>\n      <td>1</td>\n      <td>0</td>\n      <td>0</td>\n      <td>1</td>\n      <td>0</td>\n      <td>0</td>\n    </tr>\n    <tr>\n      <th>183726</th>\n      <td>183726</td>\n      <td>0.025199</td>\n      <td>-0.007949</td>\n      <td>0.812777</td>\n      <td>275.74</td>\n      <td>0.942346</td>\n      <td>54.51000</td>\n      <td>1.179870</td>\n      <td>37339.697905</td>\n      <td>17.26348</td>\n      <td>...</td>\n      <td>0.74</td>\n      <td>1.49</td>\n      <td>0</td>\n      <td>24.394284</td>\n      <td>1</td>\n      <td>0</td>\n      <td>0</td>\n      <td>1</td>\n      <td>0</td>\n      <td>0</td>\n    </tr>\n    <tr>\n      <th>183727</th>\n      <td>183727</td>\n      <td>-0.027167</td>\n      <td>-0.088141</td>\n      <td>0.865167</td>\n      <td>297.24</td>\n      <td>1.077972</td>\n      <td>45.13000</td>\n      <td>0.827921</td>\n      <td>116338.565091</td>\n      <td>17.26348</td>\n      <td>...</td>\n      <td>6.72</td>\n      <td>6.77</td>\n      <td>0</td>\n      <td>24.426058</td>\n      <td>1</td>\n      <td>0</td>\n      <td>0</td>\n      <td>1</td>\n      <td>0</td>\n      <td>0</td>\n    </tr>\n    <tr>\n      <th>183728</th>\n      <td>183728</td>\n      <td>0.013298</td>\n      <td>0.079086</td>\n      <td>1.046623</td>\n      <td>296.69</td>\n      <td>0.998150</td>\n      <td>54.34000</td>\n      <td>1.204077</td>\n      <td>45.400000</td>\n      <td>0.18000</td>\n      <td>...</td>\n      <td>14.52</td>\n      <td>5.54</td>\n      <td>0</td>\n      <td>24.568740</td>\n      <td>1</td>\n      <td>0</td>\n      <td>0</td>\n      <td>1</td>\n      <td>0</td>\n      <td>0</td>\n    </tr>\n    <tr>\n      <th>183729</th>\n      <td>183729</td>\n      <td>-0.001312</td>\n      <td>-0.024430</td>\n      <td>0.985369</td>\n      <td>226.73</td>\n      <td>0.764198</td>\n      <td>78.89000</td>\n      <td>1.451785</td>\n      <td>32.930000</td>\n      <td>0.22000</td>\n      <td>...</td>\n      <td>17.49</td>\n      <td>3.84</td>\n      <td>0</td>\n      <td>24.757369</td>\n      <td>1</td>\n      <td>0</td>\n      <td>0</td>\n      <td>1</td>\n      <td>0</td>\n      <td>0</td>\n    </tr>\n  </tbody>\n</table>\n<p>183730 rows × 35 columns</p>\n</div>"
     },
     "execution_count": 3,
     "metadata": {},
     "output_type": "execute_result"
    }
   ],
   "source": [
    "data"
   ],
   "metadata": {
    "collapsed": false,
    "pycharm": {
     "name": "#%%\n"
    }
   }
  },
  {
   "cell_type": "code",
   "execution_count": 4,
   "outputs": [],
   "source": [
    "data.drop('Unnamed: 0', axis = 1, inplace = True)"
   ],
   "metadata": {
    "collapsed": false,
    "pycharm": {
     "name": "#%%\n"
    }
   }
  },
  {
   "cell_type": "code",
   "execution_count": 5,
   "outputs": [],
   "source": [
    "data.columns = ['ARTOpc', 'APTOpc', 'ABDpc', 'CR', 'CRpc', 'DR',\n",
    "       'DRpc', 'OCFICR', 'INTSR', 'Cre', 'ROE',\n",
    "       'ROEpc', 'ROA', 'ROApc', 'Defi', 'SG', 'AQ', 'AQpc',\n",
    "       'Deppc', 'SGA', 'SGApc', 'TATA', 'TATApc', 'EBITOCFd', 'TAEd', 'SEd',\n",
    "       'EC', 'TA', 'KRXC_private', 'KRXC_public', 'KRXC_black', 'Big4', 'AC',\n",
    "       'AO']"
   ],
   "metadata": {
    "collapsed": false,
    "pycharm": {
     "name": "#%%\n"
    }
   }
  },
  {
   "cell_type": "code",
   "execution_count": 6,
   "outputs": [
    {
     "data": {
      "text/plain": "     ARTOpc    APTOpc     ABDpc      CR      CRpc          DR      DRpc  \\\n0 -0.216645 -0.009839  0.000000  128.39  0.528223   361.81000  2.028765   \n1 -0.706949  2.679380  3.455094  110.07  0.718051   391.98000  2.635691   \n2 -0.469072  1.632373  3.455094  128.86  1.170710   197.85000  0.504745   \n3 -0.011327  0.079725  3.455094  133.70  1.037560   136.43000  0.689563   \n4  0.243678 -0.057018  0.773256   86.43  1.296969  5794.77366  1.933965   \n\n        OCFICR     INTSR  Cre  ...    TAEd     SEd  EC         TA  \\\n0     -0.72000   1.08000  6.0  ...   11.12   22.93   0  24.217976   \n1     84.83000   0.06000  6.0  ...  191.56   16.66   0  23.759990   \n2     -7.55000   0.10000  5.0  ...    7.55    5.38   0  23.878219   \n3     65.62000   0.13000  4.0  ...  145.59  143.79   0  23.691609   \n4  14990.27223  17.26348  9.0  ...   28.85   29.82   0  24.211416   \n\n   KRXC_private  KRXC_public  KRXC_black  Big4  AC  AO  \n0             1            0           0     0   1   1  \n1             1            0           0     0   1   1  \n2             1            0           0     0   0   0  \n3             1            0           0     0   1   0  \n4             1            0           0     0   1   1  \n\n[5 rows x 34 columns]",
      "text/html": "<div>\n<style scoped>\n    .dataframe tbody tr th:only-of-type {\n        vertical-align: middle;\n    }\n\n    .dataframe tbody tr th {\n        vertical-align: top;\n    }\n\n    .dataframe thead th {\n        text-align: right;\n    }\n</style>\n<table border=\"1\" class=\"dataframe\">\n  <thead>\n    <tr style=\"text-align: right;\">\n      <th></th>\n      <th>ARTOpc</th>\n      <th>APTOpc</th>\n      <th>ABDpc</th>\n      <th>CR</th>\n      <th>CRpc</th>\n      <th>DR</th>\n      <th>DRpc</th>\n      <th>OCFICR</th>\n      <th>INTSR</th>\n      <th>Cre</th>\n      <th>...</th>\n      <th>TAEd</th>\n      <th>SEd</th>\n      <th>EC</th>\n      <th>TA</th>\n      <th>KRXC_private</th>\n      <th>KRXC_public</th>\n      <th>KRXC_black</th>\n      <th>Big4</th>\n      <th>AC</th>\n      <th>AO</th>\n    </tr>\n  </thead>\n  <tbody>\n    <tr>\n      <th>0</th>\n      <td>-0.216645</td>\n      <td>-0.009839</td>\n      <td>0.000000</td>\n      <td>128.39</td>\n      <td>0.528223</td>\n      <td>361.81000</td>\n      <td>2.028765</td>\n      <td>-0.72000</td>\n      <td>1.08000</td>\n      <td>6.0</td>\n      <td>...</td>\n      <td>11.12</td>\n      <td>22.93</td>\n      <td>0</td>\n      <td>24.217976</td>\n      <td>1</td>\n      <td>0</td>\n      <td>0</td>\n      <td>0</td>\n      <td>1</td>\n      <td>1</td>\n    </tr>\n    <tr>\n      <th>1</th>\n      <td>-0.706949</td>\n      <td>2.679380</td>\n      <td>3.455094</td>\n      <td>110.07</td>\n      <td>0.718051</td>\n      <td>391.98000</td>\n      <td>2.635691</td>\n      <td>84.83000</td>\n      <td>0.06000</td>\n      <td>6.0</td>\n      <td>...</td>\n      <td>191.56</td>\n      <td>16.66</td>\n      <td>0</td>\n      <td>23.759990</td>\n      <td>1</td>\n      <td>0</td>\n      <td>0</td>\n      <td>0</td>\n      <td>1</td>\n      <td>1</td>\n    </tr>\n    <tr>\n      <th>2</th>\n      <td>-0.469072</td>\n      <td>1.632373</td>\n      <td>3.455094</td>\n      <td>128.86</td>\n      <td>1.170710</td>\n      <td>197.85000</td>\n      <td>0.504745</td>\n      <td>-7.55000</td>\n      <td>0.10000</td>\n      <td>5.0</td>\n      <td>...</td>\n      <td>7.55</td>\n      <td>5.38</td>\n      <td>0</td>\n      <td>23.878219</td>\n      <td>1</td>\n      <td>0</td>\n      <td>0</td>\n      <td>0</td>\n      <td>0</td>\n      <td>0</td>\n    </tr>\n    <tr>\n      <th>3</th>\n      <td>-0.011327</td>\n      <td>0.079725</td>\n      <td>3.455094</td>\n      <td>133.70</td>\n      <td>1.037560</td>\n      <td>136.43000</td>\n      <td>0.689563</td>\n      <td>65.62000</td>\n      <td>0.13000</td>\n      <td>4.0</td>\n      <td>...</td>\n      <td>145.59</td>\n      <td>143.79</td>\n      <td>0</td>\n      <td>23.691609</td>\n      <td>1</td>\n      <td>0</td>\n      <td>0</td>\n      <td>0</td>\n      <td>1</td>\n      <td>0</td>\n    </tr>\n    <tr>\n      <th>4</th>\n      <td>0.243678</td>\n      <td>-0.057018</td>\n      <td>0.773256</td>\n      <td>86.43</td>\n      <td>1.296969</td>\n      <td>5794.77366</td>\n      <td>1.933965</td>\n      <td>14990.27223</td>\n      <td>17.26348</td>\n      <td>9.0</td>\n      <td>...</td>\n      <td>28.85</td>\n      <td>29.82</td>\n      <td>0</td>\n      <td>24.211416</td>\n      <td>1</td>\n      <td>0</td>\n      <td>0</td>\n      <td>0</td>\n      <td>1</td>\n      <td>1</td>\n    </tr>\n  </tbody>\n</table>\n<p>5 rows × 34 columns</p>\n</div>"
     },
     "execution_count": 6,
     "metadata": {},
     "output_type": "execute_result"
    }
   ],
   "source": [
    "data.head()"
   ],
   "metadata": {
    "collapsed": false,
    "pycharm": {
     "name": "#%%\n"
    }
   }
  },
  {
   "cell_type": "markdown",
   "source": [
    "# 데이터를 train set 과 test set으로 나누기\n",
    "## - over sampling을 통해 불균형 데이터 문제 해결"
   ],
   "metadata": {
    "collapsed": false
   }
  },
  {
   "cell_type": "code",
   "execution_count": 7,
   "outputs": [],
   "source": [
    "# Use a utility from sklearn to split and shuffle our dataset.\n",
    "full_data = data.copy()\n",
    "y = full_data.pop('AO')\n",
    "X = full_data\n",
    "\n",
    "X_train, X_test, y_train, y_test = train_test_split(X, y, test_size = 0.3, random_state = 0,stratify=y)"
   ],
   "metadata": {
    "collapsed": false,
    "pycharm": {
     "name": "#%%\n"
    }
   }
  },
  {
   "cell_type": "code",
   "execution_count": 8,
   "outputs": [
    {
     "data": {
      "text/plain": "0    121621\n1      6990\nName: AO, dtype: int64"
     },
     "execution_count": 8,
     "metadata": {},
     "output_type": "execute_result"
    }
   ],
   "source": [
    "y_train.value_counts()"
   ],
   "metadata": {
    "collapsed": false,
    "pycharm": {
     "name": "#%%\n"
    }
   }
  },
  {
   "cell_type": "code",
   "execution_count": 9,
   "outputs": [],
   "source": [
    "from imblearn.over_sampling import *\n",
    "smote = SMOTE()\n",
    "X_train_over,y_train_over = smote.fit_resample(X_train,y_train)"
   ],
   "metadata": {
    "collapsed": false,
    "pycharm": {
     "name": "#%%\n"
    }
   }
  },
  {
   "cell_type": "markdown",
   "source": [
    "## 정확도, 재현율, auc 함수"
   ],
   "metadata": {
    "collapsed": false
   }
  },
  {
   "cell_type": "code",
   "execution_count": 10,
   "outputs": [],
   "source": [
    "from sklearn.metrics import accuracy_score, recall_score, roc_auc_score"
   ],
   "metadata": {
    "collapsed": false,
    "pycharm": {
     "name": "#%%\n"
    }
   }
  },
  {
   "cell_type": "code",
   "execution_count": 11,
   "outputs": [],
   "source": [
    "def get_clf_eval(y_test, pred):\n",
    "    accuracy = accuracy_score(y_test, pred)\n",
    "    recall = recall_score(y_test, pred)\n",
    "    auc = roc_auc_score(y_test, pred)\n",
    "    print('정확도: {:.2f}'.format(accuracy))\n",
    "    print('재현율: {:.2f}'.format(recall))\n",
    "    print('auc: {:.2f}'.format(auc))"
   ],
   "metadata": {
    "collapsed": false,
    "pycharm": {
     "name": "#%%\n"
    }
   }
  },
  {
   "cell_type": "markdown",
   "source": [
    "## Random Forest"
   ],
   "metadata": {
    "collapsed": false
   }
  },
  {
   "cell_type": "markdown",
   "source": [
    "#### raw dataset 정답 분포"
   ],
   "metadata": {
    "collapsed": false
   }
  },
  {
   "cell_type": "code",
   "execution_count": 12,
   "outputs": [
    {
     "name": "stdout",
     "output_type": "stream",
     "text": [
      "Examples:\n",
      "    Total: 183730\n",
      "    Positive: 9985 (5.43% of total)\n",
      "\n"
     ]
    }
   ],
   "source": [
    "neg, pos = np.bincount(y)\n",
    "total = neg + pos\n",
    "print('Examples:\\n    Total: {}\\n    Positive: {} ({:.2f}% of total)\\n'.format(\n",
    "    total, pos, 100 * pos / total))"
   ],
   "metadata": {
    "collapsed": false,
    "pycharm": {
     "name": "#%%\n"
    }
   }
  },
  {
   "cell_type": "code",
   "execution_count": 13,
   "outputs": [
    {
     "name": "stdout",
     "output_type": "stream",
     "text": [
      "정확도: 0.85\n",
      "재현율: 0.84\n",
      "auc: 0.84\n"
     ]
    }
   ],
   "source": [
    "# Random Forest w/ giving weights to classes\n",
    "weight_for_0 = (1 / neg)*(total)/2.0\n",
    "weight_for_1 = (1 / pos)*(total)/2.0\n",
    "\n",
    "class_weights = {0: weight_for_0, 1: weight_for_1}\n",
    "\n",
    "rf_clf = RandomForestClassifier(n_estimators = 500, max_depth = 7, class_weight=class_weights)\n",
    "rf_clf.fit(X_train, y_train)\n",
    "recall_rf = recall_score(y_test, rf_clf.predict(X_test))\n",
    "get_clf_eval(y_test, rf_clf.predict(X_test))"
   ],
   "metadata": {
    "collapsed": false,
    "pycharm": {
     "name": "#%%\n"
    }
   }
  },
  {
   "cell_type": "code",
   "execution_count": 14,
   "outputs": [
    {
     "name": "stdout",
     "output_type": "stream",
     "text": [
      "정확도: 0.95\n",
      "재현율: 0.09\n",
      "auc: 0.54\n"
     ]
    }
   ],
   "source": [
    "xgb_clf = XGBClassifier(booster='dart', rate_drop=0.2, alpha=0.5, eval_metric='logloss', n_estimators=200,\n",
    "                        max_depth=4, eta=0.2, colsample_bytree=0.9, subsample=0.8, max_delta_step = 1, use_label_encoder=False)\n",
    "xgb_clf.fit(X_train, y_train)\n",
    "recall_xgb = recall_score(y_test, xgb_clf.predict(X_test))\n",
    "get_clf_eval(y_test, xgb_clf.predict(X_test))"
   ],
   "metadata": {
    "collapsed": false,
    "pycharm": {
     "name": "#%%\n"
    }
   }
  },
  {
   "cell_type": "markdown",
   "source": [
    "#### over sampling 후 정답 분포"
   ],
   "metadata": {
    "collapsed": false
   }
  },
  {
   "cell_type": "code",
   "execution_count": 15,
   "outputs": [
    {
     "name": "stdout",
     "output_type": "stream",
     "text": [
      "Examples:\n",
      "    Total: 243242\n",
      "    Positive: 121621 (50.00% of total)\n",
      "\n"
     ]
    }
   ],
   "source": [
    "neg, pos = np.bincount(y_train_over)\n",
    "total = neg + pos\n",
    "print('Examples:\\n    Total: {}\\n    Positive: {} ({:.2f}% of total)\\n'.format(\n",
    "    total, pos, 100 * pos / total))"
   ],
   "metadata": {
    "collapsed": false,
    "pycharm": {
     "name": "#%%\n"
    }
   }
  },
  {
   "cell_type": "code",
   "execution_count": 16,
   "outputs": [
    {
     "name": "stdout",
     "output_type": "stream",
     "text": [
      "정확도: 0.87\n",
      "재현율: 0.81\n",
      "auc: 0.84\n"
     ]
    }
   ],
   "source": [
    "# Random Forest with oversampling(Smote)\n",
    "\n",
    "rf_clf2 = RandomForestClassifier(n_estimators = 500, max_depth = 7)\n",
    "rf_clf2.fit(X_train_over, y_train_over)\n",
    "recall_over_rf = recall_score(y_test, rf_clf2.predict(X_test))\n",
    "get_clf_eval(y_test, rf_clf2.predict(X_test))"
   ],
   "metadata": {
    "collapsed": false,
    "pycharm": {
     "name": "#%%\n"
    }
   }
  },
  {
   "cell_type": "code",
   "execution_count": 17,
   "outputs": [
    {
     "name": "stdout",
     "output_type": "stream",
     "text": [
      "정확도: 0.87\n",
      "재현율: 0.78\n",
      "auc: 0.83\n"
     ]
    }
   ],
   "source": [
    "xgb_clf = XGBClassifier(booster='dart', rate_drop=0.2, alpha=0.5, eval_metric='logloss', n_estimators=200,\n",
    "                        max_depth=4, eta=0.2, colsample_bytree=0.9, subsample=0.8, max_delta_step = 1, use_label_encoder=False)\n",
    "xgb_clf.fit(X_train_over, y_train_over)\n",
    "recall_over_xgb = recall_score(y_test, xgb_clf.predict(X_test))\n",
    "get_clf_eval(y_test, xgb_clf.predict(X_test))"
   ],
   "metadata": {
    "collapsed": false,
    "pycharm": {
     "name": "#%%\n"
    }
   }
  },
  {
   "cell_type": "markdown",
   "source": [
    "## 다중공선성 확인 후 컬럼 제거"
   ],
   "metadata": {
    "collapsed": false
   }
  },
  {
   "cell_type": "code",
   "execution_count": 18,
   "outputs": [
    {
     "data": {
      "text/plain": "<Figure size 720x720 with 2 Axes>",
      "image/png": "[encoded data removed]"
     },
     "metadata": {
      "needs_background": "light"
     },
     "output_type": "display_data"
    }
   ],
   "source": [
    "full_data = data.copy()\n",
    "full_data.drop('AO', axis = 1, inplace = True) # AO: 비적적여부 -> label\n",
    "corrMatrix = full_data.corr()\n",
    "plt.figure(figsize = (10,10))\n",
    "sns.heatmap(corrMatrix, xticklabels=True, yticklabels=True)\n",
    "plt.show()"
   ],
   "metadata": {
    "collapsed": false,
    "pycharm": {
     "name": "#%%\n"
    }
   }
  },
  {
   "cell_type": "code",
   "execution_count": 19,
   "outputs": [
    {
     "data": {
      "text/plain": "<Figure size 720x720 with 2 Axes>",
      "image/png": "[encoded data removed]"
     },
     "metadata": {
      "needs_background": "light"
     },
     "output_type": "display_data"
    }
   ],
   "source": [
    "cleaned_data = data.copy()\n",
    "# cleaned_data.drop(['KRXC_private', 'KRXC_black', 'AO'], axis = 1, inplace = True) # drop two of one-hot encoding columns and label\n",
    "cleaned_data.drop(['SGA', 'TATA', 'EBITOCFd','EC','Cre','Deppc','ROA','ROEpc','AQ', 'SGApc', 'SEd', 'Big4','AC','TA'], axis = 1, inplace=True) # drop columns according to the correlation matrix\n",
    "corrMatrix = cleaned_data.corr()\n",
    "plt.figure(figsize = (10,10))\n",
    "sns.heatmap(corrMatrix, xticklabels=True, yticklabels=True, vmin=-1, vmax=1)\n",
    "plt.show()"
   ],
   "metadata": {
    "collapsed": false,
    "pycharm": {
     "name": "#%%\n"
    }
   }
  },
  {
   "cell_type": "markdown",
   "source": [
    "# 데이터를 train set 과 test set으로 나누기\n",
    "## - over sampling을 통해 불균형 데이터 문제 해결"
   ],
   "metadata": {
    "collapsed": false
   }
  },
  {
   "cell_type": "code",
   "execution_count": 20,
   "outputs": [],
   "source": [
    "# Use a utility from sklearn to split and shuffle our dataset.\n",
    "\n",
    "y = cleaned_data.pop('AO')\n",
    "X = cleaned_data\n",
    "\n",
    "X_train, X_test, y_train, y_test = train_test_split(X, y, test_size = 0.3, random_state = 0,stratify=y) "
   ],
   "metadata": {
    "collapsed": false,
    "pycharm": {
     "name": "#%%\n"
    }
   }
  },
  {
   "cell_type": "code",
   "execution_count": 21,
   "outputs": [
    {
     "data": {
      "text/plain": "Index(['ARTOpc', 'APTOpc', 'ABDpc', 'CR', 'CRpc', 'DR', 'DRpc', 'OCFICR',\n       'INTSR', 'ROE', 'ROApc', 'Defi', 'SG', 'AQpc', 'TATApc', 'TAEd',\n       'KRXC_private', 'KRXC_public', 'KRXC_black'],\n      dtype='object')"
     },
     "execution_count": 21,
     "metadata": {},
     "output_type": "execute_result"
    }
   ],
   "source": [
    "X_train.columns"
   ],
   "metadata": {
    "collapsed": false,
    "pycharm": {
     "name": "#%%\n"
    }
   }
  },
  {
   "cell_type": "code",
   "execution_count": 22,
   "outputs": [],
   "source": [
    "from imblearn.over_sampling import SMOTE\n",
    "smote = SMOTE()\n",
    "X_train_over,y_train_over = smote.fit_resample(X_train,y_train)"
   ],
   "metadata": {
    "collapsed": false,
    "pycharm": {
     "name": "#%%\n"
    }
   }
  },
  {
   "cell_type": "markdown",
   "source": [
    "## Random Forest"
   ],
   "metadata": {
    "collapsed": false
   }
  },
  {
   "cell_type": "markdown",
   "source": [
    "#### raw dataset 정답 분포"
   ],
   "metadata": {
    "collapsed": false
   }
  },
  {
   "cell_type": "code",
   "execution_count": 23,
   "outputs": [
    {
     "name": "stdout",
     "output_type": "stream",
     "text": [
      "Examples:\n",
      "    Total: 183730\n",
      "    Positive: 9985 (5.43% of total)\n",
      "\n"
     ]
    }
   ],
   "source": [
    "neg, pos = np.bincount(y)\n",
    "total = neg + pos\n",
    "print('Examples:\\n    Total: {}\\n    Positive: {} ({:.2f}% of total)\\n'.format(\n",
    "    total, pos, 100 * pos / total))"
   ],
   "metadata": {
    "collapsed": false,
    "pycharm": {
     "name": "#%%\n"
    }
   }
  },
  {
   "cell_type": "code",
   "execution_count": 24,
   "outputs": [
    {
     "name": "stdout",
     "output_type": "stream",
     "text": [
      "정확도: 0.76\n",
      "재현율: 0.73\n",
      "auc: 0.74\n"
     ]
    }
   ],
   "source": [
    "# Random Forest w/ giving weights to classes\n",
    "weight_for_0 = (1 / neg)*(total)/2.0\n",
    "weight_for_1 = (1 / pos)*(total)/2.0\n",
    "\n",
    "class_weights = {0: weight_for_0, 1: weight_for_1}\n",
    "\n",
    "rf_clf = RandomForestClassifier(n_estimators = 500, max_depth = 7, class_weight=class_weights)\n",
    "rf_clf.fit(X_train, y_train)\n",
    "recall_processed_rf = recall_score(y_test, rf_clf.predict(X_test))\n",
    "get_clf_eval(y_test, rf_clf.predict(X_test))"
   ],
   "metadata": {
    "collapsed": false,
    "pycharm": {
     "name": "#%%\n"
    }
   }
  },
  {
   "cell_type": "code",
   "execution_count": 25,
   "outputs": [
    {
     "name": "stdout",
     "output_type": "stream",
     "text": [
      "정확도: 0.95\n",
      "재현율: 0.07\n",
      "auc: 0.54\n"
     ]
    }
   ],
   "source": [
    "xgb_clf = XGBClassifier(booster='dart', rate_drop=0.2, alpha=0.5, eval_metric='logloss', n_estimators=200,\n",
    "                        max_depth=4, eta=0.2, colsample_bytree=0.9, subsample=0.8, max_delta_step = 1, use_label_encoder=False)\n",
    "xgb_clf.fit(X_train, y_train)\n",
    "recall_processed_xgb = recall_score(y_test, xgb_clf.predict(X_test))\n",
    "get_clf_eval(y_test, xgb_clf.predict(X_test))"
   ],
   "metadata": {
    "collapsed": false,
    "pycharm": {
     "name": "#%%\n"
    }
   }
  },
  {
   "cell_type": "markdown",
   "source": [
    "#### over sampling 후 정답 분포"
   ],
   "metadata": {
    "collapsed": false
   }
  },
  {
   "cell_type": "code",
   "execution_count": 26,
   "outputs": [
    {
     "name": "stdout",
     "output_type": "stream",
     "text": [
      "Examples:\n",
      "    Total: 243242\n",
      "    Positive: 121621 (50.00% of total)\n",
      "\n"
     ]
    }
   ],
   "source": [
    "neg, pos = np.bincount(y_train_over)\n",
    "total = neg + pos\n",
    "print('Examples:\\n    Total: {}\\n    Positive: {} ({:.2f}% of total)\\n'.format(\n",
    "    total, pos, 100 * pos / total))"
   ],
   "metadata": {
    "collapsed": false,
    "pycharm": {
     "name": "#%%\n"
    }
   }
  },
  {
   "cell_type": "code",
   "execution_count": 28,
   "outputs": [
    {
     "name": "stdout",
     "output_type": "stream",
     "text": [
      "정확도: 0.78\n",
      "재현율: 0.67\n",
      "auc: 0.73\n"
     ]
    }
   ],
   "source": [
    "# Random Forest with oversampling(Smote)\n",
    "\n",
    "rf_clf = RandomForestClassifier(n_estimators = 500, max_depth = 7)\n",
    "rf_clf.fit(X_train_over, y_train_over)\n",
    "recall_processed_over_rf = recall_score(y_test, rf_clf.predict(X_test))\n",
    "get_clf_eval(y_test, rf_clf.predict(X_test))"
   ],
   "metadata": {
    "collapsed": false,
    "pycharm": {
     "name": "#%%\n"
    }
   }
  },
  {
   "cell_type": "code",
   "execution_count": 29,
   "outputs": [
    {
     "name": "stdout",
     "output_type": "stream",
     "text": [
      "정확도: 0.77\n",
      "재현율: 0.65\n",
      "auc: 0.72\n"
     ]
    }
   ],
   "source": [
    "xgb_clf = XGBClassifier(booster='dart', rate_drop=0.2, alpha=0.5, eval_metric='logloss', n_estimators=200,\n",
    "                        max_depth=4, eta=0.2, colsample_bytree=0.9, subsample=0.8, max_delta_step = 1, use_label_encoder=False)\n",
    "xgb_clf.fit(X_train_over, y_train_over)\n",
    "recall_processed_over_xgb = recall_score(y_test, xgb_clf.predict(X_test))\n",
    "get_clf_eval(y_test, xgb_clf.predict(X_test))"
   ],
   "metadata": {
    "collapsed": false,
    "pycharm": {
     "name": "#%%\n"
    }
   }
  },
  {
   "cell_type": "markdown",
   "source": [
    "### Result"
   ],
   "metadata": {
    "collapsed": false,
    "pycharm": {
     "name": "#%% md\n"
    }
   }
  },
  {
   "cell_type": "code",
   "execution_count": 30,
   "outputs": [
    {
     "data": {
      "text/plain": "<AxesSubplot:>"
     },
     "execution_count": 30,
     "metadata": {},
     "output_type": "execute_result"
    },
    {
     "data": {
      "text/plain": "<Figure size 432x288 with 1 Axes>",
      "image/png": "[encoded data removed]"
     },
     "metadata": {
      "needs_background": "light"
     },
     "output_type": "display_data"
    }
   ],
   "source": [
    "pd.DataFrame([recall_rf, recall_xgb, recall_over_rf, recall_over_xgb, recall_processed_rf, recall_processed_xgb, recall_processed_over_rf, recall_processed_over_xgb],\n",
    "             index = ['Random Forest', 'XGBoost', 'Random Forest(os)', 'XGBoost(os)','Random Forest(pro)', 'XGBoost(pro)', 'Random Forest(pro+os)', 'XGBoost(pro+os)'],\n",
    "             columns = ['Recall Score']).sort_values(by = 'Recall Score', ascending = False).plot(kind='barh', xlim = (0.6, 0.9), )"
   ],
   "metadata": {
    "collapsed": false,
    "pycharm": {
     "name": "#%%\n"
    }
   }
  },
  {
   "cell_type": "code",
   "execution_count": 35,
   "outputs": [
    {
     "data": {
      "text/plain": "                       Recall Score\nRandom Forest              0.840401\nRandom Forest(os)          0.805676\nXGBoost(os)                0.779633\nRandom Forest(pro)         0.732554\nRandom Forest(pro+os)      0.669449\nXGBoost(pro+os)            0.654758\nXGBoost                    0.086144\nXGBoost(pro)               0.071786",
      "text/html": "<div>\n<style scoped>\n    .dataframe tbody tr th:only-of-type {\n        vertical-align: middle;\n    }\n\n    .dataframe tbody tr th {\n        vertical-align: top;\n    }\n\n    .dataframe thead th {\n        text-align: right;\n    }\n</style>\n<table border=\"1\" class=\"dataframe\">\n  <thead>\n    <tr style=\"text-align: right;\">\n      <th></th>\n      <th>Recall Score</th>\n    </tr>\n  </thead>\n  <tbody>\n    <tr>\n      <th>Random Forest</th>\n      <td>0.840401</td>\n    </tr>\n    <tr>\n      <th>Random Forest(os)</th>\n      <td>0.805676</td>\n    </tr>\n    <tr>\n      <th>XGBoost(os)</th>\n      <td>0.779633</td>\n    </tr>\n    <tr>\n      <th>Random Forest(pro)</th>\n      <td>0.732554</td>\n    </tr>\n    <tr>\n      <th>Random Forest(pro+os)</th>\n      <td>0.669449</td>\n    </tr>\n    <tr>\n      <th>XGBoost(pro+os)</th>\n      <td>0.654758</td>\n    </tr>\n    <tr>\n      <th>XGBoost</th>\n      <td>0.086144</td>\n    </tr>\n    <tr>\n      <th>XGBoost(pro)</th>\n      <td>0.071786</td>\n    </tr>\n  </tbody>\n</table>\n</div>"
     },
     "execution_count": 35,
     "metadata": {},
     "output_type": "execute_result"
    }
   ],
   "source": [
    "pd.DataFrame([recall_rf, recall_xgb, recall_over_rf, recall_over_xgb, recall_processed_rf, recall_processed_xgb, recall_processed_over_rf, recall_processed_over_xgb],\n",
    "             index = ['Random Forest', 'XGBoost', 'Random Forest(os)', 'XGBoost(os)','Random Forest(pro)', 'XGBoost(pro)', 'Random Forest(pro+os)', 'XGBoost(pro+os)'],\n",
    "             columns = ['Recall Score']).sort_values(by = 'Recall Score', ascending = False)\n"
   ],
   "metadata": {
    "collapsed": false,
    "pycharm": {
     "name": "#%%\n"
    }
   }
  }
 ],
 "metadata": {
  "kernelspec": {
   "display_name": "Python 3",
   "language": "python",
   "name": "python3"
  },
  "language_info": {
   "codemirror_mode": {
    "name": "ipython",
    "version": 3
   },
   "file_extension": ".py",
   "mimetype": "text/x-python",
   "name": "python",
   "nbconvert_exporter": "python",
   "pygments_lexer": "ipython3",
   "version": "3.7.6"
  }
 },
 "nbformat": 4,
 "nbformat_minor": 4
}