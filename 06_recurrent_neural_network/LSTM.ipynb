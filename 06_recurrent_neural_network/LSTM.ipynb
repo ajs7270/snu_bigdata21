{
 "cells": [
  {
   "cell_type": "markdown",
   "metadata": {
    "collapsed": true,
    "pycharm": {
     "name": "#%% md\n"
    }
   },
   "source": [
    "# LSTM을 이용한 StackOverflow의 질문 수 예측"
   ]
  },
  {
   "cell_type": "markdown",
   "metadata": {
    "pycharm": {
     "name": "#%% md\n"
    }
   },
   "source": [
    "Dataset : MLTollsStackOverflow.csv (2009년 ~ 2019년 까지의 월별 stackoverflow 질문 수 데이터)\n",
    "\n",
    "출처 : https://www.kaggle.com/aishu200023/stackindex"
   ]
  },
  {
   "cell_type": "markdown",
   "metadata": {
    "pycharm": {
     "name": "#%% md\n"
    }
   },
   "source": [
    "### 연구 배경\n",
    "**이 연구는 [과제 3] 선형회귀를 이용한 데이터 분석에 이어 LSTM을 활용하여 질문수를 예측해 보았습니다. 따라서 데이터 전처리 과정은 [과제 3]을 활용하였습니다.**\n",
    "\n",
    "StackOverflow는 컴퓨터 공학 전공자들이 애용하는 대표적인 사이트 중 하나로 프로그래밍을 하기위한 지식 또는 에러, 심지어는 코드에 대한 직접적인 질문도 올라오는 사이트 중 하나입니다.\n",
    "이곳에 올라오는 질문 수를 통해 얼마나 컴퓨터공학 또는 프로그램밍에 대한 사람들의 관심이 높아져 왔는지를 확인할 수 있다고 생각하여 본 프로젝트를 준비해 보았습니다."
   ]
  },
  {
   "cell_type": "code",
   "execution_count": 299,
   "metadata": {
    "pycharm": {
     "name": "#%%\n"
    }
   },
   "outputs": [],
   "source": [
    "import numpy as np\n",
    "import pandas as pd\n",
    "import time\n",
    "import datetime"
   ]
  },
  {
   "cell_type": "code",
   "execution_count": 300,
   "metadata": {
    "pycharm": {
     "name": "#%%\n"
    }
   },
   "outputs": [
    {
     "data": {
      "text/plain": "    month  nltk  spacy  stanford-nlp  python   r  numpy  scipy  matlab  \\\n0  09-Jan     0      0             0     631   8      6      2      19   \n1  09-Feb     1      0             0     633   9      7      3      27   \n2  09-Mar     0      0             0     766   4      4      2      24   \n3  09-Apr     0      0             0     768  12      6      3      32   \n4  09-May     1      0             0    1003   2      7      2      42   \n\n   machine-learning  ...  Plato  Sympy  Flair  stanford-nlp.1  pyqt  Nolearn  \\\n0                 8  ...      0      1      0               0     5        0   \n1                 4  ...      0      0      0               0     5        0   \n2                 3  ...      0      0      0               0     7        0   \n3                10  ...      0      0      0               0    11        0   \n4                 7  ...      0      0      0               0    10        0   \n\n   Lasagne  OCR  Apache-spark-mlib  azure-virtual-machine  \n0        0    5                  0                      0  \n1        0   11                  0                      0  \n2        0    2                  0                      0  \n3        0    5                  0                      0  \n4        0    3                  0                      0  \n\n[5 rows x 82 columns]",
      "text/html": "<div>\n<style scoped>\n    .dataframe tbody tr th:only-of-type {\n        vertical-align: middle;\n    }\n\n    .dataframe tbody tr th {\n        vertical-align: top;\n    }\n\n    .dataframe thead th {\n        text-align: right;\n    }\n</style>\n<table border=\"1\" class=\"dataframe\">\n  <thead>\n    <tr style=\"text-align: right;\">\n      <th></th>\n      <th>month</th>\n      <th>nltk</th>\n      <th>spacy</th>\n      <th>stanford-nlp</th>\n      <th>python</th>\n      <th>r</th>\n      <th>numpy</th>\n      <th>scipy</th>\n      <th>matlab</th>\n      <th>machine-learning</th>\n      <th>...</th>\n      <th>Plato</th>\n      <th>Sympy</th>\n      <th>Flair</th>\n      <th>stanford-nlp.1</th>\n      <th>pyqt</th>\n      <th>Nolearn</th>\n      <th>Lasagne</th>\n      <th>OCR</th>\n      <th>Apache-spark-mlib</th>\n      <th>azure-virtual-machine</th>\n    </tr>\n  </thead>\n  <tbody>\n    <tr>\n      <th>0</th>\n      <td>09-Jan</td>\n      <td>0</td>\n      <td>0</td>\n      <td>0</td>\n      <td>631</td>\n      <td>8</td>\n      <td>6</td>\n      <td>2</td>\n      <td>19</td>\n      <td>8</td>\n      <td>...</td>\n      <td>0</td>\n      <td>1</td>\n      <td>0</td>\n      <td>0</td>\n      <td>5</td>\n      <td>0</td>\n      <td>0</td>\n      <td>5</td>\n      <td>0</td>\n      <td>0</td>\n    </tr>\n    <tr>\n      <th>1</th>\n      <td>09-Feb</td>\n      <td>1</td>\n      <td>0</td>\n      <td>0</td>\n      <td>633</td>\n      <td>9</td>\n      <td>7</td>\n      <td>3</td>\n      <td>27</td>\n      <td>4</td>\n      <td>...</td>\n      <td>0</td>\n      <td>0</td>\n      <td>0</td>\n      <td>0</td>\n      <td>5</td>\n      <td>0</td>\n      <td>0</td>\n      <td>11</td>\n      <td>0</td>\n      <td>0</td>\n    </tr>\n    <tr>\n      <th>2</th>\n      <td>09-Mar</td>\n      <td>0</td>\n      <td>0</td>\n      <td>0</td>\n      <td>766</td>\n      <td>4</td>\n      <td>4</td>\n      <td>2</td>\n      <td>24</td>\n      <td>3</td>\n      <td>...</td>\n      <td>0</td>\n      <td>0</td>\n      <td>0</td>\n      <td>0</td>\n      <td>7</td>\n      <td>0</td>\n      <td>0</td>\n      <td>2</td>\n      <td>0</td>\n      <td>0</td>\n    </tr>\n    <tr>\n      <th>3</th>\n      <td>09-Apr</td>\n      <td>0</td>\n      <td>0</td>\n      <td>0</td>\n      <td>768</td>\n      <td>12</td>\n      <td>6</td>\n      <td>3</td>\n      <td>32</td>\n      <td>10</td>\n      <td>...</td>\n      <td>0</td>\n      <td>0</td>\n      <td>0</td>\n      <td>0</td>\n      <td>11</td>\n      <td>0</td>\n      <td>0</td>\n      <td>5</td>\n      <td>0</td>\n      <td>0</td>\n    </tr>\n    <tr>\n      <th>4</th>\n      <td>09-May</td>\n      <td>1</td>\n      <td>0</td>\n      <td>0</td>\n      <td>1003</td>\n      <td>2</td>\n      <td>7</td>\n      <td>2</td>\n      <td>42</td>\n      <td>7</td>\n      <td>...</td>\n      <td>0</td>\n      <td>0</td>\n      <td>0</td>\n      <td>0</td>\n      <td>10</td>\n      <td>0</td>\n      <td>0</td>\n      <td>3</td>\n      <td>0</td>\n      <td>0</td>\n    </tr>\n  </tbody>\n</table>\n<p>5 rows × 82 columns</p>\n</div>"
     },
     "execution_count": 300,
     "metadata": {},
     "output_type": "execute_result"
    }
   ],
   "source": [
    "# data load\n",
    "df = pd.read_csv(\"MLTollsStackOverflow.csv\")\n",
    "df.head()"
   ]
  },
  {
   "cell_type": "code",
   "execution_count": 301,
   "metadata": {
    "pycharm": {
     "name": "#%%\n"
    }
   },
   "outputs": [
    {
     "data": {
      "text/plain": "    month  month_timestamp  questions\n0  09-Jan     1.230736e+09      832.0\n1  09-Feb     1.233414e+09      893.0\n2  09-Mar     1.235833e+09     1001.0\n3  09-Apr     1.238512e+09     1053.0\n4  09-May     1.241104e+09     1323.0",
      "text/html": "<div>\n<style scoped>\n    .dataframe tbody tr th:only-of-type {\n        vertical-align: middle;\n    }\n\n    .dataframe tbody tr th {\n        vertical-align: top;\n    }\n\n    .dataframe thead th {\n        text-align: right;\n    }\n</style>\n<table border=\"1\" class=\"dataframe\">\n  <thead>\n    <tr style=\"text-align: right;\">\n      <th></th>\n      <th>month</th>\n      <th>month_timestamp</th>\n      <th>questions</th>\n    </tr>\n  </thead>\n  <tbody>\n    <tr>\n      <th>0</th>\n      <td>09-Jan</td>\n      <td>1.230736e+09</td>\n      <td>832.0</td>\n    </tr>\n    <tr>\n      <th>1</th>\n      <td>09-Feb</td>\n      <td>1.233414e+09</td>\n      <td>893.0</td>\n    </tr>\n    <tr>\n      <th>2</th>\n      <td>09-Mar</td>\n      <td>1.235833e+09</td>\n      <td>1001.0</td>\n    </tr>\n    <tr>\n      <th>3</th>\n      <td>09-Apr</td>\n      <td>1.238512e+09</td>\n      <td>1053.0</td>\n    </tr>\n    <tr>\n      <th>4</th>\n      <td>09-May</td>\n      <td>1.241104e+09</td>\n      <td>1323.0</td>\n    </tr>\n  </tbody>\n</table>\n</div>"
     },
     "execution_count": 301,
     "metadata": {},
     "output_type": "execute_result"
    }
   ],
   "source": [
    "# 데이터 전처리\n",
    "def process_month(date: str):\n",
    "    # 선형회귀를 하기 위해서 timestamp data가 필요함\n",
    "    month = [\"Jan\", \"Feb\", \"Mar\", \"Apr\", \"May\", \"Jun\", \"Jul\", \"Aug\", \"Sep\", \"Oct\", \"Nov\", \"Dec\"]\n",
    "    for idx, m_str in enumerate(month):\n",
    "        date = date.replace(m_str, str(idx+1))\n",
    "    return time.mktime(datetime.datetime.strptime(date, \"%y-%m\").timetuple())\n",
    "\n",
    "month = df[\"month\"]\n",
    "month_timestamp = df['month'].apply(process_month)\n",
    "questions = df.iloc[:,1:].sum(axis=1) # 질문들의 수를 다 더해준다.\n",
    "processed_df = pd.concat([month, month_timestamp, questions], axis=1, keys=[\"month\", \"month_timestamp\", \"questions\"])\n",
    "processed_df.head()"
   ]
  },
  {
   "cell_type": "code",
   "execution_count": 302,
   "metadata": {
    "pycharm": {
     "name": "#%%\n"
    }
   },
   "outputs": [
    {
     "data": {
      "text/plain": "<AxesSubplot:xlabel='month'>"
     },
     "execution_count": 302,
     "metadata": {},
     "output_type": "execute_result"
    },
    {
     "data": {
      "text/plain": "<Figure size 432x288 with 1 Axes>",
      "image/png": "[encoded data removed]"
     },
     "metadata": {
      "needs_background": "light"
     },
     "output_type": "display_data"
    }
   ],
   "source": [
    "# 월별 질문 수 그래프\n",
    "processed_df.plot(x=\"month\", y=\"questions\")"
   ]
  },
  {
   "cell_type": "markdown",
   "source": [
    "## 데이터 셋 만들기"
   ],
   "metadata": {
    "collapsed": false,
    "pycharm": {
     "name": "#%% md\n"
    }
   }
  },
  {
   "cell_type": "code",
   "execution_count": 303,
   "metadata": {
    "pycharm": {
     "name": "#%%\n"
    }
   },
   "outputs": [],
   "source": [
    "from sklearn.linear_model import LinearRegression\n",
    "from sklearn.model_selection import train_test_split\n",
    "from sklearn.preprocessing import MinMaxScaler\n",
    "import torch\n",
    "from torch.utils.data import Dataset, DataLoader"
   ]
  },
  {
   "cell_type": "code",
   "execution_count": 304,
   "metadata": {
    "pycharm": {
     "name": "#%%\n"
    }
   },
   "outputs": [
    {
     "data": {
      "text/plain": "   month_timestamp  questions\n0         0.000000   0.000000\n1         0.007777   0.001191\n2         0.014802   0.003299\n3         0.022579   0.004314\n4         0.030105   0.009584",
      "text/html": "<div>\n<style scoped>\n    .dataframe tbody tr th:only-of-type {\n        vertical-align: middle;\n    }\n\n    .dataframe tbody tr th {\n        vertical-align: top;\n    }\n\n    .dataframe thead th {\n        text-align: right;\n    }\n</style>\n<table border=\"1\" class=\"dataframe\">\n  <thead>\n    <tr style=\"text-align: right;\">\n      <th></th>\n      <th>month_timestamp</th>\n      <th>questions</th>\n    </tr>\n  </thead>\n  <tbody>\n    <tr>\n      <th>0</th>\n      <td>0.000000</td>\n      <td>0.000000</td>\n    </tr>\n    <tr>\n      <th>1</th>\n      <td>0.007777</td>\n      <td>0.001191</td>\n    </tr>\n    <tr>\n      <th>2</th>\n      <td>0.014802</td>\n      <td>0.003299</td>\n    </tr>\n    <tr>\n      <th>3</th>\n      <td>0.022579</td>\n      <td>0.004314</td>\n    </tr>\n    <tr>\n      <th>4</th>\n      <td>0.030105</td>\n      <td>0.009584</td>\n    </tr>\n  </tbody>\n</table>\n</div>"
     },
     "execution_count": 304,
     "metadata": {},
     "output_type": "execute_result"
    },
    {
     "data": {
      "text/plain": "<Figure size 432x288 with 1 Axes>",
      "image/png": "[encoded data removed]"
     },
     "metadata": {
      "needs_background": "light"
     },
     "output_type": "display_data"
    }
   ],
   "source": [
    "# preprocessing for LSTM\n",
    "# 모델 학습이 수월하도록 정규화 수행 (Learning Dynamics를 높이기 위해서 정규화 수행)\n",
    "scaler = MinMaxScaler()\n",
    "scale_cols = [\"month_timestamp\",\"questions\"]\n",
    "scaled_df = pd.DataFrame(scaler.fit_transform(processed_df[scale_cols]))\n",
    "scaled_df.columns = scale_cols\n",
    "\n",
    "scaled_df.plot(x=\"month_timestamp\", y=\"questions\")\n",
    "scaled_df.head()"
   ]
  },
  {
   "cell_type": "markdown",
   "source": [],
   "metadata": {
    "collapsed": false,
    "pycharm": {
     "name": "#%% md\n"
    }
   }
  },
  {
   "cell_type": "markdown",
   "source": [
    "### Data Lodaer를 만들기 위한 두 가지 방법\n",
    "pytorch에서 학습을 위해 데이터를 가장 간단하게 가져오는 방법 중 하나는 Dataloader를 이용하는 것입니다.\n",
    "따라서 [과제 4]에서도 Dataloader를 활용하였고 이번 역시 [과제 4]와 동일한 방식으로 학습을 진행하기 위해 Dataloader를 만들었습니다.\n",
    "\n",
    "또한 sequential data를 처리하는 경우에는 하나의 현상을 input과 ouput으로 나누어야 학습을 진행시킬 수 있습니다.\n",
    "그렇기 때문에 데이터를 input과 output으로 분리하는 과정을 추가해야 하는데, 이를 두가지 관점으로 접근할 수 있습니다.\n",
    "첫번째 관점은 **객체지향적 관점**이고(방법 1), 두번째 관점은 **절차지향적 관점**(방법 2)입니다.\n",
    "\n",
    "(두 관점 모두 장단점이 있기 때문에, 두 관점 모두 구현해 보았습니다 :)"
   ],
   "metadata": {
    "collapsed": false,
    "pycharm": {
     "name": "#%% md\n"
    }
   }
  },
  {
   "cell_type": "code",
   "execution_count": 305,
   "outputs": [],
   "source": [
    "TEST_SIZE = 32\n",
    "# time-series data에서는 사실 input과 output의 구분은 없고, 결과만 있을 뿐이다\n",
    "# 따라서 input과 output을 구분하기 위해서는 과거 며칠을 기반으로 예측을 할지 정해주어야 한다. => window size\n",
    "WINDOW_SIZE = 15\n",
    "BATCH_SIZE = 2\n",
    "TRAIN_RATIO = 0.8\n",
    "SEED = 42\n",
    "\n",
    "# 학습과 테스트를 위한 데이터 셋 분리 (검증용)\n",
    "train_df = scaled_df[:-TEST_SIZE].copy()\n",
    "test_df = scaled_df[-TEST_SIZE:].copy()"
   ],
   "metadata": {
    "collapsed": false,
    "pycharm": {
     "name": "#%%\n"
    }
   }
  },
  {
   "cell_type": "markdown",
   "source": [
    "#### [방법 1] Dataset을 상속하여 구현하는 방법"
   ],
   "metadata": {
    "collapsed": false
   }
  },
  {
   "cell_type": "code",
   "execution_count": 306,
   "outputs": [
    {
     "name": "stdout",
     "output_type": "stream",
     "text": [
      "torch.Size([1, 15, 1]) torch.Size([1, 1])\n",
      "torch.Size([1, 15, 1]) torch.Size([1, 1])\n",
      "torch.Size([1, 15, 1]) torch.Size([1, 1])\n",
      "torch.Size([1, 15, 1]) torch.Size([1, 1])\n",
      "torch.Size([1, 15, 1]) torch.Size([1, 1])\n",
      "torch.Size([1, 15, 1]) torch.Size([1, 1])\n",
      "torch.Size([1, 15, 1]) torch.Size([1, 1])\n",
      "torch.Size([1, 15, 1]) torch.Size([1, 1])\n",
      "torch.Size([1, 15, 1]) torch.Size([1, 1])\n",
      "torch.Size([1, 15, 1]) torch.Size([1, 1])\n",
      "torch.Size([1, 15, 1]) torch.Size([1, 1])\n",
      "torch.Size([1, 15, 1]) torch.Size([1, 1])\n",
      "torch.Size([1, 15, 1]) torch.Size([1, 1])\n",
      "torch.Size([1, 15, 1]) torch.Size([1, 1])\n",
      "torch.Size([1, 15, 1]) torch.Size([1, 1])\n",
      "torch.Size([1, 15, 1]) torch.Size([1, 1])\n",
      "torch.Size([1, 15, 1]) torch.Size([1, 1])\n"
     ]
    }
   ],
   "source": [
    "class QuestionDataset(Dataset):\n",
    "    def __init__(self, data, window_size=15):\n",
    "        feature_cols = [\"month_timestamp\"]\n",
    "        label_cols = [\"questions\"]\n",
    "        self.inputs = data[feature_cols]\n",
    "        self.label = data[label_cols]\n",
    "        self.window_size = window_size\n",
    "\n",
    "    def __len__(self):\n",
    "        return len(self.inputs) - self.window_size\n",
    "\n",
    "    def __getitem__(self, idx):\n",
    "        # 참고 : input(x값)은 window 크기 만큼의 \"기간\"을 넣어줄 것입니다. (현재 x 데이터가 \"기간\" 밖에 없기 때문입니다.)\n",
    "        inputs = torch.zeros(self.window_size, 1)\n",
    "        for i in range(0, self.window_size):\n",
    "            inputs[i] = torch.tensor(self.inputs.iloc[idx+i])\n",
    "\n",
    "        # 참고 : target(y값)은 input의 포함된 달들 중 마지막 달의 다음 달의 question의 개수입니다.\n",
    "        #       예를들어, window size가 15이니 2009년 1월 ~ 2010년 3월까지의 데이터를 input(x)으로 넣고 2010년 4월의 question 개수(y)를 줍니다.\n",
    "        target = torch.tensor(self.label.iloc[idx + self.window_size])\n",
    "        return inputs.float(), target.float()\n",
    "\n",
    "def get_dataloader(dataset, batch_size=BATCH_SIZE):\n",
    "    # For Debugging\n",
    "    torch.manual_seed(42)\n",
    "\n",
    "    # train set과 validation set을 랜덤하게 할당\n",
    "    train_cnt = int(len(dataset) * TRAIN_RATIO)\n",
    "    val_cnt = len(dataset) - train_cnt\n",
    "\n",
    "    _train, _val = torch.utils.data.random_split(dataset, [train_cnt, val_cnt])\n",
    "\n",
    "    # data loader 만들기\n",
    "    _train_loader = DataLoader(_train, batch_size=batch_size, shuffle=True)\n",
    "    _valid_loader = DataLoader(_val, batch_size=1, shuffle=False)\n",
    "    return _train_loader, _valid_loader\n",
    "\n",
    "train_dataset = QuestionDataset(train_df, WINDOW_SIZE)\n",
    "test_dataset = QuestionDataset(test_df, WINDOW_SIZE)\n",
    "train_loader, valid_loader = get_dataloader(train_dataset)\n",
    "test_loader = DataLoader(test_dataset, batch_size=1, shuffle=False)\n",
    "\n",
    "# 데이터 확인\n",
    "for inputs, label in valid_loader:\n",
    "    print(inputs.shape, label.shape)"
   ],
   "metadata": {
    "collapsed": false,
    "pycharm": {
     "name": "#%%\n"
    }
   }
  },
  {
   "cell_type": "markdown",
   "source": [
    "#### [방법 2] 함수를 만들어 input과 output을 분리한 뒤 dataloader를 만드는 방법"
   ],
   "metadata": {
    "collapsed": false,
    "pycharm": {
     "name": "#%% md\n"
    }
   }
  },
  {
   "cell_type": "code",
   "execution_count": 232,
   "outputs": [
    {
     "name": "stdout",
     "output_type": "stream",
     "text": [
      "torch.Size([1, 15, 1]) torch.Size([1, 1])\n",
      "torch.Size([1, 15, 1]) torch.Size([1, 1])\n",
      "torch.Size([1, 15, 1]) torch.Size([1, 1])\n",
      "torch.Size([1, 15, 1]) torch.Size([1, 1])\n",
      "torch.Size([1, 15, 1]) torch.Size([1, 1])\n",
      "torch.Size([1, 15, 1]) torch.Size([1, 1])\n",
      "torch.Size([1, 15, 1]) torch.Size([1, 1])\n",
      "torch.Size([1, 15, 1]) torch.Size([1, 1])\n",
      "torch.Size([1, 15, 1]) torch.Size([1, 1])\n",
      "torch.Size([1, 15, 1]) torch.Size([1, 1])\n",
      "torch.Size([1, 15, 1]) torch.Size([1, 1])\n",
      "torch.Size([1, 15, 1]) torch.Size([1, 1])\n",
      "torch.Size([1, 15, 1]) torch.Size([1, 1])\n",
      "torch.Size([1, 15, 1]) torch.Size([1, 1])\n",
      "torch.Size([1, 15, 1]) torch.Size([1, 1])\n",
      "torch.Size([1, 15, 1]) torch.Size([1, 1])\n",
      "torch.Size([1, 15, 1]) torch.Size([1, 1])\n"
     ]
    }
   ],
   "source": [
    "# input과 output을 나누어 줌\n",
    "def make_dataset(data, label, window_size=15):\n",
    "    features = []\n",
    "    labels = []\n",
    "\n",
    "    for i in range(len(data) - window_size):\n",
    "        features.append(data.iloc[i:i+window_size]) # input(x)\n",
    "        labels.append(label.iloc[i+window_size]) # output(y)\n",
    "\n",
    "    return  np.array(features), np.array(labels)\n",
    "\n",
    "feature_cols = [\"month_timestamp\"]\n",
    "label_cols = [\"questions\"]\n",
    "\n",
    "#train_feature, train_label = make_dataset(scaled_df[feature_cols], scaled_df[label_cols], WINDOW_SIZE) # 미래 예측용(쓰지 않을 예정)\n",
    "train_feature, train_label = make_dataset(train_df[feature_cols], train_df[label_cols], WINDOW_SIZE) # (검증용)\n",
    "x_test, y_test = make_dataset(test_df[feature_cols], test_df[label_cols], WINDOW_SIZE)\n",
    "\n",
    "# 데이터 셋 만들기\n",
    "x_train, x_valid, y_train, y_valid = train_test_split(train_feature, train_label, test_size=0.2)\n",
    "train_dataset = torch.utils.data.TensorDataset(torch.Tensor(x_train).float(), torch.tensor(y_train).float())\n",
    "valid_dataset = torch.utils.data.TensorDataset(torch.Tensor(x_valid).float(), torch.tensor(y_valid).float())\n",
    "test_dataset = torch.utils.data.TensorDataset(torch.Tensor(x_test).float(), torch.tensor(y_test).float())\n",
    "\n",
    "# 데이터 로더 만들기\n",
    "train_loader = DataLoader(train_dataset, batch_size=BATCH_SIZE, shuffle=True)\n",
    "valid_loader = DataLoader(valid_dataset, batch_size=1, shuffle=False)\n",
    "test_loader = DataLoader(test_dataset, batch_size=1, shuffle=False)\n",
    "\n",
    "# 데이터 확인\n",
    "for inputs, label in valid_loader:\n",
    "    print(inputs.shape, label.shape)"
   ],
   "metadata": {
    "collapsed": false,
    "pycharm": {
     "name": "#%%\n"
    }
   }
  },
  {
   "cell_type": "markdown",
   "source": [
    "#### 모델 정의\n",
    "\n",
    "참고 : https://pytorch.org/docs/stable/generated/torch.nn.LSTM.html\n",
    "* Dataloader와 모델 사이의 차원을 맞추기 위해 참고하였습니다."
   ],
   "metadata": {
    "collapsed": false,
    "pycharm": {
     "name": "#%% md\n"
    }
   }
  },
  {
   "cell_type": "code",
   "execution_count": 364,
   "outputs": [],
   "source": [
    "import torch\n",
    "import torch.nn as nn"
   ],
   "metadata": {
    "collapsed": false,
    "pycharm": {
     "name": "#%%\n"
    }
   }
  },
  {
   "cell_type": "code",
   "execution_count": 365,
   "outputs": [],
   "source": [
    "HIDDEN_SIZE = 64\n",
    "NUM_LAYERS = 5\n",
    "INPUT_SIZE = 1 # feature들의 개수\n",
    "device = torch.device(\"cuda:0\" if torch.cuda.is_available() else \"cpu\")\n",
    "\n",
    "class QuestionLSTM(nn.Module):\n",
    "    def __init__(self, input_size=INPUT_SIZE, hidden_size=HIDDEN_SIZE, num_layers=NUM_LAYERS):\n",
    "        super(QuestionLSTM, self).__init__()\n",
    "        self.input_size = input_size\n",
    "        self.hidden_size = hidden_size\n",
    "        self.num_layers = num_layers\n",
    "\n",
    "        self.lstm = nn.LSTM(input_size=self.input_size,\n",
    "                            hidden_size=self.hidden_size,\n",
    "                            num_layers=self.num_layers,\n",
    "                            batch_first=True)\n",
    "        self.fc1 = nn.Linear(hidden_size, 32)\n",
    "        self.fc2 = nn.Linear(32, 1)\n",
    "        self.dropout = nn.Dropout(p=0.2)\n",
    "    def forward(self, x):\n",
    "\n",
    "        #h_0 = torch.zeros(self.num_layers, x.size(0), self.hidden_size).to(device) # [D * num_layers, N(batch_size), H]\n",
    "        #c_0 = torch.zeros(self.num_layers, x.size(0), self.hidden_size).to(device) # [D * num_layers, N, H]\n",
    "        #output, (h_n, c_n) = self.lstm,(x, (h_0, c_0)) # x : [N, L, H]\n",
    "\n",
    "        output, (h_n, c_n) = self.lstm(x) # x : [N, L, H]\n",
    "        h_out = output[:,-1,:]\n",
    "        out = self.fc1(h_out)\n",
    "        out = self.fc2(out)\n",
    "        out = self.dropout(out)\n",
    "\n",
    "        return out"
   ],
   "metadata": {
    "collapsed": false,
    "pycharm": {
     "name": "#%%\n"
    }
   }
  },
  {
   "cell_type": "markdown",
   "source": [
    "#### LSTM Trainer"
   ],
   "metadata": {
    "collapsed": false,
    "pycharm": {
     "name": "#%% md\n"
    }
   }
  },
  {
   "cell_type": "code",
   "execution_count": 366,
   "outputs": [],
   "source": [
    "import torch.optim as optim\n",
    "import torch.nn as nn\n",
    "import copy\n",
    "\n",
    "from torch.optim import lr_scheduler\n",
    "from fastprogress import progress_bar"
   ],
   "metadata": {
    "collapsed": false,
    "pycharm": {
     "name": "#%%\n"
    }
   }
  },
  {
   "cell_type": "code",
   "execution_count": 367,
   "outputs": [],
   "source": [
    "NUM_OF_EPOCH = 500\n",
    "\n",
    "model = QuestionLSTM(input_size=INPUT_SIZE, hidden_size=HIDDEN_SIZE, num_layers=NUM_LAYERS)\n",
    "model.to(device)\n",
    "\n",
    "optimizer = optim.Adam(model.parameters(), lr=0.001, weight_decay=1e-5)\n",
    "criterion = nn.MSELoss()\n",
    "scheduler = lr_scheduler.ReduceLROnPlateau(optimizer,  patience=500,factor =0.5 ,min_lr=1e-7, eps=1e-08)\n",
    "\n",
    "best_model_weights = copy.deepcopy(model.state_dict())\n",
    "best_loss = float(\"inf\")"
   ],
   "metadata": {
    "collapsed": false,
    "pycharm": {
     "name": "#%%\n"
    }
   }
  },
  {
   "cell_type": "code",
   "execution_count": 368,
   "outputs": [
    {
     "data": {
      "text/plain": "<IPython.core.display.HTML object>",
      "text/html": "\n    <div>\n        <style>\n            /* Turns off some styling */\n            progress {\n                /* gets rid of default border in Firefox and Opera. */\n                border: none;\n                /* Needs to be in here for Safari polyfill so background images work as expected. */\n                background-size: auto;\n            }\n            .progress-bar-interrupted, .progress-bar-interrupted::-webkit-progress-bar {\n                background: #F44336;\n            }\n        </style>\n      <progress value='0' class='' max='500' style='width:300px; height:20px; vertical-align: middle;'></progress>\n      \n    </div>\n    "
     },
     "metadata": {},
     "output_type": "display_data"
    },
    {
     "name": "stdout",
     "output_type": "stream",
     "text": [
      "Epoch 1/500 : train Loss: 0.0646 Valid Loss : 0.0249\n",
      "Epoch 11/500 : train Loss: 0.0345 Valid Loss : 0.0011\n",
      "Epoch 21/500 : train Loss: 0.0415 Valid Loss : 0.0036\n",
      "Epoch 31/500 : train Loss: 0.0284 Valid Loss : 0.0019\n",
      "Epoch 41/500 : train Loss: 0.0215 Valid Loss : 0.0035\n",
      "Epoch 51/500 : train Loss: 0.0308 Valid Loss : 0.0054\n",
      "Epoch 61/500 : train Loss: 0.0227 Valid Loss : 0.0047\n",
      "Epoch 71/500 : train Loss: 0.0321 Valid Loss : 0.0040\n",
      "Epoch 81/500 : train Loss: 0.0487 Valid Loss : 0.0024\n",
      "Epoch 91/500 : train Loss: 0.0192 Valid Loss : 0.0042\n",
      "Epoch 101/500 : train Loss: 0.0221 Valid Loss : 0.0023\n",
      "Epoch 111/500 : train Loss: 0.0338 Valid Loss : 0.0037\n",
      "Epoch 121/500 : train Loss: 0.0122 Valid Loss : 0.0027\n",
      "Epoch 131/500 : train Loss: 0.0255 Valid Loss : 0.0034\n",
      "Epoch 141/500 : train Loss: 0.0249 Valid Loss : 0.0030\n",
      "Epoch 151/500 : train Loss: 0.0290 Valid Loss : 0.0033\n",
      "Epoch 161/500 : train Loss: 0.0154 Valid Loss : 0.0033\n",
      "Epoch 171/500 : train Loss: 0.0425 Valid Loss : 0.0031\n",
      "Epoch 181/500 : train Loss: 0.0289 Valid Loss : 0.0032\n",
      "Epoch 191/500 : train Loss: 0.0212 Valid Loss : 0.0034\n",
      "Epoch 201/500 : train Loss: 0.0273 Valid Loss : 0.0034\n",
      "Epoch 211/500 : train Loss: 0.0116 Valid Loss : 0.0035\n",
      "Epoch 221/500 : train Loss: 0.0270 Valid Loss : 0.0031\n",
      "Epoch 231/500 : train Loss: 0.0338 Valid Loss : 0.0035\n",
      "Epoch 241/500 : train Loss: 0.0271 Valid Loss : 0.0031\n",
      "Epoch 251/500 : train Loss: 0.0522 Valid Loss : 0.0035\n",
      "Epoch 261/500 : train Loss: 0.0326 Valid Loss : 0.0034\n",
      "Epoch 271/500 : train Loss: 0.0264 Valid Loss : 0.0032\n",
      "Epoch 281/500 : train Loss: 0.0182 Valid Loss : 0.0033\n",
      "Epoch 291/500 : train Loss: 0.0233 Valid Loss : 0.0033\n",
      "Epoch 301/500 : train Loss: 0.0360 Valid Loss : 0.0034\n",
      "Epoch 311/500 : train Loss: 0.0442 Valid Loss : 0.0034\n",
      "Epoch 321/500 : train Loss: 0.0423 Valid Loss : 0.0034\n",
      "Epoch 331/500 : train Loss: 0.0535 Valid Loss : 0.0034\n",
      "Epoch 341/500 : train Loss: 0.0299 Valid Loss : 0.0034\n",
      "Epoch 351/500 : train Loss: 0.0446 Valid Loss : 0.0034\n",
      "Epoch 361/500 : train Loss: 0.0369 Valid Loss : 0.0034\n",
      "Epoch 371/500 : train Loss: 0.0146 Valid Loss : 0.0034\n",
      "Epoch 381/500 : train Loss: 0.0279 Valid Loss : 0.0034\n",
      "Epoch 391/500 : train Loss: 0.0488 Valid Loss : 0.0034\n",
      "Epoch 401/500 : train Loss: 0.0458 Valid Loss : 0.0034\n",
      "Epoch 411/500 : train Loss: 0.0188 Valid Loss : 0.0034\n",
      "Epoch 421/500 : train Loss: 0.0305 Valid Loss : 0.0034\n",
      "Epoch 431/500 : train Loss: 0.0318 Valid Loss : 0.0034\n",
      "Epoch 441/500 : train Loss: 0.0156 Valid Loss : 0.0034\n",
      "Epoch 451/500 : train Loss: 0.0210 Valid Loss : 0.0034\n",
      "Epoch 461/500 : train Loss: 0.0248 Valid Loss : 0.0034\n",
      "Epoch 471/500 : train Loss: 0.0445 Valid Loss : 0.0034\n",
      "Epoch 481/500 : train Loss: 0.0326 Valid Loss : 0.0034\n",
      "Epoch 491/500 : train Loss: 0.0330 Valid Loss : 0.0034\n",
      "Epoch 500/500 : train Loss: 0.0256 Valid Loss : 0.0034\n"
     ]
    }
   ],
   "source": [
    "for epoch in progress_bar(range(NUM_OF_EPOCH)):\n",
    "    model.train()\n",
    "\n",
    "    running_loss = 0.0\n",
    "    evaluation_loss = 0.0\n",
    "\n",
    "    for inputs, labels in train_loader:\n",
    "        inputs = inputs.to(device)\n",
    "        labels = labels.to(device)\n",
    "\n",
    "        optimizer.zero_grad() # 이전에 구했던 기울기를 0으로 초기화 함\n",
    "        outputs = model(inputs) # 네트워크를 통과시킴 => computational graph가 만들어짐\n",
    "        loss = criterion(outputs, labels)\n",
    "\n",
    "        # back-propagation\n",
    "        loss.backward()\n",
    "        optimizer.step()\n",
    "\n",
    "        running_loss += float(loss.item() * inputs.size(0))\n",
    "\n",
    "    # Evaluate on validation set\n",
    "    # 사실 이런 식으로(scheduler에 valdation loss를 주는 방식) validation set을\n",
    "    # 이용해 learning rate를 조정하면 validation set에 overfitting 될 수 있습니다.\n",
    "    # 따라서, 실제 모델의 성능을 측정하기 위해서는 test set을 사용해야 합니다.\n",
    "    model.eval()\n",
    "    with torch.no_grad():\n",
    "        for inputs, labels in valid_loader:\n",
    "            inputs = inputs.to(device)\n",
    "            labels = labels.to(device)\n",
    "\n",
    "            outputs = model(inputs)\n",
    "            loss = criterion(outputs, labels)\n",
    "            scheduler.step(loss)\n",
    "\n",
    "            evaluation_loss += float(loss.item() * inputs.size(0))\n",
    "\n",
    "    epoch_loss = running_loss / len(train_loader.dataset)\n",
    "    valid_loss = evaluation_loss / len(valid_loader.dataset)\n",
    "\n",
    "    if epoch_loss < best_loss:\n",
    "        best_loss = epoch_loss\n",
    "        best_model_weights = copy.deepcopy(model.state_dict())\n",
    "\n",
    "    if epoch % 10 == 0 or epoch == NUM_OF_EPOCH-1:\n",
    "        print('Epoch {}/{} : {} Loss: {:.4f} Valid Loss : {:.4f}'.format(\n",
    "            epoch + 1, NUM_OF_EPOCH, \"train\", epoch_loss, valid_loss),)\n"
   ],
   "metadata": {
    "collapsed": false,
    "pycharm": {
     "name": "#%%\n"
    }
   }
  },
  {
   "cell_type": "code",
   "execution_count": 370,
   "metadata": {
    "pycharm": {
     "name": "#%%\n"
    }
   },
   "outputs": [],
   "source": [
    "# save model weight\n",
    "torch.save(best_model_weights, './weights/best_weights.pth')"
   ]
  },
  {
   "cell_type": "markdown",
   "metadata": {
    "pycharm": {
     "name": "#%% md\n"
    }
   },
   "source": [
    "# 결과 확인"
   ]
  },
  {
   "cell_type": "code",
   "execution_count": 371,
   "outputs": [
    {
     "data": {
      "text/plain": "QuestionLSTM(\n  (lstm): LSTM(1, 64, num_layers=5, batch_first=True)\n  (fc1): Linear(in_features=64, out_features=32, bias=True)\n  (fc2): Linear(in_features=32, out_features=1, bias=True)\n  (dropout): Dropout(p=0.2, inplace=False)\n)"
     },
     "execution_count": 371,
     "metadata": {},
     "output_type": "execute_result"
    }
   ],
   "source": [
    "weight_path = './weights/best_weights.pth'\n",
    "\n",
    "device = torch.device(\"cuda:0\" if torch.cuda.is_available() else \"cpu\")\n",
    "\n",
    "# 모델 구성후 학습된 파라미터 로드\n",
    "model = QuestionLSTM(input_size=INPUT_SIZE, hidden_size=HIDDEN_SIZE, num_layers=NUM_LAYERS)\n",
    "model.load_state_dict(torch.load(weight_path))\n",
    "model.to(device)"
   ],
   "metadata": {
    "collapsed": false,
    "pycharm": {
     "name": "#%%\n"
    }
   }
  },
  {
   "cell_type": "code",
   "execution_count": 372,
   "outputs": [],
   "source": [
    "def predict(dataloader, model):\n",
    "    model.eval()\n",
    "    total_output = torch.tensor([]).to(device)\n",
    "\n",
    "    with torch.no_grad():\n",
    "        for inputs, labels in dataloader:\n",
    "            inputs = inputs.to(device)\n",
    "\n",
    "            outputs = model(inputs)\n",
    "\n",
    "            total_output = torch.cat((total_output, outputs), dim=0)\n",
    "\n",
    "    return total_output\n",
    "\n",
    "y_hat_col = \"Model predication\"\n",
    "_train_df = train_df.iloc[WINDOW_SIZE:].copy()\n",
    "#_train_df = train_df.loc[:, (\"month_timestamp\", \"questions\")]\n",
    "_test_df = test_df.iloc[WINDOW_SIZE:].copy()\n",
    "#_test_df = test_df.loc[WINDOW_SIZE:, (\"month_timestamp\", \"questions\")]\n",
    "\n",
    "_train_df[y_hat_col] = predict(DataLoader(train_dataset, batch_size=BATCH_SIZE, shuffle=False), model).cpu().numpy()\n",
    "_test_df[y_hat_col] = predict(test_loader, model).cpu().numpy()"
   ],
   "metadata": {
    "collapsed": false,
    "pycharm": {
     "name": "#%%\n"
    }
   }
  },
  {
   "cell_type": "code",
   "execution_count": 373,
   "outputs": [
    {
     "data": {
      "text/plain": "    month_timestamp  questions  Model predication\n15         0.114150   0.040953           0.049690\n16         0.121676   0.045170           0.051925\n17         0.129453   0.049406           0.054252\n18         0.136979   0.058600           0.056698\n19         0.144757   0.057721           0.059248",
      "text/html": "<div>\n<style scoped>\n    .dataframe tbody tr th:only-of-type {\n        vertical-align: middle;\n    }\n\n    .dataframe tbody tr th {\n        vertical-align: top;\n    }\n\n    .dataframe thead th {\n        text-align: right;\n    }\n</style>\n<table border=\"1\" class=\"dataframe\">\n  <thead>\n    <tr style=\"text-align: right;\">\n      <th></th>\n      <th>month_timestamp</th>\n      <th>questions</th>\n      <th>Model predication</th>\n    </tr>\n  </thead>\n  <tbody>\n    <tr>\n      <th>15</th>\n      <td>0.114150</td>\n      <td>0.040953</td>\n      <td>0.049690</td>\n    </tr>\n    <tr>\n      <th>16</th>\n      <td>0.121676</td>\n      <td>0.045170</td>\n      <td>0.051925</td>\n    </tr>\n    <tr>\n      <th>17</th>\n      <td>0.129453</td>\n      <td>0.049406</td>\n      <td>0.054252</td>\n    </tr>\n    <tr>\n      <th>18</th>\n      <td>0.136979</td>\n      <td>0.058600</td>\n      <td>0.056698</td>\n    </tr>\n    <tr>\n      <th>19</th>\n      <td>0.144757</td>\n      <td>0.057721</td>\n      <td>0.059248</td>\n    </tr>\n  </tbody>\n</table>\n</div>"
     },
     "execution_count": 373,
     "metadata": {},
     "output_type": "execute_result"
    }
   ],
   "source": [
    "_train_df.head()"
   ],
   "metadata": {
    "collapsed": false,
    "pycharm": {
     "name": "#%%\n"
    }
   }
  },
  {
   "cell_type": "code",
   "execution_count": 374,
   "outputs": [
    {
     "data": {
      "text/plain": "     month_timestamp  questions  Model predication\n115         0.877822   0.763083           0.617895\n116         0.885600   0.681060           0.623805\n117         0.893126   0.768373           0.629602\n118         0.900903   0.756408           0.635297\n119         0.908430   0.653243           0.640876\n120         0.916207   0.730680           0.646338\n121         0.923984   0.746647           0.651696\n122         0.931009   0.845986           0.656937\n123         0.938786   0.855551           0.662069\n124         0.946312   0.812157           0.667080\n125         0.954089   0.733549           0.671968\n126         0.961616   0.850026           0.676765\n127         0.969393   0.868883           0.681438\n128         0.977170   0.825041           0.686000\n129         0.984696   1.000000           0.690442\n130         0.992474   0.988444           0.694778\n131         1.000000   0.855414           0.698999",
      "text/html": "<div>\n<style scoped>\n    .dataframe tbody tr th:only-of-type {\n        vertical-align: middle;\n    }\n\n    .dataframe tbody tr th {\n        vertical-align: top;\n    }\n\n    .dataframe thead th {\n        text-align: right;\n    }\n</style>\n<table border=\"1\" class=\"dataframe\">\n  <thead>\n    <tr style=\"text-align: right;\">\n      <th></th>\n      <th>month_timestamp</th>\n      <th>questions</th>\n      <th>Model predication</th>\n    </tr>\n  </thead>\n  <tbody>\n    <tr>\n      <th>115</th>\n      <td>0.877822</td>\n      <td>0.763083</td>\n      <td>0.617895</td>\n    </tr>\n    <tr>\n      <th>116</th>\n      <td>0.885600</td>\n      <td>0.681060</td>\n      <td>0.623805</td>\n    </tr>\n    <tr>\n      <th>117</th>\n      <td>0.893126</td>\n      <td>0.768373</td>\n      <td>0.629602</td>\n    </tr>\n    <tr>\n      <th>118</th>\n      <td>0.900903</td>\n      <td>0.756408</td>\n      <td>0.635297</td>\n    </tr>\n    <tr>\n      <th>119</th>\n      <td>0.908430</td>\n      <td>0.653243</td>\n      <td>0.640876</td>\n    </tr>\n    <tr>\n      <th>120</th>\n      <td>0.916207</td>\n      <td>0.730680</td>\n      <td>0.646338</td>\n    </tr>\n    <tr>\n      <th>121</th>\n      <td>0.923984</td>\n      <td>0.746647</td>\n      <td>0.651696</td>\n    </tr>\n    <tr>\n      <th>122</th>\n      <td>0.931009</td>\n      <td>0.845986</td>\n      <td>0.656937</td>\n    </tr>\n    <tr>\n      <th>123</th>\n      <td>0.938786</td>\n      <td>0.855551</td>\n      <td>0.662069</td>\n    </tr>\n    <tr>\n      <th>124</th>\n      <td>0.946312</td>\n      <td>0.812157</td>\n      <td>0.667080</td>\n    </tr>\n    <tr>\n      <th>125</th>\n      <td>0.954089</td>\n      <td>0.733549</td>\n      <td>0.671968</td>\n    </tr>\n    <tr>\n      <th>126</th>\n      <td>0.961616</td>\n      <td>0.850026</td>\n      <td>0.676765</td>\n    </tr>\n    <tr>\n      <th>127</th>\n      <td>0.969393</td>\n      <td>0.868883</td>\n      <td>0.681438</td>\n    </tr>\n    <tr>\n      <th>128</th>\n      <td>0.977170</td>\n      <td>0.825041</td>\n      <td>0.686000</td>\n    </tr>\n    <tr>\n      <th>129</th>\n      <td>0.984696</td>\n      <td>1.000000</td>\n      <td>0.690442</td>\n    </tr>\n    <tr>\n      <th>130</th>\n      <td>0.992474</td>\n      <td>0.988444</td>\n      <td>0.694778</td>\n    </tr>\n    <tr>\n      <th>131</th>\n      <td>1.000000</td>\n      <td>0.855414</td>\n      <td>0.698999</td>\n    </tr>\n  </tbody>\n</table>\n</div>"
     },
     "execution_count": 374,
     "metadata": {},
     "output_type": "execute_result"
    }
   ],
   "source": [
    "_test_df"
   ],
   "metadata": {
    "collapsed": false,
    "pycharm": {
     "name": "#%%\n"
    }
   }
  },
  {
   "cell_type": "markdown",
   "source": [
    "## 결과 시각화"
   ],
   "metadata": {
    "collapsed": false,
    "pycharm": {
     "name": "#%% md\n"
    }
   }
  },
  {
   "cell_type": "code",
   "execution_count": 386,
   "metadata": {
    "pycharm": {
     "name": "#%%\n"
    }
   },
   "outputs": [
    {
     "data": {
      "text/plain": "    month_timestamp  questions  Model predication\n15         0.114150   0.040953           0.049690\n16         0.121676   0.045170           0.051925\n17         0.129453   0.049406           0.054252\n18         0.136979   0.058600           0.056698\n19         0.144757   0.057721           0.059248",
      "text/html": "<div>\n<style scoped>\n    .dataframe tbody tr th:only-of-type {\n        vertical-align: middle;\n    }\n\n    .dataframe tbody tr th {\n        vertical-align: top;\n    }\n\n    .dataframe thead th {\n        text-align: right;\n    }\n</style>\n<table border=\"1\" class=\"dataframe\">\n  <thead>\n    <tr style=\"text-align: right;\">\n      <th></th>\n      <th>month_timestamp</th>\n      <th>questions</th>\n      <th>Model predication</th>\n    </tr>\n  </thead>\n  <tbody>\n    <tr>\n      <th>15</th>\n      <td>0.114150</td>\n      <td>0.040953</td>\n      <td>0.049690</td>\n    </tr>\n    <tr>\n      <th>16</th>\n      <td>0.121676</td>\n      <td>0.045170</td>\n      <td>0.051925</td>\n    </tr>\n    <tr>\n      <th>17</th>\n      <td>0.129453</td>\n      <td>0.049406</td>\n      <td>0.054252</td>\n    </tr>\n    <tr>\n      <th>18</th>\n      <td>0.136979</td>\n      <td>0.058600</td>\n      <td>0.056698</td>\n    </tr>\n    <tr>\n      <th>19</th>\n      <td>0.144757</td>\n      <td>0.057721</td>\n      <td>0.059248</td>\n    </tr>\n  </tbody>\n</table>\n</div>"
     },
     "execution_count": 386,
     "metadata": {},
     "output_type": "execute_result"
    }
   ],
   "source": [
    "total_df = pd.concat((_train_df, _test_df))\n",
    "total_df.head()"
   ]
  },
  {
   "cell_type": "code",
   "execution_count": 385,
   "outputs": [
    {
     "data": {
      "text/plain": "<AxesSubplot:xlabel='month_timestamp'>"
     },
     "execution_count": 385,
     "metadata": {},
     "output_type": "execute_result"
    },
    {
     "data": {
      "text/plain": "<Figure size 432x288 with 1 Axes>",
      "image/png": "[encoded data removed]"
     },
     "metadata": {
      "needs_background": "light"
     },
     "output_type": "display_data"
    }
   ],
   "source": [
    "# 실제 그래프\n",
    "total_df.plot(x=\"month_timestamp\", y=[\"questions\",\"Model predication\"])"
   ],
   "metadata": {
    "collapsed": false,
    "pycharm": {
     "name": "#%%\n"
    }
   }
  },
  {
   "cell_type": "markdown",
   "source": [
    "## 간단한 분석\n",
    "* 데이터셋의 크기가 조금 더 컸다면 좀 더 큰 window size를 정할 수 있어서 정확도가 올라갈 것이라고 생각합니다.\n",
    "* 시각화 해봤을 때 비교적 결과가 Deterministic 했기 때문에 CNN을 같이 활용했으면 조금 더 좋은 결과가 나올 수 있었을 것이라고 생각합니다.(이번 과제는 RNN 과제이기 때문에 CNN을 활용하지 않았습니다)"
   ],
   "metadata": {
    "collapsed": false,
    "pycharm": {
     "name": "#%% md\n"
    }
   }
  }
 ],
 "metadata": {
  "kernelspec": {
   "display_name": "Python 3 (ipykernel)",
   "language": "python",
   "name": "python3"
  },
  "language_info": {
   "codemirror_mode": {
    "name": "ipython",
    "version": 3
   },
   "file_extension": ".py",
   "mimetype": "text/x-python",
   "name": "python",
   "nbconvert_exporter": "python",
   "pygments_lexer": "ipython3",
   "version": "3.8.6"
  }
 },
 "nbformat": 4,
 "nbformat_minor": 1
}